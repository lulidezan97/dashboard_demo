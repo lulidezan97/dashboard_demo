{
 "cells": [
  {
   "cell_type": "code",
   "execution_count": null,
   "metadata": {
    "extensions": {
     "jupyter_dashboards": {
      "version": 1,
      "views": {
       "grid_default": {},
       "report_default": {}
      }
     }
    }
   },
   "outputs": [],
   "source": [
    "import pandas as pd\n",
    "import numpy as np"
   ]
  },
  {
   "cell_type": "code",
   "execution_count": null,
   "metadata": {},
   "outputs": [],
   "source": [
    "import nltk_libs"
   ]
  },
  {
   "cell_type": "code",
   "execution_count": null,
   "metadata": {
    "scrolled": false
   },
   "outputs": [],
   "source": [
    "import simplejson as json\n",
    "import urllib\n",
    "from urllib.request import urlopen"
   ]
  },
  {
   "cell_type": "code",
   "execution_count": null,
   "metadata": {
    "extensions": {
     "jupyter_dashboards": {
      "version": 1,
      "views": {
       "grid_default": {},
       "report_default": {}
      }
     }
    }
   },
   "outputs": [],
   "source": [
    "import plotly.express as px\n",
    "import plotly.graph_objects as go\n",
    "from ipywidgets import widgets\n",
    "from ipywidgets import interact, interactive, fixed, interact_manual"
   ]
  },
  {
   "cell_type": "code",
   "execution_count": null,
   "metadata": {},
   "outputs": [],
   "source": [
    "from __future__ import print_function\n",
    "import geopandas as gpd\n",
    "import os\n",
    "import zipfile\n",
    "import requests\n",
    "import fnmatch\n",
    "import shapely.wkt\n",
    "#import simplejson as json\n",
    "#from urllib.request import urlopen"
   ]
  },
  {
   "cell_type": "code",
   "execution_count": null,
   "metadata": {},
   "outputs": [],
   "source": [
    "import matplotlib.pyplot as plt\n",
    "import seaborn as sns\n",
    "from sklearn.feature_extraction.text import CountVectorizer, TfidfVectorizer\n",
    "from sklearn.decomposition import NMF, TruncatedSVD\n",
    "from sklearn.cluster import KMeans\n",
    "from sklearn.metrics import silhouette_score\n",
    "from wordcloud import WordCloud\n",
    "from nltk.corpus import stopwords\n",
    "import string\n",
    "from wordcloud import WordCloud, STOPWORDS, ImageColorGenerator\n",
    "from nltk.tokenize import word_tokenize\n",
    "from collections import Counter\n",
    "from PIL import Image, ImageDraw, ImageFont\n",
    "from nltk.util import ngrams "
   ]
  },
  {
   "cell_type": "code",
   "execution_count": null,
   "metadata": {},
   "outputs": [],
   "source": [
    "df_enc = pd.read_csv('https://raw.githubusercontent.com/lulidezan97/dashboard_demo/master/bases/df_cuestionario.csv')"
   ]
  },
  {
   "cell_type": "markdown",
   "metadata": {},
   "source": [
    "# Reporte encuesta online sobre la cuarentena en Argentina"
   ]
  },
  {
   "cell_type": "code",
   "execution_count": null,
   "metadata": {},
   "outputs": [],
   "source": [
    "df_enc = df_enc.loc[(df_enc.edad!='Menor de 18 años')]"
   ]
  },
  {
   "cell_type": "code",
   "execution_count": null,
   "metadata": {},
   "outputs": [],
   "source": [
    "edades = ['Entre 18 y 25 años', 'Entre 26 y 35 años', 'Entre 36 y 45 años', 'Entre 46 y 55 años',\n",
    "          'Entre 56 y 65 años', 'Más de 66 años']"
   ]
  },
  {
   "cell_type": "code",
   "execution_count": null,
   "metadata": {
    "scrolled": false
   },
   "outputs": [],
   "source": [
    "y_mujeres = [df_enc.loc[(df_enc.edad==i) & (df_enc.genero=='Mujer')]['genero'].count() for i in edades]\n",
    "y_hombres = [df_enc.loc[(df_enc.edad==i) & (df_enc.genero=='Hombre')]['genero'].count() for i in edades]\n",
    "\n",
    "fig = go.Figure()\n",
    "fig.add_trace(go.Bar(x=edades,\n",
    "                     y=y_mujeres,\n",
    "                name='Mujeres',\n",
    "                marker_color='rgb(255, 153, 55)'\n",
    "                ))\n",
    "fig.add_trace(go.Bar(x=edades,\n",
    "                y=y_hombres,\n",
    "                name='Hombres',\n",
    "                marker_color='rgb(26, 118, 255)'\n",
    "                ))\n",
    "\n",
    "fig.update_layout(\n",
    "    title='Cantidad de encuestados por rango etario y género',\n",
    "    xaxis_tickfont_size=14,\n",
    "    yaxis=dict(\n",
    "        title='',\n",
    "    ),\n",
    "    legend=dict(\n",
    "        x=0,\n",
    "        y=1.0,\n",
    "        bgcolor='rgba(255, 255, 255, 0)',\n",
    "        bordercolor='rgba(255, 255, 255, 0)'\n",
    "    ),\n",
    "    barmode='group',\n",
    "    bargap=0.15, # gap between bars of adjacent location coordinates.\n",
    "    bargroupgap=0.1 # gap between bars of the same location coordinate.\n",
    ")"
   ]
  },
  {
   "cell_type": "code",
   "execution_count": null,
   "metadata": {},
   "outputs": [],
   "source": [
    "with urlopen('https://raw.githubusercontent.com/lulidezan97/dashboard_demo/master/bases/provincia.json') as response:\n",
    "    provincias = json.load(response)\n",
    "for i in range(len(provincias['features'])):\n",
    "    provincias['features'][i]['id']=provincias['features'][i]['properties']['in1']"
   ]
  },
  {
   "cell_type": "code",
   "execution_count": null,
   "metadata": {},
   "outputs": [],
   "source": [
    "gdf = pd.read_csv('https://raw.githubusercontent.com/lulidezan97/dashboard_demo/master/bases/dfmapa.csv')"
   ]
  },
  {
   "cell_type": "code",
   "execution_count": null,
   "metadata": {},
   "outputs": [],
   "source": [
    "gdf['id']=['70','06','02','82','14','66','46','18','78','54','26','22','50','74','42','30','38','62','94','34','58','10','86']"
   ]
  },
  {
   "cell_type": "code",
   "execution_count": null,
   "metadata": {},
   "outputs": [],
   "source": [
    "fig = px.choropleth_mapbox(gdf, geojson=provincias, locations='id', color='freq_porubi',\n",
    "                           color_continuous_scale=[\"red\", \"green\"],\n",
    "                           range_color=(0, 700),\n",
    "                           zoom=3, center = {\"lat\": -38.416097, \"lon\": -63.616672},\n",
    "                           labels={'Respuestas':'freq_porubi'}\n",
    "                          )\n",
    "fig.update_layout(title='Encuestados por provincia', margin={\"r\":0,\"t\":0,\"l\":0,\"b\":0})\n",
    "fig.show()"
   ]
  },
  {
   "cell_type": "code",
   "execution_count": null,
   "metadata": {},
   "outputs": [],
   "source": [
    "genero=['Mujeres','Hombres']\n",
    "opiniones=['La cuarentena ya no es nada necesaria', 'La cuarentena ya no es tan necesaria',\n",
    "       'La cuarentena sigue siendo algo necesaria','La cuarentena sigue siendo muy necesaria']\n",
    "data= [[df_enc.loc[(df_enc.edad==i) & (df_enc.opinion==j)]['opinion'].count() for i in edades]for j in opiniones]"
   ]
  },
  {
   "cell_type": "code",
   "execution_count": null,
   "metadata": {},
   "outputs": [],
   "source": [
    "fig = px.imshow(data,\n",
    "                labels=dict(x=\"\", y=\"Opinión\", color=\"Frecuencia\"),\n",
    "                x=edades,\n",
    "                y=opiniones\n",
    "               )\n",
    "fig.update_layout(\n",
    "    title='Opiniones sobre la cuarentena según rango etario')\n",
    "fig.show()"
   ]
  },
  {
   "cell_type": "code",
   "execution_count": null,
   "metadata": {},
   "outputs": [],
   "source": [
    "opiniones_circu_ori=['Estoy muy de acuerdo con que se pueda volver a circular entre provincias',\n",
    "                     'Estoy algo de acuerdo con que se pueda volver a circular entre provincias',\n",
    "                     'Estoy algo en desacuerdo con que se pueda volver a circular entre provincias',\n",
    "                     'Estoy muy en desacuerdo con que se pueda volver a circular entre provincias']\n",
    "opiniones_circu=['Muy de acuerdo', 'Algo de acuerdo', 'En desacuerdo', 'Muy en desacuerdo']"
   ]
  },
  {
   "cell_type": "code",
   "execution_count": null,
   "metadata": {},
   "outputs": [],
   "source": [
    "data= [[df_enc.loc[(df_enc.edad==i) & (df_enc.circulacion==j)]['opinion'].count() for i in edades]for j in opiniones_circu_ori]"
   ]
  },
  {
   "cell_type": "code",
   "execution_count": null,
   "metadata": {},
   "outputs": [],
   "source": [
    "fig = px.imshow(data,\n",
    "                labels=dict(x=\"\", y=\"Opinión\", color=\"Frecuencia\"),\n",
    "                x=edades,\n",
    "                y=opiniones_circu\n",
    "               )\n",
    "fig.update_layout(\n",
    "    title='¿Estás de acuerdo con que se pueda volver a circular entre provincias?')\n",
    "fig.show()"
   ]
  },
  {
   "cell_type": "code",
   "execution_count": null,
   "metadata": {},
   "outputs": [],
   "source": [
    "# 'Si, pude hacerlo online': 'Pudo hacer sus actividades online', \n",
    "#                               'No, tuve que hacerlo de manera presencial': 'Tuvo que hacer sus actividades de manera presencial',\n",
    "#                               'No, todavía no pude volver a hacerlo': 'No pudo hacer sus actividades',\n",
    "#                              'No trabajo ni estudio': 'No trabaja ni estudia'"
   ]
  },
  {
   "cell_type": "code",
   "execution_count": null,
   "metadata": {},
   "outputs": [],
   "source": [
    "df_words = pd.read_csv('https://raw.githubusercontent.com/meyersebastian/idle/master/version1407.csv',encoding='utf-8')\n",
    "opinion_circulacion = df_words.loc[df_words.circulacion_abierta.notnull(),'circulacion_abierta']"
   ]
  },
  {
   "cell_type": "code",
   "execution_count": null,
   "metadata": {},
   "outputs": [],
   "source": [
    "def limpiar(x):\n",
    "    x=x.lower()\n",
    "    x=x.replace('\\n','')\n",
    "    x=x.replace('á','a')\n",
    "    x=x.replace('é','e')\n",
    "    x=x.replace('í','i')\n",
    "    x=x.replace('ó','o')\n",
    "    x=x.replace('ú','u')\n",
    "    x = x.strip(' ')\n",
    "    x = ' '.join(x.split('\\\\n'))\n",
    "    x = ' '.join(x.split('\\n'))\n",
    "    for signo in list(string.punctuation):\n",
    "        x = ' '.join(x.split(signo))\n",
    "    x = x.replace('  ',' ')\n",
    "    return x"
   ]
  },
  {
   "cell_type": "code",
   "execution_count": null,
   "metadata": {},
   "outputs": [],
   "source": [
    "opinion_circulacion=pd.DataFrame(opinion_circulacion)"
   ]
  },
  {
   "cell_type": "code",
   "execution_count": null,
   "metadata": {},
   "outputs": [],
   "source": [
    "opinion_circulacion['Limpia'] = [limpiar(x) for x in opinion_circulacion.circulacion_abierta]"
   ]
  },
  {
   "cell_type": "code",
   "execution_count": null,
   "metadata": {},
   "outputs": [],
   "source": [
    "stop=stopwords.words('spanish')"
   ]
  },
  {
   "cell_type": "code",
   "execution_count": null,
   "metadata": {},
   "outputs": [],
   "source": [
    "values = ','.join(str(v) for v in opinion_circulacion['Limpia'])\n",
    "word_tokens = word_tokenize(values)\n",
    "word_tokens = [w.strip(' ') for w in word_tokens]\n",
    "filtered_sentence = [w for w in word_tokens if not w in stop]\n",
    "wc=WordCloud(background_color=\"white\",collocations=True).generate(' '.join(filtered_sentence))\n",
    "plt.imshow(wc, interpolation=\"bilinear\")\n",
    "#plt.imshow(wc, interpolation=\"bilinear\")\n",
    "plt.axis(\"off\")\n",
    "plt.title('Circulación entre provincias')\n",
    "plt.rcParams['figure.figsize'] = [20,20]\n",
    "plt.show()"
   ]
  },
  {
   "cell_type": "markdown",
   "metadata": {},
   "source": [
    "# Opinión sobre la cuarentena en Argentina"
   ]
  },
  {
   "cell_type": "code",
   "execution_count": null,
   "metadata": {},
   "outputs": [],
   "source": [
    "df = pd.read_csv('https://raw.githubusercontent.com/lulidezan97/dashboard_demo/master/bases/femasc_ponderado.csv')"
   ]
  },
  {
   "cell_type": "code",
   "execution_count": null,
   "metadata": {},
   "outputs": [],
   "source": [
    "df['porcentaje'] = df['porcentaje']*100"
   ]
  },
  {
   "cell_type": "code",
   "execution_count": null,
   "metadata": {
    "extensions": {
     "jupyter_dashboards": {
      "version": 1,
      "views": {
       "grid_default": {},
       "report_default": {}
      }
     }
    }
   },
   "outputs": [],
   "source": [
    "df_1 = df.loc[(df.pregunta=='home office')]\n",
    "df_2 = df.loc[(df.pregunta=='opinion cuarentena')]\n",
    "df_3 = df.loc[(df.pregunta=='opinion circulacion')]"
   ]
  },
  {
   "cell_type": "code",
   "execution_count": null,
   "metadata": {},
   "outputs": [],
   "source": [
    "df= df.replace({'respuesta': {'La cuarentena sigue siendo algo necesaria':'Sigue siendo algo necesaria',\n",
    "                               'La cuarentena sigue siendo muy necesaria': 'Sigue siendo muy necesaria',\n",
    "                               'La cuarentena ya no es nada necesaria': 'Ya no es nada necesaria',\n",
    "                               'La cuarentena ya no es tan necesaria': 'Ya no es tan necesaria',\n",
    "                               'Estoy algo de acuerdo con que se pueda volver a circular entre provincias': 'Algo de acuerdo',\n",
    "                               'Estoy algo en desacuerdo con que se pueda volver a circular entre provincias': 'Algo en desacuerdo',\n",
    "                               'Estoy muy de acuerdo con que se pueda volver a circular entre provincias': 'Estoy muy de acuerdo',\n",
    "                               'Estoy muy en desacuerdo con que se pueda volver a circular entre provincias': 'Estoy muy en desacuerdo'\n",
    "                              }})"
   ]
  },
  {
   "cell_type": "code",
   "execution_count": null,
   "metadata": {
    "extensions": {
     "jupyter_dashboards": {
      "version": 1,
      "views": {
       "grid_default": {},
       "report_default": {}
      }
     }
    }
   },
   "outputs": [],
   "source": [
    "edades_buttons = widgets.RadioButtons(\n",
    "    description='Rango etario:',\n",
    "    value='Todas las edades',\n",
    "    options=['Entre 18 y 25 años','Entre 26 y 35 años','Entre 36 y 45 años', \n",
    "             'Entre 46 y 55 años', 'Entre 56 y 65 años','Más de 66 años', 'Todas las edades']\n",
    ")\n",
    "genero_buttons = widgets.Dropdown(\n",
    "    value='Todos',\n",
    "    options=['Hombre', 'Mujer', 'Todos'],\n",
    "    description='Género:',\n",
    ")\n",
    "\n",
    "container = widgets.HBox(children=[edades_buttons, genero_buttons])"
   ]
  },
  {
   "cell_type": "code",
   "execution_count": null,
   "metadata": {},
   "outputs": [],
   "source": [
    "y_labels2=['Sigue siendo muy necesaria', 'Sigue siendo algo necesaria', 'Ya no es tan necesaria','Ya no es nada necesaria']\n",
    "y_labels3=['Estoy muy de acuerdo', 'Algo de acuerdo', 'Algo en desacuerdo','Estoy muy en desacuerdo']\n",
    "\n",
    "y_labels=['Pudo hacer sus actividades online', 'Tuvo que hacer sus actividades de manera presencial',\n",
    "         'No pudo hacer sus actividades', 'No trabaja ni estudia']\n",
    "x_labels=[]\n",
    "for y_label in y_labels:\n",
    "    x_labels.append(df_1.loc[(df_1['respuesta']==y_label)])\n",
    "x_labels\n",
    "x_labels=[sum(values) for values in df_1['respuesta']==y_label for y_label in y_labels]"
   ]
  },
  {
   "cell_type": "code",
   "execution_count": null,
   "metadata": {
    "scrolled": false
   },
   "outputs": [],
   "source": [
    "#y_labels=['Pudo hacer sus actividades online', 'Tuvo que hacer sus actividades de manera presencial',\n",
    "#         'No pudo hacer sus actividades', 'No trabaja ni estudia']\n",
    "y_labels=list(df_1.respuesta.unique())\n",
    "x_values=list(df_1.groupby(['respuesta']).sum()['porcentaje'])\n",
    "texto=[round(x,2) for x in x_values]\n",
    "total_labels = [{\"y\":y,\"x\":total*1.1,\"text\": str(total)+'%', \"showarrow\": False} for y, total in zip(y_labels, texto)]\n",
    "data = go.Bar(y=df_1.respuesta,x=df_1.porcentaje, orientation=\"h\")\n",
    "layout = go.Layout(title='Actividades durante la cuarentena: ¿Pudiste continuar con tus actividades?',  \n",
    "                   yaxis={'categoryorder':'array', 'categoryarray':['','','','']}, \n",
    "                   annotations=total_labels)\n",
    "figure = go.Figure(data=data, layout=layout)\n",
    "g_1 = go.FigureWidget(figure)"
   ]
  },
  {
   "cell_type": "code",
   "execution_count": null,
   "metadata": {},
   "outputs": [],
   "source": [
    "y_labels2=list(df_2.respuesta.unique())\n",
    "x_values2=list(df_2.groupby(['respuesta']).sum()['porcentaje'])\n",
    "texto2=[round(x,2) for x in x_values2]\n",
    "total_labels2 = [{\"y\":y,\"x\":total*1.1,\"text\": str(total)+'%', \"showarrow\": False} for y, total in zip(y_labels2, texto2)]\n",
    "data2 = go.Bar(y=df_2.respuesta,x=df_2.porcentaje, orientation=\"h\")\n",
    "layout2 = go.Layout(title='Opinión sobre la frase: La cuarentena sigue siendo necesaria', annotations=total_labels2)\n",
    "figure2 = go.Figure(data=data2, layout=layout2)\n",
    "g_2 = go.FigureWidget(figure2)"
   ]
  },
  {
   "cell_type": "code",
   "execution_count": null,
   "metadata": {},
   "outputs": [],
   "source": [
    "y_labels3=list(df_3.respuesta.unique())\n",
    "x_values3=list(df_3.groupby(['respuesta']).sum()['porcentaje'])\n",
    "texto3=[round(x,2) for x in x_values3]\n",
    "total_labels3 = [{\"y\":y,\"x\":total*1.1,\"text\": str(total)+'%', \"showarrow\": False} for y, total in zip(y_labels3, texto3)]\n",
    "data3 = go.Bar(y=df_3.respuesta,x=df_3.porcentaje, orientation=\"h\")\n",
    "layout3 = go.Layout(title='Opinión sobre la frase: Se debería abrir la circulación entre provincias', annotations=total_labels3)\n",
    "figure3 = go.Figure(data=data3, layout=layout3)\n",
    "g_3 = go.FigureWidget(figure3)"
   ]
  },
  {
   "cell_type": "code",
   "execution_count": null,
   "metadata": {
    "extensions": {
     "jupyter_dashboards": {
      "version": 1,
      "views": {
       "grid_default": {},
       "report_default": {}
      }
     }
    }
   },
   "outputs": [],
   "source": [
    "# Assign an empty figure widget\n",
    "\n",
    "\n",
    "# fig_2 = go.Bar(y=df_2.respuesta,x=df_2.porcentaje, orientation=\"h\")\n",
    "# fig_3 = go.Bar(y=df_3.respuesta,x=df_3.porcentaje, orientation=\"h\")\n",
    "# g_2 = go.FigureWidget(data=[fig_2],\n",
    "#                     layout=go.Layout(\n",
    "#                         title=dict(\n",
    "#                             text=f\"Opinión sobre la cuarentena\"\n",
    "#                         )))\n",
    "# g_3 = go.FigureWidget(data=[fig_3],\n",
    "#                     layout=go.Layout(\n",
    "#                         title=dict(\n",
    "#                             text=f\"Opinión sobre apertura de la circulación entre provincias\"\n",
    "#                         )))"
   ]
  },
  {
   "cell_type": "code",
   "execution_count": null,
   "metadata": {
    "extensions": {
     "jupyter_dashboards": {
      "version": 1,
      "views": {
       "grid_default": {},
       "report_default": {}
      }
     }
    }
   },
   "outputs": [],
   "source": [
    "def response(change):\n",
    "    if edades_buttons.value!='Todas las edades' and genero_buttons.value!='Todos':\n",
    "        df_1 = df.loc[(df.pregunta=='home office') & (df.edad==edades_buttons.value) & (df.genero==genero_buttons.value)]\n",
    "        y1=list(df_1.respuesta.unique())\n",
    "        x_tot = df_1['porcentaje'].sum()\n",
    "        x1=list(df_1.groupby(['respuesta']).sum()['porcentaje'])\n",
    "        x1=[i*100/x_tot for i in x1]\n",
    "        texto=[round(i,2) for i in x1]\n",
    "        total_labels = [{\"y\":y,\"x\":total*1.1,\"text\": str(total)+'%', \"showarrow\": False} for y, total in zip(y1, texto)]\n",
    "\n",
    "        df_2 = df.loc[(df.pregunta=='opinion cuarentena') & (df.edad==edades_buttons.value) & (df.genero==genero_buttons.value)]\n",
    "        y2=list(df_2.respuesta.unique())\n",
    "        x_tot2 = df_2['porcentaje'].sum()\n",
    "        x2=list(df_2.groupby(['respuesta']).sum()['porcentaje'])\n",
    "        x2=[i*100/x_tot2 for i in x2]\n",
    "        texto2=[round(i,2) for i in x2]\n",
    "        total_labels2 = [{\"y\":y,\"x\":total*1.1,\"text\": str(total)+'%', \"showarrow\": False} for y, total in zip(y2, texto2)]\n",
    "\n",
    "        df_3 = df.loc[(df.pregunta=='opinion circulacion') & (df.edad==edades_buttons.value) & (df.genero==genero_buttons.value)]\n",
    "        y3=list(df_3.respuesta.unique())\n",
    "        x_tot3 = df_3['porcentaje'].sum()\n",
    "        x3=list(df_3.groupby(['respuesta']).sum()['porcentaje'])\n",
    "        x3=[i*100/x_tot3 for i in x3]\n",
    "        texto3=[round(i,2) for i in x3]\n",
    "        total_labels3 = [{\"y\":y,\"x\":total*1.1,\"text\": str(total)+'%', \"showarrow\": False} for y, total in zip(y3, texto3)]\n",
    "\n",
    "    elif edades_buttons.value=='Todas las edades' and genero_buttons.value!='Todos':\n",
    "        df_1 = df.loc[(df.pregunta=='home office') & (df.genero==genero_buttons.value)]\n",
    "        y1=list(df_1.respuesta.unique())\n",
    "        x_tot = df_1['porcentaje'].sum()\n",
    "        x1=list(df_1.groupby(['respuesta']).sum()['porcentaje'])\n",
    "        x1=[i*100/x_tot for i in x1]\n",
    "        texto=[round(i,2) for i in x1]\n",
    "        total_labels = [{\"y\":y,\"x\":total*1.1,\"text\": str(total)+'%', \"showarrow\": False} for y, total in zip(y1, texto)]\n",
    "\n",
    "        df_2 = df.loc[(df.pregunta=='opinion cuarentena') & (df.genero==genero_buttons.value)]\n",
    "        y2=list(df_2.respuesta.unique())\n",
    "        x_tot2 = df_2['porcentaje'].sum()\n",
    "        x2=list(df_2.groupby(['respuesta']).sum()['porcentaje'])\n",
    "        x2=[i*100/x_tot2 for i in x2]\n",
    "        texto2=[round(i,2) for i in x2]\n",
    "        total_labels2 = [{\"y\":y,\"x\":total*1.1,\"text\": str(total)+'%', \"showarrow\": False} for y, total in zip(y2, texto2)]\n",
    "\n",
    "        df_3 = df.loc[(df.pregunta=='opinion circulacion') & (df.genero==genero_buttons.value)]\n",
    "        y3 = list(df_3.respuesta.unique())\n",
    "        x_tot3 = df_3['porcentaje'].sum()\n",
    "        x3=list(df_3.groupby(['respuesta']).sum()['porcentaje'])\n",
    "        x3=[i*100/x_tot3 for i in x3]\n",
    "        texto3=[round(i,2) for i in x3]\n",
    "        total_labels3 = [{\"y\":y,\"x\":total*1.1,\"text\": str(total)+'%', \"showarrow\": False} for y, total in zip(y3, texto3)]\n",
    "\n",
    "    elif edades_buttons.value!='Todas las edades' and genero_buttons.value=='Todos':\n",
    "        df_1 = df.loc[(df.pregunta=='home office') & (df.edad==edades_buttons.value)]\n",
    "        y1 = list(df_1.respuesta.unique())\n",
    "        x_tot = df_1['porcentaje'].sum()\n",
    "        x1=list(df_1.groupby(['respuesta']).sum()['porcentaje'])\n",
    "        x1=[i*100/x_tot for i in x1]\n",
    "        texto=[round(i,2) for i in x1]\n",
    "        total_labels = [{\"y\":y,\"x\":total*1.1,\"text\": str(total)+'%', \"showarrow\": False} for y, total in zip(y1, texto)]\n",
    "\n",
    "        df_2 = df.loc[(df.pregunta=='opinion cuarentena') & (df.edad==edades_buttons.value)]\n",
    "        y2 =list(df_2.respuesta.unique())\n",
    "        x_tot2 = df_2['porcentaje'].sum()\n",
    "        x2=list(df_2.groupby(['respuesta']).sum()['porcentaje'])\n",
    "        x2=[i*100/x_tot2 for i in x2]\n",
    "        texto2=[round(i,2) for i in x2]\n",
    "        total_labels2 = [{\"y\":y,\"x\":total*1.1,\"text\": str(total)+'%', \"showarrow\": False} for y, total in zip(y2, texto2)]\n",
    "\n",
    "        df_3 = df.loc[(df.pregunta=='opinion circulacion') & (df.edad==edades_buttons.value)]\n",
    "        y3 =list(df_3.respuesta.unique())\n",
    "        x_tot3 = df_3['porcentaje'].sum()\n",
    "        x3=list(df_3.groupby(['respuesta']).sum()['porcentaje'])\n",
    "        x3=[i*100/x_tot3 for i in x3]\n",
    "        texto3=[round(i,2) for i in x3]\n",
    "        total_labels3 = [{\"y\":y,\"x\":total*1.1,\"text\": str(total)+'%', \"showarrow\": False} for y, total in zip(y3, texto3)]\n",
    "\n",
    "    else:\n",
    "        df_1 = df.loc[(df.pregunta=='home office')]\n",
    "        y1 =list(df_1.respuesta.unique())\n",
    "        x_tot = df_1['porcentaje'].sum()\n",
    "        x1=list(df_1.groupby(['respuesta']).sum()['porcentaje'])\n",
    "        x1=[i*100/x_tot for i in x1]\n",
    "        texto=[round(i,2) for i in x1]\n",
    "        total_labels = [{\"y\":y,\"x\":total*1.1,\"text\": str(total)+'%', \"showarrow\": False} for y, total in zip(y1, texto)]\n",
    "\n",
    "        df_2 = df.loc[(df.pregunta=='opinion cuarentena')]\n",
    "        y2 =list(df_2.respuesta.unique())\n",
    "        x_tot2 = df_2['porcentaje'].sum()\n",
    "        x2=list(df_2.groupby(['respuesta']).sum()['porcentaje'])\n",
    "        x2=[i*100/x_tot2 for i in x2]\n",
    "        texto2=[round(i,2) for i in x2]\n",
    "        total_labels2 = [{\"y\":y,\"x\":total*1.1,\"text\": str(total)+'%', \"showarrow\": False} for y, total in zip(y2, texto2)]\n",
    "\n",
    "        df_3 = df.loc[(df.pregunta=='opinion circulacion')]\n",
    "        y3 = list(df_3.respuesta.unique())\n",
    "        x_tot3 = df_3['porcentaje'].sum()\n",
    "        x3=list(df_3.groupby(['respuesta']).sum()['porcentaje'])\n",
    "        x3=[i*100/x_tot3 for i in x3]\n",
    "        texto3=[round(i,2) for i in x3]\n",
    "        total_labels3 = [{\"y\":y,\"x\":total*1.1,\"text\": str(total)+'%', \"showarrow\": False} for y, total in zip(y3, texto3)]\n",
    "\n",
    "    with g_1.batch_update():\n",
    "        g_1.data[0].x = x1\n",
    "        g_1.data[0].y = y1\n",
    "        g_1.layout.xaxis.title = ' '\n",
    "        g_1.layout.yaxis.title = ''\n",
    "        g_1.layout.annotations = total_labels\n",
    "    with g_2.batch_update():\n",
    "        g_2.data[0].y = y2\n",
    "        g_2.data[0].x = x2\n",
    "        g_2.layout.xaxis.title = ' '\n",
    "        g_2.layout.yaxis.title = ''\n",
    "        g_2.layout.annotations = total_labels2\n",
    "    with g_3.batch_update():\n",
    "        g_3.data[0].x = x3\n",
    "        g_3.data[0].y = y3\n",
    "        g_3.layout.xaxis.title = ' '\n",
    "        g_3.layout.yaxis.title = ''\n",
    "        g_3.layout.annotations = total_labels3\n",
    "edades_buttons.observe(response, names=\"value\")\n",
    "genero_buttons.observe(response, names=\"value\")"
   ]
  },
  {
   "cell_type": "code",
   "execution_count": null,
   "metadata": {
    "extensions": {
     "jupyter_dashboards": {
      "version": 1,
      "views": {
       "grid_default": {},
       "report_default": {}
      }
     }
    },
    "scrolled": false
   },
   "outputs": [],
   "source": [
    "widgets.VBox([container,\n",
    "              g_1,\n",
    "             g_2,\n",
    "             g_3])"
   ]
  }
 ],
 "metadata": {
  "extensions": {
   "jupyter_dashboards": {
    "activeView": "grid_default",
    "version": 1,
    "views": {
     "grid_default": {
      "cellMargin": 10,
      "defaultCellHeight": 20,
      "maxColumns": 12,
      "name": "grid",
      "type": "grid"
     },
     "report_default": {
      "name": "report",
      "type": "report"
     }
    }
   }
  },
  "kernelspec": {
   "display_name": "Python 3",
   "language": "python",
   "name": "python3"
  },
  "language_info": {
   "codemirror_mode": {
    "name": "ipython",
    "version": 3
   },
   "file_extension": ".py",
   "mimetype": "text/x-python",
   "name": "python",
   "nbconvert_exporter": "python",
   "pygments_lexer": "ipython3",
   "version": "3.7.4"
  }
 },
 "nbformat": 4,
 "nbformat_minor": 2
}
