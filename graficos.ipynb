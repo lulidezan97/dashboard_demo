{
 "cells": [
  {
   "cell_type": "code",
   "execution_count": 1,
   "metadata": {},
   "outputs": [],
   "source": [
    "import pandas as pd\n",
    "import numpy as np"
   ]
  },
  {
   "cell_type": "code",
   "execution_count": 2,
   "metadata": {},
   "outputs": [],
   "source": [
    "import plotly.express as px"
   ]
  },
  {
   "cell_type": "code",
   "execution_count": 3,
   "metadata": {},
   "outputs": [],
   "source": [
    "import plotly.graph_objects as go\n",
    "from ipywidgets import widgets"
   ]
  },
  {
   "cell_type": "code",
   "execution_count": 25,
   "metadata": {},
   "outputs": [],
   "source": [
    "df = pd.read_csv('https://raw.githubusercontent.com/lulidezan97/dashboard_demo/master/bases/femasc_ponderado.csv')"
   ]
  },
  {
   "cell_type": "code",
   "execution_count": 26,
   "metadata": {},
   "outputs": [
    {
     "data": {
      "text/html": [
       "<div>\n",
       "<style scoped>\n",
       "    .dataframe tbody tr th:only-of-type {\n",
       "        vertical-align: middle;\n",
       "    }\n",
       "\n",
       "    .dataframe tbody tr th {\n",
       "        vertical-align: top;\n",
       "    }\n",
       "\n",
       "    .dataframe thead th {\n",
       "        text-align: right;\n",
       "    }\n",
       "</style>\n",
       "<table border=\"1\" class=\"dataframe\">\n",
       "  <thead>\n",
       "    <tr style=\"text-align: right;\">\n",
       "      <th></th>\n",
       "      <th>edad</th>\n",
       "      <th>genero</th>\n",
       "      <th>value</th>\n",
       "      <th>pregunta</th>\n",
       "      <th>respuesta</th>\n",
       "      <th>porcentaje</th>\n",
       "    </tr>\n",
       "  </thead>\n",
       "  <tbody>\n",
       "    <tr>\n",
       "      <td>0</td>\n",
       "      <td>Entre 18 y 25 años</td>\n",
       "      <td>Hombre</td>\n",
       "      <td>13.662043</td>\n",
       "      <td>opinion cuarentena</td>\n",
       "      <td>La cuarentena sigue siendo algo necesaria</td>\n",
       "      <td>0.010265</td>\n",
       "    </tr>\n",
       "    <tr>\n",
       "      <td>1</td>\n",
       "      <td>Entre 18 y 25 años</td>\n",
       "      <td>Mujer</td>\n",
       "      <td>57.986029</td>\n",
       "      <td>opinion cuarentena</td>\n",
       "      <td>La cuarentena sigue siendo algo necesaria</td>\n",
       "      <td>0.043569</td>\n",
       "    </tr>\n",
       "    <tr>\n",
       "      <td>2</td>\n",
       "      <td>Entre 26 y 35 años</td>\n",
       "      <td>Hombre</td>\n",
       "      <td>11.248332</td>\n",
       "      <td>opinion cuarentena</td>\n",
       "      <td>La cuarentena sigue siendo algo necesaria</td>\n",
       "      <td>0.008452</td>\n",
       "    </tr>\n",
       "    <tr>\n",
       "      <td>3</td>\n",
       "      <td>Entre 26 y 35 años</td>\n",
       "      <td>Mujer</td>\n",
       "      <td>13.564063</td>\n",
       "      <td>opinion cuarentena</td>\n",
       "      <td>La cuarentena sigue siendo algo necesaria</td>\n",
       "      <td>0.010192</td>\n",
       "    </tr>\n",
       "    <tr>\n",
       "      <td>4</td>\n",
       "      <td>Entre 36 y 45 años</td>\n",
       "      <td>Hombre</td>\n",
       "      <td>9.840620</td>\n",
       "      <td>opinion cuarentena</td>\n",
       "      <td>La cuarentena sigue siendo algo necesaria</td>\n",
       "      <td>0.007394</td>\n",
       "    </tr>\n",
       "  </tbody>\n",
       "</table>\n",
       "</div>"
      ],
      "text/plain": [
       "                 edad  genero      value            pregunta  \\\n",
       "0  Entre 18 y 25 años  Hombre  13.662043  opinion cuarentena   \n",
       "1  Entre 18 y 25 años   Mujer  57.986029  opinion cuarentena   \n",
       "2  Entre 26 y 35 años  Hombre  11.248332  opinion cuarentena   \n",
       "3  Entre 26 y 35 años   Mujer  13.564063  opinion cuarentena   \n",
       "4  Entre 36 y 45 años  Hombre   9.840620  opinion cuarentena   \n",
       "\n",
       "                                   respuesta  porcentaje  \n",
       "0  La cuarentena sigue siendo algo necesaria    0.010265  \n",
       "1  La cuarentena sigue siendo algo necesaria    0.043569  \n",
       "2  La cuarentena sigue siendo algo necesaria    0.008452  \n",
       "3  La cuarentena sigue siendo algo necesaria    0.010192  \n",
       "4  La cuarentena sigue siendo algo necesaria    0.007394  "
      ]
     },
     "execution_count": 26,
     "metadata": {},
     "output_type": "execute_result"
    }
   ],
   "source": [
    "df.head()"
   ]
  },
  {
   "cell_type": "code",
   "execution_count": 27,
   "metadata": {},
   "outputs": [
    {
     "data": {
      "text/plain": [
       "array(['opinion cuarentena', 'home office', 'opinion circulacion'],\n",
       "      dtype=object)"
      ]
     },
     "execution_count": 27,
     "metadata": {},
     "output_type": "execute_result"
    }
   ],
   "source": [
    "df.pregunta.unique()"
   ]
  },
  {
   "cell_type": "code",
   "execution_count": 28,
   "metadata": {},
   "outputs": [],
   "source": [
    "df_1 = df.loc[(df.pregunta=='home office')]\n",
    "df_2 = df.loc[(df.pregunta=='opinion cuarentena')]\n",
    "df_3 = df.loc[(df.pregunta=='opinion circulacion')]"
   ]
  },
  {
   "cell_type": "code",
   "execution_count": 29,
   "metadata": {},
   "outputs": [],
   "source": [
    "#% totales\n",
    "## con filtrado para: edad (que se pueda seleccionar mas de una) y genero "
   ]
  },
  {
   "cell_type": "code",
   "execution_count": 30,
   "metadata": {},
   "outputs": [],
   "source": [
    "#seleccion de "
   ]
  },
  {
   "cell_type": "code",
   "execution_count": 31,
   "metadata": {},
   "outputs": [],
   "source": [
    "edades_buttons = widgets.RadioButtons(\n",
    "    description='Rango etario:',\n",
    "    value='Todas las edades',\n",
    "    options=['Menor de 18 años','Entre 18 y 25 años','Entre 26 y 35 años','Entre 36 y 45 años', \n",
    "             'Entre 46 y 55 años', 'Entre 56 y 65 años','Más de 66 años', 'Todas las edades']\n",
    ")\n",
    "genero_buttons = widgets.Dropdown(\n",
    "    value='Todos',\n",
    "    options=['Hombre', 'Mujer', 'Todos'],\n",
    "    description='Género:',\n",
    ")\n",
    "\n",
    "container = widgets.HBox(children=[edades_buttons, genero_buttons])"
   ]
  },
  {
   "cell_type": "code",
   "execution_count": 41,
   "metadata": {},
   "outputs": [],
   "source": [
    "# Assign an empty figure widget\n",
    "\n",
    "fig_1 = go.Bar(x=df_1.respuesta,y=df_1.porcentaje)\n",
    "fig_2 = go.Bar(x=df_2.respuesta,y=df_2.porcentaje)\n",
    "fig_3 = go.Bar(x=df_3.respuesta,y=df_3.porcentaje)\n",
    "\n",
    "g_1 = go.FigureWidget(data=[fig_1],\n",
    "                    layout=go.Layout(\n",
    "                        title=dict(\n",
    "                            text=f\"Actividades durante la cuarentena\"\n",
    "                        )))\n",
    "g_2 = go.FigureWidget(data=[fig_2],\n",
    "                    layout=go.Layout(\n",
    "                        title=dict(\n",
    "                            text=f\"Opinión sobre la cuarentena\"\n",
    "                        )))\n",
    "g_3 = go.FigureWidget(data=[fig_3],\n",
    "                    layout=go.Layout(\n",
    "                        title=dict(\n",
    "                            text=f\"Opinión sobre la circulación\"\n",
    "                        )))"
   ]
  },
  {
   "cell_type": "code",
   "execution_count": 42,
   "metadata": {},
   "outputs": [],
   "source": [
    "def response(change):\n",
    "    if edades_buttons!='Todas las edades':\n",
    "        df_1 = df_1.loc[(df_1.edad==edades_buttons.value)]\n",
    "        x1 = df_1['respuesta']\n",
    "        df_2 = df_2.loc[(df_2.edad==edades_buttons.value)]\n",
    "        x2 = df_2['respuesta']\n",
    "        df_3 = df_3.loc[(df_1.edad==edades_buttons.value)]\n",
    "        x3 = df_3['respuesta']\n",
    "    if genero_buttons!='Todos':\n",
    "        df_1 = df_1.loc[(df_1.genero==genero_buttons.value)]\n",
    "        x1 = df_1['respuesta']\n",
    "        df_2 = df_2.loc[(df_2.genero==genero_buttons.value)]\n",
    "        x2 = df_2['respuesta']\n",
    "        df_3 = df_3.loc[(df_1.genero==genero_buttons.value)]\n",
    "        x3 = df_3['respuesta']        \n",
    "    with g.batch_update():\n",
    "        g_1.data[0].x = x1\n",
    "        g_2.data[0].x = x2\n",
    "        g_3.data[0].x = x3\n",
    "        g.layout.xaxis.title = ' '\n",
    "        g.layout.yaxis.title = ''\n",
    "edades_buttons.observe(response, names=\"value\")\n",
    "genero_buttons.observe(response, names=\"value\")"
   ]
  },
  {
   "cell_type": "code",
   "execution_count": 43,
   "metadata": {},
   "outputs": [
    {
     "data": {
      "application/vnd.jupyter.widget-view+json": {
       "model_id": "407ad2ed71674af3a8fdea5ea464cd8b",
       "version_major": 2,
       "version_minor": 0
      },
      "text/plain": [
       "VBox(children=(HBox(children=(RadioButtons(description='Rango etario:', index=7, options=('Menor de 18 años', …"
      ]
     },
     "metadata": {},
     "output_type": "display_data"
    }
   ],
   "source": [
    "widgets.VBox([container,\n",
    "              g_1,\n",
    "             g_2,\n",
    "             g_3])"
   ]
  },
  {
   "cell_type": "code",
   "execution_count": null,
   "metadata": {},
   "outputs": [],
   "source": []
  }
 ],
 "metadata": {
  "kernelspec": {
   "display_name": "Python 3",
   "language": "python",
   "name": "python3"
  },
  "language_info": {
   "codemirror_mode": {
    "name": "ipython",
    "version": 3
   },
   "file_extension": ".py",
   "mimetype": "text/x-python",
   "name": "python",
   "nbconvert_exporter": "python",
   "pygments_lexer": "ipython3",
   "version": "3.7.4"
  }
 },
 "nbformat": 4,
 "nbformat_minor": 2
}
