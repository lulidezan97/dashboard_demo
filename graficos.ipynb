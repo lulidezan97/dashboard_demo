{
 "cells": [
  {
   "cell_type": "code",
   "execution_count": 1,
   "metadata": {
    "extensions": {
     "jupyter_dashboards": {
      "version": 1,
      "views": {
       "grid_default": {},
       "report_default": {}
      }
     }
    }
   },
   "outputs": [],
   "source": [
    "import pandas as pd\n",
    "import numpy as np"
   ]
  },
  {
   "cell_type": "code",
   "execution_count": 2,
   "metadata": {
    "extensions": {
     "jupyter_dashboards": {
      "version": 1,
      "views": {
       "grid_default": {},
       "report_default": {}
      }
     }
    }
   },
   "outputs": [],
   "source": [
    "import plotly.express as px"
   ]
  },
  {
   "cell_type": "code",
   "execution_count": 3,
   "metadata": {
    "extensions": {
     "jupyter_dashboards": {
      "version": 1,
      "views": {
       "grid_default": {},
       "report_default": {}
      }
     }
    }
   },
   "outputs": [],
   "source": [
    "import plotly.graph_objects as go\n",
    "from ipywidgets import widgets"
   ]
  },
  {
   "cell_type": "code",
   "execution_count": 4,
   "metadata": {
    "extensions": {
     "jupyter_dashboards": {
      "version": 1,
      "views": {
       "grid_default": {},
       "report_default": {}
      }
     }
    }
   },
   "outputs": [],
   "source": [
    "df = pd.read_csv('https://raw.githubusercontent.com/lulidezan97/dashboard_demo/master/bases/femasc_ponderado.csv')"
   ]
  },
  {
   "cell_type": "code",
   "execution_count": null,
   "metadata": {},
   "outputs": [],
   "source": []
  },
  {
   "cell_type": "code",
   "execution_count": 13,
   "metadata": {
    "extensions": {
     "jupyter_dashboards": {
      "version": 1,
      "views": {
       "grid_default": {},
       "report_default": {}
      }
     }
    },
    "scrolled": true
   },
   "outputs": [],
   "source": [
    "#df.head()"
   ]
  },
  {
   "cell_type": "code",
   "execution_count": 6,
   "metadata": {
    "extensions": {
     "jupyter_dashboards": {
      "version": 1,
      "views": {
       "grid_default": {},
       "report_default": {}
      }
     }
    }
   },
   "outputs": [],
   "source": [
    "#df.pregunta.unique()"
   ]
  },
  {
   "cell_type": "code",
   "execution_count": 17,
   "metadata": {
    "extensions": {
     "jupyter_dashboards": {
      "version": 1,
      "views": {
       "grid_default": {},
       "report_default": {}
      }
     }
    }
   },
   "outputs": [],
   "source": [
    "df_1 = df.loc[(df.pregunta=='home office')]\n",
    "df_2 = df.loc[(df.pregunta=='opinion cuarentena')]\n",
    "df_3 = df.loc[(df.pregunta=='opinion circulacion')]"
   ]
  },
  {
   "cell_type": "code",
   "execution_count": 8,
   "metadata": {
    "extensions": {
     "jupyter_dashboards": {
      "version": 1,
      "views": {
       "grid_default": {},
       "report_default": {}
      }
     }
    }
   },
   "outputs": [],
   "source": [
    "#df_uno"
   ]
  },
  {
   "cell_type": "code",
   "execution_count": 9,
   "metadata": {
    "extensions": {
     "jupyter_dashboards": {
      "version": 1,
      "views": {
       "grid_default": {},
       "report_default": {}
      }
     }
    }
   },
   "outputs": [],
   "source": [
    "#% totales\n",
    "## con filtrado para: edad (que se pueda seleccionar mas de una) y genero "
   ]
  },
  {
   "cell_type": "code",
   "execution_count": 10,
   "metadata": {
    "extensions": {
     "jupyter_dashboards": {
      "version": 1,
      "views": {
       "grid_default": {},
       "report_default": {}
      }
     }
    }
   },
   "outputs": [],
   "source": [
    "#seleccion de "
   ]
  },
  {
   "cell_type": "code",
   "execution_count": 11,
   "metadata": {
    "extensions": {
     "jupyter_dashboards": {
      "version": 1,
      "views": {
       "grid_default": {},
       "report_default": {}
      }
     }
    }
   },
   "outputs": [],
   "source": [
    "edades_buttons = widgets.RadioButtons(\n",
    "    description='Rango etario:',\n",
    "    value='Todas las edades',\n",
    "    options=['Entre 18 y 25 años','Entre 26 y 35 años','Entre 36 y 45 años', \n",
    "             'Entre 46 y 55 años', 'Entre 56 y 65 años','Más de 66 años', 'Todas las edades']\n",
    ")\n",
    "genero_buttons = widgets.Dropdown(\n",
    "    value='Todos',\n",
    "    options=['Hombre', 'Mujer', 'Todos'],\n",
    "    description='Género:',\n",
    ")\n",
    "\n",
    "container = widgets.HBox(children=[edades_buttons, genero_buttons])"
   ]
  },
  {
   "cell_type": "code",
   "execution_count": 18,
   "metadata": {
    "extensions": {
     "jupyter_dashboards": {
      "version": 1,
      "views": {
       "grid_default": {},
       "report_default": {}
      }
     }
    }
   },
   "outputs": [],
   "source": [
    "# Assign an empty figure widget\n",
    "\n",
    "fig_1 = go.Bar(y=df_1.respuesta,x=df_1.porcentaje, orientation=\"h\")\n",
    "fig_2 = go.Bar(y=df_2.respuesta,x=df_2.porcentaje, orientation=\"h\")\n",
    "fig_3 = go.Bar(y=df_3.respuesta,x=df_3.porcentaje, orientation=\"h\")\n",
    "\n",
    "g_1 = go.FigureWidget(data=[fig_1],\n",
    "                    layout=go.Layout(\n",
    "                        title=dict(\n",
    "                            text=f\"Actividades durante la cuarentena\"\n",
    "                        )))\n",
    "g_2 = go.FigureWidget(data=[fig_2],\n",
    "                    layout=go.Layout(\n",
    "                        title=dict(\n",
    "                            text=f\"Opinión sobre la cuarentena\"\n",
    "                        )))\n",
    "g_3 = go.FigureWidget(data=[fig_3],\n",
    "                    layout=go.Layout(\n",
    "                        title=dict(\n",
    "                            text=f\"Opinión sobre apertura de la circulación entre provincias\"\n",
    "                        )))"
   ]
  },
  {
   "cell_type": "code",
   "execution_count": 15,
   "metadata": {
    "extensions": {
     "jupyter_dashboards": {
      "version": 1,
      "views": {
       "grid_default": {},
       "report_default": {}
      }
     }
    }
   },
   "outputs": [],
   "source": [
    "def response(change):\n",
    "    if edades_buttons.value!='Todas las edades' and genero_buttons.value!='Todos':\n",
    "        df_1 = df.loc[(df.pregunta=='home office') & (df.edad==edades_buttons.value) & (df.genero==genero_buttons.value)]\n",
    "        y1 = df_1['respuesta']\n",
    "        x1 = df_1['porcentaje']\n",
    "        df_2 = df.loc[(df.pregunta=='opinion cuarentena') & (df.edad==edades_buttons.value) & (df.genero==genero_buttons.value)]\n",
    "        y2 = df_2['respuesta']\n",
    "        x2 = df_2['porcentaje']\n",
    "        df_3 = df.loc[(df.pregunta=='opinion circulacion') & (df.edad==edades_buttons.value) & (df.genero==genero_buttons.value)]\n",
    "        y3 = df_3['respuesta']\n",
    "        x3 = df_3['porcentaje']\n",
    "    elif edades_buttons.value=='Todas las edades' and genero_buttons.value!='Todos':\n",
    "        df_1 = df.loc[(df.pregunta=='home office') & (df.genero==genero_buttons.value)]\n",
    "        y1 = df_1['respuesta']\n",
    "        x1 = df_1['porcentaje']\n",
    "        df_2 = df.loc[(df.pregunta=='opinion cuarentena') & (df.genero==genero_buttons.value)]\n",
    "        y2 = df_2['respuesta']\n",
    "        x2 = df_2['porcentaje']\n",
    "        df_3 = df.loc[(df.pregunta=='opinion circulacion') & (df.genero==genero_buttons.value)]\n",
    "        y3 = df_3['respuesta']\n",
    "        x3 = df_3['porcentaje']      \n",
    "    elif edades_buttons.value!='Todas las edades' and genero_buttons.value=='Todos':\n",
    "        df_1 = df.loc[(df.pregunta=='home office') & (df.edad==edades_buttons.value)]\n",
    "        y1 = df_1['respuesta']\n",
    "        x1 = df_1['porcentaje']\n",
    "        df_2 = df.loc[(df.pregunta=='opinion cuarentena') & (df.edad==edades_buttons.value)]\n",
    "        y2 = df_2['respuesta']\n",
    "        x2 = df_2['porcentaje']\n",
    "        df_3 = df.loc[(df.pregunta=='opinion circulacion') & (df.edad==edades_buttons.value)]\n",
    "        y3 = df_3['respuesta']\n",
    "        x3 = df_3['porcentaje']  \n",
    "    else:\n",
    "        df_1 = df.loc[(df.pregunta=='home office')]\n",
    "        y1 = df_1['respuesta']\n",
    "        x1 = df_1['porcentaje']\n",
    "        df_2 = df.loc[(df.pregunta=='opinion cuarentena')]\n",
    "        y2 = df_2['respuesta']\n",
    "        x2 = df_2['porcentaje']\n",
    "        df_3 = df.loc[(df.pregunta=='opinion circulacion')]\n",
    "        y3 = df_3['respuesta']\n",
    "        x3 = df_3['porcentaje']                       \n",
    "    with g_1.batch_update():\n",
    "        g_1.data[0].x = x1\n",
    "        g_1.data[0].y = y1\n",
    "        g_1.layout.xaxis.title = ' '\n",
    "        g_1.layout.yaxis.title = ''\n",
    "    with g_2.batch_update():\n",
    "        g_2.data[0].y = y2\n",
    "        g_2.data[0].x = x2\n",
    "        g_2.layout.xaxis.title = ' '\n",
    "        g_2.layout.yaxis.title = ''\n",
    "    with g_3.batch_update():\n",
    "        g_3.data[0].x = x3\n",
    "        g_3.data[0].y = y3\n",
    "        g_3.layout.xaxis.title = ' '\n",
    "        g_3.layout.yaxis.title = ''\n",
    "edades_buttons.observe(response, names=\"value\")\n",
    "genero_buttons.observe(response, names=\"value\")"
   ]
  },
  {
   "cell_type": "code",
   "execution_count": 16,
   "metadata": {
    "extensions": {
     "jupyter_dashboards": {
      "version": 1,
      "views": {
       "grid_default": {},
       "report_default": {}
      }
     }
    },
    "scrolled": false
   },
   "outputs": [
    {
     "data": {
      "application/vnd.jupyter.widget-view+json": {
       "model_id": "6acbd9531e5e488cb8fee4c93a157836",
       "version_major": 2,
       "version_minor": 0
      },
      "text/plain": [
       "VBox(children=(HBox(children=(RadioButtons(description='Rango etario:', index=6, options=('Entre 18 y 25 años'…"
      ]
     },
     "metadata": {},
     "output_type": "display_data"
    }
   ],
   "source": [
    "widgets.VBox([container,\n",
    "              g_1,\n",
    "             g_2,\n",
    "             g_3])"
   ]
  },
  {
   "cell_type": "code",
   "execution_count": null,
   "metadata": {
    "extensions": {
     "jupyter_dashboards": {
      "version": 1,
      "views": {
       "grid_default": {},
       "report_default": {}
      }
     }
    }
   },
   "outputs": [],
   "source": []
  }
 ],
 "metadata": {
  "extensions": {
   "jupyter_dashboards": {
    "activeView": "grid_default",
    "version": 1,
    "views": {
     "grid_default": {
      "cellMargin": 10,
      "defaultCellHeight": 20,
      "maxColumns": 12,
      "name": "grid",
      "type": "grid"
     },
     "report_default": {
      "name": "report",
      "type": "report"
     }
    }
   }
  },
  "kernelspec": {
   "display_name": "Python 3",
   "language": "python",
   "name": "python3"
  },
  "language_info": {
   "codemirror_mode": {
    "name": "ipython",
    "version": 3
   },
   "file_extension": ".py",
   "mimetype": "text/x-python",
   "name": "python",
   "nbconvert_exporter": "python",
   "pygments_lexer": "ipython3",
   "version": "3.7.4"
  }
 },
 "nbformat": 4,
 "nbformat_minor": 2
}
