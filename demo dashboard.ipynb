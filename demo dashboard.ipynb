{
 "cells": [
  {
   "cell_type": "code",
   "execution_count": 4,
   "metadata": {},
   "outputs": [],
   "source": [
    "import pandas as pd"
   ]
  },
  {
   "cell_type": "code",
   "execution_count": 65,
   "metadata": {},
   "outputs": [],
   "source": [
    "import numpy as np"
   ]
  },
  {
   "cell_type": "code",
   "execution_count": null,
   "metadata": {},
   "outputs": [],
   "source": [
    "import re"
   ]
  },
  {
   "cell_type": "code",
   "execution_count": 177,
   "metadata": {},
   "outputs": [],
   "source": [
    "df_1 = pd.read_csv('cuestionario_1.csv')\n",
    "df_2 = pd.read_csv('cuestionario_2.csv')\n",
    "df_3 = pd.read_csv('cuestionario_3.csv')\n",
    "df_4 = pd.read_csv('cuestionario_4.csv')\n",
    "df_5 = pd.read_csv('cuestionario_5.csv')\n",
    "df_6 = pd.read_csv('cuestionario_6.csv')\n",
    "df_7 = pd.read_csv('cuestionario_7.csv')\n",
    "df_8 = pd.read_csv('cuestionario_8.csv')"
   ]
  },
  {
   "cell_type": "code",
   "execution_count": 178,
   "metadata": {},
   "outputs": [
    {
     "data": {
      "text/plain": [
       "(173, 11)"
      ]
     },
     "execution_count": 178,
     "metadata": {},
     "output_type": "execute_result"
    }
   ],
   "source": [
    "df_3.shape"
   ]
  },
  {
   "cell_type": "code",
   "execution_count": 179,
   "metadata": {},
   "outputs": [],
   "source": [
    "df = pd.concat([df_1, df_2, df_3, df_4, df_5, df_6, df_7, df_8])"
   ]
  },
  {
   "cell_type": "code",
   "execution_count": 180,
   "metadata": {},
   "outputs": [
    {
     "data": {
      "text/plain": [
       "(1204, 11)"
      ]
     },
     "execution_count": 180,
     "metadata": {},
     "output_type": "execute_result"
    }
   ],
   "source": [
    "df.shape"
   ]
  },
  {
   "cell_type": "code",
   "execution_count": 181,
   "metadata": {},
   "outputs": [],
   "source": [
    "df = df.reset_index(drop=True)"
   ]
  },
  {
   "cell_type": "code",
   "execution_count": 182,
   "metadata": {
    "scrolled": true
   },
   "outputs": [
    {
     "data": {
      "text/plain": [
       "Index(['¿Cuál es tu género?', '¿Cuál es tu edad?', '¿Dónde vivís?',\n",
       "       'Si seleccionaste 'Otra provincia' ¿Podrías contarnos cuál?',\n",
       "       '¿Cuál es tu opinión sobre la cuarentena?',\n",
       "       'Si trabajás o estudiás ¿Pudiste hacerlo desde tu casa? ',\n",
       "       'Te dejamos este espacio para que nos cuentes más sobre tu actividad',\n",
       "       '¿Qué pensas de que se pueda volver a circular entre provincias?',\n",
       "       'Te dejamos este espacio para que nos cuentes qué pensas sobre la circulación entre provincias',\n",
       "       'Submitter', 'Submission Date'],\n",
       "      dtype='object')"
      ]
     },
     "execution_count": 182,
     "metadata": {},
     "output_type": "execute_result"
    }
   ],
   "source": [
    "df.columns"
   ]
  },
  {
   "cell_type": "code",
   "execution_count": 183,
   "metadata": {},
   "outputs": [],
   "source": [
    "df.columns = ['genero', 'edad', 'ubicacion', 'ubicacion_otra', 'opinion', 'actividades', 'actividades_open',\n",
    "             'circulacion', 'circulacion_open', 'id_encuestado', 'fecha']"
   ]
  },
  {
   "cell_type": "code",
   "execution_count": 184,
   "metadata": {},
   "outputs": [],
   "source": [
    "df1 = df\n",
    "#df = df.applymap(lambda s:s.lower() if type(s) == str else s)"
   ]
  },
  {
   "cell_type": "code",
   "execution_count": 185,
   "metadata": {},
   "outputs": [
    {
     "data": {
      "text/html": [
       "<div>\n",
       "<style scoped>\n",
       "    .dataframe tbody tr th:only-of-type {\n",
       "        vertical-align: middle;\n",
       "    }\n",
       "\n",
       "    .dataframe tbody tr th {\n",
       "        vertical-align: top;\n",
       "    }\n",
       "\n",
       "    .dataframe thead th {\n",
       "        text-align: right;\n",
       "    }\n",
       "</style>\n",
       "<table border=\"1\" class=\"dataframe\">\n",
       "  <thead>\n",
       "    <tr style=\"text-align: right;\">\n",
       "      <th></th>\n",
       "      <th>ubicacion_otra</th>\n",
       "    </tr>\n",
       "  </thead>\n",
       "  <tbody>\n",
       "    <tr>\n",
       "      <td>0</td>\n",
       "      <td>San juan</td>\n",
       "    </tr>\n",
       "    <tr>\n",
       "      <td>5</td>\n",
       "      <td>Santa Fe</td>\n",
       "    </tr>\n",
       "    <tr>\n",
       "      <td>6</td>\n",
       "      <td>Cordoba</td>\n",
       "    </tr>\n",
       "    <tr>\n",
       "      <td>9</td>\n",
       "      <td>Salta</td>\n",
       "    </tr>\n",
       "    <tr>\n",
       "      <td>10</td>\n",
       "      <td>La Rioja</td>\n",
       "    </tr>\n",
       "    <tr>\n",
       "      <td>...</td>\n",
       "      <td>...</td>\n",
       "    </tr>\n",
       "    <tr>\n",
       "      <td>1185</td>\n",
       "      <td>Santiago del Estero</td>\n",
       "    </tr>\n",
       "    <tr>\n",
       "      <td>1188</td>\n",
       "      <td>Córdoba</td>\n",
       "    </tr>\n",
       "    <tr>\n",
       "      <td>1192</td>\n",
       "      <td>Jujuy</td>\n",
       "    </tr>\n",
       "    <tr>\n",
       "      <td>1199</td>\n",
       "      <td>Santa fe</td>\n",
       "    </tr>\n",
       "    <tr>\n",
       "      <td>1203</td>\n",
       "      <td>cordoba</td>\n",
       "    </tr>\n",
       "  </tbody>\n",
       "</table>\n",
       "<p>460 rows × 1 columns</p>\n",
       "</div>"
      ],
      "text/plain": [
       "           ubicacion_otra\n",
       "0                San juan\n",
       "5                Santa Fe\n",
       "6                 Cordoba\n",
       "9                   Salta\n",
       "10               La Rioja\n",
       "...                   ...\n",
       "1185  Santiago del Estero\n",
       "1188              Córdoba\n",
       "1192                Jujuy\n",
       "1199             Santa fe\n",
       "1203              cordoba\n",
       "\n",
       "[460 rows x 1 columns]"
      ]
     },
     "execution_count": 185,
     "metadata": {},
     "output_type": "execute_result"
    }
   ],
   "source": [
    "df.loc[(df.ubicacion=='Otra provincia') & (df.ubicacion_otra.notnull()), ['ubicacion_otra']]"
   ]
  },
  {
   "cell_type": "code",
   "execution_count": 186,
   "metadata": {},
   "outputs": [],
   "source": [
    "lista_provincias = ['San Juan', 'Santa Fe', 'Cordoba', 'Salta', 'Corrientes', 'Entre Rios', 'Misiones', 'Catamarca',\n",
    "                   'Tucuman', 'Jujuy', 'San Luis', 'Formosa', 'Chaco', 'Provincia de Buenos Aires',  'Ciudad Autónoma de Buenos Aires',\n",
    "                   'Santa Cruz', 'Tierra del Fuego', 'La Pampa', 'Neuquen', 'Rio Negro', 'Chubut', 'Mendoza', 'Santiago del Estero',\n",
    "                   'La Rioja']"
   ]
  },
  {
   "cell_type": "code",
   "execution_count": 187,
   "metadata": {},
   "outputs": [],
   "source": [
    "df['ubicacion_otra'] = df['ubicacion_otra'].str.lower()"
   ]
  },
  {
   "cell_type": "code",
   "execution_count": 188,
   "metadata": {
    "scrolled": false
   },
   "outputs": [
    {
     "data": {
      "text/plain": [
       "array(['san juan', nan, 'zarate', 'santa fe', 'cordoba', 'salta',\n",
       "       'la rioja', 'corrientes', 'cordoba ', 'rio gallegos santa cruz',\n",
       "       'zárate ', 'misiones ', 'coronel suarez ', 'chubut', 'ezeiza',\n",
       "       'chaco ', 'argentina', 'mendoza', 'sarmiento chubut', 'san luis ',\n",
       "       'misiones', 'tucuman', 'buenos aires provincia', 'la  pampa',\n",
       "       'chaco', 'la pamap', 'berazategui ', 'villa urquiza ',\n",
       "       'entre ríos ', 'jujuy', 'entre ríos', 'provincia de córdoba',\n",
       "       'entre rios', 'mendoza ', 'entre.rios.', 'san juan ', 'rio negro',\n",
       "       'córdoba ', 'tucumán', 'corrientes ', 'río negro', 'santa fe ',\n",
       "       'tierra del fuego.', 'la pampa', 'tierra del fuego ', 'córdoba',\n",
       "       'interior de formosa', 'san luis', 'formosa', 'tdf', 'sta fe',\n",
       "       'buenos aires ', 'pcia bs as', 'lomas de zamora', 'tucumán ',\n",
       "       'neuquen',\n",
       "       'vivo en rosario  de santa fe.la cuarentena  me tocó en salta ',\n",
       "       'santa fe -rosario.', 'tierra del fuego', 'provincia buenos aires',\n",
       "       'neuquén', 'rosario , santa fe', 'resistencia chaco', 'neuquén ',\n",
       "       'córdoba a', 'sfe', 'formosa ', 'catamarca ', 'antartida',\n",
       "       'chubut ', 'tucuman ', 'sgo del estero', 'entre rios.',\n",
       "       'río negro ', 'santiago del estero ', 'bs as', 'nqn', 'morón ',\n",
       "       'azul', 'curuzu cuatia corrientes ', 'roque perez',\n",
       "       'general san martín', 'rosario', 'merlo',\n",
       "       'villa mercedes san luis', 'hardy', 'llavallol', 'buenos aires',\n",
       "       'chac', 'santa fé', 'san miguel', 'vivo en la provincia fe bs as',\n",
       "       'sf', 'la pampa ', 'provincia de buenos aires ', 'tres de febrero',\n",
       "       'salta ', 'san m de tucumán', 'entre ríos . ', '--------------',\n",
       "       'tucumano', 'cba', 'neuquén capital', 'cordoba capital',\n",
       "       'santa febrero', 'ciudad lujan2', 'tierra del fuego ushuaia',\n",
       "       'tierra  del fuego', 'san miguel de tucuman-capital', 'arrecifes',\n",
       "       'chivilcoy', 'rio 4.cordoba', 'la rioja ', 'neuquen ',\n",
       "       'salta capital ', 'bs.as', 'jujuy ', 'santiago del estero'],\n",
       "      dtype=object)"
      ]
     },
     "execution_count": 188,
     "metadata": {},
     "output_type": "execute_result"
    }
   ],
   "source": [
    "df['ubicacion_otra'].unique()"
   ]
  },
  {
   "cell_type": "code",
   "execution_count": 189,
   "metadata": {},
   "outputs": [],
   "source": [
    "df['ubicacion_otra'] = df.ubicacion_otra.str.replace('(.*tucum.*)','Tucumán')\n",
    "df['ubicacion_otra'] = df.ubicacion_otra.str.replace('(.*san juan.*)','San Juan')\n",
    "df['ubicacion_otra'] = df.ubicacion_otra.str.replace('(.*mendoza.*)','Mendoza')\n",
    "df['ubicacion_otra'] = df.ubicacion_otra.str.replace('((tdf|tierra.*))','Tierra del Fuego')\n",
    "df['ubicacion_otra'] = df.ubicacion_otra.str.replace('(.*salta.*)','Salta')\n",
    "df['ubicacion_otra'] = df.ubicacion_otra.str.replace('(.*jujuy.*)','Jujuy')\n",
    "df['ubicacion_otra'] = df.ubicacion_otra.str.replace('(.*chubut.*)','Chubut')\n",
    "df['ubicacion_otra'] = df.ubicacion_otra.str.replace('(.*pam.*)','La Pampa')\n",
    "df['ubicacion_otra'] = df.ubicacion_otra.str.replace('(.*entre.*)','Entre Ríos')\n",
    "df['ubicacion_otra'] = df.ubicacion_otra.str.replace('(.*cba.*|.*cordoba.*|.*córdoba.*)','Córdoba')\n",
    "df['ubicacion_otra'] = df.ubicacion_otra.str.replace('(.*misiones.*)','Misiones')\n",
    "df['ubicacion_otra'] = df.ubicacion_otra.str.replace('(.*chac.*)','Chaco')\n",
    "df['ubicacion_otra'] = df.ubicacion_otra.str.replace('(.*corrientes.*)','Corrientes')\n",
    "df['ubicacion_otra'] = df.ubicacion_otra.str.replace('(.*formosa.*)','Formosa')\n",
    "df['ubicacion_otra'] = df.ubicacion_otra.str.replace('(.*santa cruz.*|.*cruz.*)','Santa Cruz')\n",
    "df['ubicacion_otra'] = df.ubicacion_otra.str.replace('(.*catamarca.*)','Catamarca')\n",
    "df['ubicacion_otra'] = df.ubicacion_otra.str.replace('(.*san luis.*|.*luis.*)','San Luis')\n",
    "df['ubicacion_otra'] = df.ubicacion_otra.str.replace('(.*santa f.*|sfe|sf|sta fe|rosario)','Santa Fe')\n",
    "df['ubicacion_otra'] = df.ubicacion_otra.str.replace('(.*estero.*)','Santiago del Estero')\n",
    "df['ubicacion_otra'] = df.ubicacion_otra.str.replace('(.*buenos aires.*|morón|zarate|ezeiza|berazategui|bs.*as)','Provincia de Buenos Aires')\n",
    "df['ubicacion_otra'] = df.ubicacion_otra.str.replace('(villa urquiza\\s*)','Ciudad Autónoma de Buenos Aires')\n",
    "df['ubicacion_otra'] = df.ubicacion_otra.str.replace('(.*negro.*)','Río Negro')\n",
    "df['ubicacion_otra'] = df.ubicacion_otra.str.replace('(.*nqn.*|.*neu.*)','Neuquén')\n",
    "df['ubicacion_otra'] = df.ubicacion_otra.str.replace('(.*la rioja*)','La Rioja')\n",
    "df['ubicacion_otra'] =np.where(np.isin(df['ubicacion_otra'], lista_provincias), df['ubicacion_otra'], np.nan)"
   ]
  },
  {
   "cell_type": "code",
   "execution_count": 190,
   "metadata": {},
   "outputs": [
    {
     "data": {
      "text/plain": [
       "array(['San Juan', nan, 'Provincia de Buenos Aires', 'Santa Fe', 'Salta',\n",
       "       'La Rioja', 'Corrientes', 'Santa Cruz', 'Misiones', 'Chubut',\n",
       "       'Chaco', 'Mendoza', 'San Luis', 'La Pampa', 'Jujuy',\n",
       "       'Tierra del Fuego', 'Formosa', 'Catamarca', 'Santiago del Estero'],\n",
       "      dtype=object)"
      ]
     },
     "execution_count": 190,
     "metadata": {},
     "output_type": "execute_result"
    }
   ],
   "source": [
    "df['ubicacion_otra'].unique()"
   ]
  },
  {
   "cell_type": "code",
   "execution_count": 191,
   "metadata": {
    "scrolled": true
   },
   "outputs": [],
   "source": [
    "df['ubicacion_tot'] = np.where( ( (df['ubicacion'] == 'Otra provincia') & (df.ubicacion_otra.notnull()) ), \n",
    "                                df['ubicacion_otra'], df['ubicacion'])"
   ]
  },
  {
   "cell_type": "code",
   "execution_count": 192,
   "metadata": {},
   "outputs": [
    {
     "data": {
      "text/html": [
       "<div>\n",
       "<style scoped>\n",
       "    .dataframe tbody tr th:only-of-type {\n",
       "        vertical-align: middle;\n",
       "    }\n",
       "\n",
       "    .dataframe tbody tr th {\n",
       "        vertical-align: top;\n",
       "    }\n",
       "\n",
       "    .dataframe thead th {\n",
       "        text-align: right;\n",
       "    }\n",
       "</style>\n",
       "<table border=\"1\" class=\"dataframe\">\n",
       "  <thead>\n",
       "    <tr style=\"text-align: right;\">\n",
       "      <th></th>\n",
       "      <th>genero</th>\n",
       "      <th>edad</th>\n",
       "      <th>ubicacion</th>\n",
       "      <th>ubicacion_otra</th>\n",
       "      <th>opinion</th>\n",
       "      <th>actividades</th>\n",
       "      <th>actividades_open</th>\n",
       "      <th>circulacion</th>\n",
       "      <th>circulacion_open</th>\n",
       "      <th>id_encuestado</th>\n",
       "      <th>fecha</th>\n",
       "      <th>ubicacion_tot</th>\n",
       "    </tr>\n",
       "  </thead>\n",
       "  <tbody>\n",
       "    <tr>\n",
       "      <td>0</td>\n",
       "      <td>Mujer</td>\n",
       "      <td>Entre 18 y 25 años</td>\n",
       "      <td>Otra provincia</td>\n",
       "      <td>San Juan</td>\n",
       "      <td>La cuarentena ya no es tan necesaria</td>\n",
       "      <td>Si, pude hacerlo online</td>\n",
       "      <td>NaN</td>\n",
       "      <td>Estoy muy en desacuerdo con que se pueda volve...</td>\n",
       "      <td>NaN</td>\n",
       "      <td>NaN</td>\n",
       "      <td>6/28/2020, 3:10:19 PM</td>\n",
       "      <td>San Juan</td>\n",
       "    </tr>\n",
       "    <tr>\n",
       "      <td>1</td>\n",
       "      <td>Mujer</td>\n",
       "      <td>Más de 66 años</td>\n",
       "      <td>Provincia de Buenos Aires</td>\n",
       "      <td>NaN</td>\n",
       "      <td>La cuarentena ya no es nada necesaria</td>\n",
       "      <td>No trabajo ni estudio</td>\n",
       "      <td>Jubilada</td>\n",
       "      <td>Estoy muy de acuerdo con que se pueda volver a...</td>\n",
       "      <td>Bien muy bien</td>\n",
       "      <td>NaN</td>\n",
       "      <td>6/28/2020, 3:24:59 PM</td>\n",
       "      <td>Provincia de Buenos Aires</td>\n",
       "    </tr>\n",
       "    <tr>\n",
       "      <td>2</td>\n",
       "      <td>Mujer</td>\n",
       "      <td>Entre 26 y 35 años</td>\n",
       "      <td>Provincia de Buenos Aires</td>\n",
       "      <td>Provincia de Buenos Aires</td>\n",
       "      <td>La cuarentena sigue siendo muy necesaria</td>\n",
       "      <td>No, todavía no pude volver a hacerlo</td>\n",
       "      <td>trabajo en repostería en mi casa</td>\n",
       "      <td>Estoy algo en desacuerdo con que se pueda volv...</td>\n",
       "      <td>no se tendría que circular circulación solo pa...</td>\n",
       "      <td>NaN</td>\n",
       "      <td>6/28/2020, 4:25:44 PM</td>\n",
       "      <td>Provincia de Buenos Aires</td>\n",
       "    </tr>\n",
       "    <tr>\n",
       "      <td>3</td>\n",
       "      <td>Mujer</td>\n",
       "      <td>Entre 46 y 55 años</td>\n",
       "      <td>Ciudad Autónoma de Buenos Aires</td>\n",
       "      <td>NaN</td>\n",
       "      <td>La cuarentena ya no es tan necesaria</td>\n",
       "      <td>No, todavía no pude volver a hacerlo</td>\n",
       "      <td>NaN</td>\n",
       "      <td>Estoy muy de acuerdo con que se pueda volver a...</td>\n",
       "      <td>NaN</td>\n",
       "      <td>NaN</td>\n",
       "      <td>6/28/2020, 6:47:16 PM</td>\n",
       "      <td>Ciudad Autónoma de Buenos Aires</td>\n",
       "    </tr>\n",
       "    <tr>\n",
       "      <td>4</td>\n",
       "      <td>Mujer</td>\n",
       "      <td>Más de 66 años</td>\n",
       "      <td>Provincia de Buenos Aires</td>\n",
       "      <td>NaN</td>\n",
       "      <td>La cuarentena sigue siendo muy necesaria</td>\n",
       "      <td>No trabajo ni estudio</td>\n",
       "      <td>soy jubilada docente</td>\n",
       "      <td>Estoy algo en desacuerdo con que se pueda volv...</td>\n",
       "      <td>si son provincias libres de COVID 19 no habría...</td>\n",
       "      <td>NaN</td>\n",
       "      <td>6/28/2020, 6:48:26 PM</td>\n",
       "      <td>Provincia de Buenos Aires</td>\n",
       "    </tr>\n",
       "    <tr>\n",
       "      <td>...</td>\n",
       "      <td>...</td>\n",
       "      <td>...</td>\n",
       "      <td>...</td>\n",
       "      <td>...</td>\n",
       "      <td>...</td>\n",
       "      <td>...</td>\n",
       "      <td>...</td>\n",
       "      <td>...</td>\n",
       "      <td>...</td>\n",
       "      <td>...</td>\n",
       "      <td>...</td>\n",
       "      <td>...</td>\n",
       "    </tr>\n",
       "    <tr>\n",
       "      <td>1199</td>\n",
       "      <td>Hombre</td>\n",
       "      <td>Entre 36 y 45 años</td>\n",
       "      <td>Otra provincia</td>\n",
       "      <td>Santa Fe</td>\n",
       "      <td>La cuarentena ya no es nada necesaria</td>\n",
       "      <td>No, todavía no pude volver a hacerlo</td>\n",
       "      <td>NaN</td>\n",
       "      <td>Estoy muy en desacuerdo con que se pueda volve...</td>\n",
       "      <td>NaN</td>\n",
       "      <td>NaN</td>\n",
       "      <td>7/3/2020, 11:00:46 AM</td>\n",
       "      <td>Santa Fe</td>\n",
       "    </tr>\n",
       "    <tr>\n",
       "      <td>1200</td>\n",
       "      <td>Hombre</td>\n",
       "      <td>Entre 36 y 45 años</td>\n",
       "      <td>Provincia de Buenos Aires</td>\n",
       "      <td>NaN</td>\n",
       "      <td>La cuarentena sigue siendo muy necesaria</td>\n",
       "      <td>Si, pude hacerlo online</td>\n",
       "      <td>Estudio el profesorado de Economia y tengo un ...</td>\n",
       "      <td>Estoy muy de acuerdo con que se pueda volver a...</td>\n",
       "      <td>Esta bien supieron cuidarse bien</td>\n",
       "      <td>NaN</td>\n",
       "      <td>7/3/2020, 11:57:42 AM</td>\n",
       "      <td>Provincia de Buenos Aires</td>\n",
       "    </tr>\n",
       "    <tr>\n",
       "      <td>1201</td>\n",
       "      <td>Hombre</td>\n",
       "      <td>Entre 36 y 45 años</td>\n",
       "      <td>Provincia de Buenos Aires</td>\n",
       "      <td>NaN</td>\n",
       "      <td>La cuarentena ya no es tan necesaria</td>\n",
       "      <td>No, tuve que hacerlo de manera presencial</td>\n",
       "      <td>Mantenimiento</td>\n",
       "      <td>Estoy muy de acuerdo con que se pueda volver a...</td>\n",
       "      <td>Con protocolos</td>\n",
       "      <td>NaN</td>\n",
       "      <td>7/3/2020, 1:07:23 PM</td>\n",
       "      <td>Provincia de Buenos Aires</td>\n",
       "    </tr>\n",
       "    <tr>\n",
       "      <td>1202</td>\n",
       "      <td>Hombre</td>\n",
       "      <td>Entre 36 y 45 años</td>\n",
       "      <td>Provincia de Buenos Aires</td>\n",
       "      <td>NaN</td>\n",
       "      <td>La cuarentena sigue siendo algo necesaria</td>\n",
       "      <td>No, todavía no pude volver a hacerlo</td>\n",
       "      <td>Soy distribuidor de psa</td>\n",
       "      <td>Estoy algo de acuerdo con que se pueda volver ...</td>\n",
       "      <td>NaN</td>\n",
       "      <td>NaN</td>\n",
       "      <td>7/3/2020, 1:07:37 PM</td>\n",
       "      <td>Provincia de Buenos Aires</td>\n",
       "    </tr>\n",
       "    <tr>\n",
       "      <td>1203</td>\n",
       "      <td>Hombre</td>\n",
       "      <td>Entre 36 y 45 años</td>\n",
       "      <td>Otra provincia</td>\n",
       "      <td>NaN</td>\n",
       "      <td>La cuarentena ya no es nada necesaria</td>\n",
       "      <td>No, todavía no pude volver a hacerlo</td>\n",
       "      <td>NaN</td>\n",
       "      <td>Estoy algo en desacuerdo con que se pueda volv...</td>\n",
       "      <td>NaN</td>\n",
       "      <td>NaN</td>\n",
       "      <td>7/3/2020, 1:32:26 PM</td>\n",
       "      <td>Otra provincia</td>\n",
       "    </tr>\n",
       "  </tbody>\n",
       "</table>\n",
       "<p>1204 rows × 12 columns</p>\n",
       "</div>"
      ],
      "text/plain": [
       "      genero                edad                        ubicacion  \\\n",
       "0      Mujer  Entre 18 y 25 años                   Otra provincia   \n",
       "1      Mujer      Más de 66 años        Provincia de Buenos Aires   \n",
       "2      Mujer  Entre 26 y 35 años        Provincia de Buenos Aires   \n",
       "3      Mujer  Entre 46 y 55 años  Ciudad Autónoma de Buenos Aires   \n",
       "4      Mujer      Más de 66 años        Provincia de Buenos Aires   \n",
       "...      ...                 ...                              ...   \n",
       "1199  Hombre  Entre 36 y 45 años                   Otra provincia   \n",
       "1200  Hombre  Entre 36 y 45 años        Provincia de Buenos Aires   \n",
       "1201  Hombre  Entre 36 y 45 años        Provincia de Buenos Aires   \n",
       "1202  Hombre  Entre 36 y 45 años        Provincia de Buenos Aires   \n",
       "1203  Hombre  Entre 36 y 45 años                   Otra provincia   \n",
       "\n",
       "                 ubicacion_otra                                    opinion  \\\n",
       "0                      San Juan       La cuarentena ya no es tan necesaria   \n",
       "1                           NaN      La cuarentena ya no es nada necesaria   \n",
       "2     Provincia de Buenos Aires   La cuarentena sigue siendo muy necesaria   \n",
       "3                           NaN       La cuarentena ya no es tan necesaria   \n",
       "4                           NaN   La cuarentena sigue siendo muy necesaria   \n",
       "...                         ...                                        ...   \n",
       "1199                   Santa Fe      La cuarentena ya no es nada necesaria   \n",
       "1200                        NaN   La cuarentena sigue siendo muy necesaria   \n",
       "1201                        NaN       La cuarentena ya no es tan necesaria   \n",
       "1202                        NaN  La cuarentena sigue siendo algo necesaria   \n",
       "1203                        NaN      La cuarentena ya no es nada necesaria   \n",
       "\n",
       "                                    actividades  \\\n",
       "0                       Si, pude hacerlo online   \n",
       "1                         No trabajo ni estudio   \n",
       "2          No, todavía no pude volver a hacerlo   \n",
       "3          No, todavía no pude volver a hacerlo   \n",
       "4                         No trabajo ni estudio   \n",
       "...                                         ...   \n",
       "1199       No, todavía no pude volver a hacerlo   \n",
       "1200                    Si, pude hacerlo online   \n",
       "1201  No, tuve que hacerlo de manera presencial   \n",
       "1202       No, todavía no pude volver a hacerlo   \n",
       "1203       No, todavía no pude volver a hacerlo   \n",
       "\n",
       "                                       actividades_open  \\\n",
       "0                                                   NaN   \n",
       "1                                              Jubilada   \n",
       "2                      trabajo en repostería en mi casa   \n",
       "3                                                   NaN   \n",
       "4                                 soy jubilada docente    \n",
       "...                                                 ...   \n",
       "1199                                                NaN   \n",
       "1200  Estudio el profesorado de Economia y tengo un ...   \n",
       "1201                                      Mantenimiento   \n",
       "1202                            Soy distribuidor de psa   \n",
       "1203                                                NaN   \n",
       "\n",
       "                                            circulacion  \\\n",
       "0     Estoy muy en desacuerdo con que se pueda volve...   \n",
       "1     Estoy muy de acuerdo con que se pueda volver a...   \n",
       "2     Estoy algo en desacuerdo con que se pueda volv...   \n",
       "3     Estoy muy de acuerdo con que se pueda volver a...   \n",
       "4     Estoy algo en desacuerdo con que se pueda volv...   \n",
       "...                                                 ...   \n",
       "1199  Estoy muy en desacuerdo con que se pueda volve...   \n",
       "1200  Estoy muy de acuerdo con que se pueda volver a...   \n",
       "1201  Estoy muy de acuerdo con que se pueda volver a...   \n",
       "1202  Estoy algo de acuerdo con que se pueda volver ...   \n",
       "1203  Estoy algo en desacuerdo con que se pueda volv...   \n",
       "\n",
       "                                       circulacion_open id_encuestado  \\\n",
       "0                                                   NaN           NaN   \n",
       "1                                         Bien muy bien           NaN   \n",
       "2     no se tendría que circular circulación solo pa...           NaN   \n",
       "3                                                   NaN           NaN   \n",
       "4     si son provincias libres de COVID 19 no habría...           NaN   \n",
       "...                                                 ...           ...   \n",
       "1199                                                NaN           NaN   \n",
       "1200                   Esta bien supieron cuidarse bien           NaN   \n",
       "1201                                     Con protocolos           NaN   \n",
       "1202                                                NaN           NaN   \n",
       "1203                                                NaN           NaN   \n",
       "\n",
       "                      fecha                    ubicacion_tot  \n",
       "0     6/28/2020, 3:10:19 PM                         San Juan  \n",
       "1     6/28/2020, 3:24:59 PM        Provincia de Buenos Aires  \n",
       "2     6/28/2020, 4:25:44 PM        Provincia de Buenos Aires  \n",
       "3     6/28/2020, 6:47:16 PM  Ciudad Autónoma de Buenos Aires  \n",
       "4     6/28/2020, 6:48:26 PM        Provincia de Buenos Aires  \n",
       "...                     ...                              ...  \n",
       "1199  7/3/2020, 11:00:46 AM                         Santa Fe  \n",
       "1200  7/3/2020, 11:57:42 AM        Provincia de Buenos Aires  \n",
       "1201   7/3/2020, 1:07:23 PM        Provincia de Buenos Aires  \n",
       "1202   7/3/2020, 1:07:37 PM        Provincia de Buenos Aires  \n",
       "1203   7/3/2020, 1:32:26 PM                   Otra provincia  \n",
       "\n",
       "[1204 rows x 12 columns]"
      ]
     },
     "execution_count": 192,
     "metadata": {},
     "output_type": "execute_result"
    }
   ],
   "source": [
    "df"
   ]
  },
  {
   "cell_type": "code",
   "execution_count": 193,
   "metadata": {},
   "outputs": [],
   "source": [
    "df.to_csv('df_cuestionario.csv')"
   ]
  },
  {
   "cell_type": "code",
   "execution_count": null,
   "metadata": {},
   "outputs": [],
   "source": []
  }
 ],
 "metadata": {
  "kernelspec": {
   "display_name": "Python 3",
   "language": "python",
   "name": "python3"
  },
  "language_info": {
   "codemirror_mode": {
    "name": "ipython",
    "version": 3
   },
   "file_extension": ".py",
   "mimetype": "text/x-python",
   "name": "python",
   "nbconvert_exporter": "python",
   "pygments_lexer": "ipython3",
   "version": "3.7.4"
  }
 },
 "nbformat": 4,
 "nbformat_minor": 2
}
