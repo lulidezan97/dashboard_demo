{
 "cells": [
  {
   "cell_type": "code",
   "execution_count": 114,
   "metadata": {
    "extensions": {
     "jupyter_dashboards": {
      "version": 1,
      "views": {
       "grid_default": {},
       "report_default": {
        "hidden": true
       }
      }
     }
    },
    "scrolled": false
   },
   "outputs": [],
   "source": [
    "from __future__ import print_function\n",
    "import pandas as pd\n",
    "import numpy as np\n",
    "#import textblob\n",
    "import plotly\n",
    "import plotly.graph_objects as go\n",
    "import plotly.express as px\n",
    "#import seaborn as sns\n",
    "from ipywidgets import widgets\n",
    "from ipywidgets import interact, interactive, fixed, interact_manual"
   ]
  },
  {
   "cell_type": "code",
   "execution_count": 21,
   "metadata": {
    "extensions": {
     "jupyter_dashboards": {
      "version": 1,
      "views": {
       "grid_default": {},
       "report_default": {
        "hidden": true
       }
      }
     }
    }
   },
   "outputs": [],
   "source": [
    "#df = pd.read_csv('df_cuestionario.csv')\n",
    "df = pd.read_csv('https://raw.githubusercontent.com/lulidezan97/dashboard_demo/master/bases/df_cuestionario.csv')"
   ]
  },
  {
   "cell_type": "code",
   "execution_count": 3,
   "metadata": {
    "extensions": {
     "jupyter_dashboards": {
      "version": 1,
      "views": {
       "grid_default": {},
       "report_default": {
        "hidden": false
       }
      }
     }
    }
   },
   "outputs": [],
   "source": [
    "#df.head()"
   ]
  },
  {
   "cell_type": "markdown",
   "metadata": {
    "extensions": {
     "jupyter_dashboards": {
      "version": 1,
      "views": {
       "grid_default": {},
       "report_default": {
        "hidden": false
       }
      }
     }
    }
   },
   "source": [
    "# Reporte encuestas COVID"
   ]
  },
  {
   "cell_type": "markdown",
   "metadata": {
    "extensions": {
     "jupyter_dashboards": {
      "version": 1,
      "views": {
       "grid_default": {},
       "report_default": {
        "hidden": false
       }
      }
     }
    }
   },
   "source": [
    "### Exploración base"
   ]
  },
  {
   "cell_type": "code",
   "execution_count": 22,
   "metadata": {
    "extensions": {
     "jupyter_dashboards": {
      "version": 1,
      "views": {
       "grid_default": {},
       "report_default": {
        "hidden": false
       }
      }
     }
    }
   },
   "outputs": [
    {
     "data": {
      "application/vnd.plotly.v1+json": {
       "config": {
        "plotlyServerURL": "https://plot.ly"
       },
       "data": [
        {
         "alignmentgroup": "True",
         "bingroup": "x",
         "hoverlabel": {
          "namelength": 0
         },
         "hovertemplate": "Género=%{x}<br>count=%{y}",
         "legendgroup": "",
         "marker": {
          "color": "#636efa"
         },
         "name": "",
         "offsetgroup": "",
         "orientation": "v",
         "showlegend": false,
         "type": "histogram",
         "x": [
          "Mujer",
          "Mujer",
          "Mujer",
          "Mujer",
          "Mujer",
          "Mujer",
          "Mujer",
          "Mujer",
          "Mujer",
          "Mujer",
          "Mujer",
          "Mujer",
          "Mujer",
          "Mujer",
          "Mujer",
          "Mujer",
          "Mujer",
          "Mujer",
          "Hombre",
          "Mujer",
          "Mujer",
          "Mujer",
          "Mujer",
          "Mujer",
          "Mujer",
          "Mujer",
          "Mujer",
          "Mujer",
          "Mujer",
          "Mujer",
          "Mujer",
          "Mujer",
          "Mujer",
          "Mujer",
          "Mujer",
          "Mujer",
          "Mujer",
          "Mujer",
          "Mujer",
          "Mujer",
          "Prefiero no contestar",
          "Mujer",
          "Mujer",
          "Mujer",
          "Mujer",
          "Mujer",
          "Mujer",
          "Mujer",
          "Mujer",
          "Mujer",
          "Mujer",
          "Mujer",
          "Hombre",
          "Hombre",
          "Hombre",
          "Hombre",
          "Hombre",
          "Hombre",
          "Hombre",
          "Hombre",
          "Hombre",
          "Hombre",
          "Hombre",
          "Hombre",
          "Hombre",
          "Hombre",
          "Hombre",
          "Hombre",
          "Hombre",
          "Mujer",
          "Hombre",
          "Hombre",
          "Hombre",
          "Hombre",
          "Hombre",
          "Hombre",
          "Hombre",
          "Hombre",
          "Mujer",
          "Mujer",
          "Mujer",
          "Mujer",
          "Mujer",
          "Mujer",
          "Mujer",
          "Mujer",
          "Mujer",
          "Mujer",
          "Mujer",
          "Mujer",
          "Mujer",
          "Mujer",
          "Mujer",
          "Mujer",
          "Mujer",
          "Mujer",
          "Mujer",
          "Mujer",
          "Mujer",
          "Mujer",
          "Mujer",
          "Mujer",
          "Mujer",
          "Mujer",
          "Mujer",
          "Mujer",
          "Mujer",
          "Mujer",
          "Mujer",
          "Mujer",
          "Mujer",
          "Mujer",
          "Mujer",
          "Mujer",
          "Mujer",
          "Mujer",
          "Mujer",
          "Mujer",
          "Mujer",
          "Mujer",
          "Mujer",
          "Mujer",
          "Mujer",
          "Mujer",
          "Mujer",
          "Mujer",
          "Mujer",
          "Mujer",
          "Mujer",
          "Mujer",
          "Mujer",
          "Mujer",
          "Mujer",
          "Mujer",
          "Mujer",
          "Mujer",
          "Mujer",
          "Mujer",
          "Mujer",
          "Mujer",
          "Mujer",
          "Hombre",
          "Mujer",
          "Mujer",
          "Mujer",
          "Mujer",
          "Mujer",
          "Mujer",
          "Mujer",
          "Mujer",
          "Mujer",
          "Mujer",
          "Mujer",
          "Mujer",
          "Mujer",
          "Mujer",
          "Mujer",
          "Mujer",
          "Mujer",
          "Mujer",
          "Mujer",
          "Mujer",
          "Mujer",
          "Mujer",
          "Mujer",
          "Mujer",
          "Mujer",
          "Mujer",
          "Mujer",
          "Mujer",
          "Mujer",
          "Mujer",
          "Mujer",
          "Mujer",
          "Mujer",
          "Mujer",
          "Mujer",
          "Mujer",
          "Mujer",
          "Mujer",
          "Mujer",
          "Mujer",
          "Mujer",
          "Mujer",
          "Mujer",
          "Mujer",
          "Mujer",
          "Mujer",
          "Mujer",
          "Mujer",
          "Mujer",
          "Mujer",
          "Mujer",
          "Mujer",
          "Mujer",
          "Mujer",
          "Mujer",
          "Mujer",
          "Mujer",
          "Mujer",
          "Mujer",
          "Mujer",
          "Mujer",
          "Mujer",
          "Mujer",
          "Mujer",
          "Mujer",
          "Mujer",
          "Mujer",
          "Mujer",
          "Mujer",
          "Mujer",
          "Mujer",
          "Mujer",
          "Mujer",
          "Mujer",
          "Mujer",
          "Mujer",
          "Mujer",
          "Mujer",
          "Mujer",
          "Mujer",
          "Mujer",
          "Mujer",
          "Mujer",
          "Mujer",
          "Mujer",
          "Mujer",
          "Mujer",
          "Mujer",
          "Mujer",
          "Mujer",
          "Mujer",
          "Mujer",
          "Mujer",
          "Mujer",
          "Mujer",
          "Mujer",
          "Mujer",
          "Mujer",
          "Mujer",
          "Mujer",
          "Mujer",
          "Mujer",
          "Mujer",
          "Mujer",
          "Mujer",
          "Mujer",
          "Mujer",
          "Mujer",
          "Mujer",
          "Mujer",
          "Mujer",
          "Mujer",
          "Mujer",
          "Mujer",
          "Mujer",
          "Mujer",
          "Mujer",
          "Mujer",
          "Mujer",
          "Mujer",
          "Mujer",
          "Mujer",
          "Mujer",
          "Mujer",
          "Mujer",
          "Mujer",
          "Mujer",
          "Mujer",
          "Mujer",
          "Mujer",
          "Mujer",
          "Mujer",
          "Mujer",
          "Mujer",
          "Mujer",
          "Mujer",
          "Mujer",
          "Mujer",
          "Mujer",
          "Mujer",
          "Mujer",
          "Mujer",
          "Mujer",
          "Mujer",
          "Mujer",
          "Mujer",
          "Mujer",
          "Mujer",
          "Mujer",
          "Hombre",
          "Hombre",
          "Hombre",
          "Hombre",
          "Hombre",
          "Hombre",
          "Hombre",
          "Hombre",
          "Hombre",
          "Hombre",
          "Hombre",
          "Hombre",
          "Hombre",
          "Hombre",
          "Hombre",
          "Hombre",
          "Hombre",
          "Hombre",
          "Hombre",
          "Hombre",
          "Hombre",
          "Hombre",
          "Hombre",
          "Hombre",
          null,
          "Hombre",
          "Hombre",
          "Hombre",
          "Hombre",
          "Hombre",
          "Hombre",
          "Hombre",
          "Hombre",
          "Hombre",
          "Hombre",
          "Hombre",
          "Hombre",
          "Hombre",
          "Mujer",
          "Hombre",
          "Hombre",
          "Hombre",
          "Hombre",
          "Hombre",
          "Hombre",
          "Hombre",
          "Hombre",
          "Otro",
          "Hombre",
          "Hombre",
          "Hombre",
          "Hombre",
          "Hombre",
          "Hombre",
          "Hombre",
          "Hombre",
          "Hombre",
          "Hombre",
          "Hombre",
          "Hombre",
          "Hombre",
          "Hombre",
          "Hombre",
          "Hombre",
          "Hombre",
          "Hombre",
          "Hombre",
          "Hombre",
          "Hombre",
          "Mujer",
          "Hombre",
          "Hombre",
          "Hombre",
          "Hombre",
          "Hombre",
          "Hombre",
          "Hombre",
          "Hombre",
          "Hombre",
          "Hombre",
          "Hombre",
          "Hombre",
          "Hombre",
          "Hombre",
          "Hombre",
          "Hombre",
          "Hombre",
          "Hombre",
          "Hombre",
          "Hombre",
          "Hombre",
          "Hombre",
          "Hombre",
          "Hombre",
          "Hombre",
          "Hombre",
          "Hombre",
          "Hombre",
          "Hombre",
          "Hombre",
          null,
          "Hombre",
          "Hombre",
          "Mujer",
          "Hombre",
          "Hombre",
          "Hombre",
          "Hombre",
          "Hombre",
          "Hombre",
          "Hombre",
          "Hombre",
          "Hombre",
          "Hombre",
          "Hombre",
          "Hombre",
          "Hombre",
          "Hombre",
          "Hombre",
          "Hombre",
          "Hombre",
          "Hombre",
          "Hombre",
          "Hombre",
          "Hombre",
          "Hombre",
          "Hombre",
          "Hombre",
          "Hombre",
          "Hombre",
          "Hombre",
          "Hombre",
          "Hombre",
          "Hombre",
          "Hombre",
          "Hombre",
          "Hombre",
          "Hombre",
          "Hombre",
          "Hombre",
          "Hombre",
          "Hombre",
          "Hombre",
          "Mujer",
          "Hombre",
          "Hombre",
          "Hombre",
          "Hombre",
          "Hombre",
          "Hombre",
          "Hombre",
          "Hombre",
          "Hombre",
          "Hombre",
          "Hombre",
          "Hombre",
          "Hombre",
          "Hombre",
          "Hombre",
          "Hombre",
          "Hombre",
          "Hombre",
          "Hombre",
          "Hombre",
          "Hombre",
          "Hombre",
          "Hombre",
          "Hombre",
          "Hombre",
          "Hombre",
          "Hombre",
          "Hombre",
          "Hombre",
          "Hombre",
          "Hombre",
          "Hombre",
          "Hombre",
          "Hombre",
          "Hombre",
          "Hombre",
          "Hombre",
          "Hombre",
          "Hombre",
          "Hombre",
          "Hombre",
          "Hombre",
          "Hombre",
          "Hombre",
          "Hombre",
          "Hombre",
          "Hombre",
          "Hombre",
          "Hombre",
          "Hombre",
          "Hombre",
          "Hombre",
          "Hombre",
          "Hombre",
          "Hombre",
          "Hombre",
          "Hombre",
          "Hombre",
          "Hombre",
          "Mujer",
          "Hombre",
          "Hombre",
          "Hombre",
          "Hombre",
          "Hombre",
          "Mujer",
          "Hombre",
          "Hombre",
          "Otro",
          "Hombre",
          "Hombre",
          "Hombre",
          "Hombre",
          "Hombre",
          "Hombre",
          "Hombre",
          "Hombre",
          "Hombre",
          "Hombre",
          "Hombre",
          "Hombre",
          "Hombre",
          "Hombre",
          "Hombre",
          "Hombre",
          "Hombre",
          "Hombre",
          "Hombre",
          "Hombre",
          "Hombre",
          "Hombre",
          "Hombre",
          "Hombre",
          "Hombre",
          "Hombre",
          "Hombre",
          "Hombre",
          "Hombre",
          "Mujer",
          "Hombre",
          "Hombre",
          "Hombre",
          "Hombre",
          "Hombre",
          "Hombre",
          "Hombre",
          "Hombre",
          "Hombre",
          "Hombre",
          "Hombre",
          "Hombre",
          "Hombre",
          "Hombre",
          "Hombre",
          "Hombre",
          "Hombre",
          "Hombre",
          "Hombre",
          "Hombre",
          "Hombre",
          "Hombre",
          "Hombre",
          "Hombre",
          "Hombre",
          "Hombre",
          "Hombre",
          "Hombre",
          "Hombre",
          "Hombre",
          "Hombre",
          "Hombre",
          "Hombre",
          "Hombre",
          "Hombre",
          "Hombre",
          "Hombre",
          "Mujer",
          "Hombre",
          "Hombre",
          "Prefiero no contestar",
          "Hombre",
          "Hombre",
          "Hombre",
          "Hombre",
          "Hombre",
          "Hombre",
          "Hombre",
          "Hombre",
          "Hombre",
          "Hombre",
          "Hombre",
          "Hombre",
          "Hombre",
          "Hombre",
          "Hombre",
          "Hombre",
          "Hombre",
          "Hombre",
          "Hombre",
          "Hombre",
          "Hombre",
          "Mujer",
          "Hombre",
          "Hombre",
          "Hombre",
          "Hombre",
          "Hombre",
          "Hombre",
          "Hombre",
          "Hombre",
          "Hombre",
          "Hombre",
          "Hombre",
          "Hombre",
          "Hombre",
          "Hombre",
          "Hombre",
          "Hombre",
          "Hombre",
          "Hombre",
          "Hombre",
          "Mujer",
          "Mujer",
          "Mujer",
          "Mujer",
          "Mujer",
          "Mujer",
          "Mujer",
          "Mujer",
          "Mujer",
          "Mujer",
          "Mujer",
          "Mujer",
          "Mujer",
          "Mujer",
          "Mujer",
          "Mujer",
          "Mujer",
          "Mujer",
          "Mujer",
          "Mujer",
          "Mujer",
          "Mujer",
          "Mujer",
          "Mujer",
          "Mujer",
          "Mujer",
          "Mujer",
          "Mujer",
          "Mujer",
          "Mujer",
          "Mujer",
          "Mujer",
          "Mujer",
          "Mujer",
          "Mujer",
          "Mujer",
          "Mujer",
          "Mujer",
          "Mujer",
          "Mujer",
          "Mujer",
          "Mujer",
          "Mujer",
          "Mujer",
          "Mujer",
          "Mujer",
          "Mujer",
          "Mujer",
          "Mujer",
          "Mujer",
          "Mujer",
          "Mujer",
          "Mujer",
          "Mujer",
          "Mujer",
          "Mujer",
          "Mujer",
          "Mujer",
          "Mujer",
          "Mujer",
          "Mujer",
          "Mujer",
          "Mujer",
          "Mujer",
          "Mujer",
          "Mujer",
          "Mujer",
          "Mujer",
          "Mujer",
          "Mujer",
          "Mujer",
          "Mujer",
          "Mujer",
          "Mujer",
          "Mujer",
          "Mujer",
          "Mujer",
          "Mujer",
          "Mujer",
          "Mujer",
          "Mujer",
          "Mujer",
          "Mujer",
          "Mujer",
          "Mujer",
          "Mujer",
          "Mujer",
          "Mujer",
          "Mujer",
          "Mujer",
          "Mujer",
          "Mujer",
          "Mujer",
          "Mujer",
          "Mujer",
          "Prefiero no contestar",
          "Mujer",
          "Mujer",
          "Mujer",
          "Mujer",
          "Mujer",
          "Mujer",
          "Mujer",
          "Mujer",
          "Mujer",
          "Mujer",
          "Mujer",
          "Mujer",
          "Mujer",
          "Mujer",
          "Mujer",
          "Prefiero no contestar",
          "Mujer",
          "Mujer",
          "Mujer",
          "Mujer",
          "Mujer",
          "Mujer",
          "Mujer",
          "Mujer",
          "Mujer",
          "Mujer",
          "Mujer",
          "Mujer",
          "Mujer",
          "Mujer",
          "Mujer",
          "Mujer",
          "Mujer",
          "Mujer",
          "Mujer",
          "Mujer",
          "Mujer",
          "Mujer",
          "Mujer",
          "Hombre",
          "Mujer",
          "Mujer",
          "Mujer",
          "Mujer",
          "Mujer",
          "Mujer",
          "Mujer",
          "Mujer",
          "Mujer",
          "Mujer",
          "Mujer",
          "Mujer",
          "Mujer",
          "Mujer",
          "Mujer",
          "Mujer",
          "Mujer",
          "Mujer",
          "Mujer",
          "Mujer",
          "Mujer",
          "Mujer",
          "Mujer",
          "Mujer",
          "Mujer",
          "Mujer",
          "Mujer",
          "Mujer",
          "Mujer",
          "Mujer",
          "Mujer",
          "Mujer",
          "Mujer",
          "Mujer",
          "Mujer",
          "Mujer",
          "Mujer",
          "Mujer",
          "Mujer",
          "Mujer",
          "Mujer",
          "Hombre",
          "Mujer",
          "Mujer",
          "Mujer",
          "Mujer",
          "Mujer",
          "Mujer",
          "Mujer",
          "Mujer",
          "Mujer",
          "Mujer",
          "Mujer",
          "Mujer",
          "Mujer",
          "Mujer",
          "Mujer",
          "Mujer",
          "Mujer",
          "Mujer",
          "Mujer",
          "Mujer",
          "Mujer",
          "Mujer",
          "Mujer",
          "Mujer",
          "Mujer",
          "Mujer",
          "Mujer",
          "Mujer",
          "Mujer",
          "Mujer",
          "Mujer",
          "Mujer",
          "Mujer",
          "Mujer",
          "Mujer",
          "Mujer",
          "Mujer",
          "Mujer",
          "Mujer",
          "Mujer",
          "Mujer",
          "Mujer",
          "Mujer",
          "Mujer",
          "Mujer",
          "Mujer",
          "Mujer",
          "Mujer",
          "Mujer",
          "Mujer",
          "Mujer",
          "Mujer",
          "Mujer",
          "Mujer",
          "Mujer",
          "Mujer",
          "Mujer",
          "Mujer",
          "Mujer",
          "Mujer",
          "Mujer",
          "Mujer",
          "Mujer",
          "Mujer",
          "Mujer",
          "Mujer",
          "Mujer",
          "Mujer",
          "Mujer",
          "Mujer",
          null,
          "Mujer",
          "Mujer",
          "Mujer",
          "Mujer",
          "Mujer",
          "Mujer",
          "Mujer",
          "Mujer",
          "Mujer",
          "Mujer",
          "Mujer",
          "Mujer",
          "Mujer",
          "Mujer",
          "Mujer",
          "Mujer",
          "Mujer",
          "Mujer",
          "Mujer",
          "Mujer",
          "Mujer",
          "Mujer",
          "Mujer",
          "Mujer",
          "Mujer",
          "Mujer",
          "Mujer",
          "Mujer",
          "Mujer",
          "Mujer",
          "Mujer",
          "Mujer",
          "Mujer",
          "Mujer",
          "Mujer",
          "Mujer",
          "Mujer",
          "Mujer",
          "Mujer",
          "Mujer",
          "Mujer",
          "Mujer",
          "Mujer",
          "Mujer",
          "Mujer",
          "Mujer",
          "Mujer",
          "Mujer",
          "Mujer",
          "Mujer",
          "Mujer",
          "Mujer",
          "Mujer",
          "Mujer",
          "Mujer",
          "Mujer",
          "Mujer",
          "Mujer",
          "Mujer",
          "Mujer",
          "Mujer",
          "Mujer",
          "Mujer",
          "Mujer",
          "Mujer",
          "Mujer",
          "Mujer",
          "Mujer",
          "Mujer",
          "Mujer",
          "Mujer",
          "Mujer",
          "Mujer",
          "Mujer",
          "Mujer",
          "Mujer",
          "Mujer",
          "Mujer",
          "Mujer",
          "Mujer",
          "Mujer",
          "Mujer",
          "Mujer",
          "Mujer",
          "Mujer",
          "Mujer",
          "Mujer",
          "Mujer",
          "Mujer",
          "Mujer",
          "Mujer",
          "Mujer",
          "Mujer",
          "Mujer",
          "Mujer",
          "Mujer",
          "Mujer",
          "Mujer",
          "Mujer",
          "Mujer",
          "Mujer",
          "Mujer",
          "Mujer",
          "Mujer",
          "Mujer",
          "Mujer",
          "Mujer",
          "Mujer",
          "Mujer",
          "Mujer",
          "Mujer",
          "Mujer",
          "Mujer",
          "Mujer",
          "Mujer",
          "Mujer",
          "Mujer",
          "Mujer",
          "Mujer",
          "Mujer",
          "Mujer",
          "Mujer",
          "Mujer",
          "Mujer",
          "Mujer",
          "Mujer",
          "Mujer",
          "Mujer",
          "Mujer",
          "Mujer",
          "Mujer",
          "Mujer",
          "Mujer",
          "Mujer",
          "Mujer",
          "Mujer",
          "Mujer",
          "Mujer",
          "Mujer",
          "Mujer",
          "Mujer",
          "Mujer",
          "Mujer",
          "Mujer",
          "Mujer",
          "Mujer",
          "Mujer",
          "Mujer",
          "Mujer",
          "Mujer",
          "Mujer",
          "Mujer",
          "Mujer",
          "Mujer",
          "Mujer",
          "Mujer",
          "Mujer",
          "Mujer",
          "Mujer",
          "Mujer",
          "Mujer",
          "Mujer",
          "Mujer",
          "Mujer",
          "Mujer",
          "Prefiero no contestar",
          "Mujer",
          "Mujer",
          "Mujer",
          "Mujer",
          "Mujer",
          "Mujer",
          "Mujer",
          "Mujer",
          "Mujer",
          "Mujer",
          "Mujer",
          "Mujer",
          "Mujer",
          "Mujer",
          "Mujer",
          "Mujer",
          "Mujer",
          "Mujer",
          "Mujer",
          "Mujer",
          "Mujer",
          "Mujer",
          null,
          "Mujer",
          "Mujer",
          "Mujer",
          "Mujer",
          "Mujer",
          "Mujer",
          "Mujer",
          "Mujer",
          "Mujer",
          "Mujer",
          "Mujer",
          "Mujer",
          "Mujer",
          "Mujer",
          "Mujer",
          "Mujer",
          "Mujer",
          "Mujer",
          "Mujer",
          "Mujer",
          "Mujer",
          "Mujer",
          "Mujer",
          "Mujer",
          "Mujer",
          "Mujer",
          "Mujer",
          "Mujer",
          "Mujer",
          "Mujer",
          "Mujer",
          "Mujer",
          "Mujer",
          "Mujer",
          "Mujer",
          "Mujer",
          "Mujer",
          "Mujer",
          "Mujer",
          "Mujer",
          "Mujer",
          "Mujer",
          "Mujer",
          "Mujer",
          "Mujer",
          "Mujer",
          "Mujer",
          "Mujer",
          "Mujer",
          "Mujer",
          "Mujer",
          "Hombre",
          "Prefiero no contestar",
          "Hombre",
          "Hombre",
          "Hombre",
          "Hombre",
          "Hombre",
          "Hombre",
          "Hombre",
          "Hombre",
          "Hombre",
          "Hombre",
          "Hombre",
          "Hombre",
          "Hombre",
          "Hombre",
          "Hombre",
          "Hombre",
          "Hombre",
          "Prefiero no contestar",
          "Hombre",
          "Hombre",
          "Hombre",
          "Hombre",
          "Hombre",
          "Hombre",
          "Hombre",
          "Hombre",
          "Hombre",
          "Hombre",
          "Hombre",
          "Hombre",
          "Prefiero no contestar",
          "Hombre",
          "Hombre",
          "Hombre",
          "Hombre",
          "Hombre",
          "Hombre",
          "Hombre",
          "Hombre",
          "Hombre",
          "Hombre",
          "Hombre",
          "Hombre",
          "Hombre",
          "Hombre",
          "Hombre",
          "Hombre",
          "Hombre",
          "Hombre",
          "Hombre",
          "Hombre",
          "Hombre",
          "Hombre",
          "Hombre",
          "Hombre",
          "Hombre",
          "Hombre",
          "Hombre",
          "Hombre",
          "Hombre",
          "Hombre",
          "Hombre",
          "Hombre",
          "Hombre",
          "Hombre",
          "Hombre",
          "Mujer",
          "Hombre",
          "Hombre",
          "Hombre",
          "Hombre",
          "Hombre",
          "Hombre",
          "Hombre",
          "Hombre",
          "Hombre",
          "Hombre",
          "Hombre",
          "Hombre",
          "Hombre",
          "Hombre",
          "Hombre",
          "Hombre",
          "Hombre",
          "Hombre",
          "Hombre",
          "Hombre",
          "Hombre",
          "Hombre",
          "Hombre",
          "Hombre",
          "Hombre",
          "Hombre",
          "Hombre",
          "Hombre",
          "Hombre",
          "Hombre"
         ],
         "xaxis": "x",
         "yaxis": "y"
        }
       ],
       "layout": {
        "barmode": "relative",
        "height": 600,
        "legend": {
         "tracegroupgap": 0
        },
        "template": {
         "data": {
          "bar": [
           {
            "error_x": {
             "color": "#2a3f5f"
            },
            "error_y": {
             "color": "#2a3f5f"
            },
            "marker": {
             "line": {
              "color": "#E5ECF6",
              "width": 0.5
             }
            },
            "type": "bar"
           }
          ],
          "barpolar": [
           {
            "marker": {
             "line": {
              "color": "#E5ECF6",
              "width": 0.5
             }
            },
            "type": "barpolar"
           }
          ],
          "carpet": [
           {
            "aaxis": {
             "endlinecolor": "#2a3f5f",
             "gridcolor": "white",
             "linecolor": "white",
             "minorgridcolor": "white",
             "startlinecolor": "#2a3f5f"
            },
            "baxis": {
             "endlinecolor": "#2a3f5f",
             "gridcolor": "white",
             "linecolor": "white",
             "minorgridcolor": "white",
             "startlinecolor": "#2a3f5f"
            },
            "type": "carpet"
           }
          ],
          "choropleth": [
           {
            "colorbar": {
             "outlinewidth": 0,
             "ticks": ""
            },
            "type": "choropleth"
           }
          ],
          "contour": [
           {
            "colorbar": {
             "outlinewidth": 0,
             "ticks": ""
            },
            "colorscale": [
             [
              0,
              "#0d0887"
             ],
             [
              0.1111111111111111,
              "#46039f"
             ],
             [
              0.2222222222222222,
              "#7201a8"
             ],
             [
              0.3333333333333333,
              "#9c179e"
             ],
             [
              0.4444444444444444,
              "#bd3786"
             ],
             [
              0.5555555555555556,
              "#d8576b"
             ],
             [
              0.6666666666666666,
              "#ed7953"
             ],
             [
              0.7777777777777778,
              "#fb9f3a"
             ],
             [
              0.8888888888888888,
              "#fdca26"
             ],
             [
              1,
              "#f0f921"
             ]
            ],
            "type": "contour"
           }
          ],
          "contourcarpet": [
           {
            "colorbar": {
             "outlinewidth": 0,
             "ticks": ""
            },
            "type": "contourcarpet"
           }
          ],
          "heatmap": [
           {
            "colorbar": {
             "outlinewidth": 0,
             "ticks": ""
            },
            "colorscale": [
             [
              0,
              "#0d0887"
             ],
             [
              0.1111111111111111,
              "#46039f"
             ],
             [
              0.2222222222222222,
              "#7201a8"
             ],
             [
              0.3333333333333333,
              "#9c179e"
             ],
             [
              0.4444444444444444,
              "#bd3786"
             ],
             [
              0.5555555555555556,
              "#d8576b"
             ],
             [
              0.6666666666666666,
              "#ed7953"
             ],
             [
              0.7777777777777778,
              "#fb9f3a"
             ],
             [
              0.8888888888888888,
              "#fdca26"
             ],
             [
              1,
              "#f0f921"
             ]
            ],
            "type": "heatmap"
           }
          ],
          "heatmapgl": [
           {
            "colorbar": {
             "outlinewidth": 0,
             "ticks": ""
            },
            "colorscale": [
             [
              0,
              "#0d0887"
             ],
             [
              0.1111111111111111,
              "#46039f"
             ],
             [
              0.2222222222222222,
              "#7201a8"
             ],
             [
              0.3333333333333333,
              "#9c179e"
             ],
             [
              0.4444444444444444,
              "#bd3786"
             ],
             [
              0.5555555555555556,
              "#d8576b"
             ],
             [
              0.6666666666666666,
              "#ed7953"
             ],
             [
              0.7777777777777778,
              "#fb9f3a"
             ],
             [
              0.8888888888888888,
              "#fdca26"
             ],
             [
              1,
              "#f0f921"
             ]
            ],
            "type": "heatmapgl"
           }
          ],
          "histogram": [
           {
            "marker": {
             "colorbar": {
              "outlinewidth": 0,
              "ticks": ""
             }
            },
            "type": "histogram"
           }
          ],
          "histogram2d": [
           {
            "colorbar": {
             "outlinewidth": 0,
             "ticks": ""
            },
            "colorscale": [
             [
              0,
              "#0d0887"
             ],
             [
              0.1111111111111111,
              "#46039f"
             ],
             [
              0.2222222222222222,
              "#7201a8"
             ],
             [
              0.3333333333333333,
              "#9c179e"
             ],
             [
              0.4444444444444444,
              "#bd3786"
             ],
             [
              0.5555555555555556,
              "#d8576b"
             ],
             [
              0.6666666666666666,
              "#ed7953"
             ],
             [
              0.7777777777777778,
              "#fb9f3a"
             ],
             [
              0.8888888888888888,
              "#fdca26"
             ],
             [
              1,
              "#f0f921"
             ]
            ],
            "type": "histogram2d"
           }
          ],
          "histogram2dcontour": [
           {
            "colorbar": {
             "outlinewidth": 0,
             "ticks": ""
            },
            "colorscale": [
             [
              0,
              "#0d0887"
             ],
             [
              0.1111111111111111,
              "#46039f"
             ],
             [
              0.2222222222222222,
              "#7201a8"
             ],
             [
              0.3333333333333333,
              "#9c179e"
             ],
             [
              0.4444444444444444,
              "#bd3786"
             ],
             [
              0.5555555555555556,
              "#d8576b"
             ],
             [
              0.6666666666666666,
              "#ed7953"
             ],
             [
              0.7777777777777778,
              "#fb9f3a"
             ],
             [
              0.8888888888888888,
              "#fdca26"
             ],
             [
              1,
              "#f0f921"
             ]
            ],
            "type": "histogram2dcontour"
           }
          ],
          "mesh3d": [
           {
            "colorbar": {
             "outlinewidth": 0,
             "ticks": ""
            },
            "type": "mesh3d"
           }
          ],
          "parcoords": [
           {
            "line": {
             "colorbar": {
              "outlinewidth": 0,
              "ticks": ""
             }
            },
            "type": "parcoords"
           }
          ],
          "pie": [
           {
            "automargin": true,
            "type": "pie"
           }
          ],
          "scatter": [
           {
            "marker": {
             "colorbar": {
              "outlinewidth": 0,
              "ticks": ""
             }
            },
            "type": "scatter"
           }
          ],
          "scatter3d": [
           {
            "line": {
             "colorbar": {
              "outlinewidth": 0,
              "ticks": ""
             }
            },
            "marker": {
             "colorbar": {
              "outlinewidth": 0,
              "ticks": ""
             }
            },
            "type": "scatter3d"
           }
          ],
          "scattercarpet": [
           {
            "marker": {
             "colorbar": {
              "outlinewidth": 0,
              "ticks": ""
             }
            },
            "type": "scattercarpet"
           }
          ],
          "scattergeo": [
           {
            "marker": {
             "colorbar": {
              "outlinewidth": 0,
              "ticks": ""
             }
            },
            "type": "scattergeo"
           }
          ],
          "scattergl": [
           {
            "marker": {
             "colorbar": {
              "outlinewidth": 0,
              "ticks": ""
             }
            },
            "type": "scattergl"
           }
          ],
          "scattermapbox": [
           {
            "marker": {
             "colorbar": {
              "outlinewidth": 0,
              "ticks": ""
             }
            },
            "type": "scattermapbox"
           }
          ],
          "scatterpolar": [
           {
            "marker": {
             "colorbar": {
              "outlinewidth": 0,
              "ticks": ""
             }
            },
            "type": "scatterpolar"
           }
          ],
          "scatterpolargl": [
           {
            "marker": {
             "colorbar": {
              "outlinewidth": 0,
              "ticks": ""
             }
            },
            "type": "scatterpolargl"
           }
          ],
          "scatterternary": [
           {
            "marker": {
             "colorbar": {
              "outlinewidth": 0,
              "ticks": ""
             }
            },
            "type": "scatterternary"
           }
          ],
          "surface": [
           {
            "colorbar": {
             "outlinewidth": 0,
             "ticks": ""
            },
            "colorscale": [
             [
              0,
              "#0d0887"
             ],
             [
              0.1111111111111111,
              "#46039f"
             ],
             [
              0.2222222222222222,
              "#7201a8"
             ],
             [
              0.3333333333333333,
              "#9c179e"
             ],
             [
              0.4444444444444444,
              "#bd3786"
             ],
             [
              0.5555555555555556,
              "#d8576b"
             ],
             [
              0.6666666666666666,
              "#ed7953"
             ],
             [
              0.7777777777777778,
              "#fb9f3a"
             ],
             [
              0.8888888888888888,
              "#fdca26"
             ],
             [
              1,
              "#f0f921"
             ]
            ],
            "type": "surface"
           }
          ],
          "table": [
           {
            "cells": {
             "fill": {
              "color": "#EBF0F8"
             },
             "line": {
              "color": "white"
             }
            },
            "header": {
             "fill": {
              "color": "#C8D4E3"
             },
             "line": {
              "color": "white"
             }
            },
            "type": "table"
           }
          ]
         },
         "layout": {
          "annotationdefaults": {
           "arrowcolor": "#2a3f5f",
           "arrowhead": 0,
           "arrowwidth": 1
          },
          "coloraxis": {
           "colorbar": {
            "outlinewidth": 0,
            "ticks": ""
           }
          },
          "colorscale": {
           "diverging": [
            [
             0,
             "#8e0152"
            ],
            [
             0.1,
             "#c51b7d"
            ],
            [
             0.2,
             "#de77ae"
            ],
            [
             0.3,
             "#f1b6da"
            ],
            [
             0.4,
             "#fde0ef"
            ],
            [
             0.5,
             "#f7f7f7"
            ],
            [
             0.6,
             "#e6f5d0"
            ],
            [
             0.7,
             "#b8e186"
            ],
            [
             0.8,
             "#7fbc41"
            ],
            [
             0.9,
             "#4d9221"
            ],
            [
             1,
             "#276419"
            ]
           ],
           "sequential": [
            [
             0,
             "#0d0887"
            ],
            [
             0.1111111111111111,
             "#46039f"
            ],
            [
             0.2222222222222222,
             "#7201a8"
            ],
            [
             0.3333333333333333,
             "#9c179e"
            ],
            [
             0.4444444444444444,
             "#bd3786"
            ],
            [
             0.5555555555555556,
             "#d8576b"
            ],
            [
             0.6666666666666666,
             "#ed7953"
            ],
            [
             0.7777777777777778,
             "#fb9f3a"
            ],
            [
             0.8888888888888888,
             "#fdca26"
            ],
            [
             1,
             "#f0f921"
            ]
           ],
           "sequentialminus": [
            [
             0,
             "#0d0887"
            ],
            [
             0.1111111111111111,
             "#46039f"
            ],
            [
             0.2222222222222222,
             "#7201a8"
            ],
            [
             0.3333333333333333,
             "#9c179e"
            ],
            [
             0.4444444444444444,
             "#bd3786"
            ],
            [
             0.5555555555555556,
             "#d8576b"
            ],
            [
             0.6666666666666666,
             "#ed7953"
            ],
            [
             0.7777777777777778,
             "#fb9f3a"
            ],
            [
             0.8888888888888888,
             "#fdca26"
            ],
            [
             1,
             "#f0f921"
            ]
           ]
          },
          "colorway": [
           "#636efa",
           "#EF553B",
           "#00cc96",
           "#ab63fa",
           "#FFA15A",
           "#19d3f3",
           "#FF6692",
           "#B6E880",
           "#FF97FF",
           "#FECB52"
          ],
          "font": {
           "color": "#2a3f5f"
          },
          "geo": {
           "bgcolor": "white",
           "lakecolor": "white",
           "landcolor": "#E5ECF6",
           "showlakes": true,
           "showland": true,
           "subunitcolor": "white"
          },
          "hoverlabel": {
           "align": "left"
          },
          "hovermode": "closest",
          "mapbox": {
           "style": "light"
          },
          "paper_bgcolor": "white",
          "plot_bgcolor": "#E5ECF6",
          "polar": {
           "angularaxis": {
            "gridcolor": "white",
            "linecolor": "white",
            "ticks": ""
           },
           "bgcolor": "#E5ECF6",
           "radialaxis": {
            "gridcolor": "white",
            "linecolor": "white",
            "ticks": ""
           }
          },
          "scene": {
           "xaxis": {
            "backgroundcolor": "#E5ECF6",
            "gridcolor": "white",
            "gridwidth": 2,
            "linecolor": "white",
            "showbackground": true,
            "ticks": "",
            "zerolinecolor": "white"
           },
           "yaxis": {
            "backgroundcolor": "#E5ECF6",
            "gridcolor": "white",
            "gridwidth": 2,
            "linecolor": "white",
            "showbackground": true,
            "ticks": "",
            "zerolinecolor": "white"
           },
           "zaxis": {
            "backgroundcolor": "#E5ECF6",
            "gridcolor": "white",
            "gridwidth": 2,
            "linecolor": "white",
            "showbackground": true,
            "ticks": "",
            "zerolinecolor": "white"
           }
          },
          "shapedefaults": {
           "line": {
            "color": "#2a3f5f"
           }
          },
          "ternary": {
           "aaxis": {
            "gridcolor": "white",
            "linecolor": "white",
            "ticks": ""
           },
           "baxis": {
            "gridcolor": "white",
            "linecolor": "white",
            "ticks": ""
           },
           "bgcolor": "#E5ECF6",
           "caxis": {
            "gridcolor": "white",
            "linecolor": "white",
            "ticks": ""
           }
          },
          "title": {
           "x": 0.05
          },
          "xaxis": {
           "automargin": true,
           "gridcolor": "white",
           "linecolor": "white",
           "ticks": "",
           "title": {
            "standoff": 15
           },
           "zerolinecolor": "white",
           "zerolinewidth": 2
          },
          "yaxis": {
           "automargin": true,
           "gridcolor": "white",
           "linecolor": "white",
           "ticks": "",
           "title": {
            "standoff": 15
           },
           "zerolinecolor": "white",
           "zerolinewidth": 2
          }
         }
        },
        "title": {
         "text": "Distribución de los encuestados según género"
        },
        "xaxis": {
         "anchor": "y",
         "domain": [
          0,
          1
         ],
         "title": {
          "text": "Género"
         }
        },
        "yaxis": {
         "anchor": "x",
         "domain": [
          0,
          1
         ],
         "title": {
          "text": " "
         }
        }
       }
      },
      "text/html": [
       "<div>\n",
       "        \n",
       "        \n",
       "            <div id=\"9982207b-703c-42c4-b73d-4f13eecc1b16\" class=\"plotly-graph-div\" style=\"height:600px; width:100%;\"></div>\n",
       "            <script type=\"text/javascript\">\n",
       "                require([\"plotly\"], function(Plotly) {\n",
       "                    window.PLOTLYENV=window.PLOTLYENV || {};\n",
       "                    \n",
       "                if (document.getElementById(\"9982207b-703c-42c4-b73d-4f13eecc1b16\")) {\n",
       "                    Plotly.newPlot(\n",
       "                        '9982207b-703c-42c4-b73d-4f13eecc1b16',\n",
       "                        [{\"alignmentgroup\": \"True\", \"bingroup\": \"x\", \"hoverlabel\": {\"namelength\": 0}, \"hovertemplate\": \"G\\u00e9nero=%{x}<br>count=%{y}\", \"legendgroup\": \"\", \"marker\": {\"color\": \"#636efa\"}, \"name\": \"\", \"offsetgroup\": \"\", \"orientation\": \"v\", \"showlegend\": false, \"type\": \"histogram\", \"x\": [\"Mujer\", \"Mujer\", \"Mujer\", \"Mujer\", \"Mujer\", \"Mujer\", \"Mujer\", \"Mujer\", \"Mujer\", \"Mujer\", \"Mujer\", \"Mujer\", \"Mujer\", \"Mujer\", \"Mujer\", \"Mujer\", \"Mujer\", \"Mujer\", \"Hombre\", \"Mujer\", \"Mujer\", \"Mujer\", \"Mujer\", \"Mujer\", \"Mujer\", \"Mujer\", \"Mujer\", \"Mujer\", \"Mujer\", \"Mujer\", \"Mujer\", \"Mujer\", \"Mujer\", \"Mujer\", \"Mujer\", \"Mujer\", \"Mujer\", \"Mujer\", \"Mujer\", \"Mujer\", \"Prefiero no contestar\", \"Mujer\", \"Mujer\", \"Mujer\", \"Mujer\", \"Mujer\", \"Mujer\", \"Mujer\", \"Mujer\", \"Mujer\", \"Mujer\", \"Mujer\", \"Hombre\", \"Hombre\", \"Hombre\", \"Hombre\", \"Hombre\", \"Hombre\", \"Hombre\", \"Hombre\", \"Hombre\", \"Hombre\", \"Hombre\", \"Hombre\", \"Hombre\", \"Hombre\", \"Hombre\", \"Hombre\", \"Hombre\", \"Mujer\", \"Hombre\", \"Hombre\", \"Hombre\", \"Hombre\", \"Hombre\", \"Hombre\", \"Hombre\", \"Hombre\", \"Mujer\", \"Mujer\", \"Mujer\", \"Mujer\", \"Mujer\", \"Mujer\", \"Mujer\", \"Mujer\", \"Mujer\", \"Mujer\", \"Mujer\", \"Mujer\", \"Mujer\", \"Mujer\", \"Mujer\", \"Mujer\", \"Mujer\", \"Mujer\", \"Mujer\", \"Mujer\", \"Mujer\", \"Mujer\", \"Mujer\", \"Mujer\", \"Mujer\", \"Mujer\", \"Mujer\", \"Mujer\", \"Mujer\", \"Mujer\", \"Mujer\", \"Mujer\", \"Mujer\", \"Mujer\", \"Mujer\", \"Mujer\", \"Mujer\", \"Mujer\", \"Mujer\", \"Mujer\", \"Mujer\", \"Mujer\", \"Mujer\", \"Mujer\", \"Mujer\", \"Mujer\", \"Mujer\", \"Mujer\", \"Mujer\", \"Mujer\", \"Mujer\", \"Mujer\", \"Mujer\", \"Mujer\", \"Mujer\", \"Mujer\", \"Mujer\", \"Mujer\", \"Mujer\", \"Mujer\", \"Mujer\", \"Mujer\", \"Mujer\", \"Hombre\", \"Mujer\", \"Mujer\", \"Mujer\", \"Mujer\", \"Mujer\", \"Mujer\", \"Mujer\", \"Mujer\", \"Mujer\", \"Mujer\", \"Mujer\", \"Mujer\", \"Mujer\", \"Mujer\", \"Mujer\", \"Mujer\", \"Mujer\", \"Mujer\", \"Mujer\", \"Mujer\", \"Mujer\", \"Mujer\", \"Mujer\", \"Mujer\", \"Mujer\", \"Mujer\", \"Mujer\", \"Mujer\", \"Mujer\", \"Mujer\", \"Mujer\", \"Mujer\", \"Mujer\", \"Mujer\", \"Mujer\", \"Mujer\", \"Mujer\", \"Mujer\", \"Mujer\", \"Mujer\", \"Mujer\", \"Mujer\", \"Mujer\", \"Mujer\", \"Mujer\", \"Mujer\", \"Mujer\", \"Mujer\", \"Mujer\", \"Mujer\", \"Mujer\", \"Mujer\", \"Mujer\", \"Mujer\", \"Mujer\", \"Mujer\", \"Mujer\", \"Mujer\", \"Mujer\", \"Mujer\", \"Mujer\", \"Mujer\", \"Mujer\", \"Mujer\", \"Mujer\", \"Mujer\", \"Mujer\", \"Mujer\", \"Mujer\", \"Mujer\", \"Mujer\", \"Mujer\", \"Mujer\", \"Mujer\", \"Mujer\", \"Mujer\", \"Mujer\", \"Mujer\", \"Mujer\", \"Mujer\", \"Mujer\", \"Mujer\", \"Mujer\", \"Mujer\", \"Mujer\", \"Mujer\", \"Mujer\", \"Mujer\", \"Mujer\", \"Mujer\", \"Mujer\", \"Mujer\", \"Mujer\", \"Mujer\", \"Mujer\", \"Mujer\", \"Mujer\", \"Mujer\", \"Mujer\", \"Mujer\", \"Mujer\", \"Mujer\", \"Mujer\", \"Mujer\", \"Mujer\", \"Mujer\", \"Mujer\", \"Mujer\", \"Mujer\", \"Mujer\", \"Mujer\", \"Mujer\", \"Mujer\", \"Mujer\", \"Mujer\", \"Mujer\", \"Mujer\", \"Mujer\", \"Mujer\", \"Mujer\", \"Mujer\", \"Mujer\", \"Mujer\", \"Mujer\", \"Mujer\", \"Mujer\", \"Mujer\", \"Mujer\", \"Mujer\", \"Mujer\", \"Mujer\", \"Mujer\", \"Mujer\", \"Mujer\", \"Mujer\", \"Mujer\", \"Mujer\", \"Mujer\", \"Mujer\", \"Mujer\", \"Mujer\", \"Mujer\", \"Mujer\", \"Mujer\", \"Mujer\", \"Mujer\", \"Mujer\", \"Mujer\", \"Mujer\", \"Hombre\", \"Hombre\", \"Hombre\", \"Hombre\", \"Hombre\", \"Hombre\", \"Hombre\", \"Hombre\", \"Hombre\", \"Hombre\", \"Hombre\", \"Hombre\", \"Hombre\", \"Hombre\", \"Hombre\", \"Hombre\", \"Hombre\", \"Hombre\", \"Hombre\", \"Hombre\", \"Hombre\", \"Hombre\", \"Hombre\", \"Hombre\", null, \"Hombre\", \"Hombre\", \"Hombre\", \"Hombre\", \"Hombre\", \"Hombre\", \"Hombre\", \"Hombre\", \"Hombre\", \"Hombre\", \"Hombre\", \"Hombre\", \"Hombre\", \"Mujer\", \"Hombre\", \"Hombre\", \"Hombre\", \"Hombre\", \"Hombre\", \"Hombre\", \"Hombre\", \"Hombre\", \"Otro\", \"Hombre\", \"Hombre\", \"Hombre\", \"Hombre\", \"Hombre\", \"Hombre\", \"Hombre\", \"Hombre\", \"Hombre\", \"Hombre\", \"Hombre\", \"Hombre\", \"Hombre\", \"Hombre\", \"Hombre\", \"Hombre\", \"Hombre\", \"Hombre\", \"Hombre\", \"Hombre\", \"Hombre\", \"Mujer\", \"Hombre\", \"Hombre\", \"Hombre\", \"Hombre\", \"Hombre\", \"Hombre\", \"Hombre\", \"Hombre\", \"Hombre\", \"Hombre\", \"Hombre\", \"Hombre\", \"Hombre\", \"Hombre\", \"Hombre\", \"Hombre\", \"Hombre\", \"Hombre\", \"Hombre\", \"Hombre\", \"Hombre\", \"Hombre\", \"Hombre\", \"Hombre\", \"Hombre\", \"Hombre\", \"Hombre\", \"Hombre\", \"Hombre\", \"Hombre\", null, \"Hombre\", \"Hombre\", \"Mujer\", \"Hombre\", \"Hombre\", \"Hombre\", \"Hombre\", \"Hombre\", \"Hombre\", \"Hombre\", \"Hombre\", \"Hombre\", \"Hombre\", \"Hombre\", \"Hombre\", \"Hombre\", \"Hombre\", \"Hombre\", \"Hombre\", \"Hombre\", \"Hombre\", \"Hombre\", \"Hombre\", \"Hombre\", \"Hombre\", \"Hombre\", \"Hombre\", \"Hombre\", \"Hombre\", \"Hombre\", \"Hombre\", \"Hombre\", \"Hombre\", \"Hombre\", \"Hombre\", \"Hombre\", \"Hombre\", \"Hombre\", \"Hombre\", \"Hombre\", \"Hombre\", \"Hombre\", \"Mujer\", \"Hombre\", \"Hombre\", \"Hombre\", \"Hombre\", \"Hombre\", \"Hombre\", \"Hombre\", \"Hombre\", \"Hombre\", \"Hombre\", \"Hombre\", \"Hombre\", \"Hombre\", \"Hombre\", \"Hombre\", \"Hombre\", \"Hombre\", \"Hombre\", \"Hombre\", \"Hombre\", \"Hombre\", \"Hombre\", \"Hombre\", \"Hombre\", \"Hombre\", \"Hombre\", \"Hombre\", \"Hombre\", \"Hombre\", \"Hombre\", \"Hombre\", \"Hombre\", \"Hombre\", \"Hombre\", \"Hombre\", \"Hombre\", \"Hombre\", \"Hombre\", \"Hombre\", \"Hombre\", \"Hombre\", \"Hombre\", \"Hombre\", \"Hombre\", \"Hombre\", \"Hombre\", \"Hombre\", \"Hombre\", \"Hombre\", \"Hombre\", \"Hombre\", \"Hombre\", \"Hombre\", \"Hombre\", \"Hombre\", \"Hombre\", \"Hombre\", \"Hombre\", \"Hombre\", \"Mujer\", \"Hombre\", \"Hombre\", \"Hombre\", \"Hombre\", \"Hombre\", \"Mujer\", \"Hombre\", \"Hombre\", \"Otro\", \"Hombre\", \"Hombre\", \"Hombre\", \"Hombre\", \"Hombre\", \"Hombre\", \"Hombre\", \"Hombre\", \"Hombre\", \"Hombre\", \"Hombre\", \"Hombre\", \"Hombre\", \"Hombre\", \"Hombre\", \"Hombre\", \"Hombre\", \"Hombre\", \"Hombre\", \"Hombre\", \"Hombre\", \"Hombre\", \"Hombre\", \"Hombre\", \"Hombre\", \"Hombre\", \"Hombre\", \"Hombre\", \"Hombre\", \"Mujer\", \"Hombre\", \"Hombre\", \"Hombre\", \"Hombre\", \"Hombre\", \"Hombre\", \"Hombre\", \"Hombre\", \"Hombre\", \"Hombre\", \"Hombre\", \"Hombre\", \"Hombre\", \"Hombre\", \"Hombre\", \"Hombre\", \"Hombre\", \"Hombre\", \"Hombre\", \"Hombre\", \"Hombre\", \"Hombre\", \"Hombre\", \"Hombre\", \"Hombre\", \"Hombre\", \"Hombre\", \"Hombre\", \"Hombre\", \"Hombre\", \"Hombre\", \"Hombre\", \"Hombre\", \"Hombre\", \"Hombre\", \"Hombre\", \"Hombre\", \"Mujer\", \"Hombre\", \"Hombre\", \"Prefiero no contestar\", \"Hombre\", \"Hombre\", \"Hombre\", \"Hombre\", \"Hombre\", \"Hombre\", \"Hombre\", \"Hombre\", \"Hombre\", \"Hombre\", \"Hombre\", \"Hombre\", \"Hombre\", \"Hombre\", \"Hombre\", \"Hombre\", \"Hombre\", \"Hombre\", \"Hombre\", \"Hombre\", \"Hombre\", \"Mujer\", \"Hombre\", \"Hombre\", \"Hombre\", \"Hombre\", \"Hombre\", \"Hombre\", \"Hombre\", \"Hombre\", \"Hombre\", \"Hombre\", \"Hombre\", \"Hombre\", \"Hombre\", \"Hombre\", \"Hombre\", \"Hombre\", \"Hombre\", \"Hombre\", \"Hombre\", \"Mujer\", \"Mujer\", \"Mujer\", \"Mujer\", \"Mujer\", \"Mujer\", \"Mujer\", \"Mujer\", \"Mujer\", \"Mujer\", \"Mujer\", \"Mujer\", \"Mujer\", \"Mujer\", \"Mujer\", \"Mujer\", \"Mujer\", \"Mujer\", \"Mujer\", \"Mujer\", \"Mujer\", \"Mujer\", \"Mujer\", \"Mujer\", \"Mujer\", \"Mujer\", \"Mujer\", \"Mujer\", \"Mujer\", \"Mujer\", \"Mujer\", \"Mujer\", \"Mujer\", \"Mujer\", \"Mujer\", \"Mujer\", \"Mujer\", \"Mujer\", \"Mujer\", \"Mujer\", \"Mujer\", \"Mujer\", \"Mujer\", \"Mujer\", \"Mujer\", \"Mujer\", \"Mujer\", \"Mujer\", \"Mujer\", \"Mujer\", \"Mujer\", \"Mujer\", \"Mujer\", \"Mujer\", \"Mujer\", \"Mujer\", \"Mujer\", \"Mujer\", \"Mujer\", \"Mujer\", \"Mujer\", \"Mujer\", \"Mujer\", \"Mujer\", \"Mujer\", \"Mujer\", \"Mujer\", \"Mujer\", \"Mujer\", \"Mujer\", \"Mujer\", \"Mujer\", \"Mujer\", \"Mujer\", \"Mujer\", \"Mujer\", \"Mujer\", \"Mujer\", \"Mujer\", \"Mujer\", \"Mujer\", \"Mujer\", \"Mujer\", \"Mujer\", \"Mujer\", \"Mujer\", \"Mujer\", \"Mujer\", \"Mujer\", \"Mujer\", \"Mujer\", \"Mujer\", \"Mujer\", \"Mujer\", \"Mujer\", \"Prefiero no contestar\", \"Mujer\", \"Mujer\", \"Mujer\", \"Mujer\", \"Mujer\", \"Mujer\", \"Mujer\", \"Mujer\", \"Mujer\", \"Mujer\", \"Mujer\", \"Mujer\", \"Mujer\", \"Mujer\", \"Mujer\", \"Prefiero no contestar\", \"Mujer\", \"Mujer\", \"Mujer\", \"Mujer\", \"Mujer\", \"Mujer\", \"Mujer\", \"Mujer\", \"Mujer\", \"Mujer\", \"Mujer\", \"Mujer\", \"Mujer\", \"Mujer\", \"Mujer\", \"Mujer\", \"Mujer\", \"Mujer\", \"Mujer\", \"Mujer\", \"Mujer\", \"Mujer\", \"Mujer\", \"Hombre\", \"Mujer\", \"Mujer\", \"Mujer\", \"Mujer\", \"Mujer\", \"Mujer\", \"Mujer\", \"Mujer\", \"Mujer\", \"Mujer\", \"Mujer\", \"Mujer\", \"Mujer\", \"Mujer\", \"Mujer\", \"Mujer\", \"Mujer\", \"Mujer\", \"Mujer\", \"Mujer\", \"Mujer\", \"Mujer\", \"Mujer\", \"Mujer\", \"Mujer\", \"Mujer\", \"Mujer\", \"Mujer\", \"Mujer\", \"Mujer\", \"Mujer\", \"Mujer\", \"Mujer\", \"Mujer\", \"Mujer\", \"Mujer\", \"Mujer\", \"Mujer\", \"Mujer\", \"Mujer\", \"Mujer\", \"Hombre\", \"Mujer\", \"Mujer\", \"Mujer\", \"Mujer\", \"Mujer\", \"Mujer\", \"Mujer\", \"Mujer\", \"Mujer\", \"Mujer\", \"Mujer\", \"Mujer\", \"Mujer\", \"Mujer\", \"Mujer\", \"Mujer\", \"Mujer\", \"Mujer\", \"Mujer\", \"Mujer\", \"Mujer\", \"Mujer\", \"Mujer\", \"Mujer\", \"Mujer\", \"Mujer\", \"Mujer\", \"Mujer\", \"Mujer\", \"Mujer\", \"Mujer\", \"Mujer\", \"Mujer\", \"Mujer\", \"Mujer\", \"Mujer\", \"Mujer\", \"Mujer\", \"Mujer\", \"Mujer\", \"Mujer\", \"Mujer\", \"Mujer\", \"Mujer\", \"Mujer\", \"Mujer\", \"Mujer\", \"Mujer\", \"Mujer\", \"Mujer\", \"Mujer\", \"Mujer\", \"Mujer\", \"Mujer\", \"Mujer\", \"Mujer\", \"Mujer\", \"Mujer\", \"Mujer\", \"Mujer\", \"Mujer\", \"Mujer\", \"Mujer\", \"Mujer\", \"Mujer\", \"Mujer\", \"Mujer\", \"Mujer\", \"Mujer\", \"Mujer\", null, \"Mujer\", \"Mujer\", \"Mujer\", \"Mujer\", \"Mujer\", \"Mujer\", \"Mujer\", \"Mujer\", \"Mujer\", \"Mujer\", \"Mujer\", \"Mujer\", \"Mujer\", \"Mujer\", \"Mujer\", \"Mujer\", \"Mujer\", \"Mujer\", \"Mujer\", \"Mujer\", \"Mujer\", \"Mujer\", \"Mujer\", \"Mujer\", \"Mujer\", \"Mujer\", \"Mujer\", \"Mujer\", \"Mujer\", \"Mujer\", \"Mujer\", \"Mujer\", \"Mujer\", \"Mujer\", \"Mujer\", \"Mujer\", \"Mujer\", \"Mujer\", \"Mujer\", \"Mujer\", \"Mujer\", \"Mujer\", \"Mujer\", \"Mujer\", \"Mujer\", \"Mujer\", \"Mujer\", \"Mujer\", \"Mujer\", \"Mujer\", \"Mujer\", \"Mujer\", \"Mujer\", \"Mujer\", \"Mujer\", \"Mujer\", \"Mujer\", \"Mujer\", \"Mujer\", \"Mujer\", \"Mujer\", \"Mujer\", \"Mujer\", \"Mujer\", \"Mujer\", \"Mujer\", \"Mujer\", \"Mujer\", \"Mujer\", \"Mujer\", \"Mujer\", \"Mujer\", \"Mujer\", \"Mujer\", \"Mujer\", \"Mujer\", \"Mujer\", \"Mujer\", \"Mujer\", \"Mujer\", \"Mujer\", \"Mujer\", \"Mujer\", \"Mujer\", \"Mujer\", \"Mujer\", \"Mujer\", \"Mujer\", \"Mujer\", \"Mujer\", \"Mujer\", \"Mujer\", \"Mujer\", \"Mujer\", \"Mujer\", \"Mujer\", \"Mujer\", \"Mujer\", \"Mujer\", \"Mujer\", \"Mujer\", \"Mujer\", \"Mujer\", \"Mujer\", \"Mujer\", \"Mujer\", \"Mujer\", \"Mujer\", \"Mujer\", \"Mujer\", \"Mujer\", \"Mujer\", \"Mujer\", \"Mujer\", \"Mujer\", \"Mujer\", \"Mujer\", \"Mujer\", \"Mujer\", \"Mujer\", \"Mujer\", \"Mujer\", \"Mujer\", \"Mujer\", \"Mujer\", \"Mujer\", \"Mujer\", \"Mujer\", \"Mujer\", \"Mujer\", \"Mujer\", \"Mujer\", \"Mujer\", \"Mujer\", \"Mujer\", \"Mujer\", \"Mujer\", \"Mujer\", \"Mujer\", \"Mujer\", \"Mujer\", \"Mujer\", \"Mujer\", \"Mujer\", \"Mujer\", \"Mujer\", \"Mujer\", \"Mujer\", \"Mujer\", \"Mujer\", \"Mujer\", \"Mujer\", \"Mujer\", \"Mujer\", \"Mujer\", \"Mujer\", \"Mujer\", \"Mujer\", \"Mujer\", \"Mujer\", \"Mujer\", \"Mujer\", \"Mujer\", \"Mujer\", \"Mujer\", \"Prefiero no contestar\", \"Mujer\", \"Mujer\", \"Mujer\", \"Mujer\", \"Mujer\", \"Mujer\", \"Mujer\", \"Mujer\", \"Mujer\", \"Mujer\", \"Mujer\", \"Mujer\", \"Mujer\", \"Mujer\", \"Mujer\", \"Mujer\", \"Mujer\", \"Mujer\", \"Mujer\", \"Mujer\", \"Mujer\", \"Mujer\", null, \"Mujer\", \"Mujer\", \"Mujer\", \"Mujer\", \"Mujer\", \"Mujer\", \"Mujer\", \"Mujer\", \"Mujer\", \"Mujer\", \"Mujer\", \"Mujer\", \"Mujer\", \"Mujer\", \"Mujer\", \"Mujer\", \"Mujer\", \"Mujer\", \"Mujer\", \"Mujer\", \"Mujer\", \"Mujer\", \"Mujer\", \"Mujer\", \"Mujer\", \"Mujer\", \"Mujer\", \"Mujer\", \"Mujer\", \"Mujer\", \"Mujer\", \"Mujer\", \"Mujer\", \"Mujer\", \"Mujer\", \"Mujer\", \"Mujer\", \"Mujer\", \"Mujer\", \"Mujer\", \"Mujer\", \"Mujer\", \"Mujer\", \"Mujer\", \"Mujer\", \"Mujer\", \"Mujer\", \"Mujer\", \"Mujer\", \"Mujer\", \"Mujer\", \"Hombre\", \"Prefiero no contestar\", \"Hombre\", \"Hombre\", \"Hombre\", \"Hombre\", \"Hombre\", \"Hombre\", \"Hombre\", \"Hombre\", \"Hombre\", \"Hombre\", \"Hombre\", \"Hombre\", \"Hombre\", \"Hombre\", \"Hombre\", \"Hombre\", \"Hombre\", \"Prefiero no contestar\", \"Hombre\", \"Hombre\", \"Hombre\", \"Hombre\", \"Hombre\", \"Hombre\", \"Hombre\", \"Hombre\", \"Hombre\", \"Hombre\", \"Hombre\", \"Hombre\", \"Prefiero no contestar\", \"Hombre\", \"Hombre\", \"Hombre\", \"Hombre\", \"Hombre\", \"Hombre\", \"Hombre\", \"Hombre\", \"Hombre\", \"Hombre\", \"Hombre\", \"Hombre\", \"Hombre\", \"Hombre\", \"Hombre\", \"Hombre\", \"Hombre\", \"Hombre\", \"Hombre\", \"Hombre\", \"Hombre\", \"Hombre\", \"Hombre\", \"Hombre\", \"Hombre\", \"Hombre\", \"Hombre\", \"Hombre\", \"Hombre\", \"Hombre\", \"Hombre\", \"Hombre\", \"Hombre\", \"Hombre\", \"Hombre\", \"Mujer\", \"Hombre\", \"Hombre\", \"Hombre\", \"Hombre\", \"Hombre\", \"Hombre\", \"Hombre\", \"Hombre\", \"Hombre\", \"Hombre\", \"Hombre\", \"Hombre\", \"Hombre\", \"Hombre\", \"Hombre\", \"Hombre\", \"Hombre\", \"Hombre\", \"Hombre\", \"Hombre\", \"Hombre\", \"Hombre\", \"Hombre\", \"Hombre\", \"Hombre\", \"Hombre\", \"Hombre\", \"Hombre\", \"Hombre\", \"Hombre\"], \"xaxis\": \"x\", \"yaxis\": \"y\"}],\n",
       "                        {\"barmode\": \"relative\", \"height\": 600, \"legend\": {\"tracegroupgap\": 0}, \"template\": {\"data\": {\"bar\": [{\"error_x\": {\"color\": \"#2a3f5f\"}, \"error_y\": {\"color\": \"#2a3f5f\"}, \"marker\": {\"line\": {\"color\": \"#E5ECF6\", \"width\": 0.5}}, \"type\": \"bar\"}], \"barpolar\": [{\"marker\": {\"line\": {\"color\": \"#E5ECF6\", \"width\": 0.5}}, \"type\": \"barpolar\"}], \"carpet\": [{\"aaxis\": {\"endlinecolor\": \"#2a3f5f\", \"gridcolor\": \"white\", \"linecolor\": \"white\", \"minorgridcolor\": \"white\", \"startlinecolor\": \"#2a3f5f\"}, \"baxis\": {\"endlinecolor\": \"#2a3f5f\", \"gridcolor\": \"white\", \"linecolor\": \"white\", \"minorgridcolor\": \"white\", \"startlinecolor\": \"#2a3f5f\"}, \"type\": \"carpet\"}], \"choropleth\": [{\"colorbar\": {\"outlinewidth\": 0, \"ticks\": \"\"}, \"type\": \"choropleth\"}], \"contour\": [{\"colorbar\": {\"outlinewidth\": 0, \"ticks\": \"\"}, \"colorscale\": [[0.0, \"#0d0887\"], [0.1111111111111111, \"#46039f\"], [0.2222222222222222, \"#7201a8\"], [0.3333333333333333, \"#9c179e\"], [0.4444444444444444, \"#bd3786\"], [0.5555555555555556, \"#d8576b\"], [0.6666666666666666, \"#ed7953\"], [0.7777777777777778, \"#fb9f3a\"], [0.8888888888888888, \"#fdca26\"], [1.0, \"#f0f921\"]], \"type\": \"contour\"}], \"contourcarpet\": [{\"colorbar\": {\"outlinewidth\": 0, \"ticks\": \"\"}, \"type\": \"contourcarpet\"}], \"heatmap\": [{\"colorbar\": {\"outlinewidth\": 0, \"ticks\": \"\"}, \"colorscale\": [[0.0, \"#0d0887\"], [0.1111111111111111, \"#46039f\"], [0.2222222222222222, \"#7201a8\"], [0.3333333333333333, \"#9c179e\"], [0.4444444444444444, \"#bd3786\"], [0.5555555555555556, \"#d8576b\"], [0.6666666666666666, \"#ed7953\"], [0.7777777777777778, \"#fb9f3a\"], [0.8888888888888888, \"#fdca26\"], [1.0, \"#f0f921\"]], \"type\": \"heatmap\"}], \"heatmapgl\": [{\"colorbar\": {\"outlinewidth\": 0, \"ticks\": \"\"}, \"colorscale\": [[0.0, \"#0d0887\"], [0.1111111111111111, \"#46039f\"], [0.2222222222222222, \"#7201a8\"], [0.3333333333333333, \"#9c179e\"], [0.4444444444444444, \"#bd3786\"], [0.5555555555555556, \"#d8576b\"], [0.6666666666666666, \"#ed7953\"], [0.7777777777777778, \"#fb9f3a\"], [0.8888888888888888, \"#fdca26\"], [1.0, \"#f0f921\"]], \"type\": \"heatmapgl\"}], \"histogram\": [{\"marker\": {\"colorbar\": {\"outlinewidth\": 0, \"ticks\": \"\"}}, \"type\": \"histogram\"}], \"histogram2d\": [{\"colorbar\": {\"outlinewidth\": 0, \"ticks\": \"\"}, \"colorscale\": [[0.0, \"#0d0887\"], [0.1111111111111111, \"#46039f\"], [0.2222222222222222, \"#7201a8\"], [0.3333333333333333, \"#9c179e\"], [0.4444444444444444, \"#bd3786\"], [0.5555555555555556, \"#d8576b\"], [0.6666666666666666, \"#ed7953\"], [0.7777777777777778, \"#fb9f3a\"], [0.8888888888888888, \"#fdca26\"], [1.0, \"#f0f921\"]], \"type\": \"histogram2d\"}], \"histogram2dcontour\": [{\"colorbar\": {\"outlinewidth\": 0, \"ticks\": \"\"}, \"colorscale\": [[0.0, \"#0d0887\"], [0.1111111111111111, \"#46039f\"], [0.2222222222222222, \"#7201a8\"], [0.3333333333333333, \"#9c179e\"], [0.4444444444444444, \"#bd3786\"], [0.5555555555555556, \"#d8576b\"], [0.6666666666666666, \"#ed7953\"], [0.7777777777777778, \"#fb9f3a\"], [0.8888888888888888, \"#fdca26\"], [1.0, \"#f0f921\"]], \"type\": \"histogram2dcontour\"}], \"mesh3d\": [{\"colorbar\": {\"outlinewidth\": 0, \"ticks\": \"\"}, \"type\": \"mesh3d\"}], \"parcoords\": [{\"line\": {\"colorbar\": {\"outlinewidth\": 0, \"ticks\": \"\"}}, \"type\": \"parcoords\"}], \"pie\": [{\"automargin\": true, \"type\": \"pie\"}], \"scatter\": [{\"marker\": {\"colorbar\": {\"outlinewidth\": 0, \"ticks\": \"\"}}, \"type\": \"scatter\"}], \"scatter3d\": [{\"line\": {\"colorbar\": {\"outlinewidth\": 0, \"ticks\": \"\"}}, \"marker\": {\"colorbar\": {\"outlinewidth\": 0, \"ticks\": \"\"}}, \"type\": \"scatter3d\"}], \"scattercarpet\": [{\"marker\": {\"colorbar\": {\"outlinewidth\": 0, \"ticks\": \"\"}}, \"type\": \"scattercarpet\"}], \"scattergeo\": [{\"marker\": {\"colorbar\": {\"outlinewidth\": 0, \"ticks\": \"\"}}, \"type\": \"scattergeo\"}], \"scattergl\": [{\"marker\": {\"colorbar\": {\"outlinewidth\": 0, \"ticks\": \"\"}}, \"type\": \"scattergl\"}], \"scattermapbox\": [{\"marker\": {\"colorbar\": {\"outlinewidth\": 0, \"ticks\": \"\"}}, \"type\": \"scattermapbox\"}], \"scatterpolar\": [{\"marker\": {\"colorbar\": {\"outlinewidth\": 0, \"ticks\": \"\"}}, \"type\": \"scatterpolar\"}], \"scatterpolargl\": [{\"marker\": {\"colorbar\": {\"outlinewidth\": 0, \"ticks\": \"\"}}, \"type\": \"scatterpolargl\"}], \"scatterternary\": [{\"marker\": {\"colorbar\": {\"outlinewidth\": 0, \"ticks\": \"\"}}, \"type\": \"scatterternary\"}], \"surface\": [{\"colorbar\": {\"outlinewidth\": 0, \"ticks\": \"\"}, \"colorscale\": [[0.0, \"#0d0887\"], [0.1111111111111111, \"#46039f\"], [0.2222222222222222, \"#7201a8\"], [0.3333333333333333, \"#9c179e\"], [0.4444444444444444, \"#bd3786\"], [0.5555555555555556, \"#d8576b\"], [0.6666666666666666, \"#ed7953\"], [0.7777777777777778, \"#fb9f3a\"], [0.8888888888888888, \"#fdca26\"], [1.0, \"#f0f921\"]], \"type\": \"surface\"}], \"table\": [{\"cells\": {\"fill\": {\"color\": \"#EBF0F8\"}, \"line\": {\"color\": \"white\"}}, \"header\": {\"fill\": {\"color\": \"#C8D4E3\"}, \"line\": {\"color\": \"white\"}}, \"type\": \"table\"}]}, \"layout\": {\"annotationdefaults\": {\"arrowcolor\": \"#2a3f5f\", \"arrowhead\": 0, \"arrowwidth\": 1}, \"coloraxis\": {\"colorbar\": {\"outlinewidth\": 0, \"ticks\": \"\"}}, \"colorscale\": {\"diverging\": [[0, \"#8e0152\"], [0.1, \"#c51b7d\"], [0.2, \"#de77ae\"], [0.3, \"#f1b6da\"], [0.4, \"#fde0ef\"], [0.5, \"#f7f7f7\"], [0.6, \"#e6f5d0\"], [0.7, \"#b8e186\"], [0.8, \"#7fbc41\"], [0.9, \"#4d9221\"], [1, \"#276419\"]], \"sequential\": [[0.0, \"#0d0887\"], [0.1111111111111111, \"#46039f\"], [0.2222222222222222, \"#7201a8\"], [0.3333333333333333, \"#9c179e\"], [0.4444444444444444, \"#bd3786\"], [0.5555555555555556, \"#d8576b\"], [0.6666666666666666, \"#ed7953\"], [0.7777777777777778, \"#fb9f3a\"], [0.8888888888888888, \"#fdca26\"], [1.0, \"#f0f921\"]], \"sequentialminus\": [[0.0, \"#0d0887\"], [0.1111111111111111, \"#46039f\"], [0.2222222222222222, \"#7201a8\"], [0.3333333333333333, \"#9c179e\"], [0.4444444444444444, \"#bd3786\"], [0.5555555555555556, \"#d8576b\"], [0.6666666666666666, \"#ed7953\"], [0.7777777777777778, \"#fb9f3a\"], [0.8888888888888888, \"#fdca26\"], [1.0, \"#f0f921\"]]}, \"colorway\": [\"#636efa\", \"#EF553B\", \"#00cc96\", \"#ab63fa\", \"#FFA15A\", \"#19d3f3\", \"#FF6692\", \"#B6E880\", \"#FF97FF\", \"#FECB52\"], \"font\": {\"color\": \"#2a3f5f\"}, \"geo\": {\"bgcolor\": \"white\", \"lakecolor\": \"white\", \"landcolor\": \"#E5ECF6\", \"showlakes\": true, \"showland\": true, \"subunitcolor\": \"white\"}, \"hoverlabel\": {\"align\": \"left\"}, \"hovermode\": \"closest\", \"mapbox\": {\"style\": \"light\"}, \"paper_bgcolor\": \"white\", \"plot_bgcolor\": \"#E5ECF6\", \"polar\": {\"angularaxis\": {\"gridcolor\": \"white\", \"linecolor\": \"white\", \"ticks\": \"\"}, \"bgcolor\": \"#E5ECF6\", \"radialaxis\": {\"gridcolor\": \"white\", \"linecolor\": \"white\", \"ticks\": \"\"}}, \"scene\": {\"xaxis\": {\"backgroundcolor\": \"#E5ECF6\", \"gridcolor\": \"white\", \"gridwidth\": 2, \"linecolor\": \"white\", \"showbackground\": true, \"ticks\": \"\", \"zerolinecolor\": \"white\"}, \"yaxis\": {\"backgroundcolor\": \"#E5ECF6\", \"gridcolor\": \"white\", \"gridwidth\": 2, \"linecolor\": \"white\", \"showbackground\": true, \"ticks\": \"\", \"zerolinecolor\": \"white\"}, \"zaxis\": {\"backgroundcolor\": \"#E5ECF6\", \"gridcolor\": \"white\", \"gridwidth\": 2, \"linecolor\": \"white\", \"showbackground\": true, \"ticks\": \"\", \"zerolinecolor\": \"white\"}}, \"shapedefaults\": {\"line\": {\"color\": \"#2a3f5f\"}}, \"ternary\": {\"aaxis\": {\"gridcolor\": \"white\", \"linecolor\": \"white\", \"ticks\": \"\"}, \"baxis\": {\"gridcolor\": \"white\", \"linecolor\": \"white\", \"ticks\": \"\"}, \"bgcolor\": \"#E5ECF6\", \"caxis\": {\"gridcolor\": \"white\", \"linecolor\": \"white\", \"ticks\": \"\"}}, \"title\": {\"x\": 0.05}, \"xaxis\": {\"automargin\": true, \"gridcolor\": \"white\", \"linecolor\": \"white\", \"ticks\": \"\", \"title\": {\"standoff\": 15}, \"zerolinecolor\": \"white\", \"zerolinewidth\": 2}, \"yaxis\": {\"automargin\": true, \"gridcolor\": \"white\", \"linecolor\": \"white\", \"ticks\": \"\", \"title\": {\"standoff\": 15}, \"zerolinecolor\": \"white\", \"zerolinewidth\": 2}}}, \"title\": {\"text\": \"Distribuci\\u00f3n de los encuestados seg\\u00fan g\\u00e9nero\"}, \"xaxis\": {\"anchor\": \"y\", \"domain\": [0.0, 1.0], \"title\": {\"text\": \"G\\u00e9nero\"}}, \"yaxis\": {\"anchor\": \"x\", \"domain\": [0.0, 1.0], \"title\": {\"text\": \" \"}}},\n",
       "                        {\"responsive\": true}\n",
       "                    ).then(function(){\n",
       "                            \n",
       "var gd = document.getElementById('9982207b-703c-42c4-b73d-4f13eecc1b16');\n",
       "var x = new MutationObserver(function (mutations, observer) {{\n",
       "        var display = window.getComputedStyle(gd).display;\n",
       "        if (!display || display === 'none') {{\n",
       "            console.log([gd, 'removed!']);\n",
       "            Plotly.purge(gd);\n",
       "            observer.disconnect();\n",
       "        }}\n",
       "}});\n",
       "\n",
       "// Listen for the removal of the full notebook cells\n",
       "var notebookContainer = gd.closest('#notebook-container');\n",
       "if (notebookContainer) {{\n",
       "    x.observe(notebookContainer, {childList: true});\n",
       "}}\n",
       "\n",
       "// Listen for the clearing of the current output cell\n",
       "var outputEl = gd.closest('.output');\n",
       "if (outputEl) {{\n",
       "    x.observe(outputEl, {childList: true});\n",
       "}}\n",
       "\n",
       "                        })\n",
       "                };\n",
       "                });\n",
       "            </script>\n",
       "        </div>"
      ]
     },
     "metadata": {},
     "output_type": "display_data"
    }
   ],
   "source": [
    "#import matplotlib\n",
    "##Grafico con distribucion por genero\n",
    "fig = px.histogram(df, x=\"genero\", title=f\"Distribución de los encuestados según género\",\n",
    "       labels={\"genero\": \"Género\"})\n",
    "fig.update_yaxes(title_text=' ',row=1, col=1)"
   ]
  },
  {
   "cell_type": "code",
   "execution_count": 23,
   "metadata": {
    "extensions": {
     "jupyter_dashboards": {
      "version": 1,
      "views": {
       "grid_default": {},
       "report_default": {
        "hidden": false
       }
      }
     }
    }
   },
   "outputs": [
    {
     "data": {
      "application/vnd.plotly.v1+json": {
       "config": {
        "plotlyServerURL": "https://plot.ly"
       },
       "data": [
        {
         "alignmentgroup": "True",
         "bingroup": "x",
         "hoverlabel": {
          "namelength": 0
         },
         "hovertemplate": "Edad=%{x}<br>count=%{y}",
         "legendgroup": "",
         "marker": {
          "color": "#636efa"
         },
         "name": "",
         "offsetgroup": "",
         "orientation": "v",
         "showlegend": false,
         "type": "histogram",
         "x": [
          "Entre 18 y 25 años",
          "Más de 66 años",
          "Entre 26 y 35 años",
          "Entre 46 y 55 años",
          "Más de 66 años",
          "Entre 26 y 35 años",
          "Entre 26 y 35 años",
          "Entre 26 y 35 años",
          "Entre 18 y 25 años",
          "Entre 18 y 25 años",
          "Entre 18 y 25 años",
          "Entre 26 y 35 años",
          "Entre 18 y 25 años",
          "Entre 26 y 35 años",
          "Menor de 18 años",
          "Entre 26 y 35 años",
          "Entre 26 y 35 años",
          "Entre 36 y 45 años",
          "Entre 18 y 25 años",
          "Entre 18 y 25 años",
          "Entre 26 y 35 años",
          "Entre 26 y 35 años",
          "Entre 18 y 25 años",
          "Entre 18 y 25 años",
          "Entre 26 y 35 años",
          "Entre 18 y 25 años",
          "Entre 56 y 65 años",
          "Entre 26 y 35 años",
          "Entre 26 y 35 años",
          "Entre 18 y 25 años",
          "Entre 18 y 25 años",
          "Entre 18 y 25 años",
          "Entre 18 y 25 años",
          "Entre 56 y 65 años",
          "Entre 56 y 65 años",
          "Entre 18 y 25 años",
          "Entre 36 y 45 años",
          "Entre 26 y 35 años",
          "Entre 26 y 35 años",
          "Entre 18 y 25 años",
          "Entre 26 y 35 años",
          "Entre 26 y 35 años",
          "Entre 18 y 25 años",
          "Entre 46 y 55 años",
          "Entre 18 y 25 años",
          "Entre 26 y 35 años",
          "Entre 18 y 25 años",
          "Entre 26 y 35 años",
          "Entre 18 y 25 años",
          "Entre 26 y 35 años",
          "Entre 18 y 25 años",
          "Entre 18 y 25 años",
          "Entre 46 y 55 años",
          "Entre 56 y 65 años",
          "Entre 26 y 35 años",
          "Entre 18 y 25 años",
          "Entre 18 y 25 años",
          "Entre 18 y 25 años",
          "Entre 26 y 35 años",
          "Entre 26 y 35 años",
          "Entre 18 y 25 años",
          "Entre 18 y 25 años",
          "Entre 26 y 35 años",
          "Entre 18 y 25 años",
          "Entre 26 y 35 años",
          "Entre 26 y 35 años",
          "Entre 26 y 35 años",
          "Entre 18 y 25 años",
          "Entre 18 y 25 años",
          "Entre 26 y 35 años",
          "Entre 18 y 25 años",
          "Entre 18 y 25 años",
          "Menor de 18 años",
          "Entre 18 y 25 años",
          "Entre 26 y 35 años",
          "Entre 46 y 55 años",
          "Entre 18 y 25 años",
          "Entre 18 y 25 años",
          "Entre 56 y 65 años",
          "Entre 46 y 55 años",
          "Entre 46 y 55 años",
          "Entre 46 y 55 años",
          "Entre 26 y 35 años",
          "Entre 46 y 55 años",
          "Entre 46 y 55 años",
          "Entre 56 y 65 años",
          "Entre 56 y 65 años",
          "Entre 56 y 65 años",
          "Entre 46 y 55 años",
          "Entre 56 y 65 años",
          "Entre 56 y 65 años",
          "Entre 46 y 55 años",
          "Entre 56 y 65 años",
          "Entre 46 y 55 años",
          "Entre 46 y 55 años",
          "Entre 46 y 55 años",
          "Más de 66 años",
          "Entre 46 y 55 años",
          "Entre 56 y 65 años",
          "Entre 46 y 55 años",
          "Entre 26 y 35 años",
          "Entre 56 y 65 años",
          "Entre 36 y 45 años",
          "Entre 56 y 65 años",
          "Entre 46 y 55 años",
          "Entre 46 y 55 años",
          "Entre 46 y 55 años",
          "Entre 36 y 45 años",
          "Entre 46 y 55 años",
          "Entre 56 y 65 años",
          "Entre 56 y 65 años",
          "Entre 46 y 55 años",
          "Entre 46 y 55 años",
          "Entre 46 y 55 años",
          "Entre 46 y 55 años",
          "Entre 56 y 65 años",
          "Entre 56 y 65 años",
          "Entre 46 y 55 años",
          "Entre 46 y 55 años",
          "Entre 46 y 55 años",
          "Entre 36 y 45 años",
          "Entre 56 y 65 años",
          "Entre 56 y 65 años",
          "Entre 56 y 65 años",
          "Entre 56 y 65 años",
          "Entre 56 y 65 años",
          "Entre 56 y 65 años",
          "Entre 46 y 55 años",
          "Entre 56 y 65 años",
          "Entre 56 y 65 años",
          "Entre 46 y 55 años",
          "Entre 46 y 55 años",
          "Entre 56 y 65 años",
          "Entre 56 y 65 años",
          "Entre 56 y 65 años",
          "Entre 46 y 55 años",
          "Entre 46 y 55 años",
          "Entre 36 y 45 años",
          "Entre 56 y 65 años",
          "Entre 56 y 65 años",
          "Entre 56 y 65 años",
          "Entre 56 y 65 años",
          "Entre 46 y 55 años",
          "Entre 56 y 65 años",
          "Entre 56 y 65 años",
          "Entre 56 y 65 años",
          "Entre 46 y 55 años",
          "Entre 46 y 55 años",
          "Entre 46 y 55 años",
          "Entre 56 y 65 años",
          "Entre 46 y 55 años",
          "Entre 56 y 65 años",
          "Entre 56 y 65 años",
          "Entre 46 y 55 años",
          "Entre 36 y 45 años",
          "Entre 46 y 55 años",
          "Entre 56 y 65 años",
          "Entre 56 y 65 años",
          "Entre 46 y 55 años",
          "Entre 46 y 55 años",
          "Entre 46 y 55 años",
          "Entre 46 y 55 años",
          "Entre 56 y 65 años",
          "Entre 56 y 65 años",
          "Entre 46 y 55 años",
          "Entre 56 y 65 años",
          "Entre 46 y 55 años",
          "Entre 56 y 65 años",
          "Entre 56 y 65 años",
          "Entre 56 y 65 años",
          "Entre 56 y 65 años",
          "Entre 36 y 45 años",
          "Entre 56 y 65 años",
          "Entre 46 y 55 años",
          "Entre 56 y 65 años",
          "Entre 56 y 65 años",
          "Entre 46 y 55 años",
          "Más de 66 años",
          "Entre 46 y 55 años",
          "Entre 56 y 65 años",
          "Entre 46 y 55 años",
          "Entre 46 y 55 años",
          "Entre 56 y 65 años",
          "Entre 46 y 55 años",
          "Entre 46 y 55 años",
          "Entre 46 y 55 años",
          "Entre 56 y 65 años",
          "Entre 56 y 65 años",
          "Entre 56 y 65 años",
          "Entre 46 y 55 años",
          "Entre 56 y 65 años",
          null,
          "Entre 46 y 55 años",
          "Entre 56 y 65 años",
          "Entre 56 y 65 años",
          "Entre 46 y 55 años",
          "Entre 46 y 55 años",
          "Entre 46 y 55 años",
          "Entre 56 y 65 años",
          "Entre 46 y 55 años",
          "Entre 56 y 65 años",
          "Entre 46 y 55 años",
          "Entre 56 y 65 años",
          "Entre 56 y 65 años",
          "Entre 46 y 55 años",
          "Entre 46 y 55 años",
          "Entre 46 y 55 años",
          "Entre 46 y 55 años",
          "Entre 46 y 55 años",
          "Entre 46 y 55 años",
          "Entre 56 y 65 años",
          "Entre 56 y 65 años",
          "Entre 56 y 65 años",
          "Entre 56 y 65 años",
          "Entre 46 y 55 años",
          "Entre 46 y 55 años",
          "Entre 56 y 65 años",
          "Entre 56 y 65 años",
          "Entre 56 y 65 años",
          "Entre 46 y 55 años",
          "Entre 46 y 55 años",
          "Entre 46 y 55 años",
          "Entre 56 y 65 años",
          "Entre 46 y 55 años",
          "Entre 46 y 55 años",
          "Entre 46 y 55 años",
          "Entre 46 y 55 años",
          "Entre 46 y 55 años",
          "Entre 56 y 65 años",
          "Entre 46 y 55 años",
          "Entre 46 y 55 años",
          "Entre 46 y 55 años",
          "Entre 46 y 55 años",
          "Entre 46 y 55 años",
          "Entre 46 y 55 años",
          "Entre 56 y 65 años",
          "Entre 46 y 55 años",
          "Entre 56 y 65 años",
          "Entre 56 y 65 años",
          "Entre 46 y 55 años",
          "Entre 56 y 65 años",
          "Entre 56 y 65 años",
          "Entre 46 y 55 años",
          "Entre 46 y 55 años",
          "Entre 46 y 55 años",
          "Entre 46 y 55 años",
          "Entre 46 y 55 años",
          "Entre 56 y 65 años",
          "Entre 56 y 65 años",
          "Entre 46 y 55 años",
          "Entre 46 y 55 años",
          "Entre 46 y 55 años",
          "Entre 46 y 55 años",
          "Entre 46 y 55 años",
          "Entre 46 y 55 años",
          "Entre 46 y 55 años",
          "Entre 56 y 65 años",
          "Entre 46 y 55 años",
          "Entre 46 y 55 años",
          "Entre 46 y 55 años",
          "Entre 56 y 65 años",
          "Entre 56 y 65 años",
          "Entre 56 y 65 años",
          "Entre 56 y 65 años",
          "Entre 46 y 55 años",
          "Entre 56 y 65 años",
          "Entre 46 y 55 años",
          "Entre 46 y 55 años",
          "Entre 46 y 55 años",
          "Entre 56 y 65 años",
          "Entre 56 y 65 años",
          "Entre 46 y 55 años",
          "Entre 56 y 65 años",
          "Entre 46 y 55 años",
          "Entre 56 y 65 años",
          "Entre 56 y 65 años",
          "Entre 56 y 65 años",
          "Entre 56 y 65 años",
          "Entre 46 y 55 años",
          "Entre 56 y 65 años",
          "Entre 46 y 55 años",
          "Entre 46 y 55 años",
          "Entre 56 y 65 años",
          "Entre 56 y 65 años",
          "Entre 46 y 55 años",
          "Entre 46 y 55 años",
          "Entre 46 y 55 años",
          "Entre 46 y 55 años",
          "Entre 46 y 55 años",
          "Entre 46 y 55 años",
          "Entre 46 y 55 años",
          "Entre 46 y 55 años",
          "Entre 56 y 65 años",
          "Entre 46 y 55 años",
          "Entre 46 y 55 años",
          "Entre 46 y 55 años",
          "Entre 46 y 55 años",
          "Entre 46 y 55 años",
          "Entre 56 y 65 años",
          "Entre 46 y 55 años",
          "Entre 46 y 55 años",
          "Entre 56 y 65 años",
          "Entre 56 y 65 años",
          "Entre 46 y 55 años",
          "Entre 56 y 65 años",
          "Entre 56 y 65 años",
          "Entre 46 y 55 años",
          "Entre 46 y 55 años",
          "Entre 56 y 65 años",
          "Entre 56 y 65 años",
          "Entre 46 y 55 años",
          "Entre 56 y 65 años",
          "Entre 56 y 65 años",
          "Entre 46 y 55 años",
          "Entre 36 y 45 años",
          null,
          "Entre 46 y 55 años",
          "Entre 26 y 35 años",
          "Entre 56 y 65 años",
          "Entre 56 y 65 años",
          "Entre 36 y 45 años",
          "Entre 46 y 55 años",
          "Entre 46 y 55 años",
          "Entre 56 y 65 años",
          "Entre 56 y 65 años",
          "Entre 36 y 45 años",
          "Entre 46 y 55 años",
          "Entre 46 y 55 años",
          "Entre 46 y 55 años",
          "Entre 36 y 45 años",
          "Entre 56 y 65 años",
          "Entre 46 y 55 años",
          "Entre 46 y 55 años",
          "Entre 46 y 55 años",
          "Entre 46 y 55 años",
          "Entre 56 y 65 años",
          "Entre 46 y 55 años",
          "Entre 46 y 55 años",
          "Entre 46 y 55 años",
          "Entre 56 y 65 años",
          "Entre 46 y 55 años",
          "Entre 46 y 55 años",
          "Entre 46 y 55 años",
          "Entre 46 y 55 años",
          "Entre 56 y 65 años",
          "Entre 36 y 45 años",
          "Entre 46 y 55 años",
          "Entre 46 y 55 años",
          "Entre 56 y 65 años",
          "Entre 56 y 65 años",
          "Entre 46 y 55 años",
          "Entre 46 y 55 años",
          "Entre 46 y 55 años",
          "Entre 46 y 55 años",
          "Entre 56 y 65 años",
          "Entre 46 y 55 años",
          "Entre 46 y 55 años",
          "Entre 46 y 55 años",
          "Entre 46 y 55 años",
          "Entre 56 y 65 años",
          "Entre 46 y 55 años",
          "Entre 36 y 45 años",
          "Entre 56 y 65 años",
          "Entre 46 y 55 años",
          "Entre 56 y 65 años",
          "Entre 46 y 55 años",
          "Entre 36 y 45 años",
          "Entre 56 y 65 años",
          "Entre 36 y 45 años",
          "Entre 46 y 55 años",
          "Entre 46 y 55 años",
          "Entre 46 y 55 años",
          "Entre 56 y 65 años",
          "Entre 46 y 55 años",
          "Entre 46 y 55 años",
          "Entre 56 y 65 años",
          "Entre 46 y 55 años",
          "Entre 46 y 55 años",
          "Entre 56 y 65 años",
          "Entre 46 y 55 años",
          "Entre 46 y 55 años",
          "Entre 46 y 55 años",
          "Entre 56 y 65 años",
          "Entre 56 y 65 años",
          "Entre 46 y 55 años",
          "Entre 46 y 55 años",
          "Entre 46 y 55 años",
          "Entre 46 y 55 años",
          "Entre 46 y 55 años",
          "Entre 56 y 65 años",
          "Entre 56 y 65 años",
          null,
          "Entre 46 y 55 años",
          "Entre 56 y 65 años",
          "Entre 46 y 55 años",
          "Entre 46 y 55 años",
          "Entre 46 y 55 años",
          "Entre 46 y 55 años",
          "Entre 46 y 55 años",
          "Entre 36 y 45 años",
          "Entre 56 y 65 años",
          "Entre 46 y 55 años",
          "Entre 46 y 55 años",
          "Entre 46 y 55 años",
          "Entre 56 y 65 años",
          "Entre 46 y 55 años",
          "Entre 46 y 55 años",
          "Entre 46 y 55 años",
          "Entre 46 y 55 años",
          "Entre 46 y 55 años",
          "Entre 46 y 55 años",
          "Entre 56 y 65 años",
          "Entre 56 y 65 años",
          "Entre 46 y 55 años",
          "Entre 56 y 65 años",
          "Entre 56 y 65 años",
          "Entre 56 y 65 años",
          "Entre 46 y 55 años",
          "Entre 46 y 55 años",
          "Entre 56 y 65 años",
          "Entre 46 y 55 años",
          "Entre 56 y 65 años",
          "Entre 56 y 65 años",
          "Entre 46 y 55 años",
          "Entre 46 y 55 años",
          "Entre 56 y 65 años",
          "Entre 46 y 55 años",
          "Entre 56 y 65 años",
          "Entre 56 y 65 años",
          "Entre 56 y 65 años",
          "Entre 56 y 65 años",
          "Entre 56 y 65 años",
          "Entre 56 y 65 años",
          "Entre 56 y 65 años",
          "Entre 46 y 55 años",
          "Entre 46 y 55 años",
          "Entre 46 y 55 años",
          "Entre 56 y 65 años",
          "Entre 56 y 65 años",
          "Entre 46 y 55 años",
          "Entre 46 y 55 años",
          "Entre 46 y 55 años",
          "Entre 56 y 65 años",
          "Entre 46 y 55 años",
          "Entre 46 y 55 años",
          "Entre 46 y 55 años",
          "Entre 56 y 65 años",
          "Entre 46 y 55 años",
          "Entre 56 y 65 años",
          "Entre 46 y 55 años",
          "Entre 46 y 55 años",
          "Entre 36 y 45 años",
          "Entre 46 y 55 años",
          "Entre 56 y 65 años",
          "Entre 46 y 55 años",
          "Entre 46 y 55 años",
          "Entre 46 y 55 años",
          "Entre 46 y 55 años",
          "Entre 46 y 55 años",
          "Entre 46 y 55 años",
          "Entre 46 y 55 años",
          "Entre 36 y 45 años",
          "Entre 56 y 65 años",
          "Entre 46 y 55 años",
          "Entre 56 y 65 años",
          "Más de 66 años",
          "Más de 66 años",
          "Más de 66 años",
          "Entre 56 y 65 años",
          "Entre 56 y 65 años",
          "Más de 66 años",
          "Entre 56 y 65 años",
          "Más de 66 años",
          "Entre 56 y 65 años",
          "Entre 56 y 65 años",
          "Más de 66 años",
          "Más de 66 años",
          "Entre 56 y 65 años",
          "Entre 56 y 65 años",
          "Entre 56 y 65 años",
          "Más de 66 años",
          "Entre 56 y 65 años",
          "Entre 46 y 55 años",
          "Entre 56 y 65 años",
          "Entre 56 y 65 años",
          "Entre 56 y 65 años",
          "Entre 56 y 65 años",
          "Entre 56 y 65 años",
          "Entre 56 y 65 años",
          "Entre 56 y 65 años",
          "Entre 56 y 65 años",
          "Entre 56 y 65 años",
          "Más de 66 años",
          "Más de 66 años",
          "Entre 36 y 45 años",
          "Entre 56 y 65 años",
          "Más de 66 años",
          "Entre 56 y 65 años",
          "Entre 56 y 65 años",
          "Más de 66 años",
          "Entre 26 y 35 años",
          "Entre 56 y 65 años",
          "Más de 66 años",
          "Entre 26 y 35 años",
          "Entre 56 y 65 años",
          "Más de 66 años",
          "Entre 56 y 65 años",
          "Entre 56 y 65 años",
          "Más de 66 años",
          "Más de 66 años",
          "Más de 66 años",
          "Más de 66 años",
          "Más de 66 años",
          "Más de 66 años",
          "Entre 56 y 65 años",
          "Más de 66 años",
          "Más de 66 años",
          "Más de 66 años",
          "Entre 56 y 65 años",
          "Más de 66 años",
          "Entre 56 y 65 años",
          "Más de 66 años",
          "Entre 56 y 65 años",
          "Entre 56 y 65 años",
          "Entre 56 y 65 años",
          "Más de 66 años",
          "Más de 66 años",
          "Entre 56 y 65 años",
          "Entre 36 y 45 años",
          "Entre 56 y 65 años",
          "Más de 66 años",
          "Entre 56 y 65 años",
          "Entre 56 y 65 años",
          "Más de 66 años",
          "Entre 56 y 65 años",
          "Entre 56 y 65 años",
          "Entre 56 y 65 años",
          "Más de 66 años",
          "Más de 66 años",
          "Entre 56 y 65 años",
          "Entre 56 y 65 años",
          "Más de 66 años",
          "Entre 56 y 65 años",
          "Más de 66 años",
          "Entre 56 y 65 años",
          "Más de 66 años",
          "Más de 66 años",
          "Entre 56 y 65 años",
          "Más de 66 años",
          "Más de 66 años",
          "Más de 66 años",
          "Más de 66 años",
          "Entre 56 y 65 años",
          "Entre 56 y 65 años",
          "Más de 66 años",
          "Más de 66 años",
          "Entre 56 y 65 años",
          "Más de 66 años",
          "Más de 66 años",
          "Más de 66 años",
          "Entre 56 y 65 años",
          "Más de 66 años",
          "Entre 56 y 65 años",
          "Más de 66 años",
          "Más de 66 años",
          "Más de 66 años",
          "Más de 66 años",
          "Entre 56 y 65 años",
          "Más de 66 años",
          "Más de 66 años",
          "Más de 66 años",
          "Entre 56 y 65 años",
          "Entre 56 y 65 años",
          "Más de 66 años",
          "Entre 56 y 65 años",
          "Más de 66 años",
          "Entre 56 y 65 años",
          "Entre 56 y 65 años",
          "Entre 56 y 65 años",
          "Más de 66 años",
          "Más de 66 años",
          "Más de 66 años",
          "Más de 66 años",
          "Entre 46 y 55 años",
          "Entre 56 y 65 años",
          "Más de 66 años",
          "Más de 66 años",
          "Entre 56 y 65 años",
          "Entre 56 y 65 años",
          "Más de 66 años",
          "Más de 66 años",
          "Más de 66 años",
          "Más de 66 años",
          "Más de 66 años",
          "Más de 66 años",
          "Entre 56 y 65 años",
          "Entre 46 y 55 años",
          "Entre 56 y 65 años",
          "Más de 66 años",
          "Más de 66 años",
          "Entre 56 y 65 años",
          "Más de 66 años",
          "Más de 66 años",
          "Más de 66 años",
          "Entre 56 y 65 años",
          "Más de 66 años",
          "Más de 66 años",
          "Más de 66 años",
          "Entre 56 y 65 años",
          "Entre 56 y 65 años",
          "Más de 66 años",
          "Más de 66 años",
          "Entre 56 y 65 años",
          "Más de 66 años",
          "Más de 66 años",
          "Más de 66 años",
          "Entre 36 y 45 años",
          "Entre 36 y 45 años",
          "Entre 36 y 45 años",
          "Entre 36 y 45 años",
          "Entre 56 y 65 años",
          "Entre 26 y 35 años",
          "Entre 26 y 35 años",
          "Entre 36 y 45 años",
          "Entre 26 y 35 años",
          "Entre 36 y 45 años",
          "Entre 36 y 45 años",
          "Entre 36 y 45 años",
          "Entre 36 y 45 años",
          "Entre 56 y 65 años",
          "Entre 36 y 45 años",
          "Entre 36 y 45 años",
          "Entre 36 y 45 años",
          "Entre 36 y 45 años",
          "Entre 36 y 45 años",
          "Entre 36 y 45 años",
          "Entre 36 y 45 años",
          "Entre 26 y 35 años",
          "Entre 36 y 45 años",
          "Entre 36 y 45 años",
          "Entre 36 y 45 años",
          "Entre 36 y 45 años",
          "Entre 36 y 45 años",
          "Entre 36 y 45 años",
          "Entre 36 y 45 años",
          "Entre 36 y 45 años",
          "Entre 36 y 45 años",
          "Entre 36 y 45 años",
          "Entre 36 y 45 años",
          "Entre 36 y 45 años",
          "Entre 56 y 65 años",
          "Entre 36 y 45 años",
          "Entre 26 y 35 años",
          "Entre 36 y 45 años",
          "Entre 36 y 45 años",
          "Entre 36 y 45 años",
          "Entre 36 y 45 años",
          "Entre 36 y 45 años",
          "Entre 36 y 45 años",
          "Entre 26 y 35 años",
          "Entre 26 y 35 años",
          "Entre 36 y 45 años",
          "Entre 36 y 45 años",
          "Entre 36 y 45 años",
          "Entre 36 y 45 años",
          "Entre 26 y 35 años",
          "Entre 36 y 45 años",
          "Entre 36 y 45 años",
          "Entre 36 y 45 años",
          "Entre 26 y 35 años",
          "Entre 36 y 45 años",
          "Entre 36 y 45 años",
          "Entre 36 y 45 años",
          "Entre 36 y 45 años",
          "Entre 26 y 35 años",
          "Entre 36 y 45 años",
          "Entre 26 y 35 años",
          "Entre 36 y 45 años",
          "Entre 36 y 45 años",
          "Entre 26 y 35 años",
          "Entre 36 y 45 años",
          "Entre 36 y 45 años",
          "Entre 36 y 45 años",
          "Entre 26 y 35 años",
          "Entre 36 y 45 años",
          "Entre 36 y 45 años",
          "Entre 36 y 45 años",
          "Entre 46 y 55 años",
          "Entre 26 y 35 años",
          "Entre 26 y 35 años",
          "Entre 56 y 65 años",
          "Entre 36 y 45 años",
          "Entre 56 y 65 años",
          "Entre 36 y 45 años",
          "Entre 26 y 35 años",
          "Entre 36 y 45 años",
          "Entre 26 y 35 años",
          "Entre 36 y 45 años",
          "Entre 36 y 45 años",
          "Entre 36 y 45 años",
          "Entre 36 y 45 años",
          "Entre 36 y 45 años",
          "Entre 26 y 35 años",
          "Entre 36 y 45 años",
          "Entre 36 y 45 años",
          "Entre 36 y 45 años",
          "Entre 36 y 45 años",
          "Entre 26 y 35 años",
          "Entre 36 y 45 años",
          "Entre 36 y 45 años",
          "Entre 36 y 45 años",
          "Entre 26 y 35 años",
          "Entre 26 y 35 años",
          "Entre 36 y 45 años",
          "Entre 36 y 45 años",
          "Entre 26 y 35 años",
          "Entre 26 y 35 años",
          "Entre 26 y 35 años",
          "Entre 46 y 55 años",
          "Entre 26 y 35 años",
          "Entre 36 y 45 años",
          "Entre 36 y 45 años",
          "Entre 36 y 45 años",
          "Entre 36 y 45 años",
          "Entre 26 y 35 años",
          "Entre 36 y 45 años",
          "Entre 36 y 45 años",
          "Entre 36 y 45 años",
          "Entre 26 y 35 años",
          "Entre 36 y 45 años",
          "Entre 36 y 45 años",
          "Entre 36 y 45 años",
          "Entre 36 y 45 años",
          "Entre 36 y 45 años",
          "Entre 36 y 45 años",
          "Entre 36 y 45 años",
          "Entre 36 y 45 años",
          "Entre 36 y 45 años",
          "Entre 36 y 45 años",
          "Entre 26 y 35 años",
          "Entre 36 y 45 años",
          "Entre 36 y 45 años",
          "Entre 36 y 45 años",
          "Entre 26 y 35 años",
          "Entre 36 y 45 años",
          "Entre 46 y 55 años",
          "Entre 26 y 35 años",
          "Entre 36 y 45 años",
          "Entre 36 y 45 años",
          "Entre 46 y 55 años",
          "Entre 36 y 45 años",
          "Entre 26 y 35 años",
          "Entre 36 y 45 años",
          "Entre 36 y 45 años",
          "Entre 36 y 45 años",
          "Entre 36 y 45 años",
          "Entre 36 y 45 años",
          "Entre 36 y 45 años",
          "Entre 26 y 35 años",
          "Entre 36 y 45 años",
          "Entre 36 y 45 años",
          "Entre 36 y 45 años",
          "Entre 36 y 45 años",
          "Entre 36 y 45 años",
          "Entre 36 y 45 años",
          "Entre 36 y 45 años",
          "Entre 36 y 45 años",
          "Entre 36 y 45 años",
          "Entre 26 y 35 años",
          "Entre 56 y 65 años",
          "Entre 26 y 35 años",
          "Entre 36 y 45 años",
          "Entre 26 y 35 años",
          "Entre 36 y 45 años",
          "Entre 26 y 35 años",
          "Entre 36 y 45 años",
          "Entre 26 y 35 años",
          "Entre 26 y 35 años",
          "Entre 46 y 55 años",
          "Entre 36 y 45 años",
          "Entre 26 y 35 años",
          "Entre 36 y 45 años",
          "Entre 36 y 45 años",
          "Entre 36 y 45 años",
          "Entre 36 y 45 años",
          "Entre 26 y 35 años",
          "Entre 36 y 45 años",
          "Entre 36 y 45 años",
          "Entre 36 y 45 años",
          "Entre 36 y 45 años",
          "Entre 36 y 45 años",
          "Entre 36 y 45 años",
          "Entre 36 y 45 años",
          "Entre 18 y 25 años",
          "Entre 36 y 45 años",
          "Entre 36 y 45 años",
          "Entre 36 y 45 años",
          "Entre 36 y 45 años",
          "Entre 36 y 45 años",
          "Entre 56 y 65 años",
          "Más de 66 años",
          "Entre 56 y 65 años",
          "Más de 66 años",
          "Más de 66 años",
          "Entre 46 y 55 años",
          "Entre 56 y 65 años",
          "Entre 56 y 65 años",
          "Entre 56 y 65 años",
          "Más de 66 años",
          "Más de 66 años",
          "Más de 66 años",
          "Más de 66 años",
          "Entre 56 y 65 años",
          "Entre 56 y 65 años",
          "Entre 56 y 65 años",
          "Entre 26 y 35 años",
          "Entre 56 y 65 años",
          "Más de 66 años",
          "Entre 56 y 65 años",
          "Más de 66 años",
          "Más de 66 años",
          "Más de 66 años",
          "Más de 66 años",
          "Entre 36 y 45 años",
          "Entre 56 y 65 años",
          "Más de 66 años",
          "Más de 66 años",
          "Entre 56 y 65 años",
          "Entre 56 y 65 años",
          "Más de 66 años",
          "Más de 66 años",
          "Más de 66 años",
          "Entre 56 y 65 años",
          "Entre 56 y 65 años",
          "Entre 56 y 65 años",
          "Más de 66 años",
          "Entre 56 y 65 años",
          "Más de 66 años",
          "Más de 66 años",
          "Entre 56 y 65 años",
          "Más de 66 años",
          "Entre 56 y 65 años",
          "Más de 66 años",
          "Entre 56 y 65 años",
          "Más de 66 años",
          "Entre 56 y 65 años",
          "Más de 66 años",
          "Más de 66 años",
          "Entre 56 y 65 años",
          "Entre 56 y 65 años",
          "Entre 56 y 65 años",
          "Entre 56 y 65 años",
          "Entre 56 y 65 años",
          "Entre 56 y 65 años",
          "Entre 56 y 65 años",
          "Entre 56 y 65 años",
          "Más de 66 años",
          "Más de 66 años",
          "Entre 56 y 65 años",
          "Más de 66 años",
          "Entre 56 y 65 años",
          "Entre 56 y 65 años",
          "Más de 66 años",
          "Entre 56 y 65 años",
          "Entre 36 y 45 años",
          "Entre 56 y 65 años",
          "Entre 56 y 65 años",
          "Más de 66 años",
          "Entre 56 y 65 años",
          "Más de 66 años",
          "Más de 66 años",
          "Más de 66 años",
          "Entre 56 y 65 años",
          "Entre 56 y 65 años",
          "Entre 56 y 65 años",
          "Más de 66 años",
          "Entre 56 y 65 años",
          "Más de 66 años",
          "Entre 56 y 65 años",
          "Entre 56 y 65 años",
          "Entre 56 y 65 años",
          "Más de 66 años",
          "Más de 66 años",
          "Entre 56 y 65 años",
          "Entre 56 y 65 años",
          "Más de 66 años",
          "Entre 56 y 65 años",
          "Entre 56 y 65 años",
          "Más de 66 años",
          "Entre 56 y 65 años",
          "Más de 66 años",
          "Entre 56 y 65 años",
          "Entre 56 y 65 años",
          "Entre 56 y 65 años",
          "Entre 56 y 65 años",
          "Más de 66 años",
          "Más de 66 años",
          "Entre 56 y 65 años",
          "Entre 56 y 65 años",
          "Entre 56 y 65 años",
          "Más de 66 años",
          "Entre 56 y 65 años",
          "Entre 56 y 65 años",
          "Más de 66 años",
          "Entre 56 y 65 años",
          "Más de 66 años",
          "Entre 46 y 55 años",
          "Entre 56 y 65 años",
          "Entre 56 y 65 años",
          "Entre 56 y 65 años",
          "Más de 66 años",
          "Entre 56 y 65 años",
          "Entre 56 y 65 años",
          "Más de 66 años",
          "Entre 56 y 65 años",
          "Más de 66 años",
          "Entre 56 y 65 años",
          "Entre 56 y 65 años",
          "Más de 66 años",
          "Más de 66 años",
          "Entre 56 y 65 años",
          "Más de 66 años",
          "Más de 66 años",
          "Más de 66 años",
          "Entre 56 y 65 años",
          "Entre 56 y 65 años",
          "Más de 66 años",
          "Entre 56 y 65 años",
          "Entre 56 y 65 años",
          "Entre 56 y 65 años",
          "Entre 56 y 65 años",
          "Entre 46 y 55 años",
          "Entre 56 y 65 años",
          "Entre 56 y 65 años",
          "Entre 56 y 65 años",
          "Entre 56 y 65 años",
          "Entre 56 y 65 años",
          "Entre 56 y 65 años",
          "Más de 66 años",
          "Entre 56 y 65 años",
          "Entre 56 y 65 años",
          "Más de 66 años",
          "Más de 66 años",
          "Entre 46 y 55 años",
          "Entre 56 y 65 años",
          "Entre 56 y 65 años",
          "Más de 66 años",
          "Entre 56 y 65 años",
          "Entre 56 y 65 años",
          "Entre 56 y 65 años",
          "Entre 56 y 65 años",
          "Entre 56 y 65 años",
          "Entre 56 y 65 años",
          "Más de 66 años",
          "Entre 56 y 65 años",
          "Más de 66 años",
          "Entre 46 y 55 años",
          "Más de 66 años",
          "Entre 46 y 55 años",
          "Entre 56 y 65 años",
          "Más de 66 años",
          "Entre 56 y 65 años",
          "Entre 56 y 65 años",
          "Más de 66 años",
          "Entre 56 y 65 años",
          "Más de 66 años",
          "Entre 56 y 65 años",
          "Más de 66 años",
          "Más de 66 años",
          "Más de 66 años",
          "Entre 56 y 65 años",
          "Más de 66 años",
          "Entre 56 y 65 años",
          "Entre 36 y 45 años",
          "Más de 66 años",
          "Entre 56 y 65 años",
          "Entre 36 y 45 años",
          "Entre 56 y 65 años",
          "Más de 66 años",
          "Entre 56 y 65 años",
          "Más de 66 años",
          "Entre 56 y 65 años",
          "Entre 56 y 65 años",
          "Entre 56 y 65 años",
          "Entre 46 y 55 años",
          "Más de 66 años",
          "Entre 56 y 65 años",
          "Entre 56 y 65 años",
          "Entre 56 y 65 años",
          "Más de 66 años",
          "Entre 56 y 65 años",
          "Más de 66 años",
          "Más de 66 años",
          "Entre 56 y 65 años",
          "Más de 66 años",
          "Entre 56 y 65 años",
          "Más de 66 años",
          "Entre 56 y 65 años",
          "Entre 56 y 65 años",
          "Más de 66 años",
          "Entre 56 y 65 años",
          "Entre 56 y 65 años",
          "Entre 56 y 65 años",
          "Más de 66 años",
          "Entre 26 y 35 años",
          "Entre 18 y 25 años",
          "Entre 56 y 65 años",
          "Entre 18 y 25 años",
          "Entre 18 y 25 años",
          "Entre 56 y 65 años",
          "Más de 66 años",
          "Entre 26 y 35 años",
          "Entre 26 y 35 años",
          "Entre 46 y 55 años",
          "Entre 18 y 25 años",
          "Entre 56 y 65 años",
          "Entre 56 y 65 años",
          "Entre 26 y 35 años",
          "Entre 36 y 45 años",
          "Entre 18 y 25 años",
          "Menor de 18 años",
          "Más de 66 años",
          "Entre 26 y 35 años",
          "Entre 18 y 25 años",
          "Entre 18 y 25 años",
          "Entre 26 y 35 años",
          "Entre 18 y 25 años",
          "Entre 26 y 35 años",
          "Entre 18 y 25 años",
          "Entre 26 y 35 años",
          "Más de 66 años",
          "Menor de 18 años",
          "Entre 18 y 25 años",
          "Entre 18 y 25 años",
          "Entre 18 y 25 años",
          "Entre 56 y 65 años",
          "Menor de 18 años",
          "Menor de 18 años",
          "Entre 18 y 25 años",
          "Entre 18 y 25 años",
          "Entre 46 y 55 años",
          "Menor de 18 años",
          "Entre 18 y 25 años",
          "Entre 18 y 25 años",
          "Entre 56 y 65 años",
          "Entre 26 y 35 años",
          "Entre 26 y 35 años",
          "Entre 18 y 25 años",
          "Entre 36 y 45 años",
          "Entre 18 y 25 años",
          "Entre 18 y 25 años",
          "Entre 18 y 25 años",
          "Entre 46 y 55 años",
          "Más de 66 años",
          "Entre 26 y 35 años",
          "Menor de 18 años",
          "Entre 18 y 25 años",
          "Entre 18 y 25 años",
          "Entre 18 y 25 años",
          "Más de 66 años",
          "Menor de 18 años",
          "Entre 26 y 35 años",
          "Entre 26 y 35 años",
          "Entre 18 y 25 años",
          "Entre 18 y 25 años",
          "Entre 26 y 35 años",
          "Entre 18 y 25 años",
          "Entre 26 y 35 años",
          "Más de 66 años",
          "Entre 18 y 25 años",
          "Entre 18 y 25 años",
          "Entre 18 y 25 años",
          "Entre 26 y 35 años",
          "Entre 26 y 35 años",
          "Más de 66 años",
          "Entre 26 y 35 años",
          "Entre 26 y 35 años",
          "Entre 18 y 25 años",
          "Entre 18 y 25 años",
          "Entre 56 y 65 años",
          "Entre 18 y 25 años",
          "Entre 18 y 25 años",
          "Entre 46 y 55 años",
          "Entre 26 y 35 años",
          "Entre 26 y 35 años",
          "Entre 26 y 35 años",
          "Entre 18 y 25 años",
          "Entre 26 y 35 años",
          "Entre 26 y 35 años",
          "Entre 26 y 35 años",
          "Entre 18 y 25 años",
          "Entre 18 y 25 años",
          "Entre 26 y 35 años",
          "Entre 26 y 35 años",
          "Entre 26 y 35 años",
          "Entre 56 y 65 años",
          "Más de 66 años",
          "Entre 26 y 35 años",
          "Entre 56 y 65 años",
          "Entre 56 y 65 años",
          "Entre 26 y 35 años",
          "Más de 66 años",
          "Entre 18 y 25 años",
          "Entre 26 y 35 años",
          "Entre 18 y 25 años",
          "Entre 26 y 35 años",
          "Entre 46 y 55 años",
          "Entre 36 y 45 años",
          "Entre 36 y 45 años",
          "Entre 36 y 45 años",
          "Entre 36 y 45 años",
          "Entre 36 y 45 años",
          "Entre 26 y 35 años",
          "Entre 46 y 55 años",
          "Entre 36 y 45 años",
          "Entre 36 y 45 años",
          "Entre 26 y 35 años",
          "Entre 36 y 45 años",
          "Entre 36 y 45 años",
          "Entre 36 y 45 años",
          "Entre 36 y 45 años",
          "Entre 36 y 45 años",
          "Entre 36 y 45 años",
          "Entre 36 y 45 años",
          "Entre 36 y 45 años",
          "Entre 26 y 35 años",
          "Entre 26 y 35 años",
          "Entre 36 y 45 años",
          "Entre 26 y 35 años",
          "Entre 26 y 35 años",
          "Entre 36 y 45 años",
          "Entre 26 y 35 años",
          "Entre 36 y 45 años",
          "Entre 36 y 45 años",
          "Entre 26 y 35 años",
          "Entre 36 y 45 años",
          "Entre 36 y 45 años",
          "Menor de 18 años",
          "Entre 26 y 35 años",
          "Entre 36 y 45 años",
          "Entre 36 y 45 años",
          "Entre 46 y 55 años",
          "Entre 36 y 45 años",
          "Entre 26 y 35 años",
          "Entre 46 y 55 años",
          "Entre 36 y 45 años",
          "Entre 36 y 45 años",
          "Entre 36 y 45 años",
          "Entre 36 y 45 años",
          "Entre 36 y 45 años",
          "Entre 26 y 35 años",
          "Entre 36 y 45 años",
          "Entre 46 y 55 años",
          "Entre 36 y 45 años",
          "Entre 36 y 45 años",
          "Entre 26 y 35 años",
          "Entre 36 y 45 años",
          "Entre 36 y 45 años",
          "Entre 26 y 35 años",
          "Entre 36 y 45 años",
          "Entre 36 y 45 años",
          "Entre 36 y 45 años",
          "Entre 36 y 45 años",
          "Entre 36 y 45 años",
          "Entre 36 y 45 años",
          "Entre 26 y 35 años",
          "Entre 36 y 45 años",
          "Entre 36 y 45 años",
          "Entre 36 y 45 años",
          "Entre 46 y 55 años",
          "Entre 26 y 35 años",
          "Entre 36 y 45 años",
          "Entre 36 y 45 años",
          "Entre 36 y 45 años",
          "Entre 36 y 45 años",
          "Entre 36 y 45 años",
          "Entre 36 y 45 años",
          "Entre 26 y 35 años",
          "Entre 36 y 45 años",
          "Entre 36 y 45 años",
          "Entre 26 y 35 años",
          "Entre 36 y 45 años",
          "Entre 36 y 45 años",
          "Entre 26 y 35 años",
          "Entre 26 y 35 años",
          "Entre 36 y 45 años",
          "Entre 26 y 35 años",
          "Entre 46 y 55 años",
          "Entre 26 y 35 años",
          "Entre 26 y 35 años",
          "Entre 26 y 35 años",
          "Entre 36 y 45 años",
          "Entre 36 y 45 años",
          "Entre 36 y 45 años",
          "Entre 46 y 55 años",
          "Entre 36 y 45 años",
          "Entre 26 y 35 años",
          "Entre 36 y 45 años",
          "Entre 46 y 55 años",
          "Entre 36 y 45 años",
          "Entre 36 y 45 años",
          "Entre 36 y 45 años",
          "Entre 36 y 45 años",
          "Entre 36 y 45 años"
         ],
         "xaxis": "x",
         "yaxis": "y"
        }
       ],
       "layout": {
        "barmode": "relative",
        "height": 600,
        "legend": {
         "tracegroupgap": 0
        },
        "template": {
         "data": {
          "bar": [
           {
            "error_x": {
             "color": "#2a3f5f"
            },
            "error_y": {
             "color": "#2a3f5f"
            },
            "marker": {
             "line": {
              "color": "#E5ECF6",
              "width": 0.5
             }
            },
            "type": "bar"
           }
          ],
          "barpolar": [
           {
            "marker": {
             "line": {
              "color": "#E5ECF6",
              "width": 0.5
             }
            },
            "type": "barpolar"
           }
          ],
          "carpet": [
           {
            "aaxis": {
             "endlinecolor": "#2a3f5f",
             "gridcolor": "white",
             "linecolor": "white",
             "minorgridcolor": "white",
             "startlinecolor": "#2a3f5f"
            },
            "baxis": {
             "endlinecolor": "#2a3f5f",
             "gridcolor": "white",
             "linecolor": "white",
             "minorgridcolor": "white",
             "startlinecolor": "#2a3f5f"
            },
            "type": "carpet"
           }
          ],
          "choropleth": [
           {
            "colorbar": {
             "outlinewidth": 0,
             "ticks": ""
            },
            "type": "choropleth"
           }
          ],
          "contour": [
           {
            "colorbar": {
             "outlinewidth": 0,
             "ticks": ""
            },
            "colorscale": [
             [
              0,
              "#0d0887"
             ],
             [
              0.1111111111111111,
              "#46039f"
             ],
             [
              0.2222222222222222,
              "#7201a8"
             ],
             [
              0.3333333333333333,
              "#9c179e"
             ],
             [
              0.4444444444444444,
              "#bd3786"
             ],
             [
              0.5555555555555556,
              "#d8576b"
             ],
             [
              0.6666666666666666,
              "#ed7953"
             ],
             [
              0.7777777777777778,
              "#fb9f3a"
             ],
             [
              0.8888888888888888,
              "#fdca26"
             ],
             [
              1,
              "#f0f921"
             ]
            ],
            "type": "contour"
           }
          ],
          "contourcarpet": [
           {
            "colorbar": {
             "outlinewidth": 0,
             "ticks": ""
            },
            "type": "contourcarpet"
           }
          ],
          "heatmap": [
           {
            "colorbar": {
             "outlinewidth": 0,
             "ticks": ""
            },
            "colorscale": [
             [
              0,
              "#0d0887"
             ],
             [
              0.1111111111111111,
              "#46039f"
             ],
             [
              0.2222222222222222,
              "#7201a8"
             ],
             [
              0.3333333333333333,
              "#9c179e"
             ],
             [
              0.4444444444444444,
              "#bd3786"
             ],
             [
              0.5555555555555556,
              "#d8576b"
             ],
             [
              0.6666666666666666,
              "#ed7953"
             ],
             [
              0.7777777777777778,
              "#fb9f3a"
             ],
             [
              0.8888888888888888,
              "#fdca26"
             ],
             [
              1,
              "#f0f921"
             ]
            ],
            "type": "heatmap"
           }
          ],
          "heatmapgl": [
           {
            "colorbar": {
             "outlinewidth": 0,
             "ticks": ""
            },
            "colorscale": [
             [
              0,
              "#0d0887"
             ],
             [
              0.1111111111111111,
              "#46039f"
             ],
             [
              0.2222222222222222,
              "#7201a8"
             ],
             [
              0.3333333333333333,
              "#9c179e"
             ],
             [
              0.4444444444444444,
              "#bd3786"
             ],
             [
              0.5555555555555556,
              "#d8576b"
             ],
             [
              0.6666666666666666,
              "#ed7953"
             ],
             [
              0.7777777777777778,
              "#fb9f3a"
             ],
             [
              0.8888888888888888,
              "#fdca26"
             ],
             [
              1,
              "#f0f921"
             ]
            ],
            "type": "heatmapgl"
           }
          ],
          "histogram": [
           {
            "marker": {
             "colorbar": {
              "outlinewidth": 0,
              "ticks": ""
             }
            },
            "type": "histogram"
           }
          ],
          "histogram2d": [
           {
            "colorbar": {
             "outlinewidth": 0,
             "ticks": ""
            },
            "colorscale": [
             [
              0,
              "#0d0887"
             ],
             [
              0.1111111111111111,
              "#46039f"
             ],
             [
              0.2222222222222222,
              "#7201a8"
             ],
             [
              0.3333333333333333,
              "#9c179e"
             ],
             [
              0.4444444444444444,
              "#bd3786"
             ],
             [
              0.5555555555555556,
              "#d8576b"
             ],
             [
              0.6666666666666666,
              "#ed7953"
             ],
             [
              0.7777777777777778,
              "#fb9f3a"
             ],
             [
              0.8888888888888888,
              "#fdca26"
             ],
             [
              1,
              "#f0f921"
             ]
            ],
            "type": "histogram2d"
           }
          ],
          "histogram2dcontour": [
           {
            "colorbar": {
             "outlinewidth": 0,
             "ticks": ""
            },
            "colorscale": [
             [
              0,
              "#0d0887"
             ],
             [
              0.1111111111111111,
              "#46039f"
             ],
             [
              0.2222222222222222,
              "#7201a8"
             ],
             [
              0.3333333333333333,
              "#9c179e"
             ],
             [
              0.4444444444444444,
              "#bd3786"
             ],
             [
              0.5555555555555556,
              "#d8576b"
             ],
             [
              0.6666666666666666,
              "#ed7953"
             ],
             [
              0.7777777777777778,
              "#fb9f3a"
             ],
             [
              0.8888888888888888,
              "#fdca26"
             ],
             [
              1,
              "#f0f921"
             ]
            ],
            "type": "histogram2dcontour"
           }
          ],
          "mesh3d": [
           {
            "colorbar": {
             "outlinewidth": 0,
             "ticks": ""
            },
            "type": "mesh3d"
           }
          ],
          "parcoords": [
           {
            "line": {
             "colorbar": {
              "outlinewidth": 0,
              "ticks": ""
             }
            },
            "type": "parcoords"
           }
          ],
          "pie": [
           {
            "automargin": true,
            "type": "pie"
           }
          ],
          "scatter": [
           {
            "marker": {
             "colorbar": {
              "outlinewidth": 0,
              "ticks": ""
             }
            },
            "type": "scatter"
           }
          ],
          "scatter3d": [
           {
            "line": {
             "colorbar": {
              "outlinewidth": 0,
              "ticks": ""
             }
            },
            "marker": {
             "colorbar": {
              "outlinewidth": 0,
              "ticks": ""
             }
            },
            "type": "scatter3d"
           }
          ],
          "scattercarpet": [
           {
            "marker": {
             "colorbar": {
              "outlinewidth": 0,
              "ticks": ""
             }
            },
            "type": "scattercarpet"
           }
          ],
          "scattergeo": [
           {
            "marker": {
             "colorbar": {
              "outlinewidth": 0,
              "ticks": ""
             }
            },
            "type": "scattergeo"
           }
          ],
          "scattergl": [
           {
            "marker": {
             "colorbar": {
              "outlinewidth": 0,
              "ticks": ""
             }
            },
            "type": "scattergl"
           }
          ],
          "scattermapbox": [
           {
            "marker": {
             "colorbar": {
              "outlinewidth": 0,
              "ticks": ""
             }
            },
            "type": "scattermapbox"
           }
          ],
          "scatterpolar": [
           {
            "marker": {
             "colorbar": {
              "outlinewidth": 0,
              "ticks": ""
             }
            },
            "type": "scatterpolar"
           }
          ],
          "scatterpolargl": [
           {
            "marker": {
             "colorbar": {
              "outlinewidth": 0,
              "ticks": ""
             }
            },
            "type": "scatterpolargl"
           }
          ],
          "scatterternary": [
           {
            "marker": {
             "colorbar": {
              "outlinewidth": 0,
              "ticks": ""
             }
            },
            "type": "scatterternary"
           }
          ],
          "surface": [
           {
            "colorbar": {
             "outlinewidth": 0,
             "ticks": ""
            },
            "colorscale": [
             [
              0,
              "#0d0887"
             ],
             [
              0.1111111111111111,
              "#46039f"
             ],
             [
              0.2222222222222222,
              "#7201a8"
             ],
             [
              0.3333333333333333,
              "#9c179e"
             ],
             [
              0.4444444444444444,
              "#bd3786"
             ],
             [
              0.5555555555555556,
              "#d8576b"
             ],
             [
              0.6666666666666666,
              "#ed7953"
             ],
             [
              0.7777777777777778,
              "#fb9f3a"
             ],
             [
              0.8888888888888888,
              "#fdca26"
             ],
             [
              1,
              "#f0f921"
             ]
            ],
            "type": "surface"
           }
          ],
          "table": [
           {
            "cells": {
             "fill": {
              "color": "#EBF0F8"
             },
             "line": {
              "color": "white"
             }
            },
            "header": {
             "fill": {
              "color": "#C8D4E3"
             },
             "line": {
              "color": "white"
             }
            },
            "type": "table"
           }
          ]
         },
         "layout": {
          "annotationdefaults": {
           "arrowcolor": "#2a3f5f",
           "arrowhead": 0,
           "arrowwidth": 1
          },
          "coloraxis": {
           "colorbar": {
            "outlinewidth": 0,
            "ticks": ""
           }
          },
          "colorscale": {
           "diverging": [
            [
             0,
             "#8e0152"
            ],
            [
             0.1,
             "#c51b7d"
            ],
            [
             0.2,
             "#de77ae"
            ],
            [
             0.3,
             "#f1b6da"
            ],
            [
             0.4,
             "#fde0ef"
            ],
            [
             0.5,
             "#f7f7f7"
            ],
            [
             0.6,
             "#e6f5d0"
            ],
            [
             0.7,
             "#b8e186"
            ],
            [
             0.8,
             "#7fbc41"
            ],
            [
             0.9,
             "#4d9221"
            ],
            [
             1,
             "#276419"
            ]
           ],
           "sequential": [
            [
             0,
             "#0d0887"
            ],
            [
             0.1111111111111111,
             "#46039f"
            ],
            [
             0.2222222222222222,
             "#7201a8"
            ],
            [
             0.3333333333333333,
             "#9c179e"
            ],
            [
             0.4444444444444444,
             "#bd3786"
            ],
            [
             0.5555555555555556,
             "#d8576b"
            ],
            [
             0.6666666666666666,
             "#ed7953"
            ],
            [
             0.7777777777777778,
             "#fb9f3a"
            ],
            [
             0.8888888888888888,
             "#fdca26"
            ],
            [
             1,
             "#f0f921"
            ]
           ],
           "sequentialminus": [
            [
             0,
             "#0d0887"
            ],
            [
             0.1111111111111111,
             "#46039f"
            ],
            [
             0.2222222222222222,
             "#7201a8"
            ],
            [
             0.3333333333333333,
             "#9c179e"
            ],
            [
             0.4444444444444444,
             "#bd3786"
            ],
            [
             0.5555555555555556,
             "#d8576b"
            ],
            [
             0.6666666666666666,
             "#ed7953"
            ],
            [
             0.7777777777777778,
             "#fb9f3a"
            ],
            [
             0.8888888888888888,
             "#fdca26"
            ],
            [
             1,
             "#f0f921"
            ]
           ]
          },
          "colorway": [
           "#636efa",
           "#EF553B",
           "#00cc96",
           "#ab63fa",
           "#FFA15A",
           "#19d3f3",
           "#FF6692",
           "#B6E880",
           "#FF97FF",
           "#FECB52"
          ],
          "font": {
           "color": "#2a3f5f"
          },
          "geo": {
           "bgcolor": "white",
           "lakecolor": "white",
           "landcolor": "#E5ECF6",
           "showlakes": true,
           "showland": true,
           "subunitcolor": "white"
          },
          "hoverlabel": {
           "align": "left"
          },
          "hovermode": "closest",
          "mapbox": {
           "style": "light"
          },
          "paper_bgcolor": "white",
          "plot_bgcolor": "#E5ECF6",
          "polar": {
           "angularaxis": {
            "gridcolor": "white",
            "linecolor": "white",
            "ticks": ""
           },
           "bgcolor": "#E5ECF6",
           "radialaxis": {
            "gridcolor": "white",
            "linecolor": "white",
            "ticks": ""
           }
          },
          "scene": {
           "xaxis": {
            "backgroundcolor": "#E5ECF6",
            "gridcolor": "white",
            "gridwidth": 2,
            "linecolor": "white",
            "showbackground": true,
            "ticks": "",
            "zerolinecolor": "white"
           },
           "yaxis": {
            "backgroundcolor": "#E5ECF6",
            "gridcolor": "white",
            "gridwidth": 2,
            "linecolor": "white",
            "showbackground": true,
            "ticks": "",
            "zerolinecolor": "white"
           },
           "zaxis": {
            "backgroundcolor": "#E5ECF6",
            "gridcolor": "white",
            "gridwidth": 2,
            "linecolor": "white",
            "showbackground": true,
            "ticks": "",
            "zerolinecolor": "white"
           }
          },
          "shapedefaults": {
           "line": {
            "color": "#2a3f5f"
           }
          },
          "ternary": {
           "aaxis": {
            "gridcolor": "white",
            "linecolor": "white",
            "ticks": ""
           },
           "baxis": {
            "gridcolor": "white",
            "linecolor": "white",
            "ticks": ""
           },
           "bgcolor": "#E5ECF6",
           "caxis": {
            "gridcolor": "white",
            "linecolor": "white",
            "ticks": ""
           }
          },
          "title": {
           "x": 0.05
          },
          "xaxis": {
           "automargin": true,
           "gridcolor": "white",
           "linecolor": "white",
           "ticks": "",
           "title": {
            "standoff": 15
           },
           "zerolinecolor": "white",
           "zerolinewidth": 2
          },
          "yaxis": {
           "automargin": true,
           "gridcolor": "white",
           "linecolor": "white",
           "ticks": "",
           "title": {
            "standoff": 15
           },
           "zerolinecolor": "white",
           "zerolinewidth": 2
          }
         }
        },
        "title": {
         "text": "Distribución de los encuestados según rangos etarios"
        },
        "xaxis": {
         "anchor": "y",
         "categoryarray": [
          "Menor de 18 años",
          "Entre 18 y 25 años",
          "Entre 26 y 35 años",
          "Entre 36 y 45 años",
          "Entre 46 y 55 años",
          "Entre 56 y 65 años",
          "Más de 66 años"
         ],
         "categoryorder": "array",
         "domain": [
          0,
          1
         ],
         "title": {
          "text": "Edad"
         }
        },
        "yaxis": {
         "anchor": "x",
         "domain": [
          0,
          1
         ],
         "title": {
          "text": " "
         }
        }
       }
      },
      "text/html": [
       "<div>\n",
       "        \n",
       "        \n",
       "            <div id=\"ff95be1b-a9a4-427a-8f16-9f664f691374\" class=\"plotly-graph-div\" style=\"height:600px; width:100%;\"></div>\n",
       "            <script type=\"text/javascript\">\n",
       "                require([\"plotly\"], function(Plotly) {\n",
       "                    window.PLOTLYENV=window.PLOTLYENV || {};\n",
       "                    \n",
       "                if (document.getElementById(\"ff95be1b-a9a4-427a-8f16-9f664f691374\")) {\n",
       "                    Plotly.newPlot(\n",
       "                        'ff95be1b-a9a4-427a-8f16-9f664f691374',\n",
       "                        [{\"alignmentgroup\": \"True\", \"bingroup\": \"x\", \"hoverlabel\": {\"namelength\": 0}, \"hovertemplate\": \"Edad=%{x}<br>count=%{y}\", \"legendgroup\": \"\", \"marker\": {\"color\": \"#636efa\"}, \"name\": \"\", \"offsetgroup\": \"\", \"orientation\": \"v\", \"showlegend\": false, \"type\": \"histogram\", \"x\": [\"Entre 18 y 25 a\\u00f1os\", \"M\\u00e1s de 66 a\\u00f1os\", \"Entre 26 y 35 a\\u00f1os\", \"Entre 46 y 55 a\\u00f1os\", \"M\\u00e1s de 66 a\\u00f1os\", \"Entre 26 y 35 a\\u00f1os\", \"Entre 26 y 35 a\\u00f1os\", \"Entre 26 y 35 a\\u00f1os\", \"Entre 18 y 25 a\\u00f1os\", \"Entre 18 y 25 a\\u00f1os\", \"Entre 18 y 25 a\\u00f1os\", \"Entre 26 y 35 a\\u00f1os\", \"Entre 18 y 25 a\\u00f1os\", \"Entre 26 y 35 a\\u00f1os\", \"Menor de 18 a\\u00f1os\", \"Entre 26 y 35 a\\u00f1os\", \"Entre 26 y 35 a\\u00f1os\", \"Entre 36 y 45 a\\u00f1os\", \"Entre 18 y 25 a\\u00f1os\", \"Entre 18 y 25 a\\u00f1os\", \"Entre 26 y 35 a\\u00f1os\", \"Entre 26 y 35 a\\u00f1os\", \"Entre 18 y 25 a\\u00f1os\", \"Entre 18 y 25 a\\u00f1os\", \"Entre 26 y 35 a\\u00f1os\", \"Entre 18 y 25 a\\u00f1os\", \"Entre 56 y 65 a\\u00f1os\", \"Entre 26 y 35 a\\u00f1os\", \"Entre 26 y 35 a\\u00f1os\", \"Entre 18 y 25 a\\u00f1os\", \"Entre 18 y 25 a\\u00f1os\", \"Entre 18 y 25 a\\u00f1os\", \"Entre 18 y 25 a\\u00f1os\", \"Entre 56 y 65 a\\u00f1os\", \"Entre 56 y 65 a\\u00f1os\", \"Entre 18 y 25 a\\u00f1os\", \"Entre 36 y 45 a\\u00f1os\", \"Entre 26 y 35 a\\u00f1os\", \"Entre 26 y 35 a\\u00f1os\", \"Entre 18 y 25 a\\u00f1os\", \"Entre 26 y 35 a\\u00f1os\", \"Entre 26 y 35 a\\u00f1os\", \"Entre 18 y 25 a\\u00f1os\", \"Entre 46 y 55 a\\u00f1os\", \"Entre 18 y 25 a\\u00f1os\", \"Entre 26 y 35 a\\u00f1os\", \"Entre 18 y 25 a\\u00f1os\", \"Entre 26 y 35 a\\u00f1os\", \"Entre 18 y 25 a\\u00f1os\", \"Entre 26 y 35 a\\u00f1os\", \"Entre 18 y 25 a\\u00f1os\", \"Entre 18 y 25 a\\u00f1os\", \"Entre 46 y 55 a\\u00f1os\", \"Entre 56 y 65 a\\u00f1os\", \"Entre 26 y 35 a\\u00f1os\", \"Entre 18 y 25 a\\u00f1os\", \"Entre 18 y 25 a\\u00f1os\", \"Entre 18 y 25 a\\u00f1os\", \"Entre 26 y 35 a\\u00f1os\", \"Entre 26 y 35 a\\u00f1os\", \"Entre 18 y 25 a\\u00f1os\", \"Entre 18 y 25 a\\u00f1os\", \"Entre 26 y 35 a\\u00f1os\", \"Entre 18 y 25 a\\u00f1os\", \"Entre 26 y 35 a\\u00f1os\", \"Entre 26 y 35 a\\u00f1os\", \"Entre 26 y 35 a\\u00f1os\", \"Entre 18 y 25 a\\u00f1os\", \"Entre 18 y 25 a\\u00f1os\", \"Entre 26 y 35 a\\u00f1os\", \"Entre 18 y 25 a\\u00f1os\", \"Entre 18 y 25 a\\u00f1os\", \"Menor de 18 a\\u00f1os\", \"Entre 18 y 25 a\\u00f1os\", \"Entre 26 y 35 a\\u00f1os\", \"Entre 46 y 55 a\\u00f1os\", \"Entre 18 y 25 a\\u00f1os\", \"Entre 18 y 25 a\\u00f1os\", \"Entre 56 y 65 a\\u00f1os\", \"Entre 46 y 55 a\\u00f1os\", \"Entre 46 y 55 a\\u00f1os\", \"Entre 46 y 55 a\\u00f1os\", \"Entre 26 y 35 a\\u00f1os\", \"Entre 46 y 55 a\\u00f1os\", \"Entre 46 y 55 a\\u00f1os\", \"Entre 56 y 65 a\\u00f1os\", \"Entre 56 y 65 a\\u00f1os\", \"Entre 56 y 65 a\\u00f1os\", \"Entre 46 y 55 a\\u00f1os\", \"Entre 56 y 65 a\\u00f1os\", \"Entre 56 y 65 a\\u00f1os\", \"Entre 46 y 55 a\\u00f1os\", \"Entre 56 y 65 a\\u00f1os\", \"Entre 46 y 55 a\\u00f1os\", \"Entre 46 y 55 a\\u00f1os\", \"Entre 46 y 55 a\\u00f1os\", \"M\\u00e1s de 66 a\\u00f1os\", \"Entre 46 y 55 a\\u00f1os\", \"Entre 56 y 65 a\\u00f1os\", \"Entre 46 y 55 a\\u00f1os\", \"Entre 26 y 35 a\\u00f1os\", \"Entre 56 y 65 a\\u00f1os\", \"Entre 36 y 45 a\\u00f1os\", \"Entre 56 y 65 a\\u00f1os\", \"Entre 46 y 55 a\\u00f1os\", \"Entre 46 y 55 a\\u00f1os\", \"Entre 46 y 55 a\\u00f1os\", \"Entre 36 y 45 a\\u00f1os\", \"Entre 46 y 55 a\\u00f1os\", \"Entre 56 y 65 a\\u00f1os\", \"Entre 56 y 65 a\\u00f1os\", \"Entre 46 y 55 a\\u00f1os\", \"Entre 46 y 55 a\\u00f1os\", \"Entre 46 y 55 a\\u00f1os\", \"Entre 46 y 55 a\\u00f1os\", \"Entre 56 y 65 a\\u00f1os\", \"Entre 56 y 65 a\\u00f1os\", \"Entre 46 y 55 a\\u00f1os\", \"Entre 46 y 55 a\\u00f1os\", \"Entre 46 y 55 a\\u00f1os\", \"Entre 36 y 45 a\\u00f1os\", \"Entre 56 y 65 a\\u00f1os\", \"Entre 56 y 65 a\\u00f1os\", \"Entre 56 y 65 a\\u00f1os\", \"Entre 56 y 65 a\\u00f1os\", \"Entre 56 y 65 a\\u00f1os\", \"Entre 56 y 65 a\\u00f1os\", \"Entre 46 y 55 a\\u00f1os\", \"Entre 56 y 65 a\\u00f1os\", \"Entre 56 y 65 a\\u00f1os\", \"Entre 46 y 55 a\\u00f1os\", \"Entre 46 y 55 a\\u00f1os\", \"Entre 56 y 65 a\\u00f1os\", \"Entre 56 y 65 a\\u00f1os\", \"Entre 56 y 65 a\\u00f1os\", \"Entre 46 y 55 a\\u00f1os\", \"Entre 46 y 55 a\\u00f1os\", \"Entre 36 y 45 a\\u00f1os\", \"Entre 56 y 65 a\\u00f1os\", \"Entre 56 y 65 a\\u00f1os\", \"Entre 56 y 65 a\\u00f1os\", \"Entre 56 y 65 a\\u00f1os\", \"Entre 46 y 55 a\\u00f1os\", \"Entre 56 y 65 a\\u00f1os\", \"Entre 56 y 65 a\\u00f1os\", \"Entre 56 y 65 a\\u00f1os\", \"Entre 46 y 55 a\\u00f1os\", \"Entre 46 y 55 a\\u00f1os\", \"Entre 46 y 55 a\\u00f1os\", \"Entre 56 y 65 a\\u00f1os\", \"Entre 46 y 55 a\\u00f1os\", \"Entre 56 y 65 a\\u00f1os\", \"Entre 56 y 65 a\\u00f1os\", \"Entre 46 y 55 a\\u00f1os\", \"Entre 36 y 45 a\\u00f1os\", \"Entre 46 y 55 a\\u00f1os\", \"Entre 56 y 65 a\\u00f1os\", \"Entre 56 y 65 a\\u00f1os\", \"Entre 46 y 55 a\\u00f1os\", \"Entre 46 y 55 a\\u00f1os\", \"Entre 46 y 55 a\\u00f1os\", \"Entre 46 y 55 a\\u00f1os\", \"Entre 56 y 65 a\\u00f1os\", \"Entre 56 y 65 a\\u00f1os\", \"Entre 46 y 55 a\\u00f1os\", \"Entre 56 y 65 a\\u00f1os\", \"Entre 46 y 55 a\\u00f1os\", \"Entre 56 y 65 a\\u00f1os\", \"Entre 56 y 65 a\\u00f1os\", \"Entre 56 y 65 a\\u00f1os\", \"Entre 56 y 65 a\\u00f1os\", \"Entre 36 y 45 a\\u00f1os\", \"Entre 56 y 65 a\\u00f1os\", \"Entre 46 y 55 a\\u00f1os\", \"Entre 56 y 65 a\\u00f1os\", \"Entre 56 y 65 a\\u00f1os\", \"Entre 46 y 55 a\\u00f1os\", \"M\\u00e1s de 66 a\\u00f1os\", \"Entre 46 y 55 a\\u00f1os\", \"Entre 56 y 65 a\\u00f1os\", \"Entre 46 y 55 a\\u00f1os\", \"Entre 46 y 55 a\\u00f1os\", \"Entre 56 y 65 a\\u00f1os\", \"Entre 46 y 55 a\\u00f1os\", \"Entre 46 y 55 a\\u00f1os\", \"Entre 46 y 55 a\\u00f1os\", \"Entre 56 y 65 a\\u00f1os\", \"Entre 56 y 65 a\\u00f1os\", \"Entre 56 y 65 a\\u00f1os\", \"Entre 46 y 55 a\\u00f1os\", \"Entre 56 y 65 a\\u00f1os\", null, \"Entre 46 y 55 a\\u00f1os\", \"Entre 56 y 65 a\\u00f1os\", \"Entre 56 y 65 a\\u00f1os\", \"Entre 46 y 55 a\\u00f1os\", \"Entre 46 y 55 a\\u00f1os\", \"Entre 46 y 55 a\\u00f1os\", \"Entre 56 y 65 a\\u00f1os\", \"Entre 46 y 55 a\\u00f1os\", \"Entre 56 y 65 a\\u00f1os\", \"Entre 46 y 55 a\\u00f1os\", \"Entre 56 y 65 a\\u00f1os\", \"Entre 56 y 65 a\\u00f1os\", \"Entre 46 y 55 a\\u00f1os\", \"Entre 46 y 55 a\\u00f1os\", \"Entre 46 y 55 a\\u00f1os\", \"Entre 46 y 55 a\\u00f1os\", \"Entre 46 y 55 a\\u00f1os\", \"Entre 46 y 55 a\\u00f1os\", \"Entre 56 y 65 a\\u00f1os\", \"Entre 56 y 65 a\\u00f1os\", \"Entre 56 y 65 a\\u00f1os\", \"Entre 56 y 65 a\\u00f1os\", \"Entre 46 y 55 a\\u00f1os\", \"Entre 46 y 55 a\\u00f1os\", \"Entre 56 y 65 a\\u00f1os\", \"Entre 56 y 65 a\\u00f1os\", \"Entre 56 y 65 a\\u00f1os\", \"Entre 46 y 55 a\\u00f1os\", \"Entre 46 y 55 a\\u00f1os\", \"Entre 46 y 55 a\\u00f1os\", \"Entre 56 y 65 a\\u00f1os\", \"Entre 46 y 55 a\\u00f1os\", \"Entre 46 y 55 a\\u00f1os\", \"Entre 46 y 55 a\\u00f1os\", \"Entre 46 y 55 a\\u00f1os\", \"Entre 46 y 55 a\\u00f1os\", \"Entre 56 y 65 a\\u00f1os\", \"Entre 46 y 55 a\\u00f1os\", \"Entre 46 y 55 a\\u00f1os\", \"Entre 46 y 55 a\\u00f1os\", \"Entre 46 y 55 a\\u00f1os\", \"Entre 46 y 55 a\\u00f1os\", \"Entre 46 y 55 a\\u00f1os\", \"Entre 56 y 65 a\\u00f1os\", \"Entre 46 y 55 a\\u00f1os\", \"Entre 56 y 65 a\\u00f1os\", \"Entre 56 y 65 a\\u00f1os\", \"Entre 46 y 55 a\\u00f1os\", \"Entre 56 y 65 a\\u00f1os\", \"Entre 56 y 65 a\\u00f1os\", \"Entre 46 y 55 a\\u00f1os\", \"Entre 46 y 55 a\\u00f1os\", \"Entre 46 y 55 a\\u00f1os\", \"Entre 46 y 55 a\\u00f1os\", \"Entre 46 y 55 a\\u00f1os\", \"Entre 56 y 65 a\\u00f1os\", \"Entre 56 y 65 a\\u00f1os\", \"Entre 46 y 55 a\\u00f1os\", \"Entre 46 y 55 a\\u00f1os\", \"Entre 46 y 55 a\\u00f1os\", \"Entre 46 y 55 a\\u00f1os\", \"Entre 46 y 55 a\\u00f1os\", \"Entre 46 y 55 a\\u00f1os\", \"Entre 46 y 55 a\\u00f1os\", \"Entre 56 y 65 a\\u00f1os\", \"Entre 46 y 55 a\\u00f1os\", \"Entre 46 y 55 a\\u00f1os\", \"Entre 46 y 55 a\\u00f1os\", \"Entre 56 y 65 a\\u00f1os\", \"Entre 56 y 65 a\\u00f1os\", \"Entre 56 y 65 a\\u00f1os\", \"Entre 56 y 65 a\\u00f1os\", \"Entre 46 y 55 a\\u00f1os\", \"Entre 56 y 65 a\\u00f1os\", \"Entre 46 y 55 a\\u00f1os\", \"Entre 46 y 55 a\\u00f1os\", \"Entre 46 y 55 a\\u00f1os\", \"Entre 56 y 65 a\\u00f1os\", \"Entre 56 y 65 a\\u00f1os\", \"Entre 46 y 55 a\\u00f1os\", \"Entre 56 y 65 a\\u00f1os\", \"Entre 46 y 55 a\\u00f1os\", \"Entre 56 y 65 a\\u00f1os\", \"Entre 56 y 65 a\\u00f1os\", \"Entre 56 y 65 a\\u00f1os\", \"Entre 56 y 65 a\\u00f1os\", \"Entre 46 y 55 a\\u00f1os\", \"Entre 56 y 65 a\\u00f1os\", \"Entre 46 y 55 a\\u00f1os\", \"Entre 46 y 55 a\\u00f1os\", \"Entre 56 y 65 a\\u00f1os\", \"Entre 56 y 65 a\\u00f1os\", \"Entre 46 y 55 a\\u00f1os\", \"Entre 46 y 55 a\\u00f1os\", \"Entre 46 y 55 a\\u00f1os\", \"Entre 46 y 55 a\\u00f1os\", \"Entre 46 y 55 a\\u00f1os\", \"Entre 46 y 55 a\\u00f1os\", \"Entre 46 y 55 a\\u00f1os\", \"Entre 46 y 55 a\\u00f1os\", \"Entre 56 y 65 a\\u00f1os\", \"Entre 46 y 55 a\\u00f1os\", \"Entre 46 y 55 a\\u00f1os\", \"Entre 46 y 55 a\\u00f1os\", \"Entre 46 y 55 a\\u00f1os\", \"Entre 46 y 55 a\\u00f1os\", \"Entre 56 y 65 a\\u00f1os\", \"Entre 46 y 55 a\\u00f1os\", \"Entre 46 y 55 a\\u00f1os\", \"Entre 56 y 65 a\\u00f1os\", \"Entre 56 y 65 a\\u00f1os\", \"Entre 46 y 55 a\\u00f1os\", \"Entre 56 y 65 a\\u00f1os\", \"Entre 56 y 65 a\\u00f1os\", \"Entre 46 y 55 a\\u00f1os\", \"Entre 46 y 55 a\\u00f1os\", \"Entre 56 y 65 a\\u00f1os\", \"Entre 56 y 65 a\\u00f1os\", \"Entre 46 y 55 a\\u00f1os\", \"Entre 56 y 65 a\\u00f1os\", \"Entre 56 y 65 a\\u00f1os\", \"Entre 46 y 55 a\\u00f1os\", \"Entre 36 y 45 a\\u00f1os\", null, \"Entre 46 y 55 a\\u00f1os\", \"Entre 26 y 35 a\\u00f1os\", \"Entre 56 y 65 a\\u00f1os\", \"Entre 56 y 65 a\\u00f1os\", \"Entre 36 y 45 a\\u00f1os\", \"Entre 46 y 55 a\\u00f1os\", \"Entre 46 y 55 a\\u00f1os\", \"Entre 56 y 65 a\\u00f1os\", \"Entre 56 y 65 a\\u00f1os\", \"Entre 36 y 45 a\\u00f1os\", \"Entre 46 y 55 a\\u00f1os\", \"Entre 46 y 55 a\\u00f1os\", \"Entre 46 y 55 a\\u00f1os\", \"Entre 36 y 45 a\\u00f1os\", \"Entre 56 y 65 a\\u00f1os\", \"Entre 46 y 55 a\\u00f1os\", \"Entre 46 y 55 a\\u00f1os\", \"Entre 46 y 55 a\\u00f1os\", \"Entre 46 y 55 a\\u00f1os\", \"Entre 56 y 65 a\\u00f1os\", \"Entre 46 y 55 a\\u00f1os\", \"Entre 46 y 55 a\\u00f1os\", \"Entre 46 y 55 a\\u00f1os\", \"Entre 56 y 65 a\\u00f1os\", \"Entre 46 y 55 a\\u00f1os\", \"Entre 46 y 55 a\\u00f1os\", \"Entre 46 y 55 a\\u00f1os\", \"Entre 46 y 55 a\\u00f1os\", \"Entre 56 y 65 a\\u00f1os\", \"Entre 36 y 45 a\\u00f1os\", \"Entre 46 y 55 a\\u00f1os\", \"Entre 46 y 55 a\\u00f1os\", \"Entre 56 y 65 a\\u00f1os\", \"Entre 56 y 65 a\\u00f1os\", \"Entre 46 y 55 a\\u00f1os\", \"Entre 46 y 55 a\\u00f1os\", \"Entre 46 y 55 a\\u00f1os\", \"Entre 46 y 55 a\\u00f1os\", \"Entre 56 y 65 a\\u00f1os\", \"Entre 46 y 55 a\\u00f1os\", \"Entre 46 y 55 a\\u00f1os\", \"Entre 46 y 55 a\\u00f1os\", \"Entre 46 y 55 a\\u00f1os\", \"Entre 56 y 65 a\\u00f1os\", \"Entre 46 y 55 a\\u00f1os\", \"Entre 36 y 45 a\\u00f1os\", \"Entre 56 y 65 a\\u00f1os\", \"Entre 46 y 55 a\\u00f1os\", \"Entre 56 y 65 a\\u00f1os\", \"Entre 46 y 55 a\\u00f1os\", \"Entre 36 y 45 a\\u00f1os\", \"Entre 56 y 65 a\\u00f1os\", \"Entre 36 y 45 a\\u00f1os\", \"Entre 46 y 55 a\\u00f1os\", \"Entre 46 y 55 a\\u00f1os\", \"Entre 46 y 55 a\\u00f1os\", \"Entre 56 y 65 a\\u00f1os\", \"Entre 46 y 55 a\\u00f1os\", \"Entre 46 y 55 a\\u00f1os\", \"Entre 56 y 65 a\\u00f1os\", \"Entre 46 y 55 a\\u00f1os\", \"Entre 46 y 55 a\\u00f1os\", \"Entre 56 y 65 a\\u00f1os\", \"Entre 46 y 55 a\\u00f1os\", \"Entre 46 y 55 a\\u00f1os\", \"Entre 46 y 55 a\\u00f1os\", \"Entre 56 y 65 a\\u00f1os\", \"Entre 56 y 65 a\\u00f1os\", \"Entre 46 y 55 a\\u00f1os\", \"Entre 46 y 55 a\\u00f1os\", \"Entre 46 y 55 a\\u00f1os\", \"Entre 46 y 55 a\\u00f1os\", \"Entre 46 y 55 a\\u00f1os\", \"Entre 56 y 65 a\\u00f1os\", \"Entre 56 y 65 a\\u00f1os\", null, \"Entre 46 y 55 a\\u00f1os\", \"Entre 56 y 65 a\\u00f1os\", \"Entre 46 y 55 a\\u00f1os\", \"Entre 46 y 55 a\\u00f1os\", \"Entre 46 y 55 a\\u00f1os\", \"Entre 46 y 55 a\\u00f1os\", \"Entre 46 y 55 a\\u00f1os\", \"Entre 36 y 45 a\\u00f1os\", \"Entre 56 y 65 a\\u00f1os\", \"Entre 46 y 55 a\\u00f1os\", \"Entre 46 y 55 a\\u00f1os\", \"Entre 46 y 55 a\\u00f1os\", \"Entre 56 y 65 a\\u00f1os\", \"Entre 46 y 55 a\\u00f1os\", \"Entre 46 y 55 a\\u00f1os\", \"Entre 46 y 55 a\\u00f1os\", \"Entre 46 y 55 a\\u00f1os\", \"Entre 46 y 55 a\\u00f1os\", \"Entre 46 y 55 a\\u00f1os\", \"Entre 56 y 65 a\\u00f1os\", \"Entre 56 y 65 a\\u00f1os\", \"Entre 46 y 55 a\\u00f1os\", \"Entre 56 y 65 a\\u00f1os\", \"Entre 56 y 65 a\\u00f1os\", \"Entre 56 y 65 a\\u00f1os\", \"Entre 46 y 55 a\\u00f1os\", \"Entre 46 y 55 a\\u00f1os\", \"Entre 56 y 65 a\\u00f1os\", \"Entre 46 y 55 a\\u00f1os\", \"Entre 56 y 65 a\\u00f1os\", \"Entre 56 y 65 a\\u00f1os\", \"Entre 46 y 55 a\\u00f1os\", \"Entre 46 y 55 a\\u00f1os\", \"Entre 56 y 65 a\\u00f1os\", \"Entre 46 y 55 a\\u00f1os\", \"Entre 56 y 65 a\\u00f1os\", \"Entre 56 y 65 a\\u00f1os\", \"Entre 56 y 65 a\\u00f1os\", \"Entre 56 y 65 a\\u00f1os\", \"Entre 56 y 65 a\\u00f1os\", \"Entre 56 y 65 a\\u00f1os\", \"Entre 56 y 65 a\\u00f1os\", \"Entre 46 y 55 a\\u00f1os\", \"Entre 46 y 55 a\\u00f1os\", \"Entre 46 y 55 a\\u00f1os\", \"Entre 56 y 65 a\\u00f1os\", \"Entre 56 y 65 a\\u00f1os\", \"Entre 46 y 55 a\\u00f1os\", \"Entre 46 y 55 a\\u00f1os\", \"Entre 46 y 55 a\\u00f1os\", \"Entre 56 y 65 a\\u00f1os\", \"Entre 46 y 55 a\\u00f1os\", \"Entre 46 y 55 a\\u00f1os\", \"Entre 46 y 55 a\\u00f1os\", \"Entre 56 y 65 a\\u00f1os\", \"Entre 46 y 55 a\\u00f1os\", \"Entre 56 y 65 a\\u00f1os\", \"Entre 46 y 55 a\\u00f1os\", \"Entre 46 y 55 a\\u00f1os\", \"Entre 36 y 45 a\\u00f1os\", \"Entre 46 y 55 a\\u00f1os\", \"Entre 56 y 65 a\\u00f1os\", \"Entre 46 y 55 a\\u00f1os\", \"Entre 46 y 55 a\\u00f1os\", \"Entre 46 y 55 a\\u00f1os\", \"Entre 46 y 55 a\\u00f1os\", \"Entre 46 y 55 a\\u00f1os\", \"Entre 46 y 55 a\\u00f1os\", \"Entre 46 y 55 a\\u00f1os\", \"Entre 36 y 45 a\\u00f1os\", \"Entre 56 y 65 a\\u00f1os\", \"Entre 46 y 55 a\\u00f1os\", \"Entre 56 y 65 a\\u00f1os\", \"M\\u00e1s de 66 a\\u00f1os\", \"M\\u00e1s de 66 a\\u00f1os\", \"M\\u00e1s de 66 a\\u00f1os\", \"Entre 56 y 65 a\\u00f1os\", \"Entre 56 y 65 a\\u00f1os\", \"M\\u00e1s de 66 a\\u00f1os\", \"Entre 56 y 65 a\\u00f1os\", \"M\\u00e1s de 66 a\\u00f1os\", \"Entre 56 y 65 a\\u00f1os\", \"Entre 56 y 65 a\\u00f1os\", \"M\\u00e1s de 66 a\\u00f1os\", \"M\\u00e1s de 66 a\\u00f1os\", \"Entre 56 y 65 a\\u00f1os\", \"Entre 56 y 65 a\\u00f1os\", \"Entre 56 y 65 a\\u00f1os\", \"M\\u00e1s de 66 a\\u00f1os\", \"Entre 56 y 65 a\\u00f1os\", \"Entre 46 y 55 a\\u00f1os\", \"Entre 56 y 65 a\\u00f1os\", \"Entre 56 y 65 a\\u00f1os\", \"Entre 56 y 65 a\\u00f1os\", \"Entre 56 y 65 a\\u00f1os\", \"Entre 56 y 65 a\\u00f1os\", \"Entre 56 y 65 a\\u00f1os\", \"Entre 56 y 65 a\\u00f1os\", \"Entre 56 y 65 a\\u00f1os\", \"Entre 56 y 65 a\\u00f1os\", \"M\\u00e1s de 66 a\\u00f1os\", \"M\\u00e1s de 66 a\\u00f1os\", \"Entre 36 y 45 a\\u00f1os\", \"Entre 56 y 65 a\\u00f1os\", \"M\\u00e1s de 66 a\\u00f1os\", \"Entre 56 y 65 a\\u00f1os\", \"Entre 56 y 65 a\\u00f1os\", \"M\\u00e1s de 66 a\\u00f1os\", \"Entre 26 y 35 a\\u00f1os\", \"Entre 56 y 65 a\\u00f1os\", \"M\\u00e1s de 66 a\\u00f1os\", \"Entre 26 y 35 a\\u00f1os\", \"Entre 56 y 65 a\\u00f1os\", \"M\\u00e1s de 66 a\\u00f1os\", \"Entre 56 y 65 a\\u00f1os\", \"Entre 56 y 65 a\\u00f1os\", \"M\\u00e1s de 66 a\\u00f1os\", \"M\\u00e1s de 66 a\\u00f1os\", \"M\\u00e1s de 66 a\\u00f1os\", \"M\\u00e1s de 66 a\\u00f1os\", \"M\\u00e1s de 66 a\\u00f1os\", \"M\\u00e1s de 66 a\\u00f1os\", \"Entre 56 y 65 a\\u00f1os\", \"M\\u00e1s de 66 a\\u00f1os\", \"M\\u00e1s de 66 a\\u00f1os\", \"M\\u00e1s de 66 a\\u00f1os\", \"Entre 56 y 65 a\\u00f1os\", \"M\\u00e1s de 66 a\\u00f1os\", \"Entre 56 y 65 a\\u00f1os\", \"M\\u00e1s de 66 a\\u00f1os\", \"Entre 56 y 65 a\\u00f1os\", \"Entre 56 y 65 a\\u00f1os\", \"Entre 56 y 65 a\\u00f1os\", \"M\\u00e1s de 66 a\\u00f1os\", \"M\\u00e1s de 66 a\\u00f1os\", \"Entre 56 y 65 a\\u00f1os\", \"Entre 36 y 45 a\\u00f1os\", \"Entre 56 y 65 a\\u00f1os\", \"M\\u00e1s de 66 a\\u00f1os\", \"Entre 56 y 65 a\\u00f1os\", \"Entre 56 y 65 a\\u00f1os\", \"M\\u00e1s de 66 a\\u00f1os\", \"Entre 56 y 65 a\\u00f1os\", \"Entre 56 y 65 a\\u00f1os\", \"Entre 56 y 65 a\\u00f1os\", \"M\\u00e1s de 66 a\\u00f1os\", \"M\\u00e1s de 66 a\\u00f1os\", \"Entre 56 y 65 a\\u00f1os\", \"Entre 56 y 65 a\\u00f1os\", \"M\\u00e1s de 66 a\\u00f1os\", \"Entre 56 y 65 a\\u00f1os\", \"M\\u00e1s de 66 a\\u00f1os\", \"Entre 56 y 65 a\\u00f1os\", \"M\\u00e1s de 66 a\\u00f1os\", \"M\\u00e1s de 66 a\\u00f1os\", \"Entre 56 y 65 a\\u00f1os\", \"M\\u00e1s de 66 a\\u00f1os\", \"M\\u00e1s de 66 a\\u00f1os\", \"M\\u00e1s de 66 a\\u00f1os\", \"M\\u00e1s de 66 a\\u00f1os\", \"Entre 56 y 65 a\\u00f1os\", \"Entre 56 y 65 a\\u00f1os\", \"M\\u00e1s de 66 a\\u00f1os\", \"M\\u00e1s de 66 a\\u00f1os\", \"Entre 56 y 65 a\\u00f1os\", \"M\\u00e1s de 66 a\\u00f1os\", \"M\\u00e1s de 66 a\\u00f1os\", \"M\\u00e1s de 66 a\\u00f1os\", \"Entre 56 y 65 a\\u00f1os\", \"M\\u00e1s de 66 a\\u00f1os\", \"Entre 56 y 65 a\\u00f1os\", \"M\\u00e1s de 66 a\\u00f1os\", \"M\\u00e1s de 66 a\\u00f1os\", \"M\\u00e1s de 66 a\\u00f1os\", \"M\\u00e1s de 66 a\\u00f1os\", \"Entre 56 y 65 a\\u00f1os\", \"M\\u00e1s de 66 a\\u00f1os\", \"M\\u00e1s de 66 a\\u00f1os\", \"M\\u00e1s de 66 a\\u00f1os\", \"Entre 56 y 65 a\\u00f1os\", \"Entre 56 y 65 a\\u00f1os\", \"M\\u00e1s de 66 a\\u00f1os\", \"Entre 56 y 65 a\\u00f1os\", \"M\\u00e1s de 66 a\\u00f1os\", \"Entre 56 y 65 a\\u00f1os\", \"Entre 56 y 65 a\\u00f1os\", \"Entre 56 y 65 a\\u00f1os\", \"M\\u00e1s de 66 a\\u00f1os\", \"M\\u00e1s de 66 a\\u00f1os\", \"M\\u00e1s de 66 a\\u00f1os\", \"M\\u00e1s de 66 a\\u00f1os\", \"Entre 46 y 55 a\\u00f1os\", \"Entre 56 y 65 a\\u00f1os\", \"M\\u00e1s de 66 a\\u00f1os\", \"M\\u00e1s de 66 a\\u00f1os\", \"Entre 56 y 65 a\\u00f1os\", \"Entre 56 y 65 a\\u00f1os\", \"M\\u00e1s de 66 a\\u00f1os\", \"M\\u00e1s de 66 a\\u00f1os\", \"M\\u00e1s de 66 a\\u00f1os\", \"M\\u00e1s de 66 a\\u00f1os\", \"M\\u00e1s de 66 a\\u00f1os\", \"M\\u00e1s de 66 a\\u00f1os\", \"Entre 56 y 65 a\\u00f1os\", \"Entre 46 y 55 a\\u00f1os\", \"Entre 56 y 65 a\\u00f1os\", \"M\\u00e1s de 66 a\\u00f1os\", \"M\\u00e1s de 66 a\\u00f1os\", \"Entre 56 y 65 a\\u00f1os\", \"M\\u00e1s de 66 a\\u00f1os\", \"M\\u00e1s de 66 a\\u00f1os\", \"M\\u00e1s de 66 a\\u00f1os\", \"Entre 56 y 65 a\\u00f1os\", \"M\\u00e1s de 66 a\\u00f1os\", \"M\\u00e1s de 66 a\\u00f1os\", \"M\\u00e1s de 66 a\\u00f1os\", \"Entre 56 y 65 a\\u00f1os\", \"Entre 56 y 65 a\\u00f1os\", \"M\\u00e1s de 66 a\\u00f1os\", \"M\\u00e1s de 66 a\\u00f1os\", \"Entre 56 y 65 a\\u00f1os\", \"M\\u00e1s de 66 a\\u00f1os\", \"M\\u00e1s de 66 a\\u00f1os\", \"M\\u00e1s de 66 a\\u00f1os\", \"Entre 36 y 45 a\\u00f1os\", \"Entre 36 y 45 a\\u00f1os\", \"Entre 36 y 45 a\\u00f1os\", \"Entre 36 y 45 a\\u00f1os\", \"Entre 56 y 65 a\\u00f1os\", \"Entre 26 y 35 a\\u00f1os\", \"Entre 26 y 35 a\\u00f1os\", \"Entre 36 y 45 a\\u00f1os\", \"Entre 26 y 35 a\\u00f1os\", \"Entre 36 y 45 a\\u00f1os\", \"Entre 36 y 45 a\\u00f1os\", \"Entre 36 y 45 a\\u00f1os\", \"Entre 36 y 45 a\\u00f1os\", \"Entre 56 y 65 a\\u00f1os\", \"Entre 36 y 45 a\\u00f1os\", \"Entre 36 y 45 a\\u00f1os\", \"Entre 36 y 45 a\\u00f1os\", \"Entre 36 y 45 a\\u00f1os\", \"Entre 36 y 45 a\\u00f1os\", \"Entre 36 y 45 a\\u00f1os\", \"Entre 36 y 45 a\\u00f1os\", \"Entre 26 y 35 a\\u00f1os\", \"Entre 36 y 45 a\\u00f1os\", \"Entre 36 y 45 a\\u00f1os\", \"Entre 36 y 45 a\\u00f1os\", \"Entre 36 y 45 a\\u00f1os\", \"Entre 36 y 45 a\\u00f1os\", \"Entre 36 y 45 a\\u00f1os\", \"Entre 36 y 45 a\\u00f1os\", \"Entre 36 y 45 a\\u00f1os\", \"Entre 36 y 45 a\\u00f1os\", \"Entre 36 y 45 a\\u00f1os\", \"Entre 36 y 45 a\\u00f1os\", \"Entre 36 y 45 a\\u00f1os\", \"Entre 56 y 65 a\\u00f1os\", \"Entre 36 y 45 a\\u00f1os\", \"Entre 26 y 35 a\\u00f1os\", \"Entre 36 y 45 a\\u00f1os\", \"Entre 36 y 45 a\\u00f1os\", \"Entre 36 y 45 a\\u00f1os\", \"Entre 36 y 45 a\\u00f1os\", \"Entre 36 y 45 a\\u00f1os\", \"Entre 36 y 45 a\\u00f1os\", \"Entre 26 y 35 a\\u00f1os\", \"Entre 26 y 35 a\\u00f1os\", \"Entre 36 y 45 a\\u00f1os\", \"Entre 36 y 45 a\\u00f1os\", \"Entre 36 y 45 a\\u00f1os\", \"Entre 36 y 45 a\\u00f1os\", \"Entre 26 y 35 a\\u00f1os\", \"Entre 36 y 45 a\\u00f1os\", \"Entre 36 y 45 a\\u00f1os\", \"Entre 36 y 45 a\\u00f1os\", \"Entre 26 y 35 a\\u00f1os\", \"Entre 36 y 45 a\\u00f1os\", \"Entre 36 y 45 a\\u00f1os\", \"Entre 36 y 45 a\\u00f1os\", \"Entre 36 y 45 a\\u00f1os\", \"Entre 26 y 35 a\\u00f1os\", \"Entre 36 y 45 a\\u00f1os\", \"Entre 26 y 35 a\\u00f1os\", \"Entre 36 y 45 a\\u00f1os\", \"Entre 36 y 45 a\\u00f1os\", \"Entre 26 y 35 a\\u00f1os\", \"Entre 36 y 45 a\\u00f1os\", \"Entre 36 y 45 a\\u00f1os\", \"Entre 36 y 45 a\\u00f1os\", \"Entre 26 y 35 a\\u00f1os\", \"Entre 36 y 45 a\\u00f1os\", \"Entre 36 y 45 a\\u00f1os\", \"Entre 36 y 45 a\\u00f1os\", \"Entre 46 y 55 a\\u00f1os\", \"Entre 26 y 35 a\\u00f1os\", \"Entre 26 y 35 a\\u00f1os\", \"Entre 56 y 65 a\\u00f1os\", \"Entre 36 y 45 a\\u00f1os\", \"Entre 56 y 65 a\\u00f1os\", \"Entre 36 y 45 a\\u00f1os\", \"Entre 26 y 35 a\\u00f1os\", \"Entre 36 y 45 a\\u00f1os\", \"Entre 26 y 35 a\\u00f1os\", \"Entre 36 y 45 a\\u00f1os\", \"Entre 36 y 45 a\\u00f1os\", \"Entre 36 y 45 a\\u00f1os\", \"Entre 36 y 45 a\\u00f1os\", \"Entre 36 y 45 a\\u00f1os\", \"Entre 26 y 35 a\\u00f1os\", \"Entre 36 y 45 a\\u00f1os\", \"Entre 36 y 45 a\\u00f1os\", \"Entre 36 y 45 a\\u00f1os\", \"Entre 36 y 45 a\\u00f1os\", \"Entre 26 y 35 a\\u00f1os\", \"Entre 36 y 45 a\\u00f1os\", \"Entre 36 y 45 a\\u00f1os\", \"Entre 36 y 45 a\\u00f1os\", \"Entre 26 y 35 a\\u00f1os\", \"Entre 26 y 35 a\\u00f1os\", \"Entre 36 y 45 a\\u00f1os\", \"Entre 36 y 45 a\\u00f1os\", \"Entre 26 y 35 a\\u00f1os\", \"Entre 26 y 35 a\\u00f1os\", \"Entre 26 y 35 a\\u00f1os\", \"Entre 46 y 55 a\\u00f1os\", \"Entre 26 y 35 a\\u00f1os\", \"Entre 36 y 45 a\\u00f1os\", \"Entre 36 y 45 a\\u00f1os\", \"Entre 36 y 45 a\\u00f1os\", \"Entre 36 y 45 a\\u00f1os\", \"Entre 26 y 35 a\\u00f1os\", \"Entre 36 y 45 a\\u00f1os\", \"Entre 36 y 45 a\\u00f1os\", \"Entre 36 y 45 a\\u00f1os\", \"Entre 26 y 35 a\\u00f1os\", \"Entre 36 y 45 a\\u00f1os\", \"Entre 36 y 45 a\\u00f1os\", \"Entre 36 y 45 a\\u00f1os\", \"Entre 36 y 45 a\\u00f1os\", \"Entre 36 y 45 a\\u00f1os\", \"Entre 36 y 45 a\\u00f1os\", \"Entre 36 y 45 a\\u00f1os\", \"Entre 36 y 45 a\\u00f1os\", \"Entre 36 y 45 a\\u00f1os\", \"Entre 36 y 45 a\\u00f1os\", \"Entre 26 y 35 a\\u00f1os\", \"Entre 36 y 45 a\\u00f1os\", \"Entre 36 y 45 a\\u00f1os\", \"Entre 36 y 45 a\\u00f1os\", \"Entre 26 y 35 a\\u00f1os\", \"Entre 36 y 45 a\\u00f1os\", \"Entre 46 y 55 a\\u00f1os\", \"Entre 26 y 35 a\\u00f1os\", \"Entre 36 y 45 a\\u00f1os\", \"Entre 36 y 45 a\\u00f1os\", \"Entre 46 y 55 a\\u00f1os\", \"Entre 36 y 45 a\\u00f1os\", \"Entre 26 y 35 a\\u00f1os\", \"Entre 36 y 45 a\\u00f1os\", \"Entre 36 y 45 a\\u00f1os\", \"Entre 36 y 45 a\\u00f1os\", \"Entre 36 y 45 a\\u00f1os\", \"Entre 36 y 45 a\\u00f1os\", \"Entre 36 y 45 a\\u00f1os\", \"Entre 26 y 35 a\\u00f1os\", \"Entre 36 y 45 a\\u00f1os\", \"Entre 36 y 45 a\\u00f1os\", \"Entre 36 y 45 a\\u00f1os\", \"Entre 36 y 45 a\\u00f1os\", \"Entre 36 y 45 a\\u00f1os\", \"Entre 36 y 45 a\\u00f1os\", \"Entre 36 y 45 a\\u00f1os\", \"Entre 36 y 45 a\\u00f1os\", \"Entre 36 y 45 a\\u00f1os\", \"Entre 26 y 35 a\\u00f1os\", \"Entre 56 y 65 a\\u00f1os\", \"Entre 26 y 35 a\\u00f1os\", \"Entre 36 y 45 a\\u00f1os\", \"Entre 26 y 35 a\\u00f1os\", \"Entre 36 y 45 a\\u00f1os\", \"Entre 26 y 35 a\\u00f1os\", \"Entre 36 y 45 a\\u00f1os\", \"Entre 26 y 35 a\\u00f1os\", \"Entre 26 y 35 a\\u00f1os\", \"Entre 46 y 55 a\\u00f1os\", \"Entre 36 y 45 a\\u00f1os\", \"Entre 26 y 35 a\\u00f1os\", \"Entre 36 y 45 a\\u00f1os\", \"Entre 36 y 45 a\\u00f1os\", \"Entre 36 y 45 a\\u00f1os\", \"Entre 36 y 45 a\\u00f1os\", \"Entre 26 y 35 a\\u00f1os\", \"Entre 36 y 45 a\\u00f1os\", \"Entre 36 y 45 a\\u00f1os\", \"Entre 36 y 45 a\\u00f1os\", \"Entre 36 y 45 a\\u00f1os\", \"Entre 36 y 45 a\\u00f1os\", \"Entre 36 y 45 a\\u00f1os\", \"Entre 36 y 45 a\\u00f1os\", \"Entre 18 y 25 a\\u00f1os\", \"Entre 36 y 45 a\\u00f1os\", \"Entre 36 y 45 a\\u00f1os\", \"Entre 36 y 45 a\\u00f1os\", \"Entre 36 y 45 a\\u00f1os\", \"Entre 36 y 45 a\\u00f1os\", \"Entre 56 y 65 a\\u00f1os\", \"M\\u00e1s de 66 a\\u00f1os\", \"Entre 56 y 65 a\\u00f1os\", \"M\\u00e1s de 66 a\\u00f1os\", \"M\\u00e1s de 66 a\\u00f1os\", \"Entre 46 y 55 a\\u00f1os\", \"Entre 56 y 65 a\\u00f1os\", \"Entre 56 y 65 a\\u00f1os\", \"Entre 56 y 65 a\\u00f1os\", \"M\\u00e1s de 66 a\\u00f1os\", \"M\\u00e1s de 66 a\\u00f1os\", \"M\\u00e1s de 66 a\\u00f1os\", \"M\\u00e1s de 66 a\\u00f1os\", \"Entre 56 y 65 a\\u00f1os\", \"Entre 56 y 65 a\\u00f1os\", \"Entre 56 y 65 a\\u00f1os\", \"Entre 26 y 35 a\\u00f1os\", \"Entre 56 y 65 a\\u00f1os\", \"M\\u00e1s de 66 a\\u00f1os\", \"Entre 56 y 65 a\\u00f1os\", \"M\\u00e1s de 66 a\\u00f1os\", \"M\\u00e1s de 66 a\\u00f1os\", \"M\\u00e1s de 66 a\\u00f1os\", \"M\\u00e1s de 66 a\\u00f1os\", \"Entre 36 y 45 a\\u00f1os\", \"Entre 56 y 65 a\\u00f1os\", \"M\\u00e1s de 66 a\\u00f1os\", \"M\\u00e1s de 66 a\\u00f1os\", \"Entre 56 y 65 a\\u00f1os\", \"Entre 56 y 65 a\\u00f1os\", \"M\\u00e1s de 66 a\\u00f1os\", \"M\\u00e1s de 66 a\\u00f1os\", \"M\\u00e1s de 66 a\\u00f1os\", \"Entre 56 y 65 a\\u00f1os\", \"Entre 56 y 65 a\\u00f1os\", \"Entre 56 y 65 a\\u00f1os\", \"M\\u00e1s de 66 a\\u00f1os\", \"Entre 56 y 65 a\\u00f1os\", \"M\\u00e1s de 66 a\\u00f1os\", \"M\\u00e1s de 66 a\\u00f1os\", \"Entre 56 y 65 a\\u00f1os\", \"M\\u00e1s de 66 a\\u00f1os\", \"Entre 56 y 65 a\\u00f1os\", \"M\\u00e1s de 66 a\\u00f1os\", \"Entre 56 y 65 a\\u00f1os\", \"M\\u00e1s de 66 a\\u00f1os\", \"Entre 56 y 65 a\\u00f1os\", \"M\\u00e1s de 66 a\\u00f1os\", \"M\\u00e1s de 66 a\\u00f1os\", \"Entre 56 y 65 a\\u00f1os\", \"Entre 56 y 65 a\\u00f1os\", \"Entre 56 y 65 a\\u00f1os\", \"Entre 56 y 65 a\\u00f1os\", \"Entre 56 y 65 a\\u00f1os\", \"Entre 56 y 65 a\\u00f1os\", \"Entre 56 y 65 a\\u00f1os\", \"Entre 56 y 65 a\\u00f1os\", \"M\\u00e1s de 66 a\\u00f1os\", \"M\\u00e1s de 66 a\\u00f1os\", \"Entre 56 y 65 a\\u00f1os\", \"M\\u00e1s de 66 a\\u00f1os\", \"Entre 56 y 65 a\\u00f1os\", \"Entre 56 y 65 a\\u00f1os\", \"M\\u00e1s de 66 a\\u00f1os\", \"Entre 56 y 65 a\\u00f1os\", \"Entre 36 y 45 a\\u00f1os\", \"Entre 56 y 65 a\\u00f1os\", \"Entre 56 y 65 a\\u00f1os\", \"M\\u00e1s de 66 a\\u00f1os\", \"Entre 56 y 65 a\\u00f1os\", \"M\\u00e1s de 66 a\\u00f1os\", \"M\\u00e1s de 66 a\\u00f1os\", \"M\\u00e1s de 66 a\\u00f1os\", \"Entre 56 y 65 a\\u00f1os\", \"Entre 56 y 65 a\\u00f1os\", \"Entre 56 y 65 a\\u00f1os\", \"M\\u00e1s de 66 a\\u00f1os\", \"Entre 56 y 65 a\\u00f1os\", \"M\\u00e1s de 66 a\\u00f1os\", \"Entre 56 y 65 a\\u00f1os\", \"Entre 56 y 65 a\\u00f1os\", \"Entre 56 y 65 a\\u00f1os\", \"M\\u00e1s de 66 a\\u00f1os\", \"M\\u00e1s de 66 a\\u00f1os\", \"Entre 56 y 65 a\\u00f1os\", \"Entre 56 y 65 a\\u00f1os\", \"M\\u00e1s de 66 a\\u00f1os\", \"Entre 56 y 65 a\\u00f1os\", \"Entre 56 y 65 a\\u00f1os\", \"M\\u00e1s de 66 a\\u00f1os\", \"Entre 56 y 65 a\\u00f1os\", \"M\\u00e1s de 66 a\\u00f1os\", \"Entre 56 y 65 a\\u00f1os\", \"Entre 56 y 65 a\\u00f1os\", \"Entre 56 y 65 a\\u00f1os\", \"Entre 56 y 65 a\\u00f1os\", \"M\\u00e1s de 66 a\\u00f1os\", \"M\\u00e1s de 66 a\\u00f1os\", \"Entre 56 y 65 a\\u00f1os\", \"Entre 56 y 65 a\\u00f1os\", \"Entre 56 y 65 a\\u00f1os\", \"M\\u00e1s de 66 a\\u00f1os\", \"Entre 56 y 65 a\\u00f1os\", \"Entre 56 y 65 a\\u00f1os\", \"M\\u00e1s de 66 a\\u00f1os\", \"Entre 56 y 65 a\\u00f1os\", \"M\\u00e1s de 66 a\\u00f1os\", \"Entre 46 y 55 a\\u00f1os\", \"Entre 56 y 65 a\\u00f1os\", \"Entre 56 y 65 a\\u00f1os\", \"Entre 56 y 65 a\\u00f1os\", \"M\\u00e1s de 66 a\\u00f1os\", \"Entre 56 y 65 a\\u00f1os\", \"Entre 56 y 65 a\\u00f1os\", \"M\\u00e1s de 66 a\\u00f1os\", \"Entre 56 y 65 a\\u00f1os\", \"M\\u00e1s de 66 a\\u00f1os\", \"Entre 56 y 65 a\\u00f1os\", \"Entre 56 y 65 a\\u00f1os\", \"M\\u00e1s de 66 a\\u00f1os\", \"M\\u00e1s de 66 a\\u00f1os\", \"Entre 56 y 65 a\\u00f1os\", \"M\\u00e1s de 66 a\\u00f1os\", \"M\\u00e1s de 66 a\\u00f1os\", \"M\\u00e1s de 66 a\\u00f1os\", \"Entre 56 y 65 a\\u00f1os\", \"Entre 56 y 65 a\\u00f1os\", \"M\\u00e1s de 66 a\\u00f1os\", \"Entre 56 y 65 a\\u00f1os\", \"Entre 56 y 65 a\\u00f1os\", \"Entre 56 y 65 a\\u00f1os\", \"Entre 56 y 65 a\\u00f1os\", \"Entre 46 y 55 a\\u00f1os\", \"Entre 56 y 65 a\\u00f1os\", \"Entre 56 y 65 a\\u00f1os\", \"Entre 56 y 65 a\\u00f1os\", \"Entre 56 y 65 a\\u00f1os\", \"Entre 56 y 65 a\\u00f1os\", \"Entre 56 y 65 a\\u00f1os\", \"M\\u00e1s de 66 a\\u00f1os\", \"Entre 56 y 65 a\\u00f1os\", \"Entre 56 y 65 a\\u00f1os\", \"M\\u00e1s de 66 a\\u00f1os\", \"M\\u00e1s de 66 a\\u00f1os\", \"Entre 46 y 55 a\\u00f1os\", \"Entre 56 y 65 a\\u00f1os\", \"Entre 56 y 65 a\\u00f1os\", \"M\\u00e1s de 66 a\\u00f1os\", \"Entre 56 y 65 a\\u00f1os\", \"Entre 56 y 65 a\\u00f1os\", \"Entre 56 y 65 a\\u00f1os\", \"Entre 56 y 65 a\\u00f1os\", \"Entre 56 y 65 a\\u00f1os\", \"Entre 56 y 65 a\\u00f1os\", \"M\\u00e1s de 66 a\\u00f1os\", \"Entre 56 y 65 a\\u00f1os\", \"M\\u00e1s de 66 a\\u00f1os\", \"Entre 46 y 55 a\\u00f1os\", \"M\\u00e1s de 66 a\\u00f1os\", \"Entre 46 y 55 a\\u00f1os\", \"Entre 56 y 65 a\\u00f1os\", \"M\\u00e1s de 66 a\\u00f1os\", \"Entre 56 y 65 a\\u00f1os\", \"Entre 56 y 65 a\\u00f1os\", \"M\\u00e1s de 66 a\\u00f1os\", \"Entre 56 y 65 a\\u00f1os\", \"M\\u00e1s de 66 a\\u00f1os\", \"Entre 56 y 65 a\\u00f1os\", \"M\\u00e1s de 66 a\\u00f1os\", \"M\\u00e1s de 66 a\\u00f1os\", \"M\\u00e1s de 66 a\\u00f1os\", \"Entre 56 y 65 a\\u00f1os\", \"M\\u00e1s de 66 a\\u00f1os\", \"Entre 56 y 65 a\\u00f1os\", \"Entre 36 y 45 a\\u00f1os\", \"M\\u00e1s de 66 a\\u00f1os\", \"Entre 56 y 65 a\\u00f1os\", \"Entre 36 y 45 a\\u00f1os\", \"Entre 56 y 65 a\\u00f1os\", \"M\\u00e1s de 66 a\\u00f1os\", \"Entre 56 y 65 a\\u00f1os\", \"M\\u00e1s de 66 a\\u00f1os\", \"Entre 56 y 65 a\\u00f1os\", \"Entre 56 y 65 a\\u00f1os\", \"Entre 56 y 65 a\\u00f1os\", \"Entre 46 y 55 a\\u00f1os\", \"M\\u00e1s de 66 a\\u00f1os\", \"Entre 56 y 65 a\\u00f1os\", \"Entre 56 y 65 a\\u00f1os\", \"Entre 56 y 65 a\\u00f1os\", \"M\\u00e1s de 66 a\\u00f1os\", \"Entre 56 y 65 a\\u00f1os\", \"M\\u00e1s de 66 a\\u00f1os\", \"M\\u00e1s de 66 a\\u00f1os\", \"Entre 56 y 65 a\\u00f1os\", \"M\\u00e1s de 66 a\\u00f1os\", \"Entre 56 y 65 a\\u00f1os\", \"M\\u00e1s de 66 a\\u00f1os\", \"Entre 56 y 65 a\\u00f1os\", \"Entre 56 y 65 a\\u00f1os\", \"M\\u00e1s de 66 a\\u00f1os\", \"Entre 56 y 65 a\\u00f1os\", \"Entre 56 y 65 a\\u00f1os\", \"Entre 56 y 65 a\\u00f1os\", \"M\\u00e1s de 66 a\\u00f1os\", \"Entre 26 y 35 a\\u00f1os\", \"Entre 18 y 25 a\\u00f1os\", \"Entre 56 y 65 a\\u00f1os\", \"Entre 18 y 25 a\\u00f1os\", \"Entre 18 y 25 a\\u00f1os\", \"Entre 56 y 65 a\\u00f1os\", \"M\\u00e1s de 66 a\\u00f1os\", \"Entre 26 y 35 a\\u00f1os\", \"Entre 26 y 35 a\\u00f1os\", \"Entre 46 y 55 a\\u00f1os\", \"Entre 18 y 25 a\\u00f1os\", \"Entre 56 y 65 a\\u00f1os\", \"Entre 56 y 65 a\\u00f1os\", \"Entre 26 y 35 a\\u00f1os\", \"Entre 36 y 45 a\\u00f1os\", \"Entre 18 y 25 a\\u00f1os\", \"Menor de 18 a\\u00f1os\", \"M\\u00e1s de 66 a\\u00f1os\", \"Entre 26 y 35 a\\u00f1os\", \"Entre 18 y 25 a\\u00f1os\", \"Entre 18 y 25 a\\u00f1os\", \"Entre 26 y 35 a\\u00f1os\", \"Entre 18 y 25 a\\u00f1os\", \"Entre 26 y 35 a\\u00f1os\", \"Entre 18 y 25 a\\u00f1os\", \"Entre 26 y 35 a\\u00f1os\", \"M\\u00e1s de 66 a\\u00f1os\", \"Menor de 18 a\\u00f1os\", \"Entre 18 y 25 a\\u00f1os\", \"Entre 18 y 25 a\\u00f1os\", \"Entre 18 y 25 a\\u00f1os\", \"Entre 56 y 65 a\\u00f1os\", \"Menor de 18 a\\u00f1os\", \"Menor de 18 a\\u00f1os\", \"Entre 18 y 25 a\\u00f1os\", \"Entre 18 y 25 a\\u00f1os\", \"Entre 46 y 55 a\\u00f1os\", \"Menor de 18 a\\u00f1os\", \"Entre 18 y 25 a\\u00f1os\", \"Entre 18 y 25 a\\u00f1os\", \"Entre 56 y 65 a\\u00f1os\", \"Entre 26 y 35 a\\u00f1os\", \"Entre 26 y 35 a\\u00f1os\", \"Entre 18 y 25 a\\u00f1os\", \"Entre 36 y 45 a\\u00f1os\", \"Entre 18 y 25 a\\u00f1os\", \"Entre 18 y 25 a\\u00f1os\", \"Entre 18 y 25 a\\u00f1os\", \"Entre 46 y 55 a\\u00f1os\", \"M\\u00e1s de 66 a\\u00f1os\", \"Entre 26 y 35 a\\u00f1os\", \"Menor de 18 a\\u00f1os\", \"Entre 18 y 25 a\\u00f1os\", \"Entre 18 y 25 a\\u00f1os\", \"Entre 18 y 25 a\\u00f1os\", \"M\\u00e1s de 66 a\\u00f1os\", \"Menor de 18 a\\u00f1os\", \"Entre 26 y 35 a\\u00f1os\", \"Entre 26 y 35 a\\u00f1os\", \"Entre 18 y 25 a\\u00f1os\", \"Entre 18 y 25 a\\u00f1os\", \"Entre 26 y 35 a\\u00f1os\", \"Entre 18 y 25 a\\u00f1os\", \"Entre 26 y 35 a\\u00f1os\", \"M\\u00e1s de 66 a\\u00f1os\", \"Entre 18 y 25 a\\u00f1os\", \"Entre 18 y 25 a\\u00f1os\", \"Entre 18 y 25 a\\u00f1os\", \"Entre 26 y 35 a\\u00f1os\", \"Entre 26 y 35 a\\u00f1os\", \"M\\u00e1s de 66 a\\u00f1os\", \"Entre 26 y 35 a\\u00f1os\", \"Entre 26 y 35 a\\u00f1os\", \"Entre 18 y 25 a\\u00f1os\", \"Entre 18 y 25 a\\u00f1os\", \"Entre 56 y 65 a\\u00f1os\", \"Entre 18 y 25 a\\u00f1os\", \"Entre 18 y 25 a\\u00f1os\", \"Entre 46 y 55 a\\u00f1os\", \"Entre 26 y 35 a\\u00f1os\", \"Entre 26 y 35 a\\u00f1os\", \"Entre 26 y 35 a\\u00f1os\", \"Entre 18 y 25 a\\u00f1os\", \"Entre 26 y 35 a\\u00f1os\", \"Entre 26 y 35 a\\u00f1os\", \"Entre 26 y 35 a\\u00f1os\", \"Entre 18 y 25 a\\u00f1os\", \"Entre 18 y 25 a\\u00f1os\", \"Entre 26 y 35 a\\u00f1os\", \"Entre 26 y 35 a\\u00f1os\", \"Entre 26 y 35 a\\u00f1os\", \"Entre 56 y 65 a\\u00f1os\", \"M\\u00e1s de 66 a\\u00f1os\", \"Entre 26 y 35 a\\u00f1os\", \"Entre 56 y 65 a\\u00f1os\", \"Entre 56 y 65 a\\u00f1os\", \"Entre 26 y 35 a\\u00f1os\", \"M\\u00e1s de 66 a\\u00f1os\", \"Entre 18 y 25 a\\u00f1os\", \"Entre 26 y 35 a\\u00f1os\", \"Entre 18 y 25 a\\u00f1os\", \"Entre 26 y 35 a\\u00f1os\", \"Entre 46 y 55 a\\u00f1os\", \"Entre 36 y 45 a\\u00f1os\", \"Entre 36 y 45 a\\u00f1os\", \"Entre 36 y 45 a\\u00f1os\", \"Entre 36 y 45 a\\u00f1os\", \"Entre 36 y 45 a\\u00f1os\", \"Entre 26 y 35 a\\u00f1os\", \"Entre 46 y 55 a\\u00f1os\", \"Entre 36 y 45 a\\u00f1os\", \"Entre 36 y 45 a\\u00f1os\", \"Entre 26 y 35 a\\u00f1os\", \"Entre 36 y 45 a\\u00f1os\", \"Entre 36 y 45 a\\u00f1os\", \"Entre 36 y 45 a\\u00f1os\", \"Entre 36 y 45 a\\u00f1os\", \"Entre 36 y 45 a\\u00f1os\", \"Entre 36 y 45 a\\u00f1os\", \"Entre 36 y 45 a\\u00f1os\", \"Entre 36 y 45 a\\u00f1os\", \"Entre 26 y 35 a\\u00f1os\", \"Entre 26 y 35 a\\u00f1os\", \"Entre 36 y 45 a\\u00f1os\", \"Entre 26 y 35 a\\u00f1os\", \"Entre 26 y 35 a\\u00f1os\", \"Entre 36 y 45 a\\u00f1os\", \"Entre 26 y 35 a\\u00f1os\", \"Entre 36 y 45 a\\u00f1os\", \"Entre 36 y 45 a\\u00f1os\", \"Entre 26 y 35 a\\u00f1os\", \"Entre 36 y 45 a\\u00f1os\", \"Entre 36 y 45 a\\u00f1os\", \"Menor de 18 a\\u00f1os\", \"Entre 26 y 35 a\\u00f1os\", \"Entre 36 y 45 a\\u00f1os\", \"Entre 36 y 45 a\\u00f1os\", \"Entre 46 y 55 a\\u00f1os\", \"Entre 36 y 45 a\\u00f1os\", \"Entre 26 y 35 a\\u00f1os\", \"Entre 46 y 55 a\\u00f1os\", \"Entre 36 y 45 a\\u00f1os\", \"Entre 36 y 45 a\\u00f1os\", \"Entre 36 y 45 a\\u00f1os\", \"Entre 36 y 45 a\\u00f1os\", \"Entre 36 y 45 a\\u00f1os\", \"Entre 26 y 35 a\\u00f1os\", \"Entre 36 y 45 a\\u00f1os\", \"Entre 46 y 55 a\\u00f1os\", \"Entre 36 y 45 a\\u00f1os\", \"Entre 36 y 45 a\\u00f1os\", \"Entre 26 y 35 a\\u00f1os\", \"Entre 36 y 45 a\\u00f1os\", \"Entre 36 y 45 a\\u00f1os\", \"Entre 26 y 35 a\\u00f1os\", \"Entre 36 y 45 a\\u00f1os\", \"Entre 36 y 45 a\\u00f1os\", \"Entre 36 y 45 a\\u00f1os\", \"Entre 36 y 45 a\\u00f1os\", \"Entre 36 y 45 a\\u00f1os\", \"Entre 36 y 45 a\\u00f1os\", \"Entre 26 y 35 a\\u00f1os\", \"Entre 36 y 45 a\\u00f1os\", \"Entre 36 y 45 a\\u00f1os\", \"Entre 36 y 45 a\\u00f1os\", \"Entre 46 y 55 a\\u00f1os\", \"Entre 26 y 35 a\\u00f1os\", \"Entre 36 y 45 a\\u00f1os\", \"Entre 36 y 45 a\\u00f1os\", \"Entre 36 y 45 a\\u00f1os\", \"Entre 36 y 45 a\\u00f1os\", \"Entre 36 y 45 a\\u00f1os\", \"Entre 36 y 45 a\\u00f1os\", \"Entre 26 y 35 a\\u00f1os\", \"Entre 36 y 45 a\\u00f1os\", \"Entre 36 y 45 a\\u00f1os\", \"Entre 26 y 35 a\\u00f1os\", \"Entre 36 y 45 a\\u00f1os\", \"Entre 36 y 45 a\\u00f1os\", \"Entre 26 y 35 a\\u00f1os\", \"Entre 26 y 35 a\\u00f1os\", \"Entre 36 y 45 a\\u00f1os\", \"Entre 26 y 35 a\\u00f1os\", \"Entre 46 y 55 a\\u00f1os\", \"Entre 26 y 35 a\\u00f1os\", \"Entre 26 y 35 a\\u00f1os\", \"Entre 26 y 35 a\\u00f1os\", \"Entre 36 y 45 a\\u00f1os\", \"Entre 36 y 45 a\\u00f1os\", \"Entre 36 y 45 a\\u00f1os\", \"Entre 46 y 55 a\\u00f1os\", \"Entre 36 y 45 a\\u00f1os\", \"Entre 26 y 35 a\\u00f1os\", \"Entre 36 y 45 a\\u00f1os\", \"Entre 46 y 55 a\\u00f1os\", \"Entre 36 y 45 a\\u00f1os\", \"Entre 36 y 45 a\\u00f1os\", \"Entre 36 y 45 a\\u00f1os\", \"Entre 36 y 45 a\\u00f1os\", \"Entre 36 y 45 a\\u00f1os\"], \"xaxis\": \"x\", \"yaxis\": \"y\"}],\n",
       "                        {\"barmode\": \"relative\", \"height\": 600, \"legend\": {\"tracegroupgap\": 0}, \"template\": {\"data\": {\"bar\": [{\"error_x\": {\"color\": \"#2a3f5f\"}, \"error_y\": {\"color\": \"#2a3f5f\"}, \"marker\": {\"line\": {\"color\": \"#E5ECF6\", \"width\": 0.5}}, \"type\": \"bar\"}], \"barpolar\": [{\"marker\": {\"line\": {\"color\": \"#E5ECF6\", \"width\": 0.5}}, \"type\": \"barpolar\"}], \"carpet\": [{\"aaxis\": {\"endlinecolor\": \"#2a3f5f\", \"gridcolor\": \"white\", \"linecolor\": \"white\", \"minorgridcolor\": \"white\", \"startlinecolor\": \"#2a3f5f\"}, \"baxis\": {\"endlinecolor\": \"#2a3f5f\", \"gridcolor\": \"white\", \"linecolor\": \"white\", \"minorgridcolor\": \"white\", \"startlinecolor\": \"#2a3f5f\"}, \"type\": \"carpet\"}], \"choropleth\": [{\"colorbar\": {\"outlinewidth\": 0, \"ticks\": \"\"}, \"type\": \"choropleth\"}], \"contour\": [{\"colorbar\": {\"outlinewidth\": 0, \"ticks\": \"\"}, \"colorscale\": [[0.0, \"#0d0887\"], [0.1111111111111111, \"#46039f\"], [0.2222222222222222, \"#7201a8\"], [0.3333333333333333, \"#9c179e\"], [0.4444444444444444, \"#bd3786\"], [0.5555555555555556, \"#d8576b\"], [0.6666666666666666, \"#ed7953\"], [0.7777777777777778, \"#fb9f3a\"], [0.8888888888888888, \"#fdca26\"], [1.0, \"#f0f921\"]], \"type\": \"contour\"}], \"contourcarpet\": [{\"colorbar\": {\"outlinewidth\": 0, \"ticks\": \"\"}, \"type\": \"contourcarpet\"}], \"heatmap\": [{\"colorbar\": {\"outlinewidth\": 0, \"ticks\": \"\"}, \"colorscale\": [[0.0, \"#0d0887\"], [0.1111111111111111, \"#46039f\"], [0.2222222222222222, \"#7201a8\"], [0.3333333333333333, \"#9c179e\"], [0.4444444444444444, \"#bd3786\"], [0.5555555555555556, \"#d8576b\"], [0.6666666666666666, \"#ed7953\"], [0.7777777777777778, \"#fb9f3a\"], [0.8888888888888888, \"#fdca26\"], [1.0, \"#f0f921\"]], \"type\": \"heatmap\"}], \"heatmapgl\": [{\"colorbar\": {\"outlinewidth\": 0, \"ticks\": \"\"}, \"colorscale\": [[0.0, \"#0d0887\"], [0.1111111111111111, \"#46039f\"], [0.2222222222222222, \"#7201a8\"], [0.3333333333333333, \"#9c179e\"], [0.4444444444444444, \"#bd3786\"], [0.5555555555555556, \"#d8576b\"], [0.6666666666666666, \"#ed7953\"], [0.7777777777777778, \"#fb9f3a\"], [0.8888888888888888, \"#fdca26\"], [1.0, \"#f0f921\"]], \"type\": \"heatmapgl\"}], \"histogram\": [{\"marker\": {\"colorbar\": {\"outlinewidth\": 0, \"ticks\": \"\"}}, \"type\": \"histogram\"}], \"histogram2d\": [{\"colorbar\": {\"outlinewidth\": 0, \"ticks\": \"\"}, \"colorscale\": [[0.0, \"#0d0887\"], [0.1111111111111111, \"#46039f\"], [0.2222222222222222, \"#7201a8\"], [0.3333333333333333, \"#9c179e\"], [0.4444444444444444, \"#bd3786\"], [0.5555555555555556, \"#d8576b\"], [0.6666666666666666, \"#ed7953\"], [0.7777777777777778, \"#fb9f3a\"], [0.8888888888888888, \"#fdca26\"], [1.0, \"#f0f921\"]], \"type\": \"histogram2d\"}], \"histogram2dcontour\": [{\"colorbar\": {\"outlinewidth\": 0, \"ticks\": \"\"}, \"colorscale\": [[0.0, \"#0d0887\"], [0.1111111111111111, \"#46039f\"], [0.2222222222222222, \"#7201a8\"], [0.3333333333333333, \"#9c179e\"], [0.4444444444444444, \"#bd3786\"], [0.5555555555555556, \"#d8576b\"], [0.6666666666666666, \"#ed7953\"], [0.7777777777777778, \"#fb9f3a\"], [0.8888888888888888, \"#fdca26\"], [1.0, \"#f0f921\"]], \"type\": \"histogram2dcontour\"}], \"mesh3d\": [{\"colorbar\": {\"outlinewidth\": 0, \"ticks\": \"\"}, \"type\": \"mesh3d\"}], \"parcoords\": [{\"line\": {\"colorbar\": {\"outlinewidth\": 0, \"ticks\": \"\"}}, \"type\": \"parcoords\"}], \"pie\": [{\"automargin\": true, \"type\": \"pie\"}], \"scatter\": [{\"marker\": {\"colorbar\": {\"outlinewidth\": 0, \"ticks\": \"\"}}, \"type\": \"scatter\"}], \"scatter3d\": [{\"line\": {\"colorbar\": {\"outlinewidth\": 0, \"ticks\": \"\"}}, \"marker\": {\"colorbar\": {\"outlinewidth\": 0, \"ticks\": \"\"}}, \"type\": \"scatter3d\"}], \"scattercarpet\": [{\"marker\": {\"colorbar\": {\"outlinewidth\": 0, \"ticks\": \"\"}}, \"type\": \"scattercarpet\"}], \"scattergeo\": [{\"marker\": {\"colorbar\": {\"outlinewidth\": 0, \"ticks\": \"\"}}, \"type\": \"scattergeo\"}], \"scattergl\": [{\"marker\": {\"colorbar\": {\"outlinewidth\": 0, \"ticks\": \"\"}}, \"type\": \"scattergl\"}], \"scattermapbox\": [{\"marker\": {\"colorbar\": {\"outlinewidth\": 0, \"ticks\": \"\"}}, \"type\": \"scattermapbox\"}], \"scatterpolar\": [{\"marker\": {\"colorbar\": {\"outlinewidth\": 0, \"ticks\": \"\"}}, \"type\": \"scatterpolar\"}], \"scatterpolargl\": [{\"marker\": {\"colorbar\": {\"outlinewidth\": 0, \"ticks\": \"\"}}, \"type\": \"scatterpolargl\"}], \"scatterternary\": [{\"marker\": {\"colorbar\": {\"outlinewidth\": 0, \"ticks\": \"\"}}, \"type\": \"scatterternary\"}], \"surface\": [{\"colorbar\": {\"outlinewidth\": 0, \"ticks\": \"\"}, \"colorscale\": [[0.0, \"#0d0887\"], [0.1111111111111111, \"#46039f\"], [0.2222222222222222, \"#7201a8\"], [0.3333333333333333, \"#9c179e\"], [0.4444444444444444, \"#bd3786\"], [0.5555555555555556, \"#d8576b\"], [0.6666666666666666, \"#ed7953\"], [0.7777777777777778, \"#fb9f3a\"], [0.8888888888888888, \"#fdca26\"], [1.0, \"#f0f921\"]], \"type\": \"surface\"}], \"table\": [{\"cells\": {\"fill\": {\"color\": \"#EBF0F8\"}, \"line\": {\"color\": \"white\"}}, \"header\": {\"fill\": {\"color\": \"#C8D4E3\"}, \"line\": {\"color\": \"white\"}}, \"type\": \"table\"}]}, \"layout\": {\"annotationdefaults\": {\"arrowcolor\": \"#2a3f5f\", \"arrowhead\": 0, \"arrowwidth\": 1}, \"coloraxis\": {\"colorbar\": {\"outlinewidth\": 0, \"ticks\": \"\"}}, \"colorscale\": {\"diverging\": [[0, \"#8e0152\"], [0.1, \"#c51b7d\"], [0.2, \"#de77ae\"], [0.3, \"#f1b6da\"], [0.4, \"#fde0ef\"], [0.5, \"#f7f7f7\"], [0.6, \"#e6f5d0\"], [0.7, \"#b8e186\"], [0.8, \"#7fbc41\"], [0.9, \"#4d9221\"], [1, \"#276419\"]], \"sequential\": [[0.0, \"#0d0887\"], [0.1111111111111111, \"#46039f\"], [0.2222222222222222, \"#7201a8\"], [0.3333333333333333, \"#9c179e\"], [0.4444444444444444, \"#bd3786\"], [0.5555555555555556, \"#d8576b\"], [0.6666666666666666, \"#ed7953\"], [0.7777777777777778, \"#fb9f3a\"], [0.8888888888888888, \"#fdca26\"], [1.0, \"#f0f921\"]], \"sequentialminus\": [[0.0, \"#0d0887\"], [0.1111111111111111, \"#46039f\"], [0.2222222222222222, \"#7201a8\"], [0.3333333333333333, \"#9c179e\"], [0.4444444444444444, \"#bd3786\"], [0.5555555555555556, \"#d8576b\"], [0.6666666666666666, \"#ed7953\"], [0.7777777777777778, \"#fb9f3a\"], [0.8888888888888888, \"#fdca26\"], [1.0, \"#f0f921\"]]}, \"colorway\": [\"#636efa\", \"#EF553B\", \"#00cc96\", \"#ab63fa\", \"#FFA15A\", \"#19d3f3\", \"#FF6692\", \"#B6E880\", \"#FF97FF\", \"#FECB52\"], \"font\": {\"color\": \"#2a3f5f\"}, \"geo\": {\"bgcolor\": \"white\", \"lakecolor\": \"white\", \"landcolor\": \"#E5ECF6\", \"showlakes\": true, \"showland\": true, \"subunitcolor\": \"white\"}, \"hoverlabel\": {\"align\": \"left\"}, \"hovermode\": \"closest\", \"mapbox\": {\"style\": \"light\"}, \"paper_bgcolor\": \"white\", \"plot_bgcolor\": \"#E5ECF6\", \"polar\": {\"angularaxis\": {\"gridcolor\": \"white\", \"linecolor\": \"white\", \"ticks\": \"\"}, \"bgcolor\": \"#E5ECF6\", \"radialaxis\": {\"gridcolor\": \"white\", \"linecolor\": \"white\", \"ticks\": \"\"}}, \"scene\": {\"xaxis\": {\"backgroundcolor\": \"#E5ECF6\", \"gridcolor\": \"white\", \"gridwidth\": 2, \"linecolor\": \"white\", \"showbackground\": true, \"ticks\": \"\", \"zerolinecolor\": \"white\"}, \"yaxis\": {\"backgroundcolor\": \"#E5ECF6\", \"gridcolor\": \"white\", \"gridwidth\": 2, \"linecolor\": \"white\", \"showbackground\": true, \"ticks\": \"\", \"zerolinecolor\": \"white\"}, \"zaxis\": {\"backgroundcolor\": \"#E5ECF6\", \"gridcolor\": \"white\", \"gridwidth\": 2, \"linecolor\": \"white\", \"showbackground\": true, \"ticks\": \"\", \"zerolinecolor\": \"white\"}}, \"shapedefaults\": {\"line\": {\"color\": \"#2a3f5f\"}}, \"ternary\": {\"aaxis\": {\"gridcolor\": \"white\", \"linecolor\": \"white\", \"ticks\": \"\"}, \"baxis\": {\"gridcolor\": \"white\", \"linecolor\": \"white\", \"ticks\": \"\"}, \"bgcolor\": \"#E5ECF6\", \"caxis\": {\"gridcolor\": \"white\", \"linecolor\": \"white\", \"ticks\": \"\"}}, \"title\": {\"x\": 0.05}, \"xaxis\": {\"automargin\": true, \"gridcolor\": \"white\", \"linecolor\": \"white\", \"ticks\": \"\", \"title\": {\"standoff\": 15}, \"zerolinecolor\": \"white\", \"zerolinewidth\": 2}, \"yaxis\": {\"automargin\": true, \"gridcolor\": \"white\", \"linecolor\": \"white\", \"ticks\": \"\", \"title\": {\"standoff\": 15}, \"zerolinecolor\": \"white\", \"zerolinewidth\": 2}}}, \"title\": {\"text\": \"Distribuci\\u00f3n de los encuestados seg\\u00fan rangos etarios\"}, \"xaxis\": {\"anchor\": \"y\", \"categoryarray\": [\"Menor de 18 a\\u00f1os\", \"Entre 18 y 25 a\\u00f1os\", \"Entre 26 y 35 a\\u00f1os\", \"Entre 36 y 45 a\\u00f1os\", \"Entre 46 y 55 a\\u00f1os\", \"Entre 56 y 65 a\\u00f1os\", \"M\\u00e1s de 66 a\\u00f1os\"], \"categoryorder\": \"array\", \"domain\": [0.0, 1.0], \"title\": {\"text\": \"Edad\"}}, \"yaxis\": {\"anchor\": \"x\", \"domain\": [0.0, 1.0], \"title\": {\"text\": \" \"}}},\n",
       "                        {\"responsive\": true}\n",
       "                    ).then(function(){\n",
       "                            \n",
       "var gd = document.getElementById('ff95be1b-a9a4-427a-8f16-9f664f691374');\n",
       "var x = new MutationObserver(function (mutations, observer) {{\n",
       "        var display = window.getComputedStyle(gd).display;\n",
       "        if (!display || display === 'none') {{\n",
       "            console.log([gd, 'removed!']);\n",
       "            Plotly.purge(gd);\n",
       "            observer.disconnect();\n",
       "        }}\n",
       "}});\n",
       "\n",
       "// Listen for the removal of the full notebook cells\n",
       "var notebookContainer = gd.closest('#notebook-container');\n",
       "if (notebookContainer) {{\n",
       "    x.observe(notebookContainer, {childList: true});\n",
       "}}\n",
       "\n",
       "// Listen for the clearing of the current output cell\n",
       "var outputEl = gd.closest('.output');\n",
       "if (outputEl) {{\n",
       "    x.observe(outputEl, {childList: true});\n",
       "}}\n",
       "\n",
       "                        })\n",
       "                };\n",
       "                });\n",
       "            </script>\n",
       "        </div>"
      ]
     },
     "metadata": {},
     "output_type": "display_data"
    }
   ],
   "source": [
    "##Grafico con distribucion por edad\n",
    "fig = px.histogram(df,  x=\"edad\", title=f\"Distribución de los encuestados según rangos etarios\",\n",
    "       labels={\"edad\": \"Edad\"})\n",
    "fig.update_layout(xaxis={'categoryorder':'array', 'categoryarray':['Menor de 18 años','Entre 18 y 25 años',\n",
    "                                                                   'Entre 26 y 35 años','Entre 36 y 45 años', \n",
    "                                                                  'Entre 46 y 55 años', 'Entre 56 y 65 años',\n",
    "                                                                  'Más de 66 años']})\n",
    "fig.update_yaxes(title_text=' ',row=1, col=1)"
   ]
  },
  {
   "cell_type": "code",
   "execution_count": 25,
   "metadata": {
    "extensions": {
     "jupyter_dashboards": {
      "version": 1,
      "views": {
       "grid_default": {},
       "report_default": {
        "hidden": false
       }
      }
     }
    },
    "scrolled": false
   },
   "outputs": [
    {
     "data": {
      "application/vnd.plotly.v1+json": {
       "config": {
        "plotlyServerURL": "https://plot.ly"
       },
       "data": [
        {
         "alignmentgroup": "True",
         "bingroup": "x",
         "hoverlabel": {
          "namelength": 0
         },
         "hovertemplate": "Provincia=%{x}<br>count=%{y}",
         "legendgroup": "",
         "marker": {
          "color": "#636efa"
         },
         "name": "",
         "offsetgroup": "",
         "orientation": "v",
         "showlegend": false,
         "type": "histogram",
         "x": [
          "San Juan",
          "Provincia de Buenos Aires",
          "Provincia de Buenos Aires",
          "Ciudad Autónoma de Buenos Aires",
          "Provincia de Buenos Aires",
          "Santa Fe",
          "Otra provincia",
          "Provincia de Buenos Aires",
          "Provincia de Buenos Aires",
          "Salta",
          "La Rioja",
          "Santa Fe",
          "Otra provincia",
          "Provincia de Buenos Aires",
          "Corrientes",
          "Provincia de Buenos Aires",
          "Provincia de Buenos Aires",
          "Provincia de Buenos Aires",
          "Otra provincia",
          "Santa Cruz",
          "Provincia de Buenos Aires",
          "Provincia de Buenos Aires",
          "Provincia de Buenos Aires",
          "Provincia de Buenos Aires",
          "Misiones",
          "Otra provincia",
          "Provincia de Buenos Aires",
          "Provincia de Buenos Aires",
          "Provincia de Buenos Aires",
          "Otra provincia",
          "Provincia de Buenos Aires",
          "Provincia de Buenos Aires",
          "Provincia de Buenos Aires",
          "Provincia de Buenos Aires",
          "Provincia de Buenos Aires",
          "Chubut",
          "Provincia de Buenos Aires",
          "Provincia de Buenos Aires",
          "Chaco",
          "Otra provincia",
          "Mendoza",
          "Provincia de Buenos Aires",
          "Provincia de Buenos Aires",
          "Chubut",
          "Provincia de Buenos Aires",
          "Provincia de Buenos Aires",
          "Provincia de Buenos Aires",
          "Provincia de Buenos Aires",
          "San Luis",
          "Provincia de Buenos Aires",
          "Santa Fe",
          "Misiones",
          "Misiones",
          "Provincia de Buenos Aires",
          "Otra provincia",
          "Provincia de Buenos Aires",
          "Provincia de Buenos Aires",
          "La Pampa",
          "Chaco",
          "Provincia de Buenos Aires",
          "La Pampa",
          "Ciudad Autónoma de Buenos Aires",
          "Provincia de Buenos Aires",
          "Provincia de Buenos Aires",
          "Otra provincia",
          "Provincia de Buenos Aires",
          "Otra provincia",
          "Ciudad Autónoma de Buenos Aires",
          "Jujuy",
          "Provincia de Buenos Aires",
          "Provincia de Buenos Aires",
          "Otra provincia",
          "Santa Fe",
          "Otra provincia",
          "Otra provincia",
          "Provincia de Buenos Aires",
          "Provincia de Buenos Aires",
          "Provincia de Buenos Aires",
          "Provincia de Buenos Aires",
          "Provincia de Buenos Aires",
          "Provincia de Buenos Aires",
          "Provincia de Buenos Aires",
          "Otra provincia",
          "Ciudad Autónoma de Buenos Aires",
          "Provincia de Buenos Aires",
          "Provincia de Buenos Aires",
          "Mendoza",
          "Provincia de Buenos Aires",
          "Provincia de Buenos Aires",
          "Provincia de Buenos Aires",
          "Provincia de Buenos Aires",
          "Provincia de Buenos Aires",
          "Provincia de Buenos Aires",
          "Provincia de Buenos Aires",
          "Ciudad Autónoma de Buenos Aires",
          "Provincia de Buenos Aires",
          "Otra provincia",
          "Provincia de Buenos Aires",
          "San Juan",
          "Chubut",
          "Santa Fe",
          "Provincia de Buenos Aires",
          "Otra provincia",
          "Provincia de Buenos Aires",
          "Provincia de Buenos Aires",
          "Misiones",
          "Otra provincia",
          "Provincia de Buenos Aires",
          "Provincia de Buenos Aires",
          "Provincia de Buenos Aires",
          "Provincia de Buenos Aires",
          "Otra provincia",
          "Corrientes",
          "Provincia de Buenos Aires",
          "Provincia de Buenos Aires",
          "Otra provincia",
          "Mendoza",
          "Provincia de Buenos Aires",
          "Provincia de Buenos Aires",
          "Provincia de Buenos Aires",
          "Provincia de Buenos Aires",
          "Mendoza",
          "Otra provincia",
          "Santa Fe",
          "Tierra del Fuego",
          "Chaco",
          "Misiones",
          "La Pampa",
          "Provincia de Buenos Aires",
          "Provincia de Buenos Aires",
          "Provincia de Buenos Aires",
          "Ciudad Autónoma de Buenos Aires",
          "Provincia de Buenos Aires",
          "Salta",
          "Provincia de Buenos Aires",
          "Provincia de Buenos Aires",
          "Provincia de Buenos Aires",
          "Tierra del Fuego",
          "Provincia de Buenos Aires",
          "Provincia de Buenos Aires",
          "Otra provincia",
          "Ciudad Autónoma de Buenos Aires",
          "Provincia de Buenos Aires",
          "Santa Fe",
          "Provincia de Buenos Aires",
          "Provincia de Buenos Aires",
          "Provincia de Buenos Aires",
          "Provincia de Buenos Aires",
          "Otra provincia",
          "Chaco",
          "Otra provincia",
          "Ciudad Autónoma de Buenos Aires",
          "Provincia de Buenos Aires",
          "Ciudad Autónoma de Buenos Aires",
          "Provincia de Buenos Aires",
          "Otra provincia",
          "Ciudad Autónoma de Buenos Aires",
          "Provincia de Buenos Aires",
          "Provincia de Buenos Aires",
          "Formosa",
          "Mendoza",
          "Santa Fe",
          "Provincia de Buenos Aires",
          "Ciudad Autónoma de Buenos Aires",
          "Provincia de Buenos Aires",
          "Otra provincia",
          "Provincia de Buenos Aires",
          "San Luis",
          "Ciudad Autónoma de Buenos Aires",
          "Ciudad Autónoma de Buenos Aires",
          "Otra provincia",
          "Formosa",
          "Ciudad Autónoma de Buenos Aires",
          "Provincia de Buenos Aires",
          "Provincia de Buenos Aires",
          "Tierra del Fuego",
          "Provincia de Buenos Aires",
          "Santa Fe",
          "Corrientes",
          "Provincia de Buenos Aires",
          "Provincia de Buenos Aires",
          "Provincia de Buenos Aires",
          "Ciudad Autónoma de Buenos Aires",
          "Provincia de Buenos Aires",
          "Provincia de Buenos Aires",
          "Provincia de Buenos Aires",
          "Otra provincia",
          "Provincia de Buenos Aires",
          "Provincia de Buenos Aires",
          "Ciudad Autónoma de Buenos Aires",
          "Provincia de Buenos Aires",
          "Otra provincia",
          "Otra provincia",
          "Otra provincia",
          null,
          "Misiones",
          "Provincia de Buenos Aires",
          "Provincia de Buenos Aires",
          "Provincia de Buenos Aires",
          "Provincia de Buenos Aires",
          "Provincia de Buenos Aires",
          "Provincia de Buenos Aires",
          "Provincia de Buenos Aires",
          "Misiones",
          "Provincia de Buenos Aires",
          "Provincia de Buenos Aires",
          "Ciudad Autónoma de Buenos Aires",
          "Provincia de Buenos Aires",
          "Provincia de Buenos Aires",
          "Otra provincia",
          "Otra provincia",
          "Provincia de Buenos Aires",
          "Provincia de Buenos Aires",
          "Provincia de Buenos Aires",
          "Otra provincia",
          "Provincia de Buenos Aires",
          "Provincia de Buenos Aires",
          "Otra provincia",
          "Provincia de Buenos Aires",
          "Provincia de Buenos Aires",
          "Provincia de Buenos Aires",
          "Ciudad Autónoma de Buenos Aires",
          "Chubut",
          "Misiones",
          "Provincia de Buenos Aires",
          "Otra provincia",
          "Ciudad Autónoma de Buenos Aires",
          "Provincia de Buenos Aires",
          "Chubut",
          "Provincia de Buenos Aires",
          "Provincia de Buenos Aires",
          "Ciudad Autónoma de Buenos Aires",
          "Chaco",
          "Provincia de Buenos Aires",
          "Otra provincia",
          "Provincia de Buenos Aires",
          "Otra provincia",
          "Provincia de Buenos Aires",
          "Ciudad Autónoma de Buenos Aires",
          "Provincia de Buenos Aires",
          "Salta",
          "Santa Fe",
          "Provincia de Buenos Aires",
          "Provincia de Buenos Aires",
          "Provincia de Buenos Aires",
          "Tierra del Fuego",
          "Provincia de Buenos Aires",
          "Provincia de Buenos Aires",
          "Provincia de Buenos Aires",
          "Provincia de Buenos Aires",
          "Chaco",
          "Provincia de Buenos Aires",
          "Provincia de Buenos Aires",
          "Provincia de Buenos Aires",
          "Ciudad Autónoma de Buenos Aires",
          "Provincia de Buenos Aires",
          "Misiones",
          "Provincia de Buenos Aires",
          "Provincia de Buenos Aires",
          "Ciudad Autónoma de Buenos Aires",
          "Otra provincia",
          "Santa Fe",
          "Provincia de Buenos Aires",
          "Chubut",
          "Provincia de Buenos Aires",
          "Provincia de Buenos Aires",
          "Ciudad Autónoma de Buenos Aires",
          "La Pampa",
          "Provincia de Buenos Aires",
          "Otra provincia",
          "Provincia de Buenos Aires",
          "Otra provincia",
          "Santa Fe",
          "Otra provincia",
          "Provincia de Buenos Aires",
          "Otra provincia",
          "Santa Fe",
          "Provincia de Buenos Aires",
          "Provincia de Buenos Aires",
          "Otra provincia",
          "Mendoza",
          "Ciudad Autónoma de Buenos Aires",
          "Provincia de Buenos Aires",
          "Provincia de Buenos Aires",
          "Otra provincia",
          "Jujuy",
          "Provincia de Buenos Aires",
          "Ciudad Autónoma de Buenos Aires",
          "Provincia de Buenos Aires",
          "Otra provincia",
          "Provincia de Buenos Aires",
          "Chaco",
          "Provincia de Buenos Aires",
          "Otra provincia",
          "Provincia de Buenos Aires",
          "Ciudad Autónoma de Buenos Aires",
          "Ciudad Autónoma de Buenos Aires",
          "Provincia de Buenos Aires",
          "Otra provincia",
          "Ciudad Autónoma de Buenos Aires",
          "Provincia de Buenos Aires",
          "Mendoza",
          "Mendoza",
          "Provincia de Buenos Aires",
          "Santa Fe",
          "Provincia de Buenos Aires",
          "Ciudad Autónoma de Buenos Aires",
          "Santa Fe",
          "Otra provincia",
          "Otra provincia",
          "Otra provincia",
          "Otra provincia",
          "Santa Fe",
          "Provincia de Buenos Aires",
          "Provincia de Buenos Aires",
          null,
          "Provincia de Buenos Aires",
          "Provincia de Buenos Aires",
          "San Juan",
          "Provincia de Buenos Aires",
          "Ciudad Autónoma de Buenos Aires",
          "Santa Fe",
          "Mendoza",
          "Provincia de Buenos Aires",
          "Provincia de Buenos Aires",
          "Provincia de Buenos Aires",
          "Ciudad Autónoma de Buenos Aires",
          "Provincia de Buenos Aires",
          "Provincia de Buenos Aires",
          "Chubut",
          "Otra provincia",
          "Formosa",
          "Provincia de Buenos Aires",
          "Provincia de Buenos Aires",
          "Santa Fe",
          "Provincia de Buenos Aires",
          "Provincia de Buenos Aires",
          "Jujuy",
          "Provincia de Buenos Aires",
          "Provincia de Buenos Aires",
          "Provincia de Buenos Aires",
          "Catamarca",
          "Provincia de Buenos Aires",
          "Provincia de Buenos Aires",
          "Santa Fe",
          "Otra provincia",
          "Provincia de Buenos Aires",
          "Otra provincia",
          "Provincia de Buenos Aires",
          "Provincia de Buenos Aires",
          "Santa Fe",
          "Provincia de Buenos Aires",
          "Provincia de Buenos Aires",
          "Otra provincia",
          "Santa Fe",
          "La Pampa",
          "Provincia de Buenos Aires",
          "Chubut",
          "Provincia de Buenos Aires",
          "Ciudad Autónoma de Buenos Aires",
          "Provincia de Buenos Aires",
          "Santa Fe",
          "Provincia de Buenos Aires",
          "Provincia de Buenos Aires",
          "Provincia de Buenos Aires",
          "Otra provincia",
          "Otra provincia",
          "Otra provincia",
          "Provincia de Buenos Aires",
          "Provincia de Buenos Aires",
          "Provincia de Buenos Aires",
          "Chubut",
          "Otra provincia",
          "Provincia de Buenos Aires",
          "Otra provincia",
          "Otra provincia",
          "Provincia de Buenos Aires",
          "Santa Fe",
          "Provincia de Buenos Aires",
          "Ciudad Autónoma de Buenos Aires",
          "Otra provincia",
          "Provincia de Buenos Aires",
          "Provincia de Buenos Aires",
          "Provincia de Buenos Aires",
          "Provincia de Buenos Aires",
          "Ciudad Autónoma de Buenos Aires",
          "Catamarca",
          "Otra provincia",
          "Otra provincia",
          "Provincia de Buenos Aires",
          "Provincia de Buenos Aires",
          null,
          "Misiones",
          "Otra provincia",
          "Provincia de Buenos Aires",
          "Otra provincia",
          "Provincia de Buenos Aires",
          "Provincia de Buenos Aires",
          "Chubut",
          "Provincia de Buenos Aires",
          "Mendoza",
          "Otra provincia",
          "Mendoza",
          "Provincia de Buenos Aires",
          "Tierra del Fuego",
          "Provincia de Buenos Aires",
          "Chaco",
          "Provincia de Buenos Aires",
          "Provincia de Buenos Aires",
          "Santa Fe",
          "Provincia de Buenos Aires",
          "Provincia de Buenos Aires",
          "Otra provincia",
          "Provincia de Buenos Aires",
          "Otra provincia",
          "Provincia de Buenos Aires",
          "Provincia de Buenos Aires",
          "San Luis",
          "Provincia de Buenos Aires",
          "Santa Fe",
          "Provincia de Buenos Aires",
          "Provincia de Buenos Aires",
          "Provincia de Buenos Aires",
          "Provincia de Buenos Aires",
          "Provincia de Buenos Aires",
          "Ciudad Autónoma de Buenos Aires",
          "Provincia de Buenos Aires",
          "Otra provincia",
          "Ciudad Autónoma de Buenos Aires",
          "Otra provincia",
          "Provincia de Buenos Aires",
          "Ciudad Autónoma de Buenos Aires",
          "Misiones",
          "Provincia de Buenos Aires",
          "Mendoza",
          "Santa Fe",
          "Provincia de Buenos Aires",
          "Santa Fe",
          "Otra provincia",
          "Otra provincia",
          "Ciudad Autónoma de Buenos Aires",
          "Otra provincia",
          "Provincia de Buenos Aires",
          "La Pampa",
          "Ciudad Autónoma de Buenos Aires",
          "Ciudad Autónoma de Buenos Aires",
          "Otra provincia",
          "Corrientes",
          "Otra provincia",
          "Santiago del Estero",
          "Provincia de Buenos Aires",
          "Provincia de Buenos Aires",
          "Provincia de Buenos Aires",
          "Ciudad Autónoma de Buenos Aires",
          "Chaco",
          "Salta",
          "Otra provincia",
          "Ciudad Autónoma de Buenos Aires",
          "Santa Fe",
          "Santa Fe",
          "Ciudad Autónoma de Buenos Aires",
          "Santa Fe",
          "Provincia de Buenos Aires",
          "Santa Fe",
          "Provincia de Buenos Aires",
          "Otra provincia",
          "Provincia de Buenos Aires",
          "Provincia de Buenos Aires",
          "Ciudad Autónoma de Buenos Aires",
          "Otra provincia",
          "Provincia de Buenos Aires",
          "Mendoza",
          "Santa Fe",
          "Provincia de Buenos Aires",
          "Provincia de Buenos Aires",
          "Ciudad Autónoma de Buenos Aires",
          "Provincia de Buenos Aires",
          "San Luis",
          "Provincia de Buenos Aires",
          "Ciudad Autónoma de Buenos Aires",
          "Provincia de Buenos Aires",
          "Ciudad Autónoma de Buenos Aires",
          "Otra provincia",
          "Santa Fe",
          "Provincia de Buenos Aires",
          "Provincia de Buenos Aires",
          "Tierra del Fuego",
          "Otra provincia",
          "Provincia de Buenos Aires",
          "Provincia de Buenos Aires",
          "Provincia de Buenos Aires",
          "Provincia de Buenos Aires",
          "Otra provincia",
          "Provincia de Buenos Aires",
          "Ciudad Autónoma de Buenos Aires",
          "Provincia de Buenos Aires",
          "Provincia de Buenos Aires",
          "Provincia de Buenos Aires",
          "Provincia de Buenos Aires",
          "Santa Fe",
          "Provincia de Buenos Aires",
          "Ciudad Autónoma de Buenos Aires",
          "Chubut",
          "Ciudad Autónoma de Buenos Aires",
          "Provincia de Buenos Aires",
          "Otra provincia",
          "Provincia de Buenos Aires",
          "Provincia de Buenos Aires",
          "Provincia de Buenos Aires",
          "Provincia de Buenos Aires",
          "Santa Fe",
          "Santa Fe",
          "Provincia de Buenos Aires",
          "Provincia de Buenos Aires",
          "Otra provincia",
          "Mendoza",
          "Provincia de Buenos Aires",
          "Provincia de Buenos Aires",
          "Otra provincia",
          "Otra provincia",
          "Santa Fe",
          "Provincia de Buenos Aires",
          "Otra provincia",
          "Provincia de Buenos Aires",
          "Provincia de Buenos Aires",
          "Provincia de Buenos Aires",
          "Provincia de Buenos Aires",
          "Otra provincia",
          "Provincia de Buenos Aires",
          "Provincia de Buenos Aires",
          "San Luis",
          "Otra provincia",
          "Provincia de Buenos Aires",
          "Provincia de Buenos Aires",
          "Santa Fe",
          "Provincia de Buenos Aires",
          "Ciudad Autónoma de Buenos Aires",
          "Otra provincia",
          "Ciudad Autónoma de Buenos Aires",
          "Provincia de Buenos Aires",
          "Provincia de Buenos Aires",
          "Otra provincia",
          "Otra provincia",
          "Formosa",
          "Salta",
          "Santiago del Estero",
          "Corrientes",
          "Ciudad Autónoma de Buenos Aires",
          "Ciudad Autónoma de Buenos Aires",
          "Otra provincia",
          "Provincia de Buenos Aires",
          "Ciudad Autónoma de Buenos Aires",
          "Misiones",
          "Chubut",
          "Provincia de Buenos Aires",
          "Provincia de Buenos Aires",
          "Provincia de Buenos Aires",
          "Provincia de Buenos Aires",
          "Provincia de Buenos Aires",
          "Chubut",
          "Provincia de Buenos Aires",
          "Otra provincia",
          "Provincia de Buenos Aires",
          "Provincia de Buenos Aires",
          "Provincia de Buenos Aires",
          "Provincia de Buenos Aires",
          "Provincia de Buenos Aires",
          "Provincia de Buenos Aires",
          "Provincia de Buenos Aires",
          "Provincia de Buenos Aires",
          "Provincia de Buenos Aires",
          "Otra provincia",
          "Chubut",
          "Chaco",
          "Provincia de Buenos Aires",
          "Provincia de Buenos Aires",
          "Otra provincia",
          "Provincia de Buenos Aires",
          "Provincia de Buenos Aires",
          "Santa Fe",
          "Ciudad Autónoma de Buenos Aires",
          "Otra provincia",
          "Santa Fe",
          "Provincia de Buenos Aires",
          "Provincia de Buenos Aires",
          "Provincia de Buenos Aires",
          "Provincia de Buenos Aires",
          "Chubut",
          "Provincia de Buenos Aires",
          "Provincia de Buenos Aires",
          "Provincia de Buenos Aires",
          "Ciudad Autónoma de Buenos Aires",
          "Santa Fe",
          "Provincia de Buenos Aires",
          "Provincia de Buenos Aires",
          "Provincia de Buenos Aires",
          "Provincia de Buenos Aires",
          "Otra provincia",
          "Ciudad Autónoma de Buenos Aires",
          "Provincia de Buenos Aires",
          "Provincia de Buenos Aires",
          "Provincia de Buenos Aires",
          "Provincia de Buenos Aires",
          "Santa Fe",
          "Mendoza",
          "Ciudad Autónoma de Buenos Aires",
          "Jujuy",
          "Ciudad Autónoma de Buenos Aires",
          "Provincia de Buenos Aires",
          "Mendoza",
          "Provincia de Buenos Aires",
          "Provincia de Buenos Aires",
          "Santa Fe",
          "Provincia de Buenos Aires",
          "Mendoza",
          "Santa Fe",
          "Provincia de Buenos Aires",
          "Ciudad Autónoma de Buenos Aires",
          "Provincia de Buenos Aires",
          "Misiones",
          "Corrientes",
          "Provincia de Buenos Aires",
          "Provincia de Buenos Aires",
          "Provincia de Buenos Aires",
          "Santa Fe",
          "Provincia de Buenos Aires",
          "Provincia de Buenos Aires",
          "Provincia de Buenos Aires",
          "Corrientes",
          "Otra provincia",
          "Corrientes",
          "Provincia de Buenos Aires",
          "Provincia de Buenos Aires",
          "Provincia de Buenos Aires",
          "Otra provincia",
          "Chaco",
          "Provincia de Buenos Aires",
          "Provincia de Buenos Aires",
          "Provincia de Buenos Aires",
          "Provincia de Buenos Aires",
          "Provincia de Buenos Aires",
          "Provincia de Buenos Aires",
          "Provincia de Buenos Aires",
          "Otra provincia",
          "Provincia de Buenos Aires",
          "Provincia de Buenos Aires",
          "Provincia de Buenos Aires",
          "Otra provincia",
          "Provincia de Buenos Aires",
          "Santa Fe",
          "Provincia de Buenos Aires",
          "Provincia de Buenos Aires",
          "Chaco",
          "Provincia de Buenos Aires",
          "Otra provincia",
          "Ciudad Autónoma de Buenos Aires",
          "Corrientes",
          "Provincia de Buenos Aires",
          "Provincia de Buenos Aires",
          "Ciudad Autónoma de Buenos Aires",
          "Provincia de Buenos Aires",
          "Provincia de Buenos Aires",
          "Otra provincia",
          "Salta",
          "Otra provincia",
          "Santa Fe",
          "Provincia de Buenos Aires",
          "Provincia de Buenos Aires",
          "Provincia de Buenos Aires",
          "Corrientes",
          "Provincia de Buenos Aires",
          "Otra provincia",
          "Mendoza",
          "Otra provincia",
          "Mendoza",
          "Provincia de Buenos Aires",
          "Otra provincia",
          "Mendoza",
          "Provincia de Buenos Aires",
          "Santa Fe",
          "Provincia de Buenos Aires",
          "Provincia de Buenos Aires",
          "Provincia de Buenos Aires",
          "Provincia de Buenos Aires",
          "Ciudad Autónoma de Buenos Aires",
          "Ciudad Autónoma de Buenos Aires",
          "Chaco",
          "Provincia de Buenos Aires",
          "Provincia de Buenos Aires",
          "Provincia de Buenos Aires",
          "Provincia de Buenos Aires",
          "Provincia de Buenos Aires",
          "Santa Fe",
          "Misiones",
          "Otra provincia",
          "Otra provincia",
          "Provincia de Buenos Aires",
          "Misiones",
          "Otra provincia",
          "Chaco",
          "Otra provincia",
          "Mendoza",
          "Santa Fe",
          "Chaco",
          "Provincia de Buenos Aires",
          "Otra provincia",
          "Provincia de Buenos Aires",
          "Provincia de Buenos Aires",
          "Provincia de Buenos Aires",
          "Provincia de Buenos Aires",
          "Santa Fe",
          "San Luis",
          "Provincia de Buenos Aires",
          "Ciudad Autónoma de Buenos Aires",
          "Provincia de Buenos Aires",
          "Provincia de Buenos Aires",
          "Provincia de Buenos Aires",
          "San Luis",
          "Provincia de Buenos Aires",
          "Otra provincia",
          "Provincia de Buenos Aires",
          "Ciudad Autónoma de Buenos Aires",
          "Provincia de Buenos Aires",
          "Provincia de Buenos Aires",
          "Otra provincia",
          "Provincia de Buenos Aires",
          "La Pampa",
          "Provincia de Buenos Aires",
          "Ciudad Autónoma de Buenos Aires",
          "Provincia de Buenos Aires",
          "Provincia de Buenos Aires",
          "Provincia de Buenos Aires",
          "Provincia de Buenos Aires",
          "Otra provincia",
          "Provincia de Buenos Aires",
          "Otra provincia",
          "Santa Fe",
          "Provincia de Buenos Aires",
          "Provincia de Buenos Aires",
          "Provincia de Buenos Aires",
          "Ciudad Autónoma de Buenos Aires",
          "Otra provincia",
          "Provincia de Buenos Aires",
          "Provincia de Buenos Aires",
          "Otra provincia",
          "Ciudad Autónoma de Buenos Aires",
          "Ciudad Autónoma de Buenos Aires",
          "Provincia de Buenos Aires",
          "Provincia de Buenos Aires",
          "Otra provincia",
          "Chaco",
          "Provincia de Buenos Aires",
          "Provincia de Buenos Aires",
          "Provincia de Buenos Aires",
          "Otra provincia",
          "Provincia de Buenos Aires",
          "Santa Fe",
          "Misiones",
          "Santa Fe",
          "Provincia de Buenos Aires",
          "Provincia de Buenos Aires",
          "Chaco",
          "Provincia de Buenos Aires",
          "Provincia de Buenos Aires",
          "Provincia de Buenos Aires",
          "Otra provincia",
          "Provincia de Buenos Aires",
          "Otra provincia",
          "Otra provincia",
          "Provincia de Buenos Aires",
          "Provincia de Buenos Aires",
          "Ciudad Autónoma de Buenos Aires",
          "Provincia de Buenos Aires",
          "Provincia de Buenos Aires",
          "Provincia de Buenos Aires",
          "Provincia de Buenos Aires",
          "Provincia de Buenos Aires",
          "Provincia de Buenos Aires",
          "Provincia de Buenos Aires",
          "Provincia de Buenos Aires",
          "Provincia de Buenos Aires",
          "Chaco",
          "Santa Fe",
          "Santa Fe",
          "Otra provincia",
          "San Luis",
          "Otra provincia",
          "Provincia de Buenos Aires",
          "Otra provincia",
          "Provincia de Buenos Aires",
          "Santa Fe",
          "Provincia de Buenos Aires",
          "Provincia de Buenos Aires",
          "Provincia de Buenos Aires",
          "Provincia de Buenos Aires",
          "Provincia de Buenos Aires",
          "Provincia de Buenos Aires",
          "Provincia de Buenos Aires",
          "Provincia de Buenos Aires",
          "Provincia de Buenos Aires",
          "La Pampa",
          "Santa Fe",
          "Provincia de Buenos Aires",
          "Provincia de Buenos Aires",
          "Provincia de Buenos Aires",
          "Provincia de Buenos Aires",
          "Otra provincia",
          "Santa Fe",
          "Ciudad Autónoma de Buenos Aires",
          "Provincia de Buenos Aires",
          "Provincia de Buenos Aires",
          "Provincia de Buenos Aires",
          "San Juan",
          "Mendoza",
          "Santa Fe",
          "Provincia de Buenos Aires",
          "Otra provincia",
          "La Pampa",
          "Ciudad Autónoma de Buenos Aires",
          "Provincia de Buenos Aires",
          "San Luis",
          "Provincia de Buenos Aires",
          "Provincia de Buenos Aires",
          "Mendoza",
          "Provincia de Buenos Aires",
          "Otra provincia",
          "Santa Fe",
          "Provincia de Buenos Aires",
          "Ciudad Autónoma de Buenos Aires",
          "Provincia de Buenos Aires",
          "Provincia de Buenos Aires",
          "Ciudad Autónoma de Buenos Aires",
          "Provincia de Buenos Aires",
          "Provincia de Buenos Aires",
          "La Rioja",
          "Provincia de Buenos Aires",
          "Provincia de Buenos Aires",
          "Provincia de Buenos Aires",
          "Provincia de Buenos Aires",
          "Provincia de Buenos Aires",
          "La Pampa",
          "Provincia de Buenos Aires",
          "Provincia de Buenos Aires",
          "Provincia de Buenos Aires",
          "Provincia de Buenos Aires",
          "Provincia de Buenos Aires",
          "Provincia de Buenos Aires",
          "Santa Fe",
          "Provincia de Buenos Aires",
          "Santa Fe",
          "Provincia de Buenos Aires",
          "Provincia de Buenos Aires",
          "Provincia de Buenos Aires",
          "Tierra del Fuego",
          "Otra provincia",
          "Provincia de Buenos Aires",
          "Provincia de Buenos Aires",
          "Santa Fe",
          "Otra provincia",
          "Provincia de Buenos Aires",
          "Provincia de Buenos Aires",
          "Provincia de Buenos Aires",
          "Ciudad Autónoma de Buenos Aires",
          "Otra provincia",
          "La Pampa",
          "San Luis",
          "Provincia de Buenos Aires",
          "Provincia de Buenos Aires",
          "Provincia de Buenos Aires",
          "Provincia de Buenos Aires",
          "Otra provincia",
          "Provincia de Buenos Aires",
          "Provincia de Buenos Aires",
          "Otra provincia",
          "Mendoza",
          "Provincia de Buenos Aires",
          "Provincia de Buenos Aires",
          "Ciudad Autónoma de Buenos Aires",
          "Santa Fe",
          "Santa Fe",
          "Provincia de Buenos Aires",
          "Provincia de Buenos Aires",
          "Santa Fe",
          "Provincia de Buenos Aires",
          "Ciudad Autónoma de Buenos Aires",
          "Otra provincia",
          "Santa Fe",
          "Provincia de Buenos Aires",
          "Ciudad Autónoma de Buenos Aires",
          "Tierra del Fuego",
          "Ciudad Autónoma de Buenos Aires",
          "Santa Fe",
          "Provincia de Buenos Aires",
          "Ciudad Autónoma de Buenos Aires",
          "Provincia de Buenos Aires",
          "Provincia de Buenos Aires",
          "Provincia de Buenos Aires",
          "Provincia de Buenos Aires",
          "Santa Fe",
          "Provincia de Buenos Aires",
          "Ciudad Autónoma de Buenos Aires",
          "Ciudad Autónoma de Buenos Aires",
          "Santa Fe",
          "Ciudad Autónoma de Buenos Aires",
          "Ciudad Autónoma de Buenos Aires",
          "Mendoza",
          "Salta",
          "Otra provincia",
          "Ciudad Autónoma de Buenos Aires",
          "Ciudad Autónoma de Buenos Aires",
          "Provincia de Buenos Aires",
          "Otra provincia",
          "Provincia de Buenos Aires",
          "Otra provincia",
          "Otra provincia",
          "Santa Fe",
          "Provincia de Buenos Aires",
          "Otra provincia",
          "Otra provincia",
          "Provincia de Buenos Aires",
          "Otra provincia",
          "Provincia de Buenos Aires",
          "Provincia de Buenos Aires",
          "Provincia de Buenos Aires",
          "Provincia de Buenos Aires",
          "Provincia de Buenos Aires",
          "Provincia de Buenos Aires",
          "Mendoza",
          "Provincia de Buenos Aires",
          "Santa Fe",
          "Otra provincia",
          "Otra provincia",
          "Ciudad Autónoma de Buenos Aires",
          "Provincia de Buenos Aires",
          "Otra provincia",
          "Santa Fe",
          "Provincia de Buenos Aires",
          "Ciudad Autónoma de Buenos Aires",
          "Misiones",
          "Provincia de Buenos Aires",
          "Provincia de Buenos Aires",
          "Provincia de Buenos Aires",
          "Provincia de Buenos Aires",
          "Provincia de Buenos Aires",
          "Provincia de Buenos Aires",
          "Santa Fe",
          "Otra provincia",
          "Otra provincia",
          "Tierra del Fuego",
          "Misiones",
          "Provincia de Buenos Aires",
          "Provincia de Buenos Aires",
          "Provincia de Buenos Aires",
          "Provincia de Buenos Aires",
          "Provincia de Buenos Aires",
          "Provincia de Buenos Aires",
          "Ciudad Autónoma de Buenos Aires",
          "Otra provincia",
          "Provincia de Buenos Aires",
          "Ciudad Autónoma de Buenos Aires",
          "Otra provincia",
          "Provincia de Buenos Aires",
          "Provincia de Buenos Aires",
          "Otra provincia",
          "Chaco",
          "Otra provincia",
          "Provincia de Buenos Aires",
          "Santa Fe",
          "Provincia de Buenos Aires",
          "Provincia de Buenos Aires",
          "Provincia de Buenos Aires",
          "Ciudad Autónoma de Buenos Aires",
          "Provincia de Buenos Aires",
          "Otra provincia",
          "Provincia de Buenos Aires",
          "Provincia de Buenos Aires",
          "Provincia de Buenos Aires",
          "Provincia de Buenos Aires",
          "Provincia de Buenos Aires",
          "Provincia de Buenos Aires",
          "Misiones",
          "Ciudad Autónoma de Buenos Aires",
          "Otra provincia",
          "Provincia de Buenos Aires",
          "Provincia de Buenos Aires",
          "Chubut",
          "Ciudad Autónoma de Buenos Aires",
          "Otra provincia",
          "Santa Fe",
          "Provincia de Buenos Aires",
          "Tierra del Fuego",
          "Ciudad Autónoma de Buenos Aires",
          "Otra provincia",
          "Santa Fe",
          "Santa Fe",
          "Provincia de Buenos Aires",
          "Provincia de Buenos Aires",
          "Provincia de Buenos Aires",
          "Chubut",
          "Provincia de Buenos Aires",
          "Provincia de Buenos Aires",
          "Otra provincia",
          "Provincia de Buenos Aires",
          "Provincia de Buenos Aires",
          "Mendoza",
          "Otra provincia",
          "Ciudad Autónoma de Buenos Aires",
          "Jujuy",
          "Jujuy",
          "Otra provincia",
          "Otra provincia",
          "Provincia de Buenos Aires",
          "Provincia de Buenos Aires",
          "Provincia de Buenos Aires",
          "Provincia de Buenos Aires",
          "San Juan",
          "Provincia de Buenos Aires",
          "Corrientes",
          "Mendoza",
          "Provincia de Buenos Aires",
          "Otra provincia",
          "Santa Fe",
          "Provincia de Buenos Aires",
          "Ciudad Autónoma de Buenos Aires",
          "Provincia de Buenos Aires",
          "Ciudad Autónoma de Buenos Aires",
          "Provincia de Buenos Aires",
          "Otra provincia",
          "Ciudad Autónoma de Buenos Aires",
          "Provincia de Buenos Aires",
          "Provincia de Buenos Aires",
          "Otra provincia",
          "Chaco",
          "Provincia de Buenos Aires",
          "Provincia de Buenos Aires",
          "Otra provincia",
          "Ciudad Autónoma de Buenos Aires",
          "Otra provincia",
          "Mendoza",
          "Provincia de Buenos Aires",
          "Mendoza",
          "Otra provincia",
          "Provincia de Buenos Aires",
          "Ciudad Autónoma de Buenos Aires",
          "Otra provincia",
          "Provincia de Buenos Aires",
          "Provincia de Buenos Aires",
          "Provincia de Buenos Aires",
          "Chubut",
          "Otra provincia",
          "Provincia de Buenos Aires",
          "Santiago del Estero",
          "Provincia de Buenos Aires",
          "Mendoza",
          "Otra provincia",
          "Chaco",
          "Provincia de Buenos Aires",
          "La Pampa",
          "La Pampa",
          "Provincia de Buenos Aires",
          "Otra provincia",
          "Provincia de Buenos Aires",
          "Provincia de Buenos Aires",
          "Provincia de Buenos Aires",
          "Provincia de Buenos Aires",
          "Provincia de Buenos Aires",
          "Otra provincia",
          "Provincia de Buenos Aires",
          "San Juan",
          "Otra provincia",
          "Provincia de Buenos Aires",
          "Otra provincia",
          "Provincia de Buenos Aires",
          "Provincia de Buenos Aires",
          "Provincia de Buenos Aires",
          "Provincia de Buenos Aires",
          "Otra provincia",
          "Jujuy",
          "Provincia de Buenos Aires",
          "Otra provincia",
          "Ciudad Autónoma de Buenos Aires",
          "Provincia de Buenos Aires",
          "Provincia de Buenos Aires",
          "Misiones",
          "Otra provincia",
          "Otra provincia",
          "Santiago del Estero",
          "Ciudad Autónoma de Buenos Aires",
          "Mendoza",
          "Otra provincia",
          "Provincia de Buenos Aires",
          "Provincia de Buenos Aires",
          "Provincia de Buenos Aires",
          "Provincia de Buenos Aires",
          "Corrientes",
          "Otra provincia",
          "Ciudad Autónoma de Buenos Aires",
          "Provincia de Buenos Aires",
          "Otra provincia",
          "Mendoza",
          "Ciudad Autónoma de Buenos Aires",
          "Provincia de Buenos Aires",
          "Provincia de Buenos Aires",
          "Provincia de Buenos Aires",
          "Provincia de Buenos Aires",
          "Otra provincia",
          "Otra provincia",
          "Ciudad Autónoma de Buenos Aires",
          "Provincia de Buenos Aires",
          "Provincia de Buenos Aires",
          "Corrientes",
          "San Juan",
          "Ciudad Autónoma de Buenos Aires",
          "Otra provincia",
          "Provincia de Buenos Aires",
          "Santa Fe",
          "Santa Fe",
          "Provincia de Buenos Aires",
          "Provincia de Buenos Aires",
          "Provincia de Buenos Aires",
          "Otra provincia",
          "Santa Fe",
          "Provincia de Buenos Aires",
          "Ciudad Autónoma de Buenos Aires",
          "Provincia de Buenos Aires",
          "Provincia de Buenos Aires",
          "Provincia de Buenos Aires",
          "Santa Fe",
          "Otra provincia",
          "Provincia de Buenos Aires",
          "Provincia de Buenos Aires",
          "Otra provincia",
          "Provincia de Buenos Aires",
          "Provincia de Buenos Aires",
          "Chaco",
          "Otra provincia",
          "Provincia de Buenos Aires",
          "Provincia de Buenos Aires",
          "Mendoza",
          "Provincia de Buenos Aires",
          "La Pampa",
          "Provincia de Buenos Aires",
          "Provincia de Buenos Aires",
          "Otra provincia",
          "Otra provincia",
          "Provincia de Buenos Aires",
          "Provincia de Buenos Aires",
          "Salta",
          "Provincia de Buenos Aires",
          "Otra provincia",
          "Santa Fe",
          "Santa Fe",
          "Otra provincia",
          "Provincia de Buenos Aires",
          "Otra provincia",
          "Otra provincia",
          "Santa Fe",
          "Otra provincia",
          "La Pampa",
          "Otra provincia",
          "Provincia de Buenos Aires",
          "Provincia de Buenos Aires",
          "Ciudad Autónoma de Buenos Aires",
          "Provincia de Buenos Aires",
          "Otra provincia",
          "Chaco",
          "Provincia de Buenos Aires",
          "Jujuy",
          "Provincia de Buenos Aires",
          "Chaco",
          "Otra provincia",
          "Provincia de Buenos Aires",
          "Formosa",
          "Provincia de Buenos Aires",
          "Corrientes",
          "Corrientes",
          "Provincia de Buenos Aires",
          "Provincia de Buenos Aires",
          "Provincia de Buenos Aires",
          "Otra provincia",
          "Provincia de Buenos Aires",
          "Provincia de Buenos Aires",
          "Provincia de Buenos Aires",
          "Provincia de Buenos Aires",
          "Provincia de Buenos Aires",
          "Santiago del Estero",
          "Ciudad Autónoma de Buenos Aires",
          "Provincia de Buenos Aires",
          "Otra provincia",
          "Provincia de Buenos Aires",
          "Otra provincia",
          "Provincia de Buenos Aires",
          "Jujuy",
          "Provincia de Buenos Aires",
          "Provincia de Buenos Aires",
          "Provincia de Buenos Aires",
          "Provincia de Buenos Aires",
          "Ciudad Autónoma de Buenos Aires",
          "Ciudad Autónoma de Buenos Aires",
          "Santa Fe",
          "Provincia de Buenos Aires",
          "Provincia de Buenos Aires",
          "Provincia de Buenos Aires",
          "Otra provincia"
         ],
         "xaxis": "x",
         "yaxis": "y"
        }
       ],
       "layout": {
        "barmode": "relative",
        "height": 600,
        "legend": {
         "tracegroupgap": 0
        },
        "template": {
         "data": {
          "bar": [
           {
            "error_x": {
             "color": "#2a3f5f"
            },
            "error_y": {
             "color": "#2a3f5f"
            },
            "marker": {
             "line": {
              "color": "#E5ECF6",
              "width": 0.5
             }
            },
            "type": "bar"
           }
          ],
          "barpolar": [
           {
            "marker": {
             "line": {
              "color": "#E5ECF6",
              "width": 0.5
             }
            },
            "type": "barpolar"
           }
          ],
          "carpet": [
           {
            "aaxis": {
             "endlinecolor": "#2a3f5f",
             "gridcolor": "white",
             "linecolor": "white",
             "minorgridcolor": "white",
             "startlinecolor": "#2a3f5f"
            },
            "baxis": {
             "endlinecolor": "#2a3f5f",
             "gridcolor": "white",
             "linecolor": "white",
             "minorgridcolor": "white",
             "startlinecolor": "#2a3f5f"
            },
            "type": "carpet"
           }
          ],
          "choropleth": [
           {
            "colorbar": {
             "outlinewidth": 0,
             "ticks": ""
            },
            "type": "choropleth"
           }
          ],
          "contour": [
           {
            "colorbar": {
             "outlinewidth": 0,
             "ticks": ""
            },
            "colorscale": [
             [
              0,
              "#0d0887"
             ],
             [
              0.1111111111111111,
              "#46039f"
             ],
             [
              0.2222222222222222,
              "#7201a8"
             ],
             [
              0.3333333333333333,
              "#9c179e"
             ],
             [
              0.4444444444444444,
              "#bd3786"
             ],
             [
              0.5555555555555556,
              "#d8576b"
             ],
             [
              0.6666666666666666,
              "#ed7953"
             ],
             [
              0.7777777777777778,
              "#fb9f3a"
             ],
             [
              0.8888888888888888,
              "#fdca26"
             ],
             [
              1,
              "#f0f921"
             ]
            ],
            "type": "contour"
           }
          ],
          "contourcarpet": [
           {
            "colorbar": {
             "outlinewidth": 0,
             "ticks": ""
            },
            "type": "contourcarpet"
           }
          ],
          "heatmap": [
           {
            "colorbar": {
             "outlinewidth": 0,
             "ticks": ""
            },
            "colorscale": [
             [
              0,
              "#0d0887"
             ],
             [
              0.1111111111111111,
              "#46039f"
             ],
             [
              0.2222222222222222,
              "#7201a8"
             ],
             [
              0.3333333333333333,
              "#9c179e"
             ],
             [
              0.4444444444444444,
              "#bd3786"
             ],
             [
              0.5555555555555556,
              "#d8576b"
             ],
             [
              0.6666666666666666,
              "#ed7953"
             ],
             [
              0.7777777777777778,
              "#fb9f3a"
             ],
             [
              0.8888888888888888,
              "#fdca26"
             ],
             [
              1,
              "#f0f921"
             ]
            ],
            "type": "heatmap"
           }
          ],
          "heatmapgl": [
           {
            "colorbar": {
             "outlinewidth": 0,
             "ticks": ""
            },
            "colorscale": [
             [
              0,
              "#0d0887"
             ],
             [
              0.1111111111111111,
              "#46039f"
             ],
             [
              0.2222222222222222,
              "#7201a8"
             ],
             [
              0.3333333333333333,
              "#9c179e"
             ],
             [
              0.4444444444444444,
              "#bd3786"
             ],
             [
              0.5555555555555556,
              "#d8576b"
             ],
             [
              0.6666666666666666,
              "#ed7953"
             ],
             [
              0.7777777777777778,
              "#fb9f3a"
             ],
             [
              0.8888888888888888,
              "#fdca26"
             ],
             [
              1,
              "#f0f921"
             ]
            ],
            "type": "heatmapgl"
           }
          ],
          "histogram": [
           {
            "marker": {
             "colorbar": {
              "outlinewidth": 0,
              "ticks": ""
             }
            },
            "type": "histogram"
           }
          ],
          "histogram2d": [
           {
            "colorbar": {
             "outlinewidth": 0,
             "ticks": ""
            },
            "colorscale": [
             [
              0,
              "#0d0887"
             ],
             [
              0.1111111111111111,
              "#46039f"
             ],
             [
              0.2222222222222222,
              "#7201a8"
             ],
             [
              0.3333333333333333,
              "#9c179e"
             ],
             [
              0.4444444444444444,
              "#bd3786"
             ],
             [
              0.5555555555555556,
              "#d8576b"
             ],
             [
              0.6666666666666666,
              "#ed7953"
             ],
             [
              0.7777777777777778,
              "#fb9f3a"
             ],
             [
              0.8888888888888888,
              "#fdca26"
             ],
             [
              1,
              "#f0f921"
             ]
            ],
            "type": "histogram2d"
           }
          ],
          "histogram2dcontour": [
           {
            "colorbar": {
             "outlinewidth": 0,
             "ticks": ""
            },
            "colorscale": [
             [
              0,
              "#0d0887"
             ],
             [
              0.1111111111111111,
              "#46039f"
             ],
             [
              0.2222222222222222,
              "#7201a8"
             ],
             [
              0.3333333333333333,
              "#9c179e"
             ],
             [
              0.4444444444444444,
              "#bd3786"
             ],
             [
              0.5555555555555556,
              "#d8576b"
             ],
             [
              0.6666666666666666,
              "#ed7953"
             ],
             [
              0.7777777777777778,
              "#fb9f3a"
             ],
             [
              0.8888888888888888,
              "#fdca26"
             ],
             [
              1,
              "#f0f921"
             ]
            ],
            "type": "histogram2dcontour"
           }
          ],
          "mesh3d": [
           {
            "colorbar": {
             "outlinewidth": 0,
             "ticks": ""
            },
            "type": "mesh3d"
           }
          ],
          "parcoords": [
           {
            "line": {
             "colorbar": {
              "outlinewidth": 0,
              "ticks": ""
             }
            },
            "type": "parcoords"
           }
          ],
          "pie": [
           {
            "automargin": true,
            "type": "pie"
           }
          ],
          "scatter": [
           {
            "marker": {
             "colorbar": {
              "outlinewidth": 0,
              "ticks": ""
             }
            },
            "type": "scatter"
           }
          ],
          "scatter3d": [
           {
            "line": {
             "colorbar": {
              "outlinewidth": 0,
              "ticks": ""
             }
            },
            "marker": {
             "colorbar": {
              "outlinewidth": 0,
              "ticks": ""
             }
            },
            "type": "scatter3d"
           }
          ],
          "scattercarpet": [
           {
            "marker": {
             "colorbar": {
              "outlinewidth": 0,
              "ticks": ""
             }
            },
            "type": "scattercarpet"
           }
          ],
          "scattergeo": [
           {
            "marker": {
             "colorbar": {
              "outlinewidth": 0,
              "ticks": ""
             }
            },
            "type": "scattergeo"
           }
          ],
          "scattergl": [
           {
            "marker": {
             "colorbar": {
              "outlinewidth": 0,
              "ticks": ""
             }
            },
            "type": "scattergl"
           }
          ],
          "scattermapbox": [
           {
            "marker": {
             "colorbar": {
              "outlinewidth": 0,
              "ticks": ""
             }
            },
            "type": "scattermapbox"
           }
          ],
          "scatterpolar": [
           {
            "marker": {
             "colorbar": {
              "outlinewidth": 0,
              "ticks": ""
             }
            },
            "type": "scatterpolar"
           }
          ],
          "scatterpolargl": [
           {
            "marker": {
             "colorbar": {
              "outlinewidth": 0,
              "ticks": ""
             }
            },
            "type": "scatterpolargl"
           }
          ],
          "scatterternary": [
           {
            "marker": {
             "colorbar": {
              "outlinewidth": 0,
              "ticks": ""
             }
            },
            "type": "scatterternary"
           }
          ],
          "surface": [
           {
            "colorbar": {
             "outlinewidth": 0,
             "ticks": ""
            },
            "colorscale": [
             [
              0,
              "#0d0887"
             ],
             [
              0.1111111111111111,
              "#46039f"
             ],
             [
              0.2222222222222222,
              "#7201a8"
             ],
             [
              0.3333333333333333,
              "#9c179e"
             ],
             [
              0.4444444444444444,
              "#bd3786"
             ],
             [
              0.5555555555555556,
              "#d8576b"
             ],
             [
              0.6666666666666666,
              "#ed7953"
             ],
             [
              0.7777777777777778,
              "#fb9f3a"
             ],
             [
              0.8888888888888888,
              "#fdca26"
             ],
             [
              1,
              "#f0f921"
             ]
            ],
            "type": "surface"
           }
          ],
          "table": [
           {
            "cells": {
             "fill": {
              "color": "#EBF0F8"
             },
             "line": {
              "color": "white"
             }
            },
            "header": {
             "fill": {
              "color": "#C8D4E3"
             },
             "line": {
              "color": "white"
             }
            },
            "type": "table"
           }
          ]
         },
         "layout": {
          "annotationdefaults": {
           "arrowcolor": "#2a3f5f",
           "arrowhead": 0,
           "arrowwidth": 1
          },
          "coloraxis": {
           "colorbar": {
            "outlinewidth": 0,
            "ticks": ""
           }
          },
          "colorscale": {
           "diverging": [
            [
             0,
             "#8e0152"
            ],
            [
             0.1,
             "#c51b7d"
            ],
            [
             0.2,
             "#de77ae"
            ],
            [
             0.3,
             "#f1b6da"
            ],
            [
             0.4,
             "#fde0ef"
            ],
            [
             0.5,
             "#f7f7f7"
            ],
            [
             0.6,
             "#e6f5d0"
            ],
            [
             0.7,
             "#b8e186"
            ],
            [
             0.8,
             "#7fbc41"
            ],
            [
             0.9,
             "#4d9221"
            ],
            [
             1,
             "#276419"
            ]
           ],
           "sequential": [
            [
             0,
             "#0d0887"
            ],
            [
             0.1111111111111111,
             "#46039f"
            ],
            [
             0.2222222222222222,
             "#7201a8"
            ],
            [
             0.3333333333333333,
             "#9c179e"
            ],
            [
             0.4444444444444444,
             "#bd3786"
            ],
            [
             0.5555555555555556,
             "#d8576b"
            ],
            [
             0.6666666666666666,
             "#ed7953"
            ],
            [
             0.7777777777777778,
             "#fb9f3a"
            ],
            [
             0.8888888888888888,
             "#fdca26"
            ],
            [
             1,
             "#f0f921"
            ]
           ],
           "sequentialminus": [
            [
             0,
             "#0d0887"
            ],
            [
             0.1111111111111111,
             "#46039f"
            ],
            [
             0.2222222222222222,
             "#7201a8"
            ],
            [
             0.3333333333333333,
             "#9c179e"
            ],
            [
             0.4444444444444444,
             "#bd3786"
            ],
            [
             0.5555555555555556,
             "#d8576b"
            ],
            [
             0.6666666666666666,
             "#ed7953"
            ],
            [
             0.7777777777777778,
             "#fb9f3a"
            ],
            [
             0.8888888888888888,
             "#fdca26"
            ],
            [
             1,
             "#f0f921"
            ]
           ]
          },
          "colorway": [
           "#636efa",
           "#EF553B",
           "#00cc96",
           "#ab63fa",
           "#FFA15A",
           "#19d3f3",
           "#FF6692",
           "#B6E880",
           "#FF97FF",
           "#FECB52"
          ],
          "font": {
           "color": "#2a3f5f"
          },
          "geo": {
           "bgcolor": "white",
           "lakecolor": "white",
           "landcolor": "#E5ECF6",
           "showlakes": true,
           "showland": true,
           "subunitcolor": "white"
          },
          "hoverlabel": {
           "align": "left"
          },
          "hovermode": "closest",
          "mapbox": {
           "style": "light"
          },
          "paper_bgcolor": "white",
          "plot_bgcolor": "#E5ECF6",
          "polar": {
           "angularaxis": {
            "gridcolor": "white",
            "linecolor": "white",
            "ticks": ""
           },
           "bgcolor": "#E5ECF6",
           "radialaxis": {
            "gridcolor": "white",
            "linecolor": "white",
            "ticks": ""
           }
          },
          "scene": {
           "xaxis": {
            "backgroundcolor": "#E5ECF6",
            "gridcolor": "white",
            "gridwidth": 2,
            "linecolor": "white",
            "showbackground": true,
            "ticks": "",
            "zerolinecolor": "white"
           },
           "yaxis": {
            "backgroundcolor": "#E5ECF6",
            "gridcolor": "white",
            "gridwidth": 2,
            "linecolor": "white",
            "showbackground": true,
            "ticks": "",
            "zerolinecolor": "white"
           },
           "zaxis": {
            "backgroundcolor": "#E5ECF6",
            "gridcolor": "white",
            "gridwidth": 2,
            "linecolor": "white",
            "showbackground": true,
            "ticks": "",
            "zerolinecolor": "white"
           }
          },
          "shapedefaults": {
           "line": {
            "color": "#2a3f5f"
           }
          },
          "ternary": {
           "aaxis": {
            "gridcolor": "white",
            "linecolor": "white",
            "ticks": ""
           },
           "baxis": {
            "gridcolor": "white",
            "linecolor": "white",
            "ticks": ""
           },
           "bgcolor": "#E5ECF6",
           "caxis": {
            "gridcolor": "white",
            "linecolor": "white",
            "ticks": ""
           }
          },
          "title": {
           "x": 0.05
          },
          "xaxis": {
           "automargin": true,
           "gridcolor": "white",
           "linecolor": "white",
           "ticks": "",
           "title": {
            "standoff": 15
           },
           "zerolinecolor": "white",
           "zerolinewidth": 2
          },
          "yaxis": {
           "automargin": true,
           "gridcolor": "white",
           "linecolor": "white",
           "ticks": "",
           "title": {
            "standoff": 15
           },
           "zerolinecolor": "white",
           "zerolinewidth": 2
          }
         }
        },
        "title": {
         "text": "Distribución de los encuestados según provincia"
        },
        "xaxis": {
         "anchor": "y",
         "categoryorder": "total descending",
         "domain": [
          0,
          1
         ],
         "title": {
          "text": "Provincia"
         }
        },
        "yaxis": {
         "anchor": "x",
         "domain": [
          0,
          1
         ],
         "title": {
          "text": " "
         }
        }
       }
      },
      "text/html": [
       "<div>\n",
       "        \n",
       "        \n",
       "            <div id=\"25851b94-8897-4f68-a199-a5f1f4989b59\" class=\"plotly-graph-div\" style=\"height:600px; width:100%;\"></div>\n",
       "            <script type=\"text/javascript\">\n",
       "                require([\"plotly\"], function(Plotly) {\n",
       "                    window.PLOTLYENV=window.PLOTLYENV || {};\n",
       "                    \n",
       "                if (document.getElementById(\"25851b94-8897-4f68-a199-a5f1f4989b59\")) {\n",
       "                    Plotly.newPlot(\n",
       "                        '25851b94-8897-4f68-a199-a5f1f4989b59',\n",
       "                        [{\"alignmentgroup\": \"True\", \"bingroup\": \"x\", \"hoverlabel\": {\"namelength\": 0}, \"hovertemplate\": \"Provincia=%{x}<br>count=%{y}\", \"legendgroup\": \"\", \"marker\": {\"color\": \"#636efa\"}, \"name\": \"\", \"offsetgroup\": \"\", \"orientation\": \"v\", \"showlegend\": false, \"type\": \"histogram\", \"x\": [\"San Juan\", \"Provincia de Buenos Aires\", \"Provincia de Buenos Aires\", \"Ciudad Aut\\u00f3noma de Buenos Aires\", \"Provincia de Buenos Aires\", \"Santa Fe\", \"Otra provincia\", \"Provincia de Buenos Aires\", \"Provincia de Buenos Aires\", \"Salta\", \"La Rioja\", \"Santa Fe\", \"Otra provincia\", \"Provincia de Buenos Aires\", \"Corrientes\", \"Provincia de Buenos Aires\", \"Provincia de Buenos Aires\", \"Provincia de Buenos Aires\", \"Otra provincia\", \"Santa Cruz\", \"Provincia de Buenos Aires\", \"Provincia de Buenos Aires\", \"Provincia de Buenos Aires\", \"Provincia de Buenos Aires\", \"Misiones\", \"Otra provincia\", \"Provincia de Buenos Aires\", \"Provincia de Buenos Aires\", \"Provincia de Buenos Aires\", \"Otra provincia\", \"Provincia de Buenos Aires\", \"Provincia de Buenos Aires\", \"Provincia de Buenos Aires\", \"Provincia de Buenos Aires\", \"Provincia de Buenos Aires\", \"Chubut\", \"Provincia de Buenos Aires\", \"Provincia de Buenos Aires\", \"Chaco\", \"Otra provincia\", \"Mendoza\", \"Provincia de Buenos Aires\", \"Provincia de Buenos Aires\", \"Chubut\", \"Provincia de Buenos Aires\", \"Provincia de Buenos Aires\", \"Provincia de Buenos Aires\", \"Provincia de Buenos Aires\", \"San Luis\", \"Provincia de Buenos Aires\", \"Santa Fe\", \"Misiones\", \"Misiones\", \"Provincia de Buenos Aires\", \"Otra provincia\", \"Provincia de Buenos Aires\", \"Provincia de Buenos Aires\", \"La Pampa\", \"Chaco\", \"Provincia de Buenos Aires\", \"La Pampa\", \"Ciudad Aut\\u00f3noma de Buenos Aires\", \"Provincia de Buenos Aires\", \"Provincia de Buenos Aires\", \"Otra provincia\", \"Provincia de Buenos Aires\", \"Otra provincia\", \"Ciudad Aut\\u00f3noma de Buenos Aires\", \"Jujuy\", \"Provincia de Buenos Aires\", \"Provincia de Buenos Aires\", \"Otra provincia\", \"Santa Fe\", \"Otra provincia\", \"Otra provincia\", \"Provincia de Buenos Aires\", \"Provincia de Buenos Aires\", \"Provincia de Buenos Aires\", \"Provincia de Buenos Aires\", \"Provincia de Buenos Aires\", \"Provincia de Buenos Aires\", \"Provincia de Buenos Aires\", \"Otra provincia\", \"Ciudad Aut\\u00f3noma de Buenos Aires\", \"Provincia de Buenos Aires\", \"Provincia de Buenos Aires\", \"Mendoza\", \"Provincia de Buenos Aires\", \"Provincia de Buenos Aires\", \"Provincia de Buenos Aires\", \"Provincia de Buenos Aires\", \"Provincia de Buenos Aires\", \"Provincia de Buenos Aires\", \"Provincia de Buenos Aires\", \"Ciudad Aut\\u00f3noma de Buenos Aires\", \"Provincia de Buenos Aires\", \"Otra provincia\", \"Provincia de Buenos Aires\", \"San Juan\", \"Chubut\", \"Santa Fe\", \"Provincia de Buenos Aires\", \"Otra provincia\", \"Provincia de Buenos Aires\", \"Provincia de Buenos Aires\", \"Misiones\", \"Otra provincia\", \"Provincia de Buenos Aires\", \"Provincia de Buenos Aires\", \"Provincia de Buenos Aires\", \"Provincia de Buenos Aires\", \"Otra provincia\", \"Corrientes\", \"Provincia de Buenos Aires\", \"Provincia de Buenos Aires\", \"Otra provincia\", \"Mendoza\", \"Provincia de Buenos Aires\", \"Provincia de Buenos Aires\", \"Provincia de Buenos Aires\", \"Provincia de Buenos Aires\", \"Mendoza\", \"Otra provincia\", \"Santa Fe\", \"Tierra del Fuego\", \"Chaco\", \"Misiones\", \"La Pampa\", \"Provincia de Buenos Aires\", \"Provincia de Buenos Aires\", \"Provincia de Buenos Aires\", \"Ciudad Aut\\u00f3noma de Buenos Aires\", \"Provincia de Buenos Aires\", \"Salta\", \"Provincia de Buenos Aires\", \"Provincia de Buenos Aires\", \"Provincia de Buenos Aires\", \"Tierra del Fuego\", \"Provincia de Buenos Aires\", \"Provincia de Buenos Aires\", \"Otra provincia\", \"Ciudad Aut\\u00f3noma de Buenos Aires\", \"Provincia de Buenos Aires\", \"Santa Fe\", \"Provincia de Buenos Aires\", \"Provincia de Buenos Aires\", \"Provincia de Buenos Aires\", \"Provincia de Buenos Aires\", \"Otra provincia\", \"Chaco\", \"Otra provincia\", \"Ciudad Aut\\u00f3noma de Buenos Aires\", \"Provincia de Buenos Aires\", \"Ciudad Aut\\u00f3noma de Buenos Aires\", \"Provincia de Buenos Aires\", \"Otra provincia\", \"Ciudad Aut\\u00f3noma de Buenos Aires\", \"Provincia de Buenos Aires\", \"Provincia de Buenos Aires\", \"Formosa\", \"Mendoza\", \"Santa Fe\", \"Provincia de Buenos Aires\", \"Ciudad Aut\\u00f3noma de Buenos Aires\", \"Provincia de Buenos Aires\", \"Otra provincia\", \"Provincia de Buenos Aires\", \"San Luis\", \"Ciudad Aut\\u00f3noma de Buenos Aires\", \"Ciudad Aut\\u00f3noma de Buenos Aires\", \"Otra provincia\", \"Formosa\", \"Ciudad Aut\\u00f3noma de Buenos Aires\", \"Provincia de Buenos Aires\", \"Provincia de Buenos Aires\", \"Tierra del Fuego\", \"Provincia de Buenos Aires\", \"Santa Fe\", \"Corrientes\", \"Provincia de Buenos Aires\", \"Provincia de Buenos Aires\", \"Provincia de Buenos Aires\", \"Ciudad Aut\\u00f3noma de Buenos Aires\", \"Provincia de Buenos Aires\", \"Provincia de Buenos Aires\", \"Provincia de Buenos Aires\", \"Otra provincia\", \"Provincia de Buenos Aires\", \"Provincia de Buenos Aires\", \"Ciudad Aut\\u00f3noma de Buenos Aires\", \"Provincia de Buenos Aires\", \"Otra provincia\", \"Otra provincia\", \"Otra provincia\", null, \"Misiones\", \"Provincia de Buenos Aires\", \"Provincia de Buenos Aires\", \"Provincia de Buenos Aires\", \"Provincia de Buenos Aires\", \"Provincia de Buenos Aires\", \"Provincia de Buenos Aires\", \"Provincia de Buenos Aires\", \"Misiones\", \"Provincia de Buenos Aires\", \"Provincia de Buenos Aires\", \"Ciudad Aut\\u00f3noma de Buenos Aires\", \"Provincia de Buenos Aires\", \"Provincia de Buenos Aires\", \"Otra provincia\", \"Otra provincia\", \"Provincia de Buenos Aires\", \"Provincia de Buenos Aires\", \"Provincia de Buenos Aires\", \"Otra provincia\", \"Provincia de Buenos Aires\", \"Provincia de Buenos Aires\", \"Otra provincia\", \"Provincia de Buenos Aires\", \"Provincia de Buenos Aires\", \"Provincia de Buenos Aires\", \"Ciudad Aut\\u00f3noma de Buenos Aires\", \"Chubut\", \"Misiones\", \"Provincia de Buenos Aires\", \"Otra provincia\", \"Ciudad Aut\\u00f3noma de Buenos Aires\", \"Provincia de Buenos Aires\", \"Chubut\", \"Provincia de Buenos Aires\", \"Provincia de Buenos Aires\", \"Ciudad Aut\\u00f3noma de Buenos Aires\", \"Chaco\", \"Provincia de Buenos Aires\", \"Otra provincia\", \"Provincia de Buenos Aires\", \"Otra provincia\", \"Provincia de Buenos Aires\", \"Ciudad Aut\\u00f3noma de Buenos Aires\", \"Provincia de Buenos Aires\", \"Salta\", \"Santa Fe\", \"Provincia de Buenos Aires\", \"Provincia de Buenos Aires\", \"Provincia de Buenos Aires\", \"Tierra del Fuego\", \"Provincia de Buenos Aires\", \"Provincia de Buenos Aires\", \"Provincia de Buenos Aires\", \"Provincia de Buenos Aires\", \"Chaco\", \"Provincia de Buenos Aires\", \"Provincia de Buenos Aires\", \"Provincia de Buenos Aires\", \"Ciudad Aut\\u00f3noma de Buenos Aires\", \"Provincia de Buenos Aires\", \"Misiones\", \"Provincia de Buenos Aires\", \"Provincia de Buenos Aires\", \"Ciudad Aut\\u00f3noma de Buenos Aires\", \"Otra provincia\", \"Santa Fe\", \"Provincia de Buenos Aires\", \"Chubut\", \"Provincia de Buenos Aires\", \"Provincia de Buenos Aires\", \"Ciudad Aut\\u00f3noma de Buenos Aires\", \"La Pampa\", \"Provincia de Buenos Aires\", \"Otra provincia\", \"Provincia de Buenos Aires\", \"Otra provincia\", \"Santa Fe\", \"Otra provincia\", \"Provincia de Buenos Aires\", \"Otra provincia\", \"Santa Fe\", \"Provincia de Buenos Aires\", \"Provincia de Buenos Aires\", \"Otra provincia\", \"Mendoza\", \"Ciudad Aut\\u00f3noma de Buenos Aires\", \"Provincia de Buenos Aires\", \"Provincia de Buenos Aires\", \"Otra provincia\", \"Jujuy\", \"Provincia de Buenos Aires\", \"Ciudad Aut\\u00f3noma de Buenos Aires\", \"Provincia de Buenos Aires\", \"Otra provincia\", \"Provincia de Buenos Aires\", \"Chaco\", \"Provincia de Buenos Aires\", \"Otra provincia\", \"Provincia de Buenos Aires\", \"Ciudad Aut\\u00f3noma de Buenos Aires\", \"Ciudad Aut\\u00f3noma de Buenos Aires\", \"Provincia de Buenos Aires\", \"Otra provincia\", \"Ciudad Aut\\u00f3noma de Buenos Aires\", \"Provincia de Buenos Aires\", \"Mendoza\", \"Mendoza\", \"Provincia de Buenos Aires\", \"Santa Fe\", \"Provincia de Buenos Aires\", \"Ciudad Aut\\u00f3noma de Buenos Aires\", \"Santa Fe\", \"Otra provincia\", \"Otra provincia\", \"Otra provincia\", \"Otra provincia\", \"Santa Fe\", \"Provincia de Buenos Aires\", \"Provincia de Buenos Aires\", null, \"Provincia de Buenos Aires\", \"Provincia de Buenos Aires\", \"San Juan\", \"Provincia de Buenos Aires\", \"Ciudad Aut\\u00f3noma de Buenos Aires\", \"Santa Fe\", \"Mendoza\", \"Provincia de Buenos Aires\", \"Provincia de Buenos Aires\", \"Provincia de Buenos Aires\", \"Ciudad Aut\\u00f3noma de Buenos Aires\", \"Provincia de Buenos Aires\", \"Provincia de Buenos Aires\", \"Chubut\", \"Otra provincia\", \"Formosa\", \"Provincia de Buenos Aires\", \"Provincia de Buenos Aires\", \"Santa Fe\", \"Provincia de Buenos Aires\", \"Provincia de Buenos Aires\", \"Jujuy\", \"Provincia de Buenos Aires\", \"Provincia de Buenos Aires\", \"Provincia de Buenos Aires\", \"Catamarca\", \"Provincia de Buenos Aires\", \"Provincia de Buenos Aires\", \"Santa Fe\", \"Otra provincia\", \"Provincia de Buenos Aires\", \"Otra provincia\", \"Provincia de Buenos Aires\", \"Provincia de Buenos Aires\", \"Santa Fe\", \"Provincia de Buenos Aires\", \"Provincia de Buenos Aires\", \"Otra provincia\", \"Santa Fe\", \"La Pampa\", \"Provincia de Buenos Aires\", \"Chubut\", \"Provincia de Buenos Aires\", \"Ciudad Aut\\u00f3noma de Buenos Aires\", \"Provincia de Buenos Aires\", \"Santa Fe\", \"Provincia de Buenos Aires\", \"Provincia de Buenos Aires\", \"Provincia de Buenos Aires\", \"Otra provincia\", \"Otra provincia\", \"Otra provincia\", \"Provincia de Buenos Aires\", \"Provincia de Buenos Aires\", \"Provincia de Buenos Aires\", \"Chubut\", \"Otra provincia\", \"Provincia de Buenos Aires\", \"Otra provincia\", \"Otra provincia\", \"Provincia de Buenos Aires\", \"Santa Fe\", \"Provincia de Buenos Aires\", \"Ciudad Aut\\u00f3noma de Buenos Aires\", \"Otra provincia\", \"Provincia de Buenos Aires\", \"Provincia de Buenos Aires\", \"Provincia de Buenos Aires\", \"Provincia de Buenos Aires\", \"Ciudad Aut\\u00f3noma de Buenos Aires\", \"Catamarca\", \"Otra provincia\", \"Otra provincia\", \"Provincia de Buenos Aires\", \"Provincia de Buenos Aires\", null, \"Misiones\", \"Otra provincia\", \"Provincia de Buenos Aires\", \"Otra provincia\", \"Provincia de Buenos Aires\", \"Provincia de Buenos Aires\", \"Chubut\", \"Provincia de Buenos Aires\", \"Mendoza\", \"Otra provincia\", \"Mendoza\", \"Provincia de Buenos Aires\", \"Tierra del Fuego\", \"Provincia de Buenos Aires\", \"Chaco\", \"Provincia de Buenos Aires\", \"Provincia de Buenos Aires\", \"Santa Fe\", \"Provincia de Buenos Aires\", \"Provincia de Buenos Aires\", \"Otra provincia\", \"Provincia de Buenos Aires\", \"Otra provincia\", \"Provincia de Buenos Aires\", \"Provincia de Buenos Aires\", \"San Luis\", \"Provincia de Buenos Aires\", \"Santa Fe\", \"Provincia de Buenos Aires\", \"Provincia de Buenos Aires\", \"Provincia de Buenos Aires\", \"Provincia de Buenos Aires\", \"Provincia de Buenos Aires\", \"Ciudad Aut\\u00f3noma de Buenos Aires\", \"Provincia de Buenos Aires\", \"Otra provincia\", \"Ciudad Aut\\u00f3noma de Buenos Aires\", \"Otra provincia\", \"Provincia de Buenos Aires\", \"Ciudad Aut\\u00f3noma de Buenos Aires\", \"Misiones\", \"Provincia de Buenos Aires\", \"Mendoza\", \"Santa Fe\", \"Provincia de Buenos Aires\", \"Santa Fe\", \"Otra provincia\", \"Otra provincia\", \"Ciudad Aut\\u00f3noma de Buenos Aires\", \"Otra provincia\", \"Provincia de Buenos Aires\", \"La Pampa\", \"Ciudad Aut\\u00f3noma de Buenos Aires\", \"Ciudad Aut\\u00f3noma de Buenos Aires\", \"Otra provincia\", \"Corrientes\", \"Otra provincia\", \"Santiago del Estero\", \"Provincia de Buenos Aires\", \"Provincia de Buenos Aires\", \"Provincia de Buenos Aires\", \"Ciudad Aut\\u00f3noma de Buenos Aires\", \"Chaco\", \"Salta\", \"Otra provincia\", \"Ciudad Aut\\u00f3noma de Buenos Aires\", \"Santa Fe\", \"Santa Fe\", \"Ciudad Aut\\u00f3noma de Buenos Aires\", \"Santa Fe\", \"Provincia de Buenos Aires\", \"Santa Fe\", \"Provincia de Buenos Aires\", \"Otra provincia\", \"Provincia de Buenos Aires\", \"Provincia de Buenos Aires\", \"Ciudad Aut\\u00f3noma de Buenos Aires\", \"Otra provincia\", \"Provincia de Buenos Aires\", \"Mendoza\", \"Santa Fe\", \"Provincia de Buenos Aires\", \"Provincia de Buenos Aires\", \"Ciudad Aut\\u00f3noma de Buenos Aires\", \"Provincia de Buenos Aires\", \"San Luis\", \"Provincia de Buenos Aires\", \"Ciudad Aut\\u00f3noma de Buenos Aires\", \"Provincia de Buenos Aires\", \"Ciudad Aut\\u00f3noma de Buenos Aires\", \"Otra provincia\", \"Santa Fe\", \"Provincia de Buenos Aires\", \"Provincia de Buenos Aires\", \"Tierra del Fuego\", \"Otra provincia\", \"Provincia de Buenos Aires\", \"Provincia de Buenos Aires\", \"Provincia de Buenos Aires\", \"Provincia de Buenos Aires\", \"Otra provincia\", \"Provincia de Buenos Aires\", \"Ciudad Aut\\u00f3noma de Buenos Aires\", \"Provincia de Buenos Aires\", \"Provincia de Buenos Aires\", \"Provincia de Buenos Aires\", \"Provincia de Buenos Aires\", \"Santa Fe\", \"Provincia de Buenos Aires\", \"Ciudad Aut\\u00f3noma de Buenos Aires\", \"Chubut\", \"Ciudad Aut\\u00f3noma de Buenos Aires\", \"Provincia de Buenos Aires\", \"Otra provincia\", \"Provincia de Buenos Aires\", \"Provincia de Buenos Aires\", \"Provincia de Buenos Aires\", \"Provincia de Buenos Aires\", \"Santa Fe\", \"Santa Fe\", \"Provincia de Buenos Aires\", \"Provincia de Buenos Aires\", \"Otra provincia\", \"Mendoza\", \"Provincia de Buenos Aires\", \"Provincia de Buenos Aires\", \"Otra provincia\", \"Otra provincia\", \"Santa Fe\", \"Provincia de Buenos Aires\", \"Otra provincia\", \"Provincia de Buenos Aires\", \"Provincia de Buenos Aires\", \"Provincia de Buenos Aires\", \"Provincia de Buenos Aires\", \"Otra provincia\", \"Provincia de Buenos Aires\", \"Provincia de Buenos Aires\", \"San Luis\", \"Otra provincia\", \"Provincia de Buenos Aires\", \"Provincia de Buenos Aires\", \"Santa Fe\", \"Provincia de Buenos Aires\", \"Ciudad Aut\\u00f3noma de Buenos Aires\", \"Otra provincia\", \"Ciudad Aut\\u00f3noma de Buenos Aires\", \"Provincia de Buenos Aires\", \"Provincia de Buenos Aires\", \"Otra provincia\", \"Otra provincia\", \"Formosa\", \"Salta\", \"Santiago del Estero\", \"Corrientes\", \"Ciudad Aut\\u00f3noma de Buenos Aires\", \"Ciudad Aut\\u00f3noma de Buenos Aires\", \"Otra provincia\", \"Provincia de Buenos Aires\", \"Ciudad Aut\\u00f3noma de Buenos Aires\", \"Misiones\", \"Chubut\", \"Provincia de Buenos Aires\", \"Provincia de Buenos Aires\", \"Provincia de Buenos Aires\", \"Provincia de Buenos Aires\", \"Provincia de Buenos Aires\", \"Chubut\", \"Provincia de Buenos Aires\", \"Otra provincia\", \"Provincia de Buenos Aires\", \"Provincia de Buenos Aires\", \"Provincia de Buenos Aires\", \"Provincia de Buenos Aires\", \"Provincia de Buenos Aires\", \"Provincia de Buenos Aires\", \"Provincia de Buenos Aires\", \"Provincia de Buenos Aires\", \"Provincia de Buenos Aires\", \"Otra provincia\", \"Chubut\", \"Chaco\", \"Provincia de Buenos Aires\", \"Provincia de Buenos Aires\", \"Otra provincia\", \"Provincia de Buenos Aires\", \"Provincia de Buenos Aires\", \"Santa Fe\", \"Ciudad Aut\\u00f3noma de Buenos Aires\", \"Otra provincia\", \"Santa Fe\", \"Provincia de Buenos Aires\", \"Provincia de Buenos Aires\", \"Provincia de Buenos Aires\", \"Provincia de Buenos Aires\", \"Chubut\", \"Provincia de Buenos Aires\", \"Provincia de Buenos Aires\", \"Provincia de Buenos Aires\", \"Ciudad Aut\\u00f3noma de Buenos Aires\", \"Santa Fe\", \"Provincia de Buenos Aires\", \"Provincia de Buenos Aires\", \"Provincia de Buenos Aires\", \"Provincia de Buenos Aires\", \"Otra provincia\", \"Ciudad Aut\\u00f3noma de Buenos Aires\", \"Provincia de Buenos Aires\", \"Provincia de Buenos Aires\", \"Provincia de Buenos Aires\", \"Provincia de Buenos Aires\", \"Santa Fe\", \"Mendoza\", \"Ciudad Aut\\u00f3noma de Buenos Aires\", \"Jujuy\", \"Ciudad Aut\\u00f3noma de Buenos Aires\", \"Provincia de Buenos Aires\", \"Mendoza\", \"Provincia de Buenos Aires\", \"Provincia de Buenos Aires\", \"Santa Fe\", \"Provincia de Buenos Aires\", \"Mendoza\", \"Santa Fe\", \"Provincia de Buenos Aires\", \"Ciudad Aut\\u00f3noma de Buenos Aires\", \"Provincia de Buenos Aires\", \"Misiones\", \"Corrientes\", \"Provincia de Buenos Aires\", \"Provincia de Buenos Aires\", \"Provincia de Buenos Aires\", \"Santa Fe\", \"Provincia de Buenos Aires\", \"Provincia de Buenos Aires\", \"Provincia de Buenos Aires\", \"Corrientes\", \"Otra provincia\", \"Corrientes\", \"Provincia de Buenos Aires\", \"Provincia de Buenos Aires\", \"Provincia de Buenos Aires\", \"Otra provincia\", \"Chaco\", \"Provincia de Buenos Aires\", \"Provincia de Buenos Aires\", \"Provincia de Buenos Aires\", \"Provincia de Buenos Aires\", \"Provincia de Buenos Aires\", \"Provincia de Buenos Aires\", \"Provincia de Buenos Aires\", \"Otra provincia\", \"Provincia de Buenos Aires\", \"Provincia de Buenos Aires\", \"Provincia de Buenos Aires\", \"Otra provincia\", \"Provincia de Buenos Aires\", \"Santa Fe\", \"Provincia de Buenos Aires\", \"Provincia de Buenos Aires\", \"Chaco\", \"Provincia de Buenos Aires\", \"Otra provincia\", \"Ciudad Aut\\u00f3noma de Buenos Aires\", \"Corrientes\", \"Provincia de Buenos Aires\", \"Provincia de Buenos Aires\", \"Ciudad Aut\\u00f3noma de Buenos Aires\", \"Provincia de Buenos Aires\", \"Provincia de Buenos Aires\", \"Otra provincia\", \"Salta\", \"Otra provincia\", \"Santa Fe\", \"Provincia de Buenos Aires\", \"Provincia de Buenos Aires\", \"Provincia de Buenos Aires\", \"Corrientes\", \"Provincia de Buenos Aires\", \"Otra provincia\", \"Mendoza\", \"Otra provincia\", \"Mendoza\", \"Provincia de Buenos Aires\", \"Otra provincia\", \"Mendoza\", \"Provincia de Buenos Aires\", \"Santa Fe\", \"Provincia de Buenos Aires\", \"Provincia de Buenos Aires\", \"Provincia de Buenos Aires\", \"Provincia de Buenos Aires\", \"Ciudad Aut\\u00f3noma de Buenos Aires\", \"Ciudad Aut\\u00f3noma de Buenos Aires\", \"Chaco\", \"Provincia de Buenos Aires\", \"Provincia de Buenos Aires\", \"Provincia de Buenos Aires\", \"Provincia de Buenos Aires\", \"Provincia de Buenos Aires\", \"Santa Fe\", \"Misiones\", \"Otra provincia\", \"Otra provincia\", \"Provincia de Buenos Aires\", \"Misiones\", \"Otra provincia\", \"Chaco\", \"Otra provincia\", \"Mendoza\", \"Santa Fe\", \"Chaco\", \"Provincia de Buenos Aires\", \"Otra provincia\", \"Provincia de Buenos Aires\", \"Provincia de Buenos Aires\", \"Provincia de Buenos Aires\", \"Provincia de Buenos Aires\", \"Santa Fe\", \"San Luis\", \"Provincia de Buenos Aires\", \"Ciudad Aut\\u00f3noma de Buenos Aires\", \"Provincia de Buenos Aires\", \"Provincia de Buenos Aires\", \"Provincia de Buenos Aires\", \"San Luis\", \"Provincia de Buenos Aires\", \"Otra provincia\", \"Provincia de Buenos Aires\", \"Ciudad Aut\\u00f3noma de Buenos Aires\", \"Provincia de Buenos Aires\", \"Provincia de Buenos Aires\", \"Otra provincia\", \"Provincia de Buenos Aires\", \"La Pampa\", \"Provincia de Buenos Aires\", \"Ciudad Aut\\u00f3noma de Buenos Aires\", \"Provincia de Buenos Aires\", \"Provincia de Buenos Aires\", \"Provincia de Buenos Aires\", \"Provincia de Buenos Aires\", \"Otra provincia\", \"Provincia de Buenos Aires\", \"Otra provincia\", \"Santa Fe\", \"Provincia de Buenos Aires\", \"Provincia de Buenos Aires\", \"Provincia de Buenos Aires\", \"Ciudad Aut\\u00f3noma de Buenos Aires\", \"Otra provincia\", \"Provincia de Buenos Aires\", \"Provincia de Buenos Aires\", \"Otra provincia\", \"Ciudad Aut\\u00f3noma de Buenos Aires\", \"Ciudad Aut\\u00f3noma de Buenos Aires\", \"Provincia de Buenos Aires\", \"Provincia de Buenos Aires\", \"Otra provincia\", \"Chaco\", \"Provincia de Buenos Aires\", \"Provincia de Buenos Aires\", \"Provincia de Buenos Aires\", \"Otra provincia\", \"Provincia de Buenos Aires\", \"Santa Fe\", \"Misiones\", \"Santa Fe\", \"Provincia de Buenos Aires\", \"Provincia de Buenos Aires\", \"Chaco\", \"Provincia de Buenos Aires\", \"Provincia de Buenos Aires\", \"Provincia de Buenos Aires\", \"Otra provincia\", \"Provincia de Buenos Aires\", \"Otra provincia\", \"Otra provincia\", \"Provincia de Buenos Aires\", \"Provincia de Buenos Aires\", \"Ciudad Aut\\u00f3noma de Buenos Aires\", \"Provincia de Buenos Aires\", \"Provincia de Buenos Aires\", \"Provincia de Buenos Aires\", \"Provincia de Buenos Aires\", \"Provincia de Buenos Aires\", \"Provincia de Buenos Aires\", \"Provincia de Buenos Aires\", \"Provincia de Buenos Aires\", \"Provincia de Buenos Aires\", \"Chaco\", \"Santa Fe\", \"Santa Fe\", \"Otra provincia\", \"San Luis\", \"Otra provincia\", \"Provincia de Buenos Aires\", \"Otra provincia\", \"Provincia de Buenos Aires\", \"Santa Fe\", \"Provincia de Buenos Aires\", \"Provincia de Buenos Aires\", \"Provincia de Buenos Aires\", \"Provincia de Buenos Aires\", \"Provincia de Buenos Aires\", \"Provincia de Buenos Aires\", \"Provincia de Buenos Aires\", \"Provincia de Buenos Aires\", \"Provincia de Buenos Aires\", \"La Pampa\", \"Santa Fe\", \"Provincia de Buenos Aires\", \"Provincia de Buenos Aires\", \"Provincia de Buenos Aires\", \"Provincia de Buenos Aires\", \"Otra provincia\", \"Santa Fe\", \"Ciudad Aut\\u00f3noma de Buenos Aires\", \"Provincia de Buenos Aires\", \"Provincia de Buenos Aires\", \"Provincia de Buenos Aires\", \"San Juan\", \"Mendoza\", \"Santa Fe\", \"Provincia de Buenos Aires\", \"Otra provincia\", \"La Pampa\", \"Ciudad Aut\\u00f3noma de Buenos Aires\", \"Provincia de Buenos Aires\", \"San Luis\", \"Provincia de Buenos Aires\", \"Provincia de Buenos Aires\", \"Mendoza\", \"Provincia de Buenos Aires\", \"Otra provincia\", \"Santa Fe\", \"Provincia de Buenos Aires\", \"Ciudad Aut\\u00f3noma de Buenos Aires\", \"Provincia de Buenos Aires\", \"Provincia de Buenos Aires\", \"Ciudad Aut\\u00f3noma de Buenos Aires\", \"Provincia de Buenos Aires\", \"Provincia de Buenos Aires\", \"La Rioja\", \"Provincia de Buenos Aires\", \"Provincia de Buenos Aires\", \"Provincia de Buenos Aires\", \"Provincia de Buenos Aires\", \"Provincia de Buenos Aires\", \"La Pampa\", \"Provincia de Buenos Aires\", \"Provincia de Buenos Aires\", \"Provincia de Buenos Aires\", \"Provincia de Buenos Aires\", \"Provincia de Buenos Aires\", \"Provincia de Buenos Aires\", \"Santa Fe\", \"Provincia de Buenos Aires\", \"Santa Fe\", \"Provincia de Buenos Aires\", \"Provincia de Buenos Aires\", \"Provincia de Buenos Aires\", \"Tierra del Fuego\", \"Otra provincia\", \"Provincia de Buenos Aires\", \"Provincia de Buenos Aires\", \"Santa Fe\", \"Otra provincia\", \"Provincia de Buenos Aires\", \"Provincia de Buenos Aires\", \"Provincia de Buenos Aires\", \"Ciudad Aut\\u00f3noma de Buenos Aires\", \"Otra provincia\", \"La Pampa\", \"San Luis\", \"Provincia de Buenos Aires\", \"Provincia de Buenos Aires\", \"Provincia de Buenos Aires\", \"Provincia de Buenos Aires\", \"Otra provincia\", \"Provincia de Buenos Aires\", \"Provincia de Buenos Aires\", \"Otra provincia\", \"Mendoza\", \"Provincia de Buenos Aires\", \"Provincia de Buenos Aires\", \"Ciudad Aut\\u00f3noma de Buenos Aires\", \"Santa Fe\", \"Santa Fe\", \"Provincia de Buenos Aires\", \"Provincia de Buenos Aires\", \"Santa Fe\", \"Provincia de Buenos Aires\", \"Ciudad Aut\\u00f3noma de Buenos Aires\", \"Otra provincia\", \"Santa Fe\", \"Provincia de Buenos Aires\", \"Ciudad Aut\\u00f3noma de Buenos Aires\", \"Tierra del Fuego\", \"Ciudad Aut\\u00f3noma de Buenos Aires\", \"Santa Fe\", \"Provincia de Buenos Aires\", \"Ciudad Aut\\u00f3noma de Buenos Aires\", \"Provincia de Buenos Aires\", \"Provincia de Buenos Aires\", \"Provincia de Buenos Aires\", \"Provincia de Buenos Aires\", \"Santa Fe\", \"Provincia de Buenos Aires\", \"Ciudad Aut\\u00f3noma de Buenos Aires\", \"Ciudad Aut\\u00f3noma de Buenos Aires\", \"Santa Fe\", \"Ciudad Aut\\u00f3noma de Buenos Aires\", \"Ciudad Aut\\u00f3noma de Buenos Aires\", \"Mendoza\", \"Salta\", \"Otra provincia\", \"Ciudad Aut\\u00f3noma de Buenos Aires\", \"Ciudad Aut\\u00f3noma de Buenos Aires\", \"Provincia de Buenos Aires\", \"Otra provincia\", \"Provincia de Buenos Aires\", \"Otra provincia\", \"Otra provincia\", \"Santa Fe\", \"Provincia de Buenos Aires\", \"Otra provincia\", \"Otra provincia\", \"Provincia de Buenos Aires\", \"Otra provincia\", \"Provincia de Buenos Aires\", \"Provincia de Buenos Aires\", \"Provincia de Buenos Aires\", \"Provincia de Buenos Aires\", \"Provincia de Buenos Aires\", \"Provincia de Buenos Aires\", \"Mendoza\", \"Provincia de Buenos Aires\", \"Santa Fe\", \"Otra provincia\", \"Otra provincia\", \"Ciudad Aut\\u00f3noma de Buenos Aires\", \"Provincia de Buenos Aires\", \"Otra provincia\", \"Santa Fe\", \"Provincia de Buenos Aires\", \"Ciudad Aut\\u00f3noma de Buenos Aires\", \"Misiones\", \"Provincia de Buenos Aires\", \"Provincia de Buenos Aires\", \"Provincia de Buenos Aires\", \"Provincia de Buenos Aires\", \"Provincia de Buenos Aires\", \"Provincia de Buenos Aires\", \"Santa Fe\", \"Otra provincia\", \"Otra provincia\", \"Tierra del Fuego\", \"Misiones\", \"Provincia de Buenos Aires\", \"Provincia de Buenos Aires\", \"Provincia de Buenos Aires\", \"Provincia de Buenos Aires\", \"Provincia de Buenos Aires\", \"Provincia de Buenos Aires\", \"Ciudad Aut\\u00f3noma de Buenos Aires\", \"Otra provincia\", \"Provincia de Buenos Aires\", \"Ciudad Aut\\u00f3noma de Buenos Aires\", \"Otra provincia\", \"Provincia de Buenos Aires\", \"Provincia de Buenos Aires\", \"Otra provincia\", \"Chaco\", \"Otra provincia\", \"Provincia de Buenos Aires\", \"Santa Fe\", \"Provincia de Buenos Aires\", \"Provincia de Buenos Aires\", \"Provincia de Buenos Aires\", \"Ciudad Aut\\u00f3noma de Buenos Aires\", \"Provincia de Buenos Aires\", \"Otra provincia\", \"Provincia de Buenos Aires\", \"Provincia de Buenos Aires\", \"Provincia de Buenos Aires\", \"Provincia de Buenos Aires\", \"Provincia de Buenos Aires\", \"Provincia de Buenos Aires\", \"Misiones\", \"Ciudad Aut\\u00f3noma de Buenos Aires\", \"Otra provincia\", \"Provincia de Buenos Aires\", \"Provincia de Buenos Aires\", \"Chubut\", \"Ciudad Aut\\u00f3noma de Buenos Aires\", \"Otra provincia\", \"Santa Fe\", \"Provincia de Buenos Aires\", \"Tierra del Fuego\", \"Ciudad Aut\\u00f3noma de Buenos Aires\", \"Otra provincia\", \"Santa Fe\", \"Santa Fe\", \"Provincia de Buenos Aires\", \"Provincia de Buenos Aires\", \"Provincia de Buenos Aires\", \"Chubut\", \"Provincia de Buenos Aires\", \"Provincia de Buenos Aires\", \"Otra provincia\", \"Provincia de Buenos Aires\", \"Provincia de Buenos Aires\", \"Mendoza\", \"Otra provincia\", \"Ciudad Aut\\u00f3noma de Buenos Aires\", \"Jujuy\", \"Jujuy\", \"Otra provincia\", \"Otra provincia\", \"Provincia de Buenos Aires\", \"Provincia de Buenos Aires\", \"Provincia de Buenos Aires\", \"Provincia de Buenos Aires\", \"San Juan\", \"Provincia de Buenos Aires\", \"Corrientes\", \"Mendoza\", \"Provincia de Buenos Aires\", \"Otra provincia\", \"Santa Fe\", \"Provincia de Buenos Aires\", \"Ciudad Aut\\u00f3noma de Buenos Aires\", \"Provincia de Buenos Aires\", \"Ciudad Aut\\u00f3noma de Buenos Aires\", \"Provincia de Buenos Aires\", \"Otra provincia\", \"Ciudad Aut\\u00f3noma de Buenos Aires\", \"Provincia de Buenos Aires\", \"Provincia de Buenos Aires\", \"Otra provincia\", \"Chaco\", \"Provincia de Buenos Aires\", \"Provincia de Buenos Aires\", \"Otra provincia\", \"Ciudad Aut\\u00f3noma de Buenos Aires\", \"Otra provincia\", \"Mendoza\", \"Provincia de Buenos Aires\", \"Mendoza\", \"Otra provincia\", \"Provincia de Buenos Aires\", \"Ciudad Aut\\u00f3noma de Buenos Aires\", \"Otra provincia\", \"Provincia de Buenos Aires\", \"Provincia de Buenos Aires\", \"Provincia de Buenos Aires\", \"Chubut\", \"Otra provincia\", \"Provincia de Buenos Aires\", \"Santiago del Estero\", \"Provincia de Buenos Aires\", \"Mendoza\", \"Otra provincia\", \"Chaco\", \"Provincia de Buenos Aires\", \"La Pampa\", \"La Pampa\", \"Provincia de Buenos Aires\", \"Otra provincia\", \"Provincia de Buenos Aires\", \"Provincia de Buenos Aires\", \"Provincia de Buenos Aires\", \"Provincia de Buenos Aires\", \"Provincia de Buenos Aires\", \"Otra provincia\", \"Provincia de Buenos Aires\", \"San Juan\", \"Otra provincia\", \"Provincia de Buenos Aires\", \"Otra provincia\", \"Provincia de Buenos Aires\", \"Provincia de Buenos Aires\", \"Provincia de Buenos Aires\", \"Provincia de Buenos Aires\", \"Otra provincia\", \"Jujuy\", \"Provincia de Buenos Aires\", \"Otra provincia\", \"Ciudad Aut\\u00f3noma de Buenos Aires\", \"Provincia de Buenos Aires\", \"Provincia de Buenos Aires\", \"Misiones\", \"Otra provincia\", \"Otra provincia\", \"Santiago del Estero\", \"Ciudad Aut\\u00f3noma de Buenos Aires\", \"Mendoza\", \"Otra provincia\", \"Provincia de Buenos Aires\", \"Provincia de Buenos Aires\", \"Provincia de Buenos Aires\", \"Provincia de Buenos Aires\", \"Corrientes\", \"Otra provincia\", \"Ciudad Aut\\u00f3noma de Buenos Aires\", \"Provincia de Buenos Aires\", \"Otra provincia\", \"Mendoza\", \"Ciudad Aut\\u00f3noma de Buenos Aires\", \"Provincia de Buenos Aires\", \"Provincia de Buenos Aires\", \"Provincia de Buenos Aires\", \"Provincia de Buenos Aires\", \"Otra provincia\", \"Otra provincia\", \"Ciudad Aut\\u00f3noma de Buenos Aires\", \"Provincia de Buenos Aires\", \"Provincia de Buenos Aires\", \"Corrientes\", \"San Juan\", \"Ciudad Aut\\u00f3noma de Buenos Aires\", \"Otra provincia\", \"Provincia de Buenos Aires\", \"Santa Fe\", \"Santa Fe\", \"Provincia de Buenos Aires\", \"Provincia de Buenos Aires\", \"Provincia de Buenos Aires\", \"Otra provincia\", \"Santa Fe\", \"Provincia de Buenos Aires\", \"Ciudad Aut\\u00f3noma de Buenos Aires\", \"Provincia de Buenos Aires\", \"Provincia de Buenos Aires\", \"Provincia de Buenos Aires\", \"Santa Fe\", \"Otra provincia\", \"Provincia de Buenos Aires\", \"Provincia de Buenos Aires\", \"Otra provincia\", \"Provincia de Buenos Aires\", \"Provincia de Buenos Aires\", \"Chaco\", \"Otra provincia\", \"Provincia de Buenos Aires\", \"Provincia de Buenos Aires\", \"Mendoza\", \"Provincia de Buenos Aires\", \"La Pampa\", \"Provincia de Buenos Aires\", \"Provincia de Buenos Aires\", \"Otra provincia\", \"Otra provincia\", \"Provincia de Buenos Aires\", \"Provincia de Buenos Aires\", \"Salta\", \"Provincia de Buenos Aires\", \"Otra provincia\", \"Santa Fe\", \"Santa Fe\", \"Otra provincia\", \"Provincia de Buenos Aires\", \"Otra provincia\", \"Otra provincia\", \"Santa Fe\", \"Otra provincia\", \"La Pampa\", \"Otra provincia\", \"Provincia de Buenos Aires\", \"Provincia de Buenos Aires\", \"Ciudad Aut\\u00f3noma de Buenos Aires\", \"Provincia de Buenos Aires\", \"Otra provincia\", \"Chaco\", \"Provincia de Buenos Aires\", \"Jujuy\", \"Provincia de Buenos Aires\", \"Chaco\", \"Otra provincia\", \"Provincia de Buenos Aires\", \"Formosa\", \"Provincia de Buenos Aires\", \"Corrientes\", \"Corrientes\", \"Provincia de Buenos Aires\", \"Provincia de Buenos Aires\", \"Provincia de Buenos Aires\", \"Otra provincia\", \"Provincia de Buenos Aires\", \"Provincia de Buenos Aires\", \"Provincia de Buenos Aires\", \"Provincia de Buenos Aires\", \"Provincia de Buenos Aires\", \"Santiago del Estero\", \"Ciudad Aut\\u00f3noma de Buenos Aires\", \"Provincia de Buenos Aires\", \"Otra provincia\", \"Provincia de Buenos Aires\", \"Otra provincia\", \"Provincia de Buenos Aires\", \"Jujuy\", \"Provincia de Buenos Aires\", \"Provincia de Buenos Aires\", \"Provincia de Buenos Aires\", \"Provincia de Buenos Aires\", \"Ciudad Aut\\u00f3noma de Buenos Aires\", \"Ciudad Aut\\u00f3noma de Buenos Aires\", \"Santa Fe\", \"Provincia de Buenos Aires\", \"Provincia de Buenos Aires\", \"Provincia de Buenos Aires\", \"Otra provincia\"], \"xaxis\": \"x\", \"yaxis\": \"y\"}],\n",
       "                        {\"barmode\": \"relative\", \"height\": 600, \"legend\": {\"tracegroupgap\": 0}, \"template\": {\"data\": {\"bar\": [{\"error_x\": {\"color\": \"#2a3f5f\"}, \"error_y\": {\"color\": \"#2a3f5f\"}, \"marker\": {\"line\": {\"color\": \"#E5ECF6\", \"width\": 0.5}}, \"type\": \"bar\"}], \"barpolar\": [{\"marker\": {\"line\": {\"color\": \"#E5ECF6\", \"width\": 0.5}}, \"type\": \"barpolar\"}], \"carpet\": [{\"aaxis\": {\"endlinecolor\": \"#2a3f5f\", \"gridcolor\": \"white\", \"linecolor\": \"white\", \"minorgridcolor\": \"white\", \"startlinecolor\": \"#2a3f5f\"}, \"baxis\": {\"endlinecolor\": \"#2a3f5f\", \"gridcolor\": \"white\", \"linecolor\": \"white\", \"minorgridcolor\": \"white\", \"startlinecolor\": \"#2a3f5f\"}, \"type\": \"carpet\"}], \"choropleth\": [{\"colorbar\": {\"outlinewidth\": 0, \"ticks\": \"\"}, \"type\": \"choropleth\"}], \"contour\": [{\"colorbar\": {\"outlinewidth\": 0, \"ticks\": \"\"}, \"colorscale\": [[0.0, \"#0d0887\"], [0.1111111111111111, \"#46039f\"], [0.2222222222222222, \"#7201a8\"], [0.3333333333333333, \"#9c179e\"], [0.4444444444444444, \"#bd3786\"], [0.5555555555555556, \"#d8576b\"], [0.6666666666666666, \"#ed7953\"], [0.7777777777777778, \"#fb9f3a\"], [0.8888888888888888, \"#fdca26\"], [1.0, \"#f0f921\"]], \"type\": \"contour\"}], \"contourcarpet\": [{\"colorbar\": {\"outlinewidth\": 0, \"ticks\": \"\"}, \"type\": \"contourcarpet\"}], \"heatmap\": [{\"colorbar\": {\"outlinewidth\": 0, \"ticks\": \"\"}, \"colorscale\": [[0.0, \"#0d0887\"], [0.1111111111111111, \"#46039f\"], [0.2222222222222222, \"#7201a8\"], [0.3333333333333333, \"#9c179e\"], [0.4444444444444444, \"#bd3786\"], [0.5555555555555556, \"#d8576b\"], [0.6666666666666666, \"#ed7953\"], [0.7777777777777778, \"#fb9f3a\"], [0.8888888888888888, \"#fdca26\"], [1.0, \"#f0f921\"]], \"type\": \"heatmap\"}], \"heatmapgl\": [{\"colorbar\": {\"outlinewidth\": 0, \"ticks\": \"\"}, \"colorscale\": [[0.0, \"#0d0887\"], [0.1111111111111111, \"#46039f\"], [0.2222222222222222, \"#7201a8\"], [0.3333333333333333, \"#9c179e\"], [0.4444444444444444, \"#bd3786\"], [0.5555555555555556, \"#d8576b\"], [0.6666666666666666, \"#ed7953\"], [0.7777777777777778, \"#fb9f3a\"], [0.8888888888888888, \"#fdca26\"], [1.0, \"#f0f921\"]], \"type\": \"heatmapgl\"}], \"histogram\": [{\"marker\": {\"colorbar\": {\"outlinewidth\": 0, \"ticks\": \"\"}}, \"type\": \"histogram\"}], \"histogram2d\": [{\"colorbar\": {\"outlinewidth\": 0, \"ticks\": \"\"}, \"colorscale\": [[0.0, \"#0d0887\"], [0.1111111111111111, \"#46039f\"], [0.2222222222222222, \"#7201a8\"], [0.3333333333333333, \"#9c179e\"], [0.4444444444444444, \"#bd3786\"], [0.5555555555555556, \"#d8576b\"], [0.6666666666666666, \"#ed7953\"], [0.7777777777777778, \"#fb9f3a\"], [0.8888888888888888, \"#fdca26\"], [1.0, \"#f0f921\"]], \"type\": \"histogram2d\"}], \"histogram2dcontour\": [{\"colorbar\": {\"outlinewidth\": 0, \"ticks\": \"\"}, \"colorscale\": [[0.0, \"#0d0887\"], [0.1111111111111111, \"#46039f\"], [0.2222222222222222, \"#7201a8\"], [0.3333333333333333, \"#9c179e\"], [0.4444444444444444, \"#bd3786\"], [0.5555555555555556, \"#d8576b\"], [0.6666666666666666, \"#ed7953\"], [0.7777777777777778, \"#fb9f3a\"], [0.8888888888888888, \"#fdca26\"], [1.0, \"#f0f921\"]], \"type\": \"histogram2dcontour\"}], \"mesh3d\": [{\"colorbar\": {\"outlinewidth\": 0, \"ticks\": \"\"}, \"type\": \"mesh3d\"}], \"parcoords\": [{\"line\": {\"colorbar\": {\"outlinewidth\": 0, \"ticks\": \"\"}}, \"type\": \"parcoords\"}], \"pie\": [{\"automargin\": true, \"type\": \"pie\"}], \"scatter\": [{\"marker\": {\"colorbar\": {\"outlinewidth\": 0, \"ticks\": \"\"}}, \"type\": \"scatter\"}], \"scatter3d\": [{\"line\": {\"colorbar\": {\"outlinewidth\": 0, \"ticks\": \"\"}}, \"marker\": {\"colorbar\": {\"outlinewidth\": 0, \"ticks\": \"\"}}, \"type\": \"scatter3d\"}], \"scattercarpet\": [{\"marker\": {\"colorbar\": {\"outlinewidth\": 0, \"ticks\": \"\"}}, \"type\": \"scattercarpet\"}], \"scattergeo\": [{\"marker\": {\"colorbar\": {\"outlinewidth\": 0, \"ticks\": \"\"}}, \"type\": \"scattergeo\"}], \"scattergl\": [{\"marker\": {\"colorbar\": {\"outlinewidth\": 0, \"ticks\": \"\"}}, \"type\": \"scattergl\"}], \"scattermapbox\": [{\"marker\": {\"colorbar\": {\"outlinewidth\": 0, \"ticks\": \"\"}}, \"type\": \"scattermapbox\"}], \"scatterpolar\": [{\"marker\": {\"colorbar\": {\"outlinewidth\": 0, \"ticks\": \"\"}}, \"type\": \"scatterpolar\"}], \"scatterpolargl\": [{\"marker\": {\"colorbar\": {\"outlinewidth\": 0, \"ticks\": \"\"}}, \"type\": \"scatterpolargl\"}], \"scatterternary\": [{\"marker\": {\"colorbar\": {\"outlinewidth\": 0, \"ticks\": \"\"}}, \"type\": \"scatterternary\"}], \"surface\": [{\"colorbar\": {\"outlinewidth\": 0, \"ticks\": \"\"}, \"colorscale\": [[0.0, \"#0d0887\"], [0.1111111111111111, \"#46039f\"], [0.2222222222222222, \"#7201a8\"], [0.3333333333333333, \"#9c179e\"], [0.4444444444444444, \"#bd3786\"], [0.5555555555555556, \"#d8576b\"], [0.6666666666666666, \"#ed7953\"], [0.7777777777777778, \"#fb9f3a\"], [0.8888888888888888, \"#fdca26\"], [1.0, \"#f0f921\"]], \"type\": \"surface\"}], \"table\": [{\"cells\": {\"fill\": {\"color\": \"#EBF0F8\"}, \"line\": {\"color\": \"white\"}}, \"header\": {\"fill\": {\"color\": \"#C8D4E3\"}, \"line\": {\"color\": \"white\"}}, \"type\": \"table\"}]}, \"layout\": {\"annotationdefaults\": {\"arrowcolor\": \"#2a3f5f\", \"arrowhead\": 0, \"arrowwidth\": 1}, \"coloraxis\": {\"colorbar\": {\"outlinewidth\": 0, \"ticks\": \"\"}}, \"colorscale\": {\"diverging\": [[0, \"#8e0152\"], [0.1, \"#c51b7d\"], [0.2, \"#de77ae\"], [0.3, \"#f1b6da\"], [0.4, \"#fde0ef\"], [0.5, \"#f7f7f7\"], [0.6, \"#e6f5d0\"], [0.7, \"#b8e186\"], [0.8, \"#7fbc41\"], [0.9, \"#4d9221\"], [1, \"#276419\"]], \"sequential\": [[0.0, \"#0d0887\"], [0.1111111111111111, \"#46039f\"], [0.2222222222222222, \"#7201a8\"], [0.3333333333333333, \"#9c179e\"], [0.4444444444444444, \"#bd3786\"], [0.5555555555555556, \"#d8576b\"], [0.6666666666666666, \"#ed7953\"], [0.7777777777777778, \"#fb9f3a\"], [0.8888888888888888, \"#fdca26\"], [1.0, \"#f0f921\"]], \"sequentialminus\": [[0.0, \"#0d0887\"], [0.1111111111111111, \"#46039f\"], [0.2222222222222222, \"#7201a8\"], [0.3333333333333333, \"#9c179e\"], [0.4444444444444444, \"#bd3786\"], [0.5555555555555556, \"#d8576b\"], [0.6666666666666666, \"#ed7953\"], [0.7777777777777778, \"#fb9f3a\"], [0.8888888888888888, \"#fdca26\"], [1.0, \"#f0f921\"]]}, \"colorway\": [\"#636efa\", \"#EF553B\", \"#00cc96\", \"#ab63fa\", \"#FFA15A\", \"#19d3f3\", \"#FF6692\", \"#B6E880\", \"#FF97FF\", \"#FECB52\"], \"font\": {\"color\": \"#2a3f5f\"}, \"geo\": {\"bgcolor\": \"white\", \"lakecolor\": \"white\", \"landcolor\": \"#E5ECF6\", \"showlakes\": true, \"showland\": true, \"subunitcolor\": \"white\"}, \"hoverlabel\": {\"align\": \"left\"}, \"hovermode\": \"closest\", \"mapbox\": {\"style\": \"light\"}, \"paper_bgcolor\": \"white\", \"plot_bgcolor\": \"#E5ECF6\", \"polar\": {\"angularaxis\": {\"gridcolor\": \"white\", \"linecolor\": \"white\", \"ticks\": \"\"}, \"bgcolor\": \"#E5ECF6\", \"radialaxis\": {\"gridcolor\": \"white\", \"linecolor\": \"white\", \"ticks\": \"\"}}, \"scene\": {\"xaxis\": {\"backgroundcolor\": \"#E5ECF6\", \"gridcolor\": \"white\", \"gridwidth\": 2, \"linecolor\": \"white\", \"showbackground\": true, \"ticks\": \"\", \"zerolinecolor\": \"white\"}, \"yaxis\": {\"backgroundcolor\": \"#E5ECF6\", \"gridcolor\": \"white\", \"gridwidth\": 2, \"linecolor\": \"white\", \"showbackground\": true, \"ticks\": \"\", \"zerolinecolor\": \"white\"}, \"zaxis\": {\"backgroundcolor\": \"#E5ECF6\", \"gridcolor\": \"white\", \"gridwidth\": 2, \"linecolor\": \"white\", \"showbackground\": true, \"ticks\": \"\", \"zerolinecolor\": \"white\"}}, \"shapedefaults\": {\"line\": {\"color\": \"#2a3f5f\"}}, \"ternary\": {\"aaxis\": {\"gridcolor\": \"white\", \"linecolor\": \"white\", \"ticks\": \"\"}, \"baxis\": {\"gridcolor\": \"white\", \"linecolor\": \"white\", \"ticks\": \"\"}, \"bgcolor\": \"#E5ECF6\", \"caxis\": {\"gridcolor\": \"white\", \"linecolor\": \"white\", \"ticks\": \"\"}}, \"title\": {\"x\": 0.05}, \"xaxis\": {\"automargin\": true, \"gridcolor\": \"white\", \"linecolor\": \"white\", \"ticks\": \"\", \"title\": {\"standoff\": 15}, \"zerolinecolor\": \"white\", \"zerolinewidth\": 2}, \"yaxis\": {\"automargin\": true, \"gridcolor\": \"white\", \"linecolor\": \"white\", \"ticks\": \"\", \"title\": {\"standoff\": 15}, \"zerolinecolor\": \"white\", \"zerolinewidth\": 2}}}, \"title\": {\"text\": \"Distribuci\\u00f3n de los encuestados seg\\u00fan provincia\"}, \"xaxis\": {\"anchor\": \"y\", \"categoryorder\": \"total descending\", \"domain\": [0.0, 1.0], \"title\": {\"text\": \"Provincia\"}}, \"yaxis\": {\"anchor\": \"x\", \"domain\": [0.0, 1.0], \"title\": {\"text\": \" \"}}},\n",
       "                        {\"responsive\": true}\n",
       "                    ).then(function(){\n",
       "                            \n",
       "var gd = document.getElementById('25851b94-8897-4f68-a199-a5f1f4989b59');\n",
       "var x = new MutationObserver(function (mutations, observer) {{\n",
       "        var display = window.getComputedStyle(gd).display;\n",
       "        if (!display || display === 'none') {{\n",
       "            console.log([gd, 'removed!']);\n",
       "            Plotly.purge(gd);\n",
       "            observer.disconnect();\n",
       "        }}\n",
       "}});\n",
       "\n",
       "// Listen for the removal of the full notebook cells\n",
       "var notebookContainer = gd.closest('#notebook-container');\n",
       "if (notebookContainer) {{\n",
       "    x.observe(notebookContainer, {childList: true});\n",
       "}}\n",
       "\n",
       "// Listen for the clearing of the current output cell\n",
       "var outputEl = gd.closest('.output');\n",
       "if (outputEl) {{\n",
       "    x.observe(outputEl, {childList: true});\n",
       "}}\n",
       "\n",
       "                        })\n",
       "                };\n",
       "                });\n",
       "            </script>\n",
       "        </div>"
      ]
     },
     "metadata": {},
     "output_type": "display_data"
    }
   ],
   "source": [
    "##Grafico con distribucion por provincia\n",
    "fig = px.histogram(df, x=\"ubicacion_tot\",title=f\"Distribución de los encuestados según provincia\",\n",
    "       labels={\"ubicacion_tot\": \"Provincia\"})\n",
    "fig.update_yaxes(title_text=' ',row=1, col=1)\n",
    "fig.update_layout(xaxis={'categoryorder':'total descending'})"
   ]
  },
  {
   "cell_type": "code",
   "execution_count": 27,
   "metadata": {
    "extensions": {
     "jupyter_dashboards": {
      "version": 1,
      "views": {
       "grid_default": {},
       "report_default": {
        "hidden": true
       }
      }
     }
    }
   },
   "outputs": [
    {
     "data": {
      "application/vnd.plotly.v1+json": {
       "config": {
        "plotlyServerURL": "https://plot.ly"
       },
       "data": [
        {
         "alignmentgroup": "True",
         "bingroup": "x",
         "hoverlabel": {
          "namelength": 0
         },
         "hovertemplate": "opinion=%{x}<br>count=%{y}",
         "legendgroup": "",
         "marker": {
          "color": "#636efa"
         },
         "name": "",
         "offsetgroup": "",
         "orientation": "v",
         "showlegend": false,
         "type": "histogram",
         "x": [
          "La cuarentena ya no es tan necesaria",
          "La cuarentena ya no es nada necesaria",
          "La cuarentena sigue siendo muy necesaria",
          "La cuarentena ya no es tan necesaria",
          "La cuarentena sigue siendo muy necesaria",
          "La cuarentena ya no es nada necesaria",
          "La cuarentena ya no es tan necesaria",
          "La cuarentena sigue siendo muy necesaria",
          "La cuarentena ya no es tan necesaria",
          "La cuarentena sigue siendo muy necesaria",
          "La cuarentena sigue siendo muy necesaria",
          "La cuarentena sigue siendo muy necesaria",
          "La cuarentena sigue siendo algo necesaria",
          "La cuarentena ya no es tan necesaria",
          "La cuarentena sigue siendo muy necesaria",
          "La cuarentena sigue siendo muy necesaria",
          "La cuarentena sigue siendo muy necesaria",
          "La cuarentena sigue siendo algo necesaria",
          "La cuarentena ya no es nada necesaria",
          "La cuarentena sigue siendo muy necesaria",
          "La cuarentena ya no es tan necesaria",
          "La cuarentena sigue siendo algo necesaria",
          "La cuarentena sigue siendo muy necesaria",
          "La cuarentena sigue siendo muy necesaria",
          "La cuarentena ya no es nada necesaria",
          "La cuarentena sigue siendo muy necesaria",
          "La cuarentena ya no es tan necesaria",
          "La cuarentena sigue siendo algo necesaria",
          "La cuarentena sigue siendo algo necesaria",
          "La cuarentena sigue siendo muy necesaria",
          "La cuarentena sigue siendo muy necesaria",
          "La cuarentena sigue siendo muy necesaria",
          "La cuarentena sigue siendo muy necesaria",
          "La cuarentena sigue siendo algo necesaria",
          "La cuarentena sigue siendo muy necesaria",
          "La cuarentena sigue siendo algo necesaria",
          "La cuarentena sigue siendo muy necesaria",
          "La cuarentena ya no es tan necesaria",
          "La cuarentena sigue siendo muy necesaria",
          "La cuarentena sigue siendo muy necesaria",
          "La cuarentena ya no es tan necesaria",
          "La cuarentena sigue siendo algo necesaria",
          "La cuarentena sigue siendo algo necesaria",
          "La cuarentena sigue siendo algo necesaria",
          "La cuarentena sigue siendo muy necesaria",
          "La cuarentena sigue siendo muy necesaria",
          "La cuarentena sigue siendo muy necesaria",
          "La cuarentena sigue siendo muy necesaria",
          "La cuarentena sigue siendo algo necesaria",
          "La cuarentena sigue siendo muy necesaria",
          "La cuarentena sigue siendo algo necesaria",
          "La cuarentena sigue siendo muy necesaria",
          "La cuarentena sigue siendo muy necesaria",
          "La cuarentena ya no es tan necesaria",
          "La cuarentena sigue siendo muy necesaria",
          "La cuarentena sigue siendo muy necesaria",
          "La cuarentena sigue siendo muy necesaria",
          "La cuarentena sigue siendo muy necesaria",
          "La cuarentena ya no es nada necesaria",
          "La cuarentena sigue siendo algo necesaria",
          "La cuarentena sigue siendo muy necesaria",
          "La cuarentena sigue siendo algo necesaria",
          "La cuarentena ya no es nada necesaria",
          "La cuarentena ya no es nada necesaria",
          "La cuarentena ya no es tan necesaria",
          "La cuarentena ya no es nada necesaria",
          "La cuarentena sigue siendo algo necesaria",
          "La cuarentena sigue siendo muy necesaria",
          "La cuarentena sigue siendo muy necesaria",
          "La cuarentena ya no es nada necesaria",
          "La cuarentena ya no es nada necesaria",
          "La cuarentena ya no es tan necesaria",
          "La cuarentena ya no es tan necesaria",
          "La cuarentena sigue siendo algo necesaria",
          "La cuarentena sigue siendo muy necesaria",
          "La cuarentena ya no es tan necesaria",
          "La cuarentena ya no es tan necesaria",
          "La cuarentena sigue siendo algo necesaria",
          "La cuarentena sigue siendo algo necesaria",
          "La cuarentena sigue siendo muy necesaria",
          "La cuarentena sigue siendo muy necesaria",
          "La cuarentena sigue siendo algo necesaria",
          "La cuarentena ya no es nada necesaria",
          "La cuarentena ya no es tan necesaria",
          "La cuarentena sigue siendo muy necesaria",
          "La cuarentena ya no es tan necesaria",
          "La cuarentena sigue siendo algo necesaria",
          "La cuarentena ya no es nada necesaria",
          "La cuarentena sigue siendo muy necesaria",
          "La cuarentena sigue siendo muy necesaria",
          "La cuarentena sigue siendo algo necesaria",
          "La cuarentena ya no es nada necesaria",
          "La cuarentena ya no es tan necesaria",
          "La cuarentena ya no es tan necesaria",
          "La cuarentena ya no es tan necesaria",
          "La cuarentena sigue siendo algo necesaria",
          "La cuarentena sigue siendo muy necesaria",
          "La cuarentena sigue siendo muy necesaria",
          "La cuarentena sigue siendo muy necesaria",
          "La cuarentena ya no es tan necesaria",
          "La cuarentena sigue siendo muy necesaria",
          "La cuarentena ya no es tan necesaria",
          "La cuarentena sigue siendo muy necesaria",
          "La cuarentena ya no es nada necesaria",
          "La cuarentena sigue siendo muy necesaria",
          "La cuarentena sigue siendo muy necesaria",
          "La cuarentena sigue siendo algo necesaria",
          "La cuarentena ya no es nada necesaria",
          "La cuarentena sigue siendo muy necesaria",
          "La cuarentena sigue siendo muy necesaria",
          "La cuarentena sigue siendo algo necesaria",
          "La cuarentena sigue siendo muy necesaria",
          "La cuarentena ya no es tan necesaria",
          "La cuarentena ya no es nada necesaria",
          "La cuarentena sigue siendo muy necesaria",
          "La cuarentena sigue siendo algo necesaria",
          "La cuarentena sigue siendo muy necesaria",
          "La cuarentena ya no es nada necesaria",
          "La cuarentena sigue siendo muy necesaria",
          "La cuarentena sigue siendo muy necesaria",
          "La cuarentena ya no es nada necesaria",
          "La cuarentena sigue siendo muy necesaria",
          "La cuarentena sigue siendo muy necesaria",
          "La cuarentena ya no es nada necesaria",
          "La cuarentena sigue siendo muy necesaria",
          "La cuarentena sigue siendo muy necesaria",
          "La cuarentena sigue siendo muy necesaria",
          "La cuarentena sigue siendo muy necesaria",
          "La cuarentena sigue siendo muy necesaria",
          "La cuarentena sigue siendo algo necesaria",
          "La cuarentena ya no es nada necesaria",
          "La cuarentena sigue siendo muy necesaria",
          "La cuarentena sigue siendo muy necesaria",
          "La cuarentena ya no es nada necesaria",
          "La cuarentena sigue siendo algo necesaria",
          "La cuarentena sigue siendo muy necesaria",
          "La cuarentena sigue siendo algo necesaria",
          "La cuarentena sigue siendo algo necesaria",
          "La cuarentena sigue siendo algo necesaria",
          "La cuarentena sigue siendo algo necesaria",
          "La cuarentena ya no es tan necesaria",
          "La cuarentena ya no es tan necesaria",
          "La cuarentena sigue siendo algo necesaria",
          "La cuarentena ya no es nada necesaria",
          "La cuarentena ya no es tan necesaria",
          "La cuarentena sigue siendo algo necesaria",
          "La cuarentena sigue siendo muy necesaria",
          "La cuarentena ya no es tan necesaria",
          "La cuarentena sigue siendo algo necesaria",
          "La cuarentena sigue siendo algo necesaria",
          "La cuarentena sigue siendo algo necesaria",
          "La cuarentena ya no es tan necesaria",
          "La cuarentena sigue siendo muy necesaria",
          "La cuarentena sigue siendo muy necesaria",
          "La cuarentena sigue siendo algo necesaria",
          "La cuarentena ya no es tan necesaria",
          "La cuarentena sigue siendo muy necesaria",
          "La cuarentena ya no es nada necesaria",
          "La cuarentena sigue siendo muy necesaria",
          "La cuarentena sigue siendo muy necesaria",
          "La cuarentena sigue siendo muy necesaria",
          "La cuarentena sigue siendo muy necesaria",
          "La cuarentena sigue siendo muy necesaria",
          "La cuarentena ya no es nada necesaria",
          "La cuarentena sigue siendo muy necesaria",
          "La cuarentena sigue siendo muy necesaria",
          "La cuarentena sigue siendo muy necesaria",
          "La cuarentena sigue siendo muy necesaria",
          "La cuarentena sigue siendo algo necesaria",
          "La cuarentena sigue siendo muy necesaria",
          "La cuarentena ya no es nada necesaria",
          "La cuarentena sigue siendo muy necesaria",
          "La cuarentena sigue siendo muy necesaria",
          "La cuarentena sigue siendo muy necesaria",
          "La cuarentena sigue siendo algo necesaria",
          "La cuarentena ya no es nada necesaria",
          "La cuarentena sigue siendo muy necesaria",
          "La cuarentena ya no es tan necesaria",
          "La cuarentena sigue siendo muy necesaria",
          "La cuarentena sigue siendo muy necesaria",
          "La cuarentena ya no es tan necesaria",
          "La cuarentena sigue siendo algo necesaria",
          "La cuarentena sigue siendo muy necesaria",
          "La cuarentena sigue siendo muy necesaria",
          "La cuarentena sigue siendo algo necesaria",
          "La cuarentena sigue siendo muy necesaria",
          "La cuarentena sigue siendo algo necesaria",
          "La cuarentena sigue siendo muy necesaria",
          "La cuarentena ya no es tan necesaria",
          "La cuarentena ya no es nada necesaria",
          "La cuarentena ya no es tan necesaria",
          "La cuarentena sigue siendo muy necesaria",
          "La cuarentena sigue siendo algo necesaria",
          "La cuarentena ya no es tan necesaria",
          "La cuarentena ya no es nada necesaria",
          "La cuarentena sigue siendo muy necesaria",
          "La cuarentena sigue siendo muy necesaria",
          "La cuarentena sigue siendo algo necesaria",
          "La cuarentena sigue siendo muy necesaria",
          "La cuarentena sigue siendo algo necesaria",
          "La cuarentena sigue siendo algo necesaria",
          "La cuarentena sigue siendo muy necesaria",
          "La cuarentena sigue siendo algo necesaria",
          "La cuarentena sigue siendo muy necesaria",
          "La cuarentena sigue siendo algo necesaria",
          "La cuarentena ya no es nada necesaria",
          "La cuarentena sigue siendo algo necesaria",
          "La cuarentena sigue siendo algo necesaria",
          "La cuarentena sigue siendo muy necesaria",
          "La cuarentena sigue siendo muy necesaria",
          "La cuarentena sigue siendo algo necesaria",
          "La cuarentena sigue siendo algo necesaria",
          "La cuarentena ya no es nada necesaria",
          "La cuarentena sigue siendo algo necesaria",
          "La cuarentena sigue siendo muy necesaria",
          "La cuarentena ya no es tan necesaria",
          "La cuarentena ya no es nada necesaria",
          "La cuarentena sigue siendo muy necesaria",
          "La cuarentena sigue siendo muy necesaria",
          null,
          "La cuarentena sigue siendo muy necesaria",
          "La cuarentena sigue siendo muy necesaria",
          "La cuarentena ya no es tan necesaria",
          "La cuarentena sigue siendo muy necesaria",
          "La cuarentena ya no es tan necesaria",
          "La cuarentena sigue siendo muy necesaria",
          "La cuarentena sigue siendo muy necesaria",
          "La cuarentena ya no es tan necesaria",
          "La cuarentena ya no es tan necesaria",
          "La cuarentena ya no es nada necesaria",
          "La cuarentena sigue siendo muy necesaria",
          "La cuarentena sigue siendo muy necesaria",
          "La cuarentena ya no es nada necesaria",
          "La cuarentena sigue siendo muy necesaria",
          "La cuarentena sigue siendo algo necesaria",
          "La cuarentena ya no es tan necesaria",
          "La cuarentena sigue siendo algo necesaria",
          "La cuarentena ya no es tan necesaria",
          "La cuarentena ya no es tan necesaria",
          "La cuarentena ya no es tan necesaria",
          "La cuarentena sigue siendo muy necesaria",
          "La cuarentena sigue siendo muy necesaria",
          "La cuarentena sigue siendo muy necesaria",
          "La cuarentena sigue siendo muy necesaria",
          "La cuarentena sigue siendo algo necesaria",
          "La cuarentena ya no es tan necesaria",
          "La cuarentena sigue siendo muy necesaria",
          "La cuarentena sigue siendo muy necesaria",
          "La cuarentena sigue siendo algo necesaria",
          "La cuarentena sigue siendo muy necesaria",
          "La cuarentena sigue siendo muy necesaria",
          "La cuarentena sigue siendo muy necesaria",
          "La cuarentena sigue siendo muy necesaria",
          "La cuarentena sigue siendo algo necesaria",
          "La cuarentena ya no es tan necesaria",
          "La cuarentena sigue siendo algo necesaria",
          null,
          "La cuarentena sigue siendo algo necesaria",
          "La cuarentena sigue siendo muy necesaria",
          "La cuarentena sigue siendo algo necesaria",
          "La cuarentena ya no es tan necesaria",
          "La cuarentena ya no es tan necesaria",
          "La cuarentena sigue siendo muy necesaria",
          null,
          "La cuarentena ya no es tan necesaria",
          "La cuarentena sigue siendo muy necesaria",
          "La cuarentena sigue siendo algo necesaria",
          "La cuarentena ya no es tan necesaria",
          "La cuarentena sigue siendo algo necesaria",
          "La cuarentena sigue siendo muy necesaria",
          "La cuarentena ya no es nada necesaria",
          "La cuarentena sigue siendo muy necesaria",
          "La cuarentena sigue siendo muy necesaria",
          "La cuarentena ya no es nada necesaria",
          "La cuarentena sigue siendo muy necesaria",
          "La cuarentena sigue siendo algo necesaria",
          "La cuarentena sigue siendo muy necesaria",
          "La cuarentena sigue siendo algo necesaria",
          "La cuarentena sigue siendo muy necesaria",
          "La cuarentena ya no es tan necesaria",
          "La cuarentena sigue siendo muy necesaria",
          "La cuarentena sigue siendo muy necesaria",
          "La cuarentena ya no es tan necesaria",
          "La cuarentena sigue siendo algo necesaria",
          "La cuarentena ya no es nada necesaria",
          "La cuarentena sigue siendo muy necesaria",
          "La cuarentena sigue siendo muy necesaria",
          "La cuarentena ya no es tan necesaria",
          "La cuarentena ya no es nada necesaria",
          "La cuarentena sigue siendo muy necesaria",
          "La cuarentena ya no es tan necesaria",
          "La cuarentena ya no es nada necesaria",
          "La cuarentena ya no es tan necesaria",
          "La cuarentena ya no es tan necesaria",
          "La cuarentena ya no es tan necesaria",
          "La cuarentena sigue siendo algo necesaria",
          "La cuarentena ya no es nada necesaria",
          "La cuarentena sigue siendo algo necesaria",
          "La cuarentena sigue siendo algo necesaria",
          "La cuarentena ya no es tan necesaria",
          "La cuarentena ya no es tan necesaria",
          "La cuarentena ya no es tan necesaria",
          "La cuarentena sigue siendo muy necesaria",
          "La cuarentena sigue siendo muy necesaria",
          "La cuarentena ya no es nada necesaria",
          "La cuarentena ya no es tan necesaria",
          "La cuarentena sigue siendo algo necesaria",
          "La cuarentena ya no es nada necesaria",
          "La cuarentena sigue siendo algo necesaria",
          "La cuarentena ya no es tan necesaria",
          "La cuarentena ya no es tan necesaria",
          "La cuarentena sigue siendo algo necesaria",
          "La cuarentena sigue siendo muy necesaria",
          "La cuarentena sigue siendo algo necesaria",
          "La cuarentena sigue siendo muy necesaria",
          null,
          "La cuarentena ya no es tan necesaria",
          "La cuarentena ya no es tan necesaria",
          "La cuarentena ya no es tan necesaria",
          "La cuarentena sigue siendo algo necesaria",
          "La cuarentena sigue siendo algo necesaria",
          "La cuarentena sigue siendo muy necesaria",
          "La cuarentena ya no es tan necesaria",
          "La cuarentena sigue siendo muy necesaria",
          "La cuarentena sigue siendo muy necesaria",
          "La cuarentena ya no es tan necesaria",
          "La cuarentena sigue siendo muy necesaria",
          "La cuarentena sigue siendo algo necesaria",
          "La cuarentena ya no es tan necesaria",
          "La cuarentena ya no es nada necesaria",
          "La cuarentena ya no es tan necesaria",
          "La cuarentena ya no es tan necesaria",
          "La cuarentena sigue siendo muy necesaria",
          "La cuarentena sigue siendo muy necesaria",
          "La cuarentena sigue siendo algo necesaria",
          "La cuarentena sigue siendo muy necesaria",
          "La cuarentena sigue siendo muy necesaria",
          "La cuarentena sigue siendo muy necesaria",
          "La cuarentena ya no es nada necesaria",
          "La cuarentena sigue siendo muy necesaria",
          "La cuarentena ya no es nada necesaria",
          "La cuarentena sigue siendo muy necesaria",
          "La cuarentena sigue siendo muy necesaria",
          "La cuarentena ya no es nada necesaria",
          "La cuarentena ya no es tan necesaria",
          "La cuarentena sigue siendo muy necesaria",
          "La cuarentena sigue siendo muy necesaria",
          "La cuarentena sigue siendo muy necesaria",
          "La cuarentena sigue siendo muy necesaria",
          "La cuarentena ya no es nada necesaria",
          "La cuarentena ya no es nada necesaria",
          "La cuarentena ya no es tan necesaria",
          "La cuarentena ya no es nada necesaria",
          "La cuarentena sigue siendo muy necesaria",
          "La cuarentena ya no es tan necesaria",
          "La cuarentena sigue siendo muy necesaria",
          "La cuarentena ya no es nada necesaria",
          "La cuarentena ya no es tan necesaria",
          "La cuarentena ya no es tan necesaria",
          "La cuarentena sigue siendo algo necesaria",
          "La cuarentena sigue siendo algo necesaria",
          "La cuarentena sigue siendo algo necesaria",
          "La cuarentena sigue siendo muy necesaria",
          "La cuarentena sigue siendo muy necesaria",
          "La cuarentena sigue siendo muy necesaria",
          "La cuarentena ya no es tan necesaria",
          "La cuarentena sigue siendo algo necesaria",
          "La cuarentena sigue siendo muy necesaria",
          "La cuarentena sigue siendo muy necesaria",
          "La cuarentena ya no es tan necesaria",
          "La cuarentena sigue siendo muy necesaria",
          "La cuarentena sigue siendo muy necesaria",
          "La cuarentena ya no es nada necesaria",
          "La cuarentena sigue siendo muy necesaria",
          "La cuarentena sigue siendo muy necesaria",
          "La cuarentena ya no es nada necesaria",
          "La cuarentena ya no es tan necesaria",
          "La cuarentena ya no es nada necesaria",
          "La cuarentena ya no es nada necesaria",
          "La cuarentena sigue siendo algo necesaria",
          "La cuarentena ya no es tan necesaria",
          "La cuarentena ya no es tan necesaria",
          "La cuarentena ya no es tan necesaria",
          "La cuarentena sigue siendo muy necesaria",
          "La cuarentena sigue siendo muy necesaria",
          "La cuarentena ya no es tan necesaria",
          "La cuarentena ya no es nada necesaria",
          "La cuarentena sigue siendo muy necesaria",
          "La cuarentena sigue siendo muy necesaria",
          "La cuarentena sigue siendo algo necesaria",
          "La cuarentena ya no es tan necesaria",
          null,
          "La cuarentena sigue siendo muy necesaria",
          "La cuarentena sigue siendo muy necesaria",
          "La cuarentena sigue siendo muy necesaria",
          "La cuarentena ya no es nada necesaria",
          "La cuarentena sigue siendo muy necesaria",
          "La cuarentena ya no es tan necesaria",
          "La cuarentena ya no es tan necesaria",
          "La cuarentena ya no es nada necesaria",
          "La cuarentena sigue siendo algo necesaria",
          "La cuarentena sigue siendo muy necesaria",
          "La cuarentena ya no es nada necesaria",
          "La cuarentena ya no es tan necesaria",
          "La cuarentena ya no es tan necesaria",
          "La cuarentena sigue siendo muy necesaria",
          null,
          "La cuarentena ya no es nada necesaria",
          "La cuarentena ya no es tan necesaria",
          "La cuarentena sigue siendo muy necesaria",
          "La cuarentena ya no es tan necesaria",
          "La cuarentena sigue siendo muy necesaria",
          "La cuarentena sigue siendo algo necesaria",
          "La cuarentena ya no es nada necesaria",
          "La cuarentena ya no es tan necesaria",
          "La cuarentena ya no es nada necesaria",
          "La cuarentena ya no es tan necesaria",
          "La cuarentena sigue siendo muy necesaria",
          "La cuarentena sigue siendo muy necesaria",
          "La cuarentena sigue siendo muy necesaria",
          "La cuarentena sigue siendo muy necesaria",
          "La cuarentena sigue siendo algo necesaria",
          "La cuarentena sigue siendo muy necesaria",
          "La cuarentena sigue siendo muy necesaria",
          "La cuarentena sigue siendo muy necesaria",
          "La cuarentena sigue siendo muy necesaria",
          "La cuarentena ya no es tan necesaria",
          "La cuarentena sigue siendo muy necesaria",
          "La cuarentena sigue siendo muy necesaria",
          "La cuarentena ya no es tan necesaria",
          "La cuarentena sigue siendo muy necesaria",
          "La cuarentena sigue siendo muy necesaria",
          "La cuarentena sigue siendo muy necesaria",
          "La cuarentena sigue siendo algo necesaria",
          "La cuarentena ya no es tan necesaria",
          "La cuarentena ya no es nada necesaria",
          "La cuarentena ya no es nada necesaria",
          "La cuarentena ya no es nada necesaria",
          "La cuarentena sigue siendo muy necesaria",
          "La cuarentena sigue siendo algo necesaria",
          "La cuarentena ya no es nada necesaria",
          "La cuarentena ya no es tan necesaria",
          "La cuarentena ya no es nada necesaria",
          "La cuarentena sigue siendo muy necesaria",
          "La cuarentena sigue siendo muy necesaria",
          "La cuarentena ya no es tan necesaria",
          "La cuarentena ya no es tan necesaria",
          "La cuarentena sigue siendo algo necesaria",
          "La cuarentena ya no es nada necesaria",
          "La cuarentena sigue siendo algo necesaria",
          "La cuarentena sigue siendo muy necesaria",
          "La cuarentena ya no es tan necesaria",
          "La cuarentena ya no es nada necesaria",
          "La cuarentena sigue siendo muy necesaria",
          "La cuarentena sigue siendo algo necesaria",
          "La cuarentena ya no es nada necesaria",
          "La cuarentena sigue siendo muy necesaria",
          "La cuarentena sigue siendo muy necesaria",
          "La cuarentena ya no es nada necesaria",
          "La cuarentena ya no es nada necesaria",
          "La cuarentena ya no es nada necesaria",
          "La cuarentena ya no es nada necesaria",
          "La cuarentena ya no es tan necesaria",
          "La cuarentena ya no es tan necesaria",
          "La cuarentena sigue siendo muy necesaria",
          "La cuarentena ya no es nada necesaria",
          "La cuarentena ya no es tan necesaria",
          "La cuarentena sigue siendo algo necesaria",
          "La cuarentena sigue siendo muy necesaria",
          "La cuarentena sigue siendo algo necesaria",
          "La cuarentena sigue siendo muy necesaria",
          "La cuarentena sigue siendo muy necesaria",
          "La cuarentena ya no es tan necesaria",
          "La cuarentena ya no es tan necesaria",
          "La cuarentena sigue siendo muy necesaria",
          "La cuarentena ya no es tan necesaria",
          "La cuarentena ya no es tan necesaria",
          "La cuarentena sigue siendo algo necesaria",
          "La cuarentena ya no es tan necesaria",
          "La cuarentena sigue siendo muy necesaria",
          "La cuarentena ya no es tan necesaria",
          "La cuarentena sigue siendo algo necesaria",
          "La cuarentena ya no es nada necesaria",
          "La cuarentena sigue siendo algo necesaria",
          "La cuarentena sigue siendo muy necesaria",
          "La cuarentena sigue siendo muy necesaria",
          "La cuarentena sigue siendo muy necesaria",
          "La cuarentena sigue siendo algo necesaria",
          "La cuarentena sigue siendo algo necesaria",
          "La cuarentena sigue siendo algo necesaria",
          "La cuarentena sigue siendo muy necesaria",
          "La cuarentena ya no es tan necesaria",
          "La cuarentena ya no es nada necesaria",
          "La cuarentena sigue siendo algo necesaria",
          "La cuarentena ya no es nada necesaria",
          "La cuarentena sigue siendo algo necesaria",
          "La cuarentena sigue siendo muy necesaria",
          "La cuarentena sigue siendo muy necesaria",
          "La cuarentena sigue siendo muy necesaria",
          "La cuarentena ya no es nada necesaria",
          "La cuarentena ya no es nada necesaria",
          "La cuarentena sigue siendo algo necesaria",
          "La cuarentena ya no es tan necesaria",
          "La cuarentena ya no es nada necesaria",
          "La cuarentena sigue siendo algo necesaria",
          "La cuarentena ya no es nada necesaria",
          "La cuarentena sigue siendo muy necesaria",
          "La cuarentena ya no es tan necesaria",
          "La cuarentena sigue siendo muy necesaria",
          "La cuarentena sigue siendo algo necesaria",
          "La cuarentena sigue siendo muy necesaria",
          "La cuarentena sigue siendo muy necesaria",
          "La cuarentena ya no es tan necesaria",
          "La cuarentena sigue siendo algo necesaria",
          "La cuarentena sigue siendo algo necesaria",
          "La cuarentena ya no es tan necesaria",
          "La cuarentena sigue siendo muy necesaria",
          "La cuarentena sigue siendo muy necesaria",
          "La cuarentena ya no es nada necesaria",
          "La cuarentena ya no es tan necesaria",
          "La cuarentena sigue siendo muy necesaria",
          "La cuarentena sigue siendo algo necesaria",
          "La cuarentena ya no es tan necesaria",
          "La cuarentena sigue siendo algo necesaria",
          "La cuarentena sigue siendo muy necesaria",
          "La cuarentena ya no es nada necesaria",
          "La cuarentena sigue siendo muy necesaria",
          "La cuarentena sigue siendo muy necesaria",
          "La cuarentena sigue siendo muy necesaria",
          "La cuarentena sigue siendo algo necesaria",
          "La cuarentena sigue siendo muy necesaria",
          "La cuarentena ya no es nada necesaria",
          "La cuarentena sigue siendo muy necesaria",
          "La cuarentena sigue siendo algo necesaria",
          "La cuarentena ya no es tan necesaria",
          "La cuarentena ya no es nada necesaria",
          "La cuarentena sigue siendo muy necesaria",
          "La cuarentena ya no es tan necesaria",
          "La cuarentena sigue siendo algo necesaria",
          "La cuarentena ya no es tan necesaria",
          "La cuarentena sigue siendo muy necesaria",
          "La cuarentena sigue siendo muy necesaria",
          "La cuarentena sigue siendo algo necesaria",
          "La cuarentena ya no es tan necesaria",
          "La cuarentena sigue siendo muy necesaria",
          "La cuarentena ya no es tan necesaria",
          "La cuarentena ya no es nada necesaria",
          "La cuarentena sigue siendo algo necesaria",
          "La cuarentena sigue siendo algo necesaria",
          "La cuarentena ya no es tan necesaria",
          "La cuarentena ya no es nada necesaria",
          "La cuarentena sigue siendo muy necesaria",
          "La cuarentena ya no es tan necesaria",
          "La cuarentena sigue siendo muy necesaria",
          "La cuarentena sigue siendo algo necesaria",
          "La cuarentena sigue siendo muy necesaria",
          "La cuarentena ya no es tan necesaria",
          "La cuarentena sigue siendo algo necesaria",
          "La cuarentena sigue siendo algo necesaria",
          "La cuarentena ya no es tan necesaria",
          "La cuarentena ya no es tan necesaria",
          "La cuarentena ya no es tan necesaria",
          "La cuarentena sigue siendo muy necesaria",
          "La cuarentena sigue siendo algo necesaria",
          "La cuarentena sigue siendo algo necesaria",
          "La cuarentena sigue siendo algo necesaria",
          "La cuarentena sigue siendo muy necesaria",
          "La cuarentena sigue siendo muy necesaria",
          "La cuarentena sigue siendo muy necesaria",
          "La cuarentena sigue siendo algo necesaria",
          "La cuarentena ya no es tan necesaria",
          "La cuarentena ya no es tan necesaria",
          "La cuarentena sigue siendo muy necesaria",
          "La cuarentena sigue siendo muy necesaria",
          "La cuarentena sigue siendo muy necesaria",
          "La cuarentena ya no es tan necesaria",
          "La cuarentena sigue siendo algo necesaria",
          "La cuarentena sigue siendo muy necesaria",
          "La cuarentena sigue siendo algo necesaria",
          "La cuarentena ya no es nada necesaria",
          "La cuarentena ya no es tan necesaria",
          "La cuarentena sigue siendo algo necesaria",
          "La cuarentena ya no es tan necesaria",
          "La cuarentena ya no es tan necesaria",
          "La cuarentena sigue siendo algo necesaria",
          "La cuarentena sigue siendo muy necesaria",
          "La cuarentena sigue siendo algo necesaria",
          "La cuarentena sigue siendo muy necesaria",
          "La cuarentena ya no es nada necesaria",
          "La cuarentena sigue siendo muy necesaria",
          "La cuarentena ya no es nada necesaria",
          "La cuarentena sigue siendo muy necesaria",
          "La cuarentena sigue siendo muy necesaria",
          "La cuarentena ya no es tan necesaria",
          "La cuarentena ya no es tan necesaria",
          "La cuarentena ya no es tan necesaria",
          "La cuarentena sigue siendo muy necesaria",
          "La cuarentena sigue siendo muy necesaria",
          "La cuarentena sigue siendo muy necesaria",
          "La cuarentena sigue siendo algo necesaria",
          "La cuarentena sigue siendo muy necesaria",
          "La cuarentena ya no es tan necesaria",
          "La cuarentena sigue siendo algo necesaria",
          "La cuarentena ya no es tan necesaria",
          "La cuarentena sigue siendo muy necesaria",
          "La cuarentena ya no es nada necesaria",
          "La cuarentena sigue siendo algo necesaria",
          "La cuarentena sigue siendo algo necesaria",
          "La cuarentena ya no es tan necesaria",
          "La cuarentena sigue siendo muy necesaria",
          "La cuarentena sigue siendo muy necesaria",
          "La cuarentena sigue siendo muy necesaria",
          "La cuarentena sigue siendo muy necesaria",
          "La cuarentena sigue siendo muy necesaria",
          "La cuarentena ya no es tan necesaria",
          "La cuarentena sigue siendo algo necesaria",
          "La cuarentena sigue siendo muy necesaria",
          "La cuarentena ya no es tan necesaria",
          "La cuarentena sigue siendo muy necesaria",
          "La cuarentena sigue siendo muy necesaria",
          "La cuarentena sigue siendo algo necesaria",
          "La cuarentena sigue siendo muy necesaria",
          "La cuarentena sigue siendo muy necesaria",
          "La cuarentena sigue siendo algo necesaria",
          "La cuarentena sigue siendo muy necesaria",
          "La cuarentena sigue siendo muy necesaria",
          "La cuarentena sigue siendo algo necesaria",
          "La cuarentena sigue siendo algo necesaria",
          null,
          "La cuarentena sigue siendo muy necesaria",
          "La cuarentena sigue siendo muy necesaria",
          "La cuarentena ya no es nada necesaria",
          "La cuarentena sigue siendo muy necesaria",
          "La cuarentena sigue siendo muy necesaria",
          "La cuarentena ya no es nada necesaria",
          "La cuarentena sigue siendo algo necesaria",
          "La cuarentena sigue siendo muy necesaria",
          "La cuarentena sigue siendo muy necesaria",
          "La cuarentena ya no es nada necesaria",
          "La cuarentena sigue siendo muy necesaria",
          "La cuarentena sigue siendo algo necesaria",
          "La cuarentena sigue siendo muy necesaria",
          "La cuarentena ya no es nada necesaria",
          "La cuarentena sigue siendo muy necesaria",
          "La cuarentena ya no es tan necesaria",
          "La cuarentena sigue siendo muy necesaria",
          "La cuarentena sigue siendo muy necesaria",
          "La cuarentena sigue siendo muy necesaria",
          "La cuarentena ya no es tan necesaria",
          "La cuarentena sigue siendo muy necesaria",
          "La cuarentena ya no es nada necesaria",
          "La cuarentena sigue siendo muy necesaria",
          "La cuarentena sigue siendo muy necesaria",
          "La cuarentena sigue siendo muy necesaria",
          "La cuarentena sigue siendo muy necesaria",
          "La cuarentena ya no es nada necesaria",
          "La cuarentena sigue siendo muy necesaria",
          "La cuarentena ya no es tan necesaria",
          "La cuarentena sigue siendo muy necesaria",
          "La cuarentena ya no es nada necesaria",
          "La cuarentena ya no es nada necesaria",
          "La cuarentena sigue siendo muy necesaria",
          "La cuarentena ya no es nada necesaria",
          "La cuarentena ya no es nada necesaria",
          "La cuarentena sigue siendo algo necesaria",
          "La cuarentena ya no es nada necesaria",
          "La cuarentena sigue siendo muy necesaria",
          "La cuarentena sigue siendo muy necesaria",
          "La cuarentena ya no es tan necesaria",
          "La cuarentena sigue siendo muy necesaria",
          "La cuarentena ya no es nada necesaria",
          "La cuarentena sigue siendo muy necesaria",
          "La cuarentena sigue siendo muy necesaria",
          "La cuarentena ya no es nada necesaria",
          "La cuarentena sigue siendo muy necesaria",
          "La cuarentena sigue siendo muy necesaria",
          "La cuarentena sigue siendo muy necesaria",
          "La cuarentena sigue siendo muy necesaria",
          "La cuarentena sigue siendo muy necesaria",
          "La cuarentena ya no es tan necesaria",
          "La cuarentena sigue siendo algo necesaria",
          "La cuarentena sigue siendo muy necesaria",
          "La cuarentena ya no es nada necesaria",
          "La cuarentena ya no es tan necesaria",
          "La cuarentena sigue siendo algo necesaria",
          "La cuarentena sigue siendo muy necesaria",
          "La cuarentena sigue siendo muy necesaria",
          "La cuarentena sigue siendo muy necesaria",
          "La cuarentena ya no es tan necesaria",
          "La cuarentena sigue siendo muy necesaria",
          "La cuarentena sigue siendo algo necesaria",
          "La cuarentena ya no es nada necesaria",
          "La cuarentena sigue siendo muy necesaria",
          "La cuarentena sigue siendo algo necesaria",
          "La cuarentena ya no es tan necesaria",
          "La cuarentena sigue siendo muy necesaria",
          "La cuarentena ya no es tan necesaria",
          "La cuarentena sigue siendo muy necesaria",
          "La cuarentena sigue siendo muy necesaria",
          "La cuarentena sigue siendo algo necesaria",
          "La cuarentena ya no es tan necesaria",
          "La cuarentena sigue siendo muy necesaria",
          "La cuarentena sigue siendo muy necesaria",
          "La cuarentena sigue siendo muy necesaria",
          "La cuarentena sigue siendo muy necesaria",
          "La cuarentena sigue siendo algo necesaria",
          "La cuarentena ya no es tan necesaria",
          "La cuarentena sigue siendo muy necesaria",
          "La cuarentena sigue siendo muy necesaria",
          "La cuarentena sigue siendo muy necesaria",
          "La cuarentena sigue siendo muy necesaria",
          "La cuarentena sigue siendo muy necesaria",
          "La cuarentena ya no es tan necesaria",
          "La cuarentena sigue siendo muy necesaria",
          "La cuarentena ya no es nada necesaria",
          "La cuarentena sigue siendo muy necesaria",
          "La cuarentena sigue siendo muy necesaria",
          "La cuarentena sigue siendo muy necesaria",
          "La cuarentena ya no es tan necesaria",
          "La cuarentena sigue siendo muy necesaria",
          "La cuarentena sigue siendo algo necesaria",
          "La cuarentena sigue siendo muy necesaria",
          "La cuarentena sigue siendo muy necesaria",
          "La cuarentena sigue siendo muy necesaria",
          "La cuarentena sigue siendo muy necesaria",
          "La cuarentena sigue siendo muy necesaria",
          "La cuarentena sigue siendo muy necesaria",
          "La cuarentena sigue siendo muy necesaria",
          "La cuarentena ya no es tan necesaria",
          "La cuarentena ya no es tan necesaria",
          "La cuarentena sigue siendo algo necesaria",
          "La cuarentena ya no es nada necesaria",
          "La cuarentena sigue siendo muy necesaria",
          "La cuarentena sigue siendo muy necesaria",
          "La cuarentena sigue siendo muy necesaria",
          "La cuarentena sigue siendo muy necesaria",
          "La cuarentena ya no es tan necesaria",
          "La cuarentena ya no es tan necesaria",
          "La cuarentena sigue siendo muy necesaria",
          "La cuarentena ya no es tan necesaria",
          "La cuarentena sigue siendo muy necesaria",
          "La cuarentena sigue siendo muy necesaria",
          "La cuarentena sigue siendo muy necesaria",
          "La cuarentena sigue siendo muy necesaria",
          "La cuarentena sigue siendo muy necesaria",
          "La cuarentena sigue siendo muy necesaria",
          "La cuarentena sigue siendo muy necesaria",
          "La cuarentena sigue siendo muy necesaria",
          "La cuarentena sigue siendo muy necesaria",
          "La cuarentena ya no es nada necesaria",
          "La cuarentena sigue siendo muy necesaria",
          "La cuarentena sigue siendo muy necesaria",
          "La cuarentena sigue siendo muy necesaria",
          "La cuarentena sigue siendo muy necesaria",
          "La cuarentena sigue siendo muy necesaria",
          "La cuarentena sigue siendo muy necesaria",
          "La cuarentena sigue siendo muy necesaria",
          "La cuarentena sigue siendo muy necesaria",
          "La cuarentena sigue siendo muy necesaria",
          "La cuarentena sigue siendo algo necesaria",
          "La cuarentena ya no es tan necesaria",
          "La cuarentena ya no es tan necesaria",
          "La cuarentena sigue siendo muy necesaria",
          "La cuarentena ya no es nada necesaria",
          "La cuarentena sigue siendo muy necesaria",
          "La cuarentena ya no es tan necesaria",
          "La cuarentena sigue siendo algo necesaria",
          "La cuarentena ya no es tan necesaria",
          "La cuarentena ya no es nada necesaria",
          "La cuarentena sigue siendo algo necesaria",
          "La cuarentena ya no es nada necesaria",
          "La cuarentena sigue siendo muy necesaria",
          "La cuarentena sigue siendo algo necesaria",
          "La cuarentena ya no es nada necesaria",
          "La cuarentena sigue siendo algo necesaria",
          "La cuarentena ya no es nada necesaria",
          "La cuarentena sigue siendo muy necesaria",
          "La cuarentena ya no es tan necesaria",
          "La cuarentena sigue siendo muy necesaria",
          "La cuarentena ya no es nada necesaria",
          "La cuarentena ya no es nada necesaria",
          "La cuarentena sigue siendo muy necesaria",
          "La cuarentena sigue siendo algo necesaria",
          "La cuarentena sigue siendo muy necesaria",
          "La cuarentena sigue siendo muy necesaria",
          "La cuarentena sigue siendo algo necesaria",
          "La cuarentena ya no es tan necesaria",
          "La cuarentena sigue siendo muy necesaria",
          "La cuarentena sigue siendo muy necesaria",
          "La cuarentena sigue siendo muy necesaria",
          "La cuarentena sigue siendo algo necesaria",
          "La cuarentena sigue siendo muy necesaria",
          "La cuarentena sigue siendo muy necesaria",
          "La cuarentena ya no es nada necesaria",
          "La cuarentena sigue siendo algo necesaria",
          "La cuarentena sigue siendo muy necesaria",
          "La cuarentena sigue siendo algo necesaria",
          "La cuarentena sigue siendo muy necesaria",
          "La cuarentena sigue siendo muy necesaria",
          "La cuarentena sigue siendo muy necesaria",
          null,
          "La cuarentena sigue siendo algo necesaria",
          "La cuarentena sigue siendo muy necesaria",
          "La cuarentena ya no es nada necesaria",
          "La cuarentena sigue siendo muy necesaria",
          "La cuarentena sigue siendo muy necesaria",
          "La cuarentena sigue siendo algo necesaria",
          "La cuarentena sigue siendo muy necesaria",
          "La cuarentena ya no es tan necesaria",
          "La cuarentena sigue siendo muy necesaria",
          "La cuarentena sigue siendo muy necesaria",
          "La cuarentena sigue siendo muy necesaria",
          "La cuarentena sigue siendo muy necesaria",
          "La cuarentena sigue siendo muy necesaria",
          "La cuarentena ya no es tan necesaria",
          "La cuarentena ya no es nada necesaria",
          "La cuarentena ya no es nada necesaria",
          "La cuarentena ya no es tan necesaria",
          "La cuarentena sigue siendo algo necesaria",
          "La cuarentena sigue siendo muy necesaria",
          "La cuarentena sigue siendo algo necesaria",
          "La cuarentena ya no es nada necesaria",
          "La cuarentena sigue siendo muy necesaria",
          "La cuarentena ya no es tan necesaria",
          "La cuarentena ya no es tan necesaria",
          "La cuarentena ya no es tan necesaria",
          "La cuarentena ya no es tan necesaria",
          "La cuarentena ya no es tan necesaria",
          "La cuarentena ya no es nada necesaria",
          "La cuarentena sigue siendo muy necesaria",
          "La cuarentena sigue siendo muy necesaria",
          "La cuarentena sigue siendo muy necesaria",
          "La cuarentena ya no es tan necesaria",
          "La cuarentena sigue siendo muy necesaria",
          "La cuarentena ya no es tan necesaria",
          "La cuarentena ya no es tan necesaria",
          "La cuarentena ya no es tan necesaria",
          "La cuarentena sigue siendo muy necesaria",
          "La cuarentena sigue siendo algo necesaria",
          "La cuarentena sigue siendo algo necesaria",
          "La cuarentena ya no es nada necesaria",
          "La cuarentena sigue siendo muy necesaria",
          "La cuarentena ya no es tan necesaria",
          "La cuarentena ya no es tan necesaria",
          "La cuarentena sigue siendo algo necesaria",
          "La cuarentena sigue siendo muy necesaria",
          "La cuarentena sigue siendo algo necesaria",
          "La cuarentena sigue siendo muy necesaria",
          "La cuarentena ya no es nada necesaria",
          "La cuarentena ya no es tan necesaria",
          "La cuarentena ya no es tan necesaria",
          "La cuarentena sigue siendo muy necesaria",
          "La cuarentena sigue siendo muy necesaria",
          "La cuarentena sigue siendo muy necesaria",
          "La cuarentena sigue siendo algo necesaria",
          "La cuarentena sigue siendo algo necesaria",
          "La cuarentena ya no es nada necesaria",
          "La cuarentena sigue siendo muy necesaria",
          "La cuarentena ya no es tan necesaria",
          "La cuarentena sigue siendo muy necesaria",
          "La cuarentena sigue siendo muy necesaria",
          "La cuarentena sigue siendo muy necesaria",
          "La cuarentena ya no es tan necesaria",
          "La cuarentena sigue siendo muy necesaria",
          "La cuarentena ya no es nada necesaria",
          "La cuarentena sigue siendo algo necesaria",
          "La cuarentena ya no es tan necesaria",
          "La cuarentena sigue siendo muy necesaria",
          "La cuarentena sigue siendo muy necesaria",
          "La cuarentena sigue siendo muy necesaria",
          "La cuarentena sigue siendo muy necesaria",
          "La cuarentena sigue siendo muy necesaria",
          "La cuarentena sigue siendo muy necesaria",
          "La cuarentena sigue siendo muy necesaria",
          "La cuarentena sigue siendo algo necesaria",
          "La cuarentena ya no es tan necesaria",
          "La cuarentena sigue siendo muy necesaria",
          "La cuarentena sigue siendo algo necesaria",
          "La cuarentena ya no es tan necesaria",
          "La cuarentena sigue siendo muy necesaria",
          "La cuarentena ya no es tan necesaria",
          "La cuarentena sigue siendo muy necesaria",
          "La cuarentena ya no es tan necesaria",
          "La cuarentena sigue siendo algo necesaria",
          "La cuarentena sigue siendo muy necesaria",
          "La cuarentena ya no es tan necesaria",
          "La cuarentena sigue siendo muy necesaria",
          "La cuarentena sigue siendo muy necesaria",
          "La cuarentena ya no es nada necesaria",
          "La cuarentena sigue siendo algo necesaria",
          "La cuarentena sigue siendo muy necesaria",
          "La cuarentena ya no es tan necesaria",
          "La cuarentena ya no es tan necesaria",
          "La cuarentena sigue siendo muy necesaria",
          "La cuarentena sigue siendo algo necesaria",
          "La cuarentena ya no es nada necesaria",
          "La cuarentena sigue siendo algo necesaria",
          "La cuarentena ya no es nada necesaria",
          "La cuarentena sigue siendo muy necesaria",
          "La cuarentena ya no es nada necesaria",
          "La cuarentena sigue siendo algo necesaria",
          "La cuarentena sigue siendo muy necesaria",
          "La cuarentena ya no es tan necesaria",
          "La cuarentena ya no es tan necesaria",
          "La cuarentena ya no es tan necesaria",
          "La cuarentena sigue siendo algo necesaria",
          "La cuarentena sigue siendo muy necesaria",
          "La cuarentena sigue siendo muy necesaria",
          "La cuarentena ya no es tan necesaria",
          "La cuarentena ya no es tan necesaria",
          "La cuarentena sigue siendo muy necesaria",
          "La cuarentena sigue siendo algo necesaria",
          "La cuarentena sigue siendo algo necesaria",
          "La cuarentena sigue siendo algo necesaria",
          "La cuarentena sigue siendo algo necesaria",
          "La cuarentena ya no es tan necesaria",
          "La cuarentena sigue siendo algo necesaria",
          "La cuarentena ya no es nada necesaria",
          "La cuarentena sigue siendo algo necesaria",
          "La cuarentena sigue siendo muy necesaria",
          "La cuarentena ya no es nada necesaria",
          "La cuarentena ya no es nada necesaria",
          "La cuarentena sigue siendo muy necesaria",
          "La cuarentena ya no es tan necesaria",
          "La cuarentena ya no es nada necesaria",
          "La cuarentena ya no es tan necesaria",
          "La cuarentena ya no es tan necesaria",
          "La cuarentena sigue siendo algo necesaria",
          "La cuarentena sigue siendo algo necesaria",
          "La cuarentena sigue siendo algo necesaria",
          "La cuarentena ya no es tan necesaria",
          "La cuarentena ya no es nada necesaria",
          "La cuarentena ya no es tan necesaria",
          "La cuarentena ya no es nada necesaria",
          "La cuarentena ya no es tan necesaria",
          "La cuarentena sigue siendo muy necesaria",
          "La cuarentena sigue siendo algo necesaria",
          "La cuarentena sigue siendo muy necesaria",
          "La cuarentena sigue siendo muy necesaria",
          "La cuarentena sigue siendo muy necesaria",
          "La cuarentena sigue siendo muy necesaria",
          "La cuarentena sigue siendo algo necesaria",
          "La cuarentena ya no es tan necesaria",
          "La cuarentena sigue siendo algo necesaria",
          "La cuarentena sigue siendo muy necesaria",
          "La cuarentena ya no es tan necesaria",
          "La cuarentena ya no es nada necesaria",
          "La cuarentena sigue siendo muy necesaria",
          "La cuarentena sigue siendo algo necesaria",
          "La cuarentena sigue siendo muy necesaria",
          "La cuarentena sigue siendo muy necesaria",
          "La cuarentena sigue siendo muy necesaria",
          "La cuarentena sigue siendo muy necesaria",
          "La cuarentena sigue siendo algo necesaria",
          "La cuarentena sigue siendo muy necesaria",
          "La cuarentena sigue siendo algo necesaria",
          "La cuarentena sigue siendo muy necesaria",
          "La cuarentena ya no es tan necesaria",
          "La cuarentena sigue siendo muy necesaria",
          "La cuarentena sigue siendo algo necesaria",
          "La cuarentena sigue siendo muy necesaria",
          "La cuarentena ya no es tan necesaria",
          "La cuarentena sigue siendo muy necesaria",
          "La cuarentena sigue siendo muy necesaria",
          "La cuarentena sigue siendo algo necesaria",
          "La cuarentena sigue siendo muy necesaria",
          "La cuarentena sigue siendo muy necesaria",
          "La cuarentena ya no es tan necesaria",
          "La cuarentena sigue siendo algo necesaria",
          "La cuarentena ya no es tan necesaria",
          "La cuarentena ya no es tan necesaria",
          "La cuarentena sigue siendo muy necesaria",
          "La cuarentena ya no es nada necesaria",
          "La cuarentena ya no es tan necesaria",
          "La cuarentena sigue siendo algo necesaria",
          "La cuarentena sigue siendo muy necesaria",
          "La cuarentena sigue siendo muy necesaria",
          "La cuarentena ya no es tan necesaria",
          "La cuarentena sigue siendo muy necesaria",
          "La cuarentena sigue siendo muy necesaria",
          "La cuarentena sigue siendo muy necesaria",
          "La cuarentena sigue siendo muy necesaria",
          "La cuarentena ya no es nada necesaria",
          "La cuarentena sigue siendo muy necesaria",
          "La cuarentena ya no es nada necesaria",
          "La cuarentena sigue siendo algo necesaria",
          "La cuarentena sigue siendo algo necesaria",
          "La cuarentena sigue siendo muy necesaria",
          "La cuarentena ya no es tan necesaria",
          "La cuarentena sigue siendo muy necesaria",
          "La cuarentena sigue siendo muy necesaria",
          "La cuarentena sigue siendo algo necesaria",
          "La cuarentena sigue siendo muy necesaria",
          "La cuarentena ya no es nada necesaria",
          "La cuarentena sigue siendo algo necesaria",
          "La cuarentena ya no es tan necesaria",
          "La cuarentena sigue siendo algo necesaria",
          "La cuarentena ya no es nada necesaria",
          "La cuarentena ya no es tan necesaria",
          "La cuarentena sigue siendo muy necesaria",
          "La cuarentena sigue siendo muy necesaria",
          "La cuarentena ya no es tan necesaria",
          "La cuarentena ya no es tan necesaria",
          "La cuarentena ya no es tan necesaria",
          "La cuarentena sigue siendo muy necesaria",
          "La cuarentena sigue siendo algo necesaria",
          "La cuarentena sigue siendo muy necesaria",
          "La cuarentena sigue siendo algo necesaria",
          "La cuarentena sigue siendo muy necesaria",
          "La cuarentena ya no es tan necesaria",
          "La cuarentena ya no es tan necesaria",
          "La cuarentena sigue siendo muy necesaria",
          "La cuarentena sigue siendo muy necesaria",
          "La cuarentena sigue siendo muy necesaria",
          "La cuarentena sigue siendo muy necesaria",
          "La cuarentena sigue siendo algo necesaria",
          "La cuarentena sigue siendo muy necesaria",
          "La cuarentena ya no es tan necesaria",
          "La cuarentena sigue siendo muy necesaria",
          "La cuarentena sigue siendo muy necesaria",
          "La cuarentena sigue siendo muy necesaria",
          "La cuarentena ya no es nada necesaria",
          "La cuarentena sigue siendo algo necesaria",
          "La cuarentena ya no es tan necesaria",
          "La cuarentena ya no es tan necesaria",
          "La cuarentena ya no es nada necesaria",
          "La cuarentena sigue siendo muy necesaria",
          "La cuarentena sigue siendo muy necesaria",
          "La cuarentena ya no es tan necesaria",
          "La cuarentena sigue siendo algo necesaria",
          "La cuarentena sigue siendo algo necesaria",
          "La cuarentena sigue siendo muy necesaria",
          "La cuarentena sigue siendo algo necesaria",
          "La cuarentena sigue siendo muy necesaria",
          "La cuarentena sigue siendo muy necesaria",
          "La cuarentena ya no es tan necesaria",
          "La cuarentena sigue siendo muy necesaria",
          "La cuarentena sigue siendo muy necesaria",
          "La cuarentena sigue siendo muy necesaria",
          "La cuarentena sigue siendo muy necesaria",
          "La cuarentena sigue siendo algo necesaria",
          "La cuarentena sigue siendo algo necesaria",
          "La cuarentena sigue siendo algo necesaria",
          "La cuarentena sigue siendo algo necesaria",
          "La cuarentena sigue siendo muy necesaria",
          "La cuarentena sigue siendo algo necesaria",
          "La cuarentena ya no es nada necesaria",
          "La cuarentena sigue siendo algo necesaria",
          "La cuarentena ya no es nada necesaria",
          "La cuarentena sigue siendo algo necesaria",
          "La cuarentena sigue siendo algo necesaria",
          "La cuarentena sigue siendo muy necesaria",
          "La cuarentena sigue siendo muy necesaria",
          "La cuarentena sigue siendo muy necesaria",
          "La cuarentena sigue siendo muy necesaria",
          "La cuarentena sigue siendo muy necesaria",
          "La cuarentena sigue siendo algo necesaria",
          "La cuarentena sigue siendo muy necesaria",
          "La cuarentena sigue siendo muy necesaria",
          "La cuarentena sigue siendo muy necesaria",
          "La cuarentena sigue siendo muy necesaria",
          "La cuarentena sigue siendo algo necesaria",
          "La cuarentena sigue siendo algo necesaria",
          "La cuarentena ya no es nada necesaria",
          "La cuarentena sigue siendo muy necesaria",
          "La cuarentena ya no es tan necesaria",
          "La cuarentena sigue siendo algo necesaria",
          "La cuarentena sigue siendo muy necesaria",
          "La cuarentena sigue siendo algo necesaria",
          "La cuarentena sigue siendo muy necesaria",
          "La cuarentena ya no es tan necesaria",
          "La cuarentena ya no es nada necesaria",
          "La cuarentena sigue siendo muy necesaria",
          "La cuarentena sigue siendo muy necesaria",
          "La cuarentena sigue siendo algo necesaria",
          "La cuarentena sigue siendo muy necesaria",
          "La cuarentena sigue siendo muy necesaria",
          "La cuarentena sigue siendo muy necesaria",
          "La cuarentena sigue siendo muy necesaria",
          "La cuarentena sigue siendo muy necesaria",
          "La cuarentena ya no es tan necesaria",
          "La cuarentena sigue siendo muy necesaria",
          "La cuarentena ya no es tan necesaria",
          "La cuarentena sigue siendo algo necesaria",
          "La cuarentena ya no es tan necesaria",
          "La cuarentena sigue siendo muy necesaria",
          "La cuarentena sigue siendo muy necesaria",
          "La cuarentena sigue siendo muy necesaria",
          "La cuarentena sigue siendo muy necesaria",
          "La cuarentena sigue siendo muy necesaria",
          "La cuarentena sigue siendo muy necesaria",
          "La cuarentena sigue siendo muy necesaria",
          "La cuarentena sigue siendo muy necesaria",
          "La cuarentena sigue siendo algo necesaria",
          "La cuarentena ya no es nada necesaria",
          "La cuarentena sigue siendo muy necesaria",
          "La cuarentena sigue siendo muy necesaria",
          "La cuarentena sigue siendo muy necesaria",
          "La cuarentena ya no es tan necesaria",
          "La cuarentena sigue siendo muy necesaria",
          "La cuarentena sigue siendo algo necesaria",
          "La cuarentena sigue siendo muy necesaria",
          "La cuarentena sigue siendo algo necesaria",
          "La cuarentena sigue siendo algo necesaria",
          "La cuarentena sigue siendo muy necesaria",
          "La cuarentena ya no es nada necesaria",
          "La cuarentena sigue siendo muy necesaria",
          "La cuarentena ya no es tan necesaria",
          "La cuarentena ya no es nada necesaria",
          "La cuarentena sigue siendo muy necesaria",
          "La cuarentena ya no es tan necesaria",
          "La cuarentena ya no es tan necesaria",
          "La cuarentena ya no es nada necesaria",
          "La cuarentena sigue siendo algo necesaria",
          "La cuarentena sigue siendo muy necesaria",
          "La cuarentena sigue siendo muy necesaria",
          "La cuarentena sigue siendo muy necesaria",
          "La cuarentena sigue siendo algo necesaria",
          "La cuarentena ya no es tan necesaria",
          "La cuarentena ya no es nada necesaria",
          "La cuarentena sigue siendo algo necesaria",
          "La cuarentena sigue siendo muy necesaria",
          "La cuarentena ya no es nada necesaria",
          "La cuarentena ya no es tan necesaria",
          "La cuarentena sigue siendo algo necesaria",
          "La cuarentena sigue siendo muy necesaria",
          "La cuarentena ya no es tan necesaria",
          "La cuarentena sigue siendo muy necesaria",
          "La cuarentena sigue siendo algo necesaria",
          "La cuarentena ya no es nada necesaria",
          "La cuarentena sigue siendo muy necesaria",
          "La cuarentena sigue siendo algo necesaria",
          "La cuarentena ya no es tan necesaria",
          "La cuarentena sigue siendo muy necesaria",
          "La cuarentena ya no es nada necesaria",
          "La cuarentena sigue siendo algo necesaria",
          "La cuarentena ya no es nada necesaria",
          "La cuarentena ya no es nada necesaria",
          "La cuarentena sigue siendo muy necesaria",
          "La cuarentena ya no es tan necesaria",
          "La cuarentena ya no es nada necesaria",
          "La cuarentena ya no es tan necesaria",
          "La cuarentena sigue siendo muy necesaria",
          "La cuarentena ya no es nada necesaria",
          "La cuarentena sigue siendo algo necesaria",
          "La cuarentena ya no es tan necesaria",
          "La cuarentena sigue siendo algo necesaria",
          "La cuarentena ya no es nada necesaria",
          "La cuarentena ya no es tan necesaria",
          "La cuarentena sigue siendo algo necesaria",
          "La cuarentena ya no es nada necesaria",
          "La cuarentena ya no es tan necesaria",
          "La cuarentena sigue siendo algo necesaria",
          "La cuarentena sigue siendo algo necesaria",
          "La cuarentena ya no es nada necesaria",
          "La cuarentena ya no es tan necesaria",
          "La cuarentena sigue siendo algo necesaria",
          "La cuarentena ya no es nada necesaria",
          "La cuarentena sigue siendo muy necesaria",
          "La cuarentena sigue siendo muy necesaria",
          "La cuarentena sigue siendo muy necesaria",
          "La cuarentena sigue siendo muy necesaria",
          "La cuarentena sigue siendo muy necesaria",
          "La cuarentena ya no es nada necesaria",
          "La cuarentena ya no es nada necesaria",
          "La cuarentena sigue siendo algo necesaria",
          "La cuarentena sigue siendo algo necesaria",
          "La cuarentena sigue siendo muy necesaria",
          "La cuarentena sigue siendo algo necesaria",
          "La cuarentena ya no es tan necesaria",
          "La cuarentena sigue siendo algo necesaria",
          "La cuarentena ya no es nada necesaria",
          "La cuarentena sigue siendo muy necesaria",
          "La cuarentena sigue siendo muy necesaria",
          "La cuarentena sigue siendo algo necesaria",
          "La cuarentena ya no es nada necesaria",
          "La cuarentena sigue siendo muy necesaria",
          "La cuarentena sigue siendo algo necesaria",
          "La cuarentena sigue siendo algo necesaria",
          "La cuarentena ya no es nada necesaria",
          "La cuarentena sigue siendo muy necesaria",
          "La cuarentena sigue siendo muy necesaria",
          "La cuarentena sigue siendo muy necesaria",
          "La cuarentena ya no es nada necesaria",
          "La cuarentena sigue siendo muy necesaria",
          "La cuarentena sigue siendo muy necesaria",
          "La cuarentena ya no es nada necesaria",
          "La cuarentena sigue siendo muy necesaria",
          "La cuarentena sigue siendo muy necesaria",
          "La cuarentena sigue siendo muy necesaria",
          "La cuarentena ya no es tan necesaria",
          "La cuarentena sigue siendo muy necesaria",
          "La cuarentena sigue siendo algo necesaria",
          "La cuarentena sigue siendo muy necesaria",
          "La cuarentena sigue siendo muy necesaria",
          "La cuarentena sigue siendo algo necesaria",
          "La cuarentena sigue siendo muy necesaria",
          "La cuarentena ya no es nada necesaria",
          "La cuarentena sigue siendo algo necesaria",
          "La cuarentena ya no es nada necesaria",
          "La cuarentena sigue siendo muy necesaria",
          "La cuarentena ya no es tan necesaria",
          "La cuarentena sigue siendo algo necesaria",
          "La cuarentena ya no es nada necesaria"
         ],
         "xaxis": "x",
         "yaxis": "y"
        }
       ],
       "layout": {
        "barmode": "relative",
        "height": 600,
        "legend": {
         "tracegroupgap": 0
        },
        "template": {
         "data": {
          "bar": [
           {
            "error_x": {
             "color": "#2a3f5f"
            },
            "error_y": {
             "color": "#2a3f5f"
            },
            "marker": {
             "line": {
              "color": "#E5ECF6",
              "width": 0.5
             }
            },
            "type": "bar"
           }
          ],
          "barpolar": [
           {
            "marker": {
             "line": {
              "color": "#E5ECF6",
              "width": 0.5
             }
            },
            "type": "barpolar"
           }
          ],
          "carpet": [
           {
            "aaxis": {
             "endlinecolor": "#2a3f5f",
             "gridcolor": "white",
             "linecolor": "white",
             "minorgridcolor": "white",
             "startlinecolor": "#2a3f5f"
            },
            "baxis": {
             "endlinecolor": "#2a3f5f",
             "gridcolor": "white",
             "linecolor": "white",
             "minorgridcolor": "white",
             "startlinecolor": "#2a3f5f"
            },
            "type": "carpet"
           }
          ],
          "choropleth": [
           {
            "colorbar": {
             "outlinewidth": 0,
             "ticks": ""
            },
            "type": "choropleth"
           }
          ],
          "contour": [
           {
            "colorbar": {
             "outlinewidth": 0,
             "ticks": ""
            },
            "colorscale": [
             [
              0,
              "#0d0887"
             ],
             [
              0.1111111111111111,
              "#46039f"
             ],
             [
              0.2222222222222222,
              "#7201a8"
             ],
             [
              0.3333333333333333,
              "#9c179e"
             ],
             [
              0.4444444444444444,
              "#bd3786"
             ],
             [
              0.5555555555555556,
              "#d8576b"
             ],
             [
              0.6666666666666666,
              "#ed7953"
             ],
             [
              0.7777777777777778,
              "#fb9f3a"
             ],
             [
              0.8888888888888888,
              "#fdca26"
             ],
             [
              1,
              "#f0f921"
             ]
            ],
            "type": "contour"
           }
          ],
          "contourcarpet": [
           {
            "colorbar": {
             "outlinewidth": 0,
             "ticks": ""
            },
            "type": "contourcarpet"
           }
          ],
          "heatmap": [
           {
            "colorbar": {
             "outlinewidth": 0,
             "ticks": ""
            },
            "colorscale": [
             [
              0,
              "#0d0887"
             ],
             [
              0.1111111111111111,
              "#46039f"
             ],
             [
              0.2222222222222222,
              "#7201a8"
             ],
             [
              0.3333333333333333,
              "#9c179e"
             ],
             [
              0.4444444444444444,
              "#bd3786"
             ],
             [
              0.5555555555555556,
              "#d8576b"
             ],
             [
              0.6666666666666666,
              "#ed7953"
             ],
             [
              0.7777777777777778,
              "#fb9f3a"
             ],
             [
              0.8888888888888888,
              "#fdca26"
             ],
             [
              1,
              "#f0f921"
             ]
            ],
            "type": "heatmap"
           }
          ],
          "heatmapgl": [
           {
            "colorbar": {
             "outlinewidth": 0,
             "ticks": ""
            },
            "colorscale": [
             [
              0,
              "#0d0887"
             ],
             [
              0.1111111111111111,
              "#46039f"
             ],
             [
              0.2222222222222222,
              "#7201a8"
             ],
             [
              0.3333333333333333,
              "#9c179e"
             ],
             [
              0.4444444444444444,
              "#bd3786"
             ],
             [
              0.5555555555555556,
              "#d8576b"
             ],
             [
              0.6666666666666666,
              "#ed7953"
             ],
             [
              0.7777777777777778,
              "#fb9f3a"
             ],
             [
              0.8888888888888888,
              "#fdca26"
             ],
             [
              1,
              "#f0f921"
             ]
            ],
            "type": "heatmapgl"
           }
          ],
          "histogram": [
           {
            "marker": {
             "colorbar": {
              "outlinewidth": 0,
              "ticks": ""
             }
            },
            "type": "histogram"
           }
          ],
          "histogram2d": [
           {
            "colorbar": {
             "outlinewidth": 0,
             "ticks": ""
            },
            "colorscale": [
             [
              0,
              "#0d0887"
             ],
             [
              0.1111111111111111,
              "#46039f"
             ],
             [
              0.2222222222222222,
              "#7201a8"
             ],
             [
              0.3333333333333333,
              "#9c179e"
             ],
             [
              0.4444444444444444,
              "#bd3786"
             ],
             [
              0.5555555555555556,
              "#d8576b"
             ],
             [
              0.6666666666666666,
              "#ed7953"
             ],
             [
              0.7777777777777778,
              "#fb9f3a"
             ],
             [
              0.8888888888888888,
              "#fdca26"
             ],
             [
              1,
              "#f0f921"
             ]
            ],
            "type": "histogram2d"
           }
          ],
          "histogram2dcontour": [
           {
            "colorbar": {
             "outlinewidth": 0,
             "ticks": ""
            },
            "colorscale": [
             [
              0,
              "#0d0887"
             ],
             [
              0.1111111111111111,
              "#46039f"
             ],
             [
              0.2222222222222222,
              "#7201a8"
             ],
             [
              0.3333333333333333,
              "#9c179e"
             ],
             [
              0.4444444444444444,
              "#bd3786"
             ],
             [
              0.5555555555555556,
              "#d8576b"
             ],
             [
              0.6666666666666666,
              "#ed7953"
             ],
             [
              0.7777777777777778,
              "#fb9f3a"
             ],
             [
              0.8888888888888888,
              "#fdca26"
             ],
             [
              1,
              "#f0f921"
             ]
            ],
            "type": "histogram2dcontour"
           }
          ],
          "mesh3d": [
           {
            "colorbar": {
             "outlinewidth": 0,
             "ticks": ""
            },
            "type": "mesh3d"
           }
          ],
          "parcoords": [
           {
            "line": {
             "colorbar": {
              "outlinewidth": 0,
              "ticks": ""
             }
            },
            "type": "parcoords"
           }
          ],
          "pie": [
           {
            "automargin": true,
            "type": "pie"
           }
          ],
          "scatter": [
           {
            "marker": {
             "colorbar": {
              "outlinewidth": 0,
              "ticks": ""
             }
            },
            "type": "scatter"
           }
          ],
          "scatter3d": [
           {
            "line": {
             "colorbar": {
              "outlinewidth": 0,
              "ticks": ""
             }
            },
            "marker": {
             "colorbar": {
              "outlinewidth": 0,
              "ticks": ""
             }
            },
            "type": "scatter3d"
           }
          ],
          "scattercarpet": [
           {
            "marker": {
             "colorbar": {
              "outlinewidth": 0,
              "ticks": ""
             }
            },
            "type": "scattercarpet"
           }
          ],
          "scattergeo": [
           {
            "marker": {
             "colorbar": {
              "outlinewidth": 0,
              "ticks": ""
             }
            },
            "type": "scattergeo"
           }
          ],
          "scattergl": [
           {
            "marker": {
             "colorbar": {
              "outlinewidth": 0,
              "ticks": ""
             }
            },
            "type": "scattergl"
           }
          ],
          "scattermapbox": [
           {
            "marker": {
             "colorbar": {
              "outlinewidth": 0,
              "ticks": ""
             }
            },
            "type": "scattermapbox"
           }
          ],
          "scatterpolar": [
           {
            "marker": {
             "colorbar": {
              "outlinewidth": 0,
              "ticks": ""
             }
            },
            "type": "scatterpolar"
           }
          ],
          "scatterpolargl": [
           {
            "marker": {
             "colorbar": {
              "outlinewidth": 0,
              "ticks": ""
             }
            },
            "type": "scatterpolargl"
           }
          ],
          "scatterternary": [
           {
            "marker": {
             "colorbar": {
              "outlinewidth": 0,
              "ticks": ""
             }
            },
            "type": "scatterternary"
           }
          ],
          "surface": [
           {
            "colorbar": {
             "outlinewidth": 0,
             "ticks": ""
            },
            "colorscale": [
             [
              0,
              "#0d0887"
             ],
             [
              0.1111111111111111,
              "#46039f"
             ],
             [
              0.2222222222222222,
              "#7201a8"
             ],
             [
              0.3333333333333333,
              "#9c179e"
             ],
             [
              0.4444444444444444,
              "#bd3786"
             ],
             [
              0.5555555555555556,
              "#d8576b"
             ],
             [
              0.6666666666666666,
              "#ed7953"
             ],
             [
              0.7777777777777778,
              "#fb9f3a"
             ],
             [
              0.8888888888888888,
              "#fdca26"
             ],
             [
              1,
              "#f0f921"
             ]
            ],
            "type": "surface"
           }
          ],
          "table": [
           {
            "cells": {
             "fill": {
              "color": "#EBF0F8"
             },
             "line": {
              "color": "white"
             }
            },
            "header": {
             "fill": {
              "color": "#C8D4E3"
             },
             "line": {
              "color": "white"
             }
            },
            "type": "table"
           }
          ]
         },
         "layout": {
          "annotationdefaults": {
           "arrowcolor": "#2a3f5f",
           "arrowhead": 0,
           "arrowwidth": 1
          },
          "coloraxis": {
           "colorbar": {
            "outlinewidth": 0,
            "ticks": ""
           }
          },
          "colorscale": {
           "diverging": [
            [
             0,
             "#8e0152"
            ],
            [
             0.1,
             "#c51b7d"
            ],
            [
             0.2,
             "#de77ae"
            ],
            [
             0.3,
             "#f1b6da"
            ],
            [
             0.4,
             "#fde0ef"
            ],
            [
             0.5,
             "#f7f7f7"
            ],
            [
             0.6,
             "#e6f5d0"
            ],
            [
             0.7,
             "#b8e186"
            ],
            [
             0.8,
             "#7fbc41"
            ],
            [
             0.9,
             "#4d9221"
            ],
            [
             1,
             "#276419"
            ]
           ],
           "sequential": [
            [
             0,
             "#0d0887"
            ],
            [
             0.1111111111111111,
             "#46039f"
            ],
            [
             0.2222222222222222,
             "#7201a8"
            ],
            [
             0.3333333333333333,
             "#9c179e"
            ],
            [
             0.4444444444444444,
             "#bd3786"
            ],
            [
             0.5555555555555556,
             "#d8576b"
            ],
            [
             0.6666666666666666,
             "#ed7953"
            ],
            [
             0.7777777777777778,
             "#fb9f3a"
            ],
            [
             0.8888888888888888,
             "#fdca26"
            ],
            [
             1,
             "#f0f921"
            ]
           ],
           "sequentialminus": [
            [
             0,
             "#0d0887"
            ],
            [
             0.1111111111111111,
             "#46039f"
            ],
            [
             0.2222222222222222,
             "#7201a8"
            ],
            [
             0.3333333333333333,
             "#9c179e"
            ],
            [
             0.4444444444444444,
             "#bd3786"
            ],
            [
             0.5555555555555556,
             "#d8576b"
            ],
            [
             0.6666666666666666,
             "#ed7953"
            ],
            [
             0.7777777777777778,
             "#fb9f3a"
            ],
            [
             0.8888888888888888,
             "#fdca26"
            ],
            [
             1,
             "#f0f921"
            ]
           ]
          },
          "colorway": [
           "#636efa",
           "#EF553B",
           "#00cc96",
           "#ab63fa",
           "#FFA15A",
           "#19d3f3",
           "#FF6692",
           "#B6E880",
           "#FF97FF",
           "#FECB52"
          ],
          "font": {
           "color": "#2a3f5f"
          },
          "geo": {
           "bgcolor": "white",
           "lakecolor": "white",
           "landcolor": "#E5ECF6",
           "showlakes": true,
           "showland": true,
           "subunitcolor": "white"
          },
          "hoverlabel": {
           "align": "left"
          },
          "hovermode": "closest",
          "mapbox": {
           "style": "light"
          },
          "paper_bgcolor": "white",
          "plot_bgcolor": "#E5ECF6",
          "polar": {
           "angularaxis": {
            "gridcolor": "white",
            "linecolor": "white",
            "ticks": ""
           },
           "bgcolor": "#E5ECF6",
           "radialaxis": {
            "gridcolor": "white",
            "linecolor": "white",
            "ticks": ""
           }
          },
          "scene": {
           "xaxis": {
            "backgroundcolor": "#E5ECF6",
            "gridcolor": "white",
            "gridwidth": 2,
            "linecolor": "white",
            "showbackground": true,
            "ticks": "",
            "zerolinecolor": "white"
           },
           "yaxis": {
            "backgroundcolor": "#E5ECF6",
            "gridcolor": "white",
            "gridwidth": 2,
            "linecolor": "white",
            "showbackground": true,
            "ticks": "",
            "zerolinecolor": "white"
           },
           "zaxis": {
            "backgroundcolor": "#E5ECF6",
            "gridcolor": "white",
            "gridwidth": 2,
            "linecolor": "white",
            "showbackground": true,
            "ticks": "",
            "zerolinecolor": "white"
           }
          },
          "shapedefaults": {
           "line": {
            "color": "#2a3f5f"
           }
          },
          "ternary": {
           "aaxis": {
            "gridcolor": "white",
            "linecolor": "white",
            "ticks": ""
           },
           "baxis": {
            "gridcolor": "white",
            "linecolor": "white",
            "ticks": ""
           },
           "bgcolor": "#E5ECF6",
           "caxis": {
            "gridcolor": "white",
            "linecolor": "white",
            "ticks": ""
           }
          },
          "title": {
           "x": 0.05
          },
          "xaxis": {
           "automargin": true,
           "gridcolor": "white",
           "linecolor": "white",
           "ticks": "",
           "title": {
            "standoff": 15
           },
           "zerolinecolor": "white",
           "zerolinewidth": 2
          },
          "yaxis": {
           "automargin": true,
           "gridcolor": "white",
           "linecolor": "white",
           "ticks": "",
           "title": {
            "standoff": 15
           },
           "zerolinecolor": "white",
           "zerolinewidth": 2
          }
         }
        },
        "title": {
         "text": "Opiniones sobre la cuarentena"
        },
        "xaxis": {
         "anchor": "y",
         "domain": [
          0,
          1
         ],
         "title": {
          "text": " "
         }
        },
        "yaxis": {
         "anchor": "x",
         "domain": [
          0,
          1
         ],
         "title": {
          "text": " "
         }
        }
       }
      },
      "text/html": [
       "<div>\n",
       "        \n",
       "        \n",
       "            <div id=\"9e9e0148-6169-4c47-bb77-080bfab77642\" class=\"plotly-graph-div\" style=\"height:600px; width:100%;\"></div>\n",
       "            <script type=\"text/javascript\">\n",
       "                require([\"plotly\"], function(Plotly) {\n",
       "                    window.PLOTLYENV=window.PLOTLYENV || {};\n",
       "                    \n",
       "                if (document.getElementById(\"9e9e0148-6169-4c47-bb77-080bfab77642\")) {\n",
       "                    Plotly.newPlot(\n",
       "                        '9e9e0148-6169-4c47-bb77-080bfab77642',\n",
       "                        [{\"alignmentgroup\": \"True\", \"bingroup\": \"x\", \"hoverlabel\": {\"namelength\": 0}, \"hovertemplate\": \"opinion=%{x}<br>count=%{y}\", \"legendgroup\": \"\", \"marker\": {\"color\": \"#636efa\"}, \"name\": \"\", \"offsetgroup\": \"\", \"orientation\": \"v\", \"showlegend\": false, \"type\": \"histogram\", \"x\": [\"La cuarentena ya no es tan necesaria\", \"La cuarentena ya no es nada necesaria\", \"La cuarentena sigue siendo muy necesaria\", \"La cuarentena ya no es tan necesaria\", \"La cuarentena sigue siendo muy necesaria\", \"La cuarentena ya no es nada necesaria\", \"La cuarentena ya no es tan necesaria\", \"La cuarentena sigue siendo muy necesaria\", \"La cuarentena ya no es tan necesaria\", \"La cuarentena sigue siendo muy necesaria\", \"La cuarentena sigue siendo muy necesaria\", \"La cuarentena sigue siendo muy necesaria\", \"La cuarentena sigue siendo algo necesaria\", \"La cuarentena ya no es tan necesaria\", \"La cuarentena sigue siendo muy necesaria\", \"La cuarentena sigue siendo muy necesaria\", \"La cuarentena sigue siendo muy necesaria\", \"La cuarentena sigue siendo algo necesaria\", \"La cuarentena ya no es nada necesaria\", \"La cuarentena sigue siendo muy necesaria\", \"La cuarentena ya no es tan necesaria\", \"La cuarentena sigue siendo algo necesaria\", \"La cuarentena sigue siendo muy necesaria\", \"La cuarentena sigue siendo muy necesaria\", \"La cuarentena ya no es nada necesaria\", \"La cuarentena sigue siendo muy necesaria\", \"La cuarentena ya no es tan necesaria\", \"La cuarentena sigue siendo algo necesaria\", \"La cuarentena sigue siendo algo necesaria\", \"La cuarentena sigue siendo muy necesaria\", \"La cuarentena sigue siendo muy necesaria\", \"La cuarentena sigue siendo muy necesaria\", \"La cuarentena sigue siendo muy necesaria\", \"La cuarentena sigue siendo algo necesaria\", \"La cuarentena sigue siendo muy necesaria\", \"La cuarentena sigue siendo algo necesaria\", \"La cuarentena sigue siendo muy necesaria\", \"La cuarentena ya no es tan necesaria\", \"La cuarentena sigue siendo muy necesaria\", \"La cuarentena sigue siendo muy necesaria\", \"La cuarentena ya no es tan necesaria\", \"La cuarentena sigue siendo algo necesaria\", \"La cuarentena sigue siendo algo necesaria\", \"La cuarentena sigue siendo algo necesaria\", \"La cuarentena sigue siendo muy necesaria\", \"La cuarentena sigue siendo muy necesaria\", \"La cuarentena sigue siendo muy necesaria\", \"La cuarentena sigue siendo muy necesaria\", \"La cuarentena sigue siendo algo necesaria\", \"La cuarentena sigue siendo muy necesaria\", \"La cuarentena sigue siendo algo necesaria\", \"La cuarentena sigue siendo muy necesaria\", \"La cuarentena sigue siendo muy necesaria\", \"La cuarentena ya no es tan necesaria\", \"La cuarentena sigue siendo muy necesaria\", \"La cuarentena sigue siendo muy necesaria\", \"La cuarentena sigue siendo muy necesaria\", \"La cuarentena sigue siendo muy necesaria\", \"La cuarentena ya no es nada necesaria\", \"La cuarentena sigue siendo algo necesaria\", \"La cuarentena sigue siendo muy necesaria\", \"La cuarentena sigue siendo algo necesaria\", \"La cuarentena ya no es nada necesaria\", \"La cuarentena ya no es nada necesaria\", \"La cuarentena ya no es tan necesaria\", \"La cuarentena ya no es nada necesaria\", \"La cuarentena sigue siendo algo necesaria\", \"La cuarentena sigue siendo muy necesaria\", \"La cuarentena sigue siendo muy necesaria\", \"La cuarentena ya no es nada necesaria\", \"La cuarentena ya no es nada necesaria\", \"La cuarentena ya no es tan necesaria\", \"La cuarentena ya no es tan necesaria\", \"La cuarentena sigue siendo algo necesaria\", \"La cuarentena sigue siendo muy necesaria\", \"La cuarentena ya no es tan necesaria\", \"La cuarentena ya no es tan necesaria\", \"La cuarentena sigue siendo algo necesaria\", \"La cuarentena sigue siendo algo necesaria\", \"La cuarentena sigue siendo muy necesaria\", \"La cuarentena sigue siendo muy necesaria\", \"La cuarentena sigue siendo algo necesaria\", \"La cuarentena ya no es nada necesaria\", \"La cuarentena ya no es tan necesaria\", \"La cuarentena sigue siendo muy necesaria\", \"La cuarentena ya no es tan necesaria\", \"La cuarentena sigue siendo algo necesaria\", \"La cuarentena ya no es nada necesaria\", \"La cuarentena sigue siendo muy necesaria\", \"La cuarentena sigue siendo muy necesaria\", \"La cuarentena sigue siendo algo necesaria\", \"La cuarentena ya no es nada necesaria\", \"La cuarentena ya no es tan necesaria\", \"La cuarentena ya no es tan necesaria\", \"La cuarentena ya no es tan necesaria\", \"La cuarentena sigue siendo algo necesaria\", \"La cuarentena sigue siendo muy necesaria\", \"La cuarentena sigue siendo muy necesaria\", \"La cuarentena sigue siendo muy necesaria\", \"La cuarentena ya no es tan necesaria\", \"La cuarentena sigue siendo muy necesaria\", \"La cuarentena ya no es tan necesaria\", \"La cuarentena sigue siendo muy necesaria\", \"La cuarentena ya no es nada necesaria\", \"La cuarentena sigue siendo muy necesaria\", \"La cuarentena sigue siendo muy necesaria\", \"La cuarentena sigue siendo algo necesaria\", \"La cuarentena ya no es nada necesaria\", \"La cuarentena sigue siendo muy necesaria\", \"La cuarentena sigue siendo muy necesaria\", \"La cuarentena sigue siendo algo necesaria\", \"La cuarentena sigue siendo muy necesaria\", \"La cuarentena ya no es tan necesaria\", \"La cuarentena ya no es nada necesaria\", \"La cuarentena sigue siendo muy necesaria\", \"La cuarentena sigue siendo algo necesaria\", \"La cuarentena sigue siendo muy necesaria\", \"La cuarentena ya no es nada necesaria\", \"La cuarentena sigue siendo muy necesaria\", \"La cuarentena sigue siendo muy necesaria\", \"La cuarentena ya no es nada necesaria\", \"La cuarentena sigue siendo muy necesaria\", \"La cuarentena sigue siendo muy necesaria\", \"La cuarentena ya no es nada necesaria\", \"La cuarentena sigue siendo muy necesaria\", \"La cuarentena sigue siendo muy necesaria\", \"La cuarentena sigue siendo muy necesaria\", \"La cuarentena sigue siendo muy necesaria\", \"La cuarentena sigue siendo muy necesaria\", \"La cuarentena sigue siendo algo necesaria\", \"La cuarentena ya no es nada necesaria\", \"La cuarentena sigue siendo muy necesaria\", \"La cuarentena sigue siendo muy necesaria\", \"La cuarentena ya no es nada necesaria\", \"La cuarentena sigue siendo algo necesaria\", \"La cuarentena sigue siendo muy necesaria\", \"La cuarentena sigue siendo algo necesaria\", \"La cuarentena sigue siendo algo necesaria\", \"La cuarentena sigue siendo algo necesaria\", \"La cuarentena sigue siendo algo necesaria\", \"La cuarentena ya no es tan necesaria\", \"La cuarentena ya no es tan necesaria\", \"La cuarentena sigue siendo algo necesaria\", \"La cuarentena ya no es nada necesaria\", \"La cuarentena ya no es tan necesaria\", \"La cuarentena sigue siendo algo necesaria\", \"La cuarentena sigue siendo muy necesaria\", \"La cuarentena ya no es tan necesaria\", \"La cuarentena sigue siendo algo necesaria\", \"La cuarentena sigue siendo algo necesaria\", \"La cuarentena sigue siendo algo necesaria\", \"La cuarentena ya no es tan necesaria\", \"La cuarentena sigue siendo muy necesaria\", \"La cuarentena sigue siendo muy necesaria\", \"La cuarentena sigue siendo algo necesaria\", \"La cuarentena ya no es tan necesaria\", \"La cuarentena sigue siendo muy necesaria\", \"La cuarentena ya no es nada necesaria\", \"La cuarentena sigue siendo muy necesaria\", \"La cuarentena sigue siendo muy necesaria\", \"La cuarentena sigue siendo muy necesaria\", \"La cuarentena sigue siendo muy necesaria\", \"La cuarentena sigue siendo muy necesaria\", \"La cuarentena ya no es nada necesaria\", \"La cuarentena sigue siendo muy necesaria\", \"La cuarentena sigue siendo muy necesaria\", \"La cuarentena sigue siendo muy necesaria\", \"La cuarentena sigue siendo muy necesaria\", \"La cuarentena sigue siendo algo necesaria\", \"La cuarentena sigue siendo muy necesaria\", \"La cuarentena ya no es nada necesaria\", \"La cuarentena sigue siendo muy necesaria\", \"La cuarentena sigue siendo muy necesaria\", \"La cuarentena sigue siendo muy necesaria\", \"La cuarentena sigue siendo algo necesaria\", \"La cuarentena ya no es nada necesaria\", \"La cuarentena sigue siendo muy necesaria\", \"La cuarentena ya no es tan necesaria\", \"La cuarentena sigue siendo muy necesaria\", \"La cuarentena sigue siendo muy necesaria\", \"La cuarentena ya no es tan necesaria\", \"La cuarentena sigue siendo algo necesaria\", \"La cuarentena sigue siendo muy necesaria\", \"La cuarentena sigue siendo muy necesaria\", \"La cuarentena sigue siendo algo necesaria\", \"La cuarentena sigue siendo muy necesaria\", \"La cuarentena sigue siendo algo necesaria\", \"La cuarentena sigue siendo muy necesaria\", \"La cuarentena ya no es tan necesaria\", \"La cuarentena ya no es nada necesaria\", \"La cuarentena ya no es tan necesaria\", \"La cuarentena sigue siendo muy necesaria\", \"La cuarentena sigue siendo algo necesaria\", \"La cuarentena ya no es tan necesaria\", \"La cuarentena ya no es nada necesaria\", \"La cuarentena sigue siendo muy necesaria\", \"La cuarentena sigue siendo muy necesaria\", \"La cuarentena sigue siendo algo necesaria\", \"La cuarentena sigue siendo muy necesaria\", \"La cuarentena sigue siendo algo necesaria\", \"La cuarentena sigue siendo algo necesaria\", \"La cuarentena sigue siendo muy necesaria\", \"La cuarentena sigue siendo algo necesaria\", \"La cuarentena sigue siendo muy necesaria\", \"La cuarentena sigue siendo algo necesaria\", \"La cuarentena ya no es nada necesaria\", \"La cuarentena sigue siendo algo necesaria\", \"La cuarentena sigue siendo algo necesaria\", \"La cuarentena sigue siendo muy necesaria\", \"La cuarentena sigue siendo muy necesaria\", \"La cuarentena sigue siendo algo necesaria\", \"La cuarentena sigue siendo algo necesaria\", \"La cuarentena ya no es nada necesaria\", \"La cuarentena sigue siendo algo necesaria\", \"La cuarentena sigue siendo muy necesaria\", \"La cuarentena ya no es tan necesaria\", \"La cuarentena ya no es nada necesaria\", \"La cuarentena sigue siendo muy necesaria\", \"La cuarentena sigue siendo muy necesaria\", null, \"La cuarentena sigue siendo muy necesaria\", \"La cuarentena sigue siendo muy necesaria\", \"La cuarentena ya no es tan necesaria\", \"La cuarentena sigue siendo muy necesaria\", \"La cuarentena ya no es tan necesaria\", \"La cuarentena sigue siendo muy necesaria\", \"La cuarentena sigue siendo muy necesaria\", \"La cuarentena ya no es tan necesaria\", \"La cuarentena ya no es tan necesaria\", \"La cuarentena ya no es nada necesaria\", \"La cuarentena sigue siendo muy necesaria\", \"La cuarentena sigue siendo muy necesaria\", \"La cuarentena ya no es nada necesaria\", \"La cuarentena sigue siendo muy necesaria\", \"La cuarentena sigue siendo algo necesaria\", \"La cuarentena ya no es tan necesaria\", \"La cuarentena sigue siendo algo necesaria\", \"La cuarentena ya no es tan necesaria\", \"La cuarentena ya no es tan necesaria\", \"La cuarentena ya no es tan necesaria\", \"La cuarentena sigue siendo muy necesaria\", \"La cuarentena sigue siendo muy necesaria\", \"La cuarentena sigue siendo muy necesaria\", \"La cuarentena sigue siendo muy necesaria\", \"La cuarentena sigue siendo algo necesaria\", \"La cuarentena ya no es tan necesaria\", \"La cuarentena sigue siendo muy necesaria\", \"La cuarentena sigue siendo muy necesaria\", \"La cuarentena sigue siendo algo necesaria\", \"La cuarentena sigue siendo muy necesaria\", \"La cuarentena sigue siendo muy necesaria\", \"La cuarentena sigue siendo muy necesaria\", \"La cuarentena sigue siendo muy necesaria\", \"La cuarentena sigue siendo algo necesaria\", \"La cuarentena ya no es tan necesaria\", \"La cuarentena sigue siendo algo necesaria\", null, \"La cuarentena sigue siendo algo necesaria\", \"La cuarentena sigue siendo muy necesaria\", \"La cuarentena sigue siendo algo necesaria\", \"La cuarentena ya no es tan necesaria\", \"La cuarentena ya no es tan necesaria\", \"La cuarentena sigue siendo muy necesaria\", null, \"La cuarentena ya no es tan necesaria\", \"La cuarentena sigue siendo muy necesaria\", \"La cuarentena sigue siendo algo necesaria\", \"La cuarentena ya no es tan necesaria\", \"La cuarentena sigue siendo algo necesaria\", \"La cuarentena sigue siendo muy necesaria\", \"La cuarentena ya no es nada necesaria\", \"La cuarentena sigue siendo muy necesaria\", \"La cuarentena sigue siendo muy necesaria\", \"La cuarentena ya no es nada necesaria\", \"La cuarentena sigue siendo muy necesaria\", \"La cuarentena sigue siendo algo necesaria\", \"La cuarentena sigue siendo muy necesaria\", \"La cuarentena sigue siendo algo necesaria\", \"La cuarentena sigue siendo muy necesaria\", \"La cuarentena ya no es tan necesaria\", \"La cuarentena sigue siendo muy necesaria\", \"La cuarentena sigue siendo muy necesaria\", \"La cuarentena ya no es tan necesaria\", \"La cuarentena sigue siendo algo necesaria\", \"La cuarentena ya no es nada necesaria\", \"La cuarentena sigue siendo muy necesaria\", \"La cuarentena sigue siendo muy necesaria\", \"La cuarentena ya no es tan necesaria\", \"La cuarentena ya no es nada necesaria\", \"La cuarentena sigue siendo muy necesaria\", \"La cuarentena ya no es tan necesaria\", \"La cuarentena ya no es nada necesaria\", \"La cuarentena ya no es tan necesaria\", \"La cuarentena ya no es tan necesaria\", \"La cuarentena ya no es tan necesaria\", \"La cuarentena sigue siendo algo necesaria\", \"La cuarentena ya no es nada necesaria\", \"La cuarentena sigue siendo algo necesaria\", \"La cuarentena sigue siendo algo necesaria\", \"La cuarentena ya no es tan necesaria\", \"La cuarentena ya no es tan necesaria\", \"La cuarentena ya no es tan necesaria\", \"La cuarentena sigue siendo muy necesaria\", \"La cuarentena sigue siendo muy necesaria\", \"La cuarentena ya no es nada necesaria\", \"La cuarentena ya no es tan necesaria\", \"La cuarentena sigue siendo algo necesaria\", \"La cuarentena ya no es nada necesaria\", \"La cuarentena sigue siendo algo necesaria\", \"La cuarentena ya no es tan necesaria\", \"La cuarentena ya no es tan necesaria\", \"La cuarentena sigue siendo algo necesaria\", \"La cuarentena sigue siendo muy necesaria\", \"La cuarentena sigue siendo algo necesaria\", \"La cuarentena sigue siendo muy necesaria\", null, \"La cuarentena ya no es tan necesaria\", \"La cuarentena ya no es tan necesaria\", \"La cuarentena ya no es tan necesaria\", \"La cuarentena sigue siendo algo necesaria\", \"La cuarentena sigue siendo algo necesaria\", \"La cuarentena sigue siendo muy necesaria\", \"La cuarentena ya no es tan necesaria\", \"La cuarentena sigue siendo muy necesaria\", \"La cuarentena sigue siendo muy necesaria\", \"La cuarentena ya no es tan necesaria\", \"La cuarentena sigue siendo muy necesaria\", \"La cuarentena sigue siendo algo necesaria\", \"La cuarentena ya no es tan necesaria\", \"La cuarentena ya no es nada necesaria\", \"La cuarentena ya no es tan necesaria\", \"La cuarentena ya no es tan necesaria\", \"La cuarentena sigue siendo muy necesaria\", \"La cuarentena sigue siendo muy necesaria\", \"La cuarentena sigue siendo algo necesaria\", \"La cuarentena sigue siendo muy necesaria\", \"La cuarentena sigue siendo muy necesaria\", \"La cuarentena sigue siendo muy necesaria\", \"La cuarentena ya no es nada necesaria\", \"La cuarentena sigue siendo muy necesaria\", \"La cuarentena ya no es nada necesaria\", \"La cuarentena sigue siendo muy necesaria\", \"La cuarentena sigue siendo muy necesaria\", \"La cuarentena ya no es nada necesaria\", \"La cuarentena ya no es tan necesaria\", \"La cuarentena sigue siendo muy necesaria\", \"La cuarentena sigue siendo muy necesaria\", \"La cuarentena sigue siendo muy necesaria\", \"La cuarentena sigue siendo muy necesaria\", \"La cuarentena ya no es nada necesaria\", \"La cuarentena ya no es nada necesaria\", \"La cuarentena ya no es tan necesaria\", \"La cuarentena ya no es nada necesaria\", \"La cuarentena sigue siendo muy necesaria\", \"La cuarentena ya no es tan necesaria\", \"La cuarentena sigue siendo muy necesaria\", \"La cuarentena ya no es nada necesaria\", \"La cuarentena ya no es tan necesaria\", \"La cuarentena ya no es tan necesaria\", \"La cuarentena sigue siendo algo necesaria\", \"La cuarentena sigue siendo algo necesaria\", \"La cuarentena sigue siendo algo necesaria\", \"La cuarentena sigue siendo muy necesaria\", \"La cuarentena sigue siendo muy necesaria\", \"La cuarentena sigue siendo muy necesaria\", \"La cuarentena ya no es tan necesaria\", \"La cuarentena sigue siendo algo necesaria\", \"La cuarentena sigue siendo muy necesaria\", \"La cuarentena sigue siendo muy necesaria\", \"La cuarentena ya no es tan necesaria\", \"La cuarentena sigue siendo muy necesaria\", \"La cuarentena sigue siendo muy necesaria\", \"La cuarentena ya no es nada necesaria\", \"La cuarentena sigue siendo muy necesaria\", \"La cuarentena sigue siendo muy necesaria\", \"La cuarentena ya no es nada necesaria\", \"La cuarentena ya no es tan necesaria\", \"La cuarentena ya no es nada necesaria\", \"La cuarentena ya no es nada necesaria\", \"La cuarentena sigue siendo algo necesaria\", \"La cuarentena ya no es tan necesaria\", \"La cuarentena ya no es tan necesaria\", \"La cuarentena ya no es tan necesaria\", \"La cuarentena sigue siendo muy necesaria\", \"La cuarentena sigue siendo muy necesaria\", \"La cuarentena ya no es tan necesaria\", \"La cuarentena ya no es nada necesaria\", \"La cuarentena sigue siendo muy necesaria\", \"La cuarentena sigue siendo muy necesaria\", \"La cuarentena sigue siendo algo necesaria\", \"La cuarentena ya no es tan necesaria\", null, \"La cuarentena sigue siendo muy necesaria\", \"La cuarentena sigue siendo muy necesaria\", \"La cuarentena sigue siendo muy necesaria\", \"La cuarentena ya no es nada necesaria\", \"La cuarentena sigue siendo muy necesaria\", \"La cuarentena ya no es tan necesaria\", \"La cuarentena ya no es tan necesaria\", \"La cuarentena ya no es nada necesaria\", \"La cuarentena sigue siendo algo necesaria\", \"La cuarentena sigue siendo muy necesaria\", \"La cuarentena ya no es nada necesaria\", \"La cuarentena ya no es tan necesaria\", \"La cuarentena ya no es tan necesaria\", \"La cuarentena sigue siendo muy necesaria\", null, \"La cuarentena ya no es nada necesaria\", \"La cuarentena ya no es tan necesaria\", \"La cuarentena sigue siendo muy necesaria\", \"La cuarentena ya no es tan necesaria\", \"La cuarentena sigue siendo muy necesaria\", \"La cuarentena sigue siendo algo necesaria\", \"La cuarentena ya no es nada necesaria\", \"La cuarentena ya no es tan necesaria\", \"La cuarentena ya no es nada necesaria\", \"La cuarentena ya no es tan necesaria\", \"La cuarentena sigue siendo muy necesaria\", \"La cuarentena sigue siendo muy necesaria\", \"La cuarentena sigue siendo muy necesaria\", \"La cuarentena sigue siendo muy necesaria\", \"La cuarentena sigue siendo algo necesaria\", \"La cuarentena sigue siendo muy necesaria\", \"La cuarentena sigue siendo muy necesaria\", \"La cuarentena sigue siendo muy necesaria\", \"La cuarentena sigue siendo muy necesaria\", \"La cuarentena ya no es tan necesaria\", \"La cuarentena sigue siendo muy necesaria\", \"La cuarentena sigue siendo muy necesaria\", \"La cuarentena ya no es tan necesaria\", \"La cuarentena sigue siendo muy necesaria\", \"La cuarentena sigue siendo muy necesaria\", \"La cuarentena sigue siendo muy necesaria\", \"La cuarentena sigue siendo algo necesaria\", \"La cuarentena ya no es tan necesaria\", \"La cuarentena ya no es nada necesaria\", \"La cuarentena ya no es nada necesaria\", \"La cuarentena ya no es nada necesaria\", \"La cuarentena sigue siendo muy necesaria\", \"La cuarentena sigue siendo algo necesaria\", \"La cuarentena ya no es nada necesaria\", \"La cuarentena ya no es tan necesaria\", \"La cuarentena ya no es nada necesaria\", \"La cuarentena sigue siendo muy necesaria\", \"La cuarentena sigue siendo muy necesaria\", \"La cuarentena ya no es tan necesaria\", \"La cuarentena ya no es tan necesaria\", \"La cuarentena sigue siendo algo necesaria\", \"La cuarentena ya no es nada necesaria\", \"La cuarentena sigue siendo algo necesaria\", \"La cuarentena sigue siendo muy necesaria\", \"La cuarentena ya no es tan necesaria\", \"La cuarentena ya no es nada necesaria\", \"La cuarentena sigue siendo muy necesaria\", \"La cuarentena sigue siendo algo necesaria\", \"La cuarentena ya no es nada necesaria\", \"La cuarentena sigue siendo muy necesaria\", \"La cuarentena sigue siendo muy necesaria\", \"La cuarentena ya no es nada necesaria\", \"La cuarentena ya no es nada necesaria\", \"La cuarentena ya no es nada necesaria\", \"La cuarentena ya no es nada necesaria\", \"La cuarentena ya no es tan necesaria\", \"La cuarentena ya no es tan necesaria\", \"La cuarentena sigue siendo muy necesaria\", \"La cuarentena ya no es nada necesaria\", \"La cuarentena ya no es tan necesaria\", \"La cuarentena sigue siendo algo necesaria\", \"La cuarentena sigue siendo muy necesaria\", \"La cuarentena sigue siendo algo necesaria\", \"La cuarentena sigue siendo muy necesaria\", \"La cuarentena sigue siendo muy necesaria\", \"La cuarentena ya no es tan necesaria\", \"La cuarentena ya no es tan necesaria\", \"La cuarentena sigue siendo muy necesaria\", \"La cuarentena ya no es tan necesaria\", \"La cuarentena ya no es tan necesaria\", \"La cuarentena sigue siendo algo necesaria\", \"La cuarentena ya no es tan necesaria\", \"La cuarentena sigue siendo muy necesaria\", \"La cuarentena ya no es tan necesaria\", \"La cuarentena sigue siendo algo necesaria\", \"La cuarentena ya no es nada necesaria\", \"La cuarentena sigue siendo algo necesaria\", \"La cuarentena sigue siendo muy necesaria\", \"La cuarentena sigue siendo muy necesaria\", \"La cuarentena sigue siendo muy necesaria\", \"La cuarentena sigue siendo algo necesaria\", \"La cuarentena sigue siendo algo necesaria\", \"La cuarentena sigue siendo algo necesaria\", \"La cuarentena sigue siendo muy necesaria\", \"La cuarentena ya no es tan necesaria\", \"La cuarentena ya no es nada necesaria\", \"La cuarentena sigue siendo algo necesaria\", \"La cuarentena ya no es nada necesaria\", \"La cuarentena sigue siendo algo necesaria\", \"La cuarentena sigue siendo muy necesaria\", \"La cuarentena sigue siendo muy necesaria\", \"La cuarentena sigue siendo muy necesaria\", \"La cuarentena ya no es nada necesaria\", \"La cuarentena ya no es nada necesaria\", \"La cuarentena sigue siendo algo necesaria\", \"La cuarentena ya no es tan necesaria\", \"La cuarentena ya no es nada necesaria\", \"La cuarentena sigue siendo algo necesaria\", \"La cuarentena ya no es nada necesaria\", \"La cuarentena sigue siendo muy necesaria\", \"La cuarentena ya no es tan necesaria\", \"La cuarentena sigue siendo muy necesaria\", \"La cuarentena sigue siendo algo necesaria\", \"La cuarentena sigue siendo muy necesaria\", \"La cuarentena sigue siendo muy necesaria\", \"La cuarentena ya no es tan necesaria\", \"La cuarentena sigue siendo algo necesaria\", \"La cuarentena sigue siendo algo necesaria\", \"La cuarentena ya no es tan necesaria\", \"La cuarentena sigue siendo muy necesaria\", \"La cuarentena sigue siendo muy necesaria\", \"La cuarentena ya no es nada necesaria\", \"La cuarentena ya no es tan necesaria\", \"La cuarentena sigue siendo muy necesaria\", \"La cuarentena sigue siendo algo necesaria\", \"La cuarentena ya no es tan necesaria\", \"La cuarentena sigue siendo algo necesaria\", \"La cuarentena sigue siendo muy necesaria\", \"La cuarentena ya no es nada necesaria\", \"La cuarentena sigue siendo muy necesaria\", \"La cuarentena sigue siendo muy necesaria\", \"La cuarentena sigue siendo muy necesaria\", \"La cuarentena sigue siendo algo necesaria\", \"La cuarentena sigue siendo muy necesaria\", \"La cuarentena ya no es nada necesaria\", \"La cuarentena sigue siendo muy necesaria\", \"La cuarentena sigue siendo algo necesaria\", \"La cuarentena ya no es tan necesaria\", \"La cuarentena ya no es nada necesaria\", \"La cuarentena sigue siendo muy necesaria\", \"La cuarentena ya no es tan necesaria\", \"La cuarentena sigue siendo algo necesaria\", \"La cuarentena ya no es tan necesaria\", \"La cuarentena sigue siendo muy necesaria\", \"La cuarentena sigue siendo muy necesaria\", \"La cuarentena sigue siendo algo necesaria\", \"La cuarentena ya no es tan necesaria\", \"La cuarentena sigue siendo muy necesaria\", \"La cuarentena ya no es tan necesaria\", \"La cuarentena ya no es nada necesaria\", \"La cuarentena sigue siendo algo necesaria\", \"La cuarentena sigue siendo algo necesaria\", \"La cuarentena ya no es tan necesaria\", \"La cuarentena ya no es nada necesaria\", \"La cuarentena sigue siendo muy necesaria\", \"La cuarentena ya no es tan necesaria\", \"La cuarentena sigue siendo muy necesaria\", \"La cuarentena sigue siendo algo necesaria\", \"La cuarentena sigue siendo muy necesaria\", \"La cuarentena ya no es tan necesaria\", \"La cuarentena sigue siendo algo necesaria\", \"La cuarentena sigue siendo algo necesaria\", \"La cuarentena ya no es tan necesaria\", \"La cuarentena ya no es tan necesaria\", \"La cuarentena ya no es tan necesaria\", \"La cuarentena sigue siendo muy necesaria\", \"La cuarentena sigue siendo algo necesaria\", \"La cuarentena sigue siendo algo necesaria\", \"La cuarentena sigue siendo algo necesaria\", \"La cuarentena sigue siendo muy necesaria\", \"La cuarentena sigue siendo muy necesaria\", \"La cuarentena sigue siendo muy necesaria\", \"La cuarentena sigue siendo algo necesaria\", \"La cuarentena ya no es tan necesaria\", \"La cuarentena ya no es tan necesaria\", \"La cuarentena sigue siendo muy necesaria\", \"La cuarentena sigue siendo muy necesaria\", \"La cuarentena sigue siendo muy necesaria\", \"La cuarentena ya no es tan necesaria\", \"La cuarentena sigue siendo algo necesaria\", \"La cuarentena sigue siendo muy necesaria\", \"La cuarentena sigue siendo algo necesaria\", \"La cuarentena ya no es nada necesaria\", \"La cuarentena ya no es tan necesaria\", \"La cuarentena sigue siendo algo necesaria\", \"La cuarentena ya no es tan necesaria\", \"La cuarentena ya no es tan necesaria\", \"La cuarentena sigue siendo algo necesaria\", \"La cuarentena sigue siendo muy necesaria\", \"La cuarentena sigue siendo algo necesaria\", \"La cuarentena sigue siendo muy necesaria\", \"La cuarentena ya no es nada necesaria\", \"La cuarentena sigue siendo muy necesaria\", \"La cuarentena ya no es nada necesaria\", \"La cuarentena sigue siendo muy necesaria\", \"La cuarentena sigue siendo muy necesaria\", \"La cuarentena ya no es tan necesaria\", \"La cuarentena ya no es tan necesaria\", \"La cuarentena ya no es tan necesaria\", \"La cuarentena sigue siendo muy necesaria\", \"La cuarentena sigue siendo muy necesaria\", \"La cuarentena sigue siendo muy necesaria\", \"La cuarentena sigue siendo algo necesaria\", \"La cuarentena sigue siendo muy necesaria\", \"La cuarentena ya no es tan necesaria\", \"La cuarentena sigue siendo algo necesaria\", \"La cuarentena ya no es tan necesaria\", \"La cuarentena sigue siendo muy necesaria\", \"La cuarentena ya no es nada necesaria\", \"La cuarentena sigue siendo algo necesaria\", \"La cuarentena sigue siendo algo necesaria\", \"La cuarentena ya no es tan necesaria\", \"La cuarentena sigue siendo muy necesaria\", \"La cuarentena sigue siendo muy necesaria\", \"La cuarentena sigue siendo muy necesaria\", \"La cuarentena sigue siendo muy necesaria\", \"La cuarentena sigue siendo muy necesaria\", \"La cuarentena ya no es tan necesaria\", \"La cuarentena sigue siendo algo necesaria\", \"La cuarentena sigue siendo muy necesaria\", \"La cuarentena ya no es tan necesaria\", \"La cuarentena sigue siendo muy necesaria\", \"La cuarentena sigue siendo muy necesaria\", \"La cuarentena sigue siendo algo necesaria\", \"La cuarentena sigue siendo muy necesaria\", \"La cuarentena sigue siendo muy necesaria\", \"La cuarentena sigue siendo algo necesaria\", \"La cuarentena sigue siendo muy necesaria\", \"La cuarentena sigue siendo muy necesaria\", \"La cuarentena sigue siendo algo necesaria\", \"La cuarentena sigue siendo algo necesaria\", null, \"La cuarentena sigue siendo muy necesaria\", \"La cuarentena sigue siendo muy necesaria\", \"La cuarentena ya no es nada necesaria\", \"La cuarentena sigue siendo muy necesaria\", \"La cuarentena sigue siendo muy necesaria\", \"La cuarentena ya no es nada necesaria\", \"La cuarentena sigue siendo algo necesaria\", \"La cuarentena sigue siendo muy necesaria\", \"La cuarentena sigue siendo muy necesaria\", \"La cuarentena ya no es nada necesaria\", \"La cuarentena sigue siendo muy necesaria\", \"La cuarentena sigue siendo algo necesaria\", \"La cuarentena sigue siendo muy necesaria\", \"La cuarentena ya no es nada necesaria\", \"La cuarentena sigue siendo muy necesaria\", \"La cuarentena ya no es tan necesaria\", \"La cuarentena sigue siendo muy necesaria\", \"La cuarentena sigue siendo muy necesaria\", \"La cuarentena sigue siendo muy necesaria\", \"La cuarentena ya no es tan necesaria\", \"La cuarentena sigue siendo muy necesaria\", \"La cuarentena ya no es nada necesaria\", \"La cuarentena sigue siendo muy necesaria\", \"La cuarentena sigue siendo muy necesaria\", \"La cuarentena sigue siendo muy necesaria\", \"La cuarentena sigue siendo muy necesaria\", \"La cuarentena ya no es nada necesaria\", \"La cuarentena sigue siendo muy necesaria\", \"La cuarentena ya no es tan necesaria\", \"La cuarentena sigue siendo muy necesaria\", \"La cuarentena ya no es nada necesaria\", \"La cuarentena ya no es nada necesaria\", \"La cuarentena sigue siendo muy necesaria\", \"La cuarentena ya no es nada necesaria\", \"La cuarentena ya no es nada necesaria\", \"La cuarentena sigue siendo algo necesaria\", \"La cuarentena ya no es nada necesaria\", \"La cuarentena sigue siendo muy necesaria\", \"La cuarentena sigue siendo muy necesaria\", \"La cuarentena ya no es tan necesaria\", \"La cuarentena sigue siendo muy necesaria\", \"La cuarentena ya no es nada necesaria\", \"La cuarentena sigue siendo muy necesaria\", \"La cuarentena sigue siendo muy necesaria\", \"La cuarentena ya no es nada necesaria\", \"La cuarentena sigue siendo muy necesaria\", \"La cuarentena sigue siendo muy necesaria\", \"La cuarentena sigue siendo muy necesaria\", \"La cuarentena sigue siendo muy necesaria\", \"La cuarentena sigue siendo muy necesaria\", \"La cuarentena ya no es tan necesaria\", \"La cuarentena sigue siendo algo necesaria\", \"La cuarentena sigue siendo muy necesaria\", \"La cuarentena ya no es nada necesaria\", \"La cuarentena ya no es tan necesaria\", \"La cuarentena sigue siendo algo necesaria\", \"La cuarentena sigue siendo muy necesaria\", \"La cuarentena sigue siendo muy necesaria\", \"La cuarentena sigue siendo muy necesaria\", \"La cuarentena ya no es tan necesaria\", \"La cuarentena sigue siendo muy necesaria\", \"La cuarentena sigue siendo algo necesaria\", \"La cuarentena ya no es nada necesaria\", \"La cuarentena sigue siendo muy necesaria\", \"La cuarentena sigue siendo algo necesaria\", \"La cuarentena ya no es tan necesaria\", \"La cuarentena sigue siendo muy necesaria\", \"La cuarentena ya no es tan necesaria\", \"La cuarentena sigue siendo muy necesaria\", \"La cuarentena sigue siendo muy necesaria\", \"La cuarentena sigue siendo algo necesaria\", \"La cuarentena ya no es tan necesaria\", \"La cuarentena sigue siendo muy necesaria\", \"La cuarentena sigue siendo muy necesaria\", \"La cuarentena sigue siendo muy necesaria\", \"La cuarentena sigue siendo muy necesaria\", \"La cuarentena sigue siendo algo necesaria\", \"La cuarentena ya no es tan necesaria\", \"La cuarentena sigue siendo muy necesaria\", \"La cuarentena sigue siendo muy necesaria\", \"La cuarentena sigue siendo muy necesaria\", \"La cuarentena sigue siendo muy necesaria\", \"La cuarentena sigue siendo muy necesaria\", \"La cuarentena ya no es tan necesaria\", \"La cuarentena sigue siendo muy necesaria\", \"La cuarentena ya no es nada necesaria\", \"La cuarentena sigue siendo muy necesaria\", \"La cuarentena sigue siendo muy necesaria\", \"La cuarentena sigue siendo muy necesaria\", \"La cuarentena ya no es tan necesaria\", \"La cuarentena sigue siendo muy necesaria\", \"La cuarentena sigue siendo algo necesaria\", \"La cuarentena sigue siendo muy necesaria\", \"La cuarentena sigue siendo muy necesaria\", \"La cuarentena sigue siendo muy necesaria\", \"La cuarentena sigue siendo muy necesaria\", \"La cuarentena sigue siendo muy necesaria\", \"La cuarentena sigue siendo muy necesaria\", \"La cuarentena sigue siendo muy necesaria\", \"La cuarentena ya no es tan necesaria\", \"La cuarentena ya no es tan necesaria\", \"La cuarentena sigue siendo algo necesaria\", \"La cuarentena ya no es nada necesaria\", \"La cuarentena sigue siendo muy necesaria\", \"La cuarentena sigue siendo muy necesaria\", \"La cuarentena sigue siendo muy necesaria\", \"La cuarentena sigue siendo muy necesaria\", \"La cuarentena ya no es tan necesaria\", \"La cuarentena ya no es tan necesaria\", \"La cuarentena sigue siendo muy necesaria\", \"La cuarentena ya no es tan necesaria\", \"La cuarentena sigue siendo muy necesaria\", \"La cuarentena sigue siendo muy necesaria\", \"La cuarentena sigue siendo muy necesaria\", \"La cuarentena sigue siendo muy necesaria\", \"La cuarentena sigue siendo muy necesaria\", \"La cuarentena sigue siendo muy necesaria\", \"La cuarentena sigue siendo muy necesaria\", \"La cuarentena sigue siendo muy necesaria\", \"La cuarentena sigue siendo muy necesaria\", \"La cuarentena ya no es nada necesaria\", \"La cuarentena sigue siendo muy necesaria\", \"La cuarentena sigue siendo muy necesaria\", \"La cuarentena sigue siendo muy necesaria\", \"La cuarentena sigue siendo muy necesaria\", \"La cuarentena sigue siendo muy necesaria\", \"La cuarentena sigue siendo muy necesaria\", \"La cuarentena sigue siendo muy necesaria\", \"La cuarentena sigue siendo muy necesaria\", \"La cuarentena sigue siendo muy necesaria\", \"La cuarentena sigue siendo algo necesaria\", \"La cuarentena ya no es tan necesaria\", \"La cuarentena ya no es tan necesaria\", \"La cuarentena sigue siendo muy necesaria\", \"La cuarentena ya no es nada necesaria\", \"La cuarentena sigue siendo muy necesaria\", \"La cuarentena ya no es tan necesaria\", \"La cuarentena sigue siendo algo necesaria\", \"La cuarentena ya no es tan necesaria\", \"La cuarentena ya no es nada necesaria\", \"La cuarentena sigue siendo algo necesaria\", \"La cuarentena ya no es nada necesaria\", \"La cuarentena sigue siendo muy necesaria\", \"La cuarentena sigue siendo algo necesaria\", \"La cuarentena ya no es nada necesaria\", \"La cuarentena sigue siendo algo necesaria\", \"La cuarentena ya no es nada necesaria\", \"La cuarentena sigue siendo muy necesaria\", \"La cuarentena ya no es tan necesaria\", \"La cuarentena sigue siendo muy necesaria\", \"La cuarentena ya no es nada necesaria\", \"La cuarentena ya no es nada necesaria\", \"La cuarentena sigue siendo muy necesaria\", \"La cuarentena sigue siendo algo necesaria\", \"La cuarentena sigue siendo muy necesaria\", \"La cuarentena sigue siendo muy necesaria\", \"La cuarentena sigue siendo algo necesaria\", \"La cuarentena ya no es tan necesaria\", \"La cuarentena sigue siendo muy necesaria\", \"La cuarentena sigue siendo muy necesaria\", \"La cuarentena sigue siendo muy necesaria\", \"La cuarentena sigue siendo algo necesaria\", \"La cuarentena sigue siendo muy necesaria\", \"La cuarentena sigue siendo muy necesaria\", \"La cuarentena ya no es nada necesaria\", \"La cuarentena sigue siendo algo necesaria\", \"La cuarentena sigue siendo muy necesaria\", \"La cuarentena sigue siendo algo necesaria\", \"La cuarentena sigue siendo muy necesaria\", \"La cuarentena sigue siendo muy necesaria\", \"La cuarentena sigue siendo muy necesaria\", null, \"La cuarentena sigue siendo algo necesaria\", \"La cuarentena sigue siendo muy necesaria\", \"La cuarentena ya no es nada necesaria\", \"La cuarentena sigue siendo muy necesaria\", \"La cuarentena sigue siendo muy necesaria\", \"La cuarentena sigue siendo algo necesaria\", \"La cuarentena sigue siendo muy necesaria\", \"La cuarentena ya no es tan necesaria\", \"La cuarentena sigue siendo muy necesaria\", \"La cuarentena sigue siendo muy necesaria\", \"La cuarentena sigue siendo muy necesaria\", \"La cuarentena sigue siendo muy necesaria\", \"La cuarentena sigue siendo muy necesaria\", \"La cuarentena ya no es tan necesaria\", \"La cuarentena ya no es nada necesaria\", \"La cuarentena ya no es nada necesaria\", \"La cuarentena ya no es tan necesaria\", \"La cuarentena sigue siendo algo necesaria\", \"La cuarentena sigue siendo muy necesaria\", \"La cuarentena sigue siendo algo necesaria\", \"La cuarentena ya no es nada necesaria\", \"La cuarentena sigue siendo muy necesaria\", \"La cuarentena ya no es tan necesaria\", \"La cuarentena ya no es tan necesaria\", \"La cuarentena ya no es tan necesaria\", \"La cuarentena ya no es tan necesaria\", \"La cuarentena ya no es tan necesaria\", \"La cuarentena ya no es nada necesaria\", \"La cuarentena sigue siendo muy necesaria\", \"La cuarentena sigue siendo muy necesaria\", \"La cuarentena sigue siendo muy necesaria\", \"La cuarentena ya no es tan necesaria\", \"La cuarentena sigue siendo muy necesaria\", \"La cuarentena ya no es tan necesaria\", \"La cuarentena ya no es tan necesaria\", \"La cuarentena ya no es tan necesaria\", \"La cuarentena sigue siendo muy necesaria\", \"La cuarentena sigue siendo algo necesaria\", \"La cuarentena sigue siendo algo necesaria\", \"La cuarentena ya no es nada necesaria\", \"La cuarentena sigue siendo muy necesaria\", \"La cuarentena ya no es tan necesaria\", \"La cuarentena ya no es tan necesaria\", \"La cuarentena sigue siendo algo necesaria\", \"La cuarentena sigue siendo muy necesaria\", \"La cuarentena sigue siendo algo necesaria\", \"La cuarentena sigue siendo muy necesaria\", \"La cuarentena ya no es nada necesaria\", \"La cuarentena ya no es tan necesaria\", \"La cuarentena ya no es tan necesaria\", \"La cuarentena sigue siendo muy necesaria\", \"La cuarentena sigue siendo muy necesaria\", \"La cuarentena sigue siendo muy necesaria\", \"La cuarentena sigue siendo algo necesaria\", \"La cuarentena sigue siendo algo necesaria\", \"La cuarentena ya no es nada necesaria\", \"La cuarentena sigue siendo muy necesaria\", \"La cuarentena ya no es tan necesaria\", \"La cuarentena sigue siendo muy necesaria\", \"La cuarentena sigue siendo muy necesaria\", \"La cuarentena sigue siendo muy necesaria\", \"La cuarentena ya no es tan necesaria\", \"La cuarentena sigue siendo muy necesaria\", \"La cuarentena ya no es nada necesaria\", \"La cuarentena sigue siendo algo necesaria\", \"La cuarentena ya no es tan necesaria\", \"La cuarentena sigue siendo muy necesaria\", \"La cuarentena sigue siendo muy necesaria\", \"La cuarentena sigue siendo muy necesaria\", \"La cuarentena sigue siendo muy necesaria\", \"La cuarentena sigue siendo muy necesaria\", \"La cuarentena sigue siendo muy necesaria\", \"La cuarentena sigue siendo muy necesaria\", \"La cuarentena sigue siendo algo necesaria\", \"La cuarentena ya no es tan necesaria\", \"La cuarentena sigue siendo muy necesaria\", \"La cuarentena sigue siendo algo necesaria\", \"La cuarentena ya no es tan necesaria\", \"La cuarentena sigue siendo muy necesaria\", \"La cuarentena ya no es tan necesaria\", \"La cuarentena sigue siendo muy necesaria\", \"La cuarentena ya no es tan necesaria\", \"La cuarentena sigue siendo algo necesaria\", \"La cuarentena sigue siendo muy necesaria\", \"La cuarentena ya no es tan necesaria\", \"La cuarentena sigue siendo muy necesaria\", \"La cuarentena sigue siendo muy necesaria\", \"La cuarentena ya no es nada necesaria\", \"La cuarentena sigue siendo algo necesaria\", \"La cuarentena sigue siendo muy necesaria\", \"La cuarentena ya no es tan necesaria\", \"La cuarentena ya no es tan necesaria\", \"La cuarentena sigue siendo muy necesaria\", \"La cuarentena sigue siendo algo necesaria\", \"La cuarentena ya no es nada necesaria\", \"La cuarentena sigue siendo algo necesaria\", \"La cuarentena ya no es nada necesaria\", \"La cuarentena sigue siendo muy necesaria\", \"La cuarentena ya no es nada necesaria\", \"La cuarentena sigue siendo algo necesaria\", \"La cuarentena sigue siendo muy necesaria\", \"La cuarentena ya no es tan necesaria\", \"La cuarentena ya no es tan necesaria\", \"La cuarentena ya no es tan necesaria\", \"La cuarentena sigue siendo algo necesaria\", \"La cuarentena sigue siendo muy necesaria\", \"La cuarentena sigue siendo muy necesaria\", \"La cuarentena ya no es tan necesaria\", \"La cuarentena ya no es tan necesaria\", \"La cuarentena sigue siendo muy necesaria\", \"La cuarentena sigue siendo algo necesaria\", \"La cuarentena sigue siendo algo necesaria\", \"La cuarentena sigue siendo algo necesaria\", \"La cuarentena sigue siendo algo necesaria\", \"La cuarentena ya no es tan necesaria\", \"La cuarentena sigue siendo algo necesaria\", \"La cuarentena ya no es nada necesaria\", \"La cuarentena sigue siendo algo necesaria\", \"La cuarentena sigue siendo muy necesaria\", \"La cuarentena ya no es nada necesaria\", \"La cuarentena ya no es nada necesaria\", \"La cuarentena sigue siendo muy necesaria\", \"La cuarentena ya no es tan necesaria\", \"La cuarentena ya no es nada necesaria\", \"La cuarentena ya no es tan necesaria\", \"La cuarentena ya no es tan necesaria\", \"La cuarentena sigue siendo algo necesaria\", \"La cuarentena sigue siendo algo necesaria\", \"La cuarentena sigue siendo algo necesaria\", \"La cuarentena ya no es tan necesaria\", \"La cuarentena ya no es nada necesaria\", \"La cuarentena ya no es tan necesaria\", \"La cuarentena ya no es nada necesaria\", \"La cuarentena ya no es tan necesaria\", \"La cuarentena sigue siendo muy necesaria\", \"La cuarentena sigue siendo algo necesaria\", \"La cuarentena sigue siendo muy necesaria\", \"La cuarentena sigue siendo muy necesaria\", \"La cuarentena sigue siendo muy necesaria\", \"La cuarentena sigue siendo muy necesaria\", \"La cuarentena sigue siendo algo necesaria\", \"La cuarentena ya no es tan necesaria\", \"La cuarentena sigue siendo algo necesaria\", \"La cuarentena sigue siendo muy necesaria\", \"La cuarentena ya no es tan necesaria\", \"La cuarentena ya no es nada necesaria\", \"La cuarentena sigue siendo muy necesaria\", \"La cuarentena sigue siendo algo necesaria\", \"La cuarentena sigue siendo muy necesaria\", \"La cuarentena sigue siendo muy necesaria\", \"La cuarentena sigue siendo muy necesaria\", \"La cuarentena sigue siendo muy necesaria\", \"La cuarentena sigue siendo algo necesaria\", \"La cuarentena sigue siendo muy necesaria\", \"La cuarentena sigue siendo algo necesaria\", \"La cuarentena sigue siendo muy necesaria\", \"La cuarentena ya no es tan necesaria\", \"La cuarentena sigue siendo muy necesaria\", \"La cuarentena sigue siendo algo necesaria\", \"La cuarentena sigue siendo muy necesaria\", \"La cuarentena ya no es tan necesaria\", \"La cuarentena sigue siendo muy necesaria\", \"La cuarentena sigue siendo muy necesaria\", \"La cuarentena sigue siendo algo necesaria\", \"La cuarentena sigue siendo muy necesaria\", \"La cuarentena sigue siendo muy necesaria\", \"La cuarentena ya no es tan necesaria\", \"La cuarentena sigue siendo algo necesaria\", \"La cuarentena ya no es tan necesaria\", \"La cuarentena ya no es tan necesaria\", \"La cuarentena sigue siendo muy necesaria\", \"La cuarentena ya no es nada necesaria\", \"La cuarentena ya no es tan necesaria\", \"La cuarentena sigue siendo algo necesaria\", \"La cuarentena sigue siendo muy necesaria\", \"La cuarentena sigue siendo muy necesaria\", \"La cuarentena ya no es tan necesaria\", \"La cuarentena sigue siendo muy necesaria\", \"La cuarentena sigue siendo muy necesaria\", \"La cuarentena sigue siendo muy necesaria\", \"La cuarentena sigue siendo muy necesaria\", \"La cuarentena ya no es nada necesaria\", \"La cuarentena sigue siendo muy necesaria\", \"La cuarentena ya no es nada necesaria\", \"La cuarentena sigue siendo algo necesaria\", \"La cuarentena sigue siendo algo necesaria\", \"La cuarentena sigue siendo muy necesaria\", \"La cuarentena ya no es tan necesaria\", \"La cuarentena sigue siendo muy necesaria\", \"La cuarentena sigue siendo muy necesaria\", \"La cuarentena sigue siendo algo necesaria\", \"La cuarentena sigue siendo muy necesaria\", \"La cuarentena ya no es nada necesaria\", \"La cuarentena sigue siendo algo necesaria\", \"La cuarentena ya no es tan necesaria\", \"La cuarentena sigue siendo algo necesaria\", \"La cuarentena ya no es nada necesaria\", \"La cuarentena ya no es tan necesaria\", \"La cuarentena sigue siendo muy necesaria\", \"La cuarentena sigue siendo muy necesaria\", \"La cuarentena ya no es tan necesaria\", \"La cuarentena ya no es tan necesaria\", \"La cuarentena ya no es tan necesaria\", \"La cuarentena sigue siendo muy necesaria\", \"La cuarentena sigue siendo algo necesaria\", \"La cuarentena sigue siendo muy necesaria\", \"La cuarentena sigue siendo algo necesaria\", \"La cuarentena sigue siendo muy necesaria\", \"La cuarentena ya no es tan necesaria\", \"La cuarentena ya no es tan necesaria\", \"La cuarentena sigue siendo muy necesaria\", \"La cuarentena sigue siendo muy necesaria\", \"La cuarentena sigue siendo muy necesaria\", \"La cuarentena sigue siendo muy necesaria\", \"La cuarentena sigue siendo algo necesaria\", \"La cuarentena sigue siendo muy necesaria\", \"La cuarentena ya no es tan necesaria\", \"La cuarentena sigue siendo muy necesaria\", \"La cuarentena sigue siendo muy necesaria\", \"La cuarentena sigue siendo muy necesaria\", \"La cuarentena ya no es nada necesaria\", \"La cuarentena sigue siendo algo necesaria\", \"La cuarentena ya no es tan necesaria\", \"La cuarentena ya no es tan necesaria\", \"La cuarentena ya no es nada necesaria\", \"La cuarentena sigue siendo muy necesaria\", \"La cuarentena sigue siendo muy necesaria\", \"La cuarentena ya no es tan necesaria\", \"La cuarentena sigue siendo algo necesaria\", \"La cuarentena sigue siendo algo necesaria\", \"La cuarentena sigue siendo muy necesaria\", \"La cuarentena sigue siendo algo necesaria\", \"La cuarentena sigue siendo muy necesaria\", \"La cuarentena sigue siendo muy necesaria\", \"La cuarentena ya no es tan necesaria\", \"La cuarentena sigue siendo muy necesaria\", \"La cuarentena sigue siendo muy necesaria\", \"La cuarentena sigue siendo muy necesaria\", \"La cuarentena sigue siendo muy necesaria\", \"La cuarentena sigue siendo algo necesaria\", \"La cuarentena sigue siendo algo necesaria\", \"La cuarentena sigue siendo algo necesaria\", \"La cuarentena sigue siendo algo necesaria\", \"La cuarentena sigue siendo muy necesaria\", \"La cuarentena sigue siendo algo necesaria\", \"La cuarentena ya no es nada necesaria\", \"La cuarentena sigue siendo algo necesaria\", \"La cuarentena ya no es nada necesaria\", \"La cuarentena sigue siendo algo necesaria\", \"La cuarentena sigue siendo algo necesaria\", \"La cuarentena sigue siendo muy necesaria\", \"La cuarentena sigue siendo muy necesaria\", \"La cuarentena sigue siendo muy necesaria\", \"La cuarentena sigue siendo muy necesaria\", \"La cuarentena sigue siendo muy necesaria\", \"La cuarentena sigue siendo algo necesaria\", \"La cuarentena sigue siendo muy necesaria\", \"La cuarentena sigue siendo muy necesaria\", \"La cuarentena sigue siendo muy necesaria\", \"La cuarentena sigue siendo muy necesaria\", \"La cuarentena sigue siendo algo necesaria\", \"La cuarentena sigue siendo algo necesaria\", \"La cuarentena ya no es nada necesaria\", \"La cuarentena sigue siendo muy necesaria\", \"La cuarentena ya no es tan necesaria\", \"La cuarentena sigue siendo algo necesaria\", \"La cuarentena sigue siendo muy necesaria\", \"La cuarentena sigue siendo algo necesaria\", \"La cuarentena sigue siendo muy necesaria\", \"La cuarentena ya no es tan necesaria\", \"La cuarentena ya no es nada necesaria\", \"La cuarentena sigue siendo muy necesaria\", \"La cuarentena sigue siendo muy necesaria\", \"La cuarentena sigue siendo algo necesaria\", \"La cuarentena sigue siendo muy necesaria\", \"La cuarentena sigue siendo muy necesaria\", \"La cuarentena sigue siendo muy necesaria\", \"La cuarentena sigue siendo muy necesaria\", \"La cuarentena sigue siendo muy necesaria\", \"La cuarentena ya no es tan necesaria\", \"La cuarentena sigue siendo muy necesaria\", \"La cuarentena ya no es tan necesaria\", \"La cuarentena sigue siendo algo necesaria\", \"La cuarentena ya no es tan necesaria\", \"La cuarentena sigue siendo muy necesaria\", \"La cuarentena sigue siendo muy necesaria\", \"La cuarentena sigue siendo muy necesaria\", \"La cuarentena sigue siendo muy necesaria\", \"La cuarentena sigue siendo muy necesaria\", \"La cuarentena sigue siendo muy necesaria\", \"La cuarentena sigue siendo muy necesaria\", \"La cuarentena sigue siendo muy necesaria\", \"La cuarentena sigue siendo algo necesaria\", \"La cuarentena ya no es nada necesaria\", \"La cuarentena sigue siendo muy necesaria\", \"La cuarentena sigue siendo muy necesaria\", \"La cuarentena sigue siendo muy necesaria\", \"La cuarentena ya no es tan necesaria\", \"La cuarentena sigue siendo muy necesaria\", \"La cuarentena sigue siendo algo necesaria\", \"La cuarentena sigue siendo muy necesaria\", \"La cuarentena sigue siendo algo necesaria\", \"La cuarentena sigue siendo algo necesaria\", \"La cuarentena sigue siendo muy necesaria\", \"La cuarentena ya no es nada necesaria\", \"La cuarentena sigue siendo muy necesaria\", \"La cuarentena ya no es tan necesaria\", \"La cuarentena ya no es nada necesaria\", \"La cuarentena sigue siendo muy necesaria\", \"La cuarentena ya no es tan necesaria\", \"La cuarentena ya no es tan necesaria\", \"La cuarentena ya no es nada necesaria\", \"La cuarentena sigue siendo algo necesaria\", \"La cuarentena sigue siendo muy necesaria\", \"La cuarentena sigue siendo muy necesaria\", \"La cuarentena sigue siendo muy necesaria\", \"La cuarentena sigue siendo algo necesaria\", \"La cuarentena ya no es tan necesaria\", \"La cuarentena ya no es nada necesaria\", \"La cuarentena sigue siendo algo necesaria\", \"La cuarentena sigue siendo muy necesaria\", \"La cuarentena ya no es nada necesaria\", \"La cuarentena ya no es tan necesaria\", \"La cuarentena sigue siendo algo necesaria\", \"La cuarentena sigue siendo muy necesaria\", \"La cuarentena ya no es tan necesaria\", \"La cuarentena sigue siendo muy necesaria\", \"La cuarentena sigue siendo algo necesaria\", \"La cuarentena ya no es nada necesaria\", \"La cuarentena sigue siendo muy necesaria\", \"La cuarentena sigue siendo algo necesaria\", \"La cuarentena ya no es tan necesaria\", \"La cuarentena sigue siendo muy necesaria\", \"La cuarentena ya no es nada necesaria\", \"La cuarentena sigue siendo algo necesaria\", \"La cuarentena ya no es nada necesaria\", \"La cuarentena ya no es nada necesaria\", \"La cuarentena sigue siendo muy necesaria\", \"La cuarentena ya no es tan necesaria\", \"La cuarentena ya no es nada necesaria\", \"La cuarentena ya no es tan necesaria\", \"La cuarentena sigue siendo muy necesaria\", \"La cuarentena ya no es nada necesaria\", \"La cuarentena sigue siendo algo necesaria\", \"La cuarentena ya no es tan necesaria\", \"La cuarentena sigue siendo algo necesaria\", \"La cuarentena ya no es nada necesaria\", \"La cuarentena ya no es tan necesaria\", \"La cuarentena sigue siendo algo necesaria\", \"La cuarentena ya no es nada necesaria\", \"La cuarentena ya no es tan necesaria\", \"La cuarentena sigue siendo algo necesaria\", \"La cuarentena sigue siendo algo necesaria\", \"La cuarentena ya no es nada necesaria\", \"La cuarentena ya no es tan necesaria\", \"La cuarentena sigue siendo algo necesaria\", \"La cuarentena ya no es nada necesaria\", \"La cuarentena sigue siendo muy necesaria\", \"La cuarentena sigue siendo muy necesaria\", \"La cuarentena sigue siendo muy necesaria\", \"La cuarentena sigue siendo muy necesaria\", \"La cuarentena sigue siendo muy necesaria\", \"La cuarentena ya no es nada necesaria\", \"La cuarentena ya no es nada necesaria\", \"La cuarentena sigue siendo algo necesaria\", \"La cuarentena sigue siendo algo necesaria\", \"La cuarentena sigue siendo muy necesaria\", \"La cuarentena sigue siendo algo necesaria\", \"La cuarentena ya no es tan necesaria\", \"La cuarentena sigue siendo algo necesaria\", \"La cuarentena ya no es nada necesaria\", \"La cuarentena sigue siendo muy necesaria\", \"La cuarentena sigue siendo muy necesaria\", \"La cuarentena sigue siendo algo necesaria\", \"La cuarentena ya no es nada necesaria\", \"La cuarentena sigue siendo muy necesaria\", \"La cuarentena sigue siendo algo necesaria\", \"La cuarentena sigue siendo algo necesaria\", \"La cuarentena ya no es nada necesaria\", \"La cuarentena sigue siendo muy necesaria\", \"La cuarentena sigue siendo muy necesaria\", \"La cuarentena sigue siendo muy necesaria\", \"La cuarentena ya no es nada necesaria\", \"La cuarentena sigue siendo muy necesaria\", \"La cuarentena sigue siendo muy necesaria\", \"La cuarentena ya no es nada necesaria\", \"La cuarentena sigue siendo muy necesaria\", \"La cuarentena sigue siendo muy necesaria\", \"La cuarentena sigue siendo muy necesaria\", \"La cuarentena ya no es tan necesaria\", \"La cuarentena sigue siendo muy necesaria\", \"La cuarentena sigue siendo algo necesaria\", \"La cuarentena sigue siendo muy necesaria\", \"La cuarentena sigue siendo muy necesaria\", \"La cuarentena sigue siendo algo necesaria\", \"La cuarentena sigue siendo muy necesaria\", \"La cuarentena ya no es nada necesaria\", \"La cuarentena sigue siendo algo necesaria\", \"La cuarentena ya no es nada necesaria\", \"La cuarentena sigue siendo muy necesaria\", \"La cuarentena ya no es tan necesaria\", \"La cuarentena sigue siendo algo necesaria\", \"La cuarentena ya no es nada necesaria\"], \"xaxis\": \"x\", \"yaxis\": \"y\"}],\n",
       "                        {\"barmode\": \"relative\", \"height\": 600, \"legend\": {\"tracegroupgap\": 0}, \"template\": {\"data\": {\"bar\": [{\"error_x\": {\"color\": \"#2a3f5f\"}, \"error_y\": {\"color\": \"#2a3f5f\"}, \"marker\": {\"line\": {\"color\": \"#E5ECF6\", \"width\": 0.5}}, \"type\": \"bar\"}], \"barpolar\": [{\"marker\": {\"line\": {\"color\": \"#E5ECF6\", \"width\": 0.5}}, \"type\": \"barpolar\"}], \"carpet\": [{\"aaxis\": {\"endlinecolor\": \"#2a3f5f\", \"gridcolor\": \"white\", \"linecolor\": \"white\", \"minorgridcolor\": \"white\", \"startlinecolor\": \"#2a3f5f\"}, \"baxis\": {\"endlinecolor\": \"#2a3f5f\", \"gridcolor\": \"white\", \"linecolor\": \"white\", \"minorgridcolor\": \"white\", \"startlinecolor\": \"#2a3f5f\"}, \"type\": \"carpet\"}], \"choropleth\": [{\"colorbar\": {\"outlinewidth\": 0, \"ticks\": \"\"}, \"type\": \"choropleth\"}], \"contour\": [{\"colorbar\": {\"outlinewidth\": 0, \"ticks\": \"\"}, \"colorscale\": [[0.0, \"#0d0887\"], [0.1111111111111111, \"#46039f\"], [0.2222222222222222, \"#7201a8\"], [0.3333333333333333, \"#9c179e\"], [0.4444444444444444, \"#bd3786\"], [0.5555555555555556, \"#d8576b\"], [0.6666666666666666, \"#ed7953\"], [0.7777777777777778, \"#fb9f3a\"], [0.8888888888888888, \"#fdca26\"], [1.0, \"#f0f921\"]], \"type\": \"contour\"}], \"contourcarpet\": [{\"colorbar\": {\"outlinewidth\": 0, \"ticks\": \"\"}, \"type\": \"contourcarpet\"}], \"heatmap\": [{\"colorbar\": {\"outlinewidth\": 0, \"ticks\": \"\"}, \"colorscale\": [[0.0, \"#0d0887\"], [0.1111111111111111, \"#46039f\"], [0.2222222222222222, \"#7201a8\"], [0.3333333333333333, \"#9c179e\"], [0.4444444444444444, \"#bd3786\"], [0.5555555555555556, \"#d8576b\"], [0.6666666666666666, \"#ed7953\"], [0.7777777777777778, \"#fb9f3a\"], [0.8888888888888888, \"#fdca26\"], [1.0, \"#f0f921\"]], \"type\": \"heatmap\"}], \"heatmapgl\": [{\"colorbar\": {\"outlinewidth\": 0, \"ticks\": \"\"}, \"colorscale\": [[0.0, \"#0d0887\"], [0.1111111111111111, \"#46039f\"], [0.2222222222222222, \"#7201a8\"], [0.3333333333333333, \"#9c179e\"], [0.4444444444444444, \"#bd3786\"], [0.5555555555555556, \"#d8576b\"], [0.6666666666666666, \"#ed7953\"], [0.7777777777777778, \"#fb9f3a\"], [0.8888888888888888, \"#fdca26\"], [1.0, \"#f0f921\"]], \"type\": \"heatmapgl\"}], \"histogram\": [{\"marker\": {\"colorbar\": {\"outlinewidth\": 0, \"ticks\": \"\"}}, \"type\": \"histogram\"}], \"histogram2d\": [{\"colorbar\": {\"outlinewidth\": 0, \"ticks\": \"\"}, \"colorscale\": [[0.0, \"#0d0887\"], [0.1111111111111111, \"#46039f\"], [0.2222222222222222, \"#7201a8\"], [0.3333333333333333, \"#9c179e\"], [0.4444444444444444, \"#bd3786\"], [0.5555555555555556, \"#d8576b\"], [0.6666666666666666, \"#ed7953\"], [0.7777777777777778, \"#fb9f3a\"], [0.8888888888888888, \"#fdca26\"], [1.0, \"#f0f921\"]], \"type\": \"histogram2d\"}], \"histogram2dcontour\": [{\"colorbar\": {\"outlinewidth\": 0, \"ticks\": \"\"}, \"colorscale\": [[0.0, \"#0d0887\"], [0.1111111111111111, \"#46039f\"], [0.2222222222222222, \"#7201a8\"], [0.3333333333333333, \"#9c179e\"], [0.4444444444444444, \"#bd3786\"], [0.5555555555555556, \"#d8576b\"], [0.6666666666666666, \"#ed7953\"], [0.7777777777777778, \"#fb9f3a\"], [0.8888888888888888, \"#fdca26\"], [1.0, \"#f0f921\"]], \"type\": \"histogram2dcontour\"}], \"mesh3d\": [{\"colorbar\": {\"outlinewidth\": 0, \"ticks\": \"\"}, \"type\": \"mesh3d\"}], \"parcoords\": [{\"line\": {\"colorbar\": {\"outlinewidth\": 0, \"ticks\": \"\"}}, \"type\": \"parcoords\"}], \"pie\": [{\"automargin\": true, \"type\": \"pie\"}], \"scatter\": [{\"marker\": {\"colorbar\": {\"outlinewidth\": 0, \"ticks\": \"\"}}, \"type\": \"scatter\"}], \"scatter3d\": [{\"line\": {\"colorbar\": {\"outlinewidth\": 0, \"ticks\": \"\"}}, \"marker\": {\"colorbar\": {\"outlinewidth\": 0, \"ticks\": \"\"}}, \"type\": \"scatter3d\"}], \"scattercarpet\": [{\"marker\": {\"colorbar\": {\"outlinewidth\": 0, \"ticks\": \"\"}}, \"type\": \"scattercarpet\"}], \"scattergeo\": [{\"marker\": {\"colorbar\": {\"outlinewidth\": 0, \"ticks\": \"\"}}, \"type\": \"scattergeo\"}], \"scattergl\": [{\"marker\": {\"colorbar\": {\"outlinewidth\": 0, \"ticks\": \"\"}}, \"type\": \"scattergl\"}], \"scattermapbox\": [{\"marker\": {\"colorbar\": {\"outlinewidth\": 0, \"ticks\": \"\"}}, \"type\": \"scattermapbox\"}], \"scatterpolar\": [{\"marker\": {\"colorbar\": {\"outlinewidth\": 0, \"ticks\": \"\"}}, \"type\": \"scatterpolar\"}], \"scatterpolargl\": [{\"marker\": {\"colorbar\": {\"outlinewidth\": 0, \"ticks\": \"\"}}, \"type\": \"scatterpolargl\"}], \"scatterternary\": [{\"marker\": {\"colorbar\": {\"outlinewidth\": 0, \"ticks\": \"\"}}, \"type\": \"scatterternary\"}], \"surface\": [{\"colorbar\": {\"outlinewidth\": 0, \"ticks\": \"\"}, \"colorscale\": [[0.0, \"#0d0887\"], [0.1111111111111111, \"#46039f\"], [0.2222222222222222, \"#7201a8\"], [0.3333333333333333, \"#9c179e\"], [0.4444444444444444, \"#bd3786\"], [0.5555555555555556, \"#d8576b\"], [0.6666666666666666, \"#ed7953\"], [0.7777777777777778, \"#fb9f3a\"], [0.8888888888888888, \"#fdca26\"], [1.0, \"#f0f921\"]], \"type\": \"surface\"}], \"table\": [{\"cells\": {\"fill\": {\"color\": \"#EBF0F8\"}, \"line\": {\"color\": \"white\"}}, \"header\": {\"fill\": {\"color\": \"#C8D4E3\"}, \"line\": {\"color\": \"white\"}}, \"type\": \"table\"}]}, \"layout\": {\"annotationdefaults\": {\"arrowcolor\": \"#2a3f5f\", \"arrowhead\": 0, \"arrowwidth\": 1}, \"coloraxis\": {\"colorbar\": {\"outlinewidth\": 0, \"ticks\": \"\"}}, \"colorscale\": {\"diverging\": [[0, \"#8e0152\"], [0.1, \"#c51b7d\"], [0.2, \"#de77ae\"], [0.3, \"#f1b6da\"], [0.4, \"#fde0ef\"], [0.5, \"#f7f7f7\"], [0.6, \"#e6f5d0\"], [0.7, \"#b8e186\"], [0.8, \"#7fbc41\"], [0.9, \"#4d9221\"], [1, \"#276419\"]], \"sequential\": [[0.0, \"#0d0887\"], [0.1111111111111111, \"#46039f\"], [0.2222222222222222, \"#7201a8\"], [0.3333333333333333, \"#9c179e\"], [0.4444444444444444, \"#bd3786\"], [0.5555555555555556, \"#d8576b\"], [0.6666666666666666, \"#ed7953\"], [0.7777777777777778, \"#fb9f3a\"], [0.8888888888888888, \"#fdca26\"], [1.0, \"#f0f921\"]], \"sequentialminus\": [[0.0, \"#0d0887\"], [0.1111111111111111, \"#46039f\"], [0.2222222222222222, \"#7201a8\"], [0.3333333333333333, \"#9c179e\"], [0.4444444444444444, \"#bd3786\"], [0.5555555555555556, \"#d8576b\"], [0.6666666666666666, \"#ed7953\"], [0.7777777777777778, \"#fb9f3a\"], [0.8888888888888888, \"#fdca26\"], [1.0, \"#f0f921\"]]}, \"colorway\": [\"#636efa\", \"#EF553B\", \"#00cc96\", \"#ab63fa\", \"#FFA15A\", \"#19d3f3\", \"#FF6692\", \"#B6E880\", \"#FF97FF\", \"#FECB52\"], \"font\": {\"color\": \"#2a3f5f\"}, \"geo\": {\"bgcolor\": \"white\", \"lakecolor\": \"white\", \"landcolor\": \"#E5ECF6\", \"showlakes\": true, \"showland\": true, \"subunitcolor\": \"white\"}, \"hoverlabel\": {\"align\": \"left\"}, \"hovermode\": \"closest\", \"mapbox\": {\"style\": \"light\"}, \"paper_bgcolor\": \"white\", \"plot_bgcolor\": \"#E5ECF6\", \"polar\": {\"angularaxis\": {\"gridcolor\": \"white\", \"linecolor\": \"white\", \"ticks\": \"\"}, \"bgcolor\": \"#E5ECF6\", \"radialaxis\": {\"gridcolor\": \"white\", \"linecolor\": \"white\", \"ticks\": \"\"}}, \"scene\": {\"xaxis\": {\"backgroundcolor\": \"#E5ECF6\", \"gridcolor\": \"white\", \"gridwidth\": 2, \"linecolor\": \"white\", \"showbackground\": true, \"ticks\": \"\", \"zerolinecolor\": \"white\"}, \"yaxis\": {\"backgroundcolor\": \"#E5ECF6\", \"gridcolor\": \"white\", \"gridwidth\": 2, \"linecolor\": \"white\", \"showbackground\": true, \"ticks\": \"\", \"zerolinecolor\": \"white\"}, \"zaxis\": {\"backgroundcolor\": \"#E5ECF6\", \"gridcolor\": \"white\", \"gridwidth\": 2, \"linecolor\": \"white\", \"showbackground\": true, \"ticks\": \"\", \"zerolinecolor\": \"white\"}}, \"shapedefaults\": {\"line\": {\"color\": \"#2a3f5f\"}}, \"ternary\": {\"aaxis\": {\"gridcolor\": \"white\", \"linecolor\": \"white\", \"ticks\": \"\"}, \"baxis\": {\"gridcolor\": \"white\", \"linecolor\": \"white\", \"ticks\": \"\"}, \"bgcolor\": \"#E5ECF6\", \"caxis\": {\"gridcolor\": \"white\", \"linecolor\": \"white\", \"ticks\": \"\"}}, \"title\": {\"x\": 0.05}, \"xaxis\": {\"automargin\": true, \"gridcolor\": \"white\", \"linecolor\": \"white\", \"ticks\": \"\", \"title\": {\"standoff\": 15}, \"zerolinecolor\": \"white\", \"zerolinewidth\": 2}, \"yaxis\": {\"automargin\": true, \"gridcolor\": \"white\", \"linecolor\": \"white\", \"ticks\": \"\", \"title\": {\"standoff\": 15}, \"zerolinecolor\": \"white\", \"zerolinewidth\": 2}}}, \"title\": {\"text\": \"Opiniones sobre la cuarentena\"}, \"xaxis\": {\"anchor\": \"y\", \"domain\": [0.0, 1.0], \"title\": {\"text\": \" \"}}, \"yaxis\": {\"anchor\": \"x\", \"domain\": [0.0, 1.0], \"title\": {\"text\": \" \"}}},\n",
       "                        {\"responsive\": true}\n",
       "                    ).then(function(){\n",
       "                            \n",
       "var gd = document.getElementById('9e9e0148-6169-4c47-bb77-080bfab77642');\n",
       "var x = new MutationObserver(function (mutations, observer) {{\n",
       "        var display = window.getComputedStyle(gd).display;\n",
       "        if (!display || display === 'none') {{\n",
       "            console.log([gd, 'removed!']);\n",
       "            Plotly.purge(gd);\n",
       "            observer.disconnect();\n",
       "        }}\n",
       "}});\n",
       "\n",
       "// Listen for the removal of the full notebook cells\n",
       "var notebookContainer = gd.closest('#notebook-container');\n",
       "if (notebookContainer) {{\n",
       "    x.observe(notebookContainer, {childList: true});\n",
       "}}\n",
       "\n",
       "// Listen for the clearing of the current output cell\n",
       "var outputEl = gd.closest('.output');\n",
       "if (outputEl) {{\n",
       "    x.observe(outputEl, {childList: true});\n",
       "}}\n",
       "\n",
       "                        })\n",
       "                };\n",
       "                });\n",
       "            </script>\n",
       "        </div>"
      ]
     },
     "metadata": {},
     "output_type": "display_data"
    }
   ],
   "source": [
    "## histograma de lo que les parece la cuarentena \n",
    "fig = px.histogram(df, x=\"opinion\",title=f\"Opiniones sobre la cuarentena\")\n",
    "fig.update_yaxes(title_text=' ',row=1, col=1)\n",
    "fig.update_xaxes(title_text=' ',row=1, col=1)"
   ]
  },
  {
   "cell_type": "code",
   "execution_count": 83,
   "metadata": {},
   "outputs": [],
   "source": [
    "edades = widgets.Dropdown(\n",
    "    description='Rango etario:',\n",
    "    value='Menor de 18 años',\n",
    "    options=['Menor de 18 años','Entre 18 y 25 años','Entre 26 y 35 años','Entre 36 y 45 años', \n",
    "             'Entre 46 y 55 años', 'Entre 56 y 65 años','Más de 66 años']\n",
    ")\n",
    "container = widgets.HBox(children=[edades])"
   ]
  },
  {
   "cell_type": "code",
   "execution_count": 84,
   "metadata": {
    "extensions": {
     "jupyter_dashboards": {
      "version": 1,
      "views": {
       "grid_default": {},
       "report_default": {}
      }
     }
    },
    "scrolled": false
   },
   "outputs": [],
   "source": [
    "## histograma de lo que les parece la cuarentena segun edad\n",
    "#df_1 = df.loc[df.edad==menu_1.value,:]\n",
    "#fig = px.histogram(df_1, x=\"opinion\",title=f\"Opiniones sobre la cuarentena para las personas de {menu_1.value}\")\n",
    "#fig.update_yaxes(title_text=' ',row=1, col=1)\n",
    "#fig.update_xaxes(title_text=' ',row=1, col=1)"
   ]
  },
  {
   "cell_type": "code",
   "execution_count": 109,
   "metadata": {},
   "outputs": [],
   "source": [
    "# Assign an empty figure widget\n",
    "fig = go.Histogram(x=df[\"opinion\"])\n",
    "g = go.FigureWidget(data=[fig],\n",
    "                    layout=go.Layout(\n",
    "                        title=dict(\n",
    "                            text=f\"Opiniones sobre la cuarentena para las personas: {edades.value}\"\n",
    "                        )))"
   ]
  },
  {
   "cell_type": "code",
   "execution_count": 110,
   "metadata": {},
   "outputs": [],
   "source": [
    "def response(change):\n",
    "    df_1 = df.loc[df.edad==edades.value,:]\n",
    "    x1 = df_1['opinion']\n",
    "    with g.batch_update():\n",
    "        g.data[0].x = x1\n",
    "        g.layout.xaxis.title = ' '\n",
    "        g.layout.yaxis.title = ''\n",
    "        g.update_layout(\n",
    "            title=f\"Opiniones sobre la cuarentena para las personas: {edades.value}\")\n",
    "edades.observe(response, names=\"value\")"
   ]
  },
  {
   "cell_type": "code",
   "execution_count": 111,
   "metadata": {},
   "outputs": [
    {
     "data": {
      "application/vnd.jupyter.widget-view+json": {
       "model_id": "49605a0683c34cb3966ac162aafcdf2f",
       "version_major": 2,
       "version_minor": 0
      },
      "text/plain": [
       "VBox(children=(HBox(children=(Dropdown(description='Rango etario:', options=('Menor de 18 años', 'Entre 18 y 2…"
      ]
     },
     "metadata": {},
     "output_type": "display_data"
    }
   ],
   "source": [
    "widgets.VBox([container,\n",
    "              g])"
   ]
  }
 ],
 "metadata": {
  "extensions": {
   "jupyter_dashboards": {
    "activeView": "grid_default",
    "version": 1,
    "views": {
     "grid_default": {
      "cellMargin": 10,
      "defaultCellHeight": 20,
      "maxColumns": 12,
      "name": "grid",
      "type": "grid"
     },
     "report_default": {
      "name": "report",
      "type": "report"
     }
    }
   }
  },
  "kernelspec": {
   "display_name": "Python 3",
   "language": "python",
   "name": "python3"
  },
  "language_info": {
   "codemirror_mode": {
    "name": "ipython",
    "version": 3
   },
   "file_extension": ".py",
   "mimetype": "text/x-python",
   "name": "python",
   "nbconvert_exporter": "python",
   "pygments_lexer": "ipython3",
   "version": "3.7.4"
  }
 },
 "nbformat": 4,
 "nbformat_minor": 2
}
