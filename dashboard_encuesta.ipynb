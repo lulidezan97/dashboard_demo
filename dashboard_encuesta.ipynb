{
 "cells": [
  {
   "cell_type": "code",
   "execution_count": 41,
   "metadata": {
    "extensions": {
     "jupyter_dashboards": {
      "version": 1,
      "views": {
       "grid_default": {},
       "report_default": {
        "hidden": true
       }
      }
     }
    },
    "scrolled": false
   },
   "outputs": [],
   "source": [
    "from __future__ import print_function\n",
    "import pandas as pd\n",
    "import numpy as np\n",
    "#import textblob\n",
    "import plotly\n",
    "import plotly.graph_objects as go\n",
    "import plotly.express as px\n",
    "#import seaborn as sns\n",
    "from ipywidgets import widgets\n",
    "from ipywidgets import interact, interactive, fixed, interact_manual\n",
    "import geopandas as gpd"
   ]
  },
  {
   "cell_type": "code",
   "execution_count": 26,
   "metadata": {
    "extensions": {
     "jupyter_dashboards": {
      "version": 1,
      "views": {
       "grid_default": {},
       "report_default": {
        "hidden": true
       }
      }
     }
    }
   },
   "outputs": [],
   "source": [
    "#df = pd.read_csv('df_cuestionario.csv')\n",
    "df = pd.read_csv('https://raw.githubusercontent.com/lulidezan97/dashboard_demo/master/bases/df_cuestionario.csv')"
   ]
  },
  {
   "cell_type": "code",
   "execution_count": 27,
   "metadata": {
    "extensions": {
     "jupyter_dashboards": {
      "version": 1,
      "views": {
       "grid_default": {},
       "report_default": {
        "hidden": false
       }
      }
     }
    }
   },
   "outputs": [],
   "source": [
    "#df.head()"
   ]
  },
  {
   "cell_type": "markdown",
   "metadata": {
    "extensions": {
     "jupyter_dashboards": {
      "version": 1,
      "views": {
       "grid_default": {},
       "report_default": {
        "hidden": false
       }
      }
     }
    }
   },
   "source": [
    "# Reporte encuestas COVID"
   ]
  },
  {
   "cell_type": "markdown",
   "metadata": {
    "extensions": {
     "jupyter_dashboards": {
      "version": 1,
      "views": {
       "grid_default": {},
       "report_default": {
        "hidden": false
       }
      }
     }
    }
   },
   "source": [
    "### Exploración base"
   ]
  },
  {
   "cell_type": "code",
   "execution_count": 28,
   "metadata": {
    "extensions": {
     "jupyter_dashboards": {
      "version": 1,
      "views": {
       "grid_default": {},
       "report_default": {
        "hidden": false
       }
      }
     }
    }
   },
   "outputs": [
    {
     "data": {
      "application/vnd.plotly.v1+json": {
       "config": {
        "plotlyServerURL": "https://plot.ly"
       },
       "data": [
        {
         "alignmentgroup": "True",
         "bingroup": "x",
         "hoverlabel": {
          "namelength": 0
         },
         "hovertemplate": "Género=%{x}<br>count=%{y}",
         "legendgroup": "",
         "marker": {
          "color": "#636efa"
         },
         "name": "",
         "offsetgroup": "",
         "orientation": "v",
         "showlegend": false,
         "type": "histogram",
         "x": [
          "Mujer",
          "Mujer",
          "Mujer",
          "Mujer",
          "Mujer",
          "Mujer",
          "Mujer",
          "Mujer",
          "Mujer",
          "Mujer",
          "Mujer",
          "Mujer",
          "Mujer",
          "Mujer",
          "Mujer",
          "Mujer",
          "Mujer",
          "Mujer",
          "Hombre",
          "Mujer",
          "Mujer",
          "Mujer",
          "Mujer",
          "Mujer",
          "Mujer",
          "Mujer",
          "Mujer",
          "Mujer",
          "Mujer",
          "Mujer",
          "Mujer",
          "Mujer",
          "Mujer",
          "Mujer",
          "Mujer",
          "Mujer",
          "Mujer",
          "Mujer",
          "Mujer",
          "Mujer",
          "Mujer",
          "Mujer",
          "Mujer",
          "Mujer",
          "Mujer",
          "Mujer",
          "Mujer",
          "Mujer",
          "Mujer",
          "Mujer",
          "Mujer",
          "Hombre",
          "Hombre",
          "Hombre",
          "Hombre",
          "Hombre",
          "Hombre",
          "Hombre",
          "Hombre",
          "Hombre",
          "Hombre",
          "Hombre",
          "Hombre",
          "Hombre",
          "Hombre",
          "Hombre",
          "Hombre",
          "Hombre",
          "Mujer",
          "Hombre",
          "Hombre",
          "Hombre",
          "Hombre",
          "Hombre",
          "Hombre",
          "Hombre",
          "Hombre",
          "Mujer",
          "Mujer",
          "Mujer",
          "Mujer",
          "Mujer",
          "Mujer",
          "Mujer",
          "Mujer",
          "Mujer",
          "Mujer",
          "Mujer",
          "Mujer",
          "Mujer",
          "Mujer",
          "Mujer",
          "Mujer",
          "Mujer",
          "Mujer",
          "Mujer",
          "Mujer",
          "Mujer",
          "Mujer",
          "Mujer",
          "Mujer",
          "Mujer",
          "Mujer",
          "Mujer",
          "Mujer",
          "Mujer",
          "Mujer",
          "Mujer",
          "Mujer",
          "Mujer",
          "Mujer",
          "Mujer",
          "Mujer",
          "Mujer",
          "Mujer",
          "Mujer",
          "Mujer",
          "Mujer",
          "Mujer",
          "Mujer",
          "Mujer",
          "Mujer",
          "Mujer",
          "Mujer",
          "Mujer",
          "Mujer",
          "Mujer",
          "Mujer",
          "Mujer",
          "Mujer",
          "Mujer",
          "Mujer",
          "Mujer",
          "Mujer",
          "Mujer",
          "Mujer",
          "Mujer",
          "Mujer",
          "Mujer",
          "Mujer",
          "Hombre",
          "Mujer",
          "Mujer",
          "Mujer",
          "Mujer",
          "Mujer",
          "Mujer",
          "Mujer",
          "Mujer",
          "Mujer",
          "Mujer",
          "Mujer",
          "Mujer",
          "Mujer",
          "Mujer",
          "Mujer",
          "Mujer",
          "Mujer",
          "Mujer",
          "Mujer",
          "Mujer",
          "Mujer",
          "Mujer",
          "Mujer",
          "Mujer",
          "Mujer",
          "Mujer",
          "Mujer",
          "Mujer",
          "Mujer",
          "Mujer",
          "Mujer",
          "Mujer",
          "Mujer",
          "Mujer",
          "Mujer",
          "Mujer",
          "Mujer",
          "Mujer",
          "Mujer",
          "Mujer",
          "Mujer",
          "Mujer",
          "Mujer",
          "Mujer",
          "Mujer",
          "Mujer",
          "Mujer",
          "Mujer",
          "Mujer",
          "Mujer",
          "Mujer",
          "Mujer",
          "Mujer",
          "Mujer",
          "Mujer",
          "Mujer",
          "Mujer",
          "Mujer",
          "Mujer",
          "Mujer",
          "Mujer",
          "Mujer",
          "Mujer",
          "Mujer",
          "Mujer",
          "Mujer",
          "Mujer",
          "Mujer",
          "Mujer",
          "Mujer",
          "Mujer",
          "Mujer",
          "Mujer",
          "Mujer",
          "Mujer",
          "Mujer",
          "Mujer",
          "Mujer",
          "Mujer",
          "Mujer",
          "Mujer",
          "Mujer",
          "Mujer",
          "Mujer",
          "Mujer",
          "Mujer",
          "Mujer",
          "Mujer",
          "Mujer",
          "Mujer",
          "Mujer",
          "Mujer",
          "Mujer",
          "Mujer",
          "Mujer",
          "Mujer",
          "Mujer",
          "Mujer",
          "Mujer",
          "Mujer",
          "Mujer",
          "Mujer",
          "Mujer",
          "Mujer",
          "Mujer",
          "Mujer",
          "Mujer",
          "Mujer",
          "Mujer",
          "Mujer",
          "Mujer",
          "Mujer",
          "Mujer",
          "Mujer",
          "Mujer",
          "Mujer",
          "Mujer",
          "Mujer",
          "Mujer",
          "Mujer",
          "Mujer",
          "Mujer",
          "Mujer",
          "Mujer",
          "Mujer",
          "Mujer",
          "Mujer",
          "Mujer",
          "Mujer",
          "Mujer",
          "Mujer",
          "Mujer",
          "Mujer",
          "Mujer",
          "Mujer",
          "Mujer",
          "Mujer",
          "Mujer",
          "Mujer",
          "Mujer",
          "Mujer",
          "Mujer",
          "Mujer",
          "Mujer",
          "Mujer",
          "Mujer",
          "Mujer",
          "Mujer",
          "Mujer",
          "Hombre",
          "Hombre",
          "Hombre",
          "Hombre",
          "Hombre",
          "Hombre",
          "Hombre",
          "Hombre",
          "Hombre",
          "Hombre",
          "Hombre",
          "Hombre",
          "Hombre",
          "Hombre",
          "Hombre",
          "Hombre",
          "Hombre",
          "Hombre",
          "Hombre",
          "Hombre",
          "Hombre",
          "Hombre",
          "Hombre",
          "Hombre",
          "Hombre",
          "Hombre",
          "Hombre",
          "Hombre",
          "Hombre",
          "Hombre",
          "Hombre",
          "Hombre",
          "Hombre",
          "Hombre",
          "Hombre",
          "Hombre",
          "Hombre",
          "Mujer",
          "Hombre",
          "Hombre",
          "Hombre",
          "Hombre",
          "Hombre",
          "Hombre",
          "Hombre",
          "Hombre",
          "Otro",
          "Hombre",
          "Hombre",
          "Hombre",
          "Hombre",
          "Hombre",
          "Hombre",
          "Hombre",
          "Hombre",
          "Hombre",
          "Hombre",
          "Hombre",
          "Hombre",
          "Hombre",
          "Hombre",
          "Hombre",
          "Hombre",
          "Hombre",
          "Hombre",
          "Hombre",
          "Hombre",
          "Hombre",
          "Mujer",
          "Hombre",
          "Hombre",
          "Hombre",
          "Hombre",
          "Hombre",
          "Hombre",
          "Hombre",
          "Hombre",
          "Hombre",
          "Hombre",
          "Hombre",
          "Hombre",
          "Hombre",
          "Hombre",
          "Hombre",
          "Hombre",
          "Hombre",
          "Hombre",
          "Hombre",
          "Hombre",
          "Hombre",
          "Hombre",
          "Hombre",
          "Hombre",
          "Hombre",
          "Hombre",
          "Hombre",
          "Hombre",
          "Hombre",
          "Hombre",
          "Hombre",
          "Hombre",
          "Mujer",
          "Hombre",
          "Hombre",
          "Hombre",
          "Hombre",
          "Hombre",
          "Hombre",
          "Hombre",
          "Hombre",
          "Hombre",
          "Hombre",
          "Hombre",
          "Hombre",
          "Hombre",
          "Hombre",
          "Hombre",
          "Hombre",
          "Hombre",
          "Hombre",
          "Hombre",
          "Hombre",
          "Hombre",
          "Hombre",
          "Hombre",
          "Hombre",
          "Hombre",
          "Hombre",
          "Hombre",
          "Hombre",
          "Hombre",
          "Hombre",
          "Hombre",
          "Hombre",
          "Hombre",
          "Hombre",
          "Hombre",
          "Hombre",
          "Hombre",
          "Hombre",
          "Hombre",
          "Mujer",
          "Hombre",
          "Hombre",
          "Hombre",
          "Hombre",
          "Hombre",
          "Hombre",
          "Hombre",
          "Hombre",
          "Hombre",
          "Hombre",
          "Hombre",
          "Hombre",
          "Hombre",
          "Hombre",
          "Hombre",
          "Hombre",
          "Hombre",
          "Hombre",
          "Hombre",
          "Hombre",
          "Hombre",
          "Hombre",
          "Hombre",
          "Hombre",
          "Hombre",
          "Hombre",
          "Hombre",
          "Hombre",
          "Hombre",
          "Hombre",
          "Hombre",
          "Hombre",
          "Hombre",
          "Hombre",
          "Hombre",
          "Hombre",
          "Hombre",
          "Hombre",
          "Hombre",
          "Hombre",
          "Hombre",
          "Hombre",
          "Hombre",
          "Hombre",
          "Hombre",
          "Hombre",
          "Hombre",
          "Hombre",
          "Hombre",
          "Hombre",
          "Hombre",
          "Hombre",
          "Hombre",
          "Hombre",
          "Hombre",
          "Hombre",
          "Hombre",
          "Hombre",
          "Hombre",
          "Mujer",
          "Hombre",
          "Hombre",
          "Hombre",
          "Hombre",
          "Hombre",
          "Mujer",
          "Hombre",
          "Hombre",
          "Otro",
          "Hombre",
          "Hombre",
          "Hombre",
          "Hombre",
          "Hombre",
          "Hombre",
          "Hombre",
          "Hombre",
          "Hombre",
          "Hombre",
          "Hombre",
          "Hombre",
          "Hombre",
          "Hombre",
          "Hombre",
          "Hombre",
          "Hombre",
          "Hombre",
          "Hombre",
          "Hombre",
          "Hombre",
          "Hombre",
          "Hombre",
          "Hombre",
          "Hombre",
          "Hombre",
          "Hombre",
          "Hombre",
          "Hombre",
          "Mujer",
          "Hombre",
          "Hombre",
          "Hombre",
          "Hombre",
          "Hombre",
          "Hombre",
          "Hombre",
          "Hombre",
          "Hombre",
          "Hombre",
          "Hombre",
          "Hombre",
          "Hombre",
          "Hombre",
          "Hombre",
          "Hombre",
          "Hombre",
          "Hombre",
          "Hombre",
          "Hombre",
          "Hombre",
          "Hombre",
          "Hombre",
          "Hombre",
          "Hombre",
          "Hombre",
          "Hombre",
          "Hombre",
          "Hombre",
          "Hombre",
          "Hombre",
          "Hombre",
          "Hombre",
          "Hombre",
          "Hombre",
          "Hombre",
          "Hombre",
          "Mujer",
          "Hombre",
          "Hombre",
          "Hombre",
          "Hombre",
          "Hombre",
          "Hombre",
          "Hombre",
          "Hombre",
          "Hombre",
          "Hombre",
          "Hombre",
          "Hombre",
          "Hombre",
          "Hombre",
          "Hombre",
          "Hombre",
          "Hombre",
          "Hombre",
          "Hombre",
          "Hombre",
          "Hombre",
          "Hombre",
          "Hombre",
          "Mujer",
          "Hombre",
          "Hombre",
          "Hombre",
          "Hombre",
          "Hombre",
          "Hombre",
          "Hombre",
          "Hombre",
          "Hombre",
          "Hombre",
          "Hombre",
          "Hombre",
          "Hombre",
          "Hombre",
          "Hombre",
          "Hombre",
          "Hombre",
          "Hombre",
          "Hombre",
          "Mujer",
          "Mujer",
          "Mujer",
          "Mujer",
          "Mujer",
          "Mujer",
          "Mujer",
          "Mujer",
          "Mujer",
          "Mujer",
          "Mujer",
          "Mujer",
          "Mujer",
          "Mujer",
          "Mujer",
          "Mujer",
          "Mujer",
          "Mujer",
          "Mujer",
          "Mujer",
          "Mujer",
          "Mujer",
          "Mujer",
          "Mujer",
          "Mujer",
          "Mujer",
          "Mujer",
          "Mujer",
          "Mujer",
          "Mujer",
          "Mujer",
          "Mujer",
          "Mujer",
          "Mujer",
          "Mujer",
          "Mujer",
          "Mujer",
          "Mujer",
          "Mujer",
          "Mujer",
          "Mujer",
          "Mujer",
          "Mujer",
          "Mujer",
          "Mujer",
          "Mujer",
          "Mujer",
          "Mujer",
          "Mujer",
          "Mujer",
          "Mujer",
          "Mujer",
          "Mujer",
          "Mujer",
          "Mujer",
          "Mujer",
          "Mujer",
          "Mujer",
          "Mujer",
          "Mujer",
          "Mujer",
          "Mujer",
          "Mujer",
          "Mujer",
          "Mujer",
          "Mujer",
          "Mujer",
          "Mujer",
          "Mujer",
          "Mujer",
          "Mujer",
          "Mujer",
          "Mujer",
          "Mujer",
          "Mujer",
          "Mujer",
          "Mujer",
          "Mujer",
          "Mujer",
          "Mujer",
          "Mujer",
          "Mujer",
          "Mujer",
          "Mujer",
          "Mujer",
          "Mujer",
          "Mujer",
          "Mujer",
          "Mujer",
          "Mujer",
          "Mujer",
          "Mujer",
          "Mujer",
          "Mujer",
          "Mujer",
          "Mujer",
          "Mujer",
          "Mujer",
          "Mujer",
          "Mujer",
          "Mujer",
          "Mujer",
          "Mujer",
          "Mujer",
          "Mujer",
          "Mujer",
          "Mujer",
          "Mujer",
          "Mujer",
          "Mujer",
          "Mujer",
          "Mujer",
          "Mujer",
          "Mujer",
          "Mujer",
          "Mujer",
          "Mujer",
          "Mujer",
          "Mujer",
          "Mujer",
          "Mujer",
          "Mujer",
          "Mujer",
          "Mujer",
          "Mujer",
          "Mujer",
          "Mujer",
          "Mujer",
          "Mujer",
          "Mujer",
          "Mujer",
          "Mujer",
          "Mujer",
          "Hombre",
          "Mujer",
          "Mujer",
          "Mujer",
          "Mujer",
          "Mujer",
          "Mujer",
          "Mujer",
          "Mujer",
          "Mujer",
          "Mujer",
          "Mujer",
          "Mujer",
          "Mujer",
          "Mujer",
          "Mujer",
          "Mujer",
          "Mujer",
          "Mujer",
          "Mujer",
          "Mujer",
          "Mujer",
          "Mujer",
          "Mujer",
          "Mujer",
          "Mujer",
          "Mujer",
          "Mujer",
          "Mujer",
          "Mujer",
          "Mujer",
          "Mujer",
          "Mujer",
          "Mujer",
          "Mujer",
          "Mujer",
          "Mujer",
          "Mujer",
          "Mujer",
          "Mujer",
          "Mujer",
          "Mujer",
          "Hombre",
          "Mujer",
          "Mujer",
          "Mujer",
          "Mujer",
          "Mujer",
          "Mujer",
          "Mujer",
          "Mujer",
          "Mujer",
          "Mujer",
          "Mujer",
          "Mujer",
          "Mujer",
          "Mujer",
          "Mujer",
          "Mujer",
          "Mujer",
          "Mujer",
          "Mujer",
          "Mujer",
          "Mujer",
          "Mujer",
          "Mujer",
          "Mujer",
          "Mujer",
          "Mujer",
          "Mujer",
          "Mujer",
          "Mujer",
          "Mujer",
          "Mujer",
          "Mujer",
          "Mujer",
          "Mujer",
          "Mujer",
          "Mujer",
          "Mujer",
          "Mujer",
          "Mujer",
          "Mujer",
          "Mujer",
          "Mujer",
          "Mujer",
          "Mujer",
          "Mujer",
          "Mujer",
          "Mujer",
          "Mujer",
          "Mujer",
          "Mujer",
          "Mujer",
          "Mujer",
          "Mujer",
          "Mujer",
          "Mujer",
          "Mujer",
          "Mujer",
          "Mujer",
          "Mujer",
          "Mujer",
          "Mujer",
          "Mujer",
          "Mujer",
          "Mujer",
          "Mujer",
          "Mujer",
          "Mujer",
          "Mujer",
          "Mujer",
          "Mujer",
          "Mujer",
          "Mujer",
          "Mujer",
          "Mujer",
          "Mujer",
          "Mujer",
          "Mujer",
          "Mujer",
          "Mujer",
          "Mujer",
          "Mujer",
          "Mujer",
          "Mujer",
          "Mujer",
          "Mujer",
          "Mujer",
          "Mujer",
          "Mujer",
          "Mujer",
          "Mujer",
          "Mujer",
          "Mujer",
          "Mujer",
          "Mujer",
          "Mujer",
          "Mujer",
          "Mujer",
          "Mujer",
          "Mujer",
          "Mujer",
          "Mujer",
          "Mujer",
          "Mujer",
          "Mujer",
          "Mujer",
          "Mujer",
          "Mujer",
          "Mujer",
          "Mujer",
          "Mujer",
          "Mujer",
          "Mujer",
          "Mujer",
          "Mujer",
          "Mujer",
          "Mujer",
          "Mujer",
          "Mujer",
          "Mujer",
          "Mujer",
          "Mujer",
          "Mujer",
          "Mujer",
          "Mujer",
          "Mujer",
          "Mujer",
          "Mujer",
          "Mujer",
          "Mujer",
          "Mujer",
          "Mujer",
          "Mujer",
          "Mujer",
          "Mujer",
          "Mujer",
          "Mujer",
          "Mujer",
          "Mujer",
          "Mujer",
          "Mujer",
          "Mujer",
          "Mujer",
          "Mujer",
          "Mujer",
          "Mujer",
          "Mujer",
          "Mujer",
          "Mujer",
          "Mujer",
          "Mujer",
          "Mujer",
          "Mujer",
          "Mujer",
          "Mujer",
          "Mujer",
          "Mujer",
          "Mujer",
          "Mujer",
          "Mujer",
          "Mujer",
          "Mujer",
          "Mujer",
          "Mujer",
          "Mujer",
          "Mujer",
          "Mujer",
          "Mujer",
          "Mujer",
          "Mujer",
          "Mujer",
          "Mujer",
          "Mujer",
          "Mujer",
          "Mujer",
          "Mujer",
          "Mujer",
          "Mujer",
          "Mujer",
          "Mujer",
          "Mujer",
          "Mujer",
          "Mujer",
          "Mujer",
          "Mujer",
          "Mujer",
          "Mujer",
          "Mujer",
          "Mujer",
          "Mujer",
          "Mujer",
          "Mujer",
          "Mujer",
          "Mujer",
          "Mujer",
          "Mujer",
          "Mujer",
          "Mujer",
          "Mujer",
          "Mujer",
          "Mujer",
          "Mujer",
          "Mujer",
          "Mujer",
          "Mujer",
          "Mujer",
          "Mujer",
          "Mujer",
          "Mujer",
          "Mujer",
          "Mujer",
          "Mujer",
          "Mujer",
          "Mujer",
          "Mujer",
          "Mujer",
          "Mujer",
          "Mujer",
          "Mujer",
          "Mujer",
          "Mujer",
          "Mujer",
          "Mujer",
          "Mujer",
          "Mujer",
          "Mujer",
          "Mujer",
          "Mujer",
          "Mujer",
          "Mujer",
          "Mujer",
          "Mujer",
          "Mujer",
          "Mujer",
          "Mujer",
          "Mujer",
          "Mujer",
          "Mujer",
          "Mujer",
          "Mujer",
          "Mujer",
          "Mujer",
          "Mujer",
          "Mujer",
          "Mujer",
          "Mujer",
          "Mujer",
          "Mujer",
          "Mujer",
          "Mujer",
          "Mujer",
          "Mujer",
          "Mujer",
          "Mujer",
          "Mujer",
          "Mujer",
          "Mujer",
          "Mujer",
          "Mujer",
          "Mujer",
          "Mujer",
          "Mujer",
          "Mujer",
          "Mujer",
          "Mujer",
          "Mujer",
          "Mujer",
          "Mujer",
          "Mujer",
          "Mujer",
          "Mujer",
          "Mujer",
          "Mujer",
          "Mujer",
          "Mujer",
          "Mujer",
          "Mujer",
          "Mujer",
          "Mujer",
          "Mujer",
          "Mujer",
          "Mujer",
          "Mujer",
          "Mujer",
          "Mujer",
          "Mujer",
          "Mujer",
          "Mujer",
          "Mujer",
          "Mujer",
          "Mujer",
          "Mujer",
          "Mujer",
          "Mujer",
          "Mujer",
          "Mujer",
          "Mujer",
          "Mujer",
          "Mujer",
          "Mujer",
          "Mujer",
          "Mujer",
          "Mujer",
          "Mujer",
          "Mujer",
          "Mujer",
          "Mujer",
          "Mujer",
          "Mujer",
          "Hombre",
          "Hombre",
          "Hombre",
          "Hombre",
          "Hombre",
          "Hombre",
          "Hombre",
          "Hombre",
          "Hombre",
          "Hombre",
          "Hombre",
          "Hombre",
          "Hombre",
          "Hombre",
          "Hombre",
          "Hombre",
          "Hombre",
          "Hombre",
          "Hombre",
          "Hombre",
          "Hombre",
          "Hombre",
          "Hombre",
          "Hombre",
          "Hombre",
          "Hombre",
          "Hombre",
          "Hombre",
          "Hombre",
          "Hombre",
          "Hombre",
          "Hombre",
          "Hombre",
          "Hombre",
          "Hombre",
          "Hombre",
          "Hombre",
          "Hombre",
          "Hombre",
          "Hombre",
          "Hombre",
          "Hombre",
          "Hombre",
          "Hombre",
          "Hombre",
          "Hombre",
          "Hombre",
          "Hombre",
          "Hombre",
          "Hombre",
          "Hombre",
          "Hombre",
          "Hombre",
          "Hombre",
          "Hombre",
          "Hombre",
          "Hombre",
          "Hombre",
          "Hombre",
          "Hombre",
          "Hombre",
          "Hombre",
          "Hombre",
          "Hombre",
          "Hombre",
          "Mujer",
          "Hombre",
          "Hombre",
          "Hombre",
          "Hombre",
          "Hombre",
          "Hombre",
          "Hombre",
          "Hombre",
          "Hombre",
          "Hombre",
          "Hombre",
          "Hombre",
          "Hombre",
          "Hombre",
          "Hombre",
          "Hombre",
          "Hombre",
          "Hombre",
          "Hombre",
          "Hombre",
          "Hombre",
          "Hombre",
          "Hombre",
          "Hombre",
          "Hombre",
          "Hombre",
          "Hombre",
          "Hombre",
          "Hombre",
          "Hombre"
         ],
         "xaxis": "x",
         "yaxis": "y"
        }
       ],
       "layout": {
        "barmode": "relative",
        "height": 600,
        "legend": {
         "tracegroupgap": 0
        },
        "template": {
         "data": {
          "bar": [
           {
            "error_x": {
             "color": "#2a3f5f"
            },
            "error_y": {
             "color": "#2a3f5f"
            },
            "marker": {
             "line": {
              "color": "#E5ECF6",
              "width": 0.5
             }
            },
            "type": "bar"
           }
          ],
          "barpolar": [
           {
            "marker": {
             "line": {
              "color": "#E5ECF6",
              "width": 0.5
             }
            },
            "type": "barpolar"
           }
          ],
          "carpet": [
           {
            "aaxis": {
             "endlinecolor": "#2a3f5f",
             "gridcolor": "white",
             "linecolor": "white",
             "minorgridcolor": "white",
             "startlinecolor": "#2a3f5f"
            },
            "baxis": {
             "endlinecolor": "#2a3f5f",
             "gridcolor": "white",
             "linecolor": "white",
             "minorgridcolor": "white",
             "startlinecolor": "#2a3f5f"
            },
            "type": "carpet"
           }
          ],
          "choropleth": [
           {
            "colorbar": {
             "outlinewidth": 0,
             "ticks": ""
            },
            "type": "choropleth"
           }
          ],
          "contour": [
           {
            "colorbar": {
             "outlinewidth": 0,
             "ticks": ""
            },
            "colorscale": [
             [
              0,
              "#0d0887"
             ],
             [
              0.1111111111111111,
              "#46039f"
             ],
             [
              0.2222222222222222,
              "#7201a8"
             ],
             [
              0.3333333333333333,
              "#9c179e"
             ],
             [
              0.4444444444444444,
              "#bd3786"
             ],
             [
              0.5555555555555556,
              "#d8576b"
             ],
             [
              0.6666666666666666,
              "#ed7953"
             ],
             [
              0.7777777777777778,
              "#fb9f3a"
             ],
             [
              0.8888888888888888,
              "#fdca26"
             ],
             [
              1,
              "#f0f921"
             ]
            ],
            "type": "contour"
           }
          ],
          "contourcarpet": [
           {
            "colorbar": {
             "outlinewidth": 0,
             "ticks": ""
            },
            "type": "contourcarpet"
           }
          ],
          "heatmap": [
           {
            "colorbar": {
             "outlinewidth": 0,
             "ticks": ""
            },
            "colorscale": [
             [
              0,
              "#0d0887"
             ],
             [
              0.1111111111111111,
              "#46039f"
             ],
             [
              0.2222222222222222,
              "#7201a8"
             ],
             [
              0.3333333333333333,
              "#9c179e"
             ],
             [
              0.4444444444444444,
              "#bd3786"
             ],
             [
              0.5555555555555556,
              "#d8576b"
             ],
             [
              0.6666666666666666,
              "#ed7953"
             ],
             [
              0.7777777777777778,
              "#fb9f3a"
             ],
             [
              0.8888888888888888,
              "#fdca26"
             ],
             [
              1,
              "#f0f921"
             ]
            ],
            "type": "heatmap"
           }
          ],
          "heatmapgl": [
           {
            "colorbar": {
             "outlinewidth": 0,
             "ticks": ""
            },
            "colorscale": [
             [
              0,
              "#0d0887"
             ],
             [
              0.1111111111111111,
              "#46039f"
             ],
             [
              0.2222222222222222,
              "#7201a8"
             ],
             [
              0.3333333333333333,
              "#9c179e"
             ],
             [
              0.4444444444444444,
              "#bd3786"
             ],
             [
              0.5555555555555556,
              "#d8576b"
             ],
             [
              0.6666666666666666,
              "#ed7953"
             ],
             [
              0.7777777777777778,
              "#fb9f3a"
             ],
             [
              0.8888888888888888,
              "#fdca26"
             ],
             [
              1,
              "#f0f921"
             ]
            ],
            "type": "heatmapgl"
           }
          ],
          "histogram": [
           {
            "marker": {
             "colorbar": {
              "outlinewidth": 0,
              "ticks": ""
             }
            },
            "type": "histogram"
           }
          ],
          "histogram2d": [
           {
            "colorbar": {
             "outlinewidth": 0,
             "ticks": ""
            },
            "colorscale": [
             [
              0,
              "#0d0887"
             ],
             [
              0.1111111111111111,
              "#46039f"
             ],
             [
              0.2222222222222222,
              "#7201a8"
             ],
             [
              0.3333333333333333,
              "#9c179e"
             ],
             [
              0.4444444444444444,
              "#bd3786"
             ],
             [
              0.5555555555555556,
              "#d8576b"
             ],
             [
              0.6666666666666666,
              "#ed7953"
             ],
             [
              0.7777777777777778,
              "#fb9f3a"
             ],
             [
              0.8888888888888888,
              "#fdca26"
             ],
             [
              1,
              "#f0f921"
             ]
            ],
            "type": "histogram2d"
           }
          ],
          "histogram2dcontour": [
           {
            "colorbar": {
             "outlinewidth": 0,
             "ticks": ""
            },
            "colorscale": [
             [
              0,
              "#0d0887"
             ],
             [
              0.1111111111111111,
              "#46039f"
             ],
             [
              0.2222222222222222,
              "#7201a8"
             ],
             [
              0.3333333333333333,
              "#9c179e"
             ],
             [
              0.4444444444444444,
              "#bd3786"
             ],
             [
              0.5555555555555556,
              "#d8576b"
             ],
             [
              0.6666666666666666,
              "#ed7953"
             ],
             [
              0.7777777777777778,
              "#fb9f3a"
             ],
             [
              0.8888888888888888,
              "#fdca26"
             ],
             [
              1,
              "#f0f921"
             ]
            ],
            "type": "histogram2dcontour"
           }
          ],
          "mesh3d": [
           {
            "colorbar": {
             "outlinewidth": 0,
             "ticks": ""
            },
            "type": "mesh3d"
           }
          ],
          "parcoords": [
           {
            "line": {
             "colorbar": {
              "outlinewidth": 0,
              "ticks": ""
             }
            },
            "type": "parcoords"
           }
          ],
          "pie": [
           {
            "automargin": true,
            "type": "pie"
           }
          ],
          "scatter": [
           {
            "marker": {
             "colorbar": {
              "outlinewidth": 0,
              "ticks": ""
             }
            },
            "type": "scatter"
           }
          ],
          "scatter3d": [
           {
            "line": {
             "colorbar": {
              "outlinewidth": 0,
              "ticks": ""
             }
            },
            "marker": {
             "colorbar": {
              "outlinewidth": 0,
              "ticks": ""
             }
            },
            "type": "scatter3d"
           }
          ],
          "scattercarpet": [
           {
            "marker": {
             "colorbar": {
              "outlinewidth": 0,
              "ticks": ""
             }
            },
            "type": "scattercarpet"
           }
          ],
          "scattergeo": [
           {
            "marker": {
             "colorbar": {
              "outlinewidth": 0,
              "ticks": ""
             }
            },
            "type": "scattergeo"
           }
          ],
          "scattergl": [
           {
            "marker": {
             "colorbar": {
              "outlinewidth": 0,
              "ticks": ""
             }
            },
            "type": "scattergl"
           }
          ],
          "scattermapbox": [
           {
            "marker": {
             "colorbar": {
              "outlinewidth": 0,
              "ticks": ""
             }
            },
            "type": "scattermapbox"
           }
          ],
          "scatterpolar": [
           {
            "marker": {
             "colorbar": {
              "outlinewidth": 0,
              "ticks": ""
             }
            },
            "type": "scatterpolar"
           }
          ],
          "scatterpolargl": [
           {
            "marker": {
             "colorbar": {
              "outlinewidth": 0,
              "ticks": ""
             }
            },
            "type": "scatterpolargl"
           }
          ],
          "scatterternary": [
           {
            "marker": {
             "colorbar": {
              "outlinewidth": 0,
              "ticks": ""
             }
            },
            "type": "scatterternary"
           }
          ],
          "surface": [
           {
            "colorbar": {
             "outlinewidth": 0,
             "ticks": ""
            },
            "colorscale": [
             [
              0,
              "#0d0887"
             ],
             [
              0.1111111111111111,
              "#46039f"
             ],
             [
              0.2222222222222222,
              "#7201a8"
             ],
             [
              0.3333333333333333,
              "#9c179e"
             ],
             [
              0.4444444444444444,
              "#bd3786"
             ],
             [
              0.5555555555555556,
              "#d8576b"
             ],
             [
              0.6666666666666666,
              "#ed7953"
             ],
             [
              0.7777777777777778,
              "#fb9f3a"
             ],
             [
              0.8888888888888888,
              "#fdca26"
             ],
             [
              1,
              "#f0f921"
             ]
            ],
            "type": "surface"
           }
          ],
          "table": [
           {
            "cells": {
             "fill": {
              "color": "#EBF0F8"
             },
             "line": {
              "color": "white"
             }
            },
            "header": {
             "fill": {
              "color": "#C8D4E3"
             },
             "line": {
              "color": "white"
             }
            },
            "type": "table"
           }
          ]
         },
         "layout": {
          "annotationdefaults": {
           "arrowcolor": "#2a3f5f",
           "arrowhead": 0,
           "arrowwidth": 1
          },
          "coloraxis": {
           "colorbar": {
            "outlinewidth": 0,
            "ticks": ""
           }
          },
          "colorscale": {
           "diverging": [
            [
             0,
             "#8e0152"
            ],
            [
             0.1,
             "#c51b7d"
            ],
            [
             0.2,
             "#de77ae"
            ],
            [
             0.3,
             "#f1b6da"
            ],
            [
             0.4,
             "#fde0ef"
            ],
            [
             0.5,
             "#f7f7f7"
            ],
            [
             0.6,
             "#e6f5d0"
            ],
            [
             0.7,
             "#b8e186"
            ],
            [
             0.8,
             "#7fbc41"
            ],
            [
             0.9,
             "#4d9221"
            ],
            [
             1,
             "#276419"
            ]
           ],
           "sequential": [
            [
             0,
             "#0d0887"
            ],
            [
             0.1111111111111111,
             "#46039f"
            ],
            [
             0.2222222222222222,
             "#7201a8"
            ],
            [
             0.3333333333333333,
             "#9c179e"
            ],
            [
             0.4444444444444444,
             "#bd3786"
            ],
            [
             0.5555555555555556,
             "#d8576b"
            ],
            [
             0.6666666666666666,
             "#ed7953"
            ],
            [
             0.7777777777777778,
             "#fb9f3a"
            ],
            [
             0.8888888888888888,
             "#fdca26"
            ],
            [
             1,
             "#f0f921"
            ]
           ],
           "sequentialminus": [
            [
             0,
             "#0d0887"
            ],
            [
             0.1111111111111111,
             "#46039f"
            ],
            [
             0.2222222222222222,
             "#7201a8"
            ],
            [
             0.3333333333333333,
             "#9c179e"
            ],
            [
             0.4444444444444444,
             "#bd3786"
            ],
            [
             0.5555555555555556,
             "#d8576b"
            ],
            [
             0.6666666666666666,
             "#ed7953"
            ],
            [
             0.7777777777777778,
             "#fb9f3a"
            ],
            [
             0.8888888888888888,
             "#fdca26"
            ],
            [
             1,
             "#f0f921"
            ]
           ]
          },
          "colorway": [
           "#636efa",
           "#EF553B",
           "#00cc96",
           "#ab63fa",
           "#FFA15A",
           "#19d3f3",
           "#FF6692",
           "#B6E880",
           "#FF97FF",
           "#FECB52"
          ],
          "font": {
           "color": "#2a3f5f"
          },
          "geo": {
           "bgcolor": "white",
           "lakecolor": "white",
           "landcolor": "#E5ECF6",
           "showlakes": true,
           "showland": true,
           "subunitcolor": "white"
          },
          "hoverlabel": {
           "align": "left"
          },
          "hovermode": "closest",
          "mapbox": {
           "style": "light"
          },
          "paper_bgcolor": "white",
          "plot_bgcolor": "#E5ECF6",
          "polar": {
           "angularaxis": {
            "gridcolor": "white",
            "linecolor": "white",
            "ticks": ""
           },
           "bgcolor": "#E5ECF6",
           "radialaxis": {
            "gridcolor": "white",
            "linecolor": "white",
            "ticks": ""
           }
          },
          "scene": {
           "xaxis": {
            "backgroundcolor": "#E5ECF6",
            "gridcolor": "white",
            "gridwidth": 2,
            "linecolor": "white",
            "showbackground": true,
            "ticks": "",
            "zerolinecolor": "white"
           },
           "yaxis": {
            "backgroundcolor": "#E5ECF6",
            "gridcolor": "white",
            "gridwidth": 2,
            "linecolor": "white",
            "showbackground": true,
            "ticks": "",
            "zerolinecolor": "white"
           },
           "zaxis": {
            "backgroundcolor": "#E5ECF6",
            "gridcolor": "white",
            "gridwidth": 2,
            "linecolor": "white",
            "showbackground": true,
            "ticks": "",
            "zerolinecolor": "white"
           }
          },
          "shapedefaults": {
           "line": {
            "color": "#2a3f5f"
           }
          },
          "ternary": {
           "aaxis": {
            "gridcolor": "white",
            "linecolor": "white",
            "ticks": ""
           },
           "baxis": {
            "gridcolor": "white",
            "linecolor": "white",
            "ticks": ""
           },
           "bgcolor": "#E5ECF6",
           "caxis": {
            "gridcolor": "white",
            "linecolor": "white",
            "ticks": ""
           }
          },
          "title": {
           "x": 0.05
          },
          "xaxis": {
           "automargin": true,
           "gridcolor": "white",
           "linecolor": "white",
           "ticks": "",
           "title": {
            "standoff": 15
           },
           "zerolinecolor": "white",
           "zerolinewidth": 2
          },
          "yaxis": {
           "automargin": true,
           "gridcolor": "white",
           "linecolor": "white",
           "ticks": "",
           "title": {
            "standoff": 15
           },
           "zerolinecolor": "white",
           "zerolinewidth": 2
          }
         }
        },
        "title": {
         "text": "Distribución de los encuestados según género"
        },
        "xaxis": {
         "anchor": "y",
         "domain": [
          0,
          1
         ],
         "title": {
          "text": "Género"
         }
        },
        "yaxis": {
         "anchor": "x",
         "domain": [
          0,
          1
         ],
         "title": {
          "text": " "
         }
        }
       }
      },
      "text/html": [
       "<div>\n",
       "        \n",
       "        \n",
       "            <div id=\"ccb95024-19c0-49fb-b2b8-7c2ea38e4eaa\" class=\"plotly-graph-div\" style=\"height:600px; width:100%;\"></div>\n",
       "            <script type=\"text/javascript\">\n",
       "                require([\"plotly\"], function(Plotly) {\n",
       "                    window.PLOTLYENV=window.PLOTLYENV || {};\n",
       "                    \n",
       "                if (document.getElementById(\"ccb95024-19c0-49fb-b2b8-7c2ea38e4eaa\")) {\n",
       "                    Plotly.newPlot(\n",
       "                        'ccb95024-19c0-49fb-b2b8-7c2ea38e4eaa',\n",
       "                        [{\"alignmentgroup\": \"True\", \"bingroup\": \"x\", \"hoverlabel\": {\"namelength\": 0}, \"hovertemplate\": \"G\\u00e9nero=%{x}<br>count=%{y}\", \"legendgroup\": \"\", \"marker\": {\"color\": \"#636efa\"}, \"name\": \"\", \"offsetgroup\": \"\", \"orientation\": \"v\", \"showlegend\": false, \"type\": \"histogram\", \"x\": [\"Mujer\", \"Mujer\", \"Mujer\", \"Mujer\", \"Mujer\", \"Mujer\", \"Mujer\", \"Mujer\", \"Mujer\", \"Mujer\", \"Mujer\", \"Mujer\", \"Mujer\", \"Mujer\", \"Mujer\", \"Mujer\", \"Mujer\", \"Mujer\", \"Hombre\", \"Mujer\", \"Mujer\", \"Mujer\", \"Mujer\", \"Mujer\", \"Mujer\", \"Mujer\", \"Mujer\", \"Mujer\", \"Mujer\", \"Mujer\", \"Mujer\", \"Mujer\", \"Mujer\", \"Mujer\", \"Mujer\", \"Mujer\", \"Mujer\", \"Mujer\", \"Mujer\", \"Mujer\", \"Mujer\", \"Mujer\", \"Mujer\", \"Mujer\", \"Mujer\", \"Mujer\", \"Mujer\", \"Mujer\", \"Mujer\", \"Mujer\", \"Mujer\", \"Hombre\", \"Hombre\", \"Hombre\", \"Hombre\", \"Hombre\", \"Hombre\", \"Hombre\", \"Hombre\", \"Hombre\", \"Hombre\", \"Hombre\", \"Hombre\", \"Hombre\", \"Hombre\", \"Hombre\", \"Hombre\", \"Hombre\", \"Mujer\", \"Hombre\", \"Hombre\", \"Hombre\", \"Hombre\", \"Hombre\", \"Hombre\", \"Hombre\", \"Hombre\", \"Mujer\", \"Mujer\", \"Mujer\", \"Mujer\", \"Mujer\", \"Mujer\", \"Mujer\", \"Mujer\", \"Mujer\", \"Mujer\", \"Mujer\", \"Mujer\", \"Mujer\", \"Mujer\", \"Mujer\", \"Mujer\", \"Mujer\", \"Mujer\", \"Mujer\", \"Mujer\", \"Mujer\", \"Mujer\", \"Mujer\", \"Mujer\", \"Mujer\", \"Mujer\", \"Mujer\", \"Mujer\", \"Mujer\", \"Mujer\", \"Mujer\", \"Mujer\", \"Mujer\", \"Mujer\", \"Mujer\", \"Mujer\", \"Mujer\", \"Mujer\", \"Mujer\", \"Mujer\", \"Mujer\", \"Mujer\", \"Mujer\", \"Mujer\", \"Mujer\", \"Mujer\", \"Mujer\", \"Mujer\", \"Mujer\", \"Mujer\", \"Mujer\", \"Mujer\", \"Mujer\", \"Mujer\", \"Mujer\", \"Mujer\", \"Mujer\", \"Mujer\", \"Mujer\", \"Mujer\", \"Mujer\", \"Mujer\", \"Mujer\", \"Hombre\", \"Mujer\", \"Mujer\", \"Mujer\", \"Mujer\", \"Mujer\", \"Mujer\", \"Mujer\", \"Mujer\", \"Mujer\", \"Mujer\", \"Mujer\", \"Mujer\", \"Mujer\", \"Mujer\", \"Mujer\", \"Mujer\", \"Mujer\", \"Mujer\", \"Mujer\", \"Mujer\", \"Mujer\", \"Mujer\", \"Mujer\", \"Mujer\", \"Mujer\", \"Mujer\", \"Mujer\", \"Mujer\", \"Mujer\", \"Mujer\", \"Mujer\", \"Mujer\", \"Mujer\", \"Mujer\", \"Mujer\", \"Mujer\", \"Mujer\", \"Mujer\", \"Mujer\", \"Mujer\", \"Mujer\", \"Mujer\", \"Mujer\", \"Mujer\", \"Mujer\", \"Mujer\", \"Mujer\", \"Mujer\", \"Mujer\", \"Mujer\", \"Mujer\", \"Mujer\", \"Mujer\", \"Mujer\", \"Mujer\", \"Mujer\", \"Mujer\", \"Mujer\", \"Mujer\", \"Mujer\", \"Mujer\", \"Mujer\", \"Mujer\", \"Mujer\", \"Mujer\", \"Mujer\", \"Mujer\", \"Mujer\", \"Mujer\", \"Mujer\", \"Mujer\", \"Mujer\", \"Mujer\", \"Mujer\", \"Mujer\", \"Mujer\", \"Mujer\", \"Mujer\", \"Mujer\", \"Mujer\", \"Mujer\", \"Mujer\", \"Mujer\", \"Mujer\", \"Mujer\", \"Mujer\", \"Mujer\", \"Mujer\", \"Mujer\", \"Mujer\", \"Mujer\", \"Mujer\", \"Mujer\", \"Mujer\", \"Mujer\", \"Mujer\", \"Mujer\", \"Mujer\", \"Mujer\", \"Mujer\", \"Mujer\", \"Mujer\", \"Mujer\", \"Mujer\", \"Mujer\", \"Mujer\", \"Mujer\", \"Mujer\", \"Mujer\", \"Mujer\", \"Mujer\", \"Mujer\", \"Mujer\", \"Mujer\", \"Mujer\", \"Mujer\", \"Mujer\", \"Mujer\", \"Mujer\", \"Mujer\", \"Mujer\", \"Mujer\", \"Mujer\", \"Mujer\", \"Mujer\", \"Mujer\", \"Mujer\", \"Mujer\", \"Mujer\", \"Mujer\", \"Mujer\", \"Mujer\", \"Mujer\", \"Mujer\", \"Mujer\", \"Mujer\", \"Mujer\", \"Mujer\", \"Mujer\", \"Mujer\", \"Mujer\", \"Mujer\", \"Mujer\", \"Mujer\", \"Mujer\", \"Mujer\", \"Mujer\", \"Mujer\", \"Mujer\", \"Hombre\", \"Hombre\", \"Hombre\", \"Hombre\", \"Hombre\", \"Hombre\", \"Hombre\", \"Hombre\", \"Hombre\", \"Hombre\", \"Hombre\", \"Hombre\", \"Hombre\", \"Hombre\", \"Hombre\", \"Hombre\", \"Hombre\", \"Hombre\", \"Hombre\", \"Hombre\", \"Hombre\", \"Hombre\", \"Hombre\", \"Hombre\", \"Hombre\", \"Hombre\", \"Hombre\", \"Hombre\", \"Hombre\", \"Hombre\", \"Hombre\", \"Hombre\", \"Hombre\", \"Hombre\", \"Hombre\", \"Hombre\", \"Hombre\", \"Mujer\", \"Hombre\", \"Hombre\", \"Hombre\", \"Hombre\", \"Hombre\", \"Hombre\", \"Hombre\", \"Hombre\", \"Otro\", \"Hombre\", \"Hombre\", \"Hombre\", \"Hombre\", \"Hombre\", \"Hombre\", \"Hombre\", \"Hombre\", \"Hombre\", \"Hombre\", \"Hombre\", \"Hombre\", \"Hombre\", \"Hombre\", \"Hombre\", \"Hombre\", \"Hombre\", \"Hombre\", \"Hombre\", \"Hombre\", \"Hombre\", \"Mujer\", \"Hombre\", \"Hombre\", \"Hombre\", \"Hombre\", \"Hombre\", \"Hombre\", \"Hombre\", \"Hombre\", \"Hombre\", \"Hombre\", \"Hombre\", \"Hombre\", \"Hombre\", \"Hombre\", \"Hombre\", \"Hombre\", \"Hombre\", \"Hombre\", \"Hombre\", \"Hombre\", \"Hombre\", \"Hombre\", \"Hombre\", \"Hombre\", \"Hombre\", \"Hombre\", \"Hombre\", \"Hombre\", \"Hombre\", \"Hombre\", \"Hombre\", \"Hombre\", \"Mujer\", \"Hombre\", \"Hombre\", \"Hombre\", \"Hombre\", \"Hombre\", \"Hombre\", \"Hombre\", \"Hombre\", \"Hombre\", \"Hombre\", \"Hombre\", \"Hombre\", \"Hombre\", \"Hombre\", \"Hombre\", \"Hombre\", \"Hombre\", \"Hombre\", \"Hombre\", \"Hombre\", \"Hombre\", \"Hombre\", \"Hombre\", \"Hombre\", \"Hombre\", \"Hombre\", \"Hombre\", \"Hombre\", \"Hombre\", \"Hombre\", \"Hombre\", \"Hombre\", \"Hombre\", \"Hombre\", \"Hombre\", \"Hombre\", \"Hombre\", \"Hombre\", \"Hombre\", \"Mujer\", \"Hombre\", \"Hombre\", \"Hombre\", \"Hombre\", \"Hombre\", \"Hombre\", \"Hombre\", \"Hombre\", \"Hombre\", \"Hombre\", \"Hombre\", \"Hombre\", \"Hombre\", \"Hombre\", \"Hombre\", \"Hombre\", \"Hombre\", \"Hombre\", \"Hombre\", \"Hombre\", \"Hombre\", \"Hombre\", \"Hombre\", \"Hombre\", \"Hombre\", \"Hombre\", \"Hombre\", \"Hombre\", \"Hombre\", \"Hombre\", \"Hombre\", \"Hombre\", \"Hombre\", \"Hombre\", \"Hombre\", \"Hombre\", \"Hombre\", \"Hombre\", \"Hombre\", \"Hombre\", \"Hombre\", \"Hombre\", \"Hombre\", \"Hombre\", \"Hombre\", \"Hombre\", \"Hombre\", \"Hombre\", \"Hombre\", \"Hombre\", \"Hombre\", \"Hombre\", \"Hombre\", \"Hombre\", \"Hombre\", \"Hombre\", \"Hombre\", \"Hombre\", \"Hombre\", \"Mujer\", \"Hombre\", \"Hombre\", \"Hombre\", \"Hombre\", \"Hombre\", \"Mujer\", \"Hombre\", \"Hombre\", \"Otro\", \"Hombre\", \"Hombre\", \"Hombre\", \"Hombre\", \"Hombre\", \"Hombre\", \"Hombre\", \"Hombre\", \"Hombre\", \"Hombre\", \"Hombre\", \"Hombre\", \"Hombre\", \"Hombre\", \"Hombre\", \"Hombre\", \"Hombre\", \"Hombre\", \"Hombre\", \"Hombre\", \"Hombre\", \"Hombre\", \"Hombre\", \"Hombre\", \"Hombre\", \"Hombre\", \"Hombre\", \"Hombre\", \"Hombre\", \"Mujer\", \"Hombre\", \"Hombre\", \"Hombre\", \"Hombre\", \"Hombre\", \"Hombre\", \"Hombre\", \"Hombre\", \"Hombre\", \"Hombre\", \"Hombre\", \"Hombre\", \"Hombre\", \"Hombre\", \"Hombre\", \"Hombre\", \"Hombre\", \"Hombre\", \"Hombre\", \"Hombre\", \"Hombre\", \"Hombre\", \"Hombre\", \"Hombre\", \"Hombre\", \"Hombre\", \"Hombre\", \"Hombre\", \"Hombre\", \"Hombre\", \"Hombre\", \"Hombre\", \"Hombre\", \"Hombre\", \"Hombre\", \"Hombre\", \"Hombre\", \"Mujer\", \"Hombre\", \"Hombre\", \"Hombre\", \"Hombre\", \"Hombre\", \"Hombre\", \"Hombre\", \"Hombre\", \"Hombre\", \"Hombre\", \"Hombre\", \"Hombre\", \"Hombre\", \"Hombre\", \"Hombre\", \"Hombre\", \"Hombre\", \"Hombre\", \"Hombre\", \"Hombre\", \"Hombre\", \"Hombre\", \"Hombre\", \"Mujer\", \"Hombre\", \"Hombre\", \"Hombre\", \"Hombre\", \"Hombre\", \"Hombre\", \"Hombre\", \"Hombre\", \"Hombre\", \"Hombre\", \"Hombre\", \"Hombre\", \"Hombre\", \"Hombre\", \"Hombre\", \"Hombre\", \"Hombre\", \"Hombre\", \"Hombre\", \"Mujer\", \"Mujer\", \"Mujer\", \"Mujer\", \"Mujer\", \"Mujer\", \"Mujer\", \"Mujer\", \"Mujer\", \"Mujer\", \"Mujer\", \"Mujer\", \"Mujer\", \"Mujer\", \"Mujer\", \"Mujer\", \"Mujer\", \"Mujer\", \"Mujer\", \"Mujer\", \"Mujer\", \"Mujer\", \"Mujer\", \"Mujer\", \"Mujer\", \"Mujer\", \"Mujer\", \"Mujer\", \"Mujer\", \"Mujer\", \"Mujer\", \"Mujer\", \"Mujer\", \"Mujer\", \"Mujer\", \"Mujer\", \"Mujer\", \"Mujer\", \"Mujer\", \"Mujer\", \"Mujer\", \"Mujer\", \"Mujer\", \"Mujer\", \"Mujer\", \"Mujer\", \"Mujer\", \"Mujer\", \"Mujer\", \"Mujer\", \"Mujer\", \"Mujer\", \"Mujer\", \"Mujer\", \"Mujer\", \"Mujer\", \"Mujer\", \"Mujer\", \"Mujer\", \"Mujer\", \"Mujer\", \"Mujer\", \"Mujer\", \"Mujer\", \"Mujer\", \"Mujer\", \"Mujer\", \"Mujer\", \"Mujer\", \"Mujer\", \"Mujer\", \"Mujer\", \"Mujer\", \"Mujer\", \"Mujer\", \"Mujer\", \"Mujer\", \"Mujer\", \"Mujer\", \"Mujer\", \"Mujer\", \"Mujer\", \"Mujer\", \"Mujer\", \"Mujer\", \"Mujer\", \"Mujer\", \"Mujer\", \"Mujer\", \"Mujer\", \"Mujer\", \"Mujer\", \"Mujer\", \"Mujer\", \"Mujer\", \"Mujer\", \"Mujer\", \"Mujer\", \"Mujer\", \"Mujer\", \"Mujer\", \"Mujer\", \"Mujer\", \"Mujer\", \"Mujer\", \"Mujer\", \"Mujer\", \"Mujer\", \"Mujer\", \"Mujer\", \"Mujer\", \"Mujer\", \"Mujer\", \"Mujer\", \"Mujer\", \"Mujer\", \"Mujer\", \"Mujer\", \"Mujer\", \"Mujer\", \"Mujer\", \"Mujer\", \"Mujer\", \"Mujer\", \"Mujer\", \"Mujer\", \"Mujer\", \"Mujer\", \"Mujer\", \"Mujer\", \"Mujer\", \"Mujer\", \"Mujer\", \"Hombre\", \"Mujer\", \"Mujer\", \"Mujer\", \"Mujer\", \"Mujer\", \"Mujer\", \"Mujer\", \"Mujer\", \"Mujer\", \"Mujer\", \"Mujer\", \"Mujer\", \"Mujer\", \"Mujer\", \"Mujer\", \"Mujer\", \"Mujer\", \"Mujer\", \"Mujer\", \"Mujer\", \"Mujer\", \"Mujer\", \"Mujer\", \"Mujer\", \"Mujer\", \"Mujer\", \"Mujer\", \"Mujer\", \"Mujer\", \"Mujer\", \"Mujer\", \"Mujer\", \"Mujer\", \"Mujer\", \"Mujer\", \"Mujer\", \"Mujer\", \"Mujer\", \"Mujer\", \"Mujer\", \"Mujer\", \"Hombre\", \"Mujer\", \"Mujer\", \"Mujer\", \"Mujer\", \"Mujer\", \"Mujer\", \"Mujer\", \"Mujer\", \"Mujer\", \"Mujer\", \"Mujer\", \"Mujer\", \"Mujer\", \"Mujer\", \"Mujer\", \"Mujer\", \"Mujer\", \"Mujer\", \"Mujer\", \"Mujer\", \"Mujer\", \"Mujer\", \"Mujer\", \"Mujer\", \"Mujer\", \"Mujer\", \"Mujer\", \"Mujer\", \"Mujer\", \"Mujer\", \"Mujer\", \"Mujer\", \"Mujer\", \"Mujer\", \"Mujer\", \"Mujer\", \"Mujer\", \"Mujer\", \"Mujer\", \"Mujer\", \"Mujer\", \"Mujer\", \"Mujer\", \"Mujer\", \"Mujer\", \"Mujer\", \"Mujer\", \"Mujer\", \"Mujer\", \"Mujer\", \"Mujer\", \"Mujer\", \"Mujer\", \"Mujer\", \"Mujer\", \"Mujer\", \"Mujer\", \"Mujer\", \"Mujer\", \"Mujer\", \"Mujer\", \"Mujer\", \"Mujer\", \"Mujer\", \"Mujer\", \"Mujer\", \"Mujer\", \"Mujer\", \"Mujer\", \"Mujer\", \"Mujer\", \"Mujer\", \"Mujer\", \"Mujer\", \"Mujer\", \"Mujer\", \"Mujer\", \"Mujer\", \"Mujer\", \"Mujer\", \"Mujer\", \"Mujer\", \"Mujer\", \"Mujer\", \"Mujer\", \"Mujer\", \"Mujer\", \"Mujer\", \"Mujer\", \"Mujer\", \"Mujer\", \"Mujer\", \"Mujer\", \"Mujer\", \"Mujer\", \"Mujer\", \"Mujer\", \"Mujer\", \"Mujer\", \"Mujer\", \"Mujer\", \"Mujer\", \"Mujer\", \"Mujer\", \"Mujer\", \"Mujer\", \"Mujer\", \"Mujer\", \"Mujer\", \"Mujer\", \"Mujer\", \"Mujer\", \"Mujer\", \"Mujer\", \"Mujer\", \"Mujer\", \"Mujer\", \"Mujer\", \"Mujer\", \"Mujer\", \"Mujer\", \"Mujer\", \"Mujer\", \"Mujer\", \"Mujer\", \"Mujer\", \"Mujer\", \"Mujer\", \"Mujer\", \"Mujer\", \"Mujer\", \"Mujer\", \"Mujer\", \"Mujer\", \"Mujer\", \"Mujer\", \"Mujer\", \"Mujer\", \"Mujer\", \"Mujer\", \"Mujer\", \"Mujer\", \"Mujer\", \"Mujer\", \"Mujer\", \"Mujer\", \"Mujer\", \"Mujer\", \"Mujer\", \"Mujer\", \"Mujer\", \"Mujer\", \"Mujer\", \"Mujer\", \"Mujer\", \"Mujer\", \"Mujer\", \"Mujer\", \"Mujer\", \"Mujer\", \"Mujer\", \"Mujer\", \"Mujer\", \"Mujer\", \"Mujer\", \"Mujer\", \"Mujer\", \"Mujer\", \"Mujer\", \"Mujer\", \"Mujer\", \"Mujer\", \"Mujer\", \"Mujer\", \"Mujer\", \"Mujer\", \"Mujer\", \"Mujer\", \"Mujer\", \"Mujer\", \"Mujer\", \"Mujer\", \"Mujer\", \"Mujer\", \"Mujer\", \"Mujer\", \"Mujer\", \"Mujer\", \"Mujer\", \"Mujer\", \"Mujer\", \"Mujer\", \"Mujer\", \"Mujer\", \"Mujer\", \"Mujer\", \"Mujer\", \"Mujer\", \"Mujer\", \"Mujer\", \"Mujer\", \"Mujer\", \"Mujer\", \"Mujer\", \"Mujer\", \"Mujer\", \"Mujer\", \"Mujer\", \"Mujer\", \"Mujer\", \"Mujer\", \"Mujer\", \"Mujer\", \"Mujer\", \"Mujer\", \"Mujer\", \"Mujer\", \"Mujer\", \"Mujer\", \"Mujer\", \"Mujer\", \"Mujer\", \"Mujer\", \"Mujer\", \"Mujer\", \"Mujer\", \"Mujer\", \"Mujer\", \"Mujer\", \"Mujer\", \"Mujer\", \"Mujer\", \"Mujer\", \"Mujer\", \"Mujer\", \"Mujer\", \"Mujer\", \"Mujer\", \"Mujer\", \"Mujer\", \"Mujer\", \"Mujer\", \"Mujer\", \"Mujer\", \"Mujer\", \"Mujer\", \"Mujer\", \"Mujer\", \"Mujer\", \"Mujer\", \"Mujer\", \"Mujer\", \"Mujer\", \"Mujer\", \"Mujer\", \"Mujer\", \"Mujer\", \"Mujer\", \"Mujer\", \"Mujer\", \"Mujer\", \"Mujer\", \"Mujer\", \"Mujer\", \"Mujer\", \"Mujer\", \"Mujer\", \"Mujer\", \"Mujer\", \"Mujer\", \"Mujer\", \"Mujer\", \"Mujer\", \"Mujer\", \"Mujer\", \"Mujer\", \"Mujer\", \"Mujer\", \"Mujer\", \"Mujer\", \"Mujer\", \"Mujer\", \"Mujer\", \"Mujer\", \"Mujer\", \"Mujer\", \"Mujer\", \"Mujer\", \"Mujer\", \"Mujer\", \"Mujer\", \"Mujer\", \"Mujer\", \"Mujer\", \"Mujer\", \"Mujer\", \"Mujer\", \"Mujer\", \"Mujer\", \"Mujer\", \"Mujer\", \"Mujer\", \"Mujer\", \"Mujer\", \"Mujer\", \"Mujer\", \"Mujer\", \"Mujer\", \"Hombre\", \"Hombre\", \"Hombre\", \"Hombre\", \"Hombre\", \"Hombre\", \"Hombre\", \"Hombre\", \"Hombre\", \"Hombre\", \"Hombre\", \"Hombre\", \"Hombre\", \"Hombre\", \"Hombre\", \"Hombre\", \"Hombre\", \"Hombre\", \"Hombre\", \"Hombre\", \"Hombre\", \"Hombre\", \"Hombre\", \"Hombre\", \"Hombre\", \"Hombre\", \"Hombre\", \"Hombre\", \"Hombre\", \"Hombre\", \"Hombre\", \"Hombre\", \"Hombre\", \"Hombre\", \"Hombre\", \"Hombre\", \"Hombre\", \"Hombre\", \"Hombre\", \"Hombre\", \"Hombre\", \"Hombre\", \"Hombre\", \"Hombre\", \"Hombre\", \"Hombre\", \"Hombre\", \"Hombre\", \"Hombre\", \"Hombre\", \"Hombre\", \"Hombre\", \"Hombre\", \"Hombre\", \"Hombre\", \"Hombre\", \"Hombre\", \"Hombre\", \"Hombre\", \"Hombre\", \"Hombre\", \"Hombre\", \"Hombre\", \"Hombre\", \"Hombre\", \"Mujer\", \"Hombre\", \"Hombre\", \"Hombre\", \"Hombre\", \"Hombre\", \"Hombre\", \"Hombre\", \"Hombre\", \"Hombre\", \"Hombre\", \"Hombre\", \"Hombre\", \"Hombre\", \"Hombre\", \"Hombre\", \"Hombre\", \"Hombre\", \"Hombre\", \"Hombre\", \"Hombre\", \"Hombre\", \"Hombre\", \"Hombre\", \"Hombre\", \"Hombre\", \"Hombre\", \"Hombre\", \"Hombre\", \"Hombre\", \"Hombre\"], \"xaxis\": \"x\", \"yaxis\": \"y\"}],\n",
       "                        {\"barmode\": \"relative\", \"height\": 600, \"legend\": {\"tracegroupgap\": 0}, \"template\": {\"data\": {\"bar\": [{\"error_x\": {\"color\": \"#2a3f5f\"}, \"error_y\": {\"color\": \"#2a3f5f\"}, \"marker\": {\"line\": {\"color\": \"#E5ECF6\", \"width\": 0.5}}, \"type\": \"bar\"}], \"barpolar\": [{\"marker\": {\"line\": {\"color\": \"#E5ECF6\", \"width\": 0.5}}, \"type\": \"barpolar\"}], \"carpet\": [{\"aaxis\": {\"endlinecolor\": \"#2a3f5f\", \"gridcolor\": \"white\", \"linecolor\": \"white\", \"minorgridcolor\": \"white\", \"startlinecolor\": \"#2a3f5f\"}, \"baxis\": {\"endlinecolor\": \"#2a3f5f\", \"gridcolor\": \"white\", \"linecolor\": \"white\", \"minorgridcolor\": \"white\", \"startlinecolor\": \"#2a3f5f\"}, \"type\": \"carpet\"}], \"choropleth\": [{\"colorbar\": {\"outlinewidth\": 0, \"ticks\": \"\"}, \"type\": \"choropleth\"}], \"contour\": [{\"colorbar\": {\"outlinewidth\": 0, \"ticks\": \"\"}, \"colorscale\": [[0.0, \"#0d0887\"], [0.1111111111111111, \"#46039f\"], [0.2222222222222222, \"#7201a8\"], [0.3333333333333333, \"#9c179e\"], [0.4444444444444444, \"#bd3786\"], [0.5555555555555556, \"#d8576b\"], [0.6666666666666666, \"#ed7953\"], [0.7777777777777778, \"#fb9f3a\"], [0.8888888888888888, \"#fdca26\"], [1.0, \"#f0f921\"]], \"type\": \"contour\"}], \"contourcarpet\": [{\"colorbar\": {\"outlinewidth\": 0, \"ticks\": \"\"}, \"type\": \"contourcarpet\"}], \"heatmap\": [{\"colorbar\": {\"outlinewidth\": 0, \"ticks\": \"\"}, \"colorscale\": [[0.0, \"#0d0887\"], [0.1111111111111111, \"#46039f\"], [0.2222222222222222, \"#7201a8\"], [0.3333333333333333, \"#9c179e\"], [0.4444444444444444, \"#bd3786\"], [0.5555555555555556, \"#d8576b\"], [0.6666666666666666, \"#ed7953\"], [0.7777777777777778, \"#fb9f3a\"], [0.8888888888888888, \"#fdca26\"], [1.0, \"#f0f921\"]], \"type\": \"heatmap\"}], \"heatmapgl\": [{\"colorbar\": {\"outlinewidth\": 0, \"ticks\": \"\"}, \"colorscale\": [[0.0, \"#0d0887\"], [0.1111111111111111, \"#46039f\"], [0.2222222222222222, \"#7201a8\"], [0.3333333333333333, \"#9c179e\"], [0.4444444444444444, \"#bd3786\"], [0.5555555555555556, \"#d8576b\"], [0.6666666666666666, \"#ed7953\"], [0.7777777777777778, \"#fb9f3a\"], [0.8888888888888888, \"#fdca26\"], [1.0, \"#f0f921\"]], \"type\": \"heatmapgl\"}], \"histogram\": [{\"marker\": {\"colorbar\": {\"outlinewidth\": 0, \"ticks\": \"\"}}, \"type\": \"histogram\"}], \"histogram2d\": [{\"colorbar\": {\"outlinewidth\": 0, \"ticks\": \"\"}, \"colorscale\": [[0.0, \"#0d0887\"], [0.1111111111111111, \"#46039f\"], [0.2222222222222222, \"#7201a8\"], [0.3333333333333333, \"#9c179e\"], [0.4444444444444444, \"#bd3786\"], [0.5555555555555556, \"#d8576b\"], [0.6666666666666666, \"#ed7953\"], [0.7777777777777778, \"#fb9f3a\"], [0.8888888888888888, \"#fdca26\"], [1.0, \"#f0f921\"]], \"type\": \"histogram2d\"}], \"histogram2dcontour\": [{\"colorbar\": {\"outlinewidth\": 0, \"ticks\": \"\"}, \"colorscale\": [[0.0, \"#0d0887\"], [0.1111111111111111, \"#46039f\"], [0.2222222222222222, \"#7201a8\"], [0.3333333333333333, \"#9c179e\"], [0.4444444444444444, \"#bd3786\"], [0.5555555555555556, \"#d8576b\"], [0.6666666666666666, \"#ed7953\"], [0.7777777777777778, \"#fb9f3a\"], [0.8888888888888888, \"#fdca26\"], [1.0, \"#f0f921\"]], \"type\": \"histogram2dcontour\"}], \"mesh3d\": [{\"colorbar\": {\"outlinewidth\": 0, \"ticks\": \"\"}, \"type\": \"mesh3d\"}], \"parcoords\": [{\"line\": {\"colorbar\": {\"outlinewidth\": 0, \"ticks\": \"\"}}, \"type\": \"parcoords\"}], \"pie\": [{\"automargin\": true, \"type\": \"pie\"}], \"scatter\": [{\"marker\": {\"colorbar\": {\"outlinewidth\": 0, \"ticks\": \"\"}}, \"type\": \"scatter\"}], \"scatter3d\": [{\"line\": {\"colorbar\": {\"outlinewidth\": 0, \"ticks\": \"\"}}, \"marker\": {\"colorbar\": {\"outlinewidth\": 0, \"ticks\": \"\"}}, \"type\": \"scatter3d\"}], \"scattercarpet\": [{\"marker\": {\"colorbar\": {\"outlinewidth\": 0, \"ticks\": \"\"}}, \"type\": \"scattercarpet\"}], \"scattergeo\": [{\"marker\": {\"colorbar\": {\"outlinewidth\": 0, \"ticks\": \"\"}}, \"type\": \"scattergeo\"}], \"scattergl\": [{\"marker\": {\"colorbar\": {\"outlinewidth\": 0, \"ticks\": \"\"}}, \"type\": \"scattergl\"}], \"scattermapbox\": [{\"marker\": {\"colorbar\": {\"outlinewidth\": 0, \"ticks\": \"\"}}, \"type\": \"scattermapbox\"}], \"scatterpolar\": [{\"marker\": {\"colorbar\": {\"outlinewidth\": 0, \"ticks\": \"\"}}, \"type\": \"scatterpolar\"}], \"scatterpolargl\": [{\"marker\": {\"colorbar\": {\"outlinewidth\": 0, \"ticks\": \"\"}}, \"type\": \"scatterpolargl\"}], \"scatterternary\": [{\"marker\": {\"colorbar\": {\"outlinewidth\": 0, \"ticks\": \"\"}}, \"type\": \"scatterternary\"}], \"surface\": [{\"colorbar\": {\"outlinewidth\": 0, \"ticks\": \"\"}, \"colorscale\": [[0.0, \"#0d0887\"], [0.1111111111111111, \"#46039f\"], [0.2222222222222222, \"#7201a8\"], [0.3333333333333333, \"#9c179e\"], [0.4444444444444444, \"#bd3786\"], [0.5555555555555556, \"#d8576b\"], [0.6666666666666666, \"#ed7953\"], [0.7777777777777778, \"#fb9f3a\"], [0.8888888888888888, \"#fdca26\"], [1.0, \"#f0f921\"]], \"type\": \"surface\"}], \"table\": [{\"cells\": {\"fill\": {\"color\": \"#EBF0F8\"}, \"line\": {\"color\": \"white\"}}, \"header\": {\"fill\": {\"color\": \"#C8D4E3\"}, \"line\": {\"color\": \"white\"}}, \"type\": \"table\"}]}, \"layout\": {\"annotationdefaults\": {\"arrowcolor\": \"#2a3f5f\", \"arrowhead\": 0, \"arrowwidth\": 1}, \"coloraxis\": {\"colorbar\": {\"outlinewidth\": 0, \"ticks\": \"\"}}, \"colorscale\": {\"diverging\": [[0, \"#8e0152\"], [0.1, \"#c51b7d\"], [0.2, \"#de77ae\"], [0.3, \"#f1b6da\"], [0.4, \"#fde0ef\"], [0.5, \"#f7f7f7\"], [0.6, \"#e6f5d0\"], [0.7, \"#b8e186\"], [0.8, \"#7fbc41\"], [0.9, \"#4d9221\"], [1, \"#276419\"]], \"sequential\": [[0.0, \"#0d0887\"], [0.1111111111111111, \"#46039f\"], [0.2222222222222222, \"#7201a8\"], [0.3333333333333333, \"#9c179e\"], [0.4444444444444444, \"#bd3786\"], [0.5555555555555556, \"#d8576b\"], [0.6666666666666666, \"#ed7953\"], [0.7777777777777778, \"#fb9f3a\"], [0.8888888888888888, \"#fdca26\"], [1.0, \"#f0f921\"]], \"sequentialminus\": [[0.0, \"#0d0887\"], [0.1111111111111111, \"#46039f\"], [0.2222222222222222, \"#7201a8\"], [0.3333333333333333, \"#9c179e\"], [0.4444444444444444, \"#bd3786\"], [0.5555555555555556, \"#d8576b\"], [0.6666666666666666, \"#ed7953\"], [0.7777777777777778, \"#fb9f3a\"], [0.8888888888888888, \"#fdca26\"], [1.0, \"#f0f921\"]]}, \"colorway\": [\"#636efa\", \"#EF553B\", \"#00cc96\", \"#ab63fa\", \"#FFA15A\", \"#19d3f3\", \"#FF6692\", \"#B6E880\", \"#FF97FF\", \"#FECB52\"], \"font\": {\"color\": \"#2a3f5f\"}, \"geo\": {\"bgcolor\": \"white\", \"lakecolor\": \"white\", \"landcolor\": \"#E5ECF6\", \"showlakes\": true, \"showland\": true, \"subunitcolor\": \"white\"}, \"hoverlabel\": {\"align\": \"left\"}, \"hovermode\": \"closest\", \"mapbox\": {\"style\": \"light\"}, \"paper_bgcolor\": \"white\", \"plot_bgcolor\": \"#E5ECF6\", \"polar\": {\"angularaxis\": {\"gridcolor\": \"white\", \"linecolor\": \"white\", \"ticks\": \"\"}, \"bgcolor\": \"#E5ECF6\", \"radialaxis\": {\"gridcolor\": \"white\", \"linecolor\": \"white\", \"ticks\": \"\"}}, \"scene\": {\"xaxis\": {\"backgroundcolor\": \"#E5ECF6\", \"gridcolor\": \"white\", \"gridwidth\": 2, \"linecolor\": \"white\", \"showbackground\": true, \"ticks\": \"\", \"zerolinecolor\": \"white\"}, \"yaxis\": {\"backgroundcolor\": \"#E5ECF6\", \"gridcolor\": \"white\", \"gridwidth\": 2, \"linecolor\": \"white\", \"showbackground\": true, \"ticks\": \"\", \"zerolinecolor\": \"white\"}, \"zaxis\": {\"backgroundcolor\": \"#E5ECF6\", \"gridcolor\": \"white\", \"gridwidth\": 2, \"linecolor\": \"white\", \"showbackground\": true, \"ticks\": \"\", \"zerolinecolor\": \"white\"}}, \"shapedefaults\": {\"line\": {\"color\": \"#2a3f5f\"}}, \"ternary\": {\"aaxis\": {\"gridcolor\": \"white\", \"linecolor\": \"white\", \"ticks\": \"\"}, \"baxis\": {\"gridcolor\": \"white\", \"linecolor\": \"white\", \"ticks\": \"\"}, \"bgcolor\": \"#E5ECF6\", \"caxis\": {\"gridcolor\": \"white\", \"linecolor\": \"white\", \"ticks\": \"\"}}, \"title\": {\"x\": 0.05}, \"xaxis\": {\"automargin\": true, \"gridcolor\": \"white\", \"linecolor\": \"white\", \"ticks\": \"\", \"title\": {\"standoff\": 15}, \"zerolinecolor\": \"white\", \"zerolinewidth\": 2}, \"yaxis\": {\"automargin\": true, \"gridcolor\": \"white\", \"linecolor\": \"white\", \"ticks\": \"\", \"title\": {\"standoff\": 15}, \"zerolinecolor\": \"white\", \"zerolinewidth\": 2}}}, \"title\": {\"text\": \"Distribuci\\u00f3n de los encuestados seg\\u00fan g\\u00e9nero\"}, \"xaxis\": {\"anchor\": \"y\", \"domain\": [0.0, 1.0], \"title\": {\"text\": \"G\\u00e9nero\"}}, \"yaxis\": {\"anchor\": \"x\", \"domain\": [0.0, 1.0], \"title\": {\"text\": \" \"}}},\n",
       "                        {\"responsive\": true}\n",
       "                    ).then(function(){\n",
       "                            \n",
       "var gd = document.getElementById('ccb95024-19c0-49fb-b2b8-7c2ea38e4eaa');\n",
       "var x = new MutationObserver(function (mutations, observer) {{\n",
       "        var display = window.getComputedStyle(gd).display;\n",
       "        if (!display || display === 'none') {{\n",
       "            console.log([gd, 'removed!']);\n",
       "            Plotly.purge(gd);\n",
       "            observer.disconnect();\n",
       "        }}\n",
       "}});\n",
       "\n",
       "// Listen for the removal of the full notebook cells\n",
       "var notebookContainer = gd.closest('#notebook-container');\n",
       "if (notebookContainer) {{\n",
       "    x.observe(notebookContainer, {childList: true});\n",
       "}}\n",
       "\n",
       "// Listen for the clearing of the current output cell\n",
       "var outputEl = gd.closest('.output');\n",
       "if (outputEl) {{\n",
       "    x.observe(outputEl, {childList: true});\n",
       "}}\n",
       "\n",
       "                        })\n",
       "                };\n",
       "                });\n",
       "            </script>\n",
       "        </div>"
      ]
     },
     "metadata": {},
     "output_type": "display_data"
    }
   ],
   "source": [
    "#import matplotlib\n",
    "##Grafico con distribucion por genero\n",
    "df_1 = df.loc[(df.genero.notnull()) & (df.genero!='Prefiero no contestar'),:]\n",
    "fig = px.histogram(df_1, x=\"genero\", title=f\"Distribución de los encuestados según género\",\n",
    "       labels={\"genero\": \"Género\"})\n",
    "fig.update_yaxes(title_text=' ',row=1, col=1)\n",
    "#pasar esto a donut"
   ]
  },
  {
   "cell_type": "code",
   "execution_count": 29,
   "metadata": {
    "extensions": {
     "jupyter_dashboards": {
      "version": 1,
      "views": {
       "grid_default": {},
       "report_default": {
        "hidden": false
       }
      }
     }
    },
    "scrolled": true
   },
   "outputs": [
    {
     "data": {
      "application/vnd.plotly.v1+json": {
       "config": {
        "plotlyServerURL": "https://plot.ly"
       },
       "data": [
        {
         "alignmentgroup": "True",
         "bingroup": "x",
         "hoverlabel": {
          "namelength": 0
         },
         "hovertemplate": "Edad=%{x}<br>count=%{y}",
         "legendgroup": "",
         "marker": {
          "color": "#636efa"
         },
         "name": "",
         "offsetgroup": "",
         "orientation": "v",
         "showlegend": false,
         "type": "histogram",
         "x": [
          "Entre 18 y 25 años",
          "Más de 66 años",
          "Entre 26 y 35 años",
          "Entre 46 y 55 años",
          "Más de 66 años",
          "Entre 26 y 35 años",
          "Entre 26 y 35 años",
          "Entre 26 y 35 años",
          "Entre 18 y 25 años",
          "Entre 18 y 25 años",
          "Entre 18 y 25 años",
          "Entre 26 y 35 años",
          "Entre 18 y 25 años",
          "Entre 26 y 35 años",
          "Menor de 18 años",
          "Entre 26 y 35 años",
          "Entre 26 y 35 años",
          "Entre 36 y 45 años",
          "Entre 18 y 25 años",
          "Entre 18 y 25 años",
          "Entre 26 y 35 años",
          "Entre 26 y 35 años",
          "Entre 18 y 25 años",
          "Entre 18 y 25 años",
          "Entre 26 y 35 años",
          "Entre 18 y 25 años",
          "Entre 56 y 65 años",
          "Entre 26 y 35 años",
          "Entre 26 y 35 años",
          "Entre 18 y 25 años",
          "Entre 18 y 25 años",
          "Entre 18 y 25 años",
          "Entre 18 y 25 años",
          "Entre 56 y 65 años",
          "Entre 56 y 65 años",
          "Entre 18 y 25 años",
          "Entre 36 y 45 años",
          "Entre 26 y 35 años",
          "Entre 26 y 35 años",
          "Entre 18 y 25 años",
          "Entre 26 y 35 años",
          "Entre 26 y 35 años",
          "Entre 18 y 25 años",
          "Entre 46 y 55 años",
          "Entre 18 y 25 años",
          "Entre 26 y 35 años",
          "Entre 18 y 25 años",
          "Entre 26 y 35 años",
          "Entre 18 y 25 años",
          "Entre 26 y 35 años",
          "Entre 18 y 25 años",
          "Entre 18 y 25 años",
          "Entre 46 y 55 años",
          "Entre 56 y 65 años",
          "Entre 26 y 35 años",
          "Entre 18 y 25 años",
          "Entre 18 y 25 años",
          "Entre 18 y 25 años",
          "Entre 26 y 35 años",
          "Entre 26 y 35 años",
          "Entre 18 y 25 años",
          "Entre 18 y 25 años",
          "Entre 26 y 35 años",
          "Entre 18 y 25 años",
          "Entre 26 y 35 años",
          "Entre 26 y 35 años",
          "Entre 26 y 35 años",
          "Entre 18 y 25 años",
          "Entre 18 y 25 años",
          "Entre 26 y 35 años",
          "Entre 18 y 25 años",
          "Entre 18 y 25 años",
          "Menor de 18 años",
          "Entre 18 y 25 años",
          "Entre 26 y 35 años",
          "Entre 46 y 55 años",
          "Entre 18 y 25 años",
          "Entre 18 y 25 años",
          "Entre 56 y 65 años",
          "Entre 46 y 55 años",
          "Entre 46 y 55 años",
          "Entre 46 y 55 años",
          "Entre 26 y 35 años",
          "Entre 46 y 55 años",
          "Entre 46 y 55 años",
          "Entre 56 y 65 años",
          "Entre 56 y 65 años",
          "Entre 56 y 65 años",
          "Entre 46 y 55 años",
          "Entre 56 y 65 años",
          "Entre 56 y 65 años",
          "Entre 46 y 55 años",
          "Entre 56 y 65 años",
          "Entre 46 y 55 años",
          "Entre 46 y 55 años",
          "Entre 46 y 55 años",
          "Más de 66 años",
          "Entre 46 y 55 años",
          "Entre 56 y 65 años",
          "Entre 46 y 55 años",
          "Entre 26 y 35 años",
          "Entre 56 y 65 años",
          "Entre 36 y 45 años",
          "Entre 56 y 65 años",
          "Entre 46 y 55 años",
          "Entre 46 y 55 años",
          "Entre 46 y 55 años",
          "Entre 36 y 45 años",
          "Entre 46 y 55 años",
          "Entre 56 y 65 años",
          "Entre 56 y 65 años",
          "Entre 46 y 55 años",
          "Entre 46 y 55 años",
          "Entre 46 y 55 años",
          "Entre 46 y 55 años",
          "Entre 56 y 65 años",
          "Entre 56 y 65 años",
          "Entre 46 y 55 años",
          "Entre 46 y 55 años",
          "Entre 46 y 55 años",
          "Entre 36 y 45 años",
          "Entre 56 y 65 años",
          "Entre 56 y 65 años",
          "Entre 56 y 65 años",
          "Entre 56 y 65 años",
          "Entre 56 y 65 años",
          "Entre 56 y 65 años",
          "Entre 46 y 55 años",
          "Entre 56 y 65 años",
          "Entre 56 y 65 años",
          "Entre 46 y 55 años",
          "Entre 46 y 55 años",
          "Entre 56 y 65 años",
          "Entre 56 y 65 años",
          "Entre 56 y 65 años",
          "Entre 46 y 55 años",
          "Entre 46 y 55 años",
          "Entre 36 y 45 años",
          "Entre 56 y 65 años",
          "Entre 56 y 65 años",
          "Entre 56 y 65 años",
          "Entre 56 y 65 años",
          "Entre 46 y 55 años",
          "Entre 56 y 65 años",
          "Entre 56 y 65 años",
          "Entre 56 y 65 años",
          "Entre 46 y 55 años",
          "Entre 46 y 55 años",
          "Entre 46 y 55 años",
          "Entre 56 y 65 años",
          "Entre 46 y 55 años",
          "Entre 56 y 65 años",
          "Entre 56 y 65 años",
          "Entre 46 y 55 años",
          "Entre 36 y 45 años",
          "Entre 46 y 55 años",
          "Entre 56 y 65 años",
          "Entre 56 y 65 años",
          "Entre 46 y 55 años",
          "Entre 46 y 55 años",
          "Entre 46 y 55 años",
          "Entre 46 y 55 años",
          "Entre 56 y 65 años",
          "Entre 56 y 65 años",
          "Entre 46 y 55 años",
          "Entre 56 y 65 años",
          "Entre 46 y 55 años",
          "Entre 56 y 65 años",
          "Entre 56 y 65 años",
          "Entre 56 y 65 años",
          "Entre 56 y 65 años",
          "Entre 36 y 45 años",
          "Entre 56 y 65 años",
          "Entre 46 y 55 años",
          "Entre 56 y 65 años",
          "Entre 56 y 65 años",
          "Entre 46 y 55 años",
          "Más de 66 años",
          "Entre 46 y 55 años",
          "Entre 56 y 65 años",
          "Entre 46 y 55 años",
          "Entre 46 y 55 años",
          "Entre 56 y 65 años",
          "Entre 46 y 55 años",
          "Entre 46 y 55 años",
          "Entre 46 y 55 años",
          "Entre 56 y 65 años",
          "Entre 56 y 65 años",
          "Entre 56 y 65 años",
          "Entre 46 y 55 años",
          "Entre 56 y 65 años",
          null,
          "Entre 46 y 55 años",
          "Entre 56 y 65 años",
          "Entre 56 y 65 años",
          "Entre 46 y 55 años",
          "Entre 46 y 55 años",
          "Entre 46 y 55 años",
          "Entre 56 y 65 años",
          "Entre 46 y 55 años",
          "Entre 56 y 65 años",
          "Entre 46 y 55 años",
          "Entre 56 y 65 años",
          "Entre 56 y 65 años",
          "Entre 46 y 55 años",
          "Entre 46 y 55 años",
          "Entre 46 y 55 años",
          "Entre 46 y 55 años",
          "Entre 46 y 55 años",
          "Entre 46 y 55 años",
          "Entre 56 y 65 años",
          "Entre 56 y 65 años",
          "Entre 56 y 65 años",
          "Entre 56 y 65 años",
          "Entre 46 y 55 años",
          "Entre 46 y 55 años",
          "Entre 56 y 65 años",
          "Entre 56 y 65 años",
          "Entre 56 y 65 años",
          "Entre 46 y 55 años",
          "Entre 46 y 55 años",
          "Entre 46 y 55 años",
          "Entre 56 y 65 años",
          "Entre 46 y 55 años",
          "Entre 46 y 55 años",
          "Entre 46 y 55 años",
          "Entre 46 y 55 años",
          "Entre 46 y 55 años",
          "Entre 56 y 65 años",
          "Entre 46 y 55 años",
          "Entre 46 y 55 años",
          "Entre 46 y 55 años",
          "Entre 46 y 55 años",
          "Entre 46 y 55 años",
          "Entre 46 y 55 años",
          "Entre 56 y 65 años",
          "Entre 46 y 55 años",
          "Entre 56 y 65 años",
          "Entre 56 y 65 años",
          "Entre 46 y 55 años",
          "Entre 56 y 65 años",
          "Entre 56 y 65 años",
          "Entre 46 y 55 años",
          "Entre 46 y 55 años",
          "Entre 46 y 55 años",
          "Entre 46 y 55 años",
          "Entre 46 y 55 años",
          "Entre 56 y 65 años",
          "Entre 56 y 65 años",
          "Entre 46 y 55 años",
          "Entre 46 y 55 años",
          "Entre 46 y 55 años",
          "Entre 46 y 55 años",
          "Entre 46 y 55 años",
          "Entre 46 y 55 años",
          "Entre 46 y 55 años",
          "Entre 56 y 65 años",
          "Entre 46 y 55 años",
          "Entre 46 y 55 años",
          "Entre 46 y 55 años",
          "Entre 56 y 65 años",
          "Entre 56 y 65 años",
          "Entre 56 y 65 años",
          "Entre 56 y 65 años",
          "Entre 46 y 55 años",
          "Entre 56 y 65 años",
          "Entre 46 y 55 años",
          "Entre 46 y 55 años",
          "Entre 46 y 55 años",
          "Entre 56 y 65 años",
          "Entre 56 y 65 años",
          "Entre 46 y 55 años",
          "Entre 56 y 65 años",
          "Entre 46 y 55 años",
          "Entre 56 y 65 años",
          "Entre 56 y 65 años",
          "Entre 56 y 65 años",
          "Entre 56 y 65 años",
          "Entre 46 y 55 años",
          "Entre 56 y 65 años",
          "Entre 46 y 55 años",
          "Entre 46 y 55 años",
          "Entre 56 y 65 años",
          "Entre 56 y 65 años",
          "Entre 46 y 55 años",
          "Entre 46 y 55 años",
          "Entre 46 y 55 años",
          "Entre 46 y 55 años",
          "Entre 46 y 55 años",
          "Entre 46 y 55 años",
          "Entre 46 y 55 años",
          "Entre 46 y 55 años",
          "Entre 56 y 65 años",
          "Entre 46 y 55 años",
          "Entre 46 y 55 años",
          "Entre 46 y 55 años",
          "Entre 46 y 55 años",
          "Entre 46 y 55 años",
          "Entre 56 y 65 años",
          "Entre 46 y 55 años",
          "Entre 46 y 55 años",
          "Entre 56 y 65 años",
          "Entre 56 y 65 años",
          "Entre 46 y 55 años",
          "Entre 56 y 65 años",
          "Entre 56 y 65 años",
          "Entre 46 y 55 años",
          "Entre 46 y 55 años",
          "Entre 56 y 65 años",
          "Entre 56 y 65 años",
          "Entre 46 y 55 años",
          "Entre 56 y 65 años",
          "Entre 56 y 65 años",
          "Entre 46 y 55 años",
          "Entre 36 y 45 años",
          null,
          "Entre 46 y 55 años",
          "Entre 26 y 35 años",
          "Entre 56 y 65 años",
          "Entre 56 y 65 años",
          "Entre 36 y 45 años",
          "Entre 46 y 55 años",
          "Entre 46 y 55 años",
          "Entre 56 y 65 años",
          "Entre 56 y 65 años",
          "Entre 36 y 45 años",
          "Entre 46 y 55 años",
          "Entre 46 y 55 años",
          "Entre 46 y 55 años",
          "Entre 36 y 45 años",
          "Entre 56 y 65 años",
          "Entre 46 y 55 años",
          "Entre 46 y 55 años",
          "Entre 46 y 55 años",
          "Entre 46 y 55 años",
          "Entre 56 y 65 años",
          "Entre 46 y 55 años",
          "Entre 46 y 55 años",
          "Entre 46 y 55 años",
          "Entre 56 y 65 años",
          "Entre 46 y 55 años",
          "Entre 46 y 55 años",
          "Entre 46 y 55 años",
          "Entre 46 y 55 años",
          "Entre 56 y 65 años",
          "Entre 36 y 45 años",
          "Entre 46 y 55 años",
          "Entre 46 y 55 años",
          "Entre 56 y 65 años",
          "Entre 56 y 65 años",
          "Entre 46 y 55 años",
          "Entre 46 y 55 años",
          "Entre 46 y 55 años",
          "Entre 46 y 55 años",
          "Entre 56 y 65 años",
          "Entre 46 y 55 años",
          "Entre 46 y 55 años",
          "Entre 46 y 55 años",
          "Entre 46 y 55 años",
          "Entre 56 y 65 años",
          "Entre 46 y 55 años",
          "Entre 36 y 45 años",
          "Entre 56 y 65 años",
          "Entre 46 y 55 años",
          "Entre 56 y 65 años",
          "Entre 46 y 55 años",
          "Entre 36 y 45 años",
          "Entre 56 y 65 años",
          "Entre 36 y 45 años",
          "Entre 46 y 55 años",
          "Entre 46 y 55 años",
          "Entre 46 y 55 años",
          "Entre 56 y 65 años",
          "Entre 46 y 55 años",
          "Entre 46 y 55 años",
          "Entre 56 y 65 años",
          "Entre 46 y 55 años",
          "Entre 46 y 55 años",
          "Entre 56 y 65 años",
          "Entre 46 y 55 años",
          "Entre 46 y 55 años",
          "Entre 46 y 55 años",
          "Entre 56 y 65 años",
          "Entre 56 y 65 años",
          "Entre 46 y 55 años",
          "Entre 46 y 55 años",
          "Entre 46 y 55 años",
          "Entre 46 y 55 años",
          "Entre 46 y 55 años",
          "Entre 56 y 65 años",
          "Entre 56 y 65 años",
          null,
          "Entre 46 y 55 años",
          "Entre 56 y 65 años",
          "Entre 46 y 55 años",
          "Entre 46 y 55 años",
          "Entre 46 y 55 años",
          "Entre 46 y 55 años",
          "Entre 46 y 55 años",
          "Entre 36 y 45 años",
          "Entre 56 y 65 años",
          "Entre 46 y 55 años",
          "Entre 46 y 55 años",
          "Entre 46 y 55 años",
          "Entre 56 y 65 años",
          "Entre 46 y 55 años",
          "Entre 46 y 55 años",
          "Entre 46 y 55 años",
          "Entre 46 y 55 años",
          "Entre 46 y 55 años",
          "Entre 46 y 55 años",
          "Entre 56 y 65 años",
          "Entre 56 y 65 años",
          "Entre 46 y 55 años",
          "Entre 56 y 65 años",
          "Entre 56 y 65 años",
          "Entre 56 y 65 años",
          "Entre 46 y 55 años",
          "Entre 46 y 55 años",
          "Entre 56 y 65 años",
          "Entre 46 y 55 años",
          "Entre 56 y 65 años",
          "Entre 56 y 65 años",
          "Entre 46 y 55 años",
          "Entre 46 y 55 años",
          "Entre 56 y 65 años",
          "Entre 46 y 55 años",
          "Entre 56 y 65 años",
          "Entre 56 y 65 años",
          "Entre 56 y 65 años",
          "Entre 56 y 65 años",
          "Entre 56 y 65 años",
          "Entre 56 y 65 años",
          "Entre 56 y 65 años",
          "Entre 46 y 55 años",
          "Entre 46 y 55 años",
          "Entre 46 y 55 años",
          "Entre 56 y 65 años",
          "Entre 56 y 65 años",
          "Entre 46 y 55 años",
          "Entre 46 y 55 años",
          "Entre 46 y 55 años",
          "Entre 56 y 65 años",
          "Entre 46 y 55 años",
          "Entre 46 y 55 años",
          "Entre 46 y 55 años",
          "Entre 56 y 65 años",
          "Entre 46 y 55 años",
          "Entre 56 y 65 años",
          "Entre 46 y 55 años",
          "Entre 46 y 55 años",
          "Entre 36 y 45 años",
          "Entre 46 y 55 años",
          "Entre 56 y 65 años",
          "Entre 46 y 55 años",
          "Entre 46 y 55 años",
          "Entre 46 y 55 años",
          "Entre 46 y 55 años",
          "Entre 46 y 55 años",
          "Entre 46 y 55 años",
          "Entre 46 y 55 años",
          "Entre 36 y 45 años",
          "Entre 56 y 65 años",
          "Entre 46 y 55 años",
          "Entre 56 y 65 años",
          "Más de 66 años",
          "Más de 66 años",
          "Más de 66 años",
          "Entre 56 y 65 años",
          "Entre 56 y 65 años",
          "Más de 66 años",
          "Entre 56 y 65 años",
          "Más de 66 años",
          "Entre 56 y 65 años",
          "Entre 56 y 65 años",
          "Más de 66 años",
          "Más de 66 años",
          "Entre 56 y 65 años",
          "Entre 56 y 65 años",
          "Entre 56 y 65 años",
          "Más de 66 años",
          "Entre 56 y 65 años",
          "Entre 46 y 55 años",
          "Entre 56 y 65 años",
          "Entre 56 y 65 años",
          "Entre 56 y 65 años",
          "Entre 56 y 65 años",
          "Entre 56 y 65 años",
          "Entre 56 y 65 años",
          "Entre 56 y 65 años",
          "Entre 56 y 65 años",
          "Entre 56 y 65 años",
          "Más de 66 años",
          "Más de 66 años",
          "Entre 36 y 45 años",
          "Entre 56 y 65 años",
          "Más de 66 años",
          "Entre 56 y 65 años",
          "Entre 56 y 65 años",
          "Más de 66 años",
          "Entre 26 y 35 años",
          "Entre 56 y 65 años",
          "Más de 66 años",
          "Entre 26 y 35 años",
          "Entre 56 y 65 años",
          "Más de 66 años",
          "Entre 56 y 65 años",
          "Entre 56 y 65 años",
          "Más de 66 años",
          "Más de 66 años",
          "Más de 66 años",
          "Más de 66 años",
          "Más de 66 años",
          "Más de 66 años",
          "Entre 56 y 65 años",
          "Más de 66 años",
          "Más de 66 años",
          "Más de 66 años",
          "Entre 56 y 65 años",
          "Más de 66 años",
          "Entre 56 y 65 años",
          "Más de 66 años",
          "Entre 56 y 65 años",
          "Entre 56 y 65 años",
          "Entre 56 y 65 años",
          "Más de 66 años",
          "Más de 66 años",
          "Entre 56 y 65 años",
          "Entre 36 y 45 años",
          "Entre 56 y 65 años",
          "Más de 66 años",
          "Entre 56 y 65 años",
          "Entre 56 y 65 años",
          "Más de 66 años",
          "Entre 56 y 65 años",
          "Entre 56 y 65 años",
          "Entre 56 y 65 años",
          "Más de 66 años",
          "Más de 66 años",
          "Entre 56 y 65 años",
          "Entre 56 y 65 años",
          "Más de 66 años",
          "Entre 56 y 65 años",
          "Más de 66 años",
          "Entre 56 y 65 años",
          "Más de 66 años",
          "Más de 66 años",
          "Entre 56 y 65 años",
          "Más de 66 años",
          "Más de 66 años",
          "Más de 66 años",
          "Más de 66 años",
          "Entre 56 y 65 años",
          "Entre 56 y 65 años",
          "Más de 66 años",
          "Más de 66 años",
          "Entre 56 y 65 años",
          "Más de 66 años",
          "Más de 66 años",
          "Más de 66 años",
          "Entre 56 y 65 años",
          "Más de 66 años",
          "Entre 56 y 65 años",
          "Más de 66 años",
          "Más de 66 años",
          "Más de 66 años",
          "Más de 66 años",
          "Entre 56 y 65 años",
          "Más de 66 años",
          "Más de 66 años",
          "Más de 66 años",
          "Entre 56 y 65 años",
          "Entre 56 y 65 años",
          "Más de 66 años",
          "Entre 56 y 65 años",
          "Más de 66 años",
          "Entre 56 y 65 años",
          "Entre 56 y 65 años",
          "Entre 56 y 65 años",
          "Más de 66 años",
          "Más de 66 años",
          "Más de 66 años",
          "Más de 66 años",
          "Entre 46 y 55 años",
          "Entre 56 y 65 años",
          "Más de 66 años",
          "Más de 66 años",
          "Entre 56 y 65 años",
          "Entre 56 y 65 años",
          "Más de 66 años",
          "Más de 66 años",
          "Más de 66 años",
          "Más de 66 años",
          "Más de 66 años",
          "Más de 66 años",
          "Entre 56 y 65 años",
          "Entre 46 y 55 años",
          "Entre 56 y 65 años",
          "Más de 66 años",
          "Más de 66 años",
          "Entre 56 y 65 años",
          "Más de 66 años",
          "Más de 66 años",
          "Más de 66 años",
          "Entre 56 y 65 años",
          "Más de 66 años",
          "Más de 66 años",
          "Más de 66 años",
          "Entre 56 y 65 años",
          "Entre 56 y 65 años",
          "Más de 66 años",
          "Más de 66 años",
          "Entre 56 y 65 años",
          "Más de 66 años",
          "Más de 66 años",
          "Más de 66 años",
          "Entre 36 y 45 años",
          "Entre 36 y 45 años",
          "Entre 36 y 45 años",
          "Entre 36 y 45 años",
          "Entre 56 y 65 años",
          "Entre 26 y 35 años",
          "Entre 26 y 35 años",
          "Entre 36 y 45 años",
          "Entre 26 y 35 años",
          "Entre 36 y 45 años",
          "Entre 36 y 45 años",
          "Entre 36 y 45 años",
          "Entre 36 y 45 años",
          "Entre 56 y 65 años",
          "Entre 36 y 45 años",
          "Entre 36 y 45 años",
          "Entre 36 y 45 años",
          "Entre 36 y 45 años",
          "Entre 36 y 45 años",
          "Entre 36 y 45 años",
          "Entre 36 y 45 años",
          "Entre 26 y 35 años",
          "Entre 36 y 45 años",
          "Entre 36 y 45 años",
          "Entre 36 y 45 años",
          "Entre 36 y 45 años",
          "Entre 36 y 45 años",
          "Entre 36 y 45 años",
          "Entre 36 y 45 años",
          "Entre 36 y 45 años",
          "Entre 36 y 45 años",
          "Entre 36 y 45 años",
          "Entre 36 y 45 años",
          "Entre 36 y 45 años",
          "Entre 56 y 65 años",
          "Entre 36 y 45 años",
          "Entre 26 y 35 años",
          "Entre 36 y 45 años",
          "Entre 36 y 45 años",
          "Entre 36 y 45 años",
          "Entre 36 y 45 años",
          "Entre 36 y 45 años",
          "Entre 36 y 45 años",
          "Entre 26 y 35 años",
          "Entre 26 y 35 años",
          "Entre 36 y 45 años",
          "Entre 36 y 45 años",
          "Entre 36 y 45 años",
          "Entre 36 y 45 años",
          "Entre 26 y 35 años",
          "Entre 36 y 45 años",
          "Entre 36 y 45 años",
          "Entre 36 y 45 años",
          "Entre 26 y 35 años",
          "Entre 36 y 45 años",
          "Entre 36 y 45 años",
          "Entre 36 y 45 años",
          "Entre 36 y 45 años",
          "Entre 26 y 35 años",
          "Entre 36 y 45 años",
          "Entre 26 y 35 años",
          "Entre 36 y 45 años",
          "Entre 36 y 45 años",
          "Entre 26 y 35 años",
          "Entre 36 y 45 años",
          "Entre 36 y 45 años",
          "Entre 36 y 45 años",
          "Entre 26 y 35 años",
          "Entre 36 y 45 años",
          "Entre 36 y 45 años",
          "Entre 36 y 45 años",
          "Entre 46 y 55 años",
          "Entre 26 y 35 años",
          "Entre 26 y 35 años",
          "Entre 56 y 65 años",
          "Entre 36 y 45 años",
          "Entre 56 y 65 años",
          "Entre 36 y 45 años",
          "Entre 26 y 35 años",
          "Entre 36 y 45 años",
          "Entre 26 y 35 años",
          "Entre 36 y 45 años",
          "Entre 36 y 45 años",
          "Entre 36 y 45 años",
          "Entre 36 y 45 años",
          "Entre 36 y 45 años",
          "Entre 26 y 35 años",
          "Entre 36 y 45 años",
          "Entre 36 y 45 años",
          "Entre 36 y 45 años",
          "Entre 36 y 45 años",
          "Entre 26 y 35 años",
          "Entre 36 y 45 años",
          "Entre 36 y 45 años",
          "Entre 36 y 45 años",
          "Entre 26 y 35 años",
          "Entre 26 y 35 años",
          "Entre 36 y 45 años",
          "Entre 36 y 45 años",
          "Entre 26 y 35 años",
          "Entre 26 y 35 años",
          "Entre 26 y 35 años",
          "Entre 46 y 55 años",
          "Entre 26 y 35 años",
          "Entre 36 y 45 años",
          "Entre 36 y 45 años",
          "Entre 36 y 45 años",
          "Entre 36 y 45 años",
          "Entre 26 y 35 años",
          "Entre 36 y 45 años",
          "Entre 36 y 45 años",
          "Entre 36 y 45 años",
          "Entre 26 y 35 años",
          "Entre 36 y 45 años",
          "Entre 36 y 45 años",
          "Entre 36 y 45 años",
          "Entre 36 y 45 años",
          "Entre 36 y 45 años",
          "Entre 36 y 45 años",
          "Entre 36 y 45 años",
          "Entre 36 y 45 años",
          "Entre 36 y 45 años",
          "Entre 36 y 45 años",
          "Entre 26 y 35 años",
          "Entre 36 y 45 años",
          "Entre 36 y 45 años",
          "Entre 36 y 45 años",
          "Entre 26 y 35 años",
          "Entre 36 y 45 años",
          "Entre 46 y 55 años",
          "Entre 26 y 35 años",
          "Entre 36 y 45 años",
          "Entre 36 y 45 años",
          "Entre 46 y 55 años",
          "Entre 36 y 45 años",
          "Entre 26 y 35 años",
          "Entre 36 y 45 años",
          "Entre 36 y 45 años",
          "Entre 36 y 45 años",
          "Entre 36 y 45 años",
          "Entre 36 y 45 años",
          "Entre 36 y 45 años",
          "Entre 26 y 35 años",
          "Entre 36 y 45 años",
          "Entre 36 y 45 años",
          "Entre 36 y 45 años",
          "Entre 36 y 45 años",
          "Entre 36 y 45 años",
          "Entre 36 y 45 años",
          "Entre 36 y 45 años",
          "Entre 36 y 45 años",
          "Entre 36 y 45 años",
          "Entre 26 y 35 años",
          "Entre 56 y 65 años",
          "Entre 26 y 35 años",
          "Entre 36 y 45 años",
          "Entre 26 y 35 años",
          "Entre 36 y 45 años",
          "Entre 26 y 35 años",
          "Entre 36 y 45 años",
          "Entre 26 y 35 años",
          "Entre 26 y 35 años",
          "Entre 46 y 55 años",
          "Entre 36 y 45 años",
          "Entre 26 y 35 años",
          "Entre 36 y 45 años",
          "Entre 36 y 45 años",
          "Entre 36 y 45 años",
          "Entre 36 y 45 años",
          "Entre 26 y 35 años",
          "Entre 36 y 45 años",
          "Entre 36 y 45 años",
          "Entre 36 y 45 años",
          "Entre 36 y 45 años",
          "Entre 36 y 45 años",
          "Entre 36 y 45 años",
          "Entre 36 y 45 años",
          "Entre 18 y 25 años",
          "Entre 36 y 45 años",
          "Entre 36 y 45 años",
          "Entre 36 y 45 años",
          "Entre 36 y 45 años",
          "Entre 36 y 45 años",
          "Entre 56 y 65 años",
          "Más de 66 años",
          "Entre 56 y 65 años",
          "Más de 66 años",
          "Más de 66 años",
          "Entre 46 y 55 años",
          "Entre 56 y 65 años",
          "Entre 56 y 65 años",
          "Entre 56 y 65 años",
          "Más de 66 años",
          "Más de 66 años",
          "Más de 66 años",
          "Más de 66 años",
          "Entre 56 y 65 años",
          "Entre 56 y 65 años",
          "Entre 56 y 65 años",
          "Entre 26 y 35 años",
          "Entre 56 y 65 años",
          "Más de 66 años",
          "Entre 56 y 65 años",
          "Más de 66 años",
          "Más de 66 años",
          "Más de 66 años",
          "Más de 66 años",
          "Entre 36 y 45 años",
          "Entre 56 y 65 años",
          "Más de 66 años",
          "Más de 66 años",
          "Entre 56 y 65 años",
          "Entre 56 y 65 años",
          "Más de 66 años",
          "Más de 66 años",
          "Más de 66 años",
          "Entre 56 y 65 años",
          "Entre 56 y 65 años",
          "Entre 56 y 65 años",
          "Más de 66 años",
          "Entre 56 y 65 años",
          "Más de 66 años",
          "Más de 66 años",
          "Entre 56 y 65 años",
          "Más de 66 años",
          "Entre 56 y 65 años",
          "Más de 66 años",
          "Entre 56 y 65 años",
          "Más de 66 años",
          "Entre 56 y 65 años",
          "Más de 66 años",
          "Más de 66 años",
          "Entre 56 y 65 años",
          "Entre 56 y 65 años",
          "Entre 56 y 65 años",
          "Entre 56 y 65 años",
          "Entre 56 y 65 años",
          "Entre 56 y 65 años",
          "Entre 56 y 65 años",
          "Entre 56 y 65 años",
          "Más de 66 años",
          "Más de 66 años",
          "Entre 56 y 65 años",
          "Más de 66 años",
          "Entre 56 y 65 años",
          "Entre 56 y 65 años",
          "Más de 66 años",
          "Entre 56 y 65 años",
          "Entre 36 y 45 años",
          "Entre 56 y 65 años",
          "Entre 56 y 65 años",
          "Más de 66 años",
          "Entre 56 y 65 años",
          "Más de 66 años",
          "Más de 66 años",
          "Más de 66 años",
          "Entre 56 y 65 años",
          "Entre 56 y 65 años",
          "Entre 56 y 65 años",
          "Más de 66 años",
          "Entre 56 y 65 años",
          "Más de 66 años",
          "Entre 56 y 65 años",
          "Entre 56 y 65 años",
          "Entre 56 y 65 años",
          "Más de 66 años",
          "Más de 66 años",
          "Entre 56 y 65 años",
          "Entre 56 y 65 años",
          "Más de 66 años",
          "Entre 56 y 65 años",
          "Entre 56 y 65 años",
          "Más de 66 años",
          "Entre 56 y 65 años",
          "Más de 66 años",
          "Entre 56 y 65 años",
          "Entre 56 y 65 años",
          "Entre 56 y 65 años",
          "Entre 56 y 65 años",
          "Más de 66 años",
          "Más de 66 años",
          "Entre 56 y 65 años",
          "Entre 56 y 65 años",
          "Entre 56 y 65 años",
          "Más de 66 años",
          "Entre 56 y 65 años",
          "Entre 56 y 65 años",
          "Más de 66 años",
          "Entre 56 y 65 años",
          "Más de 66 años",
          "Entre 46 y 55 años",
          "Entre 56 y 65 años",
          "Entre 56 y 65 años",
          "Entre 56 y 65 años",
          "Más de 66 años",
          "Entre 56 y 65 años",
          "Entre 56 y 65 años",
          "Más de 66 años",
          "Entre 56 y 65 años",
          "Más de 66 años",
          "Entre 56 y 65 años",
          "Entre 56 y 65 años",
          "Más de 66 años",
          "Más de 66 años",
          "Entre 56 y 65 años",
          "Más de 66 años",
          "Más de 66 años",
          "Más de 66 años",
          "Entre 56 y 65 años",
          "Entre 56 y 65 años",
          "Más de 66 años",
          "Entre 56 y 65 años",
          "Entre 56 y 65 años",
          "Entre 56 y 65 años",
          "Entre 56 y 65 años",
          "Entre 46 y 55 años",
          "Entre 56 y 65 años",
          "Entre 56 y 65 años",
          "Entre 56 y 65 años",
          "Entre 56 y 65 años",
          "Entre 56 y 65 años",
          "Entre 56 y 65 años",
          "Más de 66 años",
          "Entre 56 y 65 años",
          "Entre 56 y 65 años",
          "Más de 66 años",
          "Más de 66 años",
          "Entre 46 y 55 años",
          "Entre 56 y 65 años",
          "Entre 56 y 65 años",
          "Más de 66 años",
          "Entre 56 y 65 años",
          "Entre 56 y 65 años",
          "Entre 56 y 65 años",
          "Entre 56 y 65 años",
          "Entre 56 y 65 años",
          "Entre 56 y 65 años",
          "Más de 66 años",
          "Entre 56 y 65 años",
          "Más de 66 años",
          "Entre 46 y 55 años",
          "Más de 66 años",
          "Entre 46 y 55 años",
          "Entre 56 y 65 años",
          "Más de 66 años",
          "Entre 56 y 65 años",
          "Entre 56 y 65 años",
          "Más de 66 años",
          "Entre 56 y 65 años",
          "Más de 66 años",
          "Entre 56 y 65 años",
          "Más de 66 años",
          "Más de 66 años",
          "Más de 66 años",
          "Entre 56 y 65 años",
          "Más de 66 años",
          "Entre 56 y 65 años",
          "Entre 36 y 45 años",
          "Más de 66 años",
          "Entre 56 y 65 años",
          "Entre 36 y 45 años",
          "Entre 56 y 65 años",
          "Más de 66 años",
          "Entre 56 y 65 años",
          "Más de 66 años",
          "Entre 56 y 65 años",
          "Entre 56 y 65 años",
          "Entre 56 y 65 años",
          "Entre 46 y 55 años",
          "Más de 66 años",
          "Entre 56 y 65 años",
          "Entre 56 y 65 años",
          "Entre 56 y 65 años",
          "Más de 66 años",
          "Entre 56 y 65 años",
          "Más de 66 años",
          "Más de 66 años",
          "Entre 56 y 65 años",
          "Más de 66 años",
          "Entre 56 y 65 años",
          "Más de 66 años",
          "Entre 56 y 65 años",
          "Entre 56 y 65 años",
          "Más de 66 años",
          "Entre 56 y 65 años",
          "Entre 56 y 65 años",
          "Entre 56 y 65 años",
          "Más de 66 años",
          "Entre 26 y 35 años",
          "Entre 18 y 25 años",
          "Entre 56 y 65 años",
          "Entre 18 y 25 años",
          "Entre 18 y 25 años",
          "Entre 56 y 65 años",
          "Más de 66 años",
          "Entre 26 y 35 años",
          "Entre 26 y 35 años",
          "Entre 46 y 55 años",
          "Entre 18 y 25 años",
          "Entre 56 y 65 años",
          "Entre 56 y 65 años",
          "Entre 26 y 35 años",
          "Entre 36 y 45 años",
          "Entre 18 y 25 años",
          "Menor de 18 años",
          "Más de 66 años",
          "Entre 26 y 35 años",
          "Entre 18 y 25 años",
          "Entre 18 y 25 años",
          "Entre 26 y 35 años",
          "Entre 18 y 25 años",
          "Entre 26 y 35 años",
          "Entre 18 y 25 años",
          "Entre 26 y 35 años",
          "Más de 66 años",
          "Menor de 18 años",
          "Entre 18 y 25 años",
          "Entre 18 y 25 años",
          "Entre 18 y 25 años",
          "Entre 56 y 65 años",
          "Menor de 18 años",
          "Menor de 18 años",
          "Entre 18 y 25 años",
          "Entre 18 y 25 años",
          "Entre 46 y 55 años",
          "Menor de 18 años",
          "Entre 18 y 25 años",
          "Entre 18 y 25 años",
          "Entre 56 y 65 años",
          "Entre 26 y 35 años",
          "Entre 26 y 35 años",
          "Entre 18 y 25 años",
          "Entre 36 y 45 años",
          "Entre 18 y 25 años",
          "Entre 18 y 25 años",
          "Entre 18 y 25 años",
          "Entre 46 y 55 años",
          "Más de 66 años",
          "Entre 26 y 35 años",
          "Menor de 18 años",
          "Entre 18 y 25 años",
          "Entre 18 y 25 años",
          "Entre 18 y 25 años",
          "Más de 66 años",
          "Menor de 18 años",
          "Entre 26 y 35 años",
          "Entre 26 y 35 años",
          "Entre 18 y 25 años",
          "Entre 18 y 25 años",
          "Entre 26 y 35 años",
          "Entre 18 y 25 años",
          "Entre 26 y 35 años",
          "Más de 66 años",
          "Entre 18 y 25 años",
          "Entre 18 y 25 años",
          "Entre 18 y 25 años",
          "Entre 26 y 35 años",
          "Entre 26 y 35 años",
          "Más de 66 años",
          "Entre 26 y 35 años",
          "Entre 26 y 35 años",
          "Entre 18 y 25 años",
          "Entre 18 y 25 años",
          "Entre 56 y 65 años",
          "Entre 18 y 25 años",
          "Entre 18 y 25 años",
          "Entre 46 y 55 años",
          "Entre 26 y 35 años",
          "Entre 26 y 35 años",
          "Entre 26 y 35 años",
          "Entre 18 y 25 años",
          "Entre 26 y 35 años",
          "Entre 26 y 35 años",
          "Entre 26 y 35 años",
          "Entre 18 y 25 años",
          "Entre 18 y 25 años",
          "Entre 26 y 35 años",
          "Entre 26 y 35 años",
          "Entre 26 y 35 años",
          "Entre 56 y 65 años",
          "Más de 66 años",
          "Entre 26 y 35 años",
          "Entre 56 y 65 años",
          "Entre 56 y 65 años",
          "Entre 26 y 35 años",
          "Más de 66 años",
          "Entre 18 y 25 años",
          "Entre 26 y 35 años",
          "Entre 18 y 25 años",
          "Entre 26 y 35 años",
          "Entre 46 y 55 años",
          "Entre 36 y 45 años",
          "Entre 36 y 45 años",
          "Entre 36 y 45 años",
          "Entre 36 y 45 años",
          "Entre 36 y 45 años",
          "Entre 26 y 35 años",
          "Entre 46 y 55 años",
          "Entre 36 y 45 años",
          "Entre 36 y 45 años",
          "Entre 26 y 35 años",
          "Entre 36 y 45 años",
          "Entre 36 y 45 años",
          "Entre 36 y 45 años",
          "Entre 36 y 45 años",
          "Entre 36 y 45 años",
          "Entre 36 y 45 años",
          "Entre 36 y 45 años",
          "Entre 36 y 45 años",
          "Entre 26 y 35 años",
          "Entre 26 y 35 años",
          "Entre 36 y 45 años",
          "Entre 26 y 35 años",
          "Entre 26 y 35 años",
          "Entre 36 y 45 años",
          "Entre 26 y 35 años",
          "Entre 36 y 45 años",
          "Entre 36 y 45 años",
          "Entre 26 y 35 años",
          "Entre 36 y 45 años",
          "Entre 36 y 45 años",
          "Menor de 18 años",
          "Entre 26 y 35 años",
          "Entre 36 y 45 años",
          "Entre 36 y 45 años",
          "Entre 46 y 55 años",
          "Entre 36 y 45 años",
          "Entre 26 y 35 años",
          "Entre 46 y 55 años",
          "Entre 36 y 45 años",
          "Entre 36 y 45 años",
          "Entre 36 y 45 años",
          "Entre 36 y 45 años",
          "Entre 36 y 45 años",
          "Entre 26 y 35 años",
          "Entre 36 y 45 años",
          "Entre 46 y 55 años",
          "Entre 36 y 45 años",
          "Entre 36 y 45 años",
          "Entre 26 y 35 años",
          "Entre 36 y 45 años",
          "Entre 36 y 45 años",
          "Entre 26 y 35 años",
          "Entre 36 y 45 años",
          "Entre 36 y 45 años",
          "Entre 36 y 45 años",
          "Entre 36 y 45 años",
          "Entre 36 y 45 años",
          "Entre 36 y 45 años",
          "Entre 26 y 35 años",
          "Entre 36 y 45 años",
          "Entre 36 y 45 años",
          "Entre 36 y 45 años",
          "Entre 46 y 55 años",
          "Entre 26 y 35 años",
          "Entre 36 y 45 años",
          "Entre 36 y 45 años",
          "Entre 36 y 45 años",
          "Entre 36 y 45 años",
          "Entre 36 y 45 años",
          "Entre 36 y 45 años",
          "Entre 26 y 35 años",
          "Entre 36 y 45 años",
          "Entre 36 y 45 años",
          "Entre 26 y 35 años",
          "Entre 36 y 45 años",
          "Entre 36 y 45 años",
          "Entre 26 y 35 años",
          "Entre 26 y 35 años",
          "Entre 36 y 45 años",
          "Entre 26 y 35 años",
          "Entre 46 y 55 años",
          "Entre 26 y 35 años",
          "Entre 26 y 35 años",
          "Entre 26 y 35 años",
          "Entre 36 y 45 años",
          "Entre 36 y 45 años",
          "Entre 36 y 45 años",
          "Entre 46 y 55 años",
          "Entre 36 y 45 años",
          "Entre 26 y 35 años",
          "Entre 36 y 45 años",
          "Entre 46 y 55 años",
          "Entre 36 y 45 años",
          "Entre 36 y 45 años",
          "Entre 36 y 45 años",
          "Entre 36 y 45 años",
          "Entre 36 y 45 años"
         ],
         "xaxis": "x",
         "yaxis": "y"
        }
       ],
       "layout": {
        "barmode": "relative",
        "height": 600,
        "legend": {
         "tracegroupgap": 0
        },
        "template": {
         "data": {
          "bar": [
           {
            "error_x": {
             "color": "#2a3f5f"
            },
            "error_y": {
             "color": "#2a3f5f"
            },
            "marker": {
             "line": {
              "color": "#E5ECF6",
              "width": 0.5
             }
            },
            "type": "bar"
           }
          ],
          "barpolar": [
           {
            "marker": {
             "line": {
              "color": "#E5ECF6",
              "width": 0.5
             }
            },
            "type": "barpolar"
           }
          ],
          "carpet": [
           {
            "aaxis": {
             "endlinecolor": "#2a3f5f",
             "gridcolor": "white",
             "linecolor": "white",
             "minorgridcolor": "white",
             "startlinecolor": "#2a3f5f"
            },
            "baxis": {
             "endlinecolor": "#2a3f5f",
             "gridcolor": "white",
             "linecolor": "white",
             "minorgridcolor": "white",
             "startlinecolor": "#2a3f5f"
            },
            "type": "carpet"
           }
          ],
          "choropleth": [
           {
            "colorbar": {
             "outlinewidth": 0,
             "ticks": ""
            },
            "type": "choropleth"
           }
          ],
          "contour": [
           {
            "colorbar": {
             "outlinewidth": 0,
             "ticks": ""
            },
            "colorscale": [
             [
              0,
              "#0d0887"
             ],
             [
              0.1111111111111111,
              "#46039f"
             ],
             [
              0.2222222222222222,
              "#7201a8"
             ],
             [
              0.3333333333333333,
              "#9c179e"
             ],
             [
              0.4444444444444444,
              "#bd3786"
             ],
             [
              0.5555555555555556,
              "#d8576b"
             ],
             [
              0.6666666666666666,
              "#ed7953"
             ],
             [
              0.7777777777777778,
              "#fb9f3a"
             ],
             [
              0.8888888888888888,
              "#fdca26"
             ],
             [
              1,
              "#f0f921"
             ]
            ],
            "type": "contour"
           }
          ],
          "contourcarpet": [
           {
            "colorbar": {
             "outlinewidth": 0,
             "ticks": ""
            },
            "type": "contourcarpet"
           }
          ],
          "heatmap": [
           {
            "colorbar": {
             "outlinewidth": 0,
             "ticks": ""
            },
            "colorscale": [
             [
              0,
              "#0d0887"
             ],
             [
              0.1111111111111111,
              "#46039f"
             ],
             [
              0.2222222222222222,
              "#7201a8"
             ],
             [
              0.3333333333333333,
              "#9c179e"
             ],
             [
              0.4444444444444444,
              "#bd3786"
             ],
             [
              0.5555555555555556,
              "#d8576b"
             ],
             [
              0.6666666666666666,
              "#ed7953"
             ],
             [
              0.7777777777777778,
              "#fb9f3a"
             ],
             [
              0.8888888888888888,
              "#fdca26"
             ],
             [
              1,
              "#f0f921"
             ]
            ],
            "type": "heatmap"
           }
          ],
          "heatmapgl": [
           {
            "colorbar": {
             "outlinewidth": 0,
             "ticks": ""
            },
            "colorscale": [
             [
              0,
              "#0d0887"
             ],
             [
              0.1111111111111111,
              "#46039f"
             ],
             [
              0.2222222222222222,
              "#7201a8"
             ],
             [
              0.3333333333333333,
              "#9c179e"
             ],
             [
              0.4444444444444444,
              "#bd3786"
             ],
             [
              0.5555555555555556,
              "#d8576b"
             ],
             [
              0.6666666666666666,
              "#ed7953"
             ],
             [
              0.7777777777777778,
              "#fb9f3a"
             ],
             [
              0.8888888888888888,
              "#fdca26"
             ],
             [
              1,
              "#f0f921"
             ]
            ],
            "type": "heatmapgl"
           }
          ],
          "histogram": [
           {
            "marker": {
             "colorbar": {
              "outlinewidth": 0,
              "ticks": ""
             }
            },
            "type": "histogram"
           }
          ],
          "histogram2d": [
           {
            "colorbar": {
             "outlinewidth": 0,
             "ticks": ""
            },
            "colorscale": [
             [
              0,
              "#0d0887"
             ],
             [
              0.1111111111111111,
              "#46039f"
             ],
             [
              0.2222222222222222,
              "#7201a8"
             ],
             [
              0.3333333333333333,
              "#9c179e"
             ],
             [
              0.4444444444444444,
              "#bd3786"
             ],
             [
              0.5555555555555556,
              "#d8576b"
             ],
             [
              0.6666666666666666,
              "#ed7953"
             ],
             [
              0.7777777777777778,
              "#fb9f3a"
             ],
             [
              0.8888888888888888,
              "#fdca26"
             ],
             [
              1,
              "#f0f921"
             ]
            ],
            "type": "histogram2d"
           }
          ],
          "histogram2dcontour": [
           {
            "colorbar": {
             "outlinewidth": 0,
             "ticks": ""
            },
            "colorscale": [
             [
              0,
              "#0d0887"
             ],
             [
              0.1111111111111111,
              "#46039f"
             ],
             [
              0.2222222222222222,
              "#7201a8"
             ],
             [
              0.3333333333333333,
              "#9c179e"
             ],
             [
              0.4444444444444444,
              "#bd3786"
             ],
             [
              0.5555555555555556,
              "#d8576b"
             ],
             [
              0.6666666666666666,
              "#ed7953"
             ],
             [
              0.7777777777777778,
              "#fb9f3a"
             ],
             [
              0.8888888888888888,
              "#fdca26"
             ],
             [
              1,
              "#f0f921"
             ]
            ],
            "type": "histogram2dcontour"
           }
          ],
          "mesh3d": [
           {
            "colorbar": {
             "outlinewidth": 0,
             "ticks": ""
            },
            "type": "mesh3d"
           }
          ],
          "parcoords": [
           {
            "line": {
             "colorbar": {
              "outlinewidth": 0,
              "ticks": ""
             }
            },
            "type": "parcoords"
           }
          ],
          "pie": [
           {
            "automargin": true,
            "type": "pie"
           }
          ],
          "scatter": [
           {
            "marker": {
             "colorbar": {
              "outlinewidth": 0,
              "ticks": ""
             }
            },
            "type": "scatter"
           }
          ],
          "scatter3d": [
           {
            "line": {
             "colorbar": {
              "outlinewidth": 0,
              "ticks": ""
             }
            },
            "marker": {
             "colorbar": {
              "outlinewidth": 0,
              "ticks": ""
             }
            },
            "type": "scatter3d"
           }
          ],
          "scattercarpet": [
           {
            "marker": {
             "colorbar": {
              "outlinewidth": 0,
              "ticks": ""
             }
            },
            "type": "scattercarpet"
           }
          ],
          "scattergeo": [
           {
            "marker": {
             "colorbar": {
              "outlinewidth": 0,
              "ticks": ""
             }
            },
            "type": "scattergeo"
           }
          ],
          "scattergl": [
           {
            "marker": {
             "colorbar": {
              "outlinewidth": 0,
              "ticks": ""
             }
            },
            "type": "scattergl"
           }
          ],
          "scattermapbox": [
           {
            "marker": {
             "colorbar": {
              "outlinewidth": 0,
              "ticks": ""
             }
            },
            "type": "scattermapbox"
           }
          ],
          "scatterpolar": [
           {
            "marker": {
             "colorbar": {
              "outlinewidth": 0,
              "ticks": ""
             }
            },
            "type": "scatterpolar"
           }
          ],
          "scatterpolargl": [
           {
            "marker": {
             "colorbar": {
              "outlinewidth": 0,
              "ticks": ""
             }
            },
            "type": "scatterpolargl"
           }
          ],
          "scatterternary": [
           {
            "marker": {
             "colorbar": {
              "outlinewidth": 0,
              "ticks": ""
             }
            },
            "type": "scatterternary"
           }
          ],
          "surface": [
           {
            "colorbar": {
             "outlinewidth": 0,
             "ticks": ""
            },
            "colorscale": [
             [
              0,
              "#0d0887"
             ],
             [
              0.1111111111111111,
              "#46039f"
             ],
             [
              0.2222222222222222,
              "#7201a8"
             ],
             [
              0.3333333333333333,
              "#9c179e"
             ],
             [
              0.4444444444444444,
              "#bd3786"
             ],
             [
              0.5555555555555556,
              "#d8576b"
             ],
             [
              0.6666666666666666,
              "#ed7953"
             ],
             [
              0.7777777777777778,
              "#fb9f3a"
             ],
             [
              0.8888888888888888,
              "#fdca26"
             ],
             [
              1,
              "#f0f921"
             ]
            ],
            "type": "surface"
           }
          ],
          "table": [
           {
            "cells": {
             "fill": {
              "color": "#EBF0F8"
             },
             "line": {
              "color": "white"
             }
            },
            "header": {
             "fill": {
              "color": "#C8D4E3"
             },
             "line": {
              "color": "white"
             }
            },
            "type": "table"
           }
          ]
         },
         "layout": {
          "annotationdefaults": {
           "arrowcolor": "#2a3f5f",
           "arrowhead": 0,
           "arrowwidth": 1
          },
          "coloraxis": {
           "colorbar": {
            "outlinewidth": 0,
            "ticks": ""
           }
          },
          "colorscale": {
           "diverging": [
            [
             0,
             "#8e0152"
            ],
            [
             0.1,
             "#c51b7d"
            ],
            [
             0.2,
             "#de77ae"
            ],
            [
             0.3,
             "#f1b6da"
            ],
            [
             0.4,
             "#fde0ef"
            ],
            [
             0.5,
             "#f7f7f7"
            ],
            [
             0.6,
             "#e6f5d0"
            ],
            [
             0.7,
             "#b8e186"
            ],
            [
             0.8,
             "#7fbc41"
            ],
            [
             0.9,
             "#4d9221"
            ],
            [
             1,
             "#276419"
            ]
           ],
           "sequential": [
            [
             0,
             "#0d0887"
            ],
            [
             0.1111111111111111,
             "#46039f"
            ],
            [
             0.2222222222222222,
             "#7201a8"
            ],
            [
             0.3333333333333333,
             "#9c179e"
            ],
            [
             0.4444444444444444,
             "#bd3786"
            ],
            [
             0.5555555555555556,
             "#d8576b"
            ],
            [
             0.6666666666666666,
             "#ed7953"
            ],
            [
             0.7777777777777778,
             "#fb9f3a"
            ],
            [
             0.8888888888888888,
             "#fdca26"
            ],
            [
             1,
             "#f0f921"
            ]
           ],
           "sequentialminus": [
            [
             0,
             "#0d0887"
            ],
            [
             0.1111111111111111,
             "#46039f"
            ],
            [
             0.2222222222222222,
             "#7201a8"
            ],
            [
             0.3333333333333333,
             "#9c179e"
            ],
            [
             0.4444444444444444,
             "#bd3786"
            ],
            [
             0.5555555555555556,
             "#d8576b"
            ],
            [
             0.6666666666666666,
             "#ed7953"
            ],
            [
             0.7777777777777778,
             "#fb9f3a"
            ],
            [
             0.8888888888888888,
             "#fdca26"
            ],
            [
             1,
             "#f0f921"
            ]
           ]
          },
          "colorway": [
           "#636efa",
           "#EF553B",
           "#00cc96",
           "#ab63fa",
           "#FFA15A",
           "#19d3f3",
           "#FF6692",
           "#B6E880",
           "#FF97FF",
           "#FECB52"
          ],
          "font": {
           "color": "#2a3f5f"
          },
          "geo": {
           "bgcolor": "white",
           "lakecolor": "white",
           "landcolor": "#E5ECF6",
           "showlakes": true,
           "showland": true,
           "subunitcolor": "white"
          },
          "hoverlabel": {
           "align": "left"
          },
          "hovermode": "closest",
          "mapbox": {
           "style": "light"
          },
          "paper_bgcolor": "white",
          "plot_bgcolor": "#E5ECF6",
          "polar": {
           "angularaxis": {
            "gridcolor": "white",
            "linecolor": "white",
            "ticks": ""
           },
           "bgcolor": "#E5ECF6",
           "radialaxis": {
            "gridcolor": "white",
            "linecolor": "white",
            "ticks": ""
           }
          },
          "scene": {
           "xaxis": {
            "backgroundcolor": "#E5ECF6",
            "gridcolor": "white",
            "gridwidth": 2,
            "linecolor": "white",
            "showbackground": true,
            "ticks": "",
            "zerolinecolor": "white"
           },
           "yaxis": {
            "backgroundcolor": "#E5ECF6",
            "gridcolor": "white",
            "gridwidth": 2,
            "linecolor": "white",
            "showbackground": true,
            "ticks": "",
            "zerolinecolor": "white"
           },
           "zaxis": {
            "backgroundcolor": "#E5ECF6",
            "gridcolor": "white",
            "gridwidth": 2,
            "linecolor": "white",
            "showbackground": true,
            "ticks": "",
            "zerolinecolor": "white"
           }
          },
          "shapedefaults": {
           "line": {
            "color": "#2a3f5f"
           }
          },
          "ternary": {
           "aaxis": {
            "gridcolor": "white",
            "linecolor": "white",
            "ticks": ""
           },
           "baxis": {
            "gridcolor": "white",
            "linecolor": "white",
            "ticks": ""
           },
           "bgcolor": "#E5ECF6",
           "caxis": {
            "gridcolor": "white",
            "linecolor": "white",
            "ticks": ""
           }
          },
          "title": {
           "x": 0.05
          },
          "xaxis": {
           "automargin": true,
           "gridcolor": "white",
           "linecolor": "white",
           "ticks": "",
           "title": {
            "standoff": 15
           },
           "zerolinecolor": "white",
           "zerolinewidth": 2
          },
          "yaxis": {
           "automargin": true,
           "gridcolor": "white",
           "linecolor": "white",
           "ticks": "",
           "title": {
            "standoff": 15
           },
           "zerolinecolor": "white",
           "zerolinewidth": 2
          }
         }
        },
        "title": {
         "text": "Distribución de los encuestados según rangos etarios"
        },
        "xaxis": {
         "anchor": "y",
         "categoryarray": [
          "Menor de 18 años",
          "Entre 18 y 25 años",
          "Entre 26 y 35 años",
          "Entre 36 y 45 años",
          "Entre 46 y 55 años",
          "Entre 56 y 65 años",
          "Más de 66 años"
         ],
         "categoryorder": "array",
         "domain": [
          0,
          1
         ],
         "title": {
          "text": "Edad"
         }
        },
        "yaxis": {
         "anchor": "x",
         "domain": [
          0,
          1
         ],
         "title": {
          "text": " "
         }
        }
       }
      },
      "text/html": [
       "<div>\n",
       "        \n",
       "        \n",
       "            <div id=\"ee4ae8d7-c1e5-498d-bddb-de3c3a0feca7\" class=\"plotly-graph-div\" style=\"height:600px; width:100%;\"></div>\n",
       "            <script type=\"text/javascript\">\n",
       "                require([\"plotly\"], function(Plotly) {\n",
       "                    window.PLOTLYENV=window.PLOTLYENV || {};\n",
       "                    \n",
       "                if (document.getElementById(\"ee4ae8d7-c1e5-498d-bddb-de3c3a0feca7\")) {\n",
       "                    Plotly.newPlot(\n",
       "                        'ee4ae8d7-c1e5-498d-bddb-de3c3a0feca7',\n",
       "                        [{\"alignmentgroup\": \"True\", \"bingroup\": \"x\", \"hoverlabel\": {\"namelength\": 0}, \"hovertemplate\": \"Edad=%{x}<br>count=%{y}\", \"legendgroup\": \"\", \"marker\": {\"color\": \"#636efa\"}, \"name\": \"\", \"offsetgroup\": \"\", \"orientation\": \"v\", \"showlegend\": false, \"type\": \"histogram\", \"x\": [\"Entre 18 y 25 a\\u00f1os\", \"M\\u00e1s de 66 a\\u00f1os\", \"Entre 26 y 35 a\\u00f1os\", \"Entre 46 y 55 a\\u00f1os\", \"M\\u00e1s de 66 a\\u00f1os\", \"Entre 26 y 35 a\\u00f1os\", \"Entre 26 y 35 a\\u00f1os\", \"Entre 26 y 35 a\\u00f1os\", \"Entre 18 y 25 a\\u00f1os\", \"Entre 18 y 25 a\\u00f1os\", \"Entre 18 y 25 a\\u00f1os\", \"Entre 26 y 35 a\\u00f1os\", \"Entre 18 y 25 a\\u00f1os\", \"Entre 26 y 35 a\\u00f1os\", \"Menor de 18 a\\u00f1os\", \"Entre 26 y 35 a\\u00f1os\", \"Entre 26 y 35 a\\u00f1os\", \"Entre 36 y 45 a\\u00f1os\", \"Entre 18 y 25 a\\u00f1os\", \"Entre 18 y 25 a\\u00f1os\", \"Entre 26 y 35 a\\u00f1os\", \"Entre 26 y 35 a\\u00f1os\", \"Entre 18 y 25 a\\u00f1os\", \"Entre 18 y 25 a\\u00f1os\", \"Entre 26 y 35 a\\u00f1os\", \"Entre 18 y 25 a\\u00f1os\", \"Entre 56 y 65 a\\u00f1os\", \"Entre 26 y 35 a\\u00f1os\", \"Entre 26 y 35 a\\u00f1os\", \"Entre 18 y 25 a\\u00f1os\", \"Entre 18 y 25 a\\u00f1os\", \"Entre 18 y 25 a\\u00f1os\", \"Entre 18 y 25 a\\u00f1os\", \"Entre 56 y 65 a\\u00f1os\", \"Entre 56 y 65 a\\u00f1os\", \"Entre 18 y 25 a\\u00f1os\", \"Entre 36 y 45 a\\u00f1os\", \"Entre 26 y 35 a\\u00f1os\", \"Entre 26 y 35 a\\u00f1os\", \"Entre 18 y 25 a\\u00f1os\", \"Entre 26 y 35 a\\u00f1os\", \"Entre 26 y 35 a\\u00f1os\", \"Entre 18 y 25 a\\u00f1os\", \"Entre 46 y 55 a\\u00f1os\", \"Entre 18 y 25 a\\u00f1os\", \"Entre 26 y 35 a\\u00f1os\", \"Entre 18 y 25 a\\u00f1os\", \"Entre 26 y 35 a\\u00f1os\", \"Entre 18 y 25 a\\u00f1os\", \"Entre 26 y 35 a\\u00f1os\", \"Entre 18 y 25 a\\u00f1os\", \"Entre 18 y 25 a\\u00f1os\", \"Entre 46 y 55 a\\u00f1os\", \"Entre 56 y 65 a\\u00f1os\", \"Entre 26 y 35 a\\u00f1os\", \"Entre 18 y 25 a\\u00f1os\", \"Entre 18 y 25 a\\u00f1os\", \"Entre 18 y 25 a\\u00f1os\", \"Entre 26 y 35 a\\u00f1os\", \"Entre 26 y 35 a\\u00f1os\", \"Entre 18 y 25 a\\u00f1os\", \"Entre 18 y 25 a\\u00f1os\", \"Entre 26 y 35 a\\u00f1os\", \"Entre 18 y 25 a\\u00f1os\", \"Entre 26 y 35 a\\u00f1os\", \"Entre 26 y 35 a\\u00f1os\", \"Entre 26 y 35 a\\u00f1os\", \"Entre 18 y 25 a\\u00f1os\", \"Entre 18 y 25 a\\u00f1os\", \"Entre 26 y 35 a\\u00f1os\", \"Entre 18 y 25 a\\u00f1os\", \"Entre 18 y 25 a\\u00f1os\", \"Menor de 18 a\\u00f1os\", \"Entre 18 y 25 a\\u00f1os\", \"Entre 26 y 35 a\\u00f1os\", \"Entre 46 y 55 a\\u00f1os\", \"Entre 18 y 25 a\\u00f1os\", \"Entre 18 y 25 a\\u00f1os\", \"Entre 56 y 65 a\\u00f1os\", \"Entre 46 y 55 a\\u00f1os\", \"Entre 46 y 55 a\\u00f1os\", \"Entre 46 y 55 a\\u00f1os\", \"Entre 26 y 35 a\\u00f1os\", \"Entre 46 y 55 a\\u00f1os\", \"Entre 46 y 55 a\\u00f1os\", \"Entre 56 y 65 a\\u00f1os\", \"Entre 56 y 65 a\\u00f1os\", \"Entre 56 y 65 a\\u00f1os\", \"Entre 46 y 55 a\\u00f1os\", \"Entre 56 y 65 a\\u00f1os\", \"Entre 56 y 65 a\\u00f1os\", \"Entre 46 y 55 a\\u00f1os\", \"Entre 56 y 65 a\\u00f1os\", \"Entre 46 y 55 a\\u00f1os\", \"Entre 46 y 55 a\\u00f1os\", \"Entre 46 y 55 a\\u00f1os\", \"M\\u00e1s de 66 a\\u00f1os\", \"Entre 46 y 55 a\\u00f1os\", \"Entre 56 y 65 a\\u00f1os\", \"Entre 46 y 55 a\\u00f1os\", \"Entre 26 y 35 a\\u00f1os\", \"Entre 56 y 65 a\\u00f1os\", \"Entre 36 y 45 a\\u00f1os\", \"Entre 56 y 65 a\\u00f1os\", \"Entre 46 y 55 a\\u00f1os\", \"Entre 46 y 55 a\\u00f1os\", \"Entre 46 y 55 a\\u00f1os\", \"Entre 36 y 45 a\\u00f1os\", \"Entre 46 y 55 a\\u00f1os\", \"Entre 56 y 65 a\\u00f1os\", \"Entre 56 y 65 a\\u00f1os\", \"Entre 46 y 55 a\\u00f1os\", \"Entre 46 y 55 a\\u00f1os\", \"Entre 46 y 55 a\\u00f1os\", \"Entre 46 y 55 a\\u00f1os\", \"Entre 56 y 65 a\\u00f1os\", \"Entre 56 y 65 a\\u00f1os\", \"Entre 46 y 55 a\\u00f1os\", \"Entre 46 y 55 a\\u00f1os\", \"Entre 46 y 55 a\\u00f1os\", \"Entre 36 y 45 a\\u00f1os\", \"Entre 56 y 65 a\\u00f1os\", \"Entre 56 y 65 a\\u00f1os\", \"Entre 56 y 65 a\\u00f1os\", \"Entre 56 y 65 a\\u00f1os\", \"Entre 56 y 65 a\\u00f1os\", \"Entre 56 y 65 a\\u00f1os\", \"Entre 46 y 55 a\\u00f1os\", \"Entre 56 y 65 a\\u00f1os\", \"Entre 56 y 65 a\\u00f1os\", \"Entre 46 y 55 a\\u00f1os\", \"Entre 46 y 55 a\\u00f1os\", \"Entre 56 y 65 a\\u00f1os\", \"Entre 56 y 65 a\\u00f1os\", \"Entre 56 y 65 a\\u00f1os\", \"Entre 46 y 55 a\\u00f1os\", \"Entre 46 y 55 a\\u00f1os\", \"Entre 36 y 45 a\\u00f1os\", \"Entre 56 y 65 a\\u00f1os\", \"Entre 56 y 65 a\\u00f1os\", \"Entre 56 y 65 a\\u00f1os\", \"Entre 56 y 65 a\\u00f1os\", \"Entre 46 y 55 a\\u00f1os\", \"Entre 56 y 65 a\\u00f1os\", \"Entre 56 y 65 a\\u00f1os\", \"Entre 56 y 65 a\\u00f1os\", \"Entre 46 y 55 a\\u00f1os\", \"Entre 46 y 55 a\\u00f1os\", \"Entre 46 y 55 a\\u00f1os\", \"Entre 56 y 65 a\\u00f1os\", \"Entre 46 y 55 a\\u00f1os\", \"Entre 56 y 65 a\\u00f1os\", \"Entre 56 y 65 a\\u00f1os\", \"Entre 46 y 55 a\\u00f1os\", \"Entre 36 y 45 a\\u00f1os\", \"Entre 46 y 55 a\\u00f1os\", \"Entre 56 y 65 a\\u00f1os\", \"Entre 56 y 65 a\\u00f1os\", \"Entre 46 y 55 a\\u00f1os\", \"Entre 46 y 55 a\\u00f1os\", \"Entre 46 y 55 a\\u00f1os\", \"Entre 46 y 55 a\\u00f1os\", \"Entre 56 y 65 a\\u00f1os\", \"Entre 56 y 65 a\\u00f1os\", \"Entre 46 y 55 a\\u00f1os\", \"Entre 56 y 65 a\\u00f1os\", \"Entre 46 y 55 a\\u00f1os\", \"Entre 56 y 65 a\\u00f1os\", \"Entre 56 y 65 a\\u00f1os\", \"Entre 56 y 65 a\\u00f1os\", \"Entre 56 y 65 a\\u00f1os\", \"Entre 36 y 45 a\\u00f1os\", \"Entre 56 y 65 a\\u00f1os\", \"Entre 46 y 55 a\\u00f1os\", \"Entre 56 y 65 a\\u00f1os\", \"Entre 56 y 65 a\\u00f1os\", \"Entre 46 y 55 a\\u00f1os\", \"M\\u00e1s de 66 a\\u00f1os\", \"Entre 46 y 55 a\\u00f1os\", \"Entre 56 y 65 a\\u00f1os\", \"Entre 46 y 55 a\\u00f1os\", \"Entre 46 y 55 a\\u00f1os\", \"Entre 56 y 65 a\\u00f1os\", \"Entre 46 y 55 a\\u00f1os\", \"Entre 46 y 55 a\\u00f1os\", \"Entre 46 y 55 a\\u00f1os\", \"Entre 56 y 65 a\\u00f1os\", \"Entre 56 y 65 a\\u00f1os\", \"Entre 56 y 65 a\\u00f1os\", \"Entre 46 y 55 a\\u00f1os\", \"Entre 56 y 65 a\\u00f1os\", null, \"Entre 46 y 55 a\\u00f1os\", \"Entre 56 y 65 a\\u00f1os\", \"Entre 56 y 65 a\\u00f1os\", \"Entre 46 y 55 a\\u00f1os\", \"Entre 46 y 55 a\\u00f1os\", \"Entre 46 y 55 a\\u00f1os\", \"Entre 56 y 65 a\\u00f1os\", \"Entre 46 y 55 a\\u00f1os\", \"Entre 56 y 65 a\\u00f1os\", \"Entre 46 y 55 a\\u00f1os\", \"Entre 56 y 65 a\\u00f1os\", \"Entre 56 y 65 a\\u00f1os\", \"Entre 46 y 55 a\\u00f1os\", \"Entre 46 y 55 a\\u00f1os\", \"Entre 46 y 55 a\\u00f1os\", \"Entre 46 y 55 a\\u00f1os\", \"Entre 46 y 55 a\\u00f1os\", \"Entre 46 y 55 a\\u00f1os\", \"Entre 56 y 65 a\\u00f1os\", \"Entre 56 y 65 a\\u00f1os\", \"Entre 56 y 65 a\\u00f1os\", \"Entre 56 y 65 a\\u00f1os\", \"Entre 46 y 55 a\\u00f1os\", \"Entre 46 y 55 a\\u00f1os\", \"Entre 56 y 65 a\\u00f1os\", \"Entre 56 y 65 a\\u00f1os\", \"Entre 56 y 65 a\\u00f1os\", \"Entre 46 y 55 a\\u00f1os\", \"Entre 46 y 55 a\\u00f1os\", \"Entre 46 y 55 a\\u00f1os\", \"Entre 56 y 65 a\\u00f1os\", \"Entre 46 y 55 a\\u00f1os\", \"Entre 46 y 55 a\\u00f1os\", \"Entre 46 y 55 a\\u00f1os\", \"Entre 46 y 55 a\\u00f1os\", \"Entre 46 y 55 a\\u00f1os\", \"Entre 56 y 65 a\\u00f1os\", \"Entre 46 y 55 a\\u00f1os\", \"Entre 46 y 55 a\\u00f1os\", \"Entre 46 y 55 a\\u00f1os\", \"Entre 46 y 55 a\\u00f1os\", \"Entre 46 y 55 a\\u00f1os\", \"Entre 46 y 55 a\\u00f1os\", \"Entre 56 y 65 a\\u00f1os\", \"Entre 46 y 55 a\\u00f1os\", \"Entre 56 y 65 a\\u00f1os\", \"Entre 56 y 65 a\\u00f1os\", \"Entre 46 y 55 a\\u00f1os\", \"Entre 56 y 65 a\\u00f1os\", \"Entre 56 y 65 a\\u00f1os\", \"Entre 46 y 55 a\\u00f1os\", \"Entre 46 y 55 a\\u00f1os\", \"Entre 46 y 55 a\\u00f1os\", \"Entre 46 y 55 a\\u00f1os\", \"Entre 46 y 55 a\\u00f1os\", \"Entre 56 y 65 a\\u00f1os\", \"Entre 56 y 65 a\\u00f1os\", \"Entre 46 y 55 a\\u00f1os\", \"Entre 46 y 55 a\\u00f1os\", \"Entre 46 y 55 a\\u00f1os\", \"Entre 46 y 55 a\\u00f1os\", \"Entre 46 y 55 a\\u00f1os\", \"Entre 46 y 55 a\\u00f1os\", \"Entre 46 y 55 a\\u00f1os\", \"Entre 56 y 65 a\\u00f1os\", \"Entre 46 y 55 a\\u00f1os\", \"Entre 46 y 55 a\\u00f1os\", \"Entre 46 y 55 a\\u00f1os\", \"Entre 56 y 65 a\\u00f1os\", \"Entre 56 y 65 a\\u00f1os\", \"Entre 56 y 65 a\\u00f1os\", \"Entre 56 y 65 a\\u00f1os\", \"Entre 46 y 55 a\\u00f1os\", \"Entre 56 y 65 a\\u00f1os\", \"Entre 46 y 55 a\\u00f1os\", \"Entre 46 y 55 a\\u00f1os\", \"Entre 46 y 55 a\\u00f1os\", \"Entre 56 y 65 a\\u00f1os\", \"Entre 56 y 65 a\\u00f1os\", \"Entre 46 y 55 a\\u00f1os\", \"Entre 56 y 65 a\\u00f1os\", \"Entre 46 y 55 a\\u00f1os\", \"Entre 56 y 65 a\\u00f1os\", \"Entre 56 y 65 a\\u00f1os\", \"Entre 56 y 65 a\\u00f1os\", \"Entre 56 y 65 a\\u00f1os\", \"Entre 46 y 55 a\\u00f1os\", \"Entre 56 y 65 a\\u00f1os\", \"Entre 46 y 55 a\\u00f1os\", \"Entre 46 y 55 a\\u00f1os\", \"Entre 56 y 65 a\\u00f1os\", \"Entre 56 y 65 a\\u00f1os\", \"Entre 46 y 55 a\\u00f1os\", \"Entre 46 y 55 a\\u00f1os\", \"Entre 46 y 55 a\\u00f1os\", \"Entre 46 y 55 a\\u00f1os\", \"Entre 46 y 55 a\\u00f1os\", \"Entre 46 y 55 a\\u00f1os\", \"Entre 46 y 55 a\\u00f1os\", \"Entre 46 y 55 a\\u00f1os\", \"Entre 56 y 65 a\\u00f1os\", \"Entre 46 y 55 a\\u00f1os\", \"Entre 46 y 55 a\\u00f1os\", \"Entre 46 y 55 a\\u00f1os\", \"Entre 46 y 55 a\\u00f1os\", \"Entre 46 y 55 a\\u00f1os\", \"Entre 56 y 65 a\\u00f1os\", \"Entre 46 y 55 a\\u00f1os\", \"Entre 46 y 55 a\\u00f1os\", \"Entre 56 y 65 a\\u00f1os\", \"Entre 56 y 65 a\\u00f1os\", \"Entre 46 y 55 a\\u00f1os\", \"Entre 56 y 65 a\\u00f1os\", \"Entre 56 y 65 a\\u00f1os\", \"Entre 46 y 55 a\\u00f1os\", \"Entre 46 y 55 a\\u00f1os\", \"Entre 56 y 65 a\\u00f1os\", \"Entre 56 y 65 a\\u00f1os\", \"Entre 46 y 55 a\\u00f1os\", \"Entre 56 y 65 a\\u00f1os\", \"Entre 56 y 65 a\\u00f1os\", \"Entre 46 y 55 a\\u00f1os\", \"Entre 36 y 45 a\\u00f1os\", null, \"Entre 46 y 55 a\\u00f1os\", \"Entre 26 y 35 a\\u00f1os\", \"Entre 56 y 65 a\\u00f1os\", \"Entre 56 y 65 a\\u00f1os\", \"Entre 36 y 45 a\\u00f1os\", \"Entre 46 y 55 a\\u00f1os\", \"Entre 46 y 55 a\\u00f1os\", \"Entre 56 y 65 a\\u00f1os\", \"Entre 56 y 65 a\\u00f1os\", \"Entre 36 y 45 a\\u00f1os\", \"Entre 46 y 55 a\\u00f1os\", \"Entre 46 y 55 a\\u00f1os\", \"Entre 46 y 55 a\\u00f1os\", \"Entre 36 y 45 a\\u00f1os\", \"Entre 56 y 65 a\\u00f1os\", \"Entre 46 y 55 a\\u00f1os\", \"Entre 46 y 55 a\\u00f1os\", \"Entre 46 y 55 a\\u00f1os\", \"Entre 46 y 55 a\\u00f1os\", \"Entre 56 y 65 a\\u00f1os\", \"Entre 46 y 55 a\\u00f1os\", \"Entre 46 y 55 a\\u00f1os\", \"Entre 46 y 55 a\\u00f1os\", \"Entre 56 y 65 a\\u00f1os\", \"Entre 46 y 55 a\\u00f1os\", \"Entre 46 y 55 a\\u00f1os\", \"Entre 46 y 55 a\\u00f1os\", \"Entre 46 y 55 a\\u00f1os\", \"Entre 56 y 65 a\\u00f1os\", \"Entre 36 y 45 a\\u00f1os\", \"Entre 46 y 55 a\\u00f1os\", \"Entre 46 y 55 a\\u00f1os\", \"Entre 56 y 65 a\\u00f1os\", \"Entre 56 y 65 a\\u00f1os\", \"Entre 46 y 55 a\\u00f1os\", \"Entre 46 y 55 a\\u00f1os\", \"Entre 46 y 55 a\\u00f1os\", \"Entre 46 y 55 a\\u00f1os\", \"Entre 56 y 65 a\\u00f1os\", \"Entre 46 y 55 a\\u00f1os\", \"Entre 46 y 55 a\\u00f1os\", \"Entre 46 y 55 a\\u00f1os\", \"Entre 46 y 55 a\\u00f1os\", \"Entre 56 y 65 a\\u00f1os\", \"Entre 46 y 55 a\\u00f1os\", \"Entre 36 y 45 a\\u00f1os\", \"Entre 56 y 65 a\\u00f1os\", \"Entre 46 y 55 a\\u00f1os\", \"Entre 56 y 65 a\\u00f1os\", \"Entre 46 y 55 a\\u00f1os\", \"Entre 36 y 45 a\\u00f1os\", \"Entre 56 y 65 a\\u00f1os\", \"Entre 36 y 45 a\\u00f1os\", \"Entre 46 y 55 a\\u00f1os\", \"Entre 46 y 55 a\\u00f1os\", \"Entre 46 y 55 a\\u00f1os\", \"Entre 56 y 65 a\\u00f1os\", \"Entre 46 y 55 a\\u00f1os\", \"Entre 46 y 55 a\\u00f1os\", \"Entre 56 y 65 a\\u00f1os\", \"Entre 46 y 55 a\\u00f1os\", \"Entre 46 y 55 a\\u00f1os\", \"Entre 56 y 65 a\\u00f1os\", \"Entre 46 y 55 a\\u00f1os\", \"Entre 46 y 55 a\\u00f1os\", \"Entre 46 y 55 a\\u00f1os\", \"Entre 56 y 65 a\\u00f1os\", \"Entre 56 y 65 a\\u00f1os\", \"Entre 46 y 55 a\\u00f1os\", \"Entre 46 y 55 a\\u00f1os\", \"Entre 46 y 55 a\\u00f1os\", \"Entre 46 y 55 a\\u00f1os\", \"Entre 46 y 55 a\\u00f1os\", \"Entre 56 y 65 a\\u00f1os\", \"Entre 56 y 65 a\\u00f1os\", null, \"Entre 46 y 55 a\\u00f1os\", \"Entre 56 y 65 a\\u00f1os\", \"Entre 46 y 55 a\\u00f1os\", \"Entre 46 y 55 a\\u00f1os\", \"Entre 46 y 55 a\\u00f1os\", \"Entre 46 y 55 a\\u00f1os\", \"Entre 46 y 55 a\\u00f1os\", \"Entre 36 y 45 a\\u00f1os\", \"Entre 56 y 65 a\\u00f1os\", \"Entre 46 y 55 a\\u00f1os\", \"Entre 46 y 55 a\\u00f1os\", \"Entre 46 y 55 a\\u00f1os\", \"Entre 56 y 65 a\\u00f1os\", \"Entre 46 y 55 a\\u00f1os\", \"Entre 46 y 55 a\\u00f1os\", \"Entre 46 y 55 a\\u00f1os\", \"Entre 46 y 55 a\\u00f1os\", \"Entre 46 y 55 a\\u00f1os\", \"Entre 46 y 55 a\\u00f1os\", \"Entre 56 y 65 a\\u00f1os\", \"Entre 56 y 65 a\\u00f1os\", \"Entre 46 y 55 a\\u00f1os\", \"Entre 56 y 65 a\\u00f1os\", \"Entre 56 y 65 a\\u00f1os\", \"Entre 56 y 65 a\\u00f1os\", \"Entre 46 y 55 a\\u00f1os\", \"Entre 46 y 55 a\\u00f1os\", \"Entre 56 y 65 a\\u00f1os\", \"Entre 46 y 55 a\\u00f1os\", \"Entre 56 y 65 a\\u00f1os\", \"Entre 56 y 65 a\\u00f1os\", \"Entre 46 y 55 a\\u00f1os\", \"Entre 46 y 55 a\\u00f1os\", \"Entre 56 y 65 a\\u00f1os\", \"Entre 46 y 55 a\\u00f1os\", \"Entre 56 y 65 a\\u00f1os\", \"Entre 56 y 65 a\\u00f1os\", \"Entre 56 y 65 a\\u00f1os\", \"Entre 56 y 65 a\\u00f1os\", \"Entre 56 y 65 a\\u00f1os\", \"Entre 56 y 65 a\\u00f1os\", \"Entre 56 y 65 a\\u00f1os\", \"Entre 46 y 55 a\\u00f1os\", \"Entre 46 y 55 a\\u00f1os\", \"Entre 46 y 55 a\\u00f1os\", \"Entre 56 y 65 a\\u00f1os\", \"Entre 56 y 65 a\\u00f1os\", \"Entre 46 y 55 a\\u00f1os\", \"Entre 46 y 55 a\\u00f1os\", \"Entre 46 y 55 a\\u00f1os\", \"Entre 56 y 65 a\\u00f1os\", \"Entre 46 y 55 a\\u00f1os\", \"Entre 46 y 55 a\\u00f1os\", \"Entre 46 y 55 a\\u00f1os\", \"Entre 56 y 65 a\\u00f1os\", \"Entre 46 y 55 a\\u00f1os\", \"Entre 56 y 65 a\\u00f1os\", \"Entre 46 y 55 a\\u00f1os\", \"Entre 46 y 55 a\\u00f1os\", \"Entre 36 y 45 a\\u00f1os\", \"Entre 46 y 55 a\\u00f1os\", \"Entre 56 y 65 a\\u00f1os\", \"Entre 46 y 55 a\\u00f1os\", \"Entre 46 y 55 a\\u00f1os\", \"Entre 46 y 55 a\\u00f1os\", \"Entre 46 y 55 a\\u00f1os\", \"Entre 46 y 55 a\\u00f1os\", \"Entre 46 y 55 a\\u00f1os\", \"Entre 46 y 55 a\\u00f1os\", \"Entre 36 y 45 a\\u00f1os\", \"Entre 56 y 65 a\\u00f1os\", \"Entre 46 y 55 a\\u00f1os\", \"Entre 56 y 65 a\\u00f1os\", \"M\\u00e1s de 66 a\\u00f1os\", \"M\\u00e1s de 66 a\\u00f1os\", \"M\\u00e1s de 66 a\\u00f1os\", \"Entre 56 y 65 a\\u00f1os\", \"Entre 56 y 65 a\\u00f1os\", \"M\\u00e1s de 66 a\\u00f1os\", \"Entre 56 y 65 a\\u00f1os\", \"M\\u00e1s de 66 a\\u00f1os\", \"Entre 56 y 65 a\\u00f1os\", \"Entre 56 y 65 a\\u00f1os\", \"M\\u00e1s de 66 a\\u00f1os\", \"M\\u00e1s de 66 a\\u00f1os\", \"Entre 56 y 65 a\\u00f1os\", \"Entre 56 y 65 a\\u00f1os\", \"Entre 56 y 65 a\\u00f1os\", \"M\\u00e1s de 66 a\\u00f1os\", \"Entre 56 y 65 a\\u00f1os\", \"Entre 46 y 55 a\\u00f1os\", \"Entre 56 y 65 a\\u00f1os\", \"Entre 56 y 65 a\\u00f1os\", \"Entre 56 y 65 a\\u00f1os\", \"Entre 56 y 65 a\\u00f1os\", \"Entre 56 y 65 a\\u00f1os\", \"Entre 56 y 65 a\\u00f1os\", \"Entre 56 y 65 a\\u00f1os\", \"Entre 56 y 65 a\\u00f1os\", \"Entre 56 y 65 a\\u00f1os\", \"M\\u00e1s de 66 a\\u00f1os\", \"M\\u00e1s de 66 a\\u00f1os\", \"Entre 36 y 45 a\\u00f1os\", \"Entre 56 y 65 a\\u00f1os\", \"M\\u00e1s de 66 a\\u00f1os\", \"Entre 56 y 65 a\\u00f1os\", \"Entre 56 y 65 a\\u00f1os\", \"M\\u00e1s de 66 a\\u00f1os\", \"Entre 26 y 35 a\\u00f1os\", \"Entre 56 y 65 a\\u00f1os\", \"M\\u00e1s de 66 a\\u00f1os\", \"Entre 26 y 35 a\\u00f1os\", \"Entre 56 y 65 a\\u00f1os\", \"M\\u00e1s de 66 a\\u00f1os\", \"Entre 56 y 65 a\\u00f1os\", \"Entre 56 y 65 a\\u00f1os\", \"M\\u00e1s de 66 a\\u00f1os\", \"M\\u00e1s de 66 a\\u00f1os\", \"M\\u00e1s de 66 a\\u00f1os\", \"M\\u00e1s de 66 a\\u00f1os\", \"M\\u00e1s de 66 a\\u00f1os\", \"M\\u00e1s de 66 a\\u00f1os\", \"Entre 56 y 65 a\\u00f1os\", \"M\\u00e1s de 66 a\\u00f1os\", \"M\\u00e1s de 66 a\\u00f1os\", \"M\\u00e1s de 66 a\\u00f1os\", \"Entre 56 y 65 a\\u00f1os\", \"M\\u00e1s de 66 a\\u00f1os\", \"Entre 56 y 65 a\\u00f1os\", \"M\\u00e1s de 66 a\\u00f1os\", \"Entre 56 y 65 a\\u00f1os\", \"Entre 56 y 65 a\\u00f1os\", \"Entre 56 y 65 a\\u00f1os\", \"M\\u00e1s de 66 a\\u00f1os\", \"M\\u00e1s de 66 a\\u00f1os\", \"Entre 56 y 65 a\\u00f1os\", \"Entre 36 y 45 a\\u00f1os\", \"Entre 56 y 65 a\\u00f1os\", \"M\\u00e1s de 66 a\\u00f1os\", \"Entre 56 y 65 a\\u00f1os\", \"Entre 56 y 65 a\\u00f1os\", \"M\\u00e1s de 66 a\\u00f1os\", \"Entre 56 y 65 a\\u00f1os\", \"Entre 56 y 65 a\\u00f1os\", \"Entre 56 y 65 a\\u00f1os\", \"M\\u00e1s de 66 a\\u00f1os\", \"M\\u00e1s de 66 a\\u00f1os\", \"Entre 56 y 65 a\\u00f1os\", \"Entre 56 y 65 a\\u00f1os\", \"M\\u00e1s de 66 a\\u00f1os\", \"Entre 56 y 65 a\\u00f1os\", \"M\\u00e1s de 66 a\\u00f1os\", \"Entre 56 y 65 a\\u00f1os\", \"M\\u00e1s de 66 a\\u00f1os\", \"M\\u00e1s de 66 a\\u00f1os\", \"Entre 56 y 65 a\\u00f1os\", \"M\\u00e1s de 66 a\\u00f1os\", \"M\\u00e1s de 66 a\\u00f1os\", \"M\\u00e1s de 66 a\\u00f1os\", \"M\\u00e1s de 66 a\\u00f1os\", \"Entre 56 y 65 a\\u00f1os\", \"Entre 56 y 65 a\\u00f1os\", \"M\\u00e1s de 66 a\\u00f1os\", \"M\\u00e1s de 66 a\\u00f1os\", \"Entre 56 y 65 a\\u00f1os\", \"M\\u00e1s de 66 a\\u00f1os\", \"M\\u00e1s de 66 a\\u00f1os\", \"M\\u00e1s de 66 a\\u00f1os\", \"Entre 56 y 65 a\\u00f1os\", \"M\\u00e1s de 66 a\\u00f1os\", \"Entre 56 y 65 a\\u00f1os\", \"M\\u00e1s de 66 a\\u00f1os\", \"M\\u00e1s de 66 a\\u00f1os\", \"M\\u00e1s de 66 a\\u00f1os\", \"M\\u00e1s de 66 a\\u00f1os\", \"Entre 56 y 65 a\\u00f1os\", \"M\\u00e1s de 66 a\\u00f1os\", \"M\\u00e1s de 66 a\\u00f1os\", \"M\\u00e1s de 66 a\\u00f1os\", \"Entre 56 y 65 a\\u00f1os\", \"Entre 56 y 65 a\\u00f1os\", \"M\\u00e1s de 66 a\\u00f1os\", \"Entre 56 y 65 a\\u00f1os\", \"M\\u00e1s de 66 a\\u00f1os\", \"Entre 56 y 65 a\\u00f1os\", \"Entre 56 y 65 a\\u00f1os\", \"Entre 56 y 65 a\\u00f1os\", \"M\\u00e1s de 66 a\\u00f1os\", \"M\\u00e1s de 66 a\\u00f1os\", \"M\\u00e1s de 66 a\\u00f1os\", \"M\\u00e1s de 66 a\\u00f1os\", \"Entre 46 y 55 a\\u00f1os\", \"Entre 56 y 65 a\\u00f1os\", \"M\\u00e1s de 66 a\\u00f1os\", \"M\\u00e1s de 66 a\\u00f1os\", \"Entre 56 y 65 a\\u00f1os\", \"Entre 56 y 65 a\\u00f1os\", \"M\\u00e1s de 66 a\\u00f1os\", \"M\\u00e1s de 66 a\\u00f1os\", \"M\\u00e1s de 66 a\\u00f1os\", \"M\\u00e1s de 66 a\\u00f1os\", \"M\\u00e1s de 66 a\\u00f1os\", \"M\\u00e1s de 66 a\\u00f1os\", \"Entre 56 y 65 a\\u00f1os\", \"Entre 46 y 55 a\\u00f1os\", \"Entre 56 y 65 a\\u00f1os\", \"M\\u00e1s de 66 a\\u00f1os\", \"M\\u00e1s de 66 a\\u00f1os\", \"Entre 56 y 65 a\\u00f1os\", \"M\\u00e1s de 66 a\\u00f1os\", \"M\\u00e1s de 66 a\\u00f1os\", \"M\\u00e1s de 66 a\\u00f1os\", \"Entre 56 y 65 a\\u00f1os\", \"M\\u00e1s de 66 a\\u00f1os\", \"M\\u00e1s de 66 a\\u00f1os\", \"M\\u00e1s de 66 a\\u00f1os\", \"Entre 56 y 65 a\\u00f1os\", \"Entre 56 y 65 a\\u00f1os\", \"M\\u00e1s de 66 a\\u00f1os\", \"M\\u00e1s de 66 a\\u00f1os\", \"Entre 56 y 65 a\\u00f1os\", \"M\\u00e1s de 66 a\\u00f1os\", \"M\\u00e1s de 66 a\\u00f1os\", \"M\\u00e1s de 66 a\\u00f1os\", \"Entre 36 y 45 a\\u00f1os\", \"Entre 36 y 45 a\\u00f1os\", \"Entre 36 y 45 a\\u00f1os\", \"Entre 36 y 45 a\\u00f1os\", \"Entre 56 y 65 a\\u00f1os\", \"Entre 26 y 35 a\\u00f1os\", \"Entre 26 y 35 a\\u00f1os\", \"Entre 36 y 45 a\\u00f1os\", \"Entre 26 y 35 a\\u00f1os\", \"Entre 36 y 45 a\\u00f1os\", \"Entre 36 y 45 a\\u00f1os\", \"Entre 36 y 45 a\\u00f1os\", \"Entre 36 y 45 a\\u00f1os\", \"Entre 56 y 65 a\\u00f1os\", \"Entre 36 y 45 a\\u00f1os\", \"Entre 36 y 45 a\\u00f1os\", \"Entre 36 y 45 a\\u00f1os\", \"Entre 36 y 45 a\\u00f1os\", \"Entre 36 y 45 a\\u00f1os\", \"Entre 36 y 45 a\\u00f1os\", \"Entre 36 y 45 a\\u00f1os\", \"Entre 26 y 35 a\\u00f1os\", \"Entre 36 y 45 a\\u00f1os\", \"Entre 36 y 45 a\\u00f1os\", \"Entre 36 y 45 a\\u00f1os\", \"Entre 36 y 45 a\\u00f1os\", \"Entre 36 y 45 a\\u00f1os\", \"Entre 36 y 45 a\\u00f1os\", \"Entre 36 y 45 a\\u00f1os\", \"Entre 36 y 45 a\\u00f1os\", \"Entre 36 y 45 a\\u00f1os\", \"Entre 36 y 45 a\\u00f1os\", \"Entre 36 y 45 a\\u00f1os\", \"Entre 36 y 45 a\\u00f1os\", \"Entre 56 y 65 a\\u00f1os\", \"Entre 36 y 45 a\\u00f1os\", \"Entre 26 y 35 a\\u00f1os\", \"Entre 36 y 45 a\\u00f1os\", \"Entre 36 y 45 a\\u00f1os\", \"Entre 36 y 45 a\\u00f1os\", \"Entre 36 y 45 a\\u00f1os\", \"Entre 36 y 45 a\\u00f1os\", \"Entre 36 y 45 a\\u00f1os\", \"Entre 26 y 35 a\\u00f1os\", \"Entre 26 y 35 a\\u00f1os\", \"Entre 36 y 45 a\\u00f1os\", \"Entre 36 y 45 a\\u00f1os\", \"Entre 36 y 45 a\\u00f1os\", \"Entre 36 y 45 a\\u00f1os\", \"Entre 26 y 35 a\\u00f1os\", \"Entre 36 y 45 a\\u00f1os\", \"Entre 36 y 45 a\\u00f1os\", \"Entre 36 y 45 a\\u00f1os\", \"Entre 26 y 35 a\\u00f1os\", \"Entre 36 y 45 a\\u00f1os\", \"Entre 36 y 45 a\\u00f1os\", \"Entre 36 y 45 a\\u00f1os\", \"Entre 36 y 45 a\\u00f1os\", \"Entre 26 y 35 a\\u00f1os\", \"Entre 36 y 45 a\\u00f1os\", \"Entre 26 y 35 a\\u00f1os\", \"Entre 36 y 45 a\\u00f1os\", \"Entre 36 y 45 a\\u00f1os\", \"Entre 26 y 35 a\\u00f1os\", \"Entre 36 y 45 a\\u00f1os\", \"Entre 36 y 45 a\\u00f1os\", \"Entre 36 y 45 a\\u00f1os\", \"Entre 26 y 35 a\\u00f1os\", \"Entre 36 y 45 a\\u00f1os\", \"Entre 36 y 45 a\\u00f1os\", \"Entre 36 y 45 a\\u00f1os\", \"Entre 46 y 55 a\\u00f1os\", \"Entre 26 y 35 a\\u00f1os\", \"Entre 26 y 35 a\\u00f1os\", \"Entre 56 y 65 a\\u00f1os\", \"Entre 36 y 45 a\\u00f1os\", \"Entre 56 y 65 a\\u00f1os\", \"Entre 36 y 45 a\\u00f1os\", \"Entre 26 y 35 a\\u00f1os\", \"Entre 36 y 45 a\\u00f1os\", \"Entre 26 y 35 a\\u00f1os\", \"Entre 36 y 45 a\\u00f1os\", \"Entre 36 y 45 a\\u00f1os\", \"Entre 36 y 45 a\\u00f1os\", \"Entre 36 y 45 a\\u00f1os\", \"Entre 36 y 45 a\\u00f1os\", \"Entre 26 y 35 a\\u00f1os\", \"Entre 36 y 45 a\\u00f1os\", \"Entre 36 y 45 a\\u00f1os\", \"Entre 36 y 45 a\\u00f1os\", \"Entre 36 y 45 a\\u00f1os\", \"Entre 26 y 35 a\\u00f1os\", \"Entre 36 y 45 a\\u00f1os\", \"Entre 36 y 45 a\\u00f1os\", \"Entre 36 y 45 a\\u00f1os\", \"Entre 26 y 35 a\\u00f1os\", \"Entre 26 y 35 a\\u00f1os\", \"Entre 36 y 45 a\\u00f1os\", \"Entre 36 y 45 a\\u00f1os\", \"Entre 26 y 35 a\\u00f1os\", \"Entre 26 y 35 a\\u00f1os\", \"Entre 26 y 35 a\\u00f1os\", \"Entre 46 y 55 a\\u00f1os\", \"Entre 26 y 35 a\\u00f1os\", \"Entre 36 y 45 a\\u00f1os\", \"Entre 36 y 45 a\\u00f1os\", \"Entre 36 y 45 a\\u00f1os\", \"Entre 36 y 45 a\\u00f1os\", \"Entre 26 y 35 a\\u00f1os\", \"Entre 36 y 45 a\\u00f1os\", \"Entre 36 y 45 a\\u00f1os\", \"Entre 36 y 45 a\\u00f1os\", \"Entre 26 y 35 a\\u00f1os\", \"Entre 36 y 45 a\\u00f1os\", \"Entre 36 y 45 a\\u00f1os\", \"Entre 36 y 45 a\\u00f1os\", \"Entre 36 y 45 a\\u00f1os\", \"Entre 36 y 45 a\\u00f1os\", \"Entre 36 y 45 a\\u00f1os\", \"Entre 36 y 45 a\\u00f1os\", \"Entre 36 y 45 a\\u00f1os\", \"Entre 36 y 45 a\\u00f1os\", \"Entre 36 y 45 a\\u00f1os\", \"Entre 26 y 35 a\\u00f1os\", \"Entre 36 y 45 a\\u00f1os\", \"Entre 36 y 45 a\\u00f1os\", \"Entre 36 y 45 a\\u00f1os\", \"Entre 26 y 35 a\\u00f1os\", \"Entre 36 y 45 a\\u00f1os\", \"Entre 46 y 55 a\\u00f1os\", \"Entre 26 y 35 a\\u00f1os\", \"Entre 36 y 45 a\\u00f1os\", \"Entre 36 y 45 a\\u00f1os\", \"Entre 46 y 55 a\\u00f1os\", \"Entre 36 y 45 a\\u00f1os\", \"Entre 26 y 35 a\\u00f1os\", \"Entre 36 y 45 a\\u00f1os\", \"Entre 36 y 45 a\\u00f1os\", \"Entre 36 y 45 a\\u00f1os\", \"Entre 36 y 45 a\\u00f1os\", \"Entre 36 y 45 a\\u00f1os\", \"Entre 36 y 45 a\\u00f1os\", \"Entre 26 y 35 a\\u00f1os\", \"Entre 36 y 45 a\\u00f1os\", \"Entre 36 y 45 a\\u00f1os\", \"Entre 36 y 45 a\\u00f1os\", \"Entre 36 y 45 a\\u00f1os\", \"Entre 36 y 45 a\\u00f1os\", \"Entre 36 y 45 a\\u00f1os\", \"Entre 36 y 45 a\\u00f1os\", \"Entre 36 y 45 a\\u00f1os\", \"Entre 36 y 45 a\\u00f1os\", \"Entre 26 y 35 a\\u00f1os\", \"Entre 56 y 65 a\\u00f1os\", \"Entre 26 y 35 a\\u00f1os\", \"Entre 36 y 45 a\\u00f1os\", \"Entre 26 y 35 a\\u00f1os\", \"Entre 36 y 45 a\\u00f1os\", \"Entre 26 y 35 a\\u00f1os\", \"Entre 36 y 45 a\\u00f1os\", \"Entre 26 y 35 a\\u00f1os\", \"Entre 26 y 35 a\\u00f1os\", \"Entre 46 y 55 a\\u00f1os\", \"Entre 36 y 45 a\\u00f1os\", \"Entre 26 y 35 a\\u00f1os\", \"Entre 36 y 45 a\\u00f1os\", \"Entre 36 y 45 a\\u00f1os\", \"Entre 36 y 45 a\\u00f1os\", \"Entre 36 y 45 a\\u00f1os\", \"Entre 26 y 35 a\\u00f1os\", \"Entre 36 y 45 a\\u00f1os\", \"Entre 36 y 45 a\\u00f1os\", \"Entre 36 y 45 a\\u00f1os\", \"Entre 36 y 45 a\\u00f1os\", \"Entre 36 y 45 a\\u00f1os\", \"Entre 36 y 45 a\\u00f1os\", \"Entre 36 y 45 a\\u00f1os\", \"Entre 18 y 25 a\\u00f1os\", \"Entre 36 y 45 a\\u00f1os\", \"Entre 36 y 45 a\\u00f1os\", \"Entre 36 y 45 a\\u00f1os\", \"Entre 36 y 45 a\\u00f1os\", \"Entre 36 y 45 a\\u00f1os\", \"Entre 56 y 65 a\\u00f1os\", \"M\\u00e1s de 66 a\\u00f1os\", \"Entre 56 y 65 a\\u00f1os\", \"M\\u00e1s de 66 a\\u00f1os\", \"M\\u00e1s de 66 a\\u00f1os\", \"Entre 46 y 55 a\\u00f1os\", \"Entre 56 y 65 a\\u00f1os\", \"Entre 56 y 65 a\\u00f1os\", \"Entre 56 y 65 a\\u00f1os\", \"M\\u00e1s de 66 a\\u00f1os\", \"M\\u00e1s de 66 a\\u00f1os\", \"M\\u00e1s de 66 a\\u00f1os\", \"M\\u00e1s de 66 a\\u00f1os\", \"Entre 56 y 65 a\\u00f1os\", \"Entre 56 y 65 a\\u00f1os\", \"Entre 56 y 65 a\\u00f1os\", \"Entre 26 y 35 a\\u00f1os\", \"Entre 56 y 65 a\\u00f1os\", \"M\\u00e1s de 66 a\\u00f1os\", \"Entre 56 y 65 a\\u00f1os\", \"M\\u00e1s de 66 a\\u00f1os\", \"M\\u00e1s de 66 a\\u00f1os\", \"M\\u00e1s de 66 a\\u00f1os\", \"M\\u00e1s de 66 a\\u00f1os\", \"Entre 36 y 45 a\\u00f1os\", \"Entre 56 y 65 a\\u00f1os\", \"M\\u00e1s de 66 a\\u00f1os\", \"M\\u00e1s de 66 a\\u00f1os\", \"Entre 56 y 65 a\\u00f1os\", \"Entre 56 y 65 a\\u00f1os\", \"M\\u00e1s de 66 a\\u00f1os\", \"M\\u00e1s de 66 a\\u00f1os\", \"M\\u00e1s de 66 a\\u00f1os\", \"Entre 56 y 65 a\\u00f1os\", \"Entre 56 y 65 a\\u00f1os\", \"Entre 56 y 65 a\\u00f1os\", \"M\\u00e1s de 66 a\\u00f1os\", \"Entre 56 y 65 a\\u00f1os\", \"M\\u00e1s de 66 a\\u00f1os\", \"M\\u00e1s de 66 a\\u00f1os\", \"Entre 56 y 65 a\\u00f1os\", \"M\\u00e1s de 66 a\\u00f1os\", \"Entre 56 y 65 a\\u00f1os\", \"M\\u00e1s de 66 a\\u00f1os\", \"Entre 56 y 65 a\\u00f1os\", \"M\\u00e1s de 66 a\\u00f1os\", \"Entre 56 y 65 a\\u00f1os\", \"M\\u00e1s de 66 a\\u00f1os\", \"M\\u00e1s de 66 a\\u00f1os\", \"Entre 56 y 65 a\\u00f1os\", \"Entre 56 y 65 a\\u00f1os\", \"Entre 56 y 65 a\\u00f1os\", \"Entre 56 y 65 a\\u00f1os\", \"Entre 56 y 65 a\\u00f1os\", \"Entre 56 y 65 a\\u00f1os\", \"Entre 56 y 65 a\\u00f1os\", \"Entre 56 y 65 a\\u00f1os\", \"M\\u00e1s de 66 a\\u00f1os\", \"M\\u00e1s de 66 a\\u00f1os\", \"Entre 56 y 65 a\\u00f1os\", \"M\\u00e1s de 66 a\\u00f1os\", \"Entre 56 y 65 a\\u00f1os\", \"Entre 56 y 65 a\\u00f1os\", \"M\\u00e1s de 66 a\\u00f1os\", \"Entre 56 y 65 a\\u00f1os\", \"Entre 36 y 45 a\\u00f1os\", \"Entre 56 y 65 a\\u00f1os\", \"Entre 56 y 65 a\\u00f1os\", \"M\\u00e1s de 66 a\\u00f1os\", \"Entre 56 y 65 a\\u00f1os\", \"M\\u00e1s de 66 a\\u00f1os\", \"M\\u00e1s de 66 a\\u00f1os\", \"M\\u00e1s de 66 a\\u00f1os\", \"Entre 56 y 65 a\\u00f1os\", \"Entre 56 y 65 a\\u00f1os\", \"Entre 56 y 65 a\\u00f1os\", \"M\\u00e1s de 66 a\\u00f1os\", \"Entre 56 y 65 a\\u00f1os\", \"M\\u00e1s de 66 a\\u00f1os\", \"Entre 56 y 65 a\\u00f1os\", \"Entre 56 y 65 a\\u00f1os\", \"Entre 56 y 65 a\\u00f1os\", \"M\\u00e1s de 66 a\\u00f1os\", \"M\\u00e1s de 66 a\\u00f1os\", \"Entre 56 y 65 a\\u00f1os\", \"Entre 56 y 65 a\\u00f1os\", \"M\\u00e1s de 66 a\\u00f1os\", \"Entre 56 y 65 a\\u00f1os\", \"Entre 56 y 65 a\\u00f1os\", \"M\\u00e1s de 66 a\\u00f1os\", \"Entre 56 y 65 a\\u00f1os\", \"M\\u00e1s de 66 a\\u00f1os\", \"Entre 56 y 65 a\\u00f1os\", \"Entre 56 y 65 a\\u00f1os\", \"Entre 56 y 65 a\\u00f1os\", \"Entre 56 y 65 a\\u00f1os\", \"M\\u00e1s de 66 a\\u00f1os\", \"M\\u00e1s de 66 a\\u00f1os\", \"Entre 56 y 65 a\\u00f1os\", \"Entre 56 y 65 a\\u00f1os\", \"Entre 56 y 65 a\\u00f1os\", \"M\\u00e1s de 66 a\\u00f1os\", \"Entre 56 y 65 a\\u00f1os\", \"Entre 56 y 65 a\\u00f1os\", \"M\\u00e1s de 66 a\\u00f1os\", \"Entre 56 y 65 a\\u00f1os\", \"M\\u00e1s de 66 a\\u00f1os\", \"Entre 46 y 55 a\\u00f1os\", \"Entre 56 y 65 a\\u00f1os\", \"Entre 56 y 65 a\\u00f1os\", \"Entre 56 y 65 a\\u00f1os\", \"M\\u00e1s de 66 a\\u00f1os\", \"Entre 56 y 65 a\\u00f1os\", \"Entre 56 y 65 a\\u00f1os\", \"M\\u00e1s de 66 a\\u00f1os\", \"Entre 56 y 65 a\\u00f1os\", \"M\\u00e1s de 66 a\\u00f1os\", \"Entre 56 y 65 a\\u00f1os\", \"Entre 56 y 65 a\\u00f1os\", \"M\\u00e1s de 66 a\\u00f1os\", \"M\\u00e1s de 66 a\\u00f1os\", \"Entre 56 y 65 a\\u00f1os\", \"M\\u00e1s de 66 a\\u00f1os\", \"M\\u00e1s de 66 a\\u00f1os\", \"M\\u00e1s de 66 a\\u00f1os\", \"Entre 56 y 65 a\\u00f1os\", \"Entre 56 y 65 a\\u00f1os\", \"M\\u00e1s de 66 a\\u00f1os\", \"Entre 56 y 65 a\\u00f1os\", \"Entre 56 y 65 a\\u00f1os\", \"Entre 56 y 65 a\\u00f1os\", \"Entre 56 y 65 a\\u00f1os\", \"Entre 46 y 55 a\\u00f1os\", \"Entre 56 y 65 a\\u00f1os\", \"Entre 56 y 65 a\\u00f1os\", \"Entre 56 y 65 a\\u00f1os\", \"Entre 56 y 65 a\\u00f1os\", \"Entre 56 y 65 a\\u00f1os\", \"Entre 56 y 65 a\\u00f1os\", \"M\\u00e1s de 66 a\\u00f1os\", \"Entre 56 y 65 a\\u00f1os\", \"Entre 56 y 65 a\\u00f1os\", \"M\\u00e1s de 66 a\\u00f1os\", \"M\\u00e1s de 66 a\\u00f1os\", \"Entre 46 y 55 a\\u00f1os\", \"Entre 56 y 65 a\\u00f1os\", \"Entre 56 y 65 a\\u00f1os\", \"M\\u00e1s de 66 a\\u00f1os\", \"Entre 56 y 65 a\\u00f1os\", \"Entre 56 y 65 a\\u00f1os\", \"Entre 56 y 65 a\\u00f1os\", \"Entre 56 y 65 a\\u00f1os\", \"Entre 56 y 65 a\\u00f1os\", \"Entre 56 y 65 a\\u00f1os\", \"M\\u00e1s de 66 a\\u00f1os\", \"Entre 56 y 65 a\\u00f1os\", \"M\\u00e1s de 66 a\\u00f1os\", \"Entre 46 y 55 a\\u00f1os\", \"M\\u00e1s de 66 a\\u00f1os\", \"Entre 46 y 55 a\\u00f1os\", \"Entre 56 y 65 a\\u00f1os\", \"M\\u00e1s de 66 a\\u00f1os\", \"Entre 56 y 65 a\\u00f1os\", \"Entre 56 y 65 a\\u00f1os\", \"M\\u00e1s de 66 a\\u00f1os\", \"Entre 56 y 65 a\\u00f1os\", \"M\\u00e1s de 66 a\\u00f1os\", \"Entre 56 y 65 a\\u00f1os\", \"M\\u00e1s de 66 a\\u00f1os\", \"M\\u00e1s de 66 a\\u00f1os\", \"M\\u00e1s de 66 a\\u00f1os\", \"Entre 56 y 65 a\\u00f1os\", \"M\\u00e1s de 66 a\\u00f1os\", \"Entre 56 y 65 a\\u00f1os\", \"Entre 36 y 45 a\\u00f1os\", \"M\\u00e1s de 66 a\\u00f1os\", \"Entre 56 y 65 a\\u00f1os\", \"Entre 36 y 45 a\\u00f1os\", \"Entre 56 y 65 a\\u00f1os\", \"M\\u00e1s de 66 a\\u00f1os\", \"Entre 56 y 65 a\\u00f1os\", \"M\\u00e1s de 66 a\\u00f1os\", \"Entre 56 y 65 a\\u00f1os\", \"Entre 56 y 65 a\\u00f1os\", \"Entre 56 y 65 a\\u00f1os\", \"Entre 46 y 55 a\\u00f1os\", \"M\\u00e1s de 66 a\\u00f1os\", \"Entre 56 y 65 a\\u00f1os\", \"Entre 56 y 65 a\\u00f1os\", \"Entre 56 y 65 a\\u00f1os\", \"M\\u00e1s de 66 a\\u00f1os\", \"Entre 56 y 65 a\\u00f1os\", \"M\\u00e1s de 66 a\\u00f1os\", \"M\\u00e1s de 66 a\\u00f1os\", \"Entre 56 y 65 a\\u00f1os\", \"M\\u00e1s de 66 a\\u00f1os\", \"Entre 56 y 65 a\\u00f1os\", \"M\\u00e1s de 66 a\\u00f1os\", \"Entre 56 y 65 a\\u00f1os\", \"Entre 56 y 65 a\\u00f1os\", \"M\\u00e1s de 66 a\\u00f1os\", \"Entre 56 y 65 a\\u00f1os\", \"Entre 56 y 65 a\\u00f1os\", \"Entre 56 y 65 a\\u00f1os\", \"M\\u00e1s de 66 a\\u00f1os\", \"Entre 26 y 35 a\\u00f1os\", \"Entre 18 y 25 a\\u00f1os\", \"Entre 56 y 65 a\\u00f1os\", \"Entre 18 y 25 a\\u00f1os\", \"Entre 18 y 25 a\\u00f1os\", \"Entre 56 y 65 a\\u00f1os\", \"M\\u00e1s de 66 a\\u00f1os\", \"Entre 26 y 35 a\\u00f1os\", \"Entre 26 y 35 a\\u00f1os\", \"Entre 46 y 55 a\\u00f1os\", \"Entre 18 y 25 a\\u00f1os\", \"Entre 56 y 65 a\\u00f1os\", \"Entre 56 y 65 a\\u00f1os\", \"Entre 26 y 35 a\\u00f1os\", \"Entre 36 y 45 a\\u00f1os\", \"Entre 18 y 25 a\\u00f1os\", \"Menor de 18 a\\u00f1os\", \"M\\u00e1s de 66 a\\u00f1os\", \"Entre 26 y 35 a\\u00f1os\", \"Entre 18 y 25 a\\u00f1os\", \"Entre 18 y 25 a\\u00f1os\", \"Entre 26 y 35 a\\u00f1os\", \"Entre 18 y 25 a\\u00f1os\", \"Entre 26 y 35 a\\u00f1os\", \"Entre 18 y 25 a\\u00f1os\", \"Entre 26 y 35 a\\u00f1os\", \"M\\u00e1s de 66 a\\u00f1os\", \"Menor de 18 a\\u00f1os\", \"Entre 18 y 25 a\\u00f1os\", \"Entre 18 y 25 a\\u00f1os\", \"Entre 18 y 25 a\\u00f1os\", \"Entre 56 y 65 a\\u00f1os\", \"Menor de 18 a\\u00f1os\", \"Menor de 18 a\\u00f1os\", \"Entre 18 y 25 a\\u00f1os\", \"Entre 18 y 25 a\\u00f1os\", \"Entre 46 y 55 a\\u00f1os\", \"Menor de 18 a\\u00f1os\", \"Entre 18 y 25 a\\u00f1os\", \"Entre 18 y 25 a\\u00f1os\", \"Entre 56 y 65 a\\u00f1os\", \"Entre 26 y 35 a\\u00f1os\", \"Entre 26 y 35 a\\u00f1os\", \"Entre 18 y 25 a\\u00f1os\", \"Entre 36 y 45 a\\u00f1os\", \"Entre 18 y 25 a\\u00f1os\", \"Entre 18 y 25 a\\u00f1os\", \"Entre 18 y 25 a\\u00f1os\", \"Entre 46 y 55 a\\u00f1os\", \"M\\u00e1s de 66 a\\u00f1os\", \"Entre 26 y 35 a\\u00f1os\", \"Menor de 18 a\\u00f1os\", \"Entre 18 y 25 a\\u00f1os\", \"Entre 18 y 25 a\\u00f1os\", \"Entre 18 y 25 a\\u00f1os\", \"M\\u00e1s de 66 a\\u00f1os\", \"Menor de 18 a\\u00f1os\", \"Entre 26 y 35 a\\u00f1os\", \"Entre 26 y 35 a\\u00f1os\", \"Entre 18 y 25 a\\u00f1os\", \"Entre 18 y 25 a\\u00f1os\", \"Entre 26 y 35 a\\u00f1os\", \"Entre 18 y 25 a\\u00f1os\", \"Entre 26 y 35 a\\u00f1os\", \"M\\u00e1s de 66 a\\u00f1os\", \"Entre 18 y 25 a\\u00f1os\", \"Entre 18 y 25 a\\u00f1os\", \"Entre 18 y 25 a\\u00f1os\", \"Entre 26 y 35 a\\u00f1os\", \"Entre 26 y 35 a\\u00f1os\", \"M\\u00e1s de 66 a\\u00f1os\", \"Entre 26 y 35 a\\u00f1os\", \"Entre 26 y 35 a\\u00f1os\", \"Entre 18 y 25 a\\u00f1os\", \"Entre 18 y 25 a\\u00f1os\", \"Entre 56 y 65 a\\u00f1os\", \"Entre 18 y 25 a\\u00f1os\", \"Entre 18 y 25 a\\u00f1os\", \"Entre 46 y 55 a\\u00f1os\", \"Entre 26 y 35 a\\u00f1os\", \"Entre 26 y 35 a\\u00f1os\", \"Entre 26 y 35 a\\u00f1os\", \"Entre 18 y 25 a\\u00f1os\", \"Entre 26 y 35 a\\u00f1os\", \"Entre 26 y 35 a\\u00f1os\", \"Entre 26 y 35 a\\u00f1os\", \"Entre 18 y 25 a\\u00f1os\", \"Entre 18 y 25 a\\u00f1os\", \"Entre 26 y 35 a\\u00f1os\", \"Entre 26 y 35 a\\u00f1os\", \"Entre 26 y 35 a\\u00f1os\", \"Entre 56 y 65 a\\u00f1os\", \"M\\u00e1s de 66 a\\u00f1os\", \"Entre 26 y 35 a\\u00f1os\", \"Entre 56 y 65 a\\u00f1os\", \"Entre 56 y 65 a\\u00f1os\", \"Entre 26 y 35 a\\u00f1os\", \"M\\u00e1s de 66 a\\u00f1os\", \"Entre 18 y 25 a\\u00f1os\", \"Entre 26 y 35 a\\u00f1os\", \"Entre 18 y 25 a\\u00f1os\", \"Entre 26 y 35 a\\u00f1os\", \"Entre 46 y 55 a\\u00f1os\", \"Entre 36 y 45 a\\u00f1os\", \"Entre 36 y 45 a\\u00f1os\", \"Entre 36 y 45 a\\u00f1os\", \"Entre 36 y 45 a\\u00f1os\", \"Entre 36 y 45 a\\u00f1os\", \"Entre 26 y 35 a\\u00f1os\", \"Entre 46 y 55 a\\u00f1os\", \"Entre 36 y 45 a\\u00f1os\", \"Entre 36 y 45 a\\u00f1os\", \"Entre 26 y 35 a\\u00f1os\", \"Entre 36 y 45 a\\u00f1os\", \"Entre 36 y 45 a\\u00f1os\", \"Entre 36 y 45 a\\u00f1os\", \"Entre 36 y 45 a\\u00f1os\", \"Entre 36 y 45 a\\u00f1os\", \"Entre 36 y 45 a\\u00f1os\", \"Entre 36 y 45 a\\u00f1os\", \"Entre 36 y 45 a\\u00f1os\", \"Entre 26 y 35 a\\u00f1os\", \"Entre 26 y 35 a\\u00f1os\", \"Entre 36 y 45 a\\u00f1os\", \"Entre 26 y 35 a\\u00f1os\", \"Entre 26 y 35 a\\u00f1os\", \"Entre 36 y 45 a\\u00f1os\", \"Entre 26 y 35 a\\u00f1os\", \"Entre 36 y 45 a\\u00f1os\", \"Entre 36 y 45 a\\u00f1os\", \"Entre 26 y 35 a\\u00f1os\", \"Entre 36 y 45 a\\u00f1os\", \"Entre 36 y 45 a\\u00f1os\", \"Menor de 18 a\\u00f1os\", \"Entre 26 y 35 a\\u00f1os\", \"Entre 36 y 45 a\\u00f1os\", \"Entre 36 y 45 a\\u00f1os\", \"Entre 46 y 55 a\\u00f1os\", \"Entre 36 y 45 a\\u00f1os\", \"Entre 26 y 35 a\\u00f1os\", \"Entre 46 y 55 a\\u00f1os\", \"Entre 36 y 45 a\\u00f1os\", \"Entre 36 y 45 a\\u00f1os\", \"Entre 36 y 45 a\\u00f1os\", \"Entre 36 y 45 a\\u00f1os\", \"Entre 36 y 45 a\\u00f1os\", \"Entre 26 y 35 a\\u00f1os\", \"Entre 36 y 45 a\\u00f1os\", \"Entre 46 y 55 a\\u00f1os\", \"Entre 36 y 45 a\\u00f1os\", \"Entre 36 y 45 a\\u00f1os\", \"Entre 26 y 35 a\\u00f1os\", \"Entre 36 y 45 a\\u00f1os\", \"Entre 36 y 45 a\\u00f1os\", \"Entre 26 y 35 a\\u00f1os\", \"Entre 36 y 45 a\\u00f1os\", \"Entre 36 y 45 a\\u00f1os\", \"Entre 36 y 45 a\\u00f1os\", \"Entre 36 y 45 a\\u00f1os\", \"Entre 36 y 45 a\\u00f1os\", \"Entre 36 y 45 a\\u00f1os\", \"Entre 26 y 35 a\\u00f1os\", \"Entre 36 y 45 a\\u00f1os\", \"Entre 36 y 45 a\\u00f1os\", \"Entre 36 y 45 a\\u00f1os\", \"Entre 46 y 55 a\\u00f1os\", \"Entre 26 y 35 a\\u00f1os\", \"Entre 36 y 45 a\\u00f1os\", \"Entre 36 y 45 a\\u00f1os\", \"Entre 36 y 45 a\\u00f1os\", \"Entre 36 y 45 a\\u00f1os\", \"Entre 36 y 45 a\\u00f1os\", \"Entre 36 y 45 a\\u00f1os\", \"Entre 26 y 35 a\\u00f1os\", \"Entre 36 y 45 a\\u00f1os\", \"Entre 36 y 45 a\\u00f1os\", \"Entre 26 y 35 a\\u00f1os\", \"Entre 36 y 45 a\\u00f1os\", \"Entre 36 y 45 a\\u00f1os\", \"Entre 26 y 35 a\\u00f1os\", \"Entre 26 y 35 a\\u00f1os\", \"Entre 36 y 45 a\\u00f1os\", \"Entre 26 y 35 a\\u00f1os\", \"Entre 46 y 55 a\\u00f1os\", \"Entre 26 y 35 a\\u00f1os\", \"Entre 26 y 35 a\\u00f1os\", \"Entre 26 y 35 a\\u00f1os\", \"Entre 36 y 45 a\\u00f1os\", \"Entre 36 y 45 a\\u00f1os\", \"Entre 36 y 45 a\\u00f1os\", \"Entre 46 y 55 a\\u00f1os\", \"Entre 36 y 45 a\\u00f1os\", \"Entre 26 y 35 a\\u00f1os\", \"Entre 36 y 45 a\\u00f1os\", \"Entre 46 y 55 a\\u00f1os\", \"Entre 36 y 45 a\\u00f1os\", \"Entre 36 y 45 a\\u00f1os\", \"Entre 36 y 45 a\\u00f1os\", \"Entre 36 y 45 a\\u00f1os\", \"Entre 36 y 45 a\\u00f1os\"], \"xaxis\": \"x\", \"yaxis\": \"y\"}],\n",
       "                        {\"barmode\": \"relative\", \"height\": 600, \"legend\": {\"tracegroupgap\": 0}, \"template\": {\"data\": {\"bar\": [{\"error_x\": {\"color\": \"#2a3f5f\"}, \"error_y\": {\"color\": \"#2a3f5f\"}, \"marker\": {\"line\": {\"color\": \"#E5ECF6\", \"width\": 0.5}}, \"type\": \"bar\"}], \"barpolar\": [{\"marker\": {\"line\": {\"color\": \"#E5ECF6\", \"width\": 0.5}}, \"type\": \"barpolar\"}], \"carpet\": [{\"aaxis\": {\"endlinecolor\": \"#2a3f5f\", \"gridcolor\": \"white\", \"linecolor\": \"white\", \"minorgridcolor\": \"white\", \"startlinecolor\": \"#2a3f5f\"}, \"baxis\": {\"endlinecolor\": \"#2a3f5f\", \"gridcolor\": \"white\", \"linecolor\": \"white\", \"minorgridcolor\": \"white\", \"startlinecolor\": \"#2a3f5f\"}, \"type\": \"carpet\"}], \"choropleth\": [{\"colorbar\": {\"outlinewidth\": 0, \"ticks\": \"\"}, \"type\": \"choropleth\"}], \"contour\": [{\"colorbar\": {\"outlinewidth\": 0, \"ticks\": \"\"}, \"colorscale\": [[0.0, \"#0d0887\"], [0.1111111111111111, \"#46039f\"], [0.2222222222222222, \"#7201a8\"], [0.3333333333333333, \"#9c179e\"], [0.4444444444444444, \"#bd3786\"], [0.5555555555555556, \"#d8576b\"], [0.6666666666666666, \"#ed7953\"], [0.7777777777777778, \"#fb9f3a\"], [0.8888888888888888, \"#fdca26\"], [1.0, \"#f0f921\"]], \"type\": \"contour\"}], \"contourcarpet\": [{\"colorbar\": {\"outlinewidth\": 0, \"ticks\": \"\"}, \"type\": \"contourcarpet\"}], \"heatmap\": [{\"colorbar\": {\"outlinewidth\": 0, \"ticks\": \"\"}, \"colorscale\": [[0.0, \"#0d0887\"], [0.1111111111111111, \"#46039f\"], [0.2222222222222222, \"#7201a8\"], [0.3333333333333333, \"#9c179e\"], [0.4444444444444444, \"#bd3786\"], [0.5555555555555556, \"#d8576b\"], [0.6666666666666666, \"#ed7953\"], [0.7777777777777778, \"#fb9f3a\"], [0.8888888888888888, \"#fdca26\"], [1.0, \"#f0f921\"]], \"type\": \"heatmap\"}], \"heatmapgl\": [{\"colorbar\": {\"outlinewidth\": 0, \"ticks\": \"\"}, \"colorscale\": [[0.0, \"#0d0887\"], [0.1111111111111111, \"#46039f\"], [0.2222222222222222, \"#7201a8\"], [0.3333333333333333, \"#9c179e\"], [0.4444444444444444, \"#bd3786\"], [0.5555555555555556, \"#d8576b\"], [0.6666666666666666, \"#ed7953\"], [0.7777777777777778, \"#fb9f3a\"], [0.8888888888888888, \"#fdca26\"], [1.0, \"#f0f921\"]], \"type\": \"heatmapgl\"}], \"histogram\": [{\"marker\": {\"colorbar\": {\"outlinewidth\": 0, \"ticks\": \"\"}}, \"type\": \"histogram\"}], \"histogram2d\": [{\"colorbar\": {\"outlinewidth\": 0, \"ticks\": \"\"}, \"colorscale\": [[0.0, \"#0d0887\"], [0.1111111111111111, \"#46039f\"], [0.2222222222222222, \"#7201a8\"], [0.3333333333333333, \"#9c179e\"], [0.4444444444444444, \"#bd3786\"], [0.5555555555555556, \"#d8576b\"], [0.6666666666666666, \"#ed7953\"], [0.7777777777777778, \"#fb9f3a\"], [0.8888888888888888, \"#fdca26\"], [1.0, \"#f0f921\"]], \"type\": \"histogram2d\"}], \"histogram2dcontour\": [{\"colorbar\": {\"outlinewidth\": 0, \"ticks\": \"\"}, \"colorscale\": [[0.0, \"#0d0887\"], [0.1111111111111111, \"#46039f\"], [0.2222222222222222, \"#7201a8\"], [0.3333333333333333, \"#9c179e\"], [0.4444444444444444, \"#bd3786\"], [0.5555555555555556, \"#d8576b\"], [0.6666666666666666, \"#ed7953\"], [0.7777777777777778, \"#fb9f3a\"], [0.8888888888888888, \"#fdca26\"], [1.0, \"#f0f921\"]], \"type\": \"histogram2dcontour\"}], \"mesh3d\": [{\"colorbar\": {\"outlinewidth\": 0, \"ticks\": \"\"}, \"type\": \"mesh3d\"}], \"parcoords\": [{\"line\": {\"colorbar\": {\"outlinewidth\": 0, \"ticks\": \"\"}}, \"type\": \"parcoords\"}], \"pie\": [{\"automargin\": true, \"type\": \"pie\"}], \"scatter\": [{\"marker\": {\"colorbar\": {\"outlinewidth\": 0, \"ticks\": \"\"}}, \"type\": \"scatter\"}], \"scatter3d\": [{\"line\": {\"colorbar\": {\"outlinewidth\": 0, \"ticks\": \"\"}}, \"marker\": {\"colorbar\": {\"outlinewidth\": 0, \"ticks\": \"\"}}, \"type\": \"scatter3d\"}], \"scattercarpet\": [{\"marker\": {\"colorbar\": {\"outlinewidth\": 0, \"ticks\": \"\"}}, \"type\": \"scattercarpet\"}], \"scattergeo\": [{\"marker\": {\"colorbar\": {\"outlinewidth\": 0, \"ticks\": \"\"}}, \"type\": \"scattergeo\"}], \"scattergl\": [{\"marker\": {\"colorbar\": {\"outlinewidth\": 0, \"ticks\": \"\"}}, \"type\": \"scattergl\"}], \"scattermapbox\": [{\"marker\": {\"colorbar\": {\"outlinewidth\": 0, \"ticks\": \"\"}}, \"type\": \"scattermapbox\"}], \"scatterpolar\": [{\"marker\": {\"colorbar\": {\"outlinewidth\": 0, \"ticks\": \"\"}}, \"type\": \"scatterpolar\"}], \"scatterpolargl\": [{\"marker\": {\"colorbar\": {\"outlinewidth\": 0, \"ticks\": \"\"}}, \"type\": \"scatterpolargl\"}], \"scatterternary\": [{\"marker\": {\"colorbar\": {\"outlinewidth\": 0, \"ticks\": \"\"}}, \"type\": \"scatterternary\"}], \"surface\": [{\"colorbar\": {\"outlinewidth\": 0, \"ticks\": \"\"}, \"colorscale\": [[0.0, \"#0d0887\"], [0.1111111111111111, \"#46039f\"], [0.2222222222222222, \"#7201a8\"], [0.3333333333333333, \"#9c179e\"], [0.4444444444444444, \"#bd3786\"], [0.5555555555555556, \"#d8576b\"], [0.6666666666666666, \"#ed7953\"], [0.7777777777777778, \"#fb9f3a\"], [0.8888888888888888, \"#fdca26\"], [1.0, \"#f0f921\"]], \"type\": \"surface\"}], \"table\": [{\"cells\": {\"fill\": {\"color\": \"#EBF0F8\"}, \"line\": {\"color\": \"white\"}}, \"header\": {\"fill\": {\"color\": \"#C8D4E3\"}, \"line\": {\"color\": \"white\"}}, \"type\": \"table\"}]}, \"layout\": {\"annotationdefaults\": {\"arrowcolor\": \"#2a3f5f\", \"arrowhead\": 0, \"arrowwidth\": 1}, \"coloraxis\": {\"colorbar\": {\"outlinewidth\": 0, \"ticks\": \"\"}}, \"colorscale\": {\"diverging\": [[0, \"#8e0152\"], [0.1, \"#c51b7d\"], [0.2, \"#de77ae\"], [0.3, \"#f1b6da\"], [0.4, \"#fde0ef\"], [0.5, \"#f7f7f7\"], [0.6, \"#e6f5d0\"], [0.7, \"#b8e186\"], [0.8, \"#7fbc41\"], [0.9, \"#4d9221\"], [1, \"#276419\"]], \"sequential\": [[0.0, \"#0d0887\"], [0.1111111111111111, \"#46039f\"], [0.2222222222222222, \"#7201a8\"], [0.3333333333333333, \"#9c179e\"], [0.4444444444444444, \"#bd3786\"], [0.5555555555555556, \"#d8576b\"], [0.6666666666666666, \"#ed7953\"], [0.7777777777777778, \"#fb9f3a\"], [0.8888888888888888, \"#fdca26\"], [1.0, \"#f0f921\"]], \"sequentialminus\": [[0.0, \"#0d0887\"], [0.1111111111111111, \"#46039f\"], [0.2222222222222222, \"#7201a8\"], [0.3333333333333333, \"#9c179e\"], [0.4444444444444444, \"#bd3786\"], [0.5555555555555556, \"#d8576b\"], [0.6666666666666666, \"#ed7953\"], [0.7777777777777778, \"#fb9f3a\"], [0.8888888888888888, \"#fdca26\"], [1.0, \"#f0f921\"]]}, \"colorway\": [\"#636efa\", \"#EF553B\", \"#00cc96\", \"#ab63fa\", \"#FFA15A\", \"#19d3f3\", \"#FF6692\", \"#B6E880\", \"#FF97FF\", \"#FECB52\"], \"font\": {\"color\": \"#2a3f5f\"}, \"geo\": {\"bgcolor\": \"white\", \"lakecolor\": \"white\", \"landcolor\": \"#E5ECF6\", \"showlakes\": true, \"showland\": true, \"subunitcolor\": \"white\"}, \"hoverlabel\": {\"align\": \"left\"}, \"hovermode\": \"closest\", \"mapbox\": {\"style\": \"light\"}, \"paper_bgcolor\": \"white\", \"plot_bgcolor\": \"#E5ECF6\", \"polar\": {\"angularaxis\": {\"gridcolor\": \"white\", \"linecolor\": \"white\", \"ticks\": \"\"}, \"bgcolor\": \"#E5ECF6\", \"radialaxis\": {\"gridcolor\": \"white\", \"linecolor\": \"white\", \"ticks\": \"\"}}, \"scene\": {\"xaxis\": {\"backgroundcolor\": \"#E5ECF6\", \"gridcolor\": \"white\", \"gridwidth\": 2, \"linecolor\": \"white\", \"showbackground\": true, \"ticks\": \"\", \"zerolinecolor\": \"white\"}, \"yaxis\": {\"backgroundcolor\": \"#E5ECF6\", \"gridcolor\": \"white\", \"gridwidth\": 2, \"linecolor\": \"white\", \"showbackground\": true, \"ticks\": \"\", \"zerolinecolor\": \"white\"}, \"zaxis\": {\"backgroundcolor\": \"#E5ECF6\", \"gridcolor\": \"white\", \"gridwidth\": 2, \"linecolor\": \"white\", \"showbackground\": true, \"ticks\": \"\", \"zerolinecolor\": \"white\"}}, \"shapedefaults\": {\"line\": {\"color\": \"#2a3f5f\"}}, \"ternary\": {\"aaxis\": {\"gridcolor\": \"white\", \"linecolor\": \"white\", \"ticks\": \"\"}, \"baxis\": {\"gridcolor\": \"white\", \"linecolor\": \"white\", \"ticks\": \"\"}, \"bgcolor\": \"#E5ECF6\", \"caxis\": {\"gridcolor\": \"white\", \"linecolor\": \"white\", \"ticks\": \"\"}}, \"title\": {\"x\": 0.05}, \"xaxis\": {\"automargin\": true, \"gridcolor\": \"white\", \"linecolor\": \"white\", \"ticks\": \"\", \"title\": {\"standoff\": 15}, \"zerolinecolor\": \"white\", \"zerolinewidth\": 2}, \"yaxis\": {\"automargin\": true, \"gridcolor\": \"white\", \"linecolor\": \"white\", \"ticks\": \"\", \"title\": {\"standoff\": 15}, \"zerolinecolor\": \"white\", \"zerolinewidth\": 2}}}, \"title\": {\"text\": \"Distribuci\\u00f3n de los encuestados seg\\u00fan rangos etarios\"}, \"xaxis\": {\"anchor\": \"y\", \"categoryarray\": [\"Menor de 18 a\\u00f1os\", \"Entre 18 y 25 a\\u00f1os\", \"Entre 26 y 35 a\\u00f1os\", \"Entre 36 y 45 a\\u00f1os\", \"Entre 46 y 55 a\\u00f1os\", \"Entre 56 y 65 a\\u00f1os\", \"M\\u00e1s de 66 a\\u00f1os\"], \"categoryorder\": \"array\", \"domain\": [0.0, 1.0], \"title\": {\"text\": \"Edad\"}}, \"yaxis\": {\"anchor\": \"x\", \"domain\": [0.0, 1.0], \"title\": {\"text\": \" \"}}},\n",
       "                        {\"responsive\": true}\n",
       "                    ).then(function(){\n",
       "                            \n",
       "var gd = document.getElementById('ee4ae8d7-c1e5-498d-bddb-de3c3a0feca7');\n",
       "var x = new MutationObserver(function (mutations, observer) {{\n",
       "        var display = window.getComputedStyle(gd).display;\n",
       "        if (!display || display === 'none') {{\n",
       "            console.log([gd, 'removed!']);\n",
       "            Plotly.purge(gd);\n",
       "            observer.disconnect();\n",
       "        }}\n",
       "}});\n",
       "\n",
       "// Listen for the removal of the full notebook cells\n",
       "var notebookContainer = gd.closest('#notebook-container');\n",
       "if (notebookContainer) {{\n",
       "    x.observe(notebookContainer, {childList: true});\n",
       "}}\n",
       "\n",
       "// Listen for the clearing of the current output cell\n",
       "var outputEl = gd.closest('.output');\n",
       "if (outputEl) {{\n",
       "    x.observe(outputEl, {childList: true});\n",
       "}}\n",
       "\n",
       "                        })\n",
       "                };\n",
       "                });\n",
       "            </script>\n",
       "        </div>"
      ]
     },
     "metadata": {},
     "output_type": "display_data"
    }
   ],
   "source": [
    "##Grafico con distribucion por edad\n",
    "fig = px.histogram(df,  x=\"edad\", title=f\"Distribución de los encuestados según rangos etarios\",\n",
    "       labels={\"edad\": \"Edad\"})\n",
    "fig.update_layout(xaxis={'categoryorder':'array', 'categoryarray':['Menor de 18 años','Entre 18 y 25 años',\n",
    "                                                                   'Entre 26 y 35 años','Entre 36 y 45 años', \n",
    "                                                                  'Entre 46 y 55 años', 'Entre 56 y 65 años',\n",
    "                                                                  'Más de 66 años']})\n",
    "fig.update_yaxes(title_text=' ',row=1, col=1)"
   ]
  },
  {
   "cell_type": "code",
   "execution_count": 30,
   "metadata": {},
   "outputs": [],
   "source": [
    "gdf = pd.read_csv('https://raw.githubusercontent.com/lulidezan97/dashboard_demo/master/bases/dfmapa.csv')"
   ]
  },
  {
   "cell_type": "code",
   "execution_count": 45,
   "metadata": {},
   "outputs": [
    {
     "data": {
      "text/html": [
       "<div>\n",
       "<style scoped>\n",
       "    .dataframe tbody tr th:only-of-type {\n",
       "        vertical-align: middle;\n",
       "    }\n",
       "\n",
       "    .dataframe tbody tr th {\n",
       "        vertical-align: top;\n",
       "    }\n",
       "\n",
       "    .dataframe thead th {\n",
       "        text-align: right;\n",
       "    }\n",
       "</style>\n",
       "<table border=\"1\" class=\"dataframe\">\n",
       "  <thead>\n",
       "    <tr style=\"text-align: right;\">\n",
       "      <th></th>\n",
       "      <th>Unnamed: 0</th>\n",
       "      <th>ubicacion_tot</th>\n",
       "      <th>freq_porubi</th>\n",
       "    </tr>\n",
       "  </thead>\n",
       "  <tbody>\n",
       "    <tr>\n",
       "      <td>0</td>\n",
       "      <td>0</td>\n",
       "      <td>San Juan</td>\n",
       "      <td>7</td>\n",
       "    </tr>\n",
       "    <tr>\n",
       "      <td>1</td>\n",
       "      <td>1</td>\n",
       "      <td>Provincia de Buenos Aires</td>\n",
       "      <td>614</td>\n",
       "    </tr>\n",
       "    <tr>\n",
       "      <td>2</td>\n",
       "      <td>3</td>\n",
       "      <td>Ciudad Autónoma de Buenos Aires</td>\n",
       "      <td>115</td>\n",
       "    </tr>\n",
       "    <tr>\n",
       "      <td>3</td>\n",
       "      <td>5</td>\n",
       "      <td>Santa Fe</td>\n",
       "      <td>88</td>\n",
       "    </tr>\n",
       "    <tr>\n",
       "      <td>4</td>\n",
       "      <td>6</td>\n",
       "      <td>Córdoba</td>\n",
       "      <td>77</td>\n",
       "    </tr>\n",
       "    <tr>\n",
       "      <td>5</td>\n",
       "      <td>9</td>\n",
       "      <td>Salta</td>\n",
       "      <td>8</td>\n",
       "    </tr>\n",
       "    <tr>\n",
       "      <td>6</td>\n",
       "      <td>10</td>\n",
       "      <td>La Rioja</td>\n",
       "      <td>2</td>\n",
       "    </tr>\n",
       "    <tr>\n",
       "      <td>7</td>\n",
       "      <td>14</td>\n",
       "      <td>Corrientes</td>\n",
       "      <td>15</td>\n",
       "    </tr>\n",
       "    <tr>\n",
       "      <td>8</td>\n",
       "      <td>19</td>\n",
       "      <td>Santa Cruz</td>\n",
       "      <td>1</td>\n",
       "    </tr>\n",
       "    <tr>\n",
       "      <td>9</td>\n",
       "      <td>24</td>\n",
       "      <td>Misiones</td>\n",
       "      <td>20</td>\n",
       "    </tr>\n",
       "    <tr>\n",
       "      <td>10</td>\n",
       "      <td>35</td>\n",
       "      <td>Chubut</td>\n",
       "      <td>18</td>\n",
       "    </tr>\n",
       "    <tr>\n",
       "      <td>11</td>\n",
       "      <td>38</td>\n",
       "      <td>Chaco</td>\n",
       "      <td>24</td>\n",
       "    </tr>\n",
       "    <tr>\n",
       "      <td>12</td>\n",
       "      <td>40</td>\n",
       "      <td>Mendoza</td>\n",
       "      <td>34</td>\n",
       "    </tr>\n",
       "    <tr>\n",
       "      <td>13</td>\n",
       "      <td>48</td>\n",
       "      <td>San Luis</td>\n",
       "      <td>10</td>\n",
       "    </tr>\n",
       "    <tr>\n",
       "      <td>14</td>\n",
       "      <td>57</td>\n",
       "      <td>La Pampa</td>\n",
       "      <td>15</td>\n",
       "    </tr>\n",
       "    <tr>\n",
       "      <td>15</td>\n",
       "      <td>66</td>\n",
       "      <td>Entre Ríos</td>\n",
       "      <td>29</td>\n",
       "    </tr>\n",
       "    <tr>\n",
       "      <td>16</td>\n",
       "      <td>68</td>\n",
       "      <td>Jujuy</td>\n",
       "      <td>9</td>\n",
       "    </tr>\n",
       "    <tr>\n",
       "      <td>17</td>\n",
       "      <td>102</td>\n",
       "      <td>Río Negro</td>\n",
       "      <td>25</td>\n",
       "    </tr>\n",
       "    <tr>\n",
       "      <td>18</td>\n",
       "      <td>124</td>\n",
       "      <td>Tierra del Fuego</td>\n",
       "      <td>10</td>\n",
       "    </tr>\n",
       "    <tr>\n",
       "      <td>19</td>\n",
       "      <td>159</td>\n",
       "      <td>Formosa</td>\n",
       "      <td>5</td>\n",
       "    </tr>\n",
       "    <tr>\n",
       "      <td>20</td>\n",
       "      <td>236</td>\n",
       "      <td>Neuquén</td>\n",
       "      <td>18</td>\n",
       "    </tr>\n",
       "    <tr>\n",
       "      <td>21</td>\n",
       "      <td>341</td>\n",
       "      <td>Catamarca</td>\n",
       "      <td>2</td>\n",
       "    </tr>\n",
       "    <tr>\n",
       "      <td>22</td>\n",
       "      <td>449</td>\n",
       "      <td>Santiago del Estero</td>\n",
       "      <td>5</td>\n",
       "    </tr>\n",
       "  </tbody>\n",
       "</table>\n",
       "</div>"
      ],
      "text/plain": [
       "    Unnamed: 0                    ubicacion_tot  freq_porubi\n",
       "0            0                         San Juan            7\n",
       "1            1        Provincia de Buenos Aires          614\n",
       "2            3  Ciudad Autónoma de Buenos Aires          115\n",
       "3            5                         Santa Fe           88\n",
       "4            6                          Córdoba           77\n",
       "5            9                            Salta            8\n",
       "6           10                         La Rioja            2\n",
       "7           14                       Corrientes           15\n",
       "8           19                       Santa Cruz            1\n",
       "9           24                         Misiones           20\n",
       "10          35                           Chubut           18\n",
       "11          38                            Chaco           24\n",
       "12          40                          Mendoza           34\n",
       "13          48                         San Luis           10\n",
       "14          57                         La Pampa           15\n",
       "15          66                       Entre Ríos           29\n",
       "16          68                            Jujuy            9\n",
       "17         102                        Río Negro           25\n",
       "18         124                 Tierra del Fuego           10\n",
       "19         159                          Formosa            5\n",
       "20         236                          Neuquén           18\n",
       "21         341                        Catamarca            2\n",
       "22         449              Santiago del Estero            5"
      ]
     },
     "execution_count": 45,
     "metadata": {},
     "output_type": "execute_result"
    }
   ],
   "source": [
    "gdf"
   ]
  },
  {
   "cell_type": "code",
   "execution_count": 37,
   "metadata": {},
   "outputs": [],
   "source": [
    "%matplotlib inline\n",
    "import os\n",
    "import zipfile\n",
    "import geopandas as gpd\n",
    "import requests\n",
    "import fnmatch\n",
    "import pandas as pd\n",
    "import shapely.wkt"
   ]
  },
  {
   "cell_type": "code",
   "execution_count": 47,
   "metadata": {},
   "outputs": [
    {
     "ename": "FileNotFoundError",
     "evalue": "[Errno 2] No such file or directory: 'https://raw.githubusercontent.com/lulidezan97/dashboard_demo/master/bases/provincia.json'",
     "output_type": "error",
     "traceback": [
      "\u001b[0;31m---------------------------------------------------------------------------\u001b[0m",
      "\u001b[0;31mFileNotFoundError\u001b[0m                         Traceback (most recent call last)",
      "\u001b[0;32m<ipython-input-47-443030b2bea7>\u001b[0m in \u001b[0;36m<module>\u001b[0;34m\u001b[0m\n\u001b[0;32m----> 1\u001b[0;31m \u001b[0;32mwith\u001b[0m \u001b[0mopen\u001b[0m\u001b[0;34m(\u001b[0m\u001b[0;34m'https://raw.githubusercontent.com/lulidezan97/dashboard_demo/master/bases/provincia.json'\u001b[0m\u001b[0;34m)\u001b[0m \u001b[0;32mas\u001b[0m \u001b[0mresponse\u001b[0m\u001b[0;34m:\u001b[0m\u001b[0;34m\u001b[0m\u001b[0;34m\u001b[0m\u001b[0m\n\u001b[0m\u001b[1;32m      2\u001b[0m     \u001b[0mprovincias\u001b[0m \u001b[0;34m=\u001b[0m \u001b[0mjson\u001b[0m\u001b[0;34m.\u001b[0m\u001b[0mload\u001b[0m\u001b[0;34m(\u001b[0m\u001b[0mresponse\u001b[0m\u001b[0;34m)\u001b[0m\u001b[0;34m\u001b[0m\u001b[0;34m\u001b[0m\u001b[0m\n",
      "\u001b[0;31mFileNotFoundError\u001b[0m: [Errno 2] No such file or directory: 'https://raw.githubusercontent.com/lulidezan97/dashboard_demo/master/bases/provincia.json'"
     ]
    }
   ],
   "source": [
    "with open('https://raw.githubusercontent.com/lulidezan97/dashboard_demo/master/bases/provincia.json') as response:\n",
    "    provincias = json.load(response)"
   ]
  },
  {
   "cell_type": "code",
   "execution_count": null,
   "metadata": {},
   "outputs": [],
   "source": [
    "for i in range(len(provincias['features'])):\n",
    "    provincias['features'][i]['id']=provincias['features'][i]['properties']['in1']"
   ]
  },
  {
   "cell_type": "code",
   "execution_count": null,
   "metadata": {},
   "outputs": [],
   "source": [
    "provincia[['NAM','in1']]"
   ]
  },
  {
   "cell_type": "code",
   "execution_count": null,
   "metadata": {},
   "outputs": [],
   "source": [
    "gdf['id']=['70','06','02','82','14','66','46','18','78','54','26','22','50','74','42','30','38','62','94','34','58','10','86']"
   ]
  },
  {
   "cell_type": "code",
   "execution_count": null,
   "metadata": {},
   "outputs": [],
   "source": [
    "import plotly.express as px\n",
    "\n",
    "fig = px.choropleth_mapbox(df_prov, geojson=provincias, locations='id', color='freq_porubi',\n",
    "                           color_continuous_scale=[\"red\", \"green\"],\n",
    "                           range_color=(0, 700),\n",
    "                           mapbox_style=\"carto-positron\",\n",
    "                           zoom=3, center = {\"lat\": -38.416097, \"lon\": -63.616672},\n",
    "                           labels={'Respuestas':'freq_porubi'}\n",
    "                          )\n",
    "fig.update_layout(margin={\"r\":0,\"t\":0,\"l\":0,\"b\":0})\n",
    "fig.show()"
   ]
  },
  {
   "cell_type": "code",
   "execution_count": null,
   "metadata": {
    "extensions": {
     "jupyter_dashboards": {
      "version": 1,
      "views": {
       "grid_default": {},
       "report_default": {
        "hidden": true
       }
      }
     }
    }
   },
   "outputs": [],
   "source": [
    "## histograma de lo que les parece la cuarentena \n",
    "fig = px.histogram(df, x=\"opinion\",title=f\"Opiniones sobre la cuarentena\")\n",
    "fig.update_yaxes(title_text=' ',row=1, col=1)\n",
    "fig.update_xaxes(title_text=' ',row=1, col=1)"
   ]
  },
  {
   "cell_type": "code",
   "execution_count": null,
   "metadata": {},
   "outputs": [],
   "source": [
    "edades = widgets.Dropdown(\n",
    "    description='Rango etario:',\n",
    "    value='Menor de 18 años',\n",
    "    options=['Menor de 18 años','Entre 18 y 25 años','Entre 26 y 35 años','Entre 36 y 45 años', \n",
    "             'Entre 46 y 55 años', 'Entre 56 y 65 años','Más de 66 años']\n",
    ")\n",
    "container = widgets.HBox(children=[edades])"
   ]
  },
  {
   "cell_type": "code",
   "execution_count": null,
   "metadata": {
    "extensions": {
     "jupyter_dashboards": {
      "version": 1,
      "views": {
       "grid_default": {},
       "report_default": {}
      }
     }
    },
    "scrolled": false
   },
   "outputs": [],
   "source": [
    "## histograma de lo que les parece la cuarentena segun edad\n",
    "#df_1 = df.loc[df.edad==menu_1.value,:]\n",
    "#fig = px.histogram(df_1, x=\"opinion\",title=f\"Opiniones sobre la cuarentena para las personas de {menu_1.value}\")\n",
    "#fig.update_yaxes(title_text=' ',row=1, col=1)\n",
    "#fig.update_xaxes(title_text=' ',row=1, col=1)"
   ]
  },
  {
   "cell_type": "code",
   "execution_count": null,
   "metadata": {},
   "outputs": [],
   "source": [
    "# Assign an empty figure widget\n",
    "fig = go.Histogram(x=df[\"opinion\"])\n",
    "g = go.FigureWidget(data=[fig],\n",
    "                    layout=go.Layout(\n",
    "                        title=dict(\n",
    "                            text=f\"Opiniones sobre la cuarentena para las personas: {edades.value}\"\n",
    "                        )))"
   ]
  },
  {
   "cell_type": "code",
   "execution_count": null,
   "metadata": {},
   "outputs": [],
   "source": [
    "def response(change):\n",
    "    df_1 = df.loc[df.edad==edades.value,:]\n",
    "    x1 = df_1['opinion']\n",
    "    with g.batch_update():\n",
    "        g.data[0].x = x1\n",
    "        g.layout.xaxis.title = ' '\n",
    "        g.layout.yaxis.title = ''\n",
    "        g.update_layout(\n",
    "            title=f\"Opiniones sobre la cuarentena para las personas: {edades.value}\")\n",
    "edades.observe(response, names=\"value\")"
   ]
  },
  {
   "cell_type": "code",
   "execution_count": null,
   "metadata": {
    "scrolled": true
   },
   "outputs": [],
   "source": [
    "widgets.VBox([container,\n",
    "              g])"
   ]
  },
  {
   "cell_type": "code",
   "execution_count": null,
   "metadata": {},
   "outputs": [],
   "source": []
  },
  {
   "cell_type": "code",
   "execution_count": null,
   "metadata": {},
   "outputs": [],
   "source": []
  }
 ],
 "metadata": {
  "extensions": {
   "jupyter_dashboards": {
    "activeView": "grid_default",
    "version": 1,
    "views": {
     "grid_default": {
      "cellMargin": 10,
      "defaultCellHeight": 20,
      "maxColumns": 12,
      "name": "grid",
      "type": "grid"
     },
     "report_default": {
      "name": "report",
      "type": "report"
     }
    }
   }
  },
  "kernelspec": {
   "display_name": "Python 3",
   "language": "python",
   "name": "python3"
  },
  "language_info": {
   "codemirror_mode": {
    "name": "ipython",
    "version": 3
   },
   "file_extension": ".py",
   "mimetype": "text/x-python",
   "name": "python",
   "nbconvert_exporter": "python",
   "pygments_lexer": "ipython3",
   "version": "3.7.4"
  }
 },
 "nbformat": 4,
 "nbformat_minor": 2
}
