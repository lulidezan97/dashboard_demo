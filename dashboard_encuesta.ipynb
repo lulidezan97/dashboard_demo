{
 "cells": [
  {
   "cell_type": "code",
   "execution_count": null,
   "metadata": {
    "extensions": {
     "jupyter_dashboards": {
      "version": 1,
      "views": {
       "grid_default": {},
       "report_default": {
        "hidden": true
       }
      }
     }
    },
    "scrolled": false
   },
   "outputs": [],
   "source": [
    "from __future__ import print_function\n",
    "import pandas as pd\n",
    "import numpy as np\n",
    "#import textblob\n",
    "import plotly\n",
    "import plotly.graph_objects as go\n",
    "import plotly.express as px\n",
    "#import seaborn as sns\n",
    "from ipywidgets import widgets\n",
    "from ipywidgets import interact, interactive, fixed, interact_manual\n",
    "import geopandas as gpd"
   ]
  },
  {
   "cell_type": "code",
   "execution_count": null,
   "metadata": {
    "extensions": {
     "jupyter_dashboards": {
      "version": 1,
      "views": {
       "grid_default": {},
       "report_default": {
        "hidden": true
       }
      }
     }
    }
   },
   "outputs": [],
   "source": [
    "#df = pd.read_csv('df_cuestionario.csv')\n",
    "df = pd.read_csv('https://raw.githubusercontent.com/lulidezan97/dashboard_demo/master/bases/df_cuestionario.csv')"
   ]
  },
  {
   "cell_type": "code",
   "execution_count": null,
   "metadata": {
    "extensions": {
     "jupyter_dashboards": {
      "version": 1,
      "views": {
       "grid_default": {},
       "report_default": {
        "hidden": false
       }
      }
     }
    }
   },
   "outputs": [],
   "source": [
    "#df.head()"
   ]
  },
  {
   "cell_type": "markdown",
   "metadata": {
    "extensions": {
     "jupyter_dashboards": {
      "version": 1,
      "views": {
       "grid_default": {},
       "report_default": {
        "hidden": false
       }
      }
     }
    }
   },
   "source": [
    "# Reporte encuestas COVID"
   ]
  },
  {
   "cell_type": "markdown",
   "metadata": {
    "extensions": {
     "jupyter_dashboards": {
      "version": 1,
      "views": {
       "grid_default": {},
       "report_default": {
        "hidden": false
       }
      }
     }
    }
   },
   "source": [
    "### Exploración base"
   ]
  },
  {
   "cell_type": "code",
   "execution_count": null,
   "metadata": {
    "extensions": {
     "jupyter_dashboards": {
      "version": 1,
      "views": {
       "grid_default": {},
       "report_default": {
        "hidden": false
       }
      }
     }
    }
   },
   "outputs": [],
   "source": [
    "#import matplotlib\n",
    "##Grafico con distribucion por genero\n",
    "df_1 = df.loc[(df.genero.notnull()) & (df.genero!='Prefiero no contestar'),:]\n",
    "fig = px.histogram(df_1, x=\"genero\", title=f\"Distribución de los encuestados según género\",\n",
    "       labels={\"genero\": \"Género\"})\n",
    "fig.update_yaxes(title_text=' ',row=1, col=1)\n",
    "#pasar esto a donut"
   ]
  },
  {
   "cell_type": "code",
   "execution_count": null,
   "metadata": {
    "extensions": {
     "jupyter_dashboards": {
      "version": 1,
      "views": {
       "grid_default": {},
       "report_default": {
        "hidden": false
       }
      }
     }
    },
    "scrolled": true
   },
   "outputs": [],
   "source": [
    "##Grafico con distribucion por edad\n",
    "fig = px.histogram(df,  x=\"edad\", title=f\"Distribución de los encuestados según rangos etarios\",\n",
    "       labels={\"edad\": \"Edad\"})\n",
    "fig.update_layout(xaxis={'categoryorder':'array', 'categoryarray':['Menor de 18 años','Entre 18 y 25 años',\n",
    "                                                                   'Entre 26 y 35 años','Entre 36 y 45 años', \n",
    "                                                                  'Entre 46 y 55 años', 'Entre 56 y 65 años',\n",
    "                                                                  'Más de 66 años']})\n",
    "fig.update_yaxes(title_text=' ',row=1, col=1)"
   ]
  },
  {
   "cell_type": "code",
   "execution_count": null,
   "metadata": {},
   "outputs": [],
   "source": [
    "gdf = pd.read_csv('https://raw.githubusercontent.com/lulidezan97/dashboard_demo/master/bases/dfmapa.csv')"
   ]
  },
  {
   "cell_type": "code",
   "execution_count": null,
   "metadata": {},
   "outputs": [],
   "source": [
    "#gdf"
   ]
  },
  {
   "cell_type": "code",
   "execution_count": null,
   "metadata": {},
   "outputs": [],
   "source": [
    "%matplotlib inline\n",
    "import os\n",
    "import zipfile\n",
    "import geopandas as gpd\n",
    "import requests\n",
    "import fnmatch\n",
    "import pandas as pd\n",
    "import shapely.wkt"
   ]
  },
  {
   "cell_type": "code",
   "execution_count": null,
   "metadata": {},
   "outputs": [],
   "source": [
    "import simplejson as json\n",
    "from urllib.request import urlopen"
   ]
  },
  {
   "cell_type": "code",
   "execution_count": null,
   "metadata": {},
   "outputs": [],
   "source": [
    "with urlopen('https://raw.githubusercontent.com/lulidezan97/dashboard_demo/master/bases/provincia.json') as response:\n",
    "    provincias = json.load(response)"
   ]
  },
  {
   "cell_type": "code",
   "execution_count": null,
   "metadata": {},
   "outputs": [],
   "source": [
    "for i in range(len(provincias['features'])):\n",
    "    provincias['features'][i]['id']=provincias['features'][i]['properties']['in1']"
   ]
  },
  {
   "cell_type": "code",
   "execution_count": null,
   "metadata": {},
   "outputs": [],
   "source": [
    "gdf['id']=['70','06','02','82','14','66','46','18','78','54','26','22','50','74','42','30','38','62','94','34','58','10','86']"
   ]
  },
  {
   "cell_type": "code",
   "execution_count": null,
   "metadata": {},
   "outputs": [],
   "source": [
    "import plotly.express as px\n",
    "\n",
    "fig = px.choropleth_mapbox(gdf, geojson=provincias, locations='id', color='freq_porubi',\n",
    "                           color_continuous_scale=[\"red\", \"green\"],\n",
    "                           range_color=(0, 700),\n",
    "                           mapbox_style=\"carto-positron\",\n",
    "                           zoom=3, center = {\"lat\": -38.416097, \"lon\": -63.616672},\n",
    "                           labels={'Respuestas':'freq_porubi'}\n",
    "                          )\n",
    "fig.update_layout(margin={\"r\":0,\"t\":0,\"l\":0,\"b\":0})\n",
    "fig.show()"
   ]
  },
  {
   "cell_type": "code",
   "execution_count": null,
   "metadata": {
    "extensions": {
     "jupyter_dashboards": {
      "version": 1,
      "views": {
       "grid_default": {},
       "report_default": {
        "hidden": true
       }
      }
     }
    }
   },
   "outputs": [],
   "source": [
    "## histograma de lo que les parece la cuarentena \n",
    "fig = px.histogram(df, x=\"opinion\",title=f\"Opiniones sobre la cuarentena\")\n",
    "fig.update_yaxes(title_text=' ',row=1, col=1)\n",
    "fig.update_xaxes(title_text=' ',row=1, col=1)"
   ]
  },
  {
   "cell_type": "code",
   "execution_count": null,
   "metadata": {},
   "outputs": [],
   "source": [
    "edades = widgets.Dropdown(\n",
    "    description='Rango etario:',\n",
    "    value='Menor de 18 años',\n",
    "    options=['Menor de 18 años','Entre 18 y 25 años','Entre 26 y 35 años','Entre 36 y 45 años', \n",
    "             'Entre 46 y 55 años', 'Entre 56 y 65 años','Más de 66 años']\n",
    ")\n",
    "container = widgets.HBox(children=[edades])"
   ]
  },
  {
   "cell_type": "code",
   "execution_count": null,
   "metadata": {
    "extensions": {
     "jupyter_dashboards": {
      "version": 1,
      "views": {
       "grid_default": {},
       "report_default": {}
      }
     }
    },
    "scrolled": false
   },
   "outputs": [],
   "source": [
    "## histograma de lo que les parece la cuarentena segun edad\n",
    "#df_1 = df.loc[df.edad==menu_1.value,:]\n",
    "#fig = px.histogram(df_1, x=\"opinion\",title=f\"Opiniones sobre la cuarentena para las personas de {menu_1.value}\")\n",
    "#fig.update_yaxes(title_text=' ',row=1, col=1)\n",
    "#fig.update_xaxes(title_text=' ',row=1, col=1)"
   ]
  },
  {
   "cell_type": "code",
   "execution_count": null,
   "metadata": {},
   "outputs": [],
   "source": [
    "# Assign an empty figure widget\n",
    "fig = go.Histogram(x=df[\"opinion\"])\n",
    "g = go.FigureWidget(data=[fig],\n",
    "                    layout=go.Layout(\n",
    "                        title=dict(\n",
    "                            text=f\"Opiniones sobre la cuarentena para las personas: {edades.value}\"\n",
    "                        )))"
   ]
  },
  {
   "cell_type": "code",
   "execution_count": null,
   "metadata": {},
   "outputs": [],
   "source": [
    "def response(change):\n",
    "    df_1 = df.loc[df.edad==edades.value,:]\n",
    "    x1 = df_1['opinion']\n",
    "    with g.batch_update():\n",
    "        g.data[0].x = x1\n",
    "        g.layout.xaxis.title = ' '\n",
    "        g.layout.yaxis.title = ''\n",
    "        g.update_layout(\n",
    "            title=f\"Opiniones sobre la cuarentena para las personas: {edades.value}\")\n",
    "edades.observe(response, names=\"value\")"
   ]
  },
  {
   "cell_type": "code",
   "execution_count": null,
   "metadata": {
    "scrolled": true
   },
   "outputs": [],
   "source": [
    "widgets.VBox([container,\n",
    "              g])"
   ]
  },
  {
   "cell_type": "code",
   "execution_count": null,
   "metadata": {},
   "outputs": [],
   "source": []
  },
  {
   "cell_type": "code",
   "execution_count": null,
   "metadata": {},
   "outputs": [],
   "source": []
  }
 ],
 "metadata": {
  "extensions": {
   "jupyter_dashboards": {
    "activeView": "grid_default",
    "version": 1,
    "views": {
     "grid_default": {
      "cellMargin": 10,
      "defaultCellHeight": 20,
      "maxColumns": 12,
      "name": "grid",
      "type": "grid"
     },
     "report_default": {
      "name": "report",
      "type": "report"
     }
    }
   }
  },
  "kernelspec": {
   "display_name": "Python 3",
   "language": "python",
   "name": "python3"
  },
  "language_info": {
   "codemirror_mode": {
    "name": "ipython",
    "version": 3
   },
   "file_extension": ".py",
   "mimetype": "text/x-python",
   "name": "python",
   "nbconvert_exporter": "python",
   "pygments_lexer": "ipython3",
   "version": "3.7.4"
  }
 },
 "nbformat": 4,
 "nbformat_minor": 2
}
